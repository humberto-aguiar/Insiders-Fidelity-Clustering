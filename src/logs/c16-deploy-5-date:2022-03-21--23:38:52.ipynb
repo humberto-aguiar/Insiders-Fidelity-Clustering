{
 "cells": [
  {
   "cell_type": "markdown",
   "id": "3f6139d8",
   "metadata": {
    "papermill": {
     "duration": 0.085609,
     "end_time": "2022-03-21T23:38:55.666475",
     "exception": false,
     "start_time": "2022-03-21T23:38:55.580866",
     "status": "completed"
    },
    "tags": []
   },
   "source": [
    "# 0.0 Imports"
   ]
  },
  {
   "cell_type": "markdown",
   "id": "66c0c365",
   "metadata": {
    "papermill": {
     "duration": 0.091688,
     "end_time": "2022-03-21T23:38:55.844273",
     "exception": false,
     "start_time": "2022-03-21T23:38:55.752585",
     "status": "completed"
    },
    "tags": []
   },
   "source": [
    "## 0.1 Imports"
   ]
  },
  {
   "cell_type": "code",
   "execution_count": 1,
   "id": "798a2159",
   "metadata": {
    "execution": {
     "iopub.execute_input": "2022-03-21T23:38:56.026171Z",
     "iopub.status.busy": "2022-03-21T23:38:56.025486Z",
     "iopub.status.idle": "2022-03-21T23:39:05.985734Z",
     "shell.execute_reply": "2022-03-21T23:39:05.985085Z"
    },
    "papermill": {
     "duration": 10.06033,
     "end_time": "2022-03-21T23:39:05.988176",
     "exception": false,
     "start_time": "2022-03-21T23:38:55.927846",
     "status": "completed"
    },
    "tags": []
   },
   "outputs": [
    {
     "name": "stderr",
     "output_type": "stream",
     "text": [
      "/home/ubuntu/.pyenv/versions/3.8.0/envs/insiders_deploy/lib/python3.8/site-packages/tqdm/auto.py:22: TqdmWarning: IProgress not found. Please update jupyter and ipywidgets. See https://ipywidgets.readthedocs.io/en/stable/user_install.html\n",
      "  from .autonotebook import tqdm as notebook_tqdm\n"
     ]
    }
   ],
   "source": [
    "import pandas as pd\n",
    "import numpy as np\n",
    "import matplotlib.pyplot as plt\n",
    "import seaborn as sns\n",
    "import inflection\n",
    "import re\n",
    "import s3fs \n",
    "import json\n",
    "from datetime import datetime\n",
    "\n",
    "from sklearn.ensemble import RandomForestRegressor\n",
    "from sklearn.cluster import DBSCAN\n",
    "\n",
    "from umap import UMAP\n",
    "\n",
    "from sqlalchemy import create_engine\n",
    "\n",
    "import gc\n",
    "import psycopg2"
   ]
  },
  {
   "cell_type": "markdown",
   "id": "4ff4ddf4",
   "metadata": {
    "papermill": {
     "duration": 0.088683,
     "end_time": "2022-03-21T23:39:06.166130",
     "exception": false,
     "start_time": "2022-03-21T23:39:06.077447",
     "status": "completed"
    },
    "tags": []
   },
   "source": [
    "## 0.2 Helper Functions\n",
    "\n"
   ]
  },
  {
   "cell_type": "code",
   "execution_count": 2,
   "id": "e8e89544",
   "metadata": {
    "execution": {
     "iopub.execute_input": "2022-03-21T23:39:06.346118Z",
     "iopub.status.busy": "2022-03-21T23:39:06.345465Z",
     "iopub.status.idle": "2022-03-21T23:39:06.355827Z",
     "shell.execute_reply": "2022-03-21T23:39:06.355275Z"
    },
    "papermill": {
     "duration": 0.104015,
     "end_time": "2022-03-21T23:39:06.357798",
     "exception": false,
     "start_time": "2022-03-21T23:39:06.253783",
     "status": "completed"
    },
    "tags": []
   },
   "outputs": [],
   "source": [
    "# Defining some plot settings\n",
    "def jupyter_settings():\n",
    "    %matplotlib inline\n",
    "    #%pylab inline\n",
    "    #matplotlib notebook\n",
    "    plt.style.use( 'bmh' )\n",
    "    plt.rcParams['figure.figsize'] = [25, 12]\n",
    "    plt.rcParams['font.size'] = 24\n",
    "    # display( HTML( '<style>.container { width:100% !important; }</style>') )\n",
    "    pd.options.display.max_columns = None\n",
    "    pd.options.display.max_rows = None\n",
    "    pd.set_option( 'display.expand_frame_repr', False )\n",
    "    sns.set()\n",
    "\n",
    "jupyter_settings()"
   ]
  },
  {
   "cell_type": "markdown",
   "id": "79b9459f",
   "metadata": {
    "heading_collapsed": true,
    "papermill": {
     "duration": 0.085875,
     "end_time": "2022-03-21T23:39:06.540037",
     "exception": false,
     "start_time": "2022-03-21T23:39:06.454162",
     "status": "completed"
    },
    "tags": []
   },
   "source": [
    "## 0.4 Columns Description\n",
    "\n"
   ]
  },
  {
   "cell_type": "markdown",
   "id": "79a73301",
   "metadata": {
    "papermill": {
     "duration": 0.090126,
     "end_time": "2022-03-21T23:39:06.714626",
     "exception": false,
     "start_time": "2022-03-21T23:39:06.624500",
     "status": "completed"
    },
    "tags": []
   },
   "source": [
    "### Attribute Description\n",
    "- InvoiceNo Invoice number (A 6-digit integral number uniquely assigned to each transaction)\n",
    "- StockCode Product (item) code\n",
    "- Description Product (item) name\n",
    "- Quantity The quantities of each product (item) per transaction\n",
    "- InvoiceDate The day when each transaction was generated\n",
    "- UnitPrice Unit price (Product price per unit)\n",
    "- CustomerID Customer number (Unique ID assigned to each customer)\n",
    "- Country Country name (The name of the country where each customer resides)"
   ]
  },
  {
   "cell_type": "markdown",
   "id": "94c6271a",
   "metadata": {
    "papermill": {
     "duration": 0.091527,
     "end_time": "2022-03-21T23:39:06.896778",
     "exception": false,
     "start_time": "2022-03-21T23:39:06.805251",
     "status": "completed"
    },
    "tags": []
   },
   "source": [
    "# Adding data to postgress db"
   ]
  },
  {
   "cell_type": "code",
   "execution_count": 3,
   "id": "d940a1c2",
   "metadata": {
    "execution": {
     "iopub.execute_input": "2022-03-21T23:39:07.082513Z",
     "iopub.status.busy": "2022-03-21T23:39:07.081873Z",
     "iopub.status.idle": "2022-03-21T23:39:07.085373Z",
     "shell.execute_reply": "2022-03-21T23:39:07.084783Z"
    },
    "papermill": {
     "duration": 0.10335,
     "end_time": "2022-03-21T23:39:07.088480",
     "exception": false,
     "start_time": "2022-03-21T23:39:06.985130",
     "status": "completed"
    },
    "tags": []
   },
   "outputs": [],
   "source": [
    "# df1 = pd.read_csv('/home/humberto/DS/insiders_clustering/data/raw/ecommerce.csv', encoding='ISO-8859-1', sep = ',')\n"
   ]
  },
  {
   "cell_type": "code",
   "execution_count": 4,
   "id": "c48c27a5",
   "metadata": {
    "execution": {
     "iopub.execute_input": "2022-03-21T23:39:07.261968Z",
     "iopub.status.busy": "2022-03-21T23:39:07.261330Z",
     "iopub.status.idle": "2022-03-21T23:39:07.266306Z",
     "shell.execute_reply": "2022-03-21T23:39:07.265726Z"
    },
    "papermill": {
     "duration": 0.091881,
     "end_time": "2022-03-21T23:39:07.268295",
     "exception": false,
     "start_time": "2022-03-21T23:39:07.176414",
     "status": "completed"
    },
    "tags": []
   },
   "outputs": [],
   "source": [
    "# # reading credentials\n",
    "\n",
    "# # aws credentiasl\n",
    "# # path_aws_secrets = '/home/ubuntu/project/Insiders-Loyalty-Program/src/'\n",
    "# # secrets_json = open( path_aws_secrets + 'secrets-heroku.json')\n",
    "\n",
    "# # local credentiasl\n",
    "# secrets_json = open( '../secrets-heroku.json')\n",
    "\n",
    "# secrets = json.load(secrets_json)\n",
    "\n",
    "# dialect =   secrets[\"dialect\"]\n",
    "# driver =    secrets[\"driver\"]\n",
    "# host =      secrets[\"host\"]\n",
    "# username =  secrets[\"username\"]\n",
    "# password =  secrets[\"password\"]\n",
    "# port =      secrets[\"port\"]\n",
    "# database =  secrets[\"database\"]\n",
    "\n",
    "# url = \"{}+{}://{}:{}@{}:{}/{}\".format(dialect, driver, username, password, host, port, database)\n",
    "\n",
    "# url \n",
    "\n",
    "# dbschema = 'public'\n",
    "\n",
    "# # connecting to db\n",
    "# engine = create_engine(url = url, echo = True, connect_args={'options': '-csearch_path={}'.format(dbschema)} ) #, pool_pre_ping = True\n",
    "# conn = engine.connect()"
   ]
  },
  {
   "cell_type": "code",
   "execution_count": 5,
   "id": "556603fa",
   "metadata": {
    "execution": {
     "iopub.execute_input": "2022-03-21T23:39:07.451447Z",
     "iopub.status.busy": "2022-03-21T23:39:07.450799Z",
     "iopub.status.idle": "2022-03-21T23:39:07.453918Z",
     "shell.execute_reply": "2022-03-21T23:39:07.453358Z"
    },
    "papermill": {
     "duration": 0.099515,
     "end_time": "2022-03-21T23:39:07.457023",
     "exception": false,
     "start_time": "2022-03-21T23:39:07.357508",
     "status": "completed"
    },
    "tags": []
   },
   "outputs": [],
   "source": [
    "# df1.to_sql('insiders_raw', con = engine)"
   ]
  },
  {
   "cell_type": "code",
   "execution_count": 6,
   "id": "ecf79a7c",
   "metadata": {
    "execution": {
     "iopub.execute_input": "2022-03-21T23:39:07.672939Z",
     "iopub.status.busy": "2022-03-21T23:39:07.672299Z",
     "iopub.status.idle": "2022-03-21T23:39:07.675358Z",
     "shell.execute_reply": "2022-03-21T23:39:07.674776Z"
    },
    "papermill": {
     "duration": 0.097337,
     "end_time": "2022-03-21T23:39:07.678418",
     "exception": false,
     "start_time": "2022-03-21T23:39:07.581081",
     "status": "completed"
    },
    "tags": []
   },
   "outputs": [],
   "source": [
    "# conn.invalidate()\n",
    "# engine.dispose()"
   ]
  },
  {
   "cell_type": "markdown",
   "id": "4ddf66e1",
   "metadata": {
    "papermill": {
     "duration": 0.08888,
     "end_time": "2022-03-21T23:39:07.859797",
     "exception": false,
     "start_time": "2022-03-21T23:39:07.770917",
     "status": "completed"
    },
    "tags": []
   },
   "source": [
    "# 1.0 Data Description\n"
   ]
  },
  {
   "cell_type": "code",
   "execution_count": 7,
   "id": "50e246c8",
   "metadata": {
    "execution": {
     "iopub.execute_input": "2022-03-21T23:39:08.035103Z",
     "iopub.status.busy": "2022-03-21T23:39:08.034420Z",
     "iopub.status.idle": "2022-03-21T23:39:08.037720Z",
     "shell.execute_reply": "2022-03-21T23:39:08.037148Z"
    },
    "papermill": {
     "duration": 0.09258,
     "end_time": "2022-03-21T23:39:08.040864",
     "exception": false,
     "start_time": "2022-03-21T23:39:07.948284",
     "status": "completed"
    },
    "tags": []
   },
   "outputs": [],
   "source": [
    "# df1 = pd.read_csv('../data/raw/ecommerce.csv', encoding='ISO-8859-1', sep = ',')\n",
    "# df1 = pd.read_csv('/home/humberto/DS/insiders_clustering/data/raw/ecommerce.csv', encoding='ISO-8859-1', sep = ',')\n",
    "\n",
    "# Reading data from S3 Bucket:\n",
    "# path_s3 = 'https://insiders-raw-data-bucket.s3.sa-east-1.amazonaws.com/raw/'\n",
    "# df1 = pd.read_csv( path_s3 + 'ecommerce.csv', encoding='ISO-8859-1')"
   ]
  },
  {
   "cell_type": "code",
   "execution_count": 8,
   "id": "f3d5e011",
   "metadata": {
    "execution": {
     "iopub.execute_input": "2022-03-21T23:39:08.237657Z",
     "iopub.status.busy": "2022-03-21T23:39:08.237024Z",
     "iopub.status.idle": "2022-03-21T23:39:10.040424Z",
     "shell.execute_reply": "2022-03-21T23:39:10.039805Z"
    },
    "papermill": {
     "duration": 1.903677,
     "end_time": "2022-03-21T23:39:10.042748",
     "exception": false,
     "start_time": "2022-03-21T23:39:08.139071",
     "status": "completed"
    },
    "tags": []
   },
   "outputs": [
    {
     "name": "stdout",
     "output_type": "stream",
     "text": [
      "2022-03-21 23:39:09,337 INFO sqlalchemy.engine.Engine select pg_catalog.version()\n"
     ]
    },
    {
     "name": "stdout",
     "output_type": "stream",
     "text": [
      "2022-03-21 23:39:09,340 INFO sqlalchemy.engine.Engine [raw sql] {}\n"
     ]
    },
    {
     "name": "stdout",
     "output_type": "stream",
     "text": [
      "2022-03-21 23:39:09,571 INFO sqlalchemy.engine.Engine select current_schema()\n"
     ]
    },
    {
     "name": "stdout",
     "output_type": "stream",
     "text": [
      "2022-03-21 23:39:09,573 INFO sqlalchemy.engine.Engine [raw sql] {}\n"
     ]
    },
    {
     "name": "stdout",
     "output_type": "stream",
     "text": [
      "2022-03-21 23:39:09,804 INFO sqlalchemy.engine.Engine show standard_conforming_strings\n"
     ]
    },
    {
     "name": "stdout",
     "output_type": "stream",
     "text": [
      "2022-03-21 23:39:09,807 INFO sqlalchemy.engine.Engine [raw sql] {}\n"
     ]
    }
   ],
   "source": [
    "# reading data from postgresql instead of aws s3\n",
    "\n",
    "# reading credentials\n",
    "\n",
    "# aws credentiasl\n",
    "path_aws_secrets = '/home/ubuntu/project/Insiders-Loyalty-Program/src/'\n",
    "secrets_json = open( path_aws_secrets + 'secrets-heroku.json')\n",
    "\n",
    "# local credentiasl\n",
    "# secrets_json = open( '../secrets-heroku.json')\n",
    "\n",
    "secrets = json.load(secrets_json)\n",
    "\n",
    "dialect =   secrets[\"dialect\"]\n",
    "driver =    secrets[\"driver\"]\n",
    "host =      secrets[\"host\"]\n",
    "username =  secrets[\"username\"]\n",
    "password =  secrets[\"password\"]\n",
    "port =      secrets[\"port\"]\n",
    "database =  secrets[\"database\"]\n",
    "\n",
    "url = \"{}+{}://{}:{}@{}:{}/{}\".format(dialect, driver, username, password, host, port, database)\n",
    "\n",
    "url \n",
    "\n",
    "dbschema = 'public'\n",
    "\n",
    "# connecting to db\n",
    "engine = create_engine(url = url, echo = True, connect_args={'options': '-csearch_path={}'.format(dbschema)} ) #, pool_pre_ping = True\n",
    "conn = engine.connect()"
   ]
  },
  {
   "cell_type": "code",
   "execution_count": 9,
   "id": "f06e829e",
   "metadata": {
    "execution": {
     "iopub.execute_input": "2022-03-21T23:39:10.228544Z",
     "iopub.status.busy": "2022-03-21T23:39:10.228099Z"
    },
    "papermill": {
     "duration": 8.47377,
     "end_time": "2022-03-21T23:39:18.612039",
     "exception": false,
     "start_time": "2022-03-21T23:39:10.138269",
     "status": "completed"
    },
    "tags": []
   },
   "outputs": [
    {
     "name": "stdout",
     "output_type": "stream",
     "text": [
      "2022-03-21 23:39:10,230 INFO sqlalchemy.engine.Engine \n",
      "    SELECT *\n",
      "    FROM insiders_raw\n",
      "\n"
     ]
    },
    {
     "name": "stdout",
     "output_type": "stream",
     "text": [
      "2022-03-21 23:39:10,233 INFO sqlalchemy.engine.Engine [raw sql] {}\n"
     ]
    }
   ],
   "source": [
    "# defining query\n",
    "query = \"\"\"\n",
    "    SELECT *\n",
    "    FROM insiders_raw\n",
    "\"\"\"\n",
    "\n",
    "df1 = pd.read_sql_query( query, con = conn )"
   ]
  },
  {
   "cell_type": "code",
   "execution_count": null,
   "id": "0c07bea0",
   "metadata": {
    "papermill": {
     "duration": null,
     "end_time": null,
     "exception": null,
     "start_time": null,
     "status": "completed"
    },
    "tags": []
   },
   "outputs": [],
   "source": [
    "conn.invalidate()\n",
    "engine.dispose()"
   ]
  },
  {
   "cell_type": "code",
   "execution_count": null,
   "id": "9d23fc9e",
   "metadata": {
    "papermill": {
     "duration": null,
     "end_time": null,
     "exception": null,
     "start_time": null,
     "status": "completed"
    },
    "tags": []
   },
   "outputs": [],
   "source": [
    "# df1_s3.info()"
   ]
  },
  {
   "cell_type": "code",
   "execution_count": null,
   "id": "4059f433",
   "metadata": {
    "papermill": {
     "duration": null,
     "end_time": null,
     "exception": null,
     "start_time": null,
     "status": "completed"
    },
    "tags": []
   },
   "outputs": [],
   "source": [
    "if df1.shape == (541909, 9):\n",
    "    print('Dimensions ok:{}'.format(df1.shape))\n",
    "else:\n",
    "    print('Dimensions differ from expected: {}'.format(df1.shape) )"
   ]
  },
  {
   "cell_type": "markdown",
   "id": "7df8edf5",
   "metadata": {
    "hidden": true,
    "papermill": {
     "duration": null,
     "end_time": null,
     "exception": null,
     "start_time": null,
     "status": "completed"
    },
    "tags": []
   },
   "source": [
    "## 1.1 Rename Columns"
   ]
  },
  {
   "cell_type": "code",
   "execution_count": null,
   "id": "e743598e",
   "metadata": {
    "papermill": {
     "duration": null,
     "end_time": null,
     "exception": null,
     "start_time": null,
     "status": "completed"
    },
    "tags": []
   },
   "outputs": [],
   "source": [
    "cols_old = df1.columns.tolist()\n",
    "\n",
    "cols_new = [inflection.underscore(col) for col in cols_old]\n",
    "cols_new"
   ]
  },
  {
   "cell_type": "code",
   "execution_count": null,
   "id": "3e9fc579",
   "metadata": {
    "papermill": {
     "duration": null,
     "end_time": null,
     "exception": null,
     "start_time": null,
     "status": "completed"
    },
    "tags": []
   },
   "outputs": [],
   "source": [
    "df1.rename(columns = dict(zip(cols_old, cols_new)), inplace = True )"
   ]
  },
  {
   "cell_type": "markdown",
   "id": "fef8febe",
   "metadata": {
    "papermill": {
     "duration": null,
     "end_time": null,
     "exception": null,
     "start_time": null,
     "status": "completed"
    },
    "tags": []
   },
   "source": [
    "## 1.2 Data Dimensions"
   ]
  },
  {
   "cell_type": "code",
   "execution_count": null,
   "id": "49c59434",
   "metadata": {
    "papermill": {
     "duration": null,
     "end_time": null,
     "exception": null,
     "start_time": null,
     "status": "completed"
    },
    "tags": []
   },
   "outputs": [],
   "source": [
    "print( 'Number of rows: {}'.format( df1.shape[0] ) )\n",
    "print( 'Number of cols: {}'.format( df1.shape[1] ) )"
   ]
  },
  {
   "cell_type": "markdown",
   "id": "96011606",
   "metadata": {
    "papermill": {
     "duration": null,
     "end_time": null,
     "exception": null,
     "start_time": null,
     "status": "completed"
    },
    "tags": []
   },
   "source": [
    "## 1.3 Data Types"
   ]
  },
  {
   "cell_type": "code",
   "execution_count": null,
   "id": "08007fe5",
   "metadata": {
    "papermill": {
     "duration": null,
     "end_time": null,
     "exception": null,
     "start_time": null,
     "status": "completed"
    },
    "tags": []
   },
   "outputs": [],
   "source": [
    "df1.dtypes"
   ]
  },
  {
   "cell_type": "markdown",
   "id": "3a66a3c7",
   "metadata": {
    "papermill": {
     "duration": null,
     "end_time": null,
     "exception": null,
     "start_time": null,
     "status": "completed"
    },
    "tags": []
   },
   "source": [
    "## 1.4 NA Check"
   ]
  },
  {
   "cell_type": "code",
   "execution_count": null,
   "id": "4c20302d",
   "metadata": {
    "papermill": {
     "duration": null,
     "end_time": null,
     "exception": null,
     "start_time": null,
     "status": "completed"
    },
    "tags": []
   },
   "outputs": [],
   "source": [
    "df1.isna().sum()/df1.shape[0]*100"
   ]
  },
  {
   "cell_type": "code",
   "execution_count": null,
   "id": "c441dfb2",
   "metadata": {
    "papermill": {
     "duration": null,
     "end_time": null,
     "exception": null,
     "start_time": null,
     "status": "completed"
    },
    "tags": []
   },
   "outputs": [],
   "source": [
    "df1.drop(columns=['unnamed: 8'], inplace = True)\n",
    "df1.columns"
   ]
  },
  {
   "cell_type": "markdown",
   "id": "11fe7fa2",
   "metadata": {
    "papermill": {
     "duration": null,
     "end_time": null,
     "exception": null,
     "start_time": null,
     "status": "completed"
    },
    "tags": []
   },
   "source": [
    "## 1.5 NA Fillout"
   ]
  },
  {
   "cell_type": "code",
   "execution_count": null,
   "id": "87d98896",
   "metadata": {
    "papermill": {
     "duration": null,
     "end_time": null,
     "exception": null,
     "start_time": null,
     "status": "completed"
    },
    "tags": []
   },
   "outputs": [],
   "source": [
    "df1.dropna(subset=['customer_id'], axis = 0, inplace =  True)\n",
    "df1.isna().sum()"
   ]
  },
  {
   "cell_type": "markdown",
   "id": "10a41ab3",
   "metadata": {
    "papermill": {
     "duration": null,
     "end_time": null,
     "exception": null,
     "start_time": null,
     "status": "completed"
    },
    "tags": []
   },
   "source": [
    "## 1.6 Changing Data Types\n"
   ]
  },
  {
   "cell_type": "code",
   "execution_count": null,
   "id": "577aabb3",
   "metadata": {
    "papermill": {
     "duration": null,
     "end_time": null,
     "exception": null,
     "start_time": null,
     "status": "completed"
    },
    "tags": []
   },
   "outputs": [],
   "source": [
    "df1.head()"
   ]
  },
  {
   "cell_type": "code",
   "execution_count": null,
   "id": "d338f811",
   "metadata": {
    "papermill": {
     "duration": null,
     "end_time": null,
     "exception": null,
     "start_time": null,
     "status": "completed"
    },
    "tags": []
   },
   "outputs": [],
   "source": [
    "df1.dtypes"
   ]
  },
  {
   "cell_type": "code",
   "execution_count": null,
   "id": "980bce11",
   "metadata": {
    "papermill": {
     "duration": null,
     "end_time": null,
     "exception": null,
     "start_time": null,
     "status": "completed"
    },
    "tags": []
   },
   "outputs": [],
   "source": [
    "df1['invoice_date'] = pd.to_datetime( df1['invoice_date'], format = '%d-%b-%y' )\n",
    "\n",
    "df1['customer_id'] = df1['customer_id'].astype(int)\n",
    "\n",
    "df1.head()"
   ]
  },
  {
   "cell_type": "code",
   "execution_count": null,
   "id": "884b09f2",
   "metadata": {
    "papermill": {
     "duration": null,
     "end_time": null,
     "exception": null,
     "start_time": null,
     "status": "completed"
    },
    "tags": []
   },
   "outputs": [],
   "source": [
    "df1.dtypes"
   ]
  },
  {
   "cell_type": "markdown",
   "id": "230ece02",
   "metadata": {
    "papermill": {
     "duration": null,
     "end_time": null,
     "exception": null,
     "start_time": null,
     "status": "completed"
    },
    "tags": []
   },
   "source": [
    "## 1.7 Descriptive Statistics"
   ]
  },
  {
   "cell_type": "markdown",
   "id": "b1411b97",
   "metadata": {
    "papermill": {
     "duration": null,
     "end_time": null,
     "exception": null,
     "start_time": null,
     "status": "completed"
    },
    "tags": []
   },
   "source": [
    "### 1.7.1 Numerical Attributes"
   ]
  },
  {
   "cell_type": "code",
   "execution_count": null,
   "id": "31ed8b2b",
   "metadata": {
    "papermill": {
     "duration": null,
     "end_time": null,
     "exception": null,
     "start_time": null,
     "status": "completed"
    },
    "tags": []
   },
   "outputs": [],
   "source": [
    "num_att = df1.select_dtypes(include= ['int','float'])\n",
    "d1 = pd.DataFrame( num_att.min() ).T\n",
    "d2 = pd.DataFrame( num_att.max() ).T\n",
    "d3 = pd.DataFrame( num_att.max() - num_att.min() ).T\n",
    "d4 = pd.DataFrame( num_att.mean() ).T\n",
    "d5 = pd.DataFrame( num_att.median() ).T\n",
    "d6 = pd.DataFrame( num_att.std() ).T\n",
    "d7 = pd.DataFrame( num_att.skew() ).T\n",
    "d8 = pd.DataFrame( num_att.kurtosis() ).T\n",
    "\n",
    "desc = pd.concat( [d1, d2, d3, d4, d5, d6, d7, d8] ).T\n",
    "desc.columns = ['min', 'max', 'range', 'mean', 'median', 'std', 'skew', 'kurtosis' ]\n",
    "desc.style.format( \"{:,.2f}\" )"
   ]
  },
  {
   "cell_type": "markdown",
   "id": "464ae132",
   "metadata": {
    "heading_collapsed": true,
    "papermill": {
     "duration": null,
     "end_time": null,
     "exception": null,
     "start_time": null,
     "status": "completed"
    },
    "tags": []
   },
   "source": [
    "# 2.0 Data Filtering"
   ]
  },
  {
   "cell_type": "markdown",
   "id": "1aac8705",
   "metadata": {
    "papermill": {
     "duration": null,
     "end_time": null,
     "exception": null,
     "start_time": null,
     "status": "completed"
    },
    "tags": []
   },
   "source": [
    "## 2.1 Data Inspection"
   ]
  },
  {
   "cell_type": "code",
   "execution_count": null,
   "id": "d7b4ded6",
   "metadata": {
    "papermill": {
     "duration": null,
     "end_time": null,
     "exception": null,
     "start_time": null,
     "status": "completed"
    },
    "tags": []
   },
   "outputs": [],
   "source": [
    "df2 = df1.copy()\n",
    "\n",
    "del df1\n",
    "gc.collect()"
   ]
  },
  {
   "cell_type": "markdown",
   "id": "4515bce0",
   "metadata": {
    "papermill": {
     "duration": null,
     "end_time": null,
     "exception": null,
     "start_time": null,
     "status": "completed"
    },
    "tags": []
   },
   "source": [
    "### Stock Code"
   ]
  },
  {
   "cell_type": "code",
   "execution_count": null,
   "id": "6d3081cb",
   "metadata": {
    "papermill": {
     "duration": null,
     "end_time": null,
     "exception": null,
     "start_time": null,
     "status": "completed"
    },
    "tags": []
   },
   "outputs": [],
   "source": [
    "# selecting rows with only non digits\n",
    "df_stock = df2.loc[df2['stock_code'].apply( lambda x: bool(re.search('^[\\D]+$', x)) )]\n",
    "df_stock.head(10)"
   ]
  },
  {
   "cell_type": "code",
   "execution_count": null,
   "id": "8401ab94",
   "metadata": {
    "papermill": {
     "duration": null,
     "end_time": null,
     "exception": null,
     "start_time": null,
     "status": "completed"
    },
    "tags": []
   },
   "outputs": [],
   "source": [
    "# values to remove\n",
    "drop_stock = df_stock['stock_code'].unique().tolist()\n",
    "\n",
    "df_stock['stock_code'].value_counts()"
   ]
  },
  {
   "cell_type": "markdown",
   "id": "eff56f1e",
   "metadata": {
    "papermill": {
     "duration": null,
     "end_time": null,
     "exception": null,
     "start_time": null,
     "status": "completed"
    },
    "tags": []
   },
   "source": [
    "### Country"
   ]
  },
  {
   "cell_type": "code",
   "execution_count": null,
   "id": "6a3dd1a7",
   "metadata": {
    "papermill": {
     "duration": null,
     "end_time": null,
     "exception": null,
     "start_time": null,
     "status": "completed"
    },
    "tags": []
   },
   "outputs": [],
   "source": [
    "#countries to drop\n",
    "drop_country = ['Unspecified', 'European Community']"
   ]
  },
  {
   "cell_type": "markdown",
   "id": "0d1e5973",
   "metadata": {
    "papermill": {
     "duration": null,
     "end_time": null,
     "exception": null,
     "start_time": null,
     "status": "completed"
    },
    "tags": []
   },
   "source": [
    "## 2.2 Data Filtering"
   ]
  },
  {
   "cell_type": "code",
   "execution_count": null,
   "id": "4c50d35a",
   "metadata": {
    "papermill": {
     "duration": null,
     "end_time": null,
     "exception": null,
     "start_time": null,
     "status": "completed"
    },
    "tags": []
   },
   "outputs": [],
   "source": [
    "# dropping stock code\n",
    "df2 = df2.loc[~ df2['stock_code'].isin(drop_stock)]\n",
    "\n",
    "# dropping countries\n",
    "df2 = df2.loc[~ df2['country'].isin(drop_country)]\n"
   ]
  },
  {
   "cell_type": "markdown",
   "id": "f2cc3761",
   "metadata": {
    "papermill": {
     "duration": null,
     "end_time": null,
     "exception": null,
     "start_time": null,
     "status": "completed"
    },
    "tags": []
   },
   "source": [
    "# 3.0 Feature Engineering"
   ]
  },
  {
   "cell_type": "markdown",
   "id": "d868ba63",
   "metadata": {
    "papermill": {
     "duration": null,
     "end_time": null,
     "exception": null,
     "start_time": null,
     "status": "completed"
    },
    "tags": []
   },
   "source": [
    "Now lets calculate recency, frequency and monetary using only purchases (not considering returns as a interaction)"
   ]
  },
  {
   "cell_type": "code",
   "execution_count": null,
   "id": "24d44be1",
   "metadata": {
    "papermill": {
     "duration": null,
     "end_time": null,
     "exception": null,
     "start_time": null,
     "status": "completed"
    },
    "tags": []
   },
   "outputs": [],
   "source": [
    "# Reading Data\n",
    "df3 = df2.copy()\n",
    "\n",
    "# df3 = pd.read_csv('../data/interim/df2.csv', float_precision='round_trip')\n",
    "# df3['invoice_date'] = pd.to_datetime( df3['invoice_date'] )\n",
    "\n",
    "# separating returns from purchases\n",
    "df_returns = df3.loc[ df3['quantity'] < 0 ]\n",
    "df_purchases = df3.loc[ df3['quantity'] >= 0 ]\n",
    "\n",
    "del df2\n",
    "gc.collect()"
   ]
  },
  {
   "cell_type": "markdown",
   "id": "7f412240",
   "metadata": {
    "papermill": {
     "duration": null,
     "end_time": null,
     "exception": null,
     "start_time": null,
     "status": "completed"
    },
    "tags": []
   },
   "source": [
    "### Recency"
   ]
  },
  {
   "cell_type": "code",
   "execution_count": null,
   "id": "bf502b61",
   "metadata": {
    "papermill": {
     "duration": null,
     "end_time": null,
     "exception": null,
     "start_time": null,
     "status": "completed"
    },
    "tags": []
   },
   "outputs": [],
   "source": [
    "# days since last purchase (considering first day as day after last invoice)\n",
    "df_recency = df_purchases[['customer_id', 'invoice_date']].copy()\n",
    "df_recency = df_recency.drop_duplicates(subset = 'customer_id', keep = 'last')\n",
    "\n",
    "# using final date as max date + 1\n",
    "df_recency['recency'] =  (pd.to_datetime('2017-12-08') - df_recency['invoice_date']).dt.days\n",
    "df_recency.drop(columns=['invoice_date'], inplace = True)\n"
   ]
  },
  {
   "cell_type": "markdown",
   "id": "b61d2862",
   "metadata": {
    "papermill": {
     "duration": null,
     "end_time": null,
     "exception": null,
     "start_time": null,
     "status": "completed"
    },
    "tags": []
   },
   "source": [
    "### Average Days Between Purchases"
   ]
  },
  {
   "cell_type": "code",
   "execution_count": null,
   "id": "03988d88",
   "metadata": {
    "papermill": {
     "duration": null,
     "end_time": null,
     "exception": null,
     "start_time": null,
     "status": "completed"
    },
    "tags": []
   },
   "outputs": [],
   "source": [
    "df_dates = df_purchases[['customer_id', 'invoice_date']].copy()\n",
    "\n",
    "# creates a column with the dates shifted by 1 to calculate difference betwenn last purchase and previous purchase\n",
    "df_dates = df_dates.drop_duplicates()\n",
    "df_dates['previous_date'] = df_dates.groupby('customer_id')['invoice_date'].shift()\n",
    "\n",
    "# extracts days betwenn last purchase and previous purchase for each pair of dates\n",
    "df_dates['days'] = df_dates.apply(lambda x : (x['invoice_date'] - x['previous_date']).days , axis = 1 )\n",
    "\n",
    "# calculating average of days between purchases\n",
    "df_dates = df_dates[['customer_id', 'days']].groupby('customer_id').mean().reset_index().rename(columns = {'days': 'avg_days_bw_purchases'})\n",
    "\n",
    "df_dates.fillna(value = 0, inplace = True)\n",
    "# df_dates.head()"
   ]
  },
  {
   "cell_type": "code",
   "execution_count": null,
   "id": "51ebe18d",
   "metadata": {
    "papermill": {
     "duration": null,
     "end_time": null,
     "exception": null,
     "start_time": null,
     "status": "completed"
    },
    "tags": []
   },
   "outputs": [],
   "source": [
    "df_dates = df_purchases[['customer_id', 'invoice_date']].copy()\n",
    "\n",
    "# creates a column with the dates shifted by 1 to calculate difference betwenn last purchase and previous purchase\n",
    "df_dates = df_dates.drop_duplicates()\n",
    "df_dates['previous_date'] = df_dates.groupby('customer_id')['invoice_date'].shift()\n",
    "\n",
    "# # extracts days betwenn last purchase and previous purchase for each pair of dates\n",
    "df_dates['days'] = df_dates.apply(lambda x : (x['invoice_date'] - x['previous_date']).days , axis = 1 )\n",
    "\n",
    "# # calculating average of days between purchases\n",
    "df_dates = df_dates[['customer_id', 'days']].groupby('customer_id').mean().reset_index().rename(columns = {'days': 'avg_days_bw_purchases'})\n",
    "\n",
    "df_dates.fillna(value = 0, inplace = True)\n",
    "# df_dates.isna().sum()\n",
    "# df_dates[df_dates.customer_id == 12346] #.mean()\n",
    "# df_dates.head()"
   ]
  },
  {
   "cell_type": "markdown",
   "id": "0bc77ab1",
   "metadata": {
    "papermill": {
     "duration": null,
     "end_time": null,
     "exception": null,
     "start_time": null,
     "status": "completed"
    },
    "tags": []
   },
   "source": [
    "### Frequency"
   ]
  },
  {
   "cell_type": "code",
   "execution_count": null,
   "id": "ad84defc",
   "metadata": {
    "papermill": {
     "duration": null,
     "end_time": null,
     "exception": null,
     "start_time": null,
     "status": "completed"
    },
    "tags": []
   },
   "outputs": [],
   "source": [
    "# Frequency\n",
    "# nº of purchases a customer did\n",
    "df_freq = df_purchases[['invoice_no', 'customer_id']].drop_duplicates('invoice_no').groupby(['customer_id']).count().reset_index().rename(columns = {'invoice_no' : 'num_purchases'} ) #'invoice_date',  #['num_of_purchases']\n",
    "\n",
    "# difference between firts and last transaction\n",
    "# if nº purchases made = 1: date range =  today - first purchase date\n",
    "# else last purchase - first purchase\n",
    "func = lambda x: (x.max() - x.min() if (x.max() - x.min()).days != 0 else pd.to_datetime('2017-12-08') - x.min() ).days\n",
    "\n",
    "# aggregating things\n",
    "df_date_range = df_purchases[[ 'customer_id', 'invoice_date' ]].groupby('customer_id').agg( func ).reset_index().rename(columns = {'invoice_date' : 'date_range'})\n",
    "\n",
    "df_freq = df_freq.merge(df_date_range, on = 'customer_id', how = 'left')\n",
    "df_freq['frequency'] = df_freq['num_purchases']/df_freq['date_range']\n",
    "\n",
    "# df_freq.head()"
   ]
  },
  {
   "cell_type": "markdown",
   "id": "5ea363ac",
   "metadata": {
    "papermill": {
     "duration": null,
     "end_time": null,
     "exception": null,
     "start_time": null,
     "status": "completed"
    },
    "tags": []
   },
   "source": [
    "### Revenue"
   ]
  },
  {
   "cell_type": "code",
   "execution_count": null,
   "id": "53445dfc",
   "metadata": {
    "papermill": {
     "duration": null,
     "end_time": null,
     "exception": null,
     "start_time": null,
     "status": "completed"
    },
    "tags": []
   },
   "outputs": [],
   "source": [
    "# revenue\n",
    "# copying from original dataset so that revenue represents net earnings (purchases - returns)\n",
    "df_revenue = df3[['unit_price','quantity','customer_id']].copy()\n",
    "df_revenue['quantity'] = df_revenue['quantity'].astype(float)\n",
    "df_revenue['customer_spend'] = df_revenue['unit_price']*df_revenue['quantity']\n",
    "\n",
    "# calculating revenue\n",
    "df_revenue = df_revenue[['customer_id', 'customer_spend']].groupby('customer_id').sum().reset_index().rename(columns = {'customer_spend' : 'revenue'})\n",
    "\n",
    "# defining number of purchases\n",
    "df_revenue = df_revenue.merge( df_freq[['customer_id', 'num_purchases']], on = 'customer_id', how = 'left' )\n",
    "\n",
    "# calculating avg ticket\n",
    "df_revenue['avg_ticket'] = df_revenue['revenue']/df_revenue['num_purchases']\n",
    "df_revenue.drop('num_purchases', axis = 1, inplace = True)\n",
    "\n",
    "# # deleting rows that we have data about return and not about purchase (purchase outside time frame of dataset)\n",
    "df_revenue = df_revenue[ df_revenue['revenue'] > 0.1 ].copy()\n",
    "# df_revenue.head()"
   ]
  },
  {
   "cell_type": "markdown",
   "id": "ccea0462",
   "metadata": {
    "papermill": {
     "duration": null,
     "end_time": null,
     "exception": null,
     "start_time": null,
     "status": "completed"
    },
    "tags": []
   },
   "source": [
    "### Basket Size"
   ]
  },
  {
   "cell_type": "code",
   "execution_count": null,
   "id": "7a0158d0",
   "metadata": {
    "papermill": {
     "duration": null,
     "end_time": null,
     "exception": null,
     "start_time": null,
     "status": "completed"
    },
    "tags": []
   },
   "outputs": [],
   "source": [
    "# selecting cols\n",
    "df_basket = df3[['customer_id', 'invoice_no', 'quantity']].copy()\n",
    "\n",
    "# counting items per invoice\n",
    "df_basket = df_basket.groupby(['customer_id', 'invoice_no']).sum().reset_index()\n",
    "\n",
    "# calculating quantity of items purchased + avg basket size (men of quantities)\n",
    "df_basket = df_basket.groupby(['customer_id']).agg( qty_items = ('quantity', 'sum'), avg_basket_size = ('quantity', 'mean') ).reset_index()\n",
    "\n",
    "# renaming\n",
    "df_basket = df_basket.rename( columns = {'quantity' : 'avg_basket_size'})\n",
    "\n",
    "# df_basket.head()"
   ]
  },
  {
   "cell_type": "markdown",
   "id": "5761a023",
   "metadata": {
    "papermill": {
     "duration": null,
     "end_time": null,
     "exception": null,
     "start_time": null,
     "status": "completed"
    },
    "tags": []
   },
   "source": [
    "### Average Unique Products Purchased Quantity"
   ]
  },
  {
   "cell_type": "code",
   "execution_count": null,
   "id": "ab95fcd4",
   "metadata": {
    "papermill": {
     "duration": null,
     "end_time": null,
     "exception": null,
     "start_time": null,
     "status": "completed"
    },
    "tags": []
   },
   "outputs": [],
   "source": [
    "# selecting cols\n",
    "df_unique = df_purchases[['customer_id', 'invoice_no', 'stock_code']].copy()\n",
    "\n",
    "# counting number of different products per invoice\n",
    "df_unique = df_unique.groupby(['customer_id', 'invoice_no']).nunique().reset_index()\n",
    "\n",
    "# calculating mean of items per invoice\n",
    "df_unique = df_unique.groupby(['customer_id']).mean().reset_index()\n",
    "\n",
    "# # renaming\n",
    "df_unique = df_unique.rename( columns = {'stock_code' : 'avg_unique_prods'})\n",
    "\n",
    "# df_unique.head()"
   ]
  },
  {
   "cell_type": "markdown",
   "id": "62550310",
   "metadata": {
    "papermill": {
     "duration": null,
     "end_time": null,
     "exception": null,
     "start_time": null,
     "status": "completed"
    },
    "tags": []
   },
   "source": [
    "### Returns"
   ]
  },
  {
   "cell_type": "code",
   "execution_count": null,
   "id": "78ed508a",
   "metadata": {
    "papermill": {
     "duration": null,
     "end_time": null,
     "exception": null,
     "start_time": null,
     "status": "completed"
    },
    "tags": []
   },
   "outputs": [],
   "source": [
    "# creating returns variables\n",
    "\n",
    "df_returns = df_returns[['quantity', 'invoice_date', 'unit_price', 'customer_id', 'invoice_no']]\n",
    "\n",
    "df_returns['customer_spend'] = df_returns['unit_price']*df_returns['quantity']\n",
    "\n",
    "# sum and mean of revenue\n",
    "df_returns_metrics = df_returns[['customer_id', 'customer_spend', 'quantity']].groupby('customer_id').agg( \n",
    "    returns_revenue = ('customer_spend', 'sum'),\n",
    "    avg_return_revenue = ('customer_spend', 'mean'),\n",
    "    num_returns = ('customer_spend', 'count'),\n",
    "    qty_returned = ('quantity', 'sum')  )\n",
    "\n",
    "df_returns_metrics = pd.DataFrame( df_returns_metrics.to_records() )\n",
    "\n",
    "# df_returns_metrics.head()"
   ]
  },
  {
   "cell_type": "code",
   "execution_count": null,
   "id": "dca5da3a",
   "metadata": {
    "papermill": {
     "duration": null,
     "end_time": null,
     "exception": null,
     "start_time": null,
     "status": "completed"
    },
    "tags": []
   },
   "outputs": [],
   "source": [
    "# merging every feature together\n",
    "\n",
    "df_processed = df_purchases[['customer_id', 'country']].drop_duplicates('customer_id').copy()\n",
    "df_processed = pd.merge( df_processed, df_recency, on = 'customer_id', how = 'left' )\n",
    "df_processed = pd.merge( df_processed, df_dates, on = 'customer_id', how = 'left' )\n",
    "df_processed = pd.merge( df_processed, df_freq, on = 'customer_id', how = 'left' )\n",
    "df_processed = pd.merge( df_processed, df_revenue, on = 'customer_id', how = 'inner' )\n",
    "df_processed = pd.merge( df_processed, df_basket, on = 'customer_id', how = 'left' )\n",
    "df_processed = pd.merge( df_processed, df_unique, on = 'customer_id', how = 'left' )\n",
    "df_processed = pd.merge( df_processed, df_returns_metrics, on = 'customer_id', how = 'left' )\n",
    "\n",
    "\n",
    "# filling na as 0 for customers that never returned an item\n",
    "df_processed.fillna(value = 0, inplace = True)\n",
    "\n",
    "# df_processed.dropna( inplace = True)\n",
    "# df_processed.isna().sum()\n",
    "# df_processed.head(10)\n",
    "df_processed.shape"
   ]
  },
  {
   "cell_type": "code",
   "execution_count": null,
   "id": "8ba404eb",
   "metadata": {
    "papermill": {
     "duration": null,
     "end_time": null,
     "exception": null,
     "start_time": null,
     "status": "completed"
    },
    "tags": []
   },
   "outputs": [],
   "source": [
    "# df_processed.to_csv('../data/processed/df3_processed.csv', index = False)"
   ]
  },
  {
   "cell_type": "markdown",
   "id": "2fd67cf5",
   "metadata": {
    "heading_collapsed": true,
    "papermill": {
     "duration": null,
     "end_time": null,
     "exception": null,
     "start_time": null,
     "status": "completed"
    },
    "tags": []
   },
   "source": [
    "# 4.0 Exploratory Data Analysis"
   ]
  },
  {
   "cell_type": "code",
   "execution_count": null,
   "id": "3cda660f",
   "metadata": {
    "papermill": {
     "duration": null,
     "end_time": null,
     "exception": null,
     "start_time": null,
     "status": "completed"
    },
    "tags": []
   },
   "outputs": [],
   "source": [
    "# Reading filtered data\n",
    "# df4 = pd.read_csv('../data/processed/df3_processed.csv')\n",
    "df4 = df_processed.copy()\n",
    "\n",
    "del df3, df_processed, df_returns, df_purchases \n",
    "gc.collect()"
   ]
  },
  {
   "cell_type": "markdown",
   "id": "ec50db09",
   "metadata": {
    "heading_collapsed": true,
    "hidden": true,
    "papermill": {
     "duration": null,
     "end_time": null,
     "exception": null,
     "start_time": null,
     "status": "completed"
    },
    "tags": []
   },
   "source": [
    "## 4.1 Univariate Analysis"
   ]
  },
  {
   "cell_type": "code",
   "execution_count": null,
   "id": "856249f4",
   "metadata": {
    "papermill": {
     "duration": null,
     "end_time": null,
     "exception": null,
     "start_time": null,
     "status": "completed"
    },
    "tags": []
   },
   "outputs": [],
   "source": [
    "### Returns\n",
    "\n",
    "df4.sort_values(['returns_revenue'], ascending = True).head()\n",
    "\n",
    "# This is propably an anomaly, error, or some data purposely inserted for unknown reasons\n",
    "# df3[df3.customer_id == 16446]\n",
    "# df3[df3.customer_id == 12346]\n",
    "\n",
    "# These customers indeed appear to have returned high quantities\n",
    "# df3[df3.customer_id == 15749]\n",
    "# df3[df3.customer_id == 16029]\n",
    "# df3[df3.customer_id == 12931]\n",
    "\n",
    "# droping weird behaviour\n",
    "cust_drop = [16446, 12346]\n",
    "df4 = df4[ ~ df4['customer_id'].isin(cust_drop)].copy()"
   ]
  },
  {
   "cell_type": "code",
   "execution_count": null,
   "id": "a6545e0a",
   "metadata": {
    "papermill": {
     "duration": null,
     "end_time": null,
     "exception": null,
     "start_time": null,
     "status": "completed"
    },
    "tags": []
   },
   "outputs": [],
   "source": [
    "df4.shape"
   ]
  },
  {
   "cell_type": "markdown",
   "id": "6616d12d",
   "metadata": {
    "heading_collapsed": true,
    "papermill": {
     "duration": null,
     "end_time": null,
     "exception": null,
     "start_time": null,
     "status": "completed"
    },
    "tags": []
   },
   "source": [
    "# 5.0 Data Preparation"
   ]
  },
  {
   "cell_type": "markdown",
   "id": "11868e00",
   "metadata": {
    "hidden": true,
    "papermill": {
     "duration": null,
     "end_time": null,
     "exception": null,
     "start_time": null,
     "status": "completed"
    },
    "tags": []
   },
   "source": [
    "## 5.1 Numerical Variables Preparation"
   ]
  },
  {
   "cell_type": "code",
   "execution_count": null,
   "id": "ed87e1b9",
   "metadata": {
    "papermill": {
     "duration": null,
     "end_time": null,
     "exception": null,
     "start_time": null,
     "status": "completed"
    },
    "tags": []
   },
   "outputs": [],
   "source": [
    "# df5 = pd.read_csv('../data/processed/df4_processed.csv', float_precision = 'round_trip')\n",
    "df5 = df4.copy()\n",
    "df5.shape"
   ]
  },
  {
   "cell_type": "code",
   "execution_count": null,
   "id": "69d8aa41",
   "metadata": {
    "papermill": {
     "duration": null,
     "end_time": null,
     "exception": null,
     "start_time": null,
     "status": "completed"
    },
    "tags": []
   },
   "outputs": [],
   "source": [
    "df5.info()"
   ]
  },
  {
   "cell_type": "code",
   "execution_count": null,
   "id": "b13a02d2",
   "metadata": {
    "papermill": {
     "duration": null,
     "end_time": null,
     "exception": null,
     "start_time": null,
     "status": "completed"
    },
    "tags": []
   },
   "outputs": [],
   "source": [
    "del df4\n",
    "gc.collect()"
   ]
  },
  {
   "cell_type": "markdown",
   "id": "390d8942",
   "metadata": {
    "hidden": true,
    "papermill": {
     "duration": null,
     "end_time": null,
     "exception": null,
     "start_time": null,
     "status": "completed"
    },
    "tags": []
   },
   "source": [
    "### 5.1.1 Describing"
   ]
  },
  {
   "cell_type": "code",
   "execution_count": null,
   "id": "3334658b",
   "metadata": {
    "papermill": {
     "duration": null,
     "end_time": null,
     "exception": null,
     "start_time": null,
     "status": "completed"
    },
    "tags": []
   },
   "outputs": [],
   "source": [
    "# df3.hist();\n",
    "num_att = df5.select_dtypes(include= ['int','float'])\n",
    "d1 = pd.DataFrame( num_att.min() ).T\n",
    "d2 = pd.DataFrame( num_att.max() ).T\n",
    "d3 = pd.DataFrame( num_att.max() - num_att.min() ).T\n",
    "d4 = pd.DataFrame( num_att.mean() ).T\n",
    "d5 = pd.DataFrame( num_att.median() ).T\n",
    "d6 = pd.DataFrame( num_att.std() ).T\n",
    "d7 = pd.DataFrame( num_att.skew() ).T\n",
    "d8 = pd.DataFrame( num_att.kurtosis() ).T\n",
    "\n",
    "desc = pd.concat( [d1, d2, d3, d4, d5, d6, d7, d8] ).T\n",
    "desc.columns = ['min', 'max', 'range', 'mean', 'median', 'std', 'skew', 'kurtosis' ]\n",
    "desc.style.format( \"{:,.2f}\" )"
   ]
  },
  {
   "cell_type": "markdown",
   "id": "1ab619a8",
   "metadata": {
    "heading_collapsed": true,
    "papermill": {
     "duration": null,
     "end_time": null,
     "exception": null,
     "start_time": null,
     "status": "completed"
    },
    "tags": []
   },
   "source": [
    "# 6.0 Feature Selection"
   ]
  },
  {
   "cell_type": "markdown",
   "id": "23a40a6a",
   "metadata": {
    "papermill": {
     "duration": null,
     "end_time": null,
     "exception": null,
     "start_time": null,
     "status": "completed"
    },
    "tags": []
   },
   "source": [
    "## 6.3 Selected Embedding Space"
   ]
  },
  {
   "cell_type": "code",
   "execution_count": null,
   "id": "ea879ff9",
   "metadata": {
    "papermill": {
     "duration": null,
     "end_time": null,
     "exception": null,
     "start_time": null,
     "status": "completed"
    },
    "tags": []
   },
   "outputs": [],
   "source": [
    "# selecting most important features. Removing ('avg_basket_size', 'avg_days_bw_purchases', 'avg_return_revenue', 'date_range)\n",
    "cols_selected = ['qty_items','avg_ticket','num_returns','returns_revenue','avg_unique_prods','qty_returned','num_purchases','recency','frequency']\n",
    "\n",
    "# defining independent and dependent variable\n",
    "X = df5[cols_selected].copy()\n",
    "y = df5['revenue']\n",
    "\n",
    "# defining random forest regresor for embedding\n",
    "rf = RandomForestRegressor(random_state = 42, min_samples_split = 20) \n",
    "rf.fit(X, y)\n",
    "\n",
    "# get leafs for each observation\n",
    "df_leaf = pd.DataFrame( rf.apply(X) )\n",
    "\n",
    "# defining umap algorithm\n",
    "n_neighbors = 50\n",
    "umap = UMAP(n_neighbors = n_neighbors, random_state = 42, metric = 'manhattan')  \n",
    "res_umap = umap.fit_transform(df_leaf)\n",
    "metric = umap.metric\n",
    "\n",
    "# storing embedding results on a dataframe\n",
    "df_tree = df5.copy()\n",
    "# df_tree = pd.DataFrame()\n",
    "df_tree['embedding_x'] =  res_umap[:,0]\n",
    "df_tree['embedding_y'] =  res_umap[:,1]\n",
    "\n",
    "# ploting results\n",
    "cmap = sns.color_palette('RdBu_r', as_cmap = True)\n",
    "plt.title('UMAP - Neighbors = {} - Distance = {}'.format(n_neighbors, metric) )\n",
    "sns.scatterplot( data = df_tree, x = 'embedding_x', y = 'embedding_y', hue = 'revenue', palette = cmap);"
   ]
  },
  {
   "cell_type": "code",
   "execution_count": null,
   "id": "d0051816",
   "metadata": {
    "papermill": {
     "duration": null,
     "end_time": null,
     "exception": null,
     "start_time": null,
     "status": "completed"
    },
    "tags": []
   },
   "outputs": [],
   "source": [
    "X.dtypes"
   ]
  },
  {
   "cell_type": "code",
   "execution_count": null,
   "id": "f24fa72b",
   "metadata": {
    "papermill": {
     "duration": null,
     "end_time": null,
     "exception": null,
     "start_time": null,
     "status": "completed"
    },
    "tags": []
   },
   "outputs": [],
   "source": [
    "X.head(10)"
   ]
  },
  {
   "cell_type": "code",
   "execution_count": null,
   "id": "79a383ab",
   "metadata": {
    "papermill": {
     "duration": null,
     "end_time": null,
     "exception": null,
     "start_time": null,
     "status": "completed"
    },
    "tags": []
   },
   "outputs": [],
   "source": [
    "df_leaf.head()"
   ]
  },
  {
   "cell_type": "code",
   "execution_count": null,
   "id": "51a51074",
   "metadata": {
    "papermill": {
     "duration": null,
     "end_time": null,
     "exception": null,
     "start_time": null,
     "status": "completed"
    },
    "tags": []
   },
   "outputs": [],
   "source": [
    "# df_leaf.to_csv('../data/df_tree.csv', index = False)"
   ]
  },
  {
   "cell_type": "code",
   "execution_count": null,
   "id": "8e1afe96",
   "metadata": {
    "papermill": {
     "duration": null,
     "end_time": null,
     "exception": null,
     "start_time": null,
     "status": "completed"
    },
    "tags": []
   },
   "outputs": [],
   "source": [
    "res_umap[:10]"
   ]
  },
  {
   "cell_type": "code",
   "execution_count": null,
   "id": "ccb152db",
   "metadata": {
    "papermill": {
     "duration": null,
     "end_time": null,
     "exception": null,
     "start_time": null,
     "status": "completed"
    },
    "tags": []
   },
   "outputs": [],
   "source": [
    "res_umap[-10:]"
   ]
  },
  {
   "cell_type": "markdown",
   "id": "f62a04af",
   "metadata": {
    "papermill": {
     "duration": null,
     "end_time": null,
     "exception": null,
     "start_time": null,
     "status": "completed"
    },
    "tags": []
   },
   "source": [
    "# 7.0 Model Testing"
   ]
  },
  {
   "cell_type": "code",
   "execution_count": null,
   "id": "39cbfa0b",
   "metadata": {
    "papermill": {
     "duration": null,
     "end_time": null,
     "exception": null,
     "start_time": null,
     "status": "completed"
    },
    "tags": []
   },
   "outputs": [],
   "source": [
    "# defining two spaces of data (embedded and rescaled) to test models\n",
    "\n",
    "# tree embedded data\n",
    "df_tree = pd.DataFrame()\n",
    "df_tree['embedding_x'] =  res_umap[:,0]\n",
    "df_tree['embedding_y'] =  res_umap[:,1]\n",
    "\n",
    "# rescaled data\n",
    "df7 = df5.copy()"
   ]
  },
  {
   "cell_type": "code",
   "execution_count": null,
   "id": "89b4ab6c",
   "metadata": {
    "papermill": {
     "duration": null,
     "end_time": null,
     "exception": null,
     "start_time": null,
     "status": "completed"
    },
    "tags": []
   },
   "outputs": [],
   "source": [
    "del X, y, df5\n",
    "gc.collect()"
   ]
  },
  {
   "cell_type": "markdown",
   "id": "8cc8ade2",
   "metadata": {
    "papermill": {
     "duration": null,
     "end_time": null,
     "exception": null,
     "start_time": null,
     "status": "completed"
    },
    "tags": []
   },
   "source": [
    "# 8.0 Model Training"
   ]
  },
  {
   "cell_type": "code",
   "execution_count": null,
   "id": "4818f6b7",
   "metadata": {
    "papermill": {
     "duration": null,
     "end_time": null,
     "exception": null,
     "start_time": null,
     "status": "completed"
    },
    "tags": []
   },
   "outputs": [],
   "source": [
    "df7.shape"
   ]
  },
  {
   "cell_type": "code",
   "execution_count": null,
   "id": "ec0815b8",
   "metadata": {
    "papermill": {
     "duration": null,
     "end_time": null,
     "exception": null,
     "start_time": null,
     "status": "completed"
    },
    "tags": []
   },
   "outputs": [],
   "source": [
    "# defining model \n",
    "db_model = DBSCAN(eps = 2.1, min_samples=50)\n",
    "\n",
    "# applying model \n",
    "labels = db_model.fit_predict(df_tree)\n",
    "\n",
    "df_result = df7.reset_index(drop = True).copy()\n",
    "\n",
    "# concatenating results\n",
    "df_result = pd.concat( [df_result, df_tree], axis = 1 )\n",
    "\n",
    "# defining cluster\n",
    "df_result['cluster'] = labels.astype(str)\n",
    "\n",
    "# mapping cluster names\n",
    "names = {\"4\" : \"Insiders\",\n",
    "         \"1\" : \"Potential Loyalists\",\n",
    "         \"0\" : \"Loyal Customers\",\n",
    "         \"2\" : \"Promissing 1\",\n",
    "         \"8\" : \"Need Attention 1\",\n",
    "         \"6\" : \"Promising 2\",\n",
    "         \"7\" : \"Need Attention 2\",\n",
    "         \"5\" : \"Hibernating 1\",\n",
    "         \"10\" : \"Churn 1\",\n",
    "         \"3\" : \"Price Sensitive\",\n",
    "         \"9\" : \"Churn 2\",\n",
    "         \"11\" : \"Hibernating 2\",\n",
    "         \"-1\" : 'Noise' }\n",
    "\n",
    "df_result['cluster_name'] = df_result['cluster'].map(names)\n",
    "\n",
    "df_result.rename( columns = {'date_range': 'tenure'}, inplace = True)\n",
    "df_result.head()\n",
    "df_result.shape"
   ]
  },
  {
   "cell_type": "code",
   "execution_count": null,
   "id": "2fb63402",
   "metadata": {
    "papermill": {
     "duration": null,
     "end_time": null,
     "exception": null,
     "start_time": null,
     "status": "completed"
    },
    "tags": []
   },
   "outputs": [],
   "source": [
    "sns.scatterplot(data = df_result, x = 'embedding_x', y = 'embedding_y', hue = 'cluster_name', palette = 'bright');"
   ]
  },
  {
   "cell_type": "markdown",
   "id": "77510e05",
   "metadata": {
    "papermill": {
     "duration": null,
     "end_time": null,
     "exception": null,
     "start_time": null,
     "status": "completed"
    },
    "tags": []
   },
   "source": [
    "# 9.0 Cluster Analysis"
   ]
  },
  {
   "cell_type": "markdown",
   "id": "36ea5772",
   "metadata": {
    "papermill": {
     "duration": null,
     "end_time": null,
     "exception": null,
     "start_time": null,
     "status": "completed"
    },
    "tags": []
   },
   "source": [
    "## 9.4 Business Perspective"
   ]
  },
  {
   "cell_type": "markdown",
   "id": "136db0ac",
   "metadata": {
    "papermill": {
     "duration": null,
     "end_time": null,
     "exception": null,
     "start_time": null,
     "status": "completed"
    },
    "tags": []
   },
   "source": [
    "### 9.4.1 Clusters Table"
   ]
  },
  {
   "cell_type": "code",
   "execution_count": null,
   "id": "0fc0e4a4",
   "metadata": {
    "papermill": {
     "duration": null,
     "end_time": null,
     "exception": null,
     "start_time": null,
     "status": "completed"
    },
    "tags": []
   },
   "outputs": [],
   "source": [
    "# number of customers per cluster\n",
    "n_cust = df_result.copy()\n",
    "n_cust = n_cust.groupby('cluster').count().reset_index().rename(columns = {'customer_id' : 'num_of_customers'})\n",
    "n_cust['perc_of_customer'] = n_cust['num_of_customers']/n_cust['num_of_customers'].sum()*100\n",
    "n_cust = n_cust[['cluster', 'num_of_customers', 'perc_of_customer']]"
   ]
  },
  {
   "cell_type": "code",
   "execution_count": null,
   "id": "4c4a6191",
   "metadata": {
    "papermill": {
     "duration": null,
     "end_time": null,
     "exception": null,
     "start_time": null,
     "status": "completed"
    },
    "tags": []
   },
   "outputs": [],
   "source": [
    "# calculating mean values for each cluster attribute\n",
    "df_res = df_result.copy()\n",
    "\n",
    "# calculating mothly frequency. Did not like the results of this\n",
    "# df_res['frequency'] = df_res['frequency']*30\n",
    "\n",
    "# add cluster to df\n",
    "result = df_res.groupby('cluster').mean().reset_index()\n",
    "result\n",
    "\n",
    "# add nº of customers\n",
    "result = result.merge( n_cust, on = 'cluster', how = 'inner')\n",
    "# Based on the RFM Analysis I gave names to clusters \n",
    "result['cluster_name'] = result['cluster'].map(names)\n",
    "result_reduced = result[['cluster_name', 'num_of_customers', 'perc_of_customer', 'recency', 'revenue', 'avg_ticket', 'num_purchases', 'tenure', 'frequency', 'num_returns', 'avg_return_revenue' ]].copy()\n",
    "\n",
    "#formatting output\n",
    "result_reduced.sort_values('revenue', ascending = False, inplace = True )\n",
    "result_reduced['perc_of_customer'] = result_reduced['perc_of_customer'].apply(lambda x: \"{:.2f}%\".format(x) )\n",
    "formatter = {\"recency\" : \"{:,.2f}\",\n",
    "\"revenue\" : \"{:,.2f}\",\n",
    "\"avg_ticket\" : \"{:,.2f}\",\n",
    "\"num_purchases\" : \"{:,.2f}\",\n",
    "\"tenure\" : \"{:,.2f}\",\n",
    "\"frequency\" : \"{:,.4f}\",\n",
    "\"num_returns\" : \"{:,.2f}\",\n",
    "\"avg_return_revenue\" : \"{:,.2f}\"\n",
    "}\n",
    "result_reduced.style.format( formatter = formatter )"
   ]
  },
  {
   "cell_type": "code",
   "execution_count": null,
   "id": "43af8982",
   "metadata": {
    "papermill": {
     "duration": null,
     "end_time": null,
     "exception": null,
     "start_time": null,
     "status": "completed"
    },
    "tags": []
   },
   "outputs": [],
   "source": [
    "# # calculating mean values for each cluster attribute\n",
    "# df_res = df_result.copy()\n",
    "\n",
    "# # calculating mothly frequency. Did not like the results of this\n",
    "# # df_res['frequency'] = df_res['frequency']*30\n",
    "\n",
    "# # add cluster to df\n",
    "# result = df_res.groupby('cluster').mean().reset_index()\n",
    "# result\n",
    "\n",
    "# # add nº of customers\n",
    "# result = result.merge( n_cust, on = 'cluster', how = 'inner')\n",
    "# # Based on the RFM Analysis I gave names to clusters \n",
    "# result['cluster_name'] = result['cluster'].map(names)\n",
    "# result_reduced = result[['cluster_name', 'num_of_customers', 'perc_of_customer', 'recency', 'revenue', 'avg_ticket', 'num_purchases', 'tenure', 'frequency', 'num_returns', 'avg_return_revenue' ]].copy()\n",
    "\n",
    "# #formatting output\n",
    "# result_reduced.sort_values('revenue', ascending = False, inplace = True )\n",
    "# result_reduced['perc_of_customer'] = result_reduced['perc_of_customer'].apply(lambda x: \"{:.2f}%\".format(x) )\n",
    "# formatter = {\"recency\" : \"{:,.2f}\",\n",
    "# \"revenue\" : \"{:,.2f}\",\n",
    "# \"avg_ticket\" : \"{:,.2f}\",\n",
    "# \"num_purchases\" : \"{:,.2f}\",\n",
    "# \"tenure\" : \"{:,.2f}\",\n",
    "# \"frequency\" : \"{:,.4f}\",\n",
    "# \"num_returns\" : \"{:,.2f}\",\n",
    "# \"avg_return_revenue\" : \"{:,.2f}\"\n",
    "# }\n",
    "# result_reduced.style.format( formatter = formatter )"
   ]
  },
  {
   "cell_type": "markdown",
   "id": "aafc0b82",
   "metadata": {
    "papermill": {
     "duration": null,
     "end_time": null,
     "exception": null,
     "start_time": null,
     "status": "completed"
    },
    "tags": []
   },
   "source": [
    "# 11 Model Deployment"
   ]
  },
  {
   "cell_type": "markdown",
   "id": "b30f0e00",
   "metadata": {
    "papermill": {
     "duration": null,
     "end_time": null,
     "exception": null,
     "start_time": null,
     "status": "completed"
    },
    "tags": []
   },
   "source": [
    "## 11.1. Inserting results on sqlite db"
   ]
  },
  {
   "cell_type": "code",
   "execution_count": null,
   "id": "a6c0b04a",
   "metadata": {
    "papermill": {
     "duration": null,
     "end_time": null,
     "exception": null,
     "start_time": null,
     "status": "completed"
    },
    "tags": []
   },
   "outputs": [],
   "source": [
    "#  connect to db, if doesn't exist create one\n",
    "# con = sqlite3.connect('../src/features/insiders.db')"
   ]
  },
  {
   "cell_type": "code",
   "execution_count": null,
   "id": "f8ee9a87",
   "metadata": {
    "papermill": {
     "duration": null,
     "end_time": null,
     "exception": null,
     "start_time": null,
     "status": "completed"
    },
    "tags": []
   },
   "outputs": [],
   "source": [
    "# cur = con.cursor()\n",
    "\n",
    "# cur.execute(\n",
    "#     \"\"\"\n",
    "    # CREATE TABLE insiders (\n",
    "    #     customer_id               INTEGER,\n",
    "    #     country                   TEXT,\n",
    "    #     recency                   INTEGER,\n",
    "    #     avg_days_bw_purchases     REAL,\n",
    "    #     num_purchases             INTEGER,\n",
    "    #     tenure                    INTEGER,\n",
    "    #     frequency                 REAL,\n",
    "    #     revenue                   REAL,\n",
    "    #     avg_ticket                REAL,\n",
    "    #     qty_items                 INTEGER,\n",
    "    #     avg_basket_size           REAL,\n",
    "    #     avg_unique_prods          REAL,\n",
    "    #     returns_revenue           REAL,\n",
    "    #     avg_return_revenue        REAL,\n",
    "    #     num_returns               REAL,\n",
    "    #     qty_returned              REAL,\n",
    "    #     embedding_x               REAL,\n",
    "    #     embedding_y               REAL,\n",
    "    #     cluster                   TEXT,\n",
    "    #     cluster_name              TEXT\n",
    "#     );\n",
    "#     \"\"\"\n",
    "# )\n",
    "\n",
    "# con.commit()\n",
    "\n",
    "# # con.close()\n",
    "\n"
   ]
  },
  {
   "cell_type": "code",
   "execution_count": null,
   "id": "f31c0717",
   "metadata": {
    "papermill": {
     "duration": null,
     "end_time": null,
     "exception": null,
     "start_time": null,
     "status": "completed"
    },
    "tags": []
   },
   "outputs": [],
   "source": [
    "# df_result.dtypes"
   ]
  },
  {
   "cell_type": "code",
   "execution_count": null,
   "id": "2a829711",
   "metadata": {
    "papermill": {
     "duration": null,
     "end_time": null,
     "exception": null,
     "start_time": null,
     "status": "completed"
    },
    "tags": []
   },
   "outputs": [],
   "source": [
    "# # con.execute(\n",
    "# #     \"\"\"\n",
    "# #     SELECT name\n",
    "# #     FROM sqlite_schema\n",
    "# #     WHERE type ='table'\n",
    "# #     \"\"\"\n",
    "# # )\n",
    "# cur.execute(\n",
    "# \"\"\"SELECT \n",
    "#         name\n",
    "#     FROM \n",
    "#         sqlite_master\n",
    "#     WHERE \n",
    "#         type ='table' \n",
    "#         ;\"\"\"\n",
    "#         )\n",
    "# # con.commit()\n",
    "# #  AND name NOT LIKE 'sqlite_%'\n",
    "# cur.fetchone()"
   ]
  },
  {
   "cell_type": "code",
   "execution_count": null,
   "id": "17963f4c",
   "metadata": {
    "papermill": {
     "duration": null,
     "end_time": null,
     "exception": null,
     "start_time": null,
     "status": "completed"
    },
    "tags": []
   },
   "outputs": [],
   "source": [
    "# con.execute(\n",
    "#     \"\"\"\n",
    "#     DROP TABLE insiders\n",
    "#     \"\"\"\n",
    "# )\n",
    "# con.commit()\n",
    "\n",
    "# # con.close()\n"
   ]
  },
  {
   "cell_type": "code",
   "execution_count": null,
   "id": "3a8ae171",
   "metadata": {
    "papermill": {
     "duration": null,
     "end_time": null,
     "exception": null,
     "start_time": null,
     "status": "completed"
    },
    "tags": []
   },
   "outputs": [],
   "source": [
    "# conn = create_engine('sqlite:////home/humberto/DS/insiders_clustering/src/features/insiders.db', echo=False)\n",
    "# df_result.to_sql('insiders', con = conn, if_exists='append', index = False)"
   ]
  },
  {
   "cell_type": "code",
   "execution_count": null,
   "id": "bee67cc0",
   "metadata": {
    "papermill": {
     "duration": null,
     "end_time": null,
     "exception": null,
     "start_time": null,
     "status": "completed"
    },
    "tags": []
   },
   "outputs": [],
   "source": [
    "# df_sql = pd.read_sql('insiders', con = conn)\n",
    "# print(df_sql.iloc[0,8])\n",
    "# print(df_result.iloc[0,8])\n",
    "# df_sql.head()"
   ]
  },
  {
   "cell_type": "markdown",
   "id": "20e62800",
   "metadata": {
    "papermill": {
     "duration": null,
     "end_time": null,
     "exception": null,
     "start_time": null,
     "status": "completed"
    },
    "tags": []
   },
   "source": [
    "## 11.2 Inserting results to mysql db on AWS"
   ]
  },
  {
   "cell_type": "code",
   "execution_count": null,
   "id": "ecc779ae",
   "metadata": {
    "papermill": {
     "duration": null,
     "end_time": null,
     "exception": null,
     "start_time": null,
     "status": "completed"
    },
    "tags": []
   },
   "outputs": [],
   "source": [
    "# adding last update time to data that will be inserted on DB\n",
    "\n",
    "now = datetime.now().strftime( \"%Y-%m-%d %H:%M:%S\" )\n",
    "\n",
    "df_result['last_update'] = now"
   ]
  },
  {
   "cell_type": "code",
   "execution_count": null,
   "id": "c4e45a7a",
   "metadata": {
    "papermill": {
     "duration": null,
     "end_time": null,
     "exception": null,
     "start_time": null,
     "status": "completed"
    },
    "tags": []
   },
   "outputs": [],
   "source": [
    "df_result.head()"
   ]
  },
  {
   "cell_type": "code",
   "execution_count": null,
   "id": "18b01d70",
   "metadata": {
    "papermill": {
     "duration": null,
     "end_time": null,
     "exception": null,
     "start_time": null,
     "status": "completed"
    },
    "tags": []
   },
   "outputs": [],
   "source": [
    "# # reading credentials\n",
    "\n",
    "# secrets_json = open('../secrets.json')\n",
    "# secrets = json.load(secrets_json)\n",
    "\n",
    "# dialect =   secrets[\"dialect\"]\n",
    "# driver =    secrets[\"driver\"]\n",
    "# host =      secrets[\"host\"]\n",
    "# username =  secrets[\"username\"]\n",
    "# password =  secrets[\"password\"]\n",
    "# port =      secrets[\"port\"]\n",
    "# database =  secrets[\"database\"]\n",
    "\n",
    "# url = \"{}+{}://{}:{}@{}:{}/{}\".format(dialect, driver, username, password, host, port, database)\n",
    "\n",
    "# engine = create_engine(url = url, echo = True) #, pool_pre_ping = True"
   ]
  },
  {
   "cell_type": "code",
   "execution_count": null,
   "id": "e499a2af",
   "metadata": {
    "papermill": {
     "duration": null,
     "end_time": null,
     "exception": null,
     "start_time": null,
     "status": "completed"
    },
    "tags": []
   },
   "outputs": [],
   "source": [
    "# read_query = \"\"\"\n",
    "#     SELECT * FROM insiders i\n",
    "# \"\"\"\n",
    "# # engine.execute\n",
    "# df_sql = pd.read_sql_query(read_query, con = engine)"
   ]
  },
  {
   "cell_type": "code",
   "execution_count": null,
   "id": "cf91daaa",
   "metadata": {
    "papermill": {
     "duration": null,
     "end_time": null,
     "exception": null,
     "start_time": null,
     "status": "completed"
    },
    "tags": []
   },
   "outputs": [],
   "source": [
    "# if we had to create table manually we could use this\n",
    "# create_table = \"\"\"\n",
    "#     CREATE TABLE insiders (\n",
    "#     customer_id               INTEGER,\n",
    "#     country                   TEXT,\n",
    "#     recency                   INTEGER,\n",
    "#     avg_days_bw_purchases     REAL,\n",
    "#     num_purchases             INTEGER,\n",
    "#     tenure                    INTEGER,\n",
    "#     frequency                 REAL,\n",
    "#     revenue                   REAL,\n",
    "#     avg_ticket                REAL,\n",
    "#     qty_items                 INTEGER,\n",
    "#     avg_basket_size           REAL,\n",
    "#     avg_unique_prods          REAL,\n",
    "#     returns_revenue           REAL,\n",
    "#     avg_return_revenue        REAL,\n",
    "#     num_returns               REAL,\n",
    "#     qty_returned              REAL,\n",
    "#     embedding_x               REAL,\n",
    "#     embedding_y               REAL,\n",
    "#     cluster                   TEXT,\n",
    "#     cluster_name              TEXT\n",
    "#     )\n",
    "# \"\"\""
   ]
  },
  {
   "cell_type": "code",
   "execution_count": null,
   "id": "da3b2179",
   "metadata": {
    "papermill": {
     "duration": null,
     "end_time": null,
     "exception": null,
     "start_time": null,
     "status": "completed"
    },
    "tags": []
   },
   "outputs": [],
   "source": [
    "# inserting data\n",
    "# df_result.to_sql('insiders', con = engine, if_exists='replace', index = False )"
   ]
  },
  {
   "cell_type": "code",
   "execution_count": null,
   "id": "75fb277a",
   "metadata": {
    "papermill": {
     "duration": null,
     "end_time": null,
     "exception": null,
     "start_time": null,
     "status": "completed"
    },
    "tags": []
   },
   "outputs": [],
   "source": [
    "# drop_table_query = \"\"\"\n",
    "#     DROP TABLE insiders\n",
    "# \"\"\"\n",
    "# engine.execute(drop_table_query)\n"
   ]
  },
  {
   "cell_type": "markdown",
   "id": "1d66b427",
   "metadata": {
    "papermill": {
     "duration": null,
     "end_time": null,
     "exception": null,
     "start_time": null,
     "status": "completed"
    },
    "tags": []
   },
   "source": [
    "## 11.3 Inserting results to mysql db on heroku"
   ]
  },
  {
   "cell_type": "code",
   "execution_count": null,
   "id": "72afa5a2",
   "metadata": {
    "papermill": {
     "duration": null,
     "end_time": null,
     "exception": null,
     "start_time": null,
     "status": "completed"
    },
    "tags": []
   },
   "outputs": [],
   "source": [
    "# adding last update time to data that will be inserted on DB\n",
    "\n",
    "now = datetime.now().strftime( \"%Y-%m-%d %H:%M:%S\" )\n",
    "\n",
    "df_result['last_update'] = now\n",
    "df_result.head()"
   ]
  },
  {
   "cell_type": "code",
   "execution_count": null,
   "id": "9349d8a7",
   "metadata": {
    "papermill": {
     "duration": null,
     "end_time": null,
     "exception": null,
     "start_time": null,
     "status": "completed"
    },
    "tags": []
   },
   "outputs": [],
   "source": [
    "# reading credentials\n",
    "\n",
    "# aws credentiasl\n",
    "path_aws_secrets = '/home/ubuntu/project/Insiders-Loyalty-Program/src/'\n",
    "secrets_json = open( path_aws_secrets + 'secrets-heroku.json')\n",
    "\n",
    "# local credentiasl\n",
    "# secrets_json = open( '../secrets-heroku.json')\n",
    "\n",
    "secrets = json.load(secrets_json)\n",
    "\n",
    "dialect =   secrets[\"dialect\"]\n",
    "driver =    secrets[\"driver\"]\n",
    "host =      secrets[\"host\"]\n",
    "username =  secrets[\"username\"]\n",
    "password =  secrets[\"password\"]\n",
    "port =      secrets[\"port\"]\n",
    "database =  secrets[\"database\"]\n",
    "\n",
    "url = \"{}+{}://{}:{}@{}:{}/{}\".format(dialect, driver, username, password, host, port, database)\n",
    "\n",
    "url \n",
    "\n",
    "dbschema = 'public'\n",
    "\n",
    "# connecting to db\n",
    "engine = create_engine(url = url, echo = True, connect_args={'options': '-csearch_path={}'.format(dbschema)} ) #, pool_pre_ping = True\n",
    "conn = engine.connect()"
   ]
  },
  {
   "cell_type": "code",
   "execution_count": null,
   "id": "723ad4b6",
   "metadata": {
    "papermill": {
     "duration": null,
     "end_time": null,
     "exception": null,
     "start_time": null,
     "status": "completed"
    },
    "tags": []
   },
   "outputs": [],
   "source": [
    "# import os\n",
    "# os.environ['DATABASE_URL']"
   ]
  },
  {
   "cell_type": "code",
   "execution_count": null,
   "id": "be2a7a74",
   "metadata": {
    "papermill": {
     "duration": null,
     "end_time": null,
     "exception": null,
     "start_time": null,
     "status": "completed"
    },
    "tags": []
   },
   "outputs": [],
   "source": [
    "df_result.to_sql('insiders_result', con = engine, if_exists='replace', index = False )\n",
    "\n",
    "# if we have precision problems we can use:\n",
    "# from sqlalchemy.dialects.postgresql import DOUBLE_PRECISION\n",
    "# dtypes = {'avg_days_bw_purchases' : DOUBLE_PRECISION}\n",
    "# df_result.to_sql('insiders_result', con = engine, if_exists='replace', index = False, dtype = dtypes )"
   ]
  },
  {
   "cell_type": "code",
   "execution_count": null,
   "id": "d061fdbf",
   "metadata": {
    "papermill": {
     "duration": null,
     "end_time": null,
     "exception": null,
     "start_time": null,
     "status": "completed"
    },
    "tags": []
   },
   "outputs": [],
   "source": [
    "query = \"\"\"\n",
    "    SELECT *\n",
    "    FROM insiders_result\n",
    "\"\"\"\n",
    "\n",
    "df_sql = pd.read_sql_query(query, con = engine)"
   ]
  },
  {
   "cell_type": "code",
   "execution_count": null,
   "id": "d49e5b6a",
   "metadata": {
    "papermill": {
     "duration": null,
     "end_time": null,
     "exception": null,
     "start_time": null,
     "status": "completed"
    },
    "tags": []
   },
   "outputs": [],
   "source": [
    "conn.invalidate()\n",
    "engine.dispose()"
   ]
  },
  {
   "cell_type": "code",
   "execution_count": null,
   "id": "1b3147a9",
   "metadata": {
    "papermill": {
     "duration": null,
     "end_time": null,
     "exception": null,
     "start_time": null,
     "status": "completed"
    },
    "tags": []
   },
   "outputs": [],
   "source": [
    "sns.scatterplot( data = df_sql, x = 'embedding_x', y = 'embedding_y', hue = 'cluster_name', palette = 'husl');"
   ]
  },
  {
   "cell_type": "code",
   "execution_count": null,
   "id": "01ae2301",
   "metadata": {
    "papermill": {
     "duration": null,
     "end_time": null,
     "exception": null,
     "start_time": null,
     "status": "completed"
    },
    "tags": []
   },
   "outputs": [],
   "source": [
    "sns.scatterplot( data = df_result, x = 'embedding_x', y = 'embedding_y', hue = 'cluster_name', palette = 'husl');"
   ]
  },
  {
   "cell_type": "code",
   "execution_count": null,
   "id": "0fbfd4a6",
   "metadata": {
    "papermill": {
     "duration": null,
     "end_time": null,
     "exception": null,
     "start_time": null,
     "status": "completed"
    },
    "tags": []
   },
   "outputs": [],
   "source": [
    "df_sql.cluster_name.unique()"
   ]
  },
  {
   "cell_type": "markdown",
   "id": "c4d0c727",
   "metadata": {
    "papermill": {
     "duration": null,
     "end_time": null,
     "exception": null,
     "start_time": null,
     "status": "completed"
    },
    "tags": []
   },
   "source": [
    "- verify aws packages OK\n",
    "- automate reports with:\n",
    "    - crontab \n",
    "    - github\n",
    "- make a visualization dashboard\n",
    "- automate ec2 to turn on and off"
   ]
  }
 ],
 "metadata": {
  "interpreter": {
   "hash": "4be9c22c924916f4f0290c88182d986b0302ce23f90563ec15842ba76b709463"
  },
  "kernelspec": {
   "display_name": "Python 3.8.0 64-bit ('insiders')",
   "language": "python",
   "name": "python3"
  },
  "language_info": {
   "codemirror_mode": {
    "name": "ipython",
    "version": 3
   },
   "file_extension": ".py",
   "mimetype": "text/x-python",
   "name": "python",
   "nbconvert_exporter": "python",
   "pygments_lexer": "ipython3",
   "version": "3.8.0"
  },
  "papermill": {
   "default_parameters": {},
   "duration": 25.107516,
   "end_time": "2022-03-21T23:39:18.736308",
   "environment_variables": {},
   "exception": null,
   "input_path": "/home/ubuntu/project/Insiders-Loyalty-Program/src/notebooks/c16-deploy-5.ipynb",
   "output_path": "/home/ubuntu/project/Insiders-Loyalty-Program/src/logs/c16-deploy-5-date:2022-03-21--23:38:52.ipynb",
   "parameters": {},
   "start_time": "2022-03-21T23:38:53.628792",
   "version": "2.3.4"
  }
 },
 "nbformat": 4,
 "nbformat_minor": 5
}