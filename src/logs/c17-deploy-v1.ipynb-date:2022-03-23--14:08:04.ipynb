{
 "cells": [
  {
   "cell_type": "markdown",
   "id": "a3eefeaa",
   "metadata": {
    "tags": [
     "papermill-error-cell-tag"
    ]
   },
   "source": [
    "<span style=\"color:red; font-family:Helvetica Neue, Helvetica, Arial, sans-serif; font-size:2em;\">An Exception was encountered at '<a href=\"#papermill-error-cell\">In [42]</a>'.</span>"
   ]
  },
  {
   "cell_type": "markdown",
   "id": "a52df41e",
   "metadata": {
    "papermill": {
     "duration": 0.092705,
     "end_time": "2022-03-23T14:08:07.445869",
     "exception": false,
     "start_time": "2022-03-23T14:08:07.353164",
     "status": "completed"
    },
    "tags": []
   },
   "source": [
    "# 0.0 Imports"
   ]
  },
  {
   "cell_type": "markdown",
   "id": "ba879070",
   "metadata": {
    "papermill": {
     "duration": 0.09238,
     "end_time": "2022-03-23T14:08:07.625946",
     "exception": false,
     "start_time": "2022-03-23T14:08:07.533566",
     "status": "completed"
    },
    "tags": []
   },
   "source": [
    "## 0.1 Imports"
   ]
  },
  {
   "cell_type": "code",
   "execution_count": 1,
   "id": "0a23edec",
   "metadata": {
    "execution": {
     "iopub.execute_input": "2022-03-23T14:08:07.810234Z",
     "iopub.status.busy": "2022-03-23T14:08:07.809533Z",
     "iopub.status.idle": "2022-03-23T14:08:16.160483Z",
     "shell.execute_reply": "2022-03-23T14:08:16.159857Z"
    },
    "papermill": {
     "duration": 8.448273,
     "end_time": "2022-03-23T14:08:16.162930",
     "exception": false,
     "start_time": "2022-03-23T14:08:07.714657",
     "status": "completed"
    },
    "tags": []
   },
   "outputs": [
    {
     "name": "stderr",
     "output_type": "stream",
     "text": [
      "/home/ubuntu/.pyenv/versions/3.8.0/envs/insiders_deploy/lib/python3.8/site-packages/tqdm/auto.py:22: TqdmWarning: IProgress not found. Please update jupyter and ipywidgets. See https://ipywidgets.readthedocs.io/en/stable/user_install.html\n",
      "  from .autonotebook import tqdm as notebook_tqdm\n"
     ]
    }
   ],
   "source": [
    "import pandas as pd\n",
    "import numpy as np\n",
    "import matplotlib.pyplot as plt\n",
    "import seaborn as sns\n",
    "import inflection\n",
    "import re\n",
    "import s3fs \n",
    "import json\n",
    "from datetime import datetime\n",
    "\n",
    "from sklearn.ensemble import RandomForestRegressor\n",
    "from sklearn.cluster import DBSCAN\n",
    "\n",
    "from umap import UMAP\n",
    "\n",
    "from sqlalchemy import create_engine\n",
    "\n",
    "import gc\n",
    "import pickle"
   ]
  },
  {
   "cell_type": "markdown",
   "id": "32dbd6fb",
   "metadata": {
    "papermill": {
     "duration": 0.097617,
     "end_time": "2022-03-23T14:08:16.351161",
     "exception": false,
     "start_time": "2022-03-23T14:08:16.253544",
     "status": "completed"
    },
    "tags": []
   },
   "source": [
    "## 0.2 Helper Functions\n",
    "\n"
   ]
  },
  {
   "cell_type": "code",
   "execution_count": 2,
   "id": "04957477",
   "metadata": {
    "execution": {
     "iopub.execute_input": "2022-03-23T14:08:16.537675Z",
     "iopub.status.busy": "2022-03-23T14:08:16.537036Z",
     "iopub.status.idle": "2022-03-23T14:08:16.547220Z",
     "shell.execute_reply": "2022-03-23T14:08:16.546660Z"
    },
    "papermill": {
     "duration": 0.103694,
     "end_time": "2022-03-23T14:08:16.549183",
     "exception": false,
     "start_time": "2022-03-23T14:08:16.445489",
     "status": "completed"
    },
    "tags": []
   },
   "outputs": [],
   "source": [
    "# Defining some plot settings\n",
    "def jupyter_settings():\n",
    "    %matplotlib inline\n",
    "    #%pylab inline\n",
    "    #matplotlib notebook\n",
    "    plt.style.use( 'bmh' )\n",
    "    plt.rcParams['figure.figsize'] = [25, 12]\n",
    "    plt.rcParams['font.size'] = 24\n",
    "    # display( HTML( '<style>.container { width:100% !important; }</style>') )\n",
    "    pd.options.display.max_columns = None\n",
    "    pd.options.display.max_rows = None\n",
    "    pd.set_option( 'display.expand_frame_repr', False )\n",
    "    sns.set()\n",
    "\n",
    "jupyter_settings()"
   ]
  },
  {
   "cell_type": "markdown",
   "id": "cb8ba6ed",
   "metadata": {
    "heading_collapsed": true,
    "papermill": {
     "duration": 0.087035,
     "end_time": "2022-03-23T14:08:16.731760",
     "exception": false,
     "start_time": "2022-03-23T14:08:16.644725",
     "status": "completed"
    },
    "tags": []
   },
   "source": [
    "## 0.4 Columns Description\n",
    "\n"
   ]
  },
  {
   "cell_type": "markdown",
   "id": "cff555d8",
   "metadata": {
    "papermill": {
     "duration": 0.087811,
     "end_time": "2022-03-23T14:08:16.909726",
     "exception": false,
     "start_time": "2022-03-23T14:08:16.821915",
     "status": "completed"
    },
    "tags": []
   },
   "source": [
    "### Attribute Description\n",
    "- InvoiceNo Invoice number (A 6-digit integral number uniquely assigned to each transaction)\n",
    "- StockCode Product (item) code\n",
    "- Description Product (item) name\n",
    "- Quantity The quantities of each product (item) per transaction\n",
    "- InvoiceDate The day when each transaction was generated\n",
    "- UnitPrice Unit price (Product price per unit)\n",
    "- CustomerID Customer number (Unique ID assigned to each customer)\n",
    "- Country Country name (The name of the country where each customer resides)"
   ]
  },
  {
   "cell_type": "markdown",
   "id": "de555e5e",
   "metadata": {
    "papermill": {
     "duration": 0.087454,
     "end_time": "2022-03-23T14:08:17.085328",
     "exception": false,
     "start_time": "2022-03-23T14:08:16.997874",
     "status": "completed"
    },
    "tags": []
   },
   "source": [
    "# 1.0 Data Description\n"
   ]
  },
  {
   "cell_type": "code",
   "execution_count": 3,
   "id": "007e8411",
   "metadata": {
    "execution": {
     "iopub.execute_input": "2022-03-23T14:08:17.261115Z",
     "iopub.status.busy": "2022-03-23T14:08:17.260472Z",
     "iopub.status.idle": "2022-03-23T14:08:18.552174Z",
     "shell.execute_reply": "2022-03-23T14:08:18.551520Z"
    },
    "papermill": {
     "duration": 1.38257,
     "end_time": "2022-03-23T14:08:18.554545",
     "exception": false,
     "start_time": "2022-03-23T14:08:17.171975",
     "status": "completed"
    },
    "tags": []
   },
   "outputs": [],
   "source": [
    "# df1 = pd.read_csv('../data/raw/ecommerce.csv', encoding='ISO-8859-1', sep = ',')\n",
    "# df1 = pd.read_csv('/home/humberto/DS/insiders_clustering/data/raw/ecommerce.csv', encoding='ISO-8859-1', sep = ',')\n",
    "\n",
    "# Reading data from S3 Bucket:\n",
    "path_s3 = 'https://insiders-raw-data-bucket.s3.sa-east-1.amazonaws.com/raw/'\n",
    "df1 = pd.read_csv( path_s3 + 'ecommerce.csv', encoding='ISO-8859-1')"
   ]
  },
  {
   "cell_type": "code",
   "execution_count": 4,
   "id": "f235c53f",
   "metadata": {
    "execution": {
     "iopub.execute_input": "2022-03-23T14:08:18.735421Z",
     "iopub.status.busy": "2022-03-23T14:08:18.734774Z",
     "iopub.status.idle": "2022-03-23T14:08:18.738171Z",
     "shell.execute_reply": "2022-03-23T14:08:18.737587Z"
    },
    "papermill": {
     "duration": 0.09913,
     "end_time": "2022-03-23T14:08:18.741288",
     "exception": false,
     "start_time": "2022-03-23T14:08:18.642158",
     "status": "completed"
    },
    "tags": []
   },
   "outputs": [],
   "source": [
    "# df1_s3.info()"
   ]
  },
  {
   "cell_type": "code",
   "execution_count": 5,
   "id": "4f122a88",
   "metadata": {
    "execution": {
     "iopub.execute_input": "2022-03-23T14:08:18.956275Z",
     "iopub.status.busy": "2022-03-23T14:08:18.955630Z",
     "iopub.status.idle": "2022-03-23T14:08:18.963147Z",
     "shell.execute_reply": "2022-03-23T14:08:18.962513Z"
    },
    "papermill": {
     "duration": 0.131178,
     "end_time": "2022-03-23T14:08:18.965118",
     "exception": false,
     "start_time": "2022-03-23T14:08:18.833940",
     "status": "completed"
    },
    "tags": []
   },
   "outputs": [
    {
     "name": "stdout",
     "output_type": "stream",
     "text": [
      "Dimensions ok:(541909, 9)\n"
     ]
    }
   ],
   "source": [
    "if df1.shape == (541909, 9):\n",
    "    print('Dimensions ok:{}'.format(df1.shape))\n",
    "else:\n",
    "    print('Dimensions differ from expected: {}'.format(df1.shape) )"
   ]
  },
  {
   "cell_type": "markdown",
   "id": "ce026e0a",
   "metadata": {
    "hidden": true,
    "papermill": {
     "duration": 0.089148,
     "end_time": "2022-03-23T14:08:19.142980",
     "exception": false,
     "start_time": "2022-03-23T14:08:19.053832",
     "status": "completed"
    },
    "tags": []
   },
   "source": [
    "## 1.1 Rename Columns"
   ]
  },
  {
   "cell_type": "code",
   "execution_count": 6,
   "id": "91063dd0",
   "metadata": {
    "execution": {
     "iopub.execute_input": "2022-03-23T14:08:19.326232Z",
     "iopub.status.busy": "2022-03-23T14:08:19.325578Z",
     "iopub.status.idle": "2022-03-23T14:08:19.336925Z",
     "shell.execute_reply": "2022-03-23T14:08:19.336392Z"
    },
    "papermill": {
     "duration": 0.105123,
     "end_time": "2022-03-23T14:08:19.338995",
     "exception": false,
     "start_time": "2022-03-23T14:08:19.233872",
     "status": "completed"
    },
    "tags": []
   },
   "outputs": [
    {
     "data": {
      "text/plain": [
       "['invoice_no',\n",
       " 'stock_code',\n",
       " 'description',\n",
       " 'quantity',\n",
       " 'invoice_date',\n",
       " 'unit_price',\n",
       " 'customer_id',\n",
       " 'country',\n",
       " 'unnamed: 8']"
      ]
     },
     "execution_count": 6,
     "metadata": {},
     "output_type": "execute_result"
    }
   ],
   "source": [
    "cols_old = df1.columns.tolist()\n",
    "\n",
    "cols_new = [inflection.underscore(col) for col in cols_old]\n",
    "cols_new"
   ]
  },
  {
   "cell_type": "code",
   "execution_count": 7,
   "id": "b4d9a625",
   "metadata": {
    "execution": {
     "iopub.execute_input": "2022-03-23T14:08:19.525280Z",
     "iopub.status.busy": "2022-03-23T14:08:19.524601Z",
     "iopub.status.idle": "2022-03-23T14:08:19.532555Z",
     "shell.execute_reply": "2022-03-23T14:08:19.532009Z"
    },
    "papermill": {
     "duration": 0.102024,
     "end_time": "2022-03-23T14:08:19.534544",
     "exception": false,
     "start_time": "2022-03-23T14:08:19.432520",
     "status": "completed"
    },
    "tags": []
   },
   "outputs": [],
   "source": [
    "df1.rename(columns = dict(zip(cols_old, cols_new)), inplace = True )"
   ]
  },
  {
   "cell_type": "markdown",
   "id": "bc48f4d7",
   "metadata": {
    "papermill": {
     "duration": 0.09521,
     "end_time": "2022-03-23T14:08:19.721010",
     "exception": false,
     "start_time": "2022-03-23T14:08:19.625800",
     "status": "completed"
    },
    "tags": []
   },
   "source": [
    "## 1.2 Data Dimensions"
   ]
  },
  {
   "cell_type": "code",
   "execution_count": 8,
   "id": "686f3745",
   "metadata": {
    "execution": {
     "iopub.execute_input": "2022-03-23T14:08:19.904833Z",
     "iopub.status.busy": "2022-03-23T14:08:19.904186Z",
     "iopub.status.idle": "2022-03-23T14:08:19.911096Z",
     "shell.execute_reply": "2022-03-23T14:08:19.910453Z"
    },
    "papermill": {
     "duration": 0.103053,
     "end_time": "2022-03-23T14:08:19.913108",
     "exception": false,
     "start_time": "2022-03-23T14:08:19.810055",
     "status": "completed"
    },
    "tags": []
   },
   "outputs": [
    {
     "name": "stdout",
     "output_type": "stream",
     "text": [
      "Number of rows: 541909\n",
      "Number of cols: 9\n"
     ]
    }
   ],
   "source": [
    "print( 'Number of rows: {}'.format( df1.shape[0] ) )\n",
    "print( 'Number of cols: {}'.format( df1.shape[1] ) )"
   ]
  },
  {
   "cell_type": "markdown",
   "id": "1b8eac7b",
   "metadata": {
    "papermill": {
     "duration": 0.091268,
     "end_time": "2022-03-23T14:08:20.096857",
     "exception": false,
     "start_time": "2022-03-23T14:08:20.005589",
     "status": "completed"
    },
    "tags": []
   },
   "source": [
    "## 1.3 Data Types"
   ]
  },
  {
   "cell_type": "code",
   "execution_count": 9,
   "id": "6a01fbae",
   "metadata": {
    "execution": {
     "iopub.execute_input": "2022-03-23T14:08:20.289201Z",
     "iopub.status.busy": "2022-03-23T14:08:20.288558Z",
     "iopub.status.idle": "2022-03-23T14:08:20.297920Z",
     "shell.execute_reply": "2022-03-23T14:08:20.297334Z"
    },
    "papermill": {
     "duration": 0.106046,
     "end_time": "2022-03-23T14:08:20.299936",
     "exception": false,
     "start_time": "2022-03-23T14:08:20.193890",
     "status": "completed"
    },
    "tags": []
   },
   "outputs": [
    {
     "data": {
      "text/plain": [
       "invoice_no       object\n",
       "stock_code       object\n",
       "description      object\n",
       "quantity          int64\n",
       "invoice_date     object\n",
       "unit_price      float64\n",
       "customer_id     float64\n",
       "country          object\n",
       "unnamed: 8      float64\n",
       "dtype: object"
      ]
     },
     "execution_count": 9,
     "metadata": {},
     "output_type": "execute_result"
    }
   ],
   "source": [
    "df1.dtypes"
   ]
  },
  {
   "cell_type": "markdown",
   "id": "ee7b6536",
   "metadata": {
    "papermill": {
     "duration": 0.090916,
     "end_time": "2022-03-23T14:08:20.483636",
     "exception": false,
     "start_time": "2022-03-23T14:08:20.392720",
     "status": "completed"
    },
    "tags": []
   },
   "source": [
    "## 1.4 NA Check"
   ]
  },
  {
   "cell_type": "code",
   "execution_count": 10,
   "id": "3ac408e1",
   "metadata": {
    "execution": {
     "iopub.execute_input": "2022-03-23T14:08:20.669621Z",
     "iopub.status.busy": "2022-03-23T14:08:20.668948Z",
     "iopub.status.idle": "2022-03-23T14:08:21.070668Z",
     "shell.execute_reply": "2022-03-23T14:08:21.070076Z"
    },
    "papermill": {
     "duration": 0.496698,
     "end_time": "2022-03-23T14:08:21.072669",
     "exception": false,
     "start_time": "2022-03-23T14:08:20.575971",
     "status": "completed"
    },
    "tags": []
   },
   "outputs": [
    {
     "data": {
      "text/plain": [
       "invoice_no        0.000000\n",
       "stock_code        0.000000\n",
       "description       0.268311\n",
       "quantity          0.000000\n",
       "invoice_date      0.000000\n",
       "unit_price        0.000000\n",
       "customer_id      24.926694\n",
       "country           0.000000\n",
       "unnamed: 8      100.000000\n",
       "dtype: float64"
      ]
     },
     "execution_count": 10,
     "metadata": {},
     "output_type": "execute_result"
    }
   ],
   "source": [
    "df1.isna().sum()/df1.shape[0]*100"
   ]
  },
  {
   "cell_type": "code",
   "execution_count": 11,
   "id": "deba2717",
   "metadata": {
    "execution": {
     "iopub.execute_input": "2022-03-23T14:08:21.267185Z",
     "iopub.status.busy": "2022-03-23T14:08:21.266509Z",
     "iopub.status.idle": "2022-03-23T14:08:21.320713Z",
     "shell.execute_reply": "2022-03-23T14:08:21.320137Z"
    },
    "papermill": {
     "duration": 0.153361,
     "end_time": "2022-03-23T14:08:21.322730",
     "exception": false,
     "start_time": "2022-03-23T14:08:21.169369",
     "status": "completed"
    },
    "tags": []
   },
   "outputs": [
    {
     "data": {
      "text/plain": [
       "Index(['invoice_no', 'stock_code', 'description', 'quantity', 'invoice_date',\n",
       "       'unit_price', 'customer_id', 'country'],\n",
       "      dtype='object')"
      ]
     },
     "execution_count": 11,
     "metadata": {},
     "output_type": "execute_result"
    }
   ],
   "source": [
    "df1.drop(columns=['unnamed: 8'], inplace = True)\n",
    "df1.columns"
   ]
  },
  {
   "cell_type": "markdown",
   "id": "4fcdc9a7",
   "metadata": {
    "papermill": {
     "duration": 0.09016,
     "end_time": "2022-03-23T14:08:21.508950",
     "exception": false,
     "start_time": "2022-03-23T14:08:21.418790",
     "status": "completed"
    },
    "tags": []
   },
   "source": [
    "## 1.5 NA Fillout"
   ]
  },
  {
   "cell_type": "code",
   "execution_count": 12,
   "id": "61c28191",
   "metadata": {
    "execution": {
     "iopub.execute_input": "2022-03-23T14:08:21.700339Z",
     "iopub.status.busy": "2022-03-23T14:08:21.699688Z",
     "iopub.status.idle": "2022-03-23T14:08:22.058594Z",
     "shell.execute_reply": "2022-03-23T14:08:22.057999Z"
    },
    "papermill": {
     "duration": 0.45633,
     "end_time": "2022-03-23T14:08:22.060603",
     "exception": false,
     "start_time": "2022-03-23T14:08:21.604273",
     "status": "completed"
    },
    "tags": []
   },
   "outputs": [
    {
     "data": {
      "text/plain": [
       "invoice_no      0\n",
       "stock_code      0\n",
       "description     0\n",
       "quantity        0\n",
       "invoice_date    0\n",
       "unit_price      0\n",
       "customer_id     0\n",
       "country         0\n",
       "dtype: int64"
      ]
     },
     "execution_count": 12,
     "metadata": {},
     "output_type": "execute_result"
    }
   ],
   "source": [
    "df1.dropna(subset=['customer_id'], axis = 0, inplace =  True)\n",
    "df1.isna().sum()"
   ]
  },
  {
   "cell_type": "markdown",
   "id": "d26c5d2e",
   "metadata": {
    "papermill": {
     "duration": 0.091413,
     "end_time": "2022-03-23T14:08:22.247200",
     "exception": false,
     "start_time": "2022-03-23T14:08:22.155787",
     "status": "completed"
    },
    "tags": []
   },
   "source": [
    "## 1.6 Changing Data Types\n"
   ]
  },
  {
   "cell_type": "code",
   "execution_count": 13,
   "id": "86376c2f",
   "metadata": {
    "execution": {
     "iopub.execute_input": "2022-03-23T14:08:22.437818Z",
     "iopub.status.busy": "2022-03-23T14:08:22.437165Z",
     "iopub.status.idle": "2022-03-23T14:08:22.454756Z",
     "shell.execute_reply": "2022-03-23T14:08:22.454158Z"
    },
    "papermill": {
     "duration": 0.113046,
     "end_time": "2022-03-23T14:08:22.456786",
     "exception": false,
     "start_time": "2022-03-23T14:08:22.343740",
     "status": "completed"
    },
    "tags": []
   },
   "outputs": [
    {
     "data": {
      "text/html": [
       "<div>\n",
       "<style scoped>\n",
       "    .dataframe tbody tr th:only-of-type {\n",
       "        vertical-align: middle;\n",
       "    }\n",
       "\n",
       "    .dataframe tbody tr th {\n",
       "        vertical-align: top;\n",
       "    }\n",
       "\n",
       "    .dataframe thead th {\n",
       "        text-align: right;\n",
       "    }\n",
       "</style>\n",
       "<table border=\"1\" class=\"dataframe\">\n",
       "  <thead>\n",
       "    <tr style=\"text-align: right;\">\n",
       "      <th></th>\n",
       "      <th>invoice_no</th>\n",
       "      <th>stock_code</th>\n",
       "      <th>description</th>\n",
       "      <th>quantity</th>\n",
       "      <th>invoice_date</th>\n",
       "      <th>unit_price</th>\n",
       "      <th>customer_id</th>\n",
       "      <th>country</th>\n",
       "    </tr>\n",
       "  </thead>\n",
       "  <tbody>\n",
       "    <tr>\n",
       "      <th>0</th>\n",
       "      <td>536365</td>\n",
       "      <td>85123A</td>\n",
       "      <td>WHITE HANGING HEART T-LIGHT HOLDER</td>\n",
       "      <td>6</td>\n",
       "      <td>29-Nov-16</td>\n",
       "      <td>2.55</td>\n",
       "      <td>17850.0</td>\n",
       "      <td>United Kingdom</td>\n",
       "    </tr>\n",
       "    <tr>\n",
       "      <th>1</th>\n",
       "      <td>536365</td>\n",
       "      <td>71053</td>\n",
       "      <td>WHITE METAL LANTERN</td>\n",
       "      <td>6</td>\n",
       "      <td>29-Nov-16</td>\n",
       "      <td>3.39</td>\n",
       "      <td>17850.0</td>\n",
       "      <td>United Kingdom</td>\n",
       "    </tr>\n",
       "    <tr>\n",
       "      <th>2</th>\n",
       "      <td>536365</td>\n",
       "      <td>84406B</td>\n",
       "      <td>CREAM CUPID HEARTS COAT HANGER</td>\n",
       "      <td>8</td>\n",
       "      <td>29-Nov-16</td>\n",
       "      <td>2.75</td>\n",
       "      <td>17850.0</td>\n",
       "      <td>United Kingdom</td>\n",
       "    </tr>\n",
       "    <tr>\n",
       "      <th>3</th>\n",
       "      <td>536365</td>\n",
       "      <td>84029G</td>\n",
       "      <td>KNITTED UNION FLAG HOT WATER BOTTLE</td>\n",
       "      <td>6</td>\n",
       "      <td>29-Nov-16</td>\n",
       "      <td>3.39</td>\n",
       "      <td>17850.0</td>\n",
       "      <td>United Kingdom</td>\n",
       "    </tr>\n",
       "    <tr>\n",
       "      <th>4</th>\n",
       "      <td>536365</td>\n",
       "      <td>84029E</td>\n",
       "      <td>RED WOOLLY HOTTIE WHITE HEART.</td>\n",
       "      <td>6</td>\n",
       "      <td>29-Nov-16</td>\n",
       "      <td>3.39</td>\n",
       "      <td>17850.0</td>\n",
       "      <td>United Kingdom</td>\n",
       "    </tr>\n",
       "  </tbody>\n",
       "</table>\n",
       "</div>"
      ],
      "text/plain": [
       "  invoice_no stock_code                          description  quantity invoice_date  unit_price  customer_id         country\n",
       "0     536365     85123A   WHITE HANGING HEART T-LIGHT HOLDER         6    29-Nov-16        2.55      17850.0  United Kingdom\n",
       "1     536365      71053                  WHITE METAL LANTERN         6    29-Nov-16        3.39      17850.0  United Kingdom\n",
       "2     536365     84406B       CREAM CUPID HEARTS COAT HANGER         8    29-Nov-16        2.75      17850.0  United Kingdom\n",
       "3     536365     84029G  KNITTED UNION FLAG HOT WATER BOTTLE         6    29-Nov-16        3.39      17850.0  United Kingdom\n",
       "4     536365     84029E       RED WOOLLY HOTTIE WHITE HEART.         6    29-Nov-16        3.39      17850.0  United Kingdom"
      ]
     },
     "execution_count": 13,
     "metadata": {},
     "output_type": "execute_result"
    }
   ],
   "source": [
    "df1.head()"
   ]
  },
  {
   "cell_type": "code",
   "execution_count": 14,
   "id": "98cf96d7",
   "metadata": {
    "execution": {
     "iopub.execute_input": "2022-03-23T14:08:22.649462Z",
     "iopub.status.busy": "2022-03-23T14:08:22.648765Z",
     "iopub.status.idle": "2022-03-23T14:08:22.657380Z",
     "shell.execute_reply": "2022-03-23T14:08:22.656729Z"
    },
    "papermill": {
     "duration": 0.108701,
     "end_time": "2022-03-23T14:08:22.659503",
     "exception": false,
     "start_time": "2022-03-23T14:08:22.550802",
     "status": "completed"
    },
    "tags": []
   },
   "outputs": [
    {
     "data": {
      "text/plain": [
       "invoice_no       object\n",
       "stock_code       object\n",
       "description      object\n",
       "quantity          int64\n",
       "invoice_date     object\n",
       "unit_price      float64\n",
       "customer_id     float64\n",
       "country          object\n",
       "dtype: object"
      ]
     },
     "execution_count": 14,
     "metadata": {},
     "output_type": "execute_result"
    }
   ],
   "source": [
    "df1.dtypes"
   ]
  },
  {
   "cell_type": "code",
   "execution_count": 15,
   "id": "25ce22fa",
   "metadata": {
    "execution": {
     "iopub.execute_input": "2022-03-23T14:08:22.851692Z",
     "iopub.status.busy": "2022-03-23T14:08:22.851060Z",
     "iopub.status.idle": "2022-03-23T14:08:22.922650Z",
     "shell.execute_reply": "2022-03-23T14:08:22.922042Z"
    },
    "papermill": {
     "duration": 0.170976,
     "end_time": "2022-03-23T14:08:22.924681",
     "exception": false,
     "start_time": "2022-03-23T14:08:22.753705",
     "status": "completed"
    },
    "tags": []
   },
   "outputs": [
    {
     "data": {
      "text/html": [
       "<div>\n",
       "<style scoped>\n",
       "    .dataframe tbody tr th:only-of-type {\n",
       "        vertical-align: middle;\n",
       "    }\n",
       "\n",
       "    .dataframe tbody tr th {\n",
       "        vertical-align: top;\n",
       "    }\n",
       "\n",
       "    .dataframe thead th {\n",
       "        text-align: right;\n",
       "    }\n",
       "</style>\n",
       "<table border=\"1\" class=\"dataframe\">\n",
       "  <thead>\n",
       "    <tr style=\"text-align: right;\">\n",
       "      <th></th>\n",
       "      <th>invoice_no</th>\n",
       "      <th>stock_code</th>\n",
       "      <th>description</th>\n",
       "      <th>quantity</th>\n",
       "      <th>invoice_date</th>\n",
       "      <th>unit_price</th>\n",
       "      <th>customer_id</th>\n",
       "      <th>country</th>\n",
       "    </tr>\n",
       "  </thead>\n",
       "  <tbody>\n",
       "    <tr>\n",
       "      <th>0</th>\n",
       "      <td>536365</td>\n",
       "      <td>85123A</td>\n",
       "      <td>WHITE HANGING HEART T-LIGHT HOLDER</td>\n",
       "      <td>6</td>\n",
       "      <td>2016-11-29</td>\n",
       "      <td>2.55</td>\n",
       "      <td>17850</td>\n",
       "      <td>United Kingdom</td>\n",
       "    </tr>\n",
       "    <tr>\n",
       "      <th>1</th>\n",
       "      <td>536365</td>\n",
       "      <td>71053</td>\n",
       "      <td>WHITE METAL LANTERN</td>\n",
       "      <td>6</td>\n",
       "      <td>2016-11-29</td>\n",
       "      <td>3.39</td>\n",
       "      <td>17850</td>\n",
       "      <td>United Kingdom</td>\n",
       "    </tr>\n",
       "    <tr>\n",
       "      <th>2</th>\n",
       "      <td>536365</td>\n",
       "      <td>84406B</td>\n",
       "      <td>CREAM CUPID HEARTS COAT HANGER</td>\n",
       "      <td>8</td>\n",
       "      <td>2016-11-29</td>\n",
       "      <td>2.75</td>\n",
       "      <td>17850</td>\n",
       "      <td>United Kingdom</td>\n",
       "    </tr>\n",
       "    <tr>\n",
       "      <th>3</th>\n",
       "      <td>536365</td>\n",
       "      <td>84029G</td>\n",
       "      <td>KNITTED UNION FLAG HOT WATER BOTTLE</td>\n",
       "      <td>6</td>\n",
       "      <td>2016-11-29</td>\n",
       "      <td>3.39</td>\n",
       "      <td>17850</td>\n",
       "      <td>United Kingdom</td>\n",
       "    </tr>\n",
       "    <tr>\n",
       "      <th>4</th>\n",
       "      <td>536365</td>\n",
       "      <td>84029E</td>\n",
       "      <td>RED WOOLLY HOTTIE WHITE HEART.</td>\n",
       "      <td>6</td>\n",
       "      <td>2016-11-29</td>\n",
       "      <td>3.39</td>\n",
       "      <td>17850</td>\n",
       "      <td>United Kingdom</td>\n",
       "    </tr>\n",
       "  </tbody>\n",
       "</table>\n",
       "</div>"
      ],
      "text/plain": [
       "  invoice_no stock_code                          description  quantity invoice_date  unit_price  customer_id         country\n",
       "0     536365     85123A   WHITE HANGING HEART T-LIGHT HOLDER         6   2016-11-29        2.55        17850  United Kingdom\n",
       "1     536365      71053                  WHITE METAL LANTERN         6   2016-11-29        3.39        17850  United Kingdom\n",
       "2     536365     84406B       CREAM CUPID HEARTS COAT HANGER         8   2016-11-29        2.75        17850  United Kingdom\n",
       "3     536365     84029G  KNITTED UNION FLAG HOT WATER BOTTLE         6   2016-11-29        3.39        17850  United Kingdom\n",
       "4     536365     84029E       RED WOOLLY HOTTIE WHITE HEART.         6   2016-11-29        3.39        17850  United Kingdom"
      ]
     },
     "execution_count": 15,
     "metadata": {},
     "output_type": "execute_result"
    }
   ],
   "source": [
    "df1['invoice_date'] = pd.to_datetime( df1['invoice_date'], format = '%d-%b-%y' )\n",
    "\n",
    "df1['customer_id'] = df1['customer_id'].astype(int)\n",
    "\n",
    "df1.head()"
   ]
  },
  {
   "cell_type": "code",
   "execution_count": 16,
   "id": "aed16be8",
   "metadata": {
    "execution": {
     "iopub.execute_input": "2022-03-23T14:08:23.118679Z",
     "iopub.status.busy": "2022-03-23T14:08:23.117980Z",
     "iopub.status.idle": "2022-03-23T14:08:23.126423Z",
     "shell.execute_reply": "2022-03-23T14:08:23.125832Z"
    },
    "papermill": {
     "duration": 0.110078,
     "end_time": "2022-03-23T14:08:23.128428",
     "exception": false,
     "start_time": "2022-03-23T14:08:23.018350",
     "status": "completed"
    },
    "tags": []
   },
   "outputs": [
    {
     "data": {
      "text/plain": [
       "invoice_no              object\n",
       "stock_code              object\n",
       "description             object\n",
       "quantity                 int64\n",
       "invoice_date    datetime64[ns]\n",
       "unit_price             float64\n",
       "customer_id              int64\n",
       "country                 object\n",
       "dtype: object"
      ]
     },
     "execution_count": 16,
     "metadata": {},
     "output_type": "execute_result"
    }
   ],
   "source": [
    "df1.dtypes"
   ]
  },
  {
   "cell_type": "markdown",
   "id": "c09f3fe6",
   "metadata": {
    "papermill": {
     "duration": 0.096315,
     "end_time": "2022-03-23T14:08:23.318791",
     "exception": false,
     "start_time": "2022-03-23T14:08:23.222476",
     "status": "completed"
    },
    "tags": []
   },
   "source": [
    "## 1.7 Descriptive Statistics"
   ]
  },
  {
   "cell_type": "markdown",
   "id": "09a0d61e",
   "metadata": {
    "papermill": {
     "duration": 0.095663,
     "end_time": "2022-03-23T14:08:23.511537",
     "exception": false,
     "start_time": "2022-03-23T14:08:23.415874",
     "status": "completed"
    },
    "tags": []
   },
   "source": [
    "### 1.7.1 Numerical Attributes"
   ]
  },
  {
   "cell_type": "code",
   "execution_count": 17,
   "id": "9e4d3f3b",
   "metadata": {
    "execution": {
     "iopub.execute_input": "2022-03-23T14:08:23.708692Z",
     "iopub.status.busy": "2022-03-23T14:08:23.708031Z",
     "iopub.status.idle": "2022-03-23T14:08:23.856082Z",
     "shell.execute_reply": "2022-03-23T14:08:23.855500Z"
    },
    "papermill": {
     "duration": 0.246404,
     "end_time": "2022-03-23T14:08:23.858059",
     "exception": false,
     "start_time": "2022-03-23T14:08:23.611655",
     "status": "completed"
    },
    "tags": []
   },
   "outputs": [
    {
     "data": {
      "text/html": [
       "<style type=\"text/css\">\n",
       "</style>\n",
       "<table id=\"T_7762a\">\n",
       "  <thead>\n",
       "    <tr>\n",
       "      <th class=\"blank level0\" >&nbsp;</th>\n",
       "      <th id=\"T_7762a_level0_col0\" class=\"col_heading level0 col0\" >min</th>\n",
       "      <th id=\"T_7762a_level0_col1\" class=\"col_heading level0 col1\" >max</th>\n",
       "      <th id=\"T_7762a_level0_col2\" class=\"col_heading level0 col2\" >range</th>\n",
       "      <th id=\"T_7762a_level0_col3\" class=\"col_heading level0 col3\" >mean</th>\n",
       "      <th id=\"T_7762a_level0_col4\" class=\"col_heading level0 col4\" >median</th>\n",
       "      <th id=\"T_7762a_level0_col5\" class=\"col_heading level0 col5\" >std</th>\n",
       "      <th id=\"T_7762a_level0_col6\" class=\"col_heading level0 col6\" >skew</th>\n",
       "      <th id=\"T_7762a_level0_col7\" class=\"col_heading level0 col7\" >kurtosis</th>\n",
       "    </tr>\n",
       "  </thead>\n",
       "  <tbody>\n",
       "    <tr>\n",
       "      <th id=\"T_7762a_level0_row0\" class=\"row_heading level0 row0\" >quantity</th>\n",
       "      <td id=\"T_7762a_row0_col0\" class=\"data row0 col0\" >-80,995.00</td>\n",
       "      <td id=\"T_7762a_row0_col1\" class=\"data row0 col1\" >80,995.00</td>\n",
       "      <td id=\"T_7762a_row0_col2\" class=\"data row0 col2\" >161,990.00</td>\n",
       "      <td id=\"T_7762a_row0_col3\" class=\"data row0 col3\" >12.06</td>\n",
       "      <td id=\"T_7762a_row0_col4\" class=\"data row0 col4\" >5.00</td>\n",
       "      <td id=\"T_7762a_row0_col5\" class=\"data row0 col5\" >248.69</td>\n",
       "      <td id=\"T_7762a_row0_col6\" class=\"data row0 col6\" >0.18</td>\n",
       "      <td id=\"T_7762a_row0_col7\" class=\"data row0 col7\" >94,317.56</td>\n",
       "    </tr>\n",
       "    <tr>\n",
       "      <th id=\"T_7762a_level0_row1\" class=\"row_heading level0 row1\" >unit_price</th>\n",
       "      <td id=\"T_7762a_row1_col0\" class=\"data row1 col0\" >0.00</td>\n",
       "      <td id=\"T_7762a_row1_col1\" class=\"data row1 col1\" >38,970.00</td>\n",
       "      <td id=\"T_7762a_row1_col2\" class=\"data row1 col2\" >38,970.00</td>\n",
       "      <td id=\"T_7762a_row1_col3\" class=\"data row1 col3\" >3.46</td>\n",
       "      <td id=\"T_7762a_row1_col4\" class=\"data row1 col4\" >1.95</td>\n",
       "      <td id=\"T_7762a_row1_col5\" class=\"data row1 col5\" >69.32</td>\n",
       "      <td id=\"T_7762a_row1_col6\" class=\"data row1 col6\" >452.22</td>\n",
       "      <td id=\"T_7762a_row1_col7\" class=\"data row1 col7\" >246,924.54</td>\n",
       "    </tr>\n",
       "    <tr>\n",
       "      <th id=\"T_7762a_level0_row2\" class=\"row_heading level0 row2\" >customer_id</th>\n",
       "      <td id=\"T_7762a_row2_col0\" class=\"data row2 col0\" >12,346.00</td>\n",
       "      <td id=\"T_7762a_row2_col1\" class=\"data row2 col1\" >18,287.00</td>\n",
       "      <td id=\"T_7762a_row2_col2\" class=\"data row2 col2\" >5,941.00</td>\n",
       "      <td id=\"T_7762a_row2_col3\" class=\"data row2 col3\" >15,287.69</td>\n",
       "      <td id=\"T_7762a_row2_col4\" class=\"data row2 col4\" >15,152.00</td>\n",
       "      <td id=\"T_7762a_row2_col5\" class=\"data row2 col5\" >1,713.60</td>\n",
       "      <td id=\"T_7762a_row2_col6\" class=\"data row2 col6\" >0.03</td>\n",
       "      <td id=\"T_7762a_row2_col7\" class=\"data row2 col7\" >-1.18</td>\n",
       "    </tr>\n",
       "  </tbody>\n",
       "</table>\n"
      ],
      "text/plain": [
       "<pandas.io.formats.style.Styler at 0x7f16446e9520>"
      ]
     },
     "execution_count": 17,
     "metadata": {},
     "output_type": "execute_result"
    }
   ],
   "source": [
    "num_att = df1.select_dtypes(include= ['int','float'])\n",
    "d1 = pd.DataFrame( num_att.min() ).T\n",
    "d2 = pd.DataFrame( num_att.max() ).T\n",
    "d3 = pd.DataFrame( num_att.max() - num_att.min() ).T\n",
    "d4 = pd.DataFrame( num_att.mean() ).T\n",
    "d5 = pd.DataFrame( num_att.median() ).T\n",
    "d6 = pd.DataFrame( num_att.std() ).T\n",
    "d7 = pd.DataFrame( num_att.skew() ).T\n",
    "d8 = pd.DataFrame( num_att.kurtosis() ).T\n",
    "\n",
    "desc = pd.concat( [d1, d2, d3, d4, d5, d6, d7, d8] ).T\n",
    "desc.columns = ['min', 'max', 'range', 'mean', 'median', 'std', 'skew', 'kurtosis' ]\n",
    "desc.style.format( \"{:,.2f}\" )"
   ]
  },
  {
   "cell_type": "markdown",
   "id": "31591da8",
   "metadata": {
    "heading_collapsed": true,
    "papermill": {
     "duration": 0.09555,
     "end_time": "2022-03-23T14:08:24.052379",
     "exception": false,
     "start_time": "2022-03-23T14:08:23.956829",
     "status": "completed"
    },
    "tags": []
   },
   "source": [
    "# 2.0 Data Filtering"
   ]
  },
  {
   "cell_type": "markdown",
   "id": "bd71ad7a",
   "metadata": {
    "papermill": {
     "duration": 0.097213,
     "end_time": "2022-03-23T14:08:24.250515",
     "exception": false,
     "start_time": "2022-03-23T14:08:24.153302",
     "status": "completed"
    },
    "tags": []
   },
   "source": [
    "## 2.1 Data Inspection"
   ]
  },
  {
   "cell_type": "code",
   "execution_count": 18,
   "id": "d9abc869",
   "metadata": {
    "execution": {
     "iopub.execute_input": "2022-03-23T14:08:24.454822Z",
     "iopub.status.busy": "2022-03-23T14:08:24.454151Z",
     "iopub.status.idle": "2022-03-23T14:08:24.614348Z",
     "shell.execute_reply": "2022-03-23T14:08:24.613780Z"
    },
    "papermill": {
     "duration": 0.266016,
     "end_time": "2022-03-23T14:08:24.616363",
     "exception": false,
     "start_time": "2022-03-23T14:08:24.350347",
     "status": "completed"
    },
    "tags": []
   },
   "outputs": [
    {
     "data": {
      "text/plain": [
       "29561"
      ]
     },
     "execution_count": 18,
     "metadata": {},
     "output_type": "execute_result"
    }
   ],
   "source": [
    "df2 = df1.copy()\n",
    "\n",
    "del df1\n",
    "gc.collect()"
   ]
  },
  {
   "cell_type": "markdown",
   "id": "0d39f732",
   "metadata": {
    "papermill": {
     "duration": 0.097175,
     "end_time": "2022-03-23T14:08:24.810818",
     "exception": false,
     "start_time": "2022-03-23T14:08:24.713643",
     "status": "completed"
    },
    "tags": []
   },
   "source": [
    "### Stock Code"
   ]
  },
  {
   "cell_type": "code",
   "execution_count": 19,
   "id": "4c9b657c",
   "metadata": {
    "execution": {
     "iopub.execute_input": "2022-03-23T14:08:25.007486Z",
     "iopub.status.busy": "2022-03-23T14:08:25.006825Z",
     "iopub.status.idle": "2022-03-23T14:08:25.575593Z",
     "shell.execute_reply": "2022-03-23T14:08:25.575006Z"
    },
    "papermill": {
     "duration": 0.669735,
     "end_time": "2022-03-23T14:08:25.577561",
     "exception": false,
     "start_time": "2022-03-23T14:08:24.907826",
     "status": "completed"
    },
    "tags": []
   },
   "outputs": [
    {
     "data": {
      "text/html": [
       "<div>\n",
       "<style scoped>\n",
       "    .dataframe tbody tr th:only-of-type {\n",
       "        vertical-align: middle;\n",
       "    }\n",
       "\n",
       "    .dataframe tbody tr th {\n",
       "        vertical-align: top;\n",
       "    }\n",
       "\n",
       "    .dataframe thead th {\n",
       "        text-align: right;\n",
       "    }\n",
       "</style>\n",
       "<table border=\"1\" class=\"dataframe\">\n",
       "  <thead>\n",
       "    <tr style=\"text-align: right;\">\n",
       "      <th></th>\n",
       "      <th>invoice_no</th>\n",
       "      <th>stock_code</th>\n",
       "      <th>description</th>\n",
       "      <th>quantity</th>\n",
       "      <th>invoice_date</th>\n",
       "      <th>unit_price</th>\n",
       "      <th>customer_id</th>\n",
       "      <th>country</th>\n",
       "    </tr>\n",
       "  </thead>\n",
       "  <tbody>\n",
       "    <tr>\n",
       "      <th>45</th>\n",
       "      <td>536370</td>\n",
       "      <td>POST</td>\n",
       "      <td>POSTAGE</td>\n",
       "      <td>3</td>\n",
       "      <td>2016-11-29</td>\n",
       "      <td>18.00</td>\n",
       "      <td>12583</td>\n",
       "      <td>France</td>\n",
       "    </tr>\n",
       "    <tr>\n",
       "      <th>141</th>\n",
       "      <td>C536379</td>\n",
       "      <td>D</td>\n",
       "      <td>Discount</td>\n",
       "      <td>-1</td>\n",
       "      <td>2016-11-29</td>\n",
       "      <td>27.50</td>\n",
       "      <td>14527</td>\n",
       "      <td>United Kingdom</td>\n",
       "    </tr>\n",
       "    <tr>\n",
       "      <th>386</th>\n",
       "      <td>536403</td>\n",
       "      <td>POST</td>\n",
       "      <td>POSTAGE</td>\n",
       "      <td>1</td>\n",
       "      <td>2016-11-29</td>\n",
       "      <td>15.00</td>\n",
       "      <td>12791</td>\n",
       "      <td>Netherlands</td>\n",
       "    </tr>\n",
       "    <tr>\n",
       "      <th>1123</th>\n",
       "      <td>536527</td>\n",
       "      <td>POST</td>\n",
       "      <td>POSTAGE</td>\n",
       "      <td>1</td>\n",
       "      <td>2016-11-29</td>\n",
       "      <td>18.00</td>\n",
       "      <td>12662</td>\n",
       "      <td>Germany</td>\n",
       "    </tr>\n",
       "    <tr>\n",
       "      <th>2239</th>\n",
       "      <td>536569</td>\n",
       "      <td>M</td>\n",
       "      <td>Manual</td>\n",
       "      <td>1</td>\n",
       "      <td>2016-11-29</td>\n",
       "      <td>1.25</td>\n",
       "      <td>16274</td>\n",
       "      <td>United Kingdom</td>\n",
       "    </tr>\n",
       "    <tr>\n",
       "      <th>2250</th>\n",
       "      <td>536569</td>\n",
       "      <td>M</td>\n",
       "      <td>Manual</td>\n",
       "      <td>1</td>\n",
       "      <td>2016-11-29</td>\n",
       "      <td>18.95</td>\n",
       "      <td>16274</td>\n",
       "      <td>United Kingdom</td>\n",
       "    </tr>\n",
       "    <tr>\n",
       "      <th>4406</th>\n",
       "      <td>536779</td>\n",
       "      <td>BANK CHARGES</td>\n",
       "      <td>Bank Charges</td>\n",
       "      <td>1</td>\n",
       "      <td>2016-11-30</td>\n",
       "      <td>15.00</td>\n",
       "      <td>15823</td>\n",
       "      <td>United Kingdom</td>\n",
       "    </tr>\n",
       "    <tr>\n",
       "      <th>5073</th>\n",
       "      <td>536840</td>\n",
       "      <td>POST</td>\n",
       "      <td>POSTAGE</td>\n",
       "      <td>1</td>\n",
       "      <td>2016-11-30</td>\n",
       "      <td>18.00</td>\n",
       "      <td>12738</td>\n",
       "      <td>Germany</td>\n",
       "    </tr>\n",
       "    <tr>\n",
       "      <th>5258</th>\n",
       "      <td>536852</td>\n",
       "      <td>POST</td>\n",
       "      <td>POSTAGE</td>\n",
       "      <td>1</td>\n",
       "      <td>2016-12-01</td>\n",
       "      <td>18.00</td>\n",
       "      <td>12686</td>\n",
       "      <td>France</td>\n",
       "    </tr>\n",
       "    <tr>\n",
       "      <th>5325</th>\n",
       "      <td>536858</td>\n",
       "      <td>POST</td>\n",
       "      <td>POSTAGE</td>\n",
       "      <td>2</td>\n",
       "      <td>2016-12-01</td>\n",
       "      <td>40.00</td>\n",
       "      <td>13520</td>\n",
       "      <td>Switzerland</td>\n",
       "    </tr>\n",
       "  </tbody>\n",
       "</table>\n",
       "</div>"
      ],
      "text/plain": [
       "     invoice_no    stock_code   description  quantity invoice_date  unit_price  customer_id         country\n",
       "45       536370          POST       POSTAGE         3   2016-11-29       18.00        12583          France\n",
       "141     C536379             D      Discount        -1   2016-11-29       27.50        14527  United Kingdom\n",
       "386      536403          POST       POSTAGE         1   2016-11-29       15.00        12791     Netherlands\n",
       "1123     536527          POST       POSTAGE         1   2016-11-29       18.00        12662         Germany\n",
       "2239     536569             M        Manual         1   2016-11-29        1.25        16274  United Kingdom\n",
       "2250     536569             M        Manual         1   2016-11-29       18.95        16274  United Kingdom\n",
       "4406     536779  BANK CHARGES  Bank Charges         1   2016-11-30       15.00        15823  United Kingdom\n",
       "5073     536840          POST       POSTAGE         1   2016-11-30       18.00        12738         Germany\n",
       "5258     536852          POST       POSTAGE         1   2016-12-01       18.00        12686          France\n",
       "5325     536858          POST       POSTAGE         2   2016-12-01       40.00        13520     Switzerland"
      ]
     },
     "execution_count": 19,
     "metadata": {},
     "output_type": "execute_result"
    }
   ],
   "source": [
    "# selecting rows with only non digits\n",
    "df_stock = df2.loc[df2['stock_code'].apply( lambda x: bool(re.search('^[\\D]+$', x)) )]\n",
    "df_stock.head(10)"
   ]
  },
  {
   "cell_type": "code",
   "execution_count": 20,
   "id": "8d6bffcf",
   "metadata": {
    "execution": {
     "iopub.execute_input": "2022-03-23T14:08:25.771325Z",
     "iopub.status.busy": "2022-03-23T14:08:25.770645Z",
     "iopub.status.idle": "2022-03-23T14:08:25.780902Z",
     "shell.execute_reply": "2022-03-23T14:08:25.780346Z"
    },
    "papermill": {
     "duration": 0.109655,
     "end_time": "2022-03-23T14:08:25.783089",
     "exception": false,
     "start_time": "2022-03-23T14:08:25.673434",
     "status": "completed"
    },
    "tags": []
   },
   "outputs": [
    {
     "data": {
      "text/plain": [
       "POST            1196\n",
       "M                465\n",
       "D                 77\n",
       "DOT               16\n",
       "CRUK              16\n",
       "BANK CHARGES      12\n",
       "PADS               4\n",
       "Name: stock_code, dtype: int64"
      ]
     },
     "execution_count": 20,
     "metadata": {},
     "output_type": "execute_result"
    }
   ],
   "source": [
    "# values to remove\n",
    "drop_stock = df_stock['stock_code'].unique().tolist()\n",
    "\n",
    "df_stock['stock_code'].value_counts()"
   ]
  },
  {
   "cell_type": "markdown",
   "id": "142738d5",
   "metadata": {
    "papermill": {
     "duration": 0.09653,
     "end_time": "2022-03-23T14:08:25.976894",
     "exception": false,
     "start_time": "2022-03-23T14:08:25.880364",
     "status": "completed"
    },
    "tags": []
   },
   "source": [
    "### Country"
   ]
  },
  {
   "cell_type": "code",
   "execution_count": 21,
   "id": "77d95236",
   "metadata": {
    "execution": {
     "iopub.execute_input": "2022-03-23T14:08:26.176026Z",
     "iopub.status.busy": "2022-03-23T14:08:26.175385Z",
     "iopub.status.idle": "2022-03-23T14:08:26.178770Z",
     "shell.execute_reply": "2022-03-23T14:08:26.178175Z"
    },
    "papermill": {
     "duration": 0.106734,
     "end_time": "2022-03-23T14:08:26.181866",
     "exception": false,
     "start_time": "2022-03-23T14:08:26.075132",
     "status": "completed"
    },
    "tags": []
   },
   "outputs": [],
   "source": [
    "#countries to drop\n",
    "drop_country = ['Unspecified', 'European Community']"
   ]
  },
  {
   "cell_type": "markdown",
   "id": "b8ebedbc",
   "metadata": {
    "papermill": {
     "duration": 0.0971,
     "end_time": "2022-03-23T14:08:26.376176",
     "exception": false,
     "start_time": "2022-03-23T14:08:26.279076",
     "status": "completed"
    },
    "tags": []
   },
   "source": [
    "## 2.2 Data Filtering"
   ]
  },
  {
   "cell_type": "code",
   "execution_count": 22,
   "id": "9e46535e",
   "metadata": {
    "execution": {
     "iopub.execute_input": "2022-03-23T14:08:26.575999Z",
     "iopub.status.busy": "2022-03-23T14:08:26.575367Z",
     "iopub.status.idle": "2022-03-23T14:08:26.684699Z",
     "shell.execute_reply": "2022-03-23T14:08:26.684062Z"
    },
    "papermill": {
     "duration": 0.211288,
     "end_time": "2022-03-23T14:08:26.687029",
     "exception": false,
     "start_time": "2022-03-23T14:08:26.475741",
     "status": "completed"
    },
    "tags": []
   },
   "outputs": [],
   "source": [
    "# dropping stock code\n",
    "df2 = df2.loc[~ df2['stock_code'].isin(drop_stock)]\n",
    "\n",
    "# dropping countries\n",
    "df2 = df2.loc[~ df2['country'].isin(drop_country)]\n"
   ]
  },
  {
   "cell_type": "markdown",
   "id": "8364b205",
   "metadata": {
    "papermill": {
     "duration": 0.097839,
     "end_time": "2022-03-23T14:08:26.881973",
     "exception": false,
     "start_time": "2022-03-23T14:08:26.784134",
     "status": "completed"
    },
    "tags": []
   },
   "source": [
    "# 3.0 Feature Engineering"
   ]
  },
  {
   "cell_type": "markdown",
   "id": "34b12613",
   "metadata": {
    "papermill": {
     "duration": 0.103072,
     "end_time": "2022-03-23T14:08:27.080836",
     "exception": false,
     "start_time": "2022-03-23T14:08:26.977764",
     "status": "completed"
    },
    "tags": []
   },
   "source": [
    "Now lets calculate recency, frequency and monetary using only purchases (not considering returns as a interaction)"
   ]
  },
  {
   "cell_type": "code",
   "execution_count": 23,
   "id": "6af576d0",
   "metadata": {
    "execution": {
     "iopub.execute_input": "2022-03-23T14:08:27.280555Z",
     "iopub.status.busy": "2022-03-23T14:08:27.279921Z",
     "iopub.status.idle": "2022-03-23T14:08:27.451756Z",
     "shell.execute_reply": "2022-03-23T14:08:27.451176Z"
    },
    "papermill": {
     "duration": 0.272657,
     "end_time": "2022-03-23T14:08:27.453735",
     "exception": false,
     "start_time": "2022-03-23T14:08:27.181078",
     "status": "completed"
    },
    "tags": []
   },
   "outputs": [
    {
     "data": {
      "text/plain": [
       "105"
      ]
     },
     "execution_count": 23,
     "metadata": {},
     "output_type": "execute_result"
    }
   ],
   "source": [
    "# Reading Data\n",
    "df3 = df2.copy()\n",
    "\n",
    "# df3 = pd.read_csv('../data/interim/df2.csv', float_precision='round_trip')\n",
    "# df3['invoice_date'] = pd.to_datetime( df3['invoice_date'] )\n",
    "\n",
    "# separating returns from purchases\n",
    "df_returns = df3.loc[ df3['quantity'] < 0 ]\n",
    "df_purchases = df3.loc[ df3['quantity'] >= 0 ]\n",
    "\n",
    "del df2\n",
    "gc.collect()"
   ]
  },
  {
   "cell_type": "markdown",
   "id": "72b48dbe",
   "metadata": {
    "papermill": {
     "duration": 0.096774,
     "end_time": "2022-03-23T14:08:27.653578",
     "exception": false,
     "start_time": "2022-03-23T14:08:27.556804",
     "status": "completed"
    },
    "tags": []
   },
   "source": [
    "### Recency"
   ]
  },
  {
   "cell_type": "code",
   "execution_count": 24,
   "id": "f5f421dc",
   "metadata": {
    "execution": {
     "iopub.execute_input": "2022-03-23T14:08:27.854070Z",
     "iopub.status.busy": "2022-03-23T14:08:27.853412Z",
     "iopub.status.idle": "2022-03-23T14:08:27.877982Z",
     "shell.execute_reply": "2022-03-23T14:08:27.877373Z"
    },
    "papermill": {
     "duration": 0.127424,
     "end_time": "2022-03-23T14:08:27.880168",
     "exception": false,
     "start_time": "2022-03-23T14:08:27.752744",
     "status": "completed"
    },
    "tags": []
   },
   "outputs": [],
   "source": [
    "# days since last purchase (considering first day as day after last invoice)\n",
    "df_recency = df_purchases[['customer_id', 'invoice_date']].copy()\n",
    "df_recency = df_recency.drop_duplicates(subset = 'customer_id', keep = 'last')\n",
    "\n",
    "# using final date as max date + 1\n",
    "df_recency['recency'] =  (pd.to_datetime('2017-12-08') - df_recency['invoice_date']).dt.days\n",
    "df_recency.drop(columns=['invoice_date'], inplace = True)\n"
   ]
  },
  {
   "cell_type": "markdown",
   "id": "c7fe0825",
   "metadata": {
    "papermill": {
     "duration": 0.098042,
     "end_time": "2022-03-23T14:08:28.080676",
     "exception": false,
     "start_time": "2022-03-23T14:08:27.982634",
     "status": "completed"
    },
    "tags": []
   },
   "source": [
    "### Average Days Between Purchases"
   ]
  },
  {
   "cell_type": "code",
   "execution_count": 25,
   "id": "e4f54af1",
   "metadata": {
    "execution": {
     "iopub.execute_input": "2022-03-23T14:08:28.294856Z",
     "iopub.status.busy": "2022-03-23T14:08:28.294155Z",
     "iopub.status.idle": "2022-03-23T14:08:28.862131Z",
     "shell.execute_reply": "2022-03-23T14:08:28.861517Z"
    },
    "papermill": {
     "duration": 0.679152,
     "end_time": "2022-03-23T14:08:28.864457",
     "exception": false,
     "start_time": "2022-03-23T14:08:28.185305",
     "status": "completed"
    },
    "tags": []
   },
   "outputs": [],
   "source": [
    "df_dates = df_purchases[['customer_id', 'invoice_date']].copy()\n",
    "\n",
    "# creates a column with the dates shifted by 1 to calculate difference betwenn last purchase and previous purchase\n",
    "df_dates = df_dates.drop_duplicates()\n",
    "df_dates['previous_date'] = df_dates.groupby('customer_id')['invoice_date'].shift()\n",
    "\n",
    "# extracts days betwenn last purchase and previous purchase for each pair of dates\n",
    "df_dates['days'] = df_dates.apply(lambda x : (x['invoice_date'] - x['previous_date']).days , axis = 1 )\n",
    "\n",
    "# calculating average of days between purchases\n",
    "df_dates = df_dates[['customer_id', 'days']].groupby('customer_id').mean().reset_index().rename(columns = {'days': 'avg_days_bw_purchases'})\n",
    "\n",
    "df_dates.fillna(value = 0, inplace = True)\n",
    "# df_dates.head()"
   ]
  },
  {
   "cell_type": "code",
   "execution_count": 26,
   "id": "85ff8a37",
   "metadata": {
    "execution": {
     "iopub.execute_input": "2022-03-23T14:08:29.070040Z",
     "iopub.status.busy": "2022-03-23T14:08:29.069384Z",
     "iopub.status.idle": "2022-03-23T14:08:29.632535Z",
     "shell.execute_reply": "2022-03-23T14:08:29.631925Z"
    },
    "papermill": {
     "duration": 0.666778,
     "end_time": "2022-03-23T14:08:29.634850",
     "exception": false,
     "start_time": "2022-03-23T14:08:28.968072",
     "status": "completed"
    },
    "tags": []
   },
   "outputs": [],
   "source": [
    "df_dates = df_purchases[['customer_id', 'invoice_date']].copy()\n",
    "\n",
    "# creates a column with the dates shifted by 1 to calculate difference betwenn last purchase and previous purchase\n",
    "df_dates = df_dates.drop_duplicates()\n",
    "df_dates['previous_date'] = df_dates.groupby('customer_id')['invoice_date'].shift()\n",
    "\n",
    "# # extracts days betwenn last purchase and previous purchase for each pair of dates\n",
    "df_dates['days'] = df_dates.apply(lambda x : (x['invoice_date'] - x['previous_date']).days , axis = 1 )\n",
    "\n",
    "# # calculating average of days between purchases\n",
    "df_dates = df_dates[['customer_id', 'days']].groupby('customer_id').mean().reset_index().rename(columns = {'days': 'avg_days_bw_purchases'})\n",
    "\n",
    "df_dates.fillna(value = 0, inplace = True)\n",
    "# df_dates.isna().sum()\n",
    "# df_dates[df_dates.customer_id == 12346] #.mean()\n",
    "# df_dates.head()"
   ]
  },
  {
   "cell_type": "markdown",
   "id": "d1fa4d2f",
   "metadata": {
    "papermill": {
     "duration": 0.102275,
     "end_time": "2022-03-23T14:08:29.833731",
     "exception": false,
     "start_time": "2022-03-23T14:08:29.731456",
     "status": "completed"
    },
    "tags": []
   },
   "source": [
    "### Frequency"
   ]
  },
  {
   "cell_type": "code",
   "execution_count": 27,
   "id": "47e77824",
   "metadata": {
    "execution": {
     "iopub.execute_input": "2022-03-23T14:08:30.035837Z",
     "iopub.status.busy": "2022-03-23T14:08:30.035179Z",
     "iopub.status.idle": "2022-03-23T14:08:32.270375Z",
     "shell.execute_reply": "2022-03-23T14:08:32.269758Z"
    },
    "papermill": {
     "duration": 2.34279,
     "end_time": "2022-03-23T14:08:32.272722",
     "exception": false,
     "start_time": "2022-03-23T14:08:29.929932",
     "status": "completed"
    },
    "tags": []
   },
   "outputs": [],
   "source": [
    "# Frequency\n",
    "# nº of purchases a customer did\n",
    "df_freq = df_purchases[['invoice_no', 'customer_id']].drop_duplicates('invoice_no').groupby(['customer_id']).count().reset_index().rename(columns = {'invoice_no' : 'num_purchases'} ) #'invoice_date',  #['num_of_purchases']\n",
    "\n",
    "# difference between firts and last transaction\n",
    "# if nº purchases made = 1: date range =  today - first purchase date\n",
    "# else last purchase - first purchase\n",
    "func = lambda x: (x.max() - x.min() if (x.max() - x.min()).days != 0 else pd.to_datetime('2017-12-08') - x.min() ).days\n",
    "\n",
    "# aggregating things\n",
    "df_date_range = df_purchases[[ 'customer_id', 'invoice_date' ]].groupby('customer_id').agg( func ).reset_index().rename(columns = {'invoice_date' : 'date_range'})\n",
    "\n",
    "df_freq = df_freq.merge(df_date_range, on = 'customer_id', how = 'left')\n",
    "df_freq['frequency'] = df_freq['num_purchases']/df_freq['date_range']\n",
    "\n",
    "# df_freq.head()"
   ]
  },
  {
   "cell_type": "markdown",
   "id": "083375d1",
   "metadata": {
    "papermill": {
     "duration": 0.100896,
     "end_time": "2022-03-23T14:08:32.480817",
     "exception": false,
     "start_time": "2022-03-23T14:08:32.379921",
     "status": "completed"
    },
    "tags": []
   },
   "source": [
    "### Revenue"
   ]
  },
  {
   "cell_type": "code",
   "execution_count": 28,
   "id": "75ddb678",
   "metadata": {
    "execution": {
     "iopub.execute_input": "2022-03-23T14:08:32.681704Z",
     "iopub.status.busy": "2022-03-23T14:08:32.681058Z",
     "iopub.status.idle": "2022-03-23T14:08:32.733203Z",
     "shell.execute_reply": "2022-03-23T14:08:32.732596Z"
    },
    "papermill": {
     "duration": 0.153948,
     "end_time": "2022-03-23T14:08:32.735534",
     "exception": false,
     "start_time": "2022-03-23T14:08:32.581586",
     "status": "completed"
    },
    "tags": []
   },
   "outputs": [],
   "source": [
    "# revenue\n",
    "# copying from original dataset so that revenue represents net earnings (purchases - returns)\n",
    "df_revenue = df3[['unit_price','quantity','customer_id']].copy()\n",
    "df_revenue['quantity'] = df_revenue['quantity'].astype(float)\n",
    "df_revenue['customer_spend'] = df_revenue['unit_price']*df_revenue['quantity']\n",
    "\n",
    "# calculating revenue\n",
    "df_revenue = df_revenue[['customer_id', 'customer_spend']].groupby('customer_id').sum().reset_index().rename(columns = {'customer_spend' : 'revenue'})\n",
    "\n",
    "# defining number of purchases\n",
    "df_revenue = df_revenue.merge( df_freq[['customer_id', 'num_purchases']], on = 'customer_id', how = 'left' )\n",
    "\n",
    "# calculating avg ticket\n",
    "df_revenue['avg_ticket'] = df_revenue['revenue']/df_revenue['num_purchases']\n",
    "df_revenue.drop('num_purchases', axis = 1, inplace = True)\n",
    "\n",
    "# # deleting rows that we have data about return and not about purchase (purchase outside time frame of dataset)\n",
    "df_revenue = df_revenue[ df_revenue['revenue'] > 0.1 ].copy()\n",
    "# df_revenue.head()"
   ]
  },
  {
   "cell_type": "markdown",
   "id": "27714543",
   "metadata": {
    "papermill": {
     "duration": 0.101278,
     "end_time": "2022-03-23T14:08:32.938391",
     "exception": false,
     "start_time": "2022-03-23T14:08:32.837113",
     "status": "completed"
    },
    "tags": []
   },
   "source": [
    "### Basket Size"
   ]
  },
  {
   "cell_type": "code",
   "execution_count": 29,
   "id": "0da55d8f",
   "metadata": {
    "execution": {
     "iopub.execute_input": "2022-03-23T14:08:33.141865Z",
     "iopub.status.busy": "2022-03-23T14:08:33.141213Z",
     "iopub.status.idle": "2022-03-23T14:08:33.229036Z",
     "shell.execute_reply": "2022-03-23T14:08:33.228425Z"
    },
    "papermill": {
     "duration": 0.187892,
     "end_time": "2022-03-23T14:08:33.231382",
     "exception": false,
     "start_time": "2022-03-23T14:08:33.043490",
     "status": "completed"
    },
    "tags": []
   },
   "outputs": [],
   "source": [
    "# selecting cols\n",
    "df_basket = df3[['customer_id', 'invoice_no', 'quantity']].copy()\n",
    "\n",
    "# counting items per invoice\n",
    "df_basket = df_basket.groupby(['customer_id', 'invoice_no']).sum().reset_index()\n",
    "\n",
    "# calculating quantity of items purchased + avg basket size (men of quantities)\n",
    "df_basket = df_basket.groupby(['customer_id']).agg( qty_items = ('quantity', 'sum'), avg_basket_size = ('quantity', 'mean') ).reset_index()\n",
    "\n",
    "# renaming\n",
    "df_basket = df_basket.rename( columns = {'quantity' : 'avg_basket_size'})\n",
    "\n",
    "# df_basket.head()"
   ]
  },
  {
   "cell_type": "markdown",
   "id": "052d473e",
   "metadata": {
    "papermill": {
     "duration": 0.098898,
     "end_time": "2022-03-23T14:08:33.429211",
     "exception": false,
     "start_time": "2022-03-23T14:08:33.330313",
     "status": "completed"
    },
    "tags": []
   },
   "source": [
    "### Average Unique Products Purchased Quantity"
   ]
  },
  {
   "cell_type": "code",
   "execution_count": 30,
   "id": "3fd38e5e",
   "metadata": {
    "execution": {
     "iopub.execute_input": "2022-03-23T14:08:33.640170Z",
     "iopub.status.busy": "2022-03-23T14:08:33.639520Z",
     "iopub.status.idle": "2022-03-23T14:08:33.832745Z",
     "shell.execute_reply": "2022-03-23T14:08:33.832129Z"
    },
    "papermill": {
     "duration": 0.303455,
     "end_time": "2022-03-23T14:08:33.835074",
     "exception": false,
     "start_time": "2022-03-23T14:08:33.531619",
     "status": "completed"
    },
    "tags": []
   },
   "outputs": [],
   "source": [
    "# selecting cols\n",
    "df_unique = df_purchases[['customer_id', 'invoice_no', 'stock_code']].copy()\n",
    "\n",
    "# counting number of different products per invoice\n",
    "df_unique = df_unique.groupby(['customer_id', 'invoice_no']).nunique().reset_index()\n",
    "\n",
    "# calculating mean of items per invoice\n",
    "df_unique = df_unique.groupby(['customer_id']).mean().reset_index()\n",
    "\n",
    "# # renaming\n",
    "df_unique = df_unique.rename( columns = {'stock_code' : 'avg_unique_prods'})\n",
    "\n",
    "# df_unique.head()"
   ]
  },
  {
   "cell_type": "markdown",
   "id": "7ef5122a",
   "metadata": {
    "papermill": {
     "duration": 0.101763,
     "end_time": "2022-03-23T14:08:34.043050",
     "exception": false,
     "start_time": "2022-03-23T14:08:33.941287",
     "status": "completed"
    },
    "tags": []
   },
   "source": [
    "### Returns"
   ]
  },
  {
   "cell_type": "code",
   "execution_count": 31,
   "id": "58b9af4c",
   "metadata": {
    "execution": {
     "iopub.execute_input": "2022-03-23T14:08:34.252118Z",
     "iopub.status.busy": "2022-03-23T14:08:34.251461Z",
     "iopub.status.idle": "2022-03-23T14:08:34.272837Z",
     "shell.execute_reply": "2022-03-23T14:08:34.272248Z"
    },
    "papermill": {
     "duration": 0.124477,
     "end_time": "2022-03-23T14:08:34.275070",
     "exception": false,
     "start_time": "2022-03-23T14:08:34.150593",
     "status": "completed"
    },
    "tags": []
   },
   "outputs": [],
   "source": [
    "# creating returns variables\n",
    "\n",
    "df_returns = df_returns[['quantity', 'invoice_date', 'unit_price', 'customer_id', 'invoice_no']]\n",
    "\n",
    "df_returns['customer_spend'] = df_returns['unit_price']*df_returns['quantity']\n",
    "\n",
    "# sum and mean of revenue\n",
    "df_returns_metrics = df_returns[['customer_id', 'customer_spend', 'quantity']].groupby('customer_id').agg( \n",
    "    returns_revenue = ('customer_spend', 'sum'),\n",
    "    avg_return_revenue = ('customer_spend', 'mean'),\n",
    "    num_returns = ('customer_spend', 'count'),\n",
    "    qty_returned = ('quantity', 'sum')  )\n",
    "\n",
    "df_returns_metrics = pd.DataFrame( df_returns_metrics.to_records() )\n",
    "\n",
    "# df_returns_metrics.head()"
   ]
  },
  {
   "cell_type": "code",
   "execution_count": 32,
   "id": "6b791660",
   "metadata": {
    "execution": {
     "iopub.execute_input": "2022-03-23T14:08:34.478172Z",
     "iopub.status.busy": "2022-03-23T14:08:34.477516Z",
     "iopub.status.idle": "2022-03-23T14:08:34.529432Z",
     "shell.execute_reply": "2022-03-23T14:08:34.528854Z"
    },
    "papermill": {
     "duration": 0.154504,
     "end_time": "2022-03-23T14:08:34.531436",
     "exception": false,
     "start_time": "2022-03-23T14:08:34.376932",
     "status": "completed"
    },
    "tags": []
   },
   "outputs": [
    {
     "data": {
      "text/plain": [
       "(4315, 16)"
      ]
     },
     "execution_count": 32,
     "metadata": {},
     "output_type": "execute_result"
    }
   ],
   "source": [
    "# merging every feature together\n",
    "\n",
    "df_processed = df_purchases[['customer_id', 'country']].drop_duplicates('customer_id').copy()\n",
    "df_processed = pd.merge( df_processed, df_recency, on = 'customer_id', how = 'left' )\n",
    "df_processed = pd.merge( df_processed, df_dates, on = 'customer_id', how = 'left' )\n",
    "df_processed = pd.merge( df_processed, df_freq, on = 'customer_id', how = 'left' )\n",
    "df_processed = pd.merge( df_processed, df_revenue, on = 'customer_id', how = 'inner' )\n",
    "df_processed = pd.merge( df_processed, df_basket, on = 'customer_id', how = 'left' )\n",
    "df_processed = pd.merge( df_processed, df_unique, on = 'customer_id', how = 'left' )\n",
    "df_processed = pd.merge( df_processed, df_returns_metrics, on = 'customer_id', how = 'left' )\n",
    "\n",
    "\n",
    "# filling na as 0 for customers that never returned an item\n",
    "df_processed.fillna(value = 0, inplace = True)\n",
    "\n",
    "# df_processed.dropna( inplace = True)\n",
    "# df_processed.isna().sum()\n",
    "# df_processed.head(10)\n",
    "df_processed.shape"
   ]
  },
  {
   "cell_type": "code",
   "execution_count": 33,
   "id": "65f769e4",
   "metadata": {
    "execution": {
     "iopub.execute_input": "2022-03-23T14:08:34.741019Z",
     "iopub.status.busy": "2022-03-23T14:08:34.740366Z",
     "iopub.status.idle": "2022-03-23T14:08:34.743545Z",
     "shell.execute_reply": "2022-03-23T14:08:34.742973Z"
    },
    "papermill": {
     "duration": 0.109351,
     "end_time": "2022-03-23T14:08:34.746700",
     "exception": false,
     "start_time": "2022-03-23T14:08:34.637349",
     "status": "completed"
    },
    "tags": []
   },
   "outputs": [],
   "source": [
    "# df_processed.to_csv('../data/processed/df3_processed.csv', index = False)"
   ]
  },
  {
   "cell_type": "markdown",
   "id": "16999243",
   "metadata": {
    "heading_collapsed": true,
    "papermill": {
     "duration": 0.107867,
     "end_time": "2022-03-23T14:08:34.957000",
     "exception": false,
     "start_time": "2022-03-23T14:08:34.849133",
     "status": "completed"
    },
    "tags": []
   },
   "source": [
    "# 4.0 Exploratory Data Analysis"
   ]
  },
  {
   "cell_type": "code",
   "execution_count": 34,
   "id": "7d442177",
   "metadata": {
    "execution": {
     "iopub.execute_input": "2022-03-23T14:08:35.165211Z",
     "iopub.status.busy": "2022-03-23T14:08:35.164562Z",
     "iopub.status.idle": "2022-03-23T14:08:35.299022Z",
     "shell.execute_reply": "2022-03-23T14:08:35.298422Z"
    },
    "papermill": {
     "duration": 0.243978,
     "end_time": "2022-03-23T14:08:35.301015",
     "exception": false,
     "start_time": "2022-03-23T14:08:35.057037",
     "status": "completed"
    },
    "tags": []
   },
   "outputs": [
    {
     "data": {
      "text/plain": [
       "42"
      ]
     },
     "execution_count": 34,
     "metadata": {},
     "output_type": "execute_result"
    }
   ],
   "source": [
    "# Reading filtered data\n",
    "# df4 = pd.read_csv('../data/processed/df3_processed.csv')\n",
    "df4 = df_processed.copy()\n",
    "\n",
    "del df3, df_processed, df_returns, df_purchases \n",
    "gc.collect()"
   ]
  },
  {
   "cell_type": "markdown",
   "id": "daa8216f",
   "metadata": {
    "heading_collapsed": true,
    "hidden": true,
    "papermill": {
     "duration": 0.098056,
     "end_time": "2022-03-23T14:08:35.507865",
     "exception": false,
     "start_time": "2022-03-23T14:08:35.409809",
     "status": "completed"
    },
    "tags": []
   },
   "source": [
    "## 4.1 Univariate Analysis"
   ]
  },
  {
   "cell_type": "code",
   "execution_count": 35,
   "id": "379714ce",
   "metadata": {
    "execution": {
     "iopub.execute_input": "2022-03-23T14:08:35.726216Z",
     "iopub.status.busy": "2022-03-23T14:08:35.725581Z",
     "iopub.status.idle": "2022-03-23T14:08:35.734257Z",
     "shell.execute_reply": "2022-03-23T14:08:35.733709Z"
    },
    "papermill": {
     "duration": 0.121075,
     "end_time": "2022-03-23T14:08:35.736243",
     "exception": false,
     "start_time": "2022-03-23T14:08:35.615168",
     "status": "completed"
    },
    "tags": []
   },
   "outputs": [],
   "source": [
    "### Returns\n",
    "\n",
    "df4.sort_values(['returns_revenue'], ascending = True).head()\n",
    "\n",
    "# This is propably an anomaly, error, or some data purposely inserted for unknown reasons\n",
    "# df3[df3.customer_id == 16446]\n",
    "# df3[df3.customer_id == 12346]\n",
    "\n",
    "# These customers indeed appear to have returned high quantities\n",
    "# df3[df3.customer_id == 15749]\n",
    "# df3[df3.customer_id == 16029]\n",
    "# df3[df3.customer_id == 12931]\n",
    "\n",
    "# droping weird behaviour\n",
    "cust_drop = [16446, 12346]\n",
    "df4 = df4[ ~ df4['customer_id'].isin(cust_drop)].copy()"
   ]
  },
  {
   "cell_type": "code",
   "execution_count": 36,
   "id": "5f9b3def",
   "metadata": {
    "execution": {
     "iopub.execute_input": "2022-03-23T14:08:35.941820Z",
     "iopub.status.busy": "2022-03-23T14:08:35.941163Z",
     "iopub.status.idle": "2022-03-23T14:08:35.948300Z",
     "shell.execute_reply": "2022-03-23T14:08:35.947721Z"
    },
    "papermill": {
     "duration": 0.112847,
     "end_time": "2022-03-23T14:08:35.950261",
     "exception": false,
     "start_time": "2022-03-23T14:08:35.837414",
     "status": "completed"
    },
    "tags": []
   },
   "outputs": [
    {
     "data": {
      "text/plain": [
       "(4314, 16)"
      ]
     },
     "execution_count": 36,
     "metadata": {},
     "output_type": "execute_result"
    }
   ],
   "source": [
    "df4.shape"
   ]
  },
  {
   "cell_type": "markdown",
   "id": "155122de",
   "metadata": {
    "heading_collapsed": true,
    "papermill": {
     "duration": 0.103231,
     "end_time": "2022-03-23T14:08:36.159637",
     "exception": false,
     "start_time": "2022-03-23T14:08:36.056406",
     "status": "completed"
    },
    "tags": []
   },
   "source": [
    "# 5.0 Data Preparation"
   ]
  },
  {
   "cell_type": "markdown",
   "id": "596f7029",
   "metadata": {
    "hidden": true,
    "papermill": {
     "duration": 0.098985,
     "end_time": "2022-03-23T14:08:36.360366",
     "exception": false,
     "start_time": "2022-03-23T14:08:36.261381",
     "status": "completed"
    },
    "tags": []
   },
   "source": [
    "## 5.1 Numerical Variables Preparation"
   ]
  },
  {
   "cell_type": "code",
   "execution_count": 37,
   "id": "4194968a",
   "metadata": {
    "execution": {
     "iopub.execute_input": "2022-03-23T14:08:36.571138Z",
     "iopub.status.busy": "2022-03-23T14:08:36.570451Z",
     "iopub.status.idle": "2022-03-23T14:08:36.577951Z",
     "shell.execute_reply": "2022-03-23T14:08:36.577379Z"
    },
    "papermill": {
     "duration": 0.114663,
     "end_time": "2022-03-23T14:08:36.579924",
     "exception": false,
     "start_time": "2022-03-23T14:08:36.465261",
     "status": "completed"
    },
    "tags": []
   },
   "outputs": [
    {
     "data": {
      "text/plain": [
       "(4314, 16)"
      ]
     },
     "execution_count": 37,
     "metadata": {},
     "output_type": "execute_result"
    }
   ],
   "source": [
    "# df5 = pd.read_csv('../data/processed/df4_processed.csv', float_precision = 'round_trip')\n",
    "df5 = df4.copy()\n",
    "df5.shape"
   ]
  },
  {
   "cell_type": "code",
   "execution_count": 38,
   "id": "619ccebc",
   "metadata": {
    "execution": {
     "iopub.execute_input": "2022-03-23T14:08:36.782751Z",
     "iopub.status.busy": "2022-03-23T14:08:36.782028Z",
     "iopub.status.idle": "2022-03-23T14:08:36.798039Z",
     "shell.execute_reply": "2022-03-23T14:08:36.797446Z"
    },
    "papermill": {
     "duration": 0.121004,
     "end_time": "2022-03-23T14:08:36.800034",
     "exception": false,
     "start_time": "2022-03-23T14:08:36.679030",
     "status": "completed"
    },
    "tags": []
   },
   "outputs": [
    {
     "name": "stdout",
     "output_type": "stream",
     "text": [
      "<class 'pandas.core.frame.DataFrame'>\n",
      "Int64Index: 4314 entries, 0 to 4314\n",
      "Data columns (total 16 columns):\n",
      " #   Column                 Non-Null Count  Dtype  \n",
      "---  ------                 --------------  -----  \n",
      " 0   customer_id            4314 non-null   int64  \n",
      " 1   country                4314 non-null   object \n",
      " 2   recency                4314 non-null   int64  \n",
      " 3   avg_days_bw_purchases  4314 non-null   float64\n",
      " 4   num_purchases          4314 non-null   int64  \n",
      " 5   date_range             4314 non-null   int64  \n",
      " 6   frequency              4314 non-null   float64\n",
      " 7   revenue                4314 non-null   float64\n",
      " 8   avg_ticket             4314 non-null   float64\n",
      " 9   qty_items              4314 non-null   int64  \n",
      " 10  avg_basket_size        4314 non-null   float64\n",
      " 11  avg_unique_prods       4314 non-null   float64\n",
      " 12  returns_revenue        4314 non-null   float64\n",
      " 13  avg_return_revenue     4314 non-null   float64\n",
      " 14  num_returns            4314 non-null   float64\n",
      " 15  qty_returned           4314 non-null   float64\n",
      "dtypes: float64(10), int64(5), object(1)\n",
      "memory usage: 573.0+ KB\n"
     ]
    }
   ],
   "source": [
    "df5.info()"
   ]
  },
  {
   "cell_type": "code",
   "execution_count": 39,
   "id": "4806c9ce",
   "metadata": {
    "execution": {
     "iopub.execute_input": "2022-03-23T14:08:37.005956Z",
     "iopub.status.busy": "2022-03-23T14:08:37.005299Z",
     "iopub.status.idle": "2022-03-23T14:08:37.126499Z",
     "shell.execute_reply": "2022-03-23T14:08:37.125926Z"
    },
    "papermill": {
     "duration": 0.227605,
     "end_time": "2022-03-23T14:08:37.128503",
     "exception": false,
     "start_time": "2022-03-23T14:08:36.900898",
     "status": "completed"
    },
    "tags": []
   },
   "outputs": [
    {
     "data": {
      "text/plain": [
       "21"
      ]
     },
     "execution_count": 39,
     "metadata": {},
     "output_type": "execute_result"
    }
   ],
   "source": [
    "del df4\n",
    "gc.collect()"
   ]
  },
  {
   "cell_type": "markdown",
   "id": "f15ecd07",
   "metadata": {
    "hidden": true,
    "papermill": {
     "duration": 0.106339,
     "end_time": "2022-03-23T14:08:37.341011",
     "exception": false,
     "start_time": "2022-03-23T14:08:37.234672",
     "status": "completed"
    },
    "tags": []
   },
   "source": [
    "### 5.1.1 Describing"
   ]
  },
  {
   "cell_type": "code",
   "execution_count": 40,
   "id": "442f7235",
   "metadata": {
    "execution": {
     "iopub.execute_input": "2022-03-23T14:08:37.550859Z",
     "iopub.status.busy": "2022-03-23T14:08:37.550190Z",
     "iopub.status.idle": "2022-03-23T14:08:37.584453Z",
     "shell.execute_reply": "2022-03-23T14:08:37.583884Z"
    },
    "papermill": {
     "duration": 0.144895,
     "end_time": "2022-03-23T14:08:37.586447",
     "exception": false,
     "start_time": "2022-03-23T14:08:37.441552",
     "status": "completed"
    },
    "tags": []
   },
   "outputs": [
    {
     "data": {
      "text/html": [
       "<style type=\"text/css\">\n",
       "</style>\n",
       "<table id=\"T_a9980\">\n",
       "  <thead>\n",
       "    <tr>\n",
       "      <th class=\"blank level0\" >&nbsp;</th>\n",
       "      <th id=\"T_a9980_level0_col0\" class=\"col_heading level0 col0\" >min</th>\n",
       "      <th id=\"T_a9980_level0_col1\" class=\"col_heading level0 col1\" >max</th>\n",
       "      <th id=\"T_a9980_level0_col2\" class=\"col_heading level0 col2\" >range</th>\n",
       "      <th id=\"T_a9980_level0_col3\" class=\"col_heading level0 col3\" >mean</th>\n",
       "      <th id=\"T_a9980_level0_col4\" class=\"col_heading level0 col4\" >median</th>\n",
       "      <th id=\"T_a9980_level0_col5\" class=\"col_heading level0 col5\" >std</th>\n",
       "      <th id=\"T_a9980_level0_col6\" class=\"col_heading level0 col6\" >skew</th>\n",
       "      <th id=\"T_a9980_level0_col7\" class=\"col_heading level0 col7\" >kurtosis</th>\n",
       "    </tr>\n",
       "  </thead>\n",
       "  <tbody>\n",
       "    <tr>\n",
       "      <th id=\"T_a9980_level0_row0\" class=\"row_heading level0 row0\" >customer_id</th>\n",
       "      <td id=\"T_a9980_row0_col0\" class=\"data row0 col0\" >12,347.00</td>\n",
       "      <td id=\"T_a9980_row0_col1\" class=\"data row0 col1\" >18,287.00</td>\n",
       "      <td id=\"T_a9980_row0_col2\" class=\"data row0 col2\" >5,940.00</td>\n",
       "      <td id=\"T_a9980_row0_col3\" class=\"data row0 col3\" >15,301.83</td>\n",
       "      <td id=\"T_a9980_row0_col4\" class=\"data row0 col4\" >15,300.50</td>\n",
       "      <td id=\"T_a9980_row0_col5\" class=\"data row0 col5\" >1,720.16</td>\n",
       "      <td id=\"T_a9980_row0_col6\" class=\"data row0 col6\" >0.00</td>\n",
       "      <td id=\"T_a9980_row0_col7\" class=\"data row0 col7\" >-1.20</td>\n",
       "    </tr>\n",
       "    <tr>\n",
       "      <th id=\"T_a9980_level0_row1\" class=\"row_heading level0 row1\" >recency</th>\n",
       "      <td id=\"T_a9980_row1_col0\" class=\"data row1 col0\" >1.00</td>\n",
       "      <td id=\"T_a9980_row1_col1\" class=\"data row1 col1\" >374.00</td>\n",
       "      <td id=\"T_a9980_row1_col2\" class=\"data row1 col2\" >373.00</td>\n",
       "      <td id=\"T_a9980_row1_col3\" class=\"data row1 col3\" >93.05</td>\n",
       "      <td id=\"T_a9980_row1_col4\" class=\"data row1 col4\" >51.00</td>\n",
       "      <td id=\"T_a9980_row1_col5\" class=\"data row1 col5\" >100.17</td>\n",
       "      <td id=\"T_a9980_row1_col6\" class=\"data row1 col6\" >1.25</td>\n",
       "      <td id=\"T_a9980_row1_col7\" class=\"data row1 col7\" >0.43</td>\n",
       "    </tr>\n",
       "    <tr>\n",
       "      <th id=\"T_a9980_level0_row2\" class=\"row_heading level0 row2\" >avg_days_bw_purchases</th>\n",
       "      <td id=\"T_a9980_row2_col0\" class=\"data row2 col0\" >0.00</td>\n",
       "      <td id=\"T_a9980_row2_col1\" class=\"data row2 col1\" >366.00</td>\n",
       "      <td id=\"T_a9980_row2_col2\" class=\"data row2 col2\" >366.00</td>\n",
       "      <td id=\"T_a9980_row2_col3\" class=\"data row2 col3\" >50.57</td>\n",
       "      <td id=\"T_a9980_row2_col4\" class=\"data row2 col4\" >31.09</td>\n",
       "      <td id=\"T_a9980_row2_col5\" class=\"data row2 col5\" >65.32</td>\n",
       "      <td id=\"T_a9980_row2_col6\" class=\"data row2 col6\" >1.99</td>\n",
       "      <td id=\"T_a9980_row2_col7\" class=\"data row2 col7\" >4.65</td>\n",
       "    </tr>\n",
       "    <tr>\n",
       "      <th id=\"T_a9980_level0_row3\" class=\"row_heading level0 row3\" >num_purchases</th>\n",
       "      <td id=\"T_a9980_row3_col0\" class=\"data row3 col0\" >1.00</td>\n",
       "      <td id=\"T_a9980_row3_col1\" class=\"data row3 col1\" >206.00</td>\n",
       "      <td id=\"T_a9980_row3_col2\" class=\"data row3 col2\" >205.00</td>\n",
       "      <td id=\"T_a9980_row3_col3\" class=\"data row3 col3\" >4.26</td>\n",
       "      <td id=\"T_a9980_row3_col4\" class=\"data row3 col4\" >2.00</td>\n",
       "      <td id=\"T_a9980_row3_col5\" class=\"data row3 col5\" >7.66</td>\n",
       "      <td id=\"T_a9980_row3_col6\" class=\"data row3 col6\" >11.95</td>\n",
       "      <td id=\"T_a9980_row3_col7\" class=\"data row3 col7\" >244.12</td>\n",
       "    </tr>\n",
       "    <tr>\n",
       "      <th id=\"T_a9980_level0_row4\" class=\"row_heading level0 row4\" >date_range</th>\n",
       "      <td id=\"T_a9980_row4_col0\" class=\"data row4 col0\" >1.00</td>\n",
       "      <td id=\"T_a9980_row4_col1\" class=\"data row4 col1\" >374.00</td>\n",
       "      <td id=\"T_a9980_row4_col2\" class=\"data row4 col2\" >373.00</td>\n",
       "      <td id=\"T_a9980_row4_col3\" class=\"data row4 col3\" >187.22</td>\n",
       "      <td id=\"T_a9980_row4_col4\" class=\"data row4 col4\" >191.00</td>\n",
       "      <td id=\"T_a9980_row4_col5\" class=\"data row4 col5\" >115.01</td>\n",
       "      <td id=\"T_a9980_row4_col6\" class=\"data row4 col6\" >0.01</td>\n",
       "      <td id=\"T_a9980_row4_col7\" class=\"data row4 col7\" >-1.33</td>\n",
       "    </tr>\n",
       "    <tr>\n",
       "      <th id=\"T_a9980_level0_row5\" class=\"row_heading level0 row5\" >frequency</th>\n",
       "      <td id=\"T_a9980_row5_col0\" class=\"data row5 col0\" >0.00</td>\n",
       "      <td id=\"T_a9980_row5_col1\" class=\"data row5 col1\" >34.00</td>\n",
       "      <td id=\"T_a9980_row5_col2\" class=\"data row5 col2\" >34.00</td>\n",
       "      <td id=\"T_a9980_row5_col3\" class=\"data row5 col3\" >0.05</td>\n",
       "      <td id=\"T_a9980_row5_col4\" class=\"data row5 col4\" >0.02</td>\n",
       "      <td id=\"T_a9980_row5_col5\" class=\"data row5 col5\" >0.54</td>\n",
       "      <td id=\"T_a9980_row5_col6\" class=\"data row5 col6\" >58.77</td>\n",
       "      <td id=\"T_a9980_row5_col7\" class=\"data row5 col7\" >3,681.78</td>\n",
       "    </tr>\n",
       "    <tr>\n",
       "      <th id=\"T_a9980_level0_row6\" class=\"row_heading level0 row6\" >revenue</th>\n",
       "      <td id=\"T_a9980_row6_col0\" class=\"data row6 col0\" >3.75</td>\n",
       "      <td id=\"T_a9980_row6_col1\" class=\"data row6 col1\" >278,778.02</td>\n",
       "      <td id=\"T_a9980_row6_col2\" class=\"data row6 col2\" >278,774.27</td>\n",
       "      <td id=\"T_a9980_row6_col3\" class=\"data row6 col3\" >1,922.49</td>\n",
       "      <td id=\"T_a9980_row6_col4\" class=\"data row6 col4\" >655.34</td>\n",
       "      <td id=\"T_a9980_row6_col5\" class=\"data row6 col5\" >8,326.44</td>\n",
       "      <td id=\"T_a9980_row6_col6\" class=\"data row6 col6\" >21.49</td>\n",
       "      <td id=\"T_a9980_row6_col7\" class=\"data row6 col7\" >594.95</td>\n",
       "    </tr>\n",
       "    <tr>\n",
       "      <th id=\"T_a9980_level0_row7\" class=\"row_heading level0 row7\" >avg_ticket</th>\n",
       "      <td id=\"T_a9980_row7_col0\" class=\"data row7 col0\" >3.75</td>\n",
       "      <td id=\"T_a9980_row7_col1\" class=\"data row7 col1\" >13,206.50</td>\n",
       "      <td id=\"T_a9980_row7_col2\" class=\"data row7 col2\" >13,202.75</td>\n",
       "      <td id=\"T_a9980_row7_col3\" class=\"data row7 col3\" >371.22</td>\n",
       "      <td id=\"T_a9980_row7_col4\" class=\"data row7 col4\" >283.27</td>\n",
       "      <td id=\"T_a9980_row7_col5\" class=\"data row7 col5\" >465.09</td>\n",
       "      <td id=\"T_a9980_row7_col6\" class=\"data row7 col6\" >10.65</td>\n",
       "      <td id=\"T_a9980_row7_col7\" class=\"data row7 col7\" >202.58</td>\n",
       "    </tr>\n",
       "    <tr>\n",
       "      <th id=\"T_a9980_level0_row8\" class=\"row_heading level0 row8\" >qty_items</th>\n",
       "      <td id=\"T_a9980_row8_col0\" class=\"data row8 col0\" >1.00</td>\n",
       "      <td id=\"T_a9980_row8_col1\" class=\"data row8 col1\" >197,132.00</td>\n",
       "      <td id=\"T_a9980_row8_col2\" class=\"data row8 col2\" >197,131.00</td>\n",
       "      <td id=\"T_a9980_row8_col3\" class=\"data row8 col3\" >1,133.25</td>\n",
       "      <td id=\"T_a9980_row8_col4\" class=\"data row8 col4\" >373.50</td>\n",
       "      <td id=\"T_a9980_row8_col5\" class=\"data row8 col5\" >4,701.25</td>\n",
       "      <td id=\"T_a9980_row8_col6\" class=\"data row8 col6\" >22.96</td>\n",
       "      <td id=\"T_a9980_row8_col7\" class=\"data row8 col7\" >778.32</td>\n",
       "    </tr>\n",
       "    <tr>\n",
       "      <th id=\"T_a9980_level0_row9\" class=\"row_heading level0 row9\" >avg_basket_size</th>\n",
       "      <td id=\"T_a9980_row9_col0\" class=\"data row9 col0\" >0.25</td>\n",
       "      <td id=\"T_a9980_row9_col1\" class=\"data row9 col1\" >7,824.00</td>\n",
       "      <td id=\"T_a9980_row9_col2\" class=\"data row9 col2\" >7,823.75</td>\n",
       "      <td id=\"T_a9980_row9_col3\" class=\"data row9 col3\" >200.17</td>\n",
       "      <td id=\"T_a9980_row9_col4\" class=\"data row9 col4\" >140.00</td>\n",
       "      <td id=\"T_a9980_row9_col5\" class=\"data row9 col5\" >269.91</td>\n",
       "      <td id=\"T_a9980_row9_col6\" class=\"data row9 col6\" >10.01</td>\n",
       "      <td id=\"T_a9980_row9_col7\" class=\"data row9 col7\" >193.40</td>\n",
       "    </tr>\n",
       "    <tr>\n",
       "      <th id=\"T_a9980_level0_row10\" class=\"row_heading level0 row10\" >avg_unique_prods</th>\n",
       "      <td id=\"T_a9980_row10_col0\" class=\"data row10 col0\" >1.00</td>\n",
       "      <td id=\"T_a9980_row10_col1\" class=\"data row10 col1\" >297.88</td>\n",
       "      <td id=\"T_a9980_row10_col2\" class=\"data row10 col2\" >296.88</td>\n",
       "      <td id=\"T_a9980_row10_col3\" class=\"data row10 col3\" >21.65</td>\n",
       "      <td id=\"T_a9980_row10_col4\" class=\"data row10 col4\" >17.00</td>\n",
       "      <td id=\"T_a9980_row10_col5\" class=\"data row10 col5\" >19.44</td>\n",
       "      <td id=\"T_a9980_row10_col6\" class=\"data row10 col6\" >3.30</td>\n",
       "      <td id=\"T_a9980_row10_col7\" class=\"data row10 col7\" >23.97</td>\n",
       "    </tr>\n",
       "    <tr>\n",
       "      <th id=\"T_a9980_level0_row11\" class=\"row_heading level0 row11\" >returns_revenue</th>\n",
       "      <td id=\"T_a9980_row11_col0\" class=\"data row11 col0\" >-22,998.40</td>\n",
       "      <td id=\"T_a9980_row11_col1\" class=\"data row11 col1\" >0.00</td>\n",
       "      <td id=\"T_a9980_row11_col2\" class=\"data row11 col2\" >22,998.40</td>\n",
       "      <td id=\"T_a9980_row11_col3\" class=\"data row11 col3\" >-50.24</td>\n",
       "      <td id=\"T_a9980_row11_col4\" class=\"data row11 col4\" >0.00</td>\n",
       "      <td id=\"T_a9980_row11_col5\" class=\"data row11 col5\" >499.54</td>\n",
       "      <td id=\"T_a9980_row11_col6\" class=\"data row11 col6\" >-31.50</td>\n",
       "      <td id=\"T_a9980_row11_col7\" class=\"data row11 col7\" >1,243.45</td>\n",
       "    </tr>\n",
       "    <tr>\n",
       "      <th id=\"T_a9980_level0_row12\" class=\"row_heading level0 row12\" >avg_return_revenue</th>\n",
       "      <td id=\"T_a9980_row12_col0\" class=\"data row12 col0\" >-4,599.68</td>\n",
       "      <td id=\"T_a9980_row12_col1\" class=\"data row12 col1\" >0.00</td>\n",
       "      <td id=\"T_a9980_row12_col2\" class=\"data row12 col2\" >4,599.68</td>\n",
       "      <td id=\"T_a9980_row12_col3\" class=\"data row12 col3\" >-9.75</td>\n",
       "      <td id=\"T_a9980_row12_col4\" class=\"data row12 col4\" >0.00</td>\n",
       "      <td id=\"T_a9980_row12_col5\" class=\"data row12 col5\" >85.60</td>\n",
       "      <td id=\"T_a9980_row12_col6\" class=\"data row12 col6\" >-39.64</td>\n",
       "      <td id=\"T_a9980_row12_col7\" class=\"data row12 col7\" >1,977.74</td>\n",
       "    </tr>\n",
       "    <tr>\n",
       "      <th id=\"T_a9980_level0_row13\" class=\"row_heading level0 row13\" >num_returns</th>\n",
       "      <td id=\"T_a9980_row13_col0\" class=\"data row13 col0\" >0.00</td>\n",
       "      <td id=\"T_a9980_row13_col1\" class=\"data row13 col1\" >223.00</td>\n",
       "      <td id=\"T_a9980_row13_col2\" class=\"data row13 col2\" >223.00</td>\n",
       "      <td id=\"T_a9980_row13_col3\" class=\"data row13 col3\" >1.91</td>\n",
       "      <td id=\"T_a9980_row13_col4\" class=\"data row13 col4\" >0.00</td>\n",
       "      <td id=\"T_a9980_row13_col5\" class=\"data row13 col5\" >7.06</td>\n",
       "      <td id=\"T_a9980_row13_col6\" class=\"data row13 col6\" >13.62</td>\n",
       "      <td id=\"T_a9980_row13_col7\" class=\"data row13 col7\" >303.42</td>\n",
       "    </tr>\n",
       "    <tr>\n",
       "      <th id=\"T_a9980_level0_row14\" class=\"row_heading level0 row14\" >qty_returned</th>\n",
       "      <td id=\"T_a9980_row14_col0\" class=\"data row14 col0\" >-9,360.00</td>\n",
       "      <td id=\"T_a9980_row14_col1\" class=\"data row14 col1\" >0.00</td>\n",
       "      <td id=\"T_a9980_row14_col2\" class=\"data row14 col2\" >9,360.00</td>\n",
       "      <td id=\"T_a9980_row14_col3\" class=\"data row14 col3\" >-25.14</td>\n",
       "      <td id=\"T_a9980_row14_col4\" class=\"data row14 col4\" >0.00</td>\n",
       "      <td id=\"T_a9980_row14_col5\" class=\"data row14 col5\" >273.30</td>\n",
       "      <td id=\"T_a9980_row14_col6\" class=\"data row14 col6\" >-26.04</td>\n",
       "      <td id=\"T_a9980_row14_col7\" class=\"data row14 col7\" >787.94</td>\n",
       "    </tr>\n",
       "  </tbody>\n",
       "</table>\n"
      ],
      "text/plain": [
       "<pandas.io.formats.style.Styler at 0x7f160b578580>"
      ]
     },
     "execution_count": 40,
     "metadata": {},
     "output_type": "execute_result"
    }
   ],
   "source": [
    "# df3.hist();\n",
    "num_att = df5.select_dtypes(include= ['int','float'])\n",
    "d1 = pd.DataFrame( num_att.min() ).T\n",
    "d2 = pd.DataFrame( num_att.max() ).T\n",
    "d3 = pd.DataFrame( num_att.max() - num_att.min() ).T\n",
    "d4 = pd.DataFrame( num_att.mean() ).T\n",
    "d5 = pd.DataFrame( num_att.median() ).T\n",
    "d6 = pd.DataFrame( num_att.std() ).T\n",
    "d7 = pd.DataFrame( num_att.skew() ).T\n",
    "d8 = pd.DataFrame( num_att.kurtosis() ).T\n",
    "\n",
    "desc = pd.concat( [d1, d2, d3, d4, d5, d6, d7, d8] ).T\n",
    "desc.columns = ['min', 'max', 'range', 'mean', 'median', 'std', 'skew', 'kurtosis' ]\n",
    "desc.style.format( \"{:,.2f}\" )"
   ]
  },
  {
   "cell_type": "markdown",
   "id": "30fc8efe",
   "metadata": {
    "heading_collapsed": true,
    "papermill": {
     "duration": 0.103203,
     "end_time": "2022-03-23T14:08:37.797282",
     "exception": false,
     "start_time": "2022-03-23T14:08:37.694079",
     "status": "completed"
    },
    "tags": []
   },
   "source": [
    "# 6.0 Feature Selection"
   ]
  },
  {
   "cell_type": "markdown",
   "id": "7201e190",
   "metadata": {
    "papermill": {
     "duration": 0.105258,
     "end_time": "2022-03-23T14:08:38.008153",
     "exception": false,
     "start_time": "2022-03-23T14:08:37.902895",
     "status": "completed"
    },
    "tags": []
   },
   "source": [
    "## 6.3 Selected Embedding Space"
   ]
  },
  {
   "cell_type": "code",
   "execution_count": 41,
   "id": "230aeb79",
   "metadata": {
    "execution": {
     "iopub.execute_input": "2022-03-23T14:08:38.215277Z",
     "iopub.status.busy": "2022-03-23T14:08:38.214623Z",
     "iopub.status.idle": "2022-03-23T14:08:38.219189Z",
     "shell.execute_reply": "2022-03-23T14:08:38.218624Z"
    },
    "papermill": {
     "duration": 0.109555,
     "end_time": "2022-03-23T14:08:38.221779",
     "exception": false,
     "start_time": "2022-03-23T14:08:38.112224",
     "status": "completed"
    },
    "tags": []
   },
   "outputs": [],
   "source": [
    "# # selecting most important features. Removing ('avg_basket_size', 'avg_days_bw_purchases', 'avg_return_revenue', 'date_range)\n",
    "# cols_selected = ['qty_items','avg_ticket','num_returns','returns_revenue','avg_unique_prods','qty_returned','num_purchases','recency','frequency']\n",
    "\n",
    "# # defining independent and dependent variable\n",
    "# X = df5[cols_selected].copy()\n",
    "# y = df5['revenue']\n",
    "\n",
    "# # defining random forest regresor for embedding\n",
    "# rf = RandomForestRegressor(random_state = 42, min_samples_split = 20) \n",
    "# rf.fit(X, y)\n",
    "\n",
    "# # get leafs for each observation\n",
    "# df_leaf = pd.DataFrame( rf.apply(X) )\n",
    "\n",
    "# # defining umap algorithm\n",
    "# n_neighbors = 50\n",
    "# umap = UMAP(n_neighbors = n_neighbors, random_state = 42, metric = 'manhattan')  \n",
    "# res_umap = umap.fit_transform(df_leaf)\n",
    "# metric = umap.metric\n",
    "\n",
    "# # storing embedding results on a dataframe\n",
    "# df_tree = df5.copy()\n",
    "# # df_tree = pd.DataFrame()\n",
    "# df_tree['embedding_x'] =  res_umap[:,0]\n",
    "# df_tree['embedding_y'] =  res_umap[:,1]\n",
    "\n",
    "# # ploting results\n",
    "# cmap = sns.color_palette('RdBu_r', as_cmap = True)\n",
    "# plt.title('UMAP - Neighbors = {} - Distance = {}'.format(n_neighbors, metric) )\n",
    "# sns.scatterplot( data = df_tree, x = 'embedding_x', y = 'embedding_y', hue = 'revenue', palette = cmap);"
   ]
  },
  {
   "cell_type": "markdown",
   "id": "ed83d289",
   "metadata": {
    "tags": [
     "papermill-error-cell-tag"
    ]
   },
   "source": [
    "<span id=\"papermill-error-cell\" style=\"color:red; font-family:Helvetica Neue, Helvetica, Arial, sans-serif; font-size:2em;\">Execution using papermill encountered an exception here and stopped:</span>"
   ]
  },
  {
   "cell_type": "code",
   "execution_count": 42,
   "id": "985fb07c",
   "metadata": {
    "execution": {
     "iopub.execute_input": "2022-03-23T14:08:38.433348Z",
     "iopub.status.busy": "2022-03-23T14:08:38.432702Z",
     "iopub.status.idle": "2022-03-23T14:08:40.674841Z",
     "shell.execute_reply": "2022-03-23T14:08:40.673092Z"
    },
    "papermill": {
     "duration": 2.350223,
     "end_time": "2022-03-23T14:08:40.676093",
     "exception": true,
     "start_time": "2022-03-23T14:08:38.325870",
     "status": "failed"
    },
    "tags": []
   },
   "outputs": [
    {
     "ename": "FileNotFoundError",
     "evalue": "[Errno 2] No such file or directory: '/home/ubuntu/project/Insiders-Loyalty-Program/src/featuresreducer.pkl'",
     "output_type": "error",
     "traceback": [
      "\u001b[0;31m---------------------------------------------------------------------------\u001b[0m",
      "\u001b[0;31mFileNotFoundError\u001b[0m                         Traceback (most recent call last)",
      "Input \u001b[0;32mIn [42]\u001b[0m, in \u001b[0;36m<cell line: 18>\u001b[0;34m()\u001b[0m\n\u001b[1;32m     15\u001b[0m \u001b[38;5;66;03m# defining umap algorithm\u001b[39;00m\n\u001b[1;32m     16\u001b[0m \u001b[38;5;66;03m# path = '../features/'\u001b[39;00m\n\u001b[1;32m     17\u001b[0m aws_path \u001b[38;5;241m=\u001b[39m \u001b[38;5;124m'\u001b[39m\u001b[38;5;124m/home/ubuntu/project/Insiders-Loyalty-Program/src/features\u001b[39m\u001b[38;5;124m'\u001b[39m\n\u001b[0;32m---> 18\u001b[0m reducer \u001b[38;5;241m=\u001b[39m pickle\u001b[38;5;241m.\u001b[39mload( \u001b[38;5;28;43mopen\u001b[39;49m\u001b[43m(\u001b[49m\u001b[43maws_path\u001b[49m\u001b[43m \u001b[49m\u001b[38;5;241;43m+\u001b[39;49m\u001b[43m \u001b[49m\u001b[38;5;124;43m'\u001b[39;49m\u001b[38;5;124;43mreducer.pkl\u001b[39;49m\u001b[38;5;124;43m'\u001b[39;49m\u001b[43m,\u001b[49m\u001b[43m \u001b[49m\u001b[38;5;124;43m'\u001b[39;49m\u001b[38;5;124;43mrb\u001b[39;49m\u001b[38;5;124;43m'\u001b[39;49m\u001b[43m)\u001b[49m )\n\u001b[1;32m     19\u001b[0m res_umap \u001b[38;5;241m=\u001b[39m reducer\u001b[38;5;241m.\u001b[39mtransform(df_leaf)\n\u001b[1;32m     21\u001b[0m \u001b[38;5;66;03m# umap = UMAP(metric = 'manhattan')\u001b[39;00m\n",
      "\u001b[0;31mFileNotFoundError\u001b[0m: [Errno 2] No such file or directory: '/home/ubuntu/project/Insiders-Loyalty-Program/src/featuresreducer.pkl'"
     ]
    }
   ],
   "source": [
    "# selecting most important features. Removing ('avg_basket_size', 'avg_days_bw_purchases', 'avg_return_revenue', 'date_range)\n",
    "cols_selected = ['qty_items','avg_ticket','num_returns','returns_revenue','avg_unique_prods','qty_returned','num_purchases','recency','frequency']\n",
    "\n",
    "# defining independent and dependent variable\n",
    "X = df5[cols_selected].copy()\n",
    "y = df5['revenue']\n",
    "\n",
    "# defining random forest regresor for embedding\n",
    "rf = RandomForestRegressor(random_state = 42, min_samples_split = 20) \n",
    "rf.fit(X, y)\n",
    "\n",
    "# get leafs for each observation\n",
    "df_leaf = pd.DataFrame( rf.apply(X) )\n",
    "\n",
    "# defining umap algorithm\n",
    "# path = '../features/'\n",
    "aws_path = '/home/ubuntu/project/Insiders-Loyalty-Program/src/features'\n",
    "reducer = pickle.load( open(aws_path + 'reducer.pkl', 'rb') )\n",
    "res_umap = reducer.transform(df_leaf)\n",
    "\n",
    "# umap = UMAP(metric = 'manhattan')\n",
    "metric = reducer.metric\n",
    "n_neighbors = reducer.n_neighbors\n",
    "\n",
    "# storing embedding results on a dataframe\n",
    "df_tree = df5.copy()\n",
    "# df_tree = pd.DataFrame()\n",
    "df_tree['embedding_x'] =  res_umap[:,0]\n",
    "df_tree['embedding_y'] =  res_umap[:,1]\n",
    "\n",
    "# ploting results\n",
    "cmap = sns.color_palette('RdBu_r', as_cmap = True)\n",
    "plt.title('UMAP - Neighbors = {} - Distance = {}'.format(n_neighbors, metric) )\n",
    "sns.scatterplot( data = df_tree, x = 'embedding_x', y = 'embedding_y', hue = 'revenue', palette = cmap);"
   ]
  },
  {
   "cell_type": "code",
   "execution_count": null,
   "id": "cd28f408",
   "metadata": {
    "papermill": {
     "duration": null,
     "end_time": null,
     "exception": null,
     "start_time": null,
     "status": "pending"
    },
    "tags": []
   },
   "outputs": [],
   "source": [
    "# path = '../features/'\n",
    "# reducer = pickle.load( open(path + 'reducer.pkl', 'rb') )"
   ]
  },
  {
   "cell_type": "markdown",
   "id": "a7958606",
   "metadata": {
    "papermill": {
     "duration": null,
     "end_time": null,
     "exception": null,
     "start_time": null,
     "status": "pending"
    },
    "tags": []
   },
   "source": [
    "### Saving reducer as pkl to local files in an attempt to create more reproducible results"
   ]
  },
  {
   "cell_type": "code",
   "execution_count": null,
   "id": "a4238355",
   "metadata": {
    "papermill": {
     "duration": null,
     "end_time": null,
     "exception": null,
     "start_time": null,
     "status": "pending"
    },
    "tags": []
   },
   "outputs": [],
   "source": [
    "# reducer = umap.fit(df_leaf)\n"
   ]
  },
  {
   "cell_type": "code",
   "execution_count": null,
   "id": "ee4a160a",
   "metadata": {
    "papermill": {
     "duration": null,
     "end_time": null,
     "exception": null,
     "start_time": null,
     "status": "pending"
    },
    "tags": []
   },
   "outputs": [],
   "source": [
    "# pickle.dump( reducer, open('../features/reducer.pkl', 'wb'), protocol = pickle.HIGHEST_PROTOCOL )"
   ]
  },
  {
   "cell_type": "code",
   "execution_count": null,
   "id": "12352724",
   "metadata": {
    "papermill": {
     "duration": null,
     "end_time": null,
     "exception": null,
     "start_time": null,
     "status": "pending"
    },
    "tags": []
   },
   "outputs": [],
   "source": [
    "# reducer_pkl = pickle.load( open('../features/reducer.pkl', 'rb') )\n",
    "\n",
    "# res_umap_3 = reducer_pkl.transform(df_leaf, random_state = 42)\n"
   ]
  },
  {
   "cell_type": "code",
   "execution_count": null,
   "id": "7ec71b84",
   "metadata": {
    "papermill": {
     "duration": null,
     "end_time": null,
     "exception": null,
     "start_time": null,
     "status": "pending"
    },
    "tags": []
   },
   "outputs": [],
   "source": [
    "# res_umap_3[:10]"
   ]
  },
  {
   "cell_type": "code",
   "execution_count": null,
   "id": "f38a1221",
   "metadata": {
    "papermill": {
     "duration": null,
     "end_time": null,
     "exception": null,
     "start_time": null,
     "status": "pending"
    },
    "tags": []
   },
   "outputs": [],
   "source": [
    "# res_umap_2 = reducer.transform(df_leaf)"
   ]
  },
  {
   "cell_type": "code",
   "execution_count": null,
   "id": "141efdb1",
   "metadata": {
    "papermill": {
     "duration": null,
     "end_time": null,
     "exception": null,
     "start_time": null,
     "status": "pending"
    },
    "tags": []
   },
   "outputs": [],
   "source": [
    "# res_umap_2[:10]"
   ]
  },
  {
   "cell_type": "code",
   "execution_count": null,
   "id": "7cb4ec4c",
   "metadata": {
    "papermill": {
     "duration": null,
     "end_time": null,
     "exception": null,
     "start_time": null,
     "status": "pending"
    },
    "tags": []
   },
   "outputs": [],
   "source": [
    "X.dtypes"
   ]
  },
  {
   "cell_type": "code",
   "execution_count": null,
   "id": "076f7a6a",
   "metadata": {
    "papermill": {
     "duration": null,
     "end_time": null,
     "exception": null,
     "start_time": null,
     "status": "pending"
    },
    "tags": []
   },
   "outputs": [],
   "source": [
    "X.head(10)"
   ]
  },
  {
   "cell_type": "code",
   "execution_count": null,
   "id": "d5ad3639",
   "metadata": {
    "papermill": {
     "duration": null,
     "end_time": null,
     "exception": null,
     "start_time": null,
     "status": "pending"
    },
    "tags": []
   },
   "outputs": [],
   "source": [
    "df_leaf.head()"
   ]
  },
  {
   "cell_type": "code",
   "execution_count": null,
   "id": "8c924e3e",
   "metadata": {
    "papermill": {
     "duration": null,
     "end_time": null,
     "exception": null,
     "start_time": null,
     "status": "pending"
    },
    "tags": []
   },
   "outputs": [],
   "source": [
    "df_leaf.to_csv('../data/df_tree.csv', index = False)"
   ]
  },
  {
   "cell_type": "code",
   "execution_count": null,
   "id": "c6c0926a",
   "metadata": {
    "papermill": {
     "duration": null,
     "end_time": null,
     "exception": null,
     "start_time": null,
     "status": "pending"
    },
    "tags": []
   },
   "outputs": [],
   "source": [
    "res_umap[:10]"
   ]
  },
  {
   "cell_type": "code",
   "execution_count": null,
   "id": "7fa00890",
   "metadata": {
    "papermill": {
     "duration": null,
     "end_time": null,
     "exception": null,
     "start_time": null,
     "status": "pending"
    },
    "tags": []
   },
   "outputs": [],
   "source": [
    "res_umap[-10:]"
   ]
  },
  {
   "cell_type": "markdown",
   "id": "6505ff97",
   "metadata": {
    "papermill": {
     "duration": null,
     "end_time": null,
     "exception": null,
     "start_time": null,
     "status": "pending"
    },
    "tags": []
   },
   "source": [
    "# 7.0 Model Testing"
   ]
  },
  {
   "cell_type": "code",
   "execution_count": null,
   "id": "4f75cf2c",
   "metadata": {
    "papermill": {
     "duration": null,
     "end_time": null,
     "exception": null,
     "start_time": null,
     "status": "pending"
    },
    "tags": []
   },
   "outputs": [],
   "source": [
    "# defining two spaces of data (embedded and rescaled) to test models\n",
    "\n",
    "# tree embedded data\n",
    "df_tree = pd.DataFrame()\n",
    "df_tree['embedding_x'] =  res_umap[:,0]\n",
    "df_tree['embedding_y'] =  res_umap[:,1]\n",
    "\n",
    "# rescaled data\n",
    "df7 = df5.copy()"
   ]
  },
  {
   "cell_type": "code",
   "execution_count": null,
   "id": "78f9fe11",
   "metadata": {
    "papermill": {
     "duration": null,
     "end_time": null,
     "exception": null,
     "start_time": null,
     "status": "pending"
    },
    "tags": []
   },
   "outputs": [],
   "source": [
    "del X, y, df5\n",
    "gc.collect()"
   ]
  },
  {
   "cell_type": "markdown",
   "id": "2a90aef8",
   "metadata": {
    "papermill": {
     "duration": null,
     "end_time": null,
     "exception": null,
     "start_time": null,
     "status": "pending"
    },
    "tags": []
   },
   "source": [
    "# 8.0 Model Training"
   ]
  },
  {
   "cell_type": "code",
   "execution_count": null,
   "id": "fb8a9f8e",
   "metadata": {
    "papermill": {
     "duration": null,
     "end_time": null,
     "exception": null,
     "start_time": null,
     "status": "pending"
    },
    "tags": []
   },
   "outputs": [],
   "source": [
    "df7.shape"
   ]
  },
  {
   "cell_type": "code",
   "execution_count": null,
   "id": "666896d4",
   "metadata": {
    "papermill": {
     "duration": null,
     "end_time": null,
     "exception": null,
     "start_time": null,
     "status": "pending"
    },
    "tags": []
   },
   "outputs": [],
   "source": [
    "# defining model \n",
    "db_model = DBSCAN(eps = 2.1, min_samples=50)\n",
    "\n",
    "# applying model \n",
    "labels = db_model.fit_predict(df_tree)\n",
    "\n",
    "df_result = df7.reset_index(drop = True).copy()\n",
    "\n",
    "# concatenating results\n",
    "df_result = pd.concat( [df_result, df_tree], axis = 1 )\n",
    "\n",
    "# defining cluster\n",
    "df_result['cluster'] = labels.astype(str)\n",
    "\n",
    "# mapping cluster names\n",
    "names = {\"4\" : \"Insiders\",\n",
    "         \"1\" : \"Potential Loyalists\",\n",
    "         \"0\" : \"Loyal Customers\",\n",
    "         \"2\" : \"Promissing 1\",\n",
    "         \"8\" : \"Need Attention 1\",\n",
    "         \"6\" : \"Promising 2\",\n",
    "         \"7\" : \"Need Attention 2\",\n",
    "         \"5\" : \"Hibernating 1\",\n",
    "         \"10\" : \"Churn 1\",\n",
    "         \"3\" : \"Price Sensitive\",\n",
    "         \"9\" : \"Churn 2\",\n",
    "         \"11\" : \"Hibernating 2\",\n",
    "         \"-1\" : 'Noise' }\n",
    "\n",
    "df_result['cluster_name'] = df_result['cluster'].map(names)\n",
    "\n",
    "df_result.rename( columns = {'date_range': 'tenure'}, inplace = True)\n",
    "df_result.head()\n",
    "df_result.shape"
   ]
  },
  {
   "cell_type": "code",
   "execution_count": null,
   "id": "86ff21ec",
   "metadata": {
    "papermill": {
     "duration": null,
     "end_time": null,
     "exception": null,
     "start_time": null,
     "status": "pending"
    },
    "tags": []
   },
   "outputs": [],
   "source": [
    "sns.scatterplot(data = df_result, x = 'embedding_x', y = 'embedding_y', hue = 'cluster_name', palette = 'bright');"
   ]
  },
  {
   "cell_type": "markdown",
   "id": "96f5c50f",
   "metadata": {
    "papermill": {
     "duration": null,
     "end_time": null,
     "exception": null,
     "start_time": null,
     "status": "pending"
    },
    "tags": []
   },
   "source": [
    "# 9.0 Cluster Analysis"
   ]
  },
  {
   "cell_type": "markdown",
   "id": "6b366ae4",
   "metadata": {
    "papermill": {
     "duration": null,
     "end_time": null,
     "exception": null,
     "start_time": null,
     "status": "pending"
    },
    "tags": []
   },
   "source": [
    "## 9.4 Business Perspective"
   ]
  },
  {
   "cell_type": "markdown",
   "id": "10ab624e",
   "metadata": {
    "papermill": {
     "duration": null,
     "end_time": null,
     "exception": null,
     "start_time": null,
     "status": "pending"
    },
    "tags": []
   },
   "source": [
    "### 9.4.1 Clusters Table"
   ]
  },
  {
   "cell_type": "code",
   "execution_count": null,
   "id": "d0a9639f",
   "metadata": {
    "papermill": {
     "duration": null,
     "end_time": null,
     "exception": null,
     "start_time": null,
     "status": "pending"
    },
    "tags": []
   },
   "outputs": [],
   "source": [
    "# number of customers per cluster\n",
    "n_cust = df_result.copy()\n",
    "n_cust = n_cust.groupby('cluster').count().reset_index().rename(columns = {'customer_id' : 'num_of_customers'})\n",
    "n_cust['perc_of_customer'] = n_cust['num_of_customers']/n_cust['num_of_customers'].sum()*100\n",
    "n_cust = n_cust[['cluster', 'num_of_customers', 'perc_of_customer']]"
   ]
  },
  {
   "cell_type": "code",
   "execution_count": null,
   "id": "09459166",
   "metadata": {
    "papermill": {
     "duration": null,
     "end_time": null,
     "exception": null,
     "start_time": null,
     "status": "pending"
    },
    "tags": []
   },
   "outputs": [],
   "source": [
    "# calculating mean values for each cluster attribute\n",
    "df_res = df_result.copy()\n",
    "\n",
    "# calculating mothly frequency. Did not like the results of this\n",
    "# df_res['frequency'] = df_res['frequency']*30\n",
    "\n",
    "# add cluster to df\n",
    "result = df_res.groupby('cluster').mean().reset_index()\n",
    "result\n",
    "\n",
    "# add nº of customers\n",
    "result = result.merge( n_cust, on = 'cluster', how = 'inner')\n",
    "# Based on the RFM Analysis I gave names to clusters \n",
    "result['cluster_name'] = result['cluster'].map(names)\n",
    "result_reduced = result[['cluster_name', 'num_of_customers', 'perc_of_customer', 'recency', 'revenue', 'avg_ticket', 'num_purchases', 'tenure', 'frequency', 'num_returns', 'avg_return_revenue' ]].copy()\n",
    "\n",
    "#formatting output\n",
    "result_reduced.sort_values('revenue', ascending = False, inplace = True )\n",
    "result_reduced['perc_of_customer'] = result_reduced['perc_of_customer'].apply(lambda x: \"{:.2f}%\".format(x) )\n",
    "formatter = {\"recency\" : \"{:,.2f}\",\n",
    "\"revenue\" : \"{:,.2f}\",\n",
    "\"avg_ticket\" : \"{:,.2f}\",\n",
    "\"num_purchases\" : \"{:,.2f}\",\n",
    "\"tenure\" : \"{:,.2f}\",\n",
    "\"frequency\" : \"{:,.4f}\",\n",
    "\"num_returns\" : \"{:,.2f}\",\n",
    "\"avg_return_revenue\" : \"{:,.2f}\"\n",
    "}\n",
    "result_reduced.style.format( formatter = formatter )"
   ]
  },
  {
   "cell_type": "code",
   "execution_count": null,
   "id": "98d0209f",
   "metadata": {
    "papermill": {
     "duration": null,
     "end_time": null,
     "exception": null,
     "start_time": null,
     "status": "pending"
    },
    "tags": []
   },
   "outputs": [],
   "source": [
    "# # calculating mean values for each cluster attribute\n",
    "# df_res = df_result.copy()\n",
    "\n",
    "# # calculating mothly frequency. Did not like the results of this\n",
    "# # df_res['frequency'] = df_res['frequency']*30\n",
    "\n",
    "# # add cluster to df\n",
    "# result = df_res.groupby('cluster').mean().reset_index()\n",
    "# result\n",
    "\n",
    "# # add nº of customers\n",
    "# result = result.merge( n_cust, on = 'cluster', how = 'inner')\n",
    "# # Based on the RFM Analysis I gave names to clusters \n",
    "# result['cluster_name'] = result['cluster'].map(names)\n",
    "# result_reduced = result[['cluster_name', 'num_of_customers', 'perc_of_customer', 'recency', 'revenue', 'avg_ticket', 'num_purchases', 'tenure', 'frequency', 'num_returns', 'avg_return_revenue' ]].copy()\n",
    "\n",
    "# #formatting output\n",
    "# result_reduced.sort_values('revenue', ascending = False, inplace = True )\n",
    "# result_reduced['perc_of_customer'] = result_reduced['perc_of_customer'].apply(lambda x: \"{:.2f}%\".format(x) )\n",
    "# formatter = {\"recency\" : \"{:,.2f}\",\n",
    "# \"revenue\" : \"{:,.2f}\",\n",
    "# \"avg_ticket\" : \"{:,.2f}\",\n",
    "# \"num_purchases\" : \"{:,.2f}\",\n",
    "# \"tenure\" : \"{:,.2f}\",\n",
    "# \"frequency\" : \"{:,.4f}\",\n",
    "# \"num_returns\" : \"{:,.2f}\",\n",
    "# \"avg_return_revenue\" : \"{:,.2f}\"\n",
    "# }\n",
    "# result_reduced.style.format( formatter = formatter )"
   ]
  },
  {
   "cell_type": "markdown",
   "id": "da039941",
   "metadata": {
    "papermill": {
     "duration": null,
     "end_time": null,
     "exception": null,
     "start_time": null,
     "status": "pending"
    },
    "tags": []
   },
   "source": [
    "# 11 Model Deployment"
   ]
  },
  {
   "cell_type": "markdown",
   "id": "730b55b4",
   "metadata": {
    "papermill": {
     "duration": null,
     "end_time": null,
     "exception": null,
     "start_time": null,
     "status": "pending"
    },
    "tags": []
   },
   "source": [
    "## 11.1. Inserting results on sqlite db"
   ]
  },
  {
   "cell_type": "code",
   "execution_count": null,
   "id": "aa58cf96",
   "metadata": {
    "papermill": {
     "duration": null,
     "end_time": null,
     "exception": null,
     "start_time": null,
     "status": "pending"
    },
    "tags": []
   },
   "outputs": [],
   "source": [
    "#  connect to db, if doesn't exist create one\n",
    "# con = sqlite3.connect('../src/features/insiders.db')"
   ]
  },
  {
   "cell_type": "code",
   "execution_count": null,
   "id": "356c36aa",
   "metadata": {
    "papermill": {
     "duration": null,
     "end_time": null,
     "exception": null,
     "start_time": null,
     "status": "pending"
    },
    "tags": []
   },
   "outputs": [],
   "source": [
    "# cur = con.cursor()\n",
    "\n",
    "# cur.execute(\n",
    "#     \"\"\"\n",
    "    # CREATE TABLE insiders (\n",
    "    #     customer_id               INTEGER,\n",
    "    #     country                   TEXT,\n",
    "    #     recency                   INTEGER,\n",
    "    #     avg_days_bw_purchases     REAL,\n",
    "    #     num_purchases             INTEGER,\n",
    "    #     tenure                    INTEGER,\n",
    "    #     frequency                 REAL,\n",
    "    #     revenue                   REAL,\n",
    "    #     avg_ticket                REAL,\n",
    "    #     qty_items                 INTEGER,\n",
    "    #     avg_basket_size           REAL,\n",
    "    #     avg_unique_prods          REAL,\n",
    "    #     returns_revenue           REAL,\n",
    "    #     avg_return_revenue        REAL,\n",
    "    #     num_returns               REAL,\n",
    "    #     qty_returned              REAL,\n",
    "    #     embedding_x               REAL,\n",
    "    #     embedding_y               REAL,\n",
    "    #     cluster                   TEXT,\n",
    "    #     cluster_name              TEXT\n",
    "#     );\n",
    "#     \"\"\"\n",
    "# )\n",
    "\n",
    "# con.commit()\n",
    "\n",
    "# # con.close()\n",
    "\n"
   ]
  },
  {
   "cell_type": "code",
   "execution_count": null,
   "id": "dad7c712",
   "metadata": {
    "papermill": {
     "duration": null,
     "end_time": null,
     "exception": null,
     "start_time": null,
     "status": "pending"
    },
    "tags": []
   },
   "outputs": [],
   "source": [
    "# df_result.dtypes"
   ]
  },
  {
   "cell_type": "code",
   "execution_count": null,
   "id": "ba26b5d6",
   "metadata": {
    "papermill": {
     "duration": null,
     "end_time": null,
     "exception": null,
     "start_time": null,
     "status": "pending"
    },
    "tags": []
   },
   "outputs": [],
   "source": [
    "# # con.execute(\n",
    "# #     \"\"\"\n",
    "# #     SELECT name\n",
    "# #     FROM sqlite_schema\n",
    "# #     WHERE type ='table'\n",
    "# #     \"\"\"\n",
    "# # )\n",
    "# cur.execute(\n",
    "# \"\"\"SELECT \n",
    "#         name\n",
    "#     FROM \n",
    "#         sqlite_master\n",
    "#     WHERE \n",
    "#         type ='table' \n",
    "#         ;\"\"\"\n",
    "#         )\n",
    "# # con.commit()\n",
    "# #  AND name NOT LIKE 'sqlite_%'\n",
    "# cur.fetchone()"
   ]
  },
  {
   "cell_type": "code",
   "execution_count": null,
   "id": "383bc547",
   "metadata": {
    "papermill": {
     "duration": null,
     "end_time": null,
     "exception": null,
     "start_time": null,
     "status": "pending"
    },
    "tags": []
   },
   "outputs": [],
   "source": [
    "# con.execute(\n",
    "#     \"\"\"\n",
    "#     DROP TABLE insiders\n",
    "#     \"\"\"\n",
    "# )\n",
    "# con.commit()\n",
    "\n",
    "# # con.close()\n"
   ]
  },
  {
   "cell_type": "code",
   "execution_count": null,
   "id": "130520be",
   "metadata": {
    "papermill": {
     "duration": null,
     "end_time": null,
     "exception": null,
     "start_time": null,
     "status": "pending"
    },
    "tags": []
   },
   "outputs": [],
   "source": [
    "# conn = create_engine('sqlite:////home/humberto/DS/insiders_clustering/src/features/insiders.db', echo=False)\n",
    "# df_result.to_sql('insiders', con = conn, if_exists='append', index = False)"
   ]
  },
  {
   "cell_type": "code",
   "execution_count": null,
   "id": "68d4856a",
   "metadata": {
    "papermill": {
     "duration": null,
     "end_time": null,
     "exception": null,
     "start_time": null,
     "status": "pending"
    },
    "tags": []
   },
   "outputs": [],
   "source": [
    "# df_sql = pd.read_sql('insiders', con = conn)\n",
    "# print(df_sql.iloc[0,8])\n",
    "# print(df_result.iloc[0,8])\n",
    "# df_sql.head()"
   ]
  },
  {
   "cell_type": "markdown",
   "id": "e1b3b406",
   "metadata": {
    "papermill": {
     "duration": null,
     "end_time": null,
     "exception": null,
     "start_time": null,
     "status": "pending"
    },
    "tags": []
   },
   "source": [
    "## 11.2 Inserting results to mysql db on AWS"
   ]
  },
  {
   "cell_type": "code",
   "execution_count": null,
   "id": "5633a9b3",
   "metadata": {
    "papermill": {
     "duration": null,
     "end_time": null,
     "exception": null,
     "start_time": null,
     "status": "pending"
    },
    "tags": []
   },
   "outputs": [],
   "source": [
    "# adding last update time to data that will be inserted on DB\n",
    "\n",
    "now = datetime.now().strftime( \"%Y-%m-%d %H:%M:%S\" )\n",
    "\n",
    "df_result['last_update'] = now"
   ]
  },
  {
   "cell_type": "code",
   "execution_count": null,
   "id": "ac7cbe12",
   "metadata": {
    "papermill": {
     "duration": null,
     "end_time": null,
     "exception": null,
     "start_time": null,
     "status": "pending"
    },
    "tags": []
   },
   "outputs": [],
   "source": [
    "df_result.head()"
   ]
  },
  {
   "cell_type": "code",
   "execution_count": null,
   "id": "e7e93b87",
   "metadata": {
    "papermill": {
     "duration": null,
     "end_time": null,
     "exception": null,
     "start_time": null,
     "status": "pending"
    },
    "tags": []
   },
   "outputs": [],
   "source": [
    "# # reading credentials\n",
    "\n",
    "# secrets_json = open('../secrets.json')\n",
    "# secrets = json.load(secrets_json)\n",
    "\n",
    "# dialect =   secrets[\"dialect\"]\n",
    "# driver =    secrets[\"driver\"]\n",
    "# host =      secrets[\"host\"]\n",
    "# username =  secrets[\"username\"]\n",
    "# password =  secrets[\"password\"]\n",
    "# port =      secrets[\"port\"]\n",
    "# database =  secrets[\"database\"]\n",
    "\n",
    "# url = \"{}+{}://{}:{}@{}:{}/{}\".format(dialect, driver, username, password, host, port, database)\n",
    "\n",
    "# engine = create_engine(url = url, echo = True) #, pool_pre_ping = True"
   ]
  },
  {
   "cell_type": "code",
   "execution_count": null,
   "id": "f5831ac8",
   "metadata": {
    "papermill": {
     "duration": null,
     "end_time": null,
     "exception": null,
     "start_time": null,
     "status": "pending"
    },
    "tags": []
   },
   "outputs": [],
   "source": [
    "# read_query = \"\"\"\n",
    "#     SELECT * FROM insiders i\n",
    "# \"\"\"\n",
    "# # engine.execute\n",
    "# df_sql = pd.read_sql_query(read_query, con = engine)"
   ]
  },
  {
   "cell_type": "code",
   "execution_count": null,
   "id": "eccdcc9b",
   "metadata": {
    "papermill": {
     "duration": null,
     "end_time": null,
     "exception": null,
     "start_time": null,
     "status": "pending"
    },
    "tags": []
   },
   "outputs": [],
   "source": [
    "# if we had to create table manually we could use this\n",
    "# create_table = \"\"\"\n",
    "#     CREATE TABLE insiders (\n",
    "#     customer_id               INTEGER,\n",
    "#     country                   TEXT,\n",
    "#     recency                   INTEGER,\n",
    "#     avg_days_bw_purchases     REAL,\n",
    "#     num_purchases             INTEGER,\n",
    "#     tenure                    INTEGER,\n",
    "#     frequency                 REAL,\n",
    "#     revenue                   REAL,\n",
    "#     avg_ticket                REAL,\n",
    "#     qty_items                 INTEGER,\n",
    "#     avg_basket_size           REAL,\n",
    "#     avg_unique_prods          REAL,\n",
    "#     returns_revenue           REAL,\n",
    "#     avg_return_revenue        REAL,\n",
    "#     num_returns               REAL,\n",
    "#     qty_returned              REAL,\n",
    "#     embedding_x               REAL,\n",
    "#     embedding_y               REAL,\n",
    "#     cluster                   TEXT,\n",
    "#     cluster_name              TEXT\n",
    "#     )\n",
    "# \"\"\""
   ]
  },
  {
   "cell_type": "code",
   "execution_count": null,
   "id": "20c1257a",
   "metadata": {
    "papermill": {
     "duration": null,
     "end_time": null,
     "exception": null,
     "start_time": null,
     "status": "pending"
    },
    "tags": []
   },
   "outputs": [],
   "source": [
    "# inserting data\n",
    "# df_result.to_sql('insiders', con = engine, if_exists='replace', index = False )"
   ]
  },
  {
   "cell_type": "code",
   "execution_count": null,
   "id": "c2b7015a",
   "metadata": {
    "papermill": {
     "duration": null,
     "end_time": null,
     "exception": null,
     "start_time": null,
     "status": "pending"
    },
    "tags": []
   },
   "outputs": [],
   "source": [
    "# drop_table_query = \"\"\"\n",
    "#     DROP TABLE insiders\n",
    "# \"\"\"\n",
    "# engine.execute(drop_table_query)\n"
   ]
  },
  {
   "cell_type": "markdown",
   "id": "ae9eda03",
   "metadata": {
    "papermill": {
     "duration": null,
     "end_time": null,
     "exception": null,
     "start_time": null,
     "status": "pending"
    },
    "tags": []
   },
   "source": [
    "## 11.3 Inserting results to mysql db on heroku"
   ]
  },
  {
   "cell_type": "code",
   "execution_count": null,
   "id": "0de21f00",
   "metadata": {
    "papermill": {
     "duration": null,
     "end_time": null,
     "exception": null,
     "start_time": null,
     "status": "pending"
    },
    "tags": []
   },
   "outputs": [],
   "source": [
    "# adding last update time to data that will be inserted on DB\n",
    "\n",
    "now = datetime.now().strftime( \"%Y-%m-%d %H:%M:%S\" )\n",
    "\n",
    "df_result['last_update'] = now\n",
    "df_result.head()"
   ]
  },
  {
   "cell_type": "code",
   "execution_count": null,
   "id": "1a14113a",
   "metadata": {
    "papermill": {
     "duration": null,
     "end_time": null,
     "exception": null,
     "start_time": null,
     "status": "pending"
    },
    "tags": []
   },
   "outputs": [],
   "source": [
    "# reading credentials\n",
    "\n",
    "# aws credentiasl\n",
    "path_aws_secrets = '/home/ubuntu/project/Insiders-Loyalty-Program/src/secrets/'\n",
    "secrets_json = open( path_aws_secrets + 'secrets-heroku.json')\n",
    "\n",
    "# local credentiasl\n",
    "# secrets_json = open( '../secrets/secrets-heroku.json')\n",
    "\n",
    "secrets = json.load(secrets_json)\n",
    "\n",
    "dialect =   secrets[\"dialect\"]\n",
    "driver =    secrets[\"driver\"]\n",
    "host =      secrets[\"host\"]\n",
    "username =  secrets[\"username\"]\n",
    "password =  secrets[\"password\"]\n",
    "port =      secrets[\"port\"]\n",
    "database =  secrets[\"database\"]\n",
    "\n",
    "url = \"{}+{}://{}:{}@{}:{}/{}\".format(dialect, driver, username, password, host, port, database)\n",
    "\n",
    "url \n",
    "\n",
    "dbschema = 'public'\n",
    "\n",
    "# connecting to db\n",
    "engine = create_engine(url = url, echo = True, connect_args={'options': '-csearch_path={}'.format(dbschema)} ) #, pool_pre_ping = True\n",
    "conn = engine.connect()"
   ]
  },
  {
   "cell_type": "code",
   "execution_count": null,
   "id": "57b6570b",
   "metadata": {
    "papermill": {
     "duration": null,
     "end_time": null,
     "exception": null,
     "start_time": null,
     "status": "pending"
    },
    "tags": []
   },
   "outputs": [],
   "source": [
    "# import os\n",
    "# os.environ['DATABASE_URL']"
   ]
  },
  {
   "cell_type": "code",
   "execution_count": null,
   "id": "40cbe7ae",
   "metadata": {
    "papermill": {
     "duration": null,
     "end_time": null,
     "exception": null,
     "start_time": null,
     "status": "pending"
    },
    "tags": []
   },
   "outputs": [],
   "source": [
    "df_result.to_sql('insiders_result', con = engine, if_exists='replace', index = False )\n",
    "\n",
    "# if we have precision problems we can use:\n",
    "# from sqlalchemy.dialects.postgresql import DOUBLE_PRECISION\n",
    "# dtypes = {'avg_days_bw_purchases' : DOUBLE_PRECISION}\n",
    "# df_result.to_sql('insiders_result', con = engine, if_exists='replace', index = False, dtype = dtypes )"
   ]
  },
  {
   "cell_type": "code",
   "execution_count": null,
   "id": "4d2037cc",
   "metadata": {
    "papermill": {
     "duration": null,
     "end_time": null,
     "exception": null,
     "start_time": null,
     "status": "pending"
    },
    "tags": []
   },
   "outputs": [],
   "source": [
    "query = \"\"\"\n",
    "    SELECT *\n",
    "    FROM insiders_result\n",
    "\"\"\"\n",
    "\n",
    "df_sql = pd.read_sql_query(query, con = engine)"
   ]
  },
  {
   "cell_type": "code",
   "execution_count": null,
   "id": "fe494fee",
   "metadata": {
    "papermill": {
     "duration": null,
     "end_time": null,
     "exception": null,
     "start_time": null,
     "status": "pending"
    },
    "tags": []
   },
   "outputs": [],
   "source": [
    "# closing the connection\n",
    "conn.invalidate()\n",
    "engine.dispose()"
   ]
  },
  {
   "cell_type": "code",
   "execution_count": null,
   "id": "597333fd",
   "metadata": {
    "papermill": {
     "duration": null,
     "end_time": null,
     "exception": null,
     "start_time": null,
     "status": "pending"
    },
    "tags": []
   },
   "outputs": [],
   "source": [
    "sns.scatterplot( data = df_sql, x = 'embedding_x', y = 'embedding_y', hue = 'cluster_name', palette = 'husl');"
   ]
  },
  {
   "cell_type": "code",
   "execution_count": null,
   "id": "92e7d73b",
   "metadata": {
    "papermill": {
     "duration": null,
     "end_time": null,
     "exception": null,
     "start_time": null,
     "status": "pending"
    },
    "tags": []
   },
   "outputs": [],
   "source": [
    "sns.scatterplot( data = df_result, x = 'embedding_x', y = 'embedding_y', hue = 'cluster_name', palette = 'husl');"
   ]
  },
  {
   "cell_type": "code",
   "execution_count": null,
   "id": "4dacd167",
   "metadata": {
    "papermill": {
     "duration": null,
     "end_time": null,
     "exception": null,
     "start_time": null,
     "status": "pending"
    },
    "tags": []
   },
   "outputs": [],
   "source": [
    "df_sql.cluster_name.unique()"
   ]
  },
  {
   "cell_type": "markdown",
   "id": "8534dea4",
   "metadata": {
    "papermill": {
     "duration": null,
     "end_time": null,
     "exception": null,
     "start_time": null,
     "status": "pending"
    },
    "tags": []
   },
   "source": [
    "### Dashboard deployed at: [Insiders Program Clustering - Metabase](https://insiders-project-metabase.herokuapp.com/public/dashboard/1b6ee0b6-54ad-480d-84e0-48db2d6c5637)"
   ]
  },
  {
   "cell_type": "markdown",
   "id": "85e365f0",
   "metadata": {
    "papermill": {
     "duration": null,
     "end_time": null,
     "exception": null,
     "start_time": null,
     "status": "pending"
    },
    "tags": []
   },
   "source": [
    "TO DO:\n",
    "- verify aws packages (OK)\n",
    "- make a visualization dashboard (OK)\n",
    "- automate reports with:\n",
    "    - crontab (OK)\n",
    "    - github actions\n",
    "- automate ec2 to turn on and off"
   ]
  }
 ],
 "metadata": {
  "interpreter": {
   "hash": "4be9c22c924916f4f0290c88182d986b0302ce23f90563ec15842ba76b709463"
  },
  "kernelspec": {
   "display_name": "Python 3.8.0 64-bit ('insiders')",
   "language": "python",
   "name": "python3"
  },
  "language_info": {
   "codemirror_mode": {
    "name": "ipython",
    "version": 3
   },
   "file_extension": ".py",
   "mimetype": "text/x-python",
   "name": "python",
   "nbconvert_exporter": "python",
   "pygments_lexer": "ipython3",
   "version": "3.8.0"
  },
  "papermill": {
   "default_parameters": {},
   "duration": 35.960619,
   "end_time": "2022-03-23T14:08:41.510188",
   "environment_variables": {},
   "exception": true,
   "input_path": "/home/ubuntu/project/Insiders-Loyalty-Program/src/notebooks/c17-deploy-v1.ipynb",
   "output_path": "/home/ubuntu/project/Insiders-Loyalty-Program/src/logs/c17-deploy-v1.ipynb-date:2022-03-23--14:08:04.ipynb",
   "parameters": {},
   "start_time": "2022-03-23T14:08:05.549569",
   "version": "2.3.4"
  }
 },
 "nbformat": 4,
 "nbformat_minor": 5
}