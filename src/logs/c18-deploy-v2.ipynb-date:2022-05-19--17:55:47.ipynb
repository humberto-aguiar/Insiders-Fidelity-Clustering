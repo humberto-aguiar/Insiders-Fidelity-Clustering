{
 "cells": [
  {
   "cell_type": "markdown",
   "id": "e9747bd1",
   "metadata": {
    "tags": [
     "papermill-error-cell-tag"
    ]
   },
   "source": [
    "<span style=\"color:red; font-family:Helvetica Neue, Helvetica, Arial, sans-serif; font-size:2em;\">An Exception was encountered at '<a href=\"#papermill-error-cell\">In [45]</a>'.</span>"
   ]
  },
  {
   "cell_type": "markdown",
   "id": "acfe58d3",
   "metadata": {
    "papermill": {
     "duration": 0.077195,
     "end_time": "2022-05-19T17:55:50.786568",
     "exception": false,
     "start_time": "2022-05-19T17:55:50.709373",
     "status": "completed"
    },
    "tags": []
   },
   "source": [
    "# 0.0 Imports"
   ]
  },
  {
   "cell_type": "markdown",
   "id": "bd15b017",
   "metadata": {
    "papermill": {
     "duration": 0.076689,
     "end_time": "2022-05-19T17:55:50.938637",
     "exception": false,
     "start_time": "2022-05-19T17:55:50.861948",
     "status": "completed"
    },
    "tags": []
   },
   "source": [
    "## 0.1 Imports"
   ]
  },
  {
   "cell_type": "code",
   "execution_count": 1,
   "id": "19368ca8",
   "metadata": {
    "execution": {
     "iopub.execute_input": "2022-05-19T17:55:51.091856Z",
     "iopub.status.busy": "2022-05-19T17:55:51.091566Z",
     "iopub.status.idle": "2022-05-19T17:56:02.692110Z",
     "shell.execute_reply": "2022-05-19T17:56:02.691486Z"
    },
    "papermill": {
     "duration": 11.680609,
     "end_time": "2022-05-19T17:56:02.694951",
     "exception": false,
     "start_time": "2022-05-19T17:55:51.014342",
     "status": "completed"
    },
    "tags": []
   },
   "outputs": [
    {
     "name": "stderr",
     "output_type": "stream",
     "text": [
      "/home/ubuntu/.pyenv/versions/3.8.0/envs/insiders_deploy/lib/python3.8/site-packages/tqdm/auto.py:22: TqdmWarning: IProgress not found. Please update jupyter and ipywidgets. See https://ipywidgets.readthedocs.io/en/stable/user_install.html\n",
      "  from .autonotebook import tqdm as notebook_tqdm\n"
     ]
    }
   ],
   "source": [
    "import pandas as pd\n",
    "import numpy as np\n",
    "import matplotlib.pyplot as plt\n",
    "import seaborn as sns\n",
    "import inflection\n",
    "import re\n",
    "import s3fs \n",
    "import json\n",
    "from datetime import datetime\n",
    "\n",
    "from sklearn.ensemble import RandomForestRegressor\n",
    "from sklearn.cluster import DBSCAN\n",
    "\n",
    "from umap import UMAP\n",
    "\n",
    "from sqlalchemy import create_engine\n",
    "\n",
    "import gc"
   ]
  },
  {
   "cell_type": "markdown",
   "id": "76293e6f",
   "metadata": {
    "papermill": {
     "duration": 0.07625,
     "end_time": "2022-05-19T17:56:02.849540",
     "exception": false,
     "start_time": "2022-05-19T17:56:02.773290",
     "status": "completed"
    },
    "tags": []
   },
   "source": [
    "## 0.2 Helper Functions\n",
    "\n"
   ]
  },
  {
   "cell_type": "code",
   "execution_count": 2,
   "id": "3ddeac39",
   "metadata": {
    "execution": {
     "iopub.execute_input": "2022-05-19T17:56:03.003318Z",
     "iopub.status.busy": "2022-05-19T17:56:03.002675Z",
     "iopub.status.idle": "2022-05-19T17:56:03.012614Z",
     "shell.execute_reply": "2022-05-19T17:56:03.012030Z"
    },
    "papermill": {
     "duration": 0.08878,
     "end_time": "2022-05-19T17:56:03.014511",
     "exception": false,
     "start_time": "2022-05-19T17:56:02.925731",
     "status": "completed"
    },
    "tags": []
   },
   "outputs": [],
   "source": [
    "# Defining some plot settings\n",
    "def jupyter_settings():\n",
    "    %matplotlib inline\n",
    "    #%pylab inline\n",
    "    #matplotlib notebook\n",
    "    plt.style.use( 'bmh' )\n",
    "    plt.rcParams['figure.figsize'] = [25, 12]\n",
    "    plt.rcParams['font.size'] = 24\n",
    "    # display( HTML( '<style>.container { width:100% !important; }</style>') )\n",
    "    pd.options.display.max_columns = None\n",
    "    pd.options.display.max_rows = None\n",
    "    pd.set_option( 'display.expand_frame_repr', False )\n",
    "    sns.set()\n",
    "\n",
    "jupyter_settings()"
   ]
  },
  {
   "cell_type": "markdown",
   "id": "dac14baa",
   "metadata": {
    "heading_collapsed": true,
    "papermill": {
     "duration": 0.091023,
     "end_time": "2022-05-19T17:56:03.181803",
     "exception": false,
     "start_time": "2022-05-19T17:56:03.090780",
     "status": "completed"
    },
    "tags": []
   },
   "source": [
    "## 0.4 Columns Description\n",
    "\n"
   ]
  },
  {
   "cell_type": "markdown",
   "id": "d92b8792",
   "metadata": {
    "papermill": {
     "duration": 0.154126,
     "end_time": "2022-05-19T17:56:03.489958",
     "exception": false,
     "start_time": "2022-05-19T17:56:03.335832",
     "status": "completed"
    },
    "tags": []
   },
   "source": [
    "### Attribute Description\n",
    "- InvoiceNo Invoice number (A 6-digit integral number uniquely assigned to each transaction)\n",
    "- StockCode Product (item) code\n",
    "- Description Product (item) name\n",
    "- Quantity The quantities of each product (item) per transaction\n",
    "- InvoiceDate The day when each transaction was generated\n",
    "- UnitPrice Unit price (Product price per unit)\n",
    "- CustomerID Customer number (Unique ID assigned to each customer)\n",
    "- Country Country name (The name of the country where each customer resides)"
   ]
  },
  {
   "cell_type": "markdown",
   "id": "f5a06168",
   "metadata": {
    "papermill": {
     "duration": 0.075436,
     "end_time": "2022-05-19T17:56:03.644038",
     "exception": false,
     "start_time": "2022-05-19T17:56:03.568602",
     "status": "completed"
    },
    "tags": []
   },
   "source": [
    "# 1.0 Data Description\n"
   ]
  },
  {
   "cell_type": "code",
   "execution_count": 3,
   "id": "bea731cc",
   "metadata": {
    "execution": {
     "iopub.execute_input": "2022-05-19T17:56:03.796239Z",
     "iopub.status.busy": "2022-05-19T17:56:03.795614Z",
     "iopub.status.idle": "2022-05-19T17:56:05.906323Z",
     "shell.execute_reply": "2022-05-19T17:56:05.900822Z"
    },
    "papermill": {
     "duration": 2.190379,
     "end_time": "2022-05-19T17:56:05.909448",
     "exception": false,
     "start_time": "2022-05-19T17:56:03.719069",
     "status": "completed"
    },
    "tags": []
   },
   "outputs": [],
   "source": [
    "# df1 = pd.read_csv('../data/raw/ecommerce.csv', encoding='ISO-8859-1', sep = ',')\n",
    "# df1 = pd.read_csv('/home/humberto/DS/insiders_clustering/data/raw/ecommerce.csv', encoding='ISO-8859-1', sep = ',')\n",
    "\n",
    "# Reading data from S3 Bucket:\n",
    "path_s3 = 'https://insiders-raw-data-bucket.s3.sa-east-1.amazonaws.com/raw/'\n",
    "df1 = pd.read_csv( path_s3 + 'ecommerce.csv', encoding='ISO-8859-1')"
   ]
  },
  {
   "cell_type": "code",
   "execution_count": 4,
   "id": "28c45b20",
   "metadata": {
    "execution": {
     "iopub.execute_input": "2022-05-19T17:56:06.108791Z",
     "iopub.status.busy": "2022-05-19T17:56:06.108120Z",
     "iopub.status.idle": "2022-05-19T17:56:06.111586Z",
     "shell.execute_reply": "2022-05-19T17:56:06.111020Z"
    },
    "papermill": {
     "duration": 0.126259,
     "end_time": "2022-05-19T17:56:06.115493",
     "exception": false,
     "start_time": "2022-05-19T17:56:05.989234",
     "status": "completed"
    },
    "tags": []
   },
   "outputs": [],
   "source": [
    "# df1_s3.info()"
   ]
  },
  {
   "cell_type": "code",
   "execution_count": 5,
   "id": "46906296",
   "metadata": {
    "execution": {
     "iopub.execute_input": "2022-05-19T17:56:06.409841Z",
     "iopub.status.busy": "2022-05-19T17:56:06.409183Z",
     "iopub.status.idle": "2022-05-19T17:56:06.416727Z",
     "shell.execute_reply": "2022-05-19T17:56:06.416071Z"
    },
    "papermill": {
     "duration": 0.144008,
     "end_time": "2022-05-19T17:56:06.418728",
     "exception": false,
     "start_time": "2022-05-19T17:56:06.274720",
     "status": "completed"
    },
    "tags": []
   },
   "outputs": [
    {
     "name": "stdout",
     "output_type": "stream",
     "text": [
      "Dimensions ok:(541909, 9)\n"
     ]
    }
   ],
   "source": [
    "if df1.shape == (541909, 9):\n",
    "    print('Dimensions ok:{}'.format(df1.shape))\n",
    "else:\n",
    "    print('Dimensions differ from expected: {}'.format(df1.shape) )"
   ]
  },
  {
   "cell_type": "markdown",
   "id": "6d1daac9",
   "metadata": {
    "hidden": true,
    "papermill": {
     "duration": 0.07769,
     "end_time": "2022-05-19T17:56:06.573253",
     "exception": false,
     "start_time": "2022-05-19T17:56:06.495563",
     "status": "completed"
    },
    "tags": []
   },
   "source": [
    "## 1.1 Rename Columns"
   ]
  },
  {
   "cell_type": "code",
   "execution_count": 6,
   "id": "7fd21ba7",
   "metadata": {
    "execution": {
     "iopub.execute_input": "2022-05-19T17:56:06.760380Z",
     "iopub.status.busy": "2022-05-19T17:56:06.759722Z",
     "iopub.status.idle": "2022-05-19T17:56:06.770981Z",
     "shell.execute_reply": "2022-05-19T17:56:06.770417Z"
    },
    "papermill": {
     "duration": 0.091075,
     "end_time": "2022-05-19T17:56:06.772910",
     "exception": false,
     "start_time": "2022-05-19T17:56:06.681835",
     "status": "completed"
    },
    "tags": []
   },
   "outputs": [
    {
     "data": {
      "text/plain": [
       "['invoice_no',\n",
       " 'stock_code',\n",
       " 'description',\n",
       " 'quantity',\n",
       " 'invoice_date',\n",
       " 'unit_price',\n",
       " 'customer_id',\n",
       " 'country',\n",
       " 'unnamed: 8']"
      ]
     },
     "execution_count": 6,
     "metadata": {},
     "output_type": "execute_result"
    }
   ],
   "source": [
    "cols_old = df1.columns.tolist()\n",
    "\n",
    "cols_new = [inflection.underscore(col) for col in cols_old]\n",
    "cols_new"
   ]
  },
  {
   "cell_type": "code",
   "execution_count": 7,
   "id": "92dd3a49",
   "metadata": {
    "execution": {
     "iopub.execute_input": "2022-05-19T17:56:06.961537Z",
     "iopub.status.busy": "2022-05-19T17:56:06.960888Z",
     "iopub.status.idle": "2022-05-19T17:56:06.970881Z",
     "shell.execute_reply": "2022-05-19T17:56:06.970286Z"
    },
    "papermill": {
     "duration": 0.123149,
     "end_time": "2022-05-19T17:56:06.972893",
     "exception": false,
     "start_time": "2022-05-19T17:56:06.849744",
     "status": "completed"
    },
    "tags": []
   },
   "outputs": [],
   "source": [
    "df1.rename(columns = dict(zip(cols_old, cols_new)), inplace = True )"
   ]
  },
  {
   "cell_type": "markdown",
   "id": "5847a3b9",
   "metadata": {
    "papermill": {
     "duration": 0.137042,
     "end_time": "2022-05-19T17:56:07.270515",
     "exception": false,
     "start_time": "2022-05-19T17:56:07.133473",
     "status": "completed"
    },
    "tags": []
   },
   "source": [
    "## 1.2 Data Dimensions"
   ]
  },
  {
   "cell_type": "code",
   "execution_count": 8,
   "id": "0703b7d7",
   "metadata": {
    "execution": {
     "iopub.execute_input": "2022-05-19T17:56:07.428157Z",
     "iopub.status.busy": "2022-05-19T17:56:07.427526Z",
     "iopub.status.idle": "2022-05-19T17:56:07.433168Z",
     "shell.execute_reply": "2022-05-19T17:56:07.432563Z"
    },
    "papermill": {
     "duration": 0.087583,
     "end_time": "2022-05-19T17:56:07.436215",
     "exception": false,
     "start_time": "2022-05-19T17:56:07.348632",
     "status": "completed"
    },
    "tags": []
   },
   "outputs": [
    {
     "name": "stdout",
     "output_type": "stream",
     "text": [
      "Number of rows: 541909\n",
      "Number of cols: 9\n"
     ]
    }
   ],
   "source": [
    "print( 'Number of rows: {}'.format( df1.shape[0] ) )\n",
    "print( 'Number of cols: {}'.format( df1.shape[1] ) )"
   ]
  },
  {
   "cell_type": "markdown",
   "id": "ceabef89",
   "metadata": {
    "papermill": {
     "duration": 0.078678,
     "end_time": "2022-05-19T17:56:07.593307",
     "exception": false,
     "start_time": "2022-05-19T17:56:07.514629",
     "status": "completed"
    },
    "tags": []
   },
   "source": [
    "## 1.3 Data Types"
   ]
  },
  {
   "cell_type": "code",
   "execution_count": 9,
   "id": "4e0dad6c",
   "metadata": {
    "execution": {
     "iopub.execute_input": "2022-05-19T17:56:07.752039Z",
     "iopub.status.busy": "2022-05-19T17:56:07.751410Z",
     "iopub.status.idle": "2022-05-19T17:56:07.761449Z",
     "shell.execute_reply": "2022-05-19T17:56:07.760869Z"
    },
    "papermill": {
     "duration": 0.091368,
     "end_time": "2022-05-19T17:56:07.763408",
     "exception": false,
     "start_time": "2022-05-19T17:56:07.672040",
     "status": "completed"
    },
    "tags": []
   },
   "outputs": [
    {
     "data": {
      "text/plain": [
       "invoice_no       object\n",
       "stock_code       object\n",
       "description      object\n",
       "quantity          int64\n",
       "invoice_date     object\n",
       "unit_price      float64\n",
       "customer_id     float64\n",
       "country          object\n",
       "unnamed: 8      float64\n",
       "dtype: object"
      ]
     },
     "execution_count": 9,
     "metadata": {},
     "output_type": "execute_result"
    }
   ],
   "source": [
    "df1.dtypes"
   ]
  },
  {
   "cell_type": "markdown",
   "id": "efe167a5",
   "metadata": {
    "papermill": {
     "duration": 0.14877,
     "end_time": "2022-05-19T17:56:07.995092",
     "exception": false,
     "start_time": "2022-05-19T17:56:07.846322",
     "status": "completed"
    },
    "tags": []
   },
   "source": [
    "## 1.4 NA Check"
   ]
  },
  {
   "cell_type": "code",
   "execution_count": 10,
   "id": "663e5fa1",
   "metadata": {
    "execution": {
     "iopub.execute_input": "2022-05-19T17:56:08.323142Z",
     "iopub.status.busy": "2022-05-19T17:56:08.322385Z",
     "iopub.status.idle": "2022-05-19T17:56:08.779413Z",
     "shell.execute_reply": "2022-05-19T17:56:08.778840Z"
    },
    "papermill": {
     "duration": 0.623734,
     "end_time": "2022-05-19T17:56:08.781413",
     "exception": false,
     "start_time": "2022-05-19T17:56:08.157679",
     "status": "completed"
    },
    "tags": []
   },
   "outputs": [
    {
     "data": {
      "text/plain": [
       "invoice_no        0.000000\n",
       "stock_code        0.000000\n",
       "description       0.268311\n",
       "quantity          0.000000\n",
       "invoice_date      0.000000\n",
       "unit_price        0.000000\n",
       "customer_id      24.926694\n",
       "country           0.000000\n",
       "unnamed: 8      100.000000\n",
       "dtype: float64"
      ]
     },
     "execution_count": 10,
     "metadata": {},
     "output_type": "execute_result"
    }
   ],
   "source": [
    "df1.isna().sum()/df1.shape[0]*100"
   ]
  },
  {
   "cell_type": "code",
   "execution_count": 11,
   "id": "f2cc8e02",
   "metadata": {
    "execution": {
     "iopub.execute_input": "2022-05-19T17:56:08.941269Z",
     "iopub.status.busy": "2022-05-19T17:56:08.940632Z",
     "iopub.status.idle": "2022-05-19T17:56:08.999800Z",
     "shell.execute_reply": "2022-05-19T17:56:08.999229Z"
    },
    "papermill": {
     "duration": 0.140993,
     "end_time": "2022-05-19T17:56:09.001780",
     "exception": false,
     "start_time": "2022-05-19T17:56:08.860787",
     "status": "completed"
    },
    "tags": []
   },
   "outputs": [
    {
     "data": {
      "text/plain": [
       "Index(['invoice_no', 'stock_code', 'description', 'quantity', 'invoice_date',\n",
       "       'unit_price', 'customer_id', 'country'],\n",
       "      dtype='object')"
      ]
     },
     "execution_count": 11,
     "metadata": {},
     "output_type": "execute_result"
    }
   ],
   "source": [
    "df1.drop(columns=['unnamed: 8'], inplace = True)\n",
    "df1.columns"
   ]
  },
  {
   "cell_type": "markdown",
   "id": "b6653bfa",
   "metadata": {
    "papermill": {
     "duration": 0.161139,
     "end_time": "2022-05-19T17:56:09.313854",
     "exception": false,
     "start_time": "2022-05-19T17:56:09.152715",
     "status": "completed"
    },
    "tags": []
   },
   "source": [
    "## 1.5 NA Fillout"
   ]
  },
  {
   "cell_type": "code",
   "execution_count": 12,
   "id": "3b9147b3",
   "metadata": {
    "execution": {
     "iopub.execute_input": "2022-05-19T17:56:09.580916Z",
     "iopub.status.busy": "2022-05-19T17:56:09.580246Z",
     "iopub.status.idle": "2022-05-19T17:56:10.037919Z",
     "shell.execute_reply": "2022-05-19T17:56:10.037330Z"
    },
    "papermill": {
     "duration": 0.621535,
     "end_time": "2022-05-19T17:56:10.039971",
     "exception": false,
     "start_time": "2022-05-19T17:56:09.418436",
     "status": "completed"
    },
    "tags": []
   },
   "outputs": [
    {
     "data": {
      "text/plain": [
       "invoice_no      0\n",
       "stock_code      0\n",
       "description     0\n",
       "quantity        0\n",
       "invoice_date    0\n",
       "unit_price      0\n",
       "customer_id     0\n",
       "country         0\n",
       "dtype: int64"
      ]
     },
     "execution_count": 12,
     "metadata": {},
     "output_type": "execute_result"
    }
   ],
   "source": [
    "df1.dropna(subset=['customer_id'], axis = 0, inplace =  True)\n",
    "df1.isna().sum()"
   ]
  },
  {
   "cell_type": "markdown",
   "id": "f9b636f9",
   "metadata": {
    "papermill": {
     "duration": 0.08052,
     "end_time": "2022-05-19T17:56:10.200736",
     "exception": false,
     "start_time": "2022-05-19T17:56:10.120216",
     "status": "completed"
    },
    "tags": []
   },
   "source": [
    "## 1.6 Changing Data Types\n"
   ]
  },
  {
   "cell_type": "code",
   "execution_count": 13,
   "id": "d55eedd4",
   "metadata": {
    "execution": {
     "iopub.execute_input": "2022-05-19T17:56:10.519403Z",
     "iopub.status.busy": "2022-05-19T17:56:10.518772Z",
     "iopub.status.idle": "2022-05-19T17:56:10.549054Z",
     "shell.execute_reply": "2022-05-19T17:56:10.548406Z"
    },
    "papermill": {
     "duration": 0.199662,
     "end_time": "2022-05-19T17:56:10.551015",
     "exception": false,
     "start_time": "2022-05-19T17:56:10.351353",
     "status": "completed"
    },
    "tags": []
   },
   "outputs": [
    {
     "data": {
      "text/html": [
       "<div>\n",
       "<style scoped>\n",
       "    .dataframe tbody tr th:only-of-type {\n",
       "        vertical-align: middle;\n",
       "    }\n",
       "\n",
       "    .dataframe tbody tr th {\n",
       "        vertical-align: top;\n",
       "    }\n",
       "\n",
       "    .dataframe thead th {\n",
       "        text-align: right;\n",
       "    }\n",
       "</style>\n",
       "<table border=\"1\" class=\"dataframe\">\n",
       "  <thead>\n",
       "    <tr style=\"text-align: right;\">\n",
       "      <th></th>\n",
       "      <th>invoice_no</th>\n",
       "      <th>stock_code</th>\n",
       "      <th>description</th>\n",
       "      <th>quantity</th>\n",
       "      <th>invoice_date</th>\n",
       "      <th>unit_price</th>\n",
       "      <th>customer_id</th>\n",
       "      <th>country</th>\n",
       "    </tr>\n",
       "  </thead>\n",
       "  <tbody>\n",
       "    <tr>\n",
       "      <th>0</th>\n",
       "      <td>536365</td>\n",
       "      <td>85123A</td>\n",
       "      <td>WHITE HANGING HEART T-LIGHT HOLDER</td>\n",
       "      <td>6</td>\n",
       "      <td>29-Nov-16</td>\n",
       "      <td>2.55</td>\n",
       "      <td>17850.0</td>\n",
       "      <td>United Kingdom</td>\n",
       "    </tr>\n",
       "    <tr>\n",
       "      <th>1</th>\n",
       "      <td>536365</td>\n",
       "      <td>71053</td>\n",
       "      <td>WHITE METAL LANTERN</td>\n",
       "      <td>6</td>\n",
       "      <td>29-Nov-16</td>\n",
       "      <td>3.39</td>\n",
       "      <td>17850.0</td>\n",
       "      <td>United Kingdom</td>\n",
       "    </tr>\n",
       "    <tr>\n",
       "      <th>2</th>\n",
       "      <td>536365</td>\n",
       "      <td>84406B</td>\n",
       "      <td>CREAM CUPID HEARTS COAT HANGER</td>\n",
       "      <td>8</td>\n",
       "      <td>29-Nov-16</td>\n",
       "      <td>2.75</td>\n",
       "      <td>17850.0</td>\n",
       "      <td>United Kingdom</td>\n",
       "    </tr>\n",
       "    <tr>\n",
       "      <th>3</th>\n",
       "      <td>536365</td>\n",
       "      <td>84029G</td>\n",
       "      <td>KNITTED UNION FLAG HOT WATER BOTTLE</td>\n",
       "      <td>6</td>\n",
       "      <td>29-Nov-16</td>\n",
       "      <td>3.39</td>\n",
       "      <td>17850.0</td>\n",
       "      <td>United Kingdom</td>\n",
       "    </tr>\n",
       "    <tr>\n",
       "      <th>4</th>\n",
       "      <td>536365</td>\n",
       "      <td>84029E</td>\n",
       "      <td>RED WOOLLY HOTTIE WHITE HEART.</td>\n",
       "      <td>6</td>\n",
       "      <td>29-Nov-16</td>\n",
       "      <td>3.39</td>\n",
       "      <td>17850.0</td>\n",
       "      <td>United Kingdom</td>\n",
       "    </tr>\n",
       "  </tbody>\n",
       "</table>\n",
       "</div>"
      ],
      "text/plain": [
       "  invoice_no stock_code                          description  quantity invoice_date  unit_price  customer_id         country\n",
       "0     536365     85123A   WHITE HANGING HEART T-LIGHT HOLDER         6    29-Nov-16        2.55      17850.0  United Kingdom\n",
       "1     536365      71053                  WHITE METAL LANTERN         6    29-Nov-16        3.39      17850.0  United Kingdom\n",
       "2     536365     84406B       CREAM CUPID HEARTS COAT HANGER         8    29-Nov-16        2.75      17850.0  United Kingdom\n",
       "3     536365     84029G  KNITTED UNION FLAG HOT WATER BOTTLE         6    29-Nov-16        3.39      17850.0  United Kingdom\n",
       "4     536365     84029E       RED WOOLLY HOTTIE WHITE HEART.         6    29-Nov-16        3.39      17850.0  United Kingdom"
      ]
     },
     "execution_count": 13,
     "metadata": {},
     "output_type": "execute_result"
    }
   ],
   "source": [
    "df1.head()"
   ]
  },
  {
   "cell_type": "code",
   "execution_count": 14,
   "id": "c8ba89fd",
   "metadata": {
    "execution": {
     "iopub.execute_input": "2022-05-19T17:56:10.725626Z",
     "iopub.status.busy": "2022-05-19T17:56:10.724960Z",
     "iopub.status.idle": "2022-05-19T17:56:10.733156Z",
     "shell.execute_reply": "2022-05-19T17:56:10.732569Z"
    },
    "papermill": {
     "duration": 0.092286,
     "end_time": "2022-05-19T17:56:10.735356",
     "exception": false,
     "start_time": "2022-05-19T17:56:10.643070",
     "status": "completed"
    },
    "tags": []
   },
   "outputs": [
    {
     "data": {
      "text/plain": [
       "invoice_no       object\n",
       "stock_code       object\n",
       "description      object\n",
       "quantity          int64\n",
       "invoice_date     object\n",
       "unit_price      float64\n",
       "customer_id     float64\n",
       "country          object\n",
       "dtype: object"
      ]
     },
     "execution_count": 14,
     "metadata": {},
     "output_type": "execute_result"
    }
   ],
   "source": [
    "df1.dtypes"
   ]
  },
  {
   "cell_type": "code",
   "execution_count": 15,
   "id": "34dfc4c9",
   "metadata": {
    "execution": {
     "iopub.execute_input": "2022-05-19T17:56:10.899906Z",
     "iopub.status.busy": "2022-05-19T17:56:10.899263Z",
     "iopub.status.idle": "2022-05-19T17:56:10.973575Z",
     "shell.execute_reply": "2022-05-19T17:56:10.972992Z"
    },
    "papermill": {
     "duration": 0.158418,
     "end_time": "2022-05-19T17:56:10.975524",
     "exception": false,
     "start_time": "2022-05-19T17:56:10.817106",
     "status": "completed"
    },
    "tags": []
   },
   "outputs": [
    {
     "data": {
      "text/html": [
       "<div>\n",
       "<style scoped>\n",
       "    .dataframe tbody tr th:only-of-type {\n",
       "        vertical-align: middle;\n",
       "    }\n",
       "\n",
       "    .dataframe tbody tr th {\n",
       "        vertical-align: top;\n",
       "    }\n",
       "\n",
       "    .dataframe thead th {\n",
       "        text-align: right;\n",
       "    }\n",
       "</style>\n",
       "<table border=\"1\" class=\"dataframe\">\n",
       "  <thead>\n",
       "    <tr style=\"text-align: right;\">\n",
       "      <th></th>\n",
       "      <th>invoice_no</th>\n",
       "      <th>stock_code</th>\n",
       "      <th>description</th>\n",
       "      <th>quantity</th>\n",
       "      <th>invoice_date</th>\n",
       "      <th>unit_price</th>\n",
       "      <th>customer_id</th>\n",
       "      <th>country</th>\n",
       "    </tr>\n",
       "  </thead>\n",
       "  <tbody>\n",
       "    <tr>\n",
       "      <th>0</th>\n",
       "      <td>536365</td>\n",
       "      <td>85123A</td>\n",
       "      <td>WHITE HANGING HEART T-LIGHT HOLDER</td>\n",
       "      <td>6</td>\n",
       "      <td>2016-11-29</td>\n",
       "      <td>2.55</td>\n",
       "      <td>17850</td>\n",
       "      <td>United Kingdom</td>\n",
       "    </tr>\n",
       "    <tr>\n",
       "      <th>1</th>\n",
       "      <td>536365</td>\n",
       "      <td>71053</td>\n",
       "      <td>WHITE METAL LANTERN</td>\n",
       "      <td>6</td>\n",
       "      <td>2016-11-29</td>\n",
       "      <td>3.39</td>\n",
       "      <td>17850</td>\n",
       "      <td>United Kingdom</td>\n",
       "    </tr>\n",
       "    <tr>\n",
       "      <th>2</th>\n",
       "      <td>536365</td>\n",
       "      <td>84406B</td>\n",
       "      <td>CREAM CUPID HEARTS COAT HANGER</td>\n",
       "      <td>8</td>\n",
       "      <td>2016-11-29</td>\n",
       "      <td>2.75</td>\n",
       "      <td>17850</td>\n",
       "      <td>United Kingdom</td>\n",
       "    </tr>\n",
       "    <tr>\n",
       "      <th>3</th>\n",
       "      <td>536365</td>\n",
       "      <td>84029G</td>\n",
       "      <td>KNITTED UNION FLAG HOT WATER BOTTLE</td>\n",
       "      <td>6</td>\n",
       "      <td>2016-11-29</td>\n",
       "      <td>3.39</td>\n",
       "      <td>17850</td>\n",
       "      <td>United Kingdom</td>\n",
       "    </tr>\n",
       "    <tr>\n",
       "      <th>4</th>\n",
       "      <td>536365</td>\n",
       "      <td>84029E</td>\n",
       "      <td>RED WOOLLY HOTTIE WHITE HEART.</td>\n",
       "      <td>6</td>\n",
       "      <td>2016-11-29</td>\n",
       "      <td>3.39</td>\n",
       "      <td>17850</td>\n",
       "      <td>United Kingdom</td>\n",
       "    </tr>\n",
       "  </tbody>\n",
       "</table>\n",
       "</div>"
      ],
      "text/plain": [
       "  invoice_no stock_code                          description  quantity invoice_date  unit_price  customer_id         country\n",
       "0     536365     85123A   WHITE HANGING HEART T-LIGHT HOLDER         6   2016-11-29        2.55        17850  United Kingdom\n",
       "1     536365      71053                  WHITE METAL LANTERN         6   2016-11-29        3.39        17850  United Kingdom\n",
       "2     536365     84406B       CREAM CUPID HEARTS COAT HANGER         8   2016-11-29        2.75        17850  United Kingdom\n",
       "3     536365     84029G  KNITTED UNION FLAG HOT WATER BOTTLE         6   2016-11-29        3.39        17850  United Kingdom\n",
       "4     536365     84029E       RED WOOLLY HOTTIE WHITE HEART.         6   2016-11-29        3.39        17850  United Kingdom"
      ]
     },
     "execution_count": 15,
     "metadata": {},
     "output_type": "execute_result"
    }
   ],
   "source": [
    "df1['invoice_date'] = pd.to_datetime( df1['invoice_date'], format = '%d-%b-%y' )\n",
    "\n",
    "df1['customer_id'] = df1['customer_id'].astype(int)\n",
    "\n",
    "df1.head()"
   ]
  },
  {
   "cell_type": "code",
   "execution_count": 16,
   "id": "0e8a48f1",
   "metadata": {
    "execution": {
     "iopub.execute_input": "2022-05-19T17:56:11.170015Z",
     "iopub.status.busy": "2022-05-19T17:56:11.169364Z",
     "iopub.status.idle": "2022-05-19T17:56:11.181292Z",
     "shell.execute_reply": "2022-05-19T17:56:11.180691Z"
    },
    "papermill": {
     "duration": 0.125652,
     "end_time": "2022-05-19T17:56:11.183875",
     "exception": false,
     "start_time": "2022-05-19T17:56:11.058223",
     "status": "completed"
    },
    "tags": []
   },
   "outputs": [
    {
     "data": {
      "text/plain": [
       "invoice_no              object\n",
       "stock_code              object\n",
       "description             object\n",
       "quantity                 int64\n",
       "invoice_date    datetime64[ns]\n",
       "unit_price             float64\n",
       "customer_id              int64\n",
       "country                 object\n",
       "dtype: object"
      ]
     },
     "execution_count": 16,
     "metadata": {},
     "output_type": "execute_result"
    }
   ],
   "source": [
    "df1.dtypes"
   ]
  },
  {
   "cell_type": "markdown",
   "id": "aead055f",
   "metadata": {
    "papermill": {
     "duration": 0.138646,
     "end_time": "2022-05-19T17:56:11.495301",
     "exception": false,
     "start_time": "2022-05-19T17:56:11.356655",
     "status": "completed"
    },
    "tags": []
   },
   "source": [
    "## 1.7 Descriptive Statistics"
   ]
  },
  {
   "cell_type": "markdown",
   "id": "4c14cb6f",
   "metadata": {
    "papermill": {
     "duration": 0.082486,
     "end_time": "2022-05-19T17:56:11.661032",
     "exception": false,
     "start_time": "2022-05-19T17:56:11.578546",
     "status": "completed"
    },
    "tags": []
   },
   "source": [
    "### 1.7.1 Numerical Attributes"
   ]
  },
  {
   "cell_type": "code",
   "execution_count": 17,
   "id": "53592a41",
   "metadata": {
    "execution": {
     "iopub.execute_input": "2022-05-19T17:56:11.829489Z",
     "iopub.status.busy": "2022-05-19T17:56:11.828828Z",
     "iopub.status.idle": "2022-05-19T17:56:12.012626Z",
     "shell.execute_reply": "2022-05-19T17:56:12.011986Z"
    },
    "papermill": {
     "duration": 0.270722,
     "end_time": "2022-05-19T17:56:12.014759",
     "exception": false,
     "start_time": "2022-05-19T17:56:11.744037",
     "status": "completed"
    },
    "tags": []
   },
   "outputs": [
    {
     "data": {
      "text/html": [
       "<style type=\"text/css\">\n",
       "</style>\n",
       "<table id=\"T_7fd24\">\n",
       "  <thead>\n",
       "    <tr>\n",
       "      <th class=\"blank level0\" >&nbsp;</th>\n",
       "      <th id=\"T_7fd24_level0_col0\" class=\"col_heading level0 col0\" >min</th>\n",
       "      <th id=\"T_7fd24_level0_col1\" class=\"col_heading level0 col1\" >max</th>\n",
       "      <th id=\"T_7fd24_level0_col2\" class=\"col_heading level0 col2\" >range</th>\n",
       "      <th id=\"T_7fd24_level0_col3\" class=\"col_heading level0 col3\" >mean</th>\n",
       "      <th id=\"T_7fd24_level0_col4\" class=\"col_heading level0 col4\" >median</th>\n",
       "      <th id=\"T_7fd24_level0_col5\" class=\"col_heading level0 col5\" >std</th>\n",
       "      <th id=\"T_7fd24_level0_col6\" class=\"col_heading level0 col6\" >skew</th>\n",
       "      <th id=\"T_7fd24_level0_col7\" class=\"col_heading level0 col7\" >kurtosis</th>\n",
       "    </tr>\n",
       "  </thead>\n",
       "  <tbody>\n",
       "    <tr>\n",
       "      <th id=\"T_7fd24_level0_row0\" class=\"row_heading level0 row0\" >quantity</th>\n",
       "      <td id=\"T_7fd24_row0_col0\" class=\"data row0 col0\" >-80,995.00</td>\n",
       "      <td id=\"T_7fd24_row0_col1\" class=\"data row0 col1\" >80,995.00</td>\n",
       "      <td id=\"T_7fd24_row0_col2\" class=\"data row0 col2\" >161,990.00</td>\n",
       "      <td id=\"T_7fd24_row0_col3\" class=\"data row0 col3\" >12.06</td>\n",
       "      <td id=\"T_7fd24_row0_col4\" class=\"data row0 col4\" >5.00</td>\n",
       "      <td id=\"T_7fd24_row0_col5\" class=\"data row0 col5\" >248.69</td>\n",
       "      <td id=\"T_7fd24_row0_col6\" class=\"data row0 col6\" >0.18</td>\n",
       "      <td id=\"T_7fd24_row0_col7\" class=\"data row0 col7\" >94,317.56</td>\n",
       "    </tr>\n",
       "    <tr>\n",
       "      <th id=\"T_7fd24_level0_row1\" class=\"row_heading level0 row1\" >unit_price</th>\n",
       "      <td id=\"T_7fd24_row1_col0\" class=\"data row1 col0\" >0.00</td>\n",
       "      <td id=\"T_7fd24_row1_col1\" class=\"data row1 col1\" >38,970.00</td>\n",
       "      <td id=\"T_7fd24_row1_col2\" class=\"data row1 col2\" >38,970.00</td>\n",
       "      <td id=\"T_7fd24_row1_col3\" class=\"data row1 col3\" >3.46</td>\n",
       "      <td id=\"T_7fd24_row1_col4\" class=\"data row1 col4\" >1.95</td>\n",
       "      <td id=\"T_7fd24_row1_col5\" class=\"data row1 col5\" >69.32</td>\n",
       "      <td id=\"T_7fd24_row1_col6\" class=\"data row1 col6\" >452.22</td>\n",
       "      <td id=\"T_7fd24_row1_col7\" class=\"data row1 col7\" >246,924.54</td>\n",
       "    </tr>\n",
       "    <tr>\n",
       "      <th id=\"T_7fd24_level0_row2\" class=\"row_heading level0 row2\" >customer_id</th>\n",
       "      <td id=\"T_7fd24_row2_col0\" class=\"data row2 col0\" >12,346.00</td>\n",
       "      <td id=\"T_7fd24_row2_col1\" class=\"data row2 col1\" >18,287.00</td>\n",
       "      <td id=\"T_7fd24_row2_col2\" class=\"data row2 col2\" >5,941.00</td>\n",
       "      <td id=\"T_7fd24_row2_col3\" class=\"data row2 col3\" >15,287.69</td>\n",
       "      <td id=\"T_7fd24_row2_col4\" class=\"data row2 col4\" >15,152.00</td>\n",
       "      <td id=\"T_7fd24_row2_col5\" class=\"data row2 col5\" >1,713.60</td>\n",
       "      <td id=\"T_7fd24_row2_col6\" class=\"data row2 col6\" >0.03</td>\n",
       "      <td id=\"T_7fd24_row2_col7\" class=\"data row2 col7\" >-1.18</td>\n",
       "    </tr>\n",
       "  </tbody>\n",
       "</table>\n"
      ],
      "text/plain": [
       "<pandas.io.formats.style.Styler at 0x7f84f4722df0>"
      ]
     },
     "execution_count": 17,
     "metadata": {},
     "output_type": "execute_result"
    }
   ],
   "source": [
    "num_att = df1.select_dtypes(include= ['int','float'])\n",
    "d1 = pd.DataFrame( num_att.min() ).T\n",
    "d2 = pd.DataFrame( num_att.max() ).T\n",
    "d3 = pd.DataFrame( num_att.max() - num_att.min() ).T\n",
    "d4 = pd.DataFrame( num_att.mean() ).T\n",
    "d5 = pd.DataFrame( num_att.median() ).T\n",
    "d6 = pd.DataFrame( num_att.std() ).T\n",
    "d7 = pd.DataFrame( num_att.skew() ).T\n",
    "d8 = pd.DataFrame( num_att.kurtosis() ).T\n",
    "\n",
    "desc = pd.concat( [d1, d2, d3, d4, d5, d6, d7, d8] ).T\n",
    "desc.columns = ['min', 'max', 'range', 'mean', 'median', 'std', 'skew', 'kurtosis' ]\n",
    "desc.style.format( \"{:,.2f}\" )"
   ]
  },
  {
   "cell_type": "markdown",
   "id": "24f3bfca",
   "metadata": {
    "heading_collapsed": true,
    "papermill": {
     "duration": 0.168545,
     "end_time": "2022-05-19T17:56:12.351475",
     "exception": false,
     "start_time": "2022-05-19T17:56:12.182930",
     "status": "completed"
    },
    "tags": []
   },
   "source": [
    "# 2.0 Data Filtering"
   ]
  },
  {
   "cell_type": "markdown",
   "id": "a488f040",
   "metadata": {
    "papermill": {
     "duration": 0.082171,
     "end_time": "2022-05-19T17:56:12.593536",
     "exception": false,
     "start_time": "2022-05-19T17:56:12.511365",
     "status": "completed"
    },
    "tags": []
   },
   "source": [
    "## 2.1 Data Inspection"
   ]
  },
  {
   "cell_type": "code",
   "execution_count": 18,
   "id": "5290953c",
   "metadata": {
    "execution": {
     "iopub.execute_input": "2022-05-19T17:56:12.798892Z",
     "iopub.status.busy": "2022-05-19T17:56:12.798253Z",
     "iopub.status.idle": "2022-05-19T17:56:13.087325Z",
     "shell.execute_reply": "2022-05-19T17:56:13.086753Z"
    },
    "papermill": {
     "duration": 0.409521,
     "end_time": "2022-05-19T17:56:13.089262",
     "exception": false,
     "start_time": "2022-05-19T17:56:12.679741",
     "status": "completed"
    },
    "tags": []
   },
   "outputs": [
    {
     "data": {
      "text/plain": [
       "29561"
      ]
     },
     "execution_count": 18,
     "metadata": {},
     "output_type": "execute_result"
    }
   ],
   "source": [
    "df2 = df1.copy()\n",
    "\n",
    "del df1\n",
    "gc.collect()"
   ]
  },
  {
   "cell_type": "markdown",
   "id": "12c4ca7d",
   "metadata": {
    "papermill": {
     "duration": 0.082527,
     "end_time": "2022-05-19T17:56:13.254321",
     "exception": false,
     "start_time": "2022-05-19T17:56:13.171794",
     "status": "completed"
    },
    "tags": []
   },
   "source": [
    "### Stock Code"
   ]
  },
  {
   "cell_type": "code",
   "execution_count": 19,
   "id": "ad38b02c",
   "metadata": {
    "execution": {
     "iopub.execute_input": "2022-05-19T17:56:13.419670Z",
     "iopub.status.busy": "2022-05-19T17:56:13.419052Z",
     "iopub.status.idle": "2022-05-19T17:56:14.288542Z",
     "shell.execute_reply": "2022-05-19T17:56:14.287916Z"
    },
    "papermill": {
     "duration": 0.954209,
     "end_time": "2022-05-19T17:56:14.290647",
     "exception": false,
     "start_time": "2022-05-19T17:56:13.336438",
     "status": "completed"
    },
    "tags": []
   },
   "outputs": [
    {
     "data": {
      "text/html": [
       "<div>\n",
       "<style scoped>\n",
       "    .dataframe tbody tr th:only-of-type {\n",
       "        vertical-align: middle;\n",
       "    }\n",
       "\n",
       "    .dataframe tbody tr th {\n",
       "        vertical-align: top;\n",
       "    }\n",
       "\n",
       "    .dataframe thead th {\n",
       "        text-align: right;\n",
       "    }\n",
       "</style>\n",
       "<table border=\"1\" class=\"dataframe\">\n",
       "  <thead>\n",
       "    <tr style=\"text-align: right;\">\n",
       "      <th></th>\n",
       "      <th>invoice_no</th>\n",
       "      <th>stock_code</th>\n",
       "      <th>description</th>\n",
       "      <th>quantity</th>\n",
       "      <th>invoice_date</th>\n",
       "      <th>unit_price</th>\n",
       "      <th>customer_id</th>\n",
       "      <th>country</th>\n",
       "    </tr>\n",
       "  </thead>\n",
       "  <tbody>\n",
       "    <tr>\n",
       "      <th>45</th>\n",
       "      <td>536370</td>\n",
       "      <td>POST</td>\n",
       "      <td>POSTAGE</td>\n",
       "      <td>3</td>\n",
       "      <td>2016-11-29</td>\n",
       "      <td>18.00</td>\n",
       "      <td>12583</td>\n",
       "      <td>France</td>\n",
       "    </tr>\n",
       "    <tr>\n",
       "      <th>141</th>\n",
       "      <td>C536379</td>\n",
       "      <td>D</td>\n",
       "      <td>Discount</td>\n",
       "      <td>-1</td>\n",
       "      <td>2016-11-29</td>\n",
       "      <td>27.50</td>\n",
       "      <td>14527</td>\n",
       "      <td>United Kingdom</td>\n",
       "    </tr>\n",
       "    <tr>\n",
       "      <th>386</th>\n",
       "      <td>536403</td>\n",
       "      <td>POST</td>\n",
       "      <td>POSTAGE</td>\n",
       "      <td>1</td>\n",
       "      <td>2016-11-29</td>\n",
       "      <td>15.00</td>\n",
       "      <td>12791</td>\n",
       "      <td>Netherlands</td>\n",
       "    </tr>\n",
       "    <tr>\n",
       "      <th>1123</th>\n",
       "      <td>536527</td>\n",
       "      <td>POST</td>\n",
       "      <td>POSTAGE</td>\n",
       "      <td>1</td>\n",
       "      <td>2016-11-29</td>\n",
       "      <td>18.00</td>\n",
       "      <td>12662</td>\n",
       "      <td>Germany</td>\n",
       "    </tr>\n",
       "    <tr>\n",
       "      <th>2239</th>\n",
       "      <td>536569</td>\n",
       "      <td>M</td>\n",
       "      <td>Manual</td>\n",
       "      <td>1</td>\n",
       "      <td>2016-11-29</td>\n",
       "      <td>1.25</td>\n",
       "      <td>16274</td>\n",
       "      <td>United Kingdom</td>\n",
       "    </tr>\n",
       "    <tr>\n",
       "      <th>2250</th>\n",
       "      <td>536569</td>\n",
       "      <td>M</td>\n",
       "      <td>Manual</td>\n",
       "      <td>1</td>\n",
       "      <td>2016-11-29</td>\n",
       "      <td>18.95</td>\n",
       "      <td>16274</td>\n",
       "      <td>United Kingdom</td>\n",
       "    </tr>\n",
       "    <tr>\n",
       "      <th>4406</th>\n",
       "      <td>536779</td>\n",
       "      <td>BANK CHARGES</td>\n",
       "      <td>Bank Charges</td>\n",
       "      <td>1</td>\n",
       "      <td>2016-11-30</td>\n",
       "      <td>15.00</td>\n",
       "      <td>15823</td>\n",
       "      <td>United Kingdom</td>\n",
       "    </tr>\n",
       "    <tr>\n",
       "      <th>5073</th>\n",
       "      <td>536840</td>\n",
       "      <td>POST</td>\n",
       "      <td>POSTAGE</td>\n",
       "      <td>1</td>\n",
       "      <td>2016-11-30</td>\n",
       "      <td>18.00</td>\n",
       "      <td>12738</td>\n",
       "      <td>Germany</td>\n",
       "    </tr>\n",
       "    <tr>\n",
       "      <th>5258</th>\n",
       "      <td>536852</td>\n",
       "      <td>POST</td>\n",
       "      <td>POSTAGE</td>\n",
       "      <td>1</td>\n",
       "      <td>2016-12-01</td>\n",
       "      <td>18.00</td>\n",
       "      <td>12686</td>\n",
       "      <td>France</td>\n",
       "    </tr>\n",
       "    <tr>\n",
       "      <th>5325</th>\n",
       "      <td>536858</td>\n",
       "      <td>POST</td>\n",
       "      <td>POSTAGE</td>\n",
       "      <td>2</td>\n",
       "      <td>2016-12-01</td>\n",
       "      <td>40.00</td>\n",
       "      <td>13520</td>\n",
       "      <td>Switzerland</td>\n",
       "    </tr>\n",
       "  </tbody>\n",
       "</table>\n",
       "</div>"
      ],
      "text/plain": [
       "     invoice_no    stock_code   description  quantity invoice_date  unit_price  customer_id         country\n",
       "45       536370          POST       POSTAGE         3   2016-11-29       18.00        12583          France\n",
       "141     C536379             D      Discount        -1   2016-11-29       27.50        14527  United Kingdom\n",
       "386      536403          POST       POSTAGE         1   2016-11-29       15.00        12791     Netherlands\n",
       "1123     536527          POST       POSTAGE         1   2016-11-29       18.00        12662         Germany\n",
       "2239     536569             M        Manual         1   2016-11-29        1.25        16274  United Kingdom\n",
       "2250     536569             M        Manual         1   2016-11-29       18.95        16274  United Kingdom\n",
       "4406     536779  BANK CHARGES  Bank Charges         1   2016-11-30       15.00        15823  United Kingdom\n",
       "5073     536840          POST       POSTAGE         1   2016-11-30       18.00        12738         Germany\n",
       "5258     536852          POST       POSTAGE         1   2016-12-01       18.00        12686          France\n",
       "5325     536858          POST       POSTAGE         2   2016-12-01       40.00        13520     Switzerland"
      ]
     },
     "execution_count": 19,
     "metadata": {},
     "output_type": "execute_result"
    }
   ],
   "source": [
    "# selecting rows with only non digits\n",
    "df_stock = df2.loc[df2['stock_code'].apply( lambda x: bool(re.search('^[\\D]+$', x)) )]\n",
    "df_stock.head(10)"
   ]
  },
  {
   "cell_type": "code",
   "execution_count": 20,
   "id": "8cfa1988",
   "metadata": {
    "execution": {
     "iopub.execute_input": "2022-05-19T17:56:14.506514Z",
     "iopub.status.busy": "2022-05-19T17:56:14.505881Z",
     "iopub.status.idle": "2022-05-19T17:56:14.516005Z",
     "shell.execute_reply": "2022-05-19T17:56:14.515462Z"
    },
    "papermill": {
     "duration": 0.09736,
     "end_time": "2022-05-19T17:56:14.518122",
     "exception": false,
     "start_time": "2022-05-19T17:56:14.420762",
     "status": "completed"
    },
    "tags": []
   },
   "outputs": [
    {
     "data": {
      "text/plain": [
       "POST            1196\n",
       "M                465\n",
       "D                 77\n",
       "DOT               16\n",
       "CRUK              16\n",
       "BANK CHARGES      12\n",
       "PADS               4\n",
       "Name: stock_code, dtype: int64"
      ]
     },
     "execution_count": 20,
     "metadata": {},
     "output_type": "execute_result"
    }
   ],
   "source": [
    "# values to remove\n",
    "drop_stock = df_stock['stock_code'].unique().tolist()\n",
    "\n",
    "df_stock['stock_code'].value_counts()"
   ]
  },
  {
   "cell_type": "markdown",
   "id": "5bd2d841",
   "metadata": {
    "papermill": {
     "duration": 0.085019,
     "end_time": "2022-05-19T17:56:14.687108",
     "exception": false,
     "start_time": "2022-05-19T17:56:14.602089",
     "status": "completed"
    },
    "tags": []
   },
   "source": [
    "### Country"
   ]
  },
  {
   "cell_type": "code",
   "execution_count": 21,
   "id": "f6a2d6c5",
   "metadata": {
    "execution": {
     "iopub.execute_input": "2022-05-19T17:56:14.856854Z",
     "iopub.status.busy": "2022-05-19T17:56:14.856187Z",
     "iopub.status.idle": "2022-05-19T17:56:14.859550Z",
     "shell.execute_reply": "2022-05-19T17:56:14.858984Z"
    },
    "papermill": {
     "duration": 0.091263,
     "end_time": "2022-05-19T17:56:14.862622",
     "exception": false,
     "start_time": "2022-05-19T17:56:14.771359",
     "status": "completed"
    },
    "tags": []
   },
   "outputs": [],
   "source": [
    "#countries to drop\n",
    "drop_country = ['Unspecified', 'European Community']"
   ]
  },
  {
   "cell_type": "markdown",
   "id": "17aef628",
   "metadata": {
    "papermill": {
     "duration": 0.088934,
     "end_time": "2022-05-19T17:56:15.035956",
     "exception": false,
     "start_time": "2022-05-19T17:56:14.947022",
     "status": "completed"
    },
    "tags": []
   },
   "source": [
    "## 2.2 Data Filtering"
   ]
  },
  {
   "cell_type": "code",
   "execution_count": 22,
   "id": "3cba7f95",
   "metadata": {
    "execution": {
     "iopub.execute_input": "2022-05-19T17:56:15.333657Z",
     "iopub.status.busy": "2022-05-19T17:56:15.333019Z",
     "iopub.status.idle": "2022-05-19T17:56:15.480504Z",
     "shell.execute_reply": "2022-05-19T17:56:15.479875Z"
    },
    "papermill": {
     "duration": 0.327356,
     "end_time": "2022-05-19T17:56:15.482799",
     "exception": false,
     "start_time": "2022-05-19T17:56:15.155443",
     "status": "completed"
    },
    "tags": []
   },
   "outputs": [],
   "source": [
    "# dropping stock code\n",
    "df2 = df2.loc[~ df2['stock_code'].isin(drop_stock)]\n",
    "\n",
    "# dropping countries\n",
    "df2 = df2.loc[~ df2['country'].isin(drop_country)]\n"
   ]
  },
  {
   "cell_type": "markdown",
   "id": "32f9668e",
   "metadata": {
    "papermill": {
     "duration": 0.0899,
     "end_time": "2022-05-19T17:56:15.658576",
     "exception": false,
     "start_time": "2022-05-19T17:56:15.568676",
     "status": "completed"
    },
    "tags": []
   },
   "source": [
    "# 3.0 Feature Engineering"
   ]
  },
  {
   "cell_type": "markdown",
   "id": "d310638d",
   "metadata": {
    "papermill": {
     "duration": 0.201124,
     "end_time": "2022-05-19T17:56:16.013311",
     "exception": false,
     "start_time": "2022-05-19T17:56:15.812187",
     "status": "completed"
    },
    "tags": []
   },
   "source": [
    "Now lets calculate recency, frequency and monetary using only purchases (not considering returns as a interaction)"
   ]
  },
  {
   "cell_type": "code",
   "execution_count": 23,
   "id": "17dcb4f2",
   "metadata": {
    "execution": {
     "iopub.execute_input": "2022-05-19T17:56:16.205022Z",
     "iopub.status.busy": "2022-05-19T17:56:16.204339Z",
     "iopub.status.idle": "2022-05-19T17:56:16.378223Z",
     "shell.execute_reply": "2022-05-19T17:56:16.377657Z"
    },
    "papermill": {
     "duration": 0.26176,
     "end_time": "2022-05-19T17:56:16.380113",
     "exception": false,
     "start_time": "2022-05-19T17:56:16.118353",
     "status": "completed"
    },
    "tags": []
   },
   "outputs": [
    {
     "data": {
      "text/plain": [
       "105"
      ]
     },
     "execution_count": 23,
     "metadata": {},
     "output_type": "execute_result"
    }
   ],
   "source": [
    "# Reading Data\n",
    "df3 = df2.copy()\n",
    "\n",
    "# df3 = pd.read_csv('../data/interim/df2.csv', float_precision='round_trip')\n",
    "# df3['invoice_date'] = pd.to_datetime( df3['invoice_date'] )\n",
    "\n",
    "# separating returns from purchases\n",
    "df_returns = df3.loc[ df3['quantity'] < 0 ]\n",
    "df_purchases = df3.loc[ df3['quantity'] >= 0 ]\n",
    "\n",
    "del df2\n",
    "gc.collect()"
   ]
  },
  {
   "cell_type": "markdown",
   "id": "90a8b791",
   "metadata": {
    "papermill": {
     "duration": 0.176482,
     "end_time": "2022-05-19T17:56:16.672184",
     "exception": false,
     "start_time": "2022-05-19T17:56:16.495702",
     "status": "completed"
    },
    "tags": []
   },
   "source": [
    "### Recency"
   ]
  },
  {
   "cell_type": "code",
   "execution_count": 24,
   "id": "2afd86a0",
   "metadata": {
    "execution": {
     "iopub.execute_input": "2022-05-19T17:56:17.001154Z",
     "iopub.status.busy": "2022-05-19T17:56:17.000471Z",
     "iopub.status.idle": "2022-05-19T17:56:17.024656Z",
     "shell.execute_reply": "2022-05-19T17:56:17.024028Z"
    },
    "papermill": {
     "duration": 0.178425,
     "end_time": "2022-05-19T17:56:17.026851",
     "exception": false,
     "start_time": "2022-05-19T17:56:16.848426",
     "status": "completed"
    },
    "tags": []
   },
   "outputs": [],
   "source": [
    "# days since last purchase (considering first day as day after last invoice)\n",
    "df_recency = df_purchases[['customer_id', 'invoice_date']].copy()\n",
    "df_recency = df_recency.drop_duplicates(subset = 'customer_id', keep = 'last')\n",
    "\n",
    "# using final date as max date + 1\n",
    "df_recency['recency'] =  (pd.to_datetime('2017-12-08') - df_recency['invoice_date']).dt.days\n",
    "df_recency.drop(columns=['invoice_date'], inplace = True)\n"
   ]
  },
  {
   "cell_type": "markdown",
   "id": "6eab34ed",
   "metadata": {
    "papermill": {
     "duration": 0.084279,
     "end_time": "2022-05-19T17:56:17.196238",
     "exception": false,
     "start_time": "2022-05-19T17:56:17.111959",
     "status": "completed"
    },
    "tags": []
   },
   "source": [
    "### Average Days Between Purchases"
   ]
  },
  {
   "cell_type": "code",
   "execution_count": 25,
   "id": "ec27ccf0",
   "metadata": {
    "execution": {
     "iopub.execute_input": "2022-05-19T17:56:17.367653Z",
     "iopub.status.busy": "2022-05-19T17:56:17.367037Z",
     "iopub.status.idle": "2022-05-19T17:56:17.939031Z",
     "shell.execute_reply": "2022-05-19T17:56:17.938428Z"
    },
    "papermill": {
     "duration": 0.659322,
     "end_time": "2022-05-19T17:56:17.941254",
     "exception": false,
     "start_time": "2022-05-19T17:56:17.281932",
     "status": "completed"
    },
    "tags": []
   },
   "outputs": [],
   "source": [
    "df_dates = df_purchases[['customer_id', 'invoice_date']].copy()\n",
    "\n",
    "# creates a column with the dates shifted by 1 to calculate difference betwenn last purchase and previous purchase\n",
    "df_dates = df_dates.drop_duplicates()\n",
    "df_dates['previous_date'] = df_dates.groupby('customer_id')['invoice_date'].shift()\n",
    "\n",
    "# extracts days betwenn last purchase and previous purchase for each pair of dates\n",
    "df_dates['days'] = df_dates.apply(lambda x : (x['invoice_date'] - x['previous_date']).days , axis = 1 )\n",
    "\n",
    "# calculating average of days between purchases\n",
    "df_dates = df_dates[['customer_id', 'days']].groupby('customer_id').mean().reset_index().rename(columns = {'days': 'avg_days_bw_purchases'})\n",
    "\n",
    "df_dates.fillna(value = 0, inplace = True)\n",
    "# df_dates.head()"
   ]
  },
  {
   "cell_type": "code",
   "execution_count": 26,
   "id": "82760a29",
   "metadata": {
    "execution": {
     "iopub.execute_input": "2022-05-19T17:56:18.113004Z",
     "iopub.status.busy": "2022-05-19T17:56:18.112339Z",
     "iopub.status.idle": "2022-05-19T17:56:18.667777Z",
     "shell.execute_reply": "2022-05-19T17:56:18.667175Z"
    },
    "papermill": {
     "duration": 0.643835,
     "end_time": "2022-05-19T17:56:18.670005",
     "exception": false,
     "start_time": "2022-05-19T17:56:18.026170",
     "status": "completed"
    },
    "tags": []
   },
   "outputs": [],
   "source": [
    "df_dates = df_purchases[['customer_id', 'invoice_date']].copy()\n",
    "\n",
    "# creates a column with the dates shifted by 1 to calculate difference betwenn last purchase and previous purchase\n",
    "df_dates = df_dates.drop_duplicates()\n",
    "df_dates['previous_date'] = df_dates.groupby('customer_id')['invoice_date'].shift()\n",
    "\n",
    "# # extracts days betwenn last purchase and previous purchase for each pair of dates\n",
    "df_dates['days'] = df_dates.apply(lambda x : (x['invoice_date'] - x['previous_date']).days , axis = 1 )\n",
    "\n",
    "# # calculating average of days between purchases\n",
    "df_dates = df_dates[['customer_id', 'days']].groupby('customer_id').mean().reset_index().rename(columns = {'days': 'avg_days_bw_purchases'})\n",
    "\n",
    "df_dates.fillna(value = 0, inplace = True)\n",
    "# df_dates.isna().sum()\n",
    "# df_dates[df_dates.customer_id == 12346] #.mean()\n",
    "# df_dates.head()"
   ]
  },
  {
   "cell_type": "markdown",
   "id": "720e6bc5",
   "metadata": {
    "papermill": {
     "duration": 0.086515,
     "end_time": "2022-05-19T17:56:18.842178",
     "exception": false,
     "start_time": "2022-05-19T17:56:18.755663",
     "status": "completed"
    },
    "tags": []
   },
   "source": [
    "### Frequency"
   ]
  },
  {
   "cell_type": "code",
   "execution_count": 27,
   "id": "92392f8e",
   "metadata": {
    "execution": {
     "iopub.execute_input": "2022-05-19T17:56:19.014101Z",
     "iopub.status.busy": "2022-05-19T17:56:19.013470Z",
     "iopub.status.idle": "2022-05-19T17:56:21.631405Z",
     "shell.execute_reply": "2022-05-19T17:56:21.630796Z"
    },
    "papermill": {
     "duration": 2.705895,
     "end_time": "2022-05-19T17:56:21.633643",
     "exception": false,
     "start_time": "2022-05-19T17:56:18.927748",
     "status": "completed"
    },
    "tags": []
   },
   "outputs": [],
   "source": [
    "# Frequency\n",
    "# nº of purchases a customer did\n",
    "df_freq = df_purchases[['invoice_no', 'customer_id']].drop_duplicates('invoice_no').groupby(['customer_id']).count().reset_index().rename(columns = {'invoice_no' : 'num_purchases'} ) #'invoice_date',  #['num_of_purchases']\n",
    "\n",
    "# difference between firts and last transaction\n",
    "# if nº purchases made = 1: date range =  today - first purchase date\n",
    "# else last purchase - first purchase\n",
    "func = lambda x: (x.max() - x.min() if (x.max() - x.min()).days != 0 else pd.to_datetime('2017-12-08') - x.min() ).days\n",
    "\n",
    "# aggregating things\n",
    "df_date_range = df_purchases[[ 'customer_id', 'invoice_date' ]].groupby('customer_id').agg( func ).reset_index().rename(columns = {'invoice_date' : 'date_range'})\n",
    "\n",
    "df_freq = df_freq.merge(df_date_range, on = 'customer_id', how = 'left')\n",
    "df_freq['frequency'] = df_freq['num_purchases']/df_freq['date_range']\n",
    "\n",
    "# df_freq.head()"
   ]
  },
  {
   "cell_type": "markdown",
   "id": "f5a8216d",
   "metadata": {
    "papermill": {
     "duration": 0.084786,
     "end_time": "2022-05-19T17:56:21.804733",
     "exception": false,
     "start_time": "2022-05-19T17:56:21.719947",
     "status": "completed"
    },
    "tags": []
   },
   "source": [
    "### Revenue"
   ]
  },
  {
   "cell_type": "code",
   "execution_count": 28,
   "id": "924d98b3",
   "metadata": {
    "execution": {
     "iopub.execute_input": "2022-05-19T17:56:21.975974Z",
     "iopub.status.busy": "2022-05-19T17:56:21.975335Z",
     "iopub.status.idle": "2022-05-19T17:56:22.027392Z",
     "shell.execute_reply": "2022-05-19T17:56:22.026787Z"
    },
    "papermill": {
     "duration": 0.144588,
     "end_time": "2022-05-19T17:56:22.033961",
     "exception": false,
     "start_time": "2022-05-19T17:56:21.889373",
     "status": "completed"
    },
    "tags": []
   },
   "outputs": [],
   "source": [
    "# revenue\n",
    "# copying from original dataset so that revenue represents net earnings (purchases - returns)\n",
    "df_revenue = df3[['unit_price','quantity','customer_id']].copy()\n",
    "df_revenue['quantity'] = df_revenue['quantity'].astype(float)\n",
    "df_revenue['customer_spend'] = df_revenue['unit_price']*df_revenue['quantity']\n",
    "\n",
    "# calculating revenue\n",
    "df_revenue = df_revenue[['customer_id', 'customer_spend']].groupby('customer_id').sum().reset_index().rename(columns = {'customer_spend' : 'revenue'})\n",
    "\n",
    "# defining number of purchases\n",
    "df_revenue = df_revenue.merge( df_freq[['customer_id', 'num_purchases']], on = 'customer_id', how = 'left' )\n",
    "\n",
    "# calculating avg ticket\n",
    "df_revenue['avg_ticket'] = df_revenue['revenue']/df_revenue['num_purchases']\n",
    "df_revenue.drop('num_purchases', axis = 1, inplace = True)\n",
    "\n",
    "# # deleting rows that we have data about return and not about purchase (purchase outside time frame of dataset)\n",
    "df_revenue = df_revenue[ df_revenue['revenue'] > 0.1 ].copy()\n",
    "# df_revenue.head()"
   ]
  },
  {
   "cell_type": "markdown",
   "id": "74d46ed8",
   "metadata": {
    "papermill": {
     "duration": 0.085207,
     "end_time": "2022-05-19T17:56:22.211781",
     "exception": false,
     "start_time": "2022-05-19T17:56:22.126574",
     "status": "completed"
    },
    "tags": []
   },
   "source": [
    "### Basket Size"
   ]
  },
  {
   "cell_type": "code",
   "execution_count": 29,
   "id": "a2712fd2",
   "metadata": {
    "execution": {
     "iopub.execute_input": "2022-05-19T17:56:22.384470Z",
     "iopub.status.busy": "2022-05-19T17:56:22.383844Z",
     "iopub.status.idle": "2022-05-19T17:56:22.469982Z",
     "shell.execute_reply": "2022-05-19T17:56:22.469378Z"
    },
    "papermill": {
     "duration": 0.174271,
     "end_time": "2022-05-19T17:56:22.472188",
     "exception": false,
     "start_time": "2022-05-19T17:56:22.297917",
     "status": "completed"
    },
    "tags": []
   },
   "outputs": [],
   "source": [
    "# selecting cols\n",
    "df_basket = df3[['customer_id', 'invoice_no', 'quantity']].copy()\n",
    "\n",
    "# counting items per invoice\n",
    "df_basket = df_basket.groupby(['customer_id', 'invoice_no']).sum().reset_index()\n",
    "\n",
    "# calculating quantity of items purchased + avg basket size (men of quantities)\n",
    "df_basket = df_basket.groupby(['customer_id']).agg( qty_items = ('quantity', 'sum'), avg_basket_size = ('quantity', 'mean') ).reset_index()\n",
    "\n",
    "# renaming\n",
    "df_basket = df_basket.rename( columns = {'quantity' : 'avg_basket_size'})\n",
    "\n",
    "# df_basket.head()"
   ]
  },
  {
   "cell_type": "markdown",
   "id": "16529f06",
   "metadata": {
    "papermill": {
     "duration": 0.085499,
     "end_time": "2022-05-19T17:56:22.644668",
     "exception": false,
     "start_time": "2022-05-19T17:56:22.559169",
     "status": "completed"
    },
    "tags": []
   },
   "source": [
    "### Average Unique Products Purchased Quantity"
   ]
  },
  {
   "cell_type": "code",
   "execution_count": 30,
   "id": "69f91d74",
   "metadata": {
    "execution": {
     "iopub.execute_input": "2022-05-19T17:56:22.817552Z",
     "iopub.status.busy": "2022-05-19T17:56:22.816919Z",
     "iopub.status.idle": "2022-05-19T17:56:23.008410Z",
     "shell.execute_reply": "2022-05-19T17:56:23.007810Z"
    },
    "papermill": {
     "duration": 0.280503,
     "end_time": "2022-05-19T17:56:23.010640",
     "exception": false,
     "start_time": "2022-05-19T17:56:22.730137",
     "status": "completed"
    },
    "tags": []
   },
   "outputs": [],
   "source": [
    "# selecting cols\n",
    "df_unique = df_purchases[['customer_id', 'invoice_no', 'stock_code']].copy()\n",
    "\n",
    "# counting number of different products per invoice\n",
    "df_unique = df_unique.groupby(['customer_id', 'invoice_no']).nunique().reset_index()\n",
    "\n",
    "# calculating mean of items per invoice\n",
    "df_unique = df_unique.groupby(['customer_id']).mean().reset_index()\n",
    "\n",
    "# # renaming\n",
    "df_unique = df_unique.rename( columns = {'stock_code' : 'avg_unique_prods'})\n",
    "\n",
    "# df_unique.head()"
   ]
  },
  {
   "cell_type": "markdown",
   "id": "abeffaea",
   "metadata": {
    "papermill": {
     "duration": 0.084962,
     "end_time": "2022-05-19T17:56:23.180801",
     "exception": false,
     "start_time": "2022-05-19T17:56:23.095839",
     "status": "completed"
    },
    "tags": []
   },
   "source": [
    "### Returns"
   ]
  },
  {
   "cell_type": "code",
   "execution_count": 31,
   "id": "1baa3b1f",
   "metadata": {
    "execution": {
     "iopub.execute_input": "2022-05-19T17:56:23.353550Z",
     "iopub.status.busy": "2022-05-19T17:56:23.352917Z",
     "iopub.status.idle": "2022-05-19T17:56:23.374689Z",
     "shell.execute_reply": "2022-05-19T17:56:23.374101Z"
    },
    "papermill": {
     "duration": 0.110387,
     "end_time": "2022-05-19T17:56:23.376802",
     "exception": false,
     "start_time": "2022-05-19T17:56:23.266415",
     "status": "completed"
    },
    "tags": []
   },
   "outputs": [],
   "source": [
    "# creating returns variables\n",
    "\n",
    "df_returns = df_returns[['quantity', 'invoice_date', 'unit_price', 'customer_id', 'invoice_no']]\n",
    "\n",
    "df_returns['customer_spend'] = df_returns['unit_price']*df_returns['quantity']\n",
    "\n",
    "# sum and mean of revenue\n",
    "df_returns_metrics = df_returns[['customer_id', 'customer_spend', 'quantity']].groupby('customer_id').agg( \n",
    "    returns_revenue = ('customer_spend', 'sum'),\n",
    "    avg_return_revenue = ('customer_spend', 'mean'),\n",
    "    num_returns = ('customer_spend', 'count'),\n",
    "    qty_returned = ('quantity', 'sum')  )\n",
    "\n",
    "df_returns_metrics = pd.DataFrame( df_returns_metrics.to_records() )\n",
    "\n",
    "# df_returns_metrics.head()"
   ]
  },
  {
   "cell_type": "code",
   "execution_count": 32,
   "id": "a360f689",
   "metadata": {
    "execution": {
     "iopub.execute_input": "2022-05-19T17:56:23.615403Z",
     "iopub.status.busy": "2022-05-19T17:56:23.614773Z",
     "iopub.status.idle": "2022-05-19T17:56:23.708253Z",
     "shell.execute_reply": "2022-05-19T17:56:23.707669Z"
    },
    "papermill": {
     "duration": 0.242953,
     "end_time": "2022-05-19T17:56:23.710160",
     "exception": false,
     "start_time": "2022-05-19T17:56:23.467207",
     "status": "completed"
    },
    "tags": []
   },
   "outputs": [
    {
     "data": {
      "text/plain": [
       "(4315, 16)"
      ]
     },
     "execution_count": 32,
     "metadata": {},
     "output_type": "execute_result"
    }
   ],
   "source": [
    "# merging every feature together\n",
    "\n",
    "df_processed = df_purchases[['customer_id', 'country']].drop_duplicates('customer_id').copy()\n",
    "df_processed = pd.merge( df_processed, df_recency, on = 'customer_id', how = 'left' )\n",
    "df_processed = pd.merge( df_processed, df_dates, on = 'customer_id', how = 'left' )\n",
    "df_processed = pd.merge( df_processed, df_freq, on = 'customer_id', how = 'left' )\n",
    "df_processed = pd.merge( df_processed, df_revenue, on = 'customer_id', how = 'inner' )\n",
    "df_processed = pd.merge( df_processed, df_basket, on = 'customer_id', how = 'left' )\n",
    "df_processed = pd.merge( df_processed, df_unique, on = 'customer_id', how = 'left' )\n",
    "df_processed = pd.merge( df_processed, df_returns_metrics, on = 'customer_id', how = 'left' )\n",
    "\n",
    "\n",
    "# filling na as 0 for customers that never returned an item\n",
    "df_processed.fillna(value = 0, inplace = True)\n",
    "\n",
    "# df_processed.dropna( inplace = True)\n",
    "# df_processed.isna().sum()\n",
    "# df_processed.head(10)\n",
    "df_processed.shape"
   ]
  },
  {
   "cell_type": "code",
   "execution_count": 33,
   "id": "ecd233b2",
   "metadata": {
    "execution": {
     "iopub.execute_input": "2022-05-19T17:56:23.950100Z",
     "iopub.status.busy": "2022-05-19T17:56:23.949454Z",
     "iopub.status.idle": "2022-05-19T17:56:23.952640Z",
     "shell.execute_reply": "2022-05-19T17:56:23.952041Z"
    },
    "papermill": {
     "duration": 0.094118,
     "end_time": "2022-05-19T17:56:23.955724",
     "exception": false,
     "start_time": "2022-05-19T17:56:23.861606",
     "status": "completed"
    },
    "tags": []
   },
   "outputs": [],
   "source": [
    "# df_processed.to_csv('../data/processed/df3_processed.csv', index = False)"
   ]
  },
  {
   "cell_type": "markdown",
   "id": "537cedd0",
   "metadata": {
    "heading_collapsed": true,
    "papermill": {
     "duration": 0.0862,
     "end_time": "2022-05-19T17:56:24.127690",
     "exception": false,
     "start_time": "2022-05-19T17:56:24.041490",
     "status": "completed"
    },
    "tags": []
   },
   "source": [
    "# 4.0 Exploratory Data Analysis"
   ]
  },
  {
   "cell_type": "code",
   "execution_count": 34,
   "id": "f9c5c3a4",
   "metadata": {
    "execution": {
     "iopub.execute_input": "2022-05-19T17:56:24.303614Z",
     "iopub.status.busy": "2022-05-19T17:56:24.302982Z",
     "iopub.status.idle": "2022-05-19T17:56:24.440589Z",
     "shell.execute_reply": "2022-05-19T17:56:24.439996Z"
    },
    "papermill": {
     "duration": 0.227707,
     "end_time": "2022-05-19T17:56:24.442478",
     "exception": false,
     "start_time": "2022-05-19T17:56:24.214771",
     "status": "completed"
    },
    "tags": []
   },
   "outputs": [
    {
     "data": {
      "text/plain": [
       "42"
      ]
     },
     "execution_count": 34,
     "metadata": {},
     "output_type": "execute_result"
    }
   ],
   "source": [
    "# Reading filtered data\n",
    "# df4 = pd.read_csv('../data/processed/df3_processed.csv')\n",
    "df4 = df_processed.copy()\n",
    "\n",
    "del df3, df_processed, df_returns, df_purchases \n",
    "gc.collect()"
   ]
  },
  {
   "cell_type": "markdown",
   "id": "c5970692",
   "metadata": {
    "heading_collapsed": true,
    "hidden": true,
    "papermill": {
     "duration": 0.086882,
     "end_time": "2022-05-19T17:56:24.615925",
     "exception": false,
     "start_time": "2022-05-19T17:56:24.529043",
     "status": "completed"
    },
    "tags": []
   },
   "source": [
    "## 4.1 Univariate Analysis"
   ]
  },
  {
   "cell_type": "code",
   "execution_count": 35,
   "id": "a13a6ac0",
   "metadata": {
    "execution": {
     "iopub.execute_input": "2022-05-19T17:56:24.816091Z",
     "iopub.status.busy": "2022-05-19T17:56:24.815471Z",
     "iopub.status.idle": "2022-05-19T17:56:24.823908Z",
     "shell.execute_reply": "2022-05-19T17:56:24.823375Z"
    },
    "papermill": {
     "duration": 0.098331,
     "end_time": "2022-05-19T17:56:24.825810",
     "exception": false,
     "start_time": "2022-05-19T17:56:24.727479",
     "status": "completed"
    },
    "tags": []
   },
   "outputs": [],
   "source": [
    "### Returns\n",
    "\n",
    "df4.sort_values(['returns_revenue'], ascending = True).head()\n",
    "\n",
    "# This is propably an anomaly, error, or some data purposely inserted for unknown reasons\n",
    "# df3[df3.customer_id == 16446]\n",
    "# df3[df3.customer_id == 12346]\n",
    "\n",
    "# These customers indeed appear to have returned high quantities\n",
    "# df3[df3.customer_id == 15749]\n",
    "# df3[df3.customer_id == 16029]\n",
    "# df3[df3.customer_id == 12931]\n",
    "\n",
    "# droping weird behaviour\n",
    "cust_drop = [16446, 12346]\n",
    "df4 = df4[ ~ df4['customer_id'].isin(cust_drop)].copy()"
   ]
  },
  {
   "cell_type": "code",
   "execution_count": 36,
   "id": "d86fadaf",
   "metadata": {
    "execution": {
     "iopub.execute_input": "2022-05-19T17:56:25.000916Z",
     "iopub.status.busy": "2022-05-19T17:56:25.000193Z",
     "iopub.status.idle": "2022-05-19T17:56:25.006022Z",
     "shell.execute_reply": "2022-05-19T17:56:25.005439Z"
    },
    "papermill": {
     "duration": 0.096316,
     "end_time": "2022-05-19T17:56:25.009143",
     "exception": false,
     "start_time": "2022-05-19T17:56:24.912827",
     "status": "completed"
    },
    "tags": []
   },
   "outputs": [
    {
     "data": {
      "text/plain": [
       "(4314, 16)"
      ]
     },
     "execution_count": 36,
     "metadata": {},
     "output_type": "execute_result"
    }
   ],
   "source": [
    "df4.shape"
   ]
  },
  {
   "cell_type": "markdown",
   "id": "4e59247d",
   "metadata": {
    "heading_collapsed": true,
    "papermill": {
     "duration": 0.08689,
     "end_time": "2022-05-19T17:56:25.182874",
     "exception": false,
     "start_time": "2022-05-19T17:56:25.095984",
     "status": "completed"
    },
    "tags": []
   },
   "source": [
    "# 5.0 Data Preparation"
   ]
  },
  {
   "cell_type": "markdown",
   "id": "9673d0a7",
   "metadata": {
    "hidden": true,
    "papermill": {
     "duration": 0.087095,
     "end_time": "2022-05-19T17:56:25.356802",
     "exception": false,
     "start_time": "2022-05-19T17:56:25.269707",
     "status": "completed"
    },
    "tags": []
   },
   "source": [
    "## 5.1 Numerical Variables Preparation"
   ]
  },
  {
   "cell_type": "code",
   "execution_count": 37,
   "id": "a604ecbe",
   "metadata": {
    "execution": {
     "iopub.execute_input": "2022-05-19T17:56:25.533209Z",
     "iopub.status.busy": "2022-05-19T17:56:25.532433Z",
     "iopub.status.idle": "2022-05-19T17:56:25.539958Z",
     "shell.execute_reply": "2022-05-19T17:56:25.539378Z"
    },
    "papermill": {
     "duration": 0.097839,
     "end_time": "2022-05-19T17:56:25.541883",
     "exception": false,
     "start_time": "2022-05-19T17:56:25.444044",
     "status": "completed"
    },
    "tags": []
   },
   "outputs": [
    {
     "data": {
      "text/plain": [
       "(4314, 16)"
      ]
     },
     "execution_count": 37,
     "metadata": {},
     "output_type": "execute_result"
    }
   ],
   "source": [
    "# df5 = pd.read_csv('../data/processed/df4_processed.csv', float_precision = 'round_trip')\n",
    "df5 = df4.copy()\n",
    "df5.shape"
   ]
  },
  {
   "cell_type": "code",
   "execution_count": 38,
   "id": "981d2761",
   "metadata": {
    "execution": {
     "iopub.execute_input": "2022-05-19T17:56:25.723147Z",
     "iopub.status.busy": "2022-05-19T17:56:25.722532Z",
     "iopub.status.idle": "2022-05-19T17:56:25.738714Z",
     "shell.execute_reply": "2022-05-19T17:56:25.738122Z"
    },
    "papermill": {
     "duration": 0.110461,
     "end_time": "2022-05-19T17:56:25.740624",
     "exception": false,
     "start_time": "2022-05-19T17:56:25.630163",
     "status": "completed"
    },
    "tags": []
   },
   "outputs": [
    {
     "name": "stdout",
     "output_type": "stream",
     "text": [
      "<class 'pandas.core.frame.DataFrame'>\n",
      "Int64Index: 4314 entries, 0 to 4314\n",
      "Data columns (total 16 columns):\n",
      " #   Column                 Non-Null Count  Dtype  \n",
      "---  ------                 --------------  -----  \n",
      " 0   customer_id            4314 non-null   int64  \n",
      " 1   country                4314 non-null   object \n",
      " 2   recency                4314 non-null   int64  \n",
      " 3   avg_days_bw_purchases  4314 non-null   float64\n",
      " 4   num_purchases          4314 non-null   int64  \n",
      " 5   date_range             4314 non-null   int64  \n",
      " 6   frequency              4314 non-null   float64\n",
      " 7   revenue                4314 non-null   float64\n",
      " 8   avg_ticket             4314 non-null   float64\n",
      " 9   qty_items              4314 non-null   int64  \n",
      " 10  avg_basket_size        4314 non-null   float64\n",
      " 11  avg_unique_prods       4314 non-null   float64\n",
      " 12  returns_revenue        4314 non-null   float64\n",
      " 13  avg_return_revenue     4314 non-null   float64\n",
      " 14  num_returns            4314 non-null   float64\n",
      " 15  qty_returned           4314 non-null   float64\n",
      "dtypes: float64(10), int64(5), object(1)\n",
      "memory usage: 573.0+ KB\n"
     ]
    }
   ],
   "source": [
    "df5.info()"
   ]
  },
  {
   "cell_type": "code",
   "execution_count": 39,
   "id": "3bd13fea",
   "metadata": {
    "execution": {
     "iopub.execute_input": "2022-05-19T17:56:25.920038Z",
     "iopub.status.busy": "2022-05-19T17:56:25.919403Z",
     "iopub.status.idle": "2022-05-19T17:56:26.045714Z",
     "shell.execute_reply": "2022-05-19T17:56:26.045121Z"
    },
    "papermill": {
     "duration": 0.218042,
     "end_time": "2022-05-19T17:56:26.047683",
     "exception": false,
     "start_time": "2022-05-19T17:56:25.829641",
     "status": "completed"
    },
    "tags": []
   },
   "outputs": [
    {
     "data": {
      "text/plain": [
       "21"
      ]
     },
     "execution_count": 39,
     "metadata": {},
     "output_type": "execute_result"
    }
   ],
   "source": [
    "del df4\n",
    "gc.collect()"
   ]
  },
  {
   "cell_type": "markdown",
   "id": "e93bf4fa",
   "metadata": {
    "hidden": true,
    "papermill": {
     "duration": 0.090656,
     "end_time": "2022-05-19T17:56:26.228365",
     "exception": false,
     "start_time": "2022-05-19T17:56:26.137709",
     "status": "completed"
    },
    "tags": []
   },
   "source": [
    "### 5.1.1 Describing"
   ]
  },
  {
   "cell_type": "code",
   "execution_count": 40,
   "id": "9ee1aeb7",
   "metadata": {
    "execution": {
     "iopub.execute_input": "2022-05-19T17:56:26.408555Z",
     "iopub.status.busy": "2022-05-19T17:56:26.407893Z",
     "iopub.status.idle": "2022-05-19T17:56:26.442047Z",
     "shell.execute_reply": "2022-05-19T17:56:26.441483Z"
    },
    "papermill": {
     "duration": 0.126833,
     "end_time": "2022-05-19T17:56:26.443997",
     "exception": false,
     "start_time": "2022-05-19T17:56:26.317164",
     "status": "completed"
    },
    "tags": []
   },
   "outputs": [
    {
     "data": {
      "text/html": [
       "<style type=\"text/css\">\n",
       "</style>\n",
       "<table id=\"T_24747\">\n",
       "  <thead>\n",
       "    <tr>\n",
       "      <th class=\"blank level0\" >&nbsp;</th>\n",
       "      <th id=\"T_24747_level0_col0\" class=\"col_heading level0 col0\" >min</th>\n",
       "      <th id=\"T_24747_level0_col1\" class=\"col_heading level0 col1\" >max</th>\n",
       "      <th id=\"T_24747_level0_col2\" class=\"col_heading level0 col2\" >range</th>\n",
       "      <th id=\"T_24747_level0_col3\" class=\"col_heading level0 col3\" >mean</th>\n",
       "      <th id=\"T_24747_level0_col4\" class=\"col_heading level0 col4\" >median</th>\n",
       "      <th id=\"T_24747_level0_col5\" class=\"col_heading level0 col5\" >std</th>\n",
       "      <th id=\"T_24747_level0_col6\" class=\"col_heading level0 col6\" >skew</th>\n",
       "      <th id=\"T_24747_level0_col7\" class=\"col_heading level0 col7\" >kurtosis</th>\n",
       "    </tr>\n",
       "  </thead>\n",
       "  <tbody>\n",
       "    <tr>\n",
       "      <th id=\"T_24747_level0_row0\" class=\"row_heading level0 row0\" >customer_id</th>\n",
       "      <td id=\"T_24747_row0_col0\" class=\"data row0 col0\" >12,347.00</td>\n",
       "      <td id=\"T_24747_row0_col1\" class=\"data row0 col1\" >18,287.00</td>\n",
       "      <td id=\"T_24747_row0_col2\" class=\"data row0 col2\" >5,940.00</td>\n",
       "      <td id=\"T_24747_row0_col3\" class=\"data row0 col3\" >15,301.83</td>\n",
       "      <td id=\"T_24747_row0_col4\" class=\"data row0 col4\" >15,300.50</td>\n",
       "      <td id=\"T_24747_row0_col5\" class=\"data row0 col5\" >1,720.16</td>\n",
       "      <td id=\"T_24747_row0_col6\" class=\"data row0 col6\" >0.00</td>\n",
       "      <td id=\"T_24747_row0_col7\" class=\"data row0 col7\" >-1.20</td>\n",
       "    </tr>\n",
       "    <tr>\n",
       "      <th id=\"T_24747_level0_row1\" class=\"row_heading level0 row1\" >recency</th>\n",
       "      <td id=\"T_24747_row1_col0\" class=\"data row1 col0\" >1.00</td>\n",
       "      <td id=\"T_24747_row1_col1\" class=\"data row1 col1\" >374.00</td>\n",
       "      <td id=\"T_24747_row1_col2\" class=\"data row1 col2\" >373.00</td>\n",
       "      <td id=\"T_24747_row1_col3\" class=\"data row1 col3\" >93.05</td>\n",
       "      <td id=\"T_24747_row1_col4\" class=\"data row1 col4\" >51.00</td>\n",
       "      <td id=\"T_24747_row1_col5\" class=\"data row1 col5\" >100.17</td>\n",
       "      <td id=\"T_24747_row1_col6\" class=\"data row1 col6\" >1.25</td>\n",
       "      <td id=\"T_24747_row1_col7\" class=\"data row1 col7\" >0.43</td>\n",
       "    </tr>\n",
       "    <tr>\n",
       "      <th id=\"T_24747_level0_row2\" class=\"row_heading level0 row2\" >avg_days_bw_purchases</th>\n",
       "      <td id=\"T_24747_row2_col0\" class=\"data row2 col0\" >0.00</td>\n",
       "      <td id=\"T_24747_row2_col1\" class=\"data row2 col1\" >366.00</td>\n",
       "      <td id=\"T_24747_row2_col2\" class=\"data row2 col2\" >366.00</td>\n",
       "      <td id=\"T_24747_row2_col3\" class=\"data row2 col3\" >50.57</td>\n",
       "      <td id=\"T_24747_row2_col4\" class=\"data row2 col4\" >31.09</td>\n",
       "      <td id=\"T_24747_row2_col5\" class=\"data row2 col5\" >65.32</td>\n",
       "      <td id=\"T_24747_row2_col6\" class=\"data row2 col6\" >1.99</td>\n",
       "      <td id=\"T_24747_row2_col7\" class=\"data row2 col7\" >4.65</td>\n",
       "    </tr>\n",
       "    <tr>\n",
       "      <th id=\"T_24747_level0_row3\" class=\"row_heading level0 row3\" >num_purchases</th>\n",
       "      <td id=\"T_24747_row3_col0\" class=\"data row3 col0\" >1.00</td>\n",
       "      <td id=\"T_24747_row3_col1\" class=\"data row3 col1\" >206.00</td>\n",
       "      <td id=\"T_24747_row3_col2\" class=\"data row3 col2\" >205.00</td>\n",
       "      <td id=\"T_24747_row3_col3\" class=\"data row3 col3\" >4.26</td>\n",
       "      <td id=\"T_24747_row3_col4\" class=\"data row3 col4\" >2.00</td>\n",
       "      <td id=\"T_24747_row3_col5\" class=\"data row3 col5\" >7.66</td>\n",
       "      <td id=\"T_24747_row3_col6\" class=\"data row3 col6\" >11.95</td>\n",
       "      <td id=\"T_24747_row3_col7\" class=\"data row3 col7\" >244.12</td>\n",
       "    </tr>\n",
       "    <tr>\n",
       "      <th id=\"T_24747_level0_row4\" class=\"row_heading level0 row4\" >date_range</th>\n",
       "      <td id=\"T_24747_row4_col0\" class=\"data row4 col0\" >1.00</td>\n",
       "      <td id=\"T_24747_row4_col1\" class=\"data row4 col1\" >374.00</td>\n",
       "      <td id=\"T_24747_row4_col2\" class=\"data row4 col2\" >373.00</td>\n",
       "      <td id=\"T_24747_row4_col3\" class=\"data row4 col3\" >187.22</td>\n",
       "      <td id=\"T_24747_row4_col4\" class=\"data row4 col4\" >191.00</td>\n",
       "      <td id=\"T_24747_row4_col5\" class=\"data row4 col5\" >115.01</td>\n",
       "      <td id=\"T_24747_row4_col6\" class=\"data row4 col6\" >0.01</td>\n",
       "      <td id=\"T_24747_row4_col7\" class=\"data row4 col7\" >-1.33</td>\n",
       "    </tr>\n",
       "    <tr>\n",
       "      <th id=\"T_24747_level0_row5\" class=\"row_heading level0 row5\" >frequency</th>\n",
       "      <td id=\"T_24747_row5_col0\" class=\"data row5 col0\" >0.00</td>\n",
       "      <td id=\"T_24747_row5_col1\" class=\"data row5 col1\" >34.00</td>\n",
       "      <td id=\"T_24747_row5_col2\" class=\"data row5 col2\" >34.00</td>\n",
       "      <td id=\"T_24747_row5_col3\" class=\"data row5 col3\" >0.05</td>\n",
       "      <td id=\"T_24747_row5_col4\" class=\"data row5 col4\" >0.02</td>\n",
       "      <td id=\"T_24747_row5_col5\" class=\"data row5 col5\" >0.54</td>\n",
       "      <td id=\"T_24747_row5_col6\" class=\"data row5 col6\" >58.77</td>\n",
       "      <td id=\"T_24747_row5_col7\" class=\"data row5 col7\" >3,681.78</td>\n",
       "    </tr>\n",
       "    <tr>\n",
       "      <th id=\"T_24747_level0_row6\" class=\"row_heading level0 row6\" >revenue</th>\n",
       "      <td id=\"T_24747_row6_col0\" class=\"data row6 col0\" >3.75</td>\n",
       "      <td id=\"T_24747_row6_col1\" class=\"data row6 col1\" >278,778.02</td>\n",
       "      <td id=\"T_24747_row6_col2\" class=\"data row6 col2\" >278,774.27</td>\n",
       "      <td id=\"T_24747_row6_col3\" class=\"data row6 col3\" >1,922.49</td>\n",
       "      <td id=\"T_24747_row6_col4\" class=\"data row6 col4\" >655.34</td>\n",
       "      <td id=\"T_24747_row6_col5\" class=\"data row6 col5\" >8,326.44</td>\n",
       "      <td id=\"T_24747_row6_col6\" class=\"data row6 col6\" >21.49</td>\n",
       "      <td id=\"T_24747_row6_col7\" class=\"data row6 col7\" >594.95</td>\n",
       "    </tr>\n",
       "    <tr>\n",
       "      <th id=\"T_24747_level0_row7\" class=\"row_heading level0 row7\" >avg_ticket</th>\n",
       "      <td id=\"T_24747_row7_col0\" class=\"data row7 col0\" >3.75</td>\n",
       "      <td id=\"T_24747_row7_col1\" class=\"data row7 col1\" >13,206.50</td>\n",
       "      <td id=\"T_24747_row7_col2\" class=\"data row7 col2\" >13,202.75</td>\n",
       "      <td id=\"T_24747_row7_col3\" class=\"data row7 col3\" >371.22</td>\n",
       "      <td id=\"T_24747_row7_col4\" class=\"data row7 col4\" >283.27</td>\n",
       "      <td id=\"T_24747_row7_col5\" class=\"data row7 col5\" >465.09</td>\n",
       "      <td id=\"T_24747_row7_col6\" class=\"data row7 col6\" >10.65</td>\n",
       "      <td id=\"T_24747_row7_col7\" class=\"data row7 col7\" >202.58</td>\n",
       "    </tr>\n",
       "    <tr>\n",
       "      <th id=\"T_24747_level0_row8\" class=\"row_heading level0 row8\" >qty_items</th>\n",
       "      <td id=\"T_24747_row8_col0\" class=\"data row8 col0\" >1.00</td>\n",
       "      <td id=\"T_24747_row8_col1\" class=\"data row8 col1\" >197,132.00</td>\n",
       "      <td id=\"T_24747_row8_col2\" class=\"data row8 col2\" >197,131.00</td>\n",
       "      <td id=\"T_24747_row8_col3\" class=\"data row8 col3\" >1,133.25</td>\n",
       "      <td id=\"T_24747_row8_col4\" class=\"data row8 col4\" >373.50</td>\n",
       "      <td id=\"T_24747_row8_col5\" class=\"data row8 col5\" >4,701.25</td>\n",
       "      <td id=\"T_24747_row8_col6\" class=\"data row8 col6\" >22.96</td>\n",
       "      <td id=\"T_24747_row8_col7\" class=\"data row8 col7\" >778.32</td>\n",
       "    </tr>\n",
       "    <tr>\n",
       "      <th id=\"T_24747_level0_row9\" class=\"row_heading level0 row9\" >avg_basket_size</th>\n",
       "      <td id=\"T_24747_row9_col0\" class=\"data row9 col0\" >0.25</td>\n",
       "      <td id=\"T_24747_row9_col1\" class=\"data row9 col1\" >7,824.00</td>\n",
       "      <td id=\"T_24747_row9_col2\" class=\"data row9 col2\" >7,823.75</td>\n",
       "      <td id=\"T_24747_row9_col3\" class=\"data row9 col3\" >200.17</td>\n",
       "      <td id=\"T_24747_row9_col4\" class=\"data row9 col4\" >140.00</td>\n",
       "      <td id=\"T_24747_row9_col5\" class=\"data row9 col5\" >269.91</td>\n",
       "      <td id=\"T_24747_row9_col6\" class=\"data row9 col6\" >10.01</td>\n",
       "      <td id=\"T_24747_row9_col7\" class=\"data row9 col7\" >193.40</td>\n",
       "    </tr>\n",
       "    <tr>\n",
       "      <th id=\"T_24747_level0_row10\" class=\"row_heading level0 row10\" >avg_unique_prods</th>\n",
       "      <td id=\"T_24747_row10_col0\" class=\"data row10 col0\" >1.00</td>\n",
       "      <td id=\"T_24747_row10_col1\" class=\"data row10 col1\" >297.88</td>\n",
       "      <td id=\"T_24747_row10_col2\" class=\"data row10 col2\" >296.88</td>\n",
       "      <td id=\"T_24747_row10_col3\" class=\"data row10 col3\" >21.65</td>\n",
       "      <td id=\"T_24747_row10_col4\" class=\"data row10 col4\" >17.00</td>\n",
       "      <td id=\"T_24747_row10_col5\" class=\"data row10 col5\" >19.44</td>\n",
       "      <td id=\"T_24747_row10_col6\" class=\"data row10 col6\" >3.30</td>\n",
       "      <td id=\"T_24747_row10_col7\" class=\"data row10 col7\" >23.97</td>\n",
       "    </tr>\n",
       "    <tr>\n",
       "      <th id=\"T_24747_level0_row11\" class=\"row_heading level0 row11\" >returns_revenue</th>\n",
       "      <td id=\"T_24747_row11_col0\" class=\"data row11 col0\" >-22,998.40</td>\n",
       "      <td id=\"T_24747_row11_col1\" class=\"data row11 col1\" >0.00</td>\n",
       "      <td id=\"T_24747_row11_col2\" class=\"data row11 col2\" >22,998.40</td>\n",
       "      <td id=\"T_24747_row11_col3\" class=\"data row11 col3\" >-50.24</td>\n",
       "      <td id=\"T_24747_row11_col4\" class=\"data row11 col4\" >0.00</td>\n",
       "      <td id=\"T_24747_row11_col5\" class=\"data row11 col5\" >499.54</td>\n",
       "      <td id=\"T_24747_row11_col6\" class=\"data row11 col6\" >-31.50</td>\n",
       "      <td id=\"T_24747_row11_col7\" class=\"data row11 col7\" >1,243.45</td>\n",
       "    </tr>\n",
       "    <tr>\n",
       "      <th id=\"T_24747_level0_row12\" class=\"row_heading level0 row12\" >avg_return_revenue</th>\n",
       "      <td id=\"T_24747_row12_col0\" class=\"data row12 col0\" >-4,599.68</td>\n",
       "      <td id=\"T_24747_row12_col1\" class=\"data row12 col1\" >0.00</td>\n",
       "      <td id=\"T_24747_row12_col2\" class=\"data row12 col2\" >4,599.68</td>\n",
       "      <td id=\"T_24747_row12_col3\" class=\"data row12 col3\" >-9.75</td>\n",
       "      <td id=\"T_24747_row12_col4\" class=\"data row12 col4\" >0.00</td>\n",
       "      <td id=\"T_24747_row12_col5\" class=\"data row12 col5\" >85.60</td>\n",
       "      <td id=\"T_24747_row12_col6\" class=\"data row12 col6\" >-39.64</td>\n",
       "      <td id=\"T_24747_row12_col7\" class=\"data row12 col7\" >1,977.74</td>\n",
       "    </tr>\n",
       "    <tr>\n",
       "      <th id=\"T_24747_level0_row13\" class=\"row_heading level0 row13\" >num_returns</th>\n",
       "      <td id=\"T_24747_row13_col0\" class=\"data row13 col0\" >0.00</td>\n",
       "      <td id=\"T_24747_row13_col1\" class=\"data row13 col1\" >223.00</td>\n",
       "      <td id=\"T_24747_row13_col2\" class=\"data row13 col2\" >223.00</td>\n",
       "      <td id=\"T_24747_row13_col3\" class=\"data row13 col3\" >1.91</td>\n",
       "      <td id=\"T_24747_row13_col4\" class=\"data row13 col4\" >0.00</td>\n",
       "      <td id=\"T_24747_row13_col5\" class=\"data row13 col5\" >7.06</td>\n",
       "      <td id=\"T_24747_row13_col6\" class=\"data row13 col6\" >13.62</td>\n",
       "      <td id=\"T_24747_row13_col7\" class=\"data row13 col7\" >303.42</td>\n",
       "    </tr>\n",
       "    <tr>\n",
       "      <th id=\"T_24747_level0_row14\" class=\"row_heading level0 row14\" >qty_returned</th>\n",
       "      <td id=\"T_24747_row14_col0\" class=\"data row14 col0\" >-9,360.00</td>\n",
       "      <td id=\"T_24747_row14_col1\" class=\"data row14 col1\" >0.00</td>\n",
       "      <td id=\"T_24747_row14_col2\" class=\"data row14 col2\" >9,360.00</td>\n",
       "      <td id=\"T_24747_row14_col3\" class=\"data row14 col3\" >-25.14</td>\n",
       "      <td id=\"T_24747_row14_col4\" class=\"data row14 col4\" >0.00</td>\n",
       "      <td id=\"T_24747_row14_col5\" class=\"data row14 col5\" >273.30</td>\n",
       "      <td id=\"T_24747_row14_col6\" class=\"data row14 col6\" >-26.04</td>\n",
       "      <td id=\"T_24747_row14_col7\" class=\"data row14 col7\" >787.94</td>\n",
       "    </tr>\n",
       "  </tbody>\n",
       "</table>\n"
      ],
      "text/plain": [
       "<pandas.io.formats.style.Styler at 0x7f84b9d87b20>"
      ]
     },
     "execution_count": 40,
     "metadata": {},
     "output_type": "execute_result"
    }
   ],
   "source": [
    "# df3.hist();\n",
    "num_att = df5.select_dtypes(include= ['int','float'])\n",
    "d1 = pd.DataFrame( num_att.min() ).T\n",
    "d2 = pd.DataFrame( num_att.max() ).T\n",
    "d3 = pd.DataFrame( num_att.max() - num_att.min() ).T\n",
    "d4 = pd.DataFrame( num_att.mean() ).T\n",
    "d5 = pd.DataFrame( num_att.median() ).T\n",
    "d6 = pd.DataFrame( num_att.std() ).T\n",
    "d7 = pd.DataFrame( num_att.skew() ).T\n",
    "d8 = pd.DataFrame( num_att.kurtosis() ).T\n",
    "\n",
    "desc = pd.concat( [d1, d2, d3, d4, d5, d6, d7, d8] ).T\n",
    "desc.columns = ['min', 'max', 'range', 'mean', 'median', 'std', 'skew', 'kurtosis' ]\n",
    "desc.style.format( \"{:,.2f}\" )"
   ]
  },
  {
   "cell_type": "markdown",
   "id": "6e4c08ed",
   "metadata": {
    "heading_collapsed": true,
    "papermill": {
     "duration": 0.225437,
     "end_time": "2022-05-19T17:56:26.817118",
     "exception": false,
     "start_time": "2022-05-19T17:56:26.591681",
     "status": "completed"
    },
    "tags": []
   },
   "source": [
    "# 6.0 Feature Selection"
   ]
  },
  {
   "cell_type": "markdown",
   "id": "5ed717ad",
   "metadata": {
    "papermill": {
     "duration": 0.09225,
     "end_time": "2022-05-19T17:56:27.091468",
     "exception": false,
     "start_time": "2022-05-19T17:56:26.999218",
     "status": "completed"
    },
    "tags": []
   },
   "source": [
    "## 6.3 Selected Embedding Space"
   ]
  },
  {
   "cell_type": "code",
   "execution_count": 41,
   "id": "4e77d22f",
   "metadata": {
    "execution": {
     "iopub.execute_input": "2022-05-19T17:56:27.273453Z",
     "iopub.status.busy": "2022-05-19T17:56:27.272823Z",
     "iopub.status.idle": "2022-05-19T17:57:02.380964Z",
     "shell.execute_reply": "2022-05-19T17:57:02.380680Z"
    },
    "papermill": {
     "duration": 35.348951,
     "end_time": "2022-05-19T17:57:02.530867",
     "exception": false,
     "start_time": "2022-05-19T17:56:27.181916",
     "status": "completed"
    },
    "tags": []
   },
   "outputs": [
    {
     "data": {
      "image/png": "[encoded data removed]",
      "text/plain": [
       "<Figure size 1800x864 with 1 Axes>"
      ]
     },
     "metadata": {},
     "output_type": "display_data"
    }
   ],
   "source": [
    "# selecting most important features. Removing ('avg_basket_size', 'avg_days_bw_purchases', 'avg_return_revenue', 'date_range)\n",
    "cols_selected = ['qty_items','avg_ticket','num_returns','returns_revenue','avg_unique_prods','qty_returned','num_purchases','recency','frequency']\n",
    "\n",
    "# defining independent and dependent variable\n",
    "X = df5[cols_selected].copy()\n",
    "y = df5['revenue']\n",
    "\n",
    "# defining random forest regresor for embedding\n",
    "rf = RandomForestRegressor(random_state = 42, min_samples_split = 20) \n",
    "rf.fit(X, y)\n",
    "\n",
    "# get leafs for each observation\n",
    "df_leaf = pd.DataFrame( rf.apply(X) )\n",
    "\n",
    "# defining umap algorithm\n",
    "n_neighbors = 50\n",
    "umap = UMAP(n_neighbors = n_neighbors, random_state = 42, metric = 'manhattan')  \n",
    "res_umap = umap.fit_transform(df_leaf)\n",
    "metric = umap.metric\n",
    "\n",
    "# storing embedding results on a dataframe\n",
    "df_tree = df5.copy()\n",
    "# df_tree = pd.DataFrame()\n",
    "df_tree['embedding_x'] =  res_umap[:,0]\n",
    "df_tree['embedding_y'] =  res_umap[:,1]\n",
    "\n",
    "# ploting results\n",
    "cmap = sns.color_palette('RdBu_r', as_cmap = True)\n",
    "plt.title('UMAP - Neighbors = {} - Distance = {}'.format(n_neighbors, metric) )\n",
    "sns.scatterplot( data = df_tree, x = 'embedding_x', y = 'embedding_y', hue = 'revenue', palette = cmap);"
   ]
  },
  {
   "cell_type": "code",
   "execution_count": 42,
   "id": "747f93c9",
   "metadata": {
    "execution": {
     "iopub.execute_input": "2022-05-19T17:57:02.721441Z",
     "iopub.status.busy": "2022-05-19T17:57:02.720739Z",
     "iopub.status.idle": "2022-05-19T17:57:02.730002Z",
     "shell.execute_reply": "2022-05-19T17:57:02.729448Z"
    },
    "papermill": {
     "duration": 0.10664,
     "end_time": "2022-05-19T17:57:02.731955",
     "exception": false,
     "start_time": "2022-05-19T17:57:02.625315",
     "status": "completed"
    },
    "tags": []
   },
   "outputs": [
    {
     "data": {
      "text/plain": [
       "qty_items             int64\n",
       "avg_ticket          float64\n",
       "num_returns         float64\n",
       "returns_revenue     float64\n",
       "avg_unique_prods    float64\n",
       "qty_returned        float64\n",
       "num_purchases         int64\n",
       "recency               int64\n",
       "frequency           float64\n",
       "dtype: object"
      ]
     },
     "execution_count": 42,
     "metadata": {},
     "output_type": "execute_result"
    }
   ],
   "source": [
    "X.dtypes"
   ]
  },
  {
   "cell_type": "code",
   "execution_count": 43,
   "id": "e9b1acbe",
   "metadata": {
    "execution": {
     "iopub.execute_input": "2022-05-19T17:57:02.922720Z",
     "iopub.status.busy": "2022-05-19T17:57:02.922021Z",
     "iopub.status.idle": "2022-05-19T17:57:02.940747Z",
     "shell.execute_reply": "2022-05-19T17:57:02.940154Z"
    },
    "papermill": {
     "duration": 0.116715,
     "end_time": "2022-05-19T17:57:02.942656",
     "exception": false,
     "start_time": "2022-05-19T17:57:02.825941",
     "status": "completed"
    },
    "tags": []
   },
   "outputs": [
    {
     "data": {
      "text/html": [
       "<div>\n",
       "<style scoped>\n",
       "    .dataframe tbody tr th:only-of-type {\n",
       "        vertical-align: middle;\n",
       "    }\n",
       "\n",
       "    .dataframe tbody tr th {\n",
       "        vertical-align: top;\n",
       "    }\n",
       "\n",
       "    .dataframe thead th {\n",
       "        text-align: right;\n",
       "    }\n",
       "</style>\n",
       "<table border=\"1\" class=\"dataframe\">\n",
       "  <thead>\n",
       "    <tr style=\"text-align: right;\">\n",
       "      <th></th>\n",
       "      <th>qty_items</th>\n",
       "      <th>avg_ticket</th>\n",
       "      <th>num_returns</th>\n",
       "      <th>returns_revenue</th>\n",
       "      <th>avg_unique_prods</th>\n",
       "      <th>qty_returned</th>\n",
       "      <th>num_purchases</th>\n",
       "      <th>recency</th>\n",
       "      <th>frequency</th>\n",
       "    </tr>\n",
       "  </thead>\n",
       "  <tbody>\n",
       "    <tr>\n",
       "      <th>0</th>\n",
       "      <td>1693</td>\n",
       "      <td>155.547941</td>\n",
       "      <td>15.0</td>\n",
       "      <td>-102.58</td>\n",
       "      <td>8.735294</td>\n",
       "      <td>-40.0</td>\n",
       "      <td>34</td>\n",
       "      <td>373</td>\n",
       "      <td>34.000000</td>\n",
       "    </tr>\n",
       "    <tr>\n",
       "      <th>1</th>\n",
       "      <td>1355</td>\n",
       "      <td>343.233333</td>\n",
       "      <td>23.0</td>\n",
       "      <td>-143.49</td>\n",
       "      <td>19.000000</td>\n",
       "      <td>-35.0</td>\n",
       "      <td>9</td>\n",
       "      <td>57</td>\n",
       "      <td>0.028391</td>\n",
       "    </tr>\n",
       "    <tr>\n",
       "      <th>2</th>\n",
       "      <td>4978</td>\n",
       "      <td>441.956000</td>\n",
       "      <td>3.0</td>\n",
       "      <td>-76.04</td>\n",
       "      <td>15.466667</td>\n",
       "      <td>-50.0</td>\n",
       "      <td>15</td>\n",
       "      <td>3</td>\n",
       "      <td>0.040431</td>\n",
       "    </tr>\n",
       "    <tr>\n",
       "      <th>3</th>\n",
       "      <td>439</td>\n",
       "      <td>189.650000</td>\n",
       "      <td>0.0</td>\n",
       "      <td>0.00</td>\n",
       "      <td>5.600000</td>\n",
       "      <td>0.0</td>\n",
       "      <td>5</td>\n",
       "      <td>96</td>\n",
       "      <td>0.017986</td>\n",
       "    </tr>\n",
       "    <tr>\n",
       "      <th>4</th>\n",
       "      <td>58</td>\n",
       "      <td>211.700000</td>\n",
       "      <td>3.0</td>\n",
       "      <td>-240.90</td>\n",
       "      <td>1.000000</td>\n",
       "      <td>-22.0</td>\n",
       "      <td>3</td>\n",
       "      <td>334</td>\n",
       "      <td>0.075000</td>\n",
       "    </tr>\n",
       "    <tr>\n",
       "      <th>5</th>\n",
       "      <td>2073</td>\n",
       "      <td>325.107857</td>\n",
       "      <td>6.0</td>\n",
       "      <td>-71.79</td>\n",
       "      <td>7.285714</td>\n",
       "      <td>-29.0</td>\n",
       "      <td>14</td>\n",
       "      <td>26</td>\n",
       "      <td>0.040230</td>\n",
       "    </tr>\n",
       "    <tr>\n",
       "      <th>6</th>\n",
       "      <td>3222</td>\n",
       "      <td>243.208571</td>\n",
       "      <td>32.0</td>\n",
       "      <td>-523.49</td>\n",
       "      <td>15.285714</td>\n",
       "      <td>-399.0</td>\n",
       "      <td>21</td>\n",
       "      <td>8</td>\n",
       "      <td>0.057377</td>\n",
       "    </tr>\n",
       "    <tr>\n",
       "      <th>7</th>\n",
       "      <td>2016</td>\n",
       "      <td>445.404167</td>\n",
       "      <td>2.0</td>\n",
       "      <td>-67.06</td>\n",
       "      <td>5.083333</td>\n",
       "      <td>-41.0</td>\n",
       "      <td>12</td>\n",
       "      <td>17</td>\n",
       "      <td>0.033613</td>\n",
       "    </tr>\n",
       "    <tr>\n",
       "      <th>8</th>\n",
       "      <td>37720</td>\n",
       "      <td>652.959780</td>\n",
       "      <td>112.0</td>\n",
       "      <td>-1348.56</td>\n",
       "      <td>25.901099</td>\n",
       "      <td>-474.0</td>\n",
       "      <td>91</td>\n",
       "      <td>1</td>\n",
       "      <td>0.243968</td>\n",
       "    </tr>\n",
       "    <tr>\n",
       "      <th>9</th>\n",
       "      <td>613</td>\n",
       "      <td>286.518571</td>\n",
       "      <td>0.0</td>\n",
       "      <td>0.00</td>\n",
       "      <td>9.428571</td>\n",
       "      <td>0.0</td>\n",
       "      <td>7</td>\n",
       "      <td>88</td>\n",
       "      <td>0.024476</td>\n",
       "    </tr>\n",
       "  </tbody>\n",
       "</table>\n",
       "</div>"
      ],
      "text/plain": [
       "   qty_items  avg_ticket  num_returns  returns_revenue  avg_unique_prods  qty_returned  num_purchases  recency  frequency\n",
       "0       1693  155.547941         15.0          -102.58          8.735294         -40.0             34      373  34.000000\n",
       "1       1355  343.233333         23.0          -143.49         19.000000         -35.0              9       57   0.028391\n",
       "2       4978  441.956000          3.0           -76.04         15.466667         -50.0             15        3   0.040431\n",
       "3        439  189.650000          0.0             0.00          5.600000           0.0              5       96   0.017986\n",
       "4         58  211.700000          3.0          -240.90          1.000000         -22.0              3      334   0.075000\n",
       "5       2073  325.107857          6.0           -71.79          7.285714         -29.0             14       26   0.040230\n",
       "6       3222  243.208571         32.0          -523.49         15.285714        -399.0             21        8   0.057377\n",
       "7       2016  445.404167          2.0           -67.06          5.083333         -41.0             12       17   0.033613\n",
       "8      37720  652.959780        112.0         -1348.56         25.901099        -474.0             91        1   0.243968\n",
       "9        613  286.518571          0.0             0.00          9.428571           0.0              7       88   0.024476"
      ]
     },
     "execution_count": 43,
     "metadata": {},
     "output_type": "execute_result"
    }
   ],
   "source": [
    "X.head(10)"
   ]
  },
  {
   "cell_type": "code",
   "execution_count": 44,
   "id": "be26807b",
   "metadata": {
    "execution": {
     "iopub.execute_input": "2022-05-19T17:57:03.219138Z",
     "iopub.status.busy": "2022-05-19T17:57:03.218427Z",
     "iopub.status.idle": "2022-05-19T17:57:03.304879Z",
     "shell.execute_reply": "2022-05-19T17:57:03.304228Z"
    },
    "papermill": {
     "duration": 0.265224,
     "end_time": "2022-05-19T17:57:03.307020",
     "exception": false,
     "start_time": "2022-05-19T17:57:03.041796",
     "status": "completed"
    },
    "tags": []
   },
   "outputs": [
    {
     "data": {
      "text/html": [
       "<div>\n",
       "<style scoped>\n",
       "    .dataframe tbody tr th:only-of-type {\n",
       "        vertical-align: middle;\n",
       "    }\n",
       "\n",
       "    .dataframe tbody tr th {\n",
       "        vertical-align: top;\n",
       "    }\n",
       "\n",
       "    .dataframe thead th {\n",
       "        text-align: right;\n",
       "    }\n",
       "</style>\n",
       "<table border=\"1\" class=\"dataframe\">\n",
       "  <thead>\n",
       "    <tr style=\"text-align: right;\">\n",
       "      <th></th>\n",
       "      <th>0</th>\n",
       "      <th>1</th>\n",
       "      <th>2</th>\n",
       "      <th>3</th>\n",
       "      <th>4</th>\n",
       "      <th>5</th>\n",
       "      <th>6</th>\n",
       "      <th>7</th>\n",
       "      <th>8</th>\n",
       "      <th>9</th>\n",
       "      <th>10</th>\n",
       "      <th>11</th>\n",
       "      <th>12</th>\n",
       "      <th>13</th>\n",
       "      <th>14</th>\n",
       "      <th>15</th>\n",
       "      <th>16</th>\n",
       "      <th>17</th>\n",
       "      <th>18</th>\n",
       "      <th>19</th>\n",
       "      <th>20</th>\n",
       "      <th>21</th>\n",
       "      <th>22</th>\n",
       "      <th>23</th>\n",
       "      <th>24</th>\n",
       "      <th>25</th>\n",
       "      <th>26</th>\n",
       "      <th>27</th>\n",
       "      <th>28</th>\n",
       "      <th>29</th>\n",
       "      <th>30</th>\n",
       "      <th>31</th>\n",
       "      <th>32</th>\n",
       "      <th>33</th>\n",
       "      <th>34</th>\n",
       "      <th>35</th>\n",
       "      <th>36</th>\n",
       "      <th>37</th>\n",
       "      <th>38</th>\n",
       "      <th>39</th>\n",
       "      <th>40</th>\n",
       "      <th>41</th>\n",
       "      <th>42</th>\n",
       "      <th>43</th>\n",
       "      <th>44</th>\n",
       "      <th>45</th>\n",
       "      <th>46</th>\n",
       "      <th>47</th>\n",
       "      <th>48</th>\n",
       "      <th>49</th>\n",
       "      <th>50</th>\n",
       "      <th>51</th>\n",
       "      <th>52</th>\n",
       "      <th>53</th>\n",
       "      <th>54</th>\n",
       "      <th>55</th>\n",
       "      <th>56</th>\n",
       "      <th>57</th>\n",
       "      <th>58</th>\n",
       "      <th>59</th>\n",
       "      <th>60</th>\n",
       "      <th>61</th>\n",
       "      <th>62</th>\n",
       "      <th>63</th>\n",
       "      <th>64</th>\n",
       "      <th>65</th>\n",
       "      <th>66</th>\n",
       "      <th>67</th>\n",
       "      <th>68</th>\n",
       "      <th>69</th>\n",
       "      <th>70</th>\n",
       "      <th>71</th>\n",
       "      <th>72</th>\n",
       "      <th>73</th>\n",
       "      <th>74</th>\n",
       "      <th>75</th>\n",
       "      <th>76</th>\n",
       "      <th>77</th>\n",
       "      <th>78</th>\n",
       "      <th>79</th>\n",
       "      <th>80</th>\n",
       "      <th>81</th>\n",
       "      <th>82</th>\n",
       "      <th>83</th>\n",
       "      <th>84</th>\n",
       "      <th>85</th>\n",
       "      <th>86</th>\n",
       "      <th>87</th>\n",
       "      <th>88</th>\n",
       "      <th>89</th>\n",
       "      <th>90</th>\n",
       "      <th>91</th>\n",
       "      <th>92</th>\n",
       "      <th>93</th>\n",
       "      <th>94</th>\n",
       "      <th>95</th>\n",
       "      <th>96</th>\n",
       "      <th>97</th>\n",
       "      <th>98</th>\n",
       "      <th>99</th>\n",
       "    </tr>\n",
       "  </thead>\n",
       "  <tbody>\n",
       "    <tr>\n",
       "      <th>0</th>\n",
       "      <td>388</td>\n",
       "      <td>411</td>\n",
       "      <td>415</td>\n",
       "      <td>419</td>\n",
       "      <td>425</td>\n",
       "      <td>415</td>\n",
       "      <td>395</td>\n",
       "      <td>403</td>\n",
       "      <td>422</td>\n",
       "      <td>440</td>\n",
       "      <td>450</td>\n",
       "      <td>380</td>\n",
       "      <td>436</td>\n",
       "      <td>421</td>\n",
       "      <td>410</td>\n",
       "      <td>435</td>\n",
       "      <td>406</td>\n",
       "      <td>410</td>\n",
       "      <td>396</td>\n",
       "      <td>422</td>\n",
       "      <td>409</td>\n",
       "      <td>409</td>\n",
       "      <td>416</td>\n",
       "      <td>408</td>\n",
       "      <td>368</td>\n",
       "      <td>411</td>\n",
       "      <td>370</td>\n",
       "      <td>427</td>\n",
       "      <td>393</td>\n",
       "      <td>355</td>\n",
       "      <td>408</td>\n",
       "      <td>424</td>\n",
       "      <td>418</td>\n",
       "      <td>416</td>\n",
       "      <td>428</td>\n",
       "      <td>414</td>\n",
       "      <td>425</td>\n",
       "      <td>430</td>\n",
       "      <td>428</td>\n",
       "      <td>381</td>\n",
       "      <td>428</td>\n",
       "      <td>408</td>\n",
       "      <td>399</td>\n",
       "      <td>441</td>\n",
       "      <td>426</td>\n",
       "      <td>422</td>\n",
       "      <td>406</td>\n",
       "      <td>422</td>\n",
       "      <td>405</td>\n",
       "      <td>382</td>\n",
       "      <td>415</td>\n",
       "      <td>406</td>\n",
       "      <td>409</td>\n",
       "      <td>416</td>\n",
       "      <td>392</td>\n",
       "      <td>431</td>\n",
       "      <td>406</td>\n",
       "      <td>401</td>\n",
       "      <td>430</td>\n",
       "      <td>378</td>\n",
       "      <td>417</td>\n",
       "      <td>423</td>\n",
       "      <td>425</td>\n",
       "      <td>387</td>\n",
       "      <td>443</td>\n",
       "      <td>415</td>\n",
       "      <td>413</td>\n",
       "      <td>446</td>\n",
       "      <td>433</td>\n",
       "      <td>415</td>\n",
       "      <td>394</td>\n",
       "      <td>410</td>\n",
       "      <td>410</td>\n",
       "      <td>420</td>\n",
       "      <td>432</td>\n",
       "      <td>396</td>\n",
       "      <td>424</td>\n",
       "      <td>395</td>\n",
       "      <td>397</td>\n",
       "      <td>451</td>\n",
       "      <td>388</td>\n",
       "      <td>412</td>\n",
       "      <td>428</td>\n",
       "      <td>418</td>\n",
       "      <td>427</td>\n",
       "      <td>417</td>\n",
       "      <td>424</td>\n",
       "      <td>401</td>\n",
       "      <td>398</td>\n",
       "      <td>406</td>\n",
       "      <td>410</td>\n",
       "      <td>441</td>\n",
       "      <td>418</td>\n",
       "      <td>430</td>\n",
       "      <td>444</td>\n",
       "      <td>397</td>\n",
       "      <td>402</td>\n",
       "      <td>420</td>\n",
       "      <td>412</td>\n",
       "      <td>438</td>\n",
       "    </tr>\n",
       "    <tr>\n",
       "      <th>1</th>\n",
       "      <td>392</td>\n",
       "      <td>413</td>\n",
       "      <td>384</td>\n",
       "      <td>420</td>\n",
       "      <td>378</td>\n",
       "      <td>420</td>\n",
       "      <td>369</td>\n",
       "      <td>401</td>\n",
       "      <td>423</td>\n",
       "      <td>384</td>\n",
       "      <td>402</td>\n",
       "      <td>379</td>\n",
       "      <td>393</td>\n",
       "      <td>386</td>\n",
       "      <td>407</td>\n",
       "      <td>380</td>\n",
       "      <td>381</td>\n",
       "      <td>373</td>\n",
       "      <td>408</td>\n",
       "      <td>396</td>\n",
       "      <td>365</td>\n",
       "      <td>406</td>\n",
       "      <td>382</td>\n",
       "      <td>411</td>\n",
       "      <td>372</td>\n",
       "      <td>360</td>\n",
       "      <td>362</td>\n",
       "      <td>378</td>\n",
       "      <td>382</td>\n",
       "      <td>350</td>\n",
       "      <td>390</td>\n",
       "      <td>391</td>\n",
       "      <td>377</td>\n",
       "      <td>376</td>\n",
       "      <td>398</td>\n",
       "      <td>384</td>\n",
       "      <td>398</td>\n",
       "      <td>392</td>\n",
       "      <td>391</td>\n",
       "      <td>381</td>\n",
       "      <td>386</td>\n",
       "      <td>375</td>\n",
       "      <td>396</td>\n",
       "      <td>396</td>\n",
       "      <td>397</td>\n",
       "      <td>393</td>\n",
       "      <td>403</td>\n",
       "      <td>334</td>\n",
       "      <td>410</td>\n",
       "      <td>369</td>\n",
       "      <td>384</td>\n",
       "      <td>402</td>\n",
       "      <td>377</td>\n",
       "      <td>417</td>\n",
       "      <td>389</td>\n",
       "      <td>428</td>\n",
       "      <td>383</td>\n",
       "      <td>376</td>\n",
       "      <td>387</td>\n",
       "      <td>389</td>\n",
       "      <td>376</td>\n",
       "      <td>389</td>\n",
       "      <td>398</td>\n",
       "      <td>385</td>\n",
       "      <td>394</td>\n",
       "      <td>378</td>\n",
       "      <td>378</td>\n",
       "      <td>374</td>\n",
       "      <td>398</td>\n",
       "      <td>383</td>\n",
       "      <td>403</td>\n",
       "      <td>413</td>\n",
       "      <td>381</td>\n",
       "      <td>418</td>\n",
       "      <td>393</td>\n",
       "      <td>390</td>\n",
       "      <td>387</td>\n",
       "      <td>402</td>\n",
       "      <td>362</td>\n",
       "      <td>405</td>\n",
       "      <td>385</td>\n",
       "      <td>402</td>\n",
       "      <td>385</td>\n",
       "      <td>411</td>\n",
       "      <td>380</td>\n",
       "      <td>372</td>\n",
       "      <td>420</td>\n",
       "      <td>404</td>\n",
       "      <td>397</td>\n",
       "      <td>389</td>\n",
       "      <td>408</td>\n",
       "      <td>435</td>\n",
       "      <td>388</td>\n",
       "      <td>396</td>\n",
       "      <td>398</td>\n",
       "      <td>396</td>\n",
       "      <td>408</td>\n",
       "      <td>374</td>\n",
       "      <td>393</td>\n",
       "      <td>381</td>\n",
       "    </tr>\n",
       "    <tr>\n",
       "      <th>2</th>\n",
       "      <td>438</td>\n",
       "      <td>463</td>\n",
       "      <td>455</td>\n",
       "      <td>472</td>\n",
       "      <td>456</td>\n",
       "      <td>463</td>\n",
       "      <td>445</td>\n",
       "      <td>453</td>\n",
       "      <td>459</td>\n",
       "      <td>450</td>\n",
       "      <td>472</td>\n",
       "      <td>458</td>\n",
       "      <td>468</td>\n",
       "      <td>448</td>\n",
       "      <td>451</td>\n",
       "      <td>462</td>\n",
       "      <td>446</td>\n",
       "      <td>432</td>\n",
       "      <td>460</td>\n",
       "      <td>470</td>\n",
       "      <td>435</td>\n",
       "      <td>438</td>\n",
       "      <td>429</td>\n",
       "      <td>446</td>\n",
       "      <td>463</td>\n",
       "      <td>444</td>\n",
       "      <td>452</td>\n",
       "      <td>455</td>\n",
       "      <td>433</td>\n",
       "      <td>429</td>\n",
       "      <td>462</td>\n",
       "      <td>473</td>\n",
       "      <td>429</td>\n",
       "      <td>427</td>\n",
       "      <td>473</td>\n",
       "      <td>455</td>\n",
       "      <td>469</td>\n",
       "      <td>466</td>\n",
       "      <td>445</td>\n",
       "      <td>451</td>\n",
       "      <td>436</td>\n",
       "      <td>454</td>\n",
       "      <td>438</td>\n",
       "      <td>469</td>\n",
       "      <td>470</td>\n",
       "      <td>457</td>\n",
       "      <td>445</td>\n",
       "      <td>431</td>\n",
       "      <td>453</td>\n",
       "      <td>449</td>\n",
       "      <td>466</td>\n",
       "      <td>445</td>\n",
       "      <td>432</td>\n",
       "      <td>452</td>\n",
       "      <td>433</td>\n",
       "      <td>464</td>\n",
       "      <td>454</td>\n",
       "      <td>410</td>\n",
       "      <td>458</td>\n",
       "      <td>442</td>\n",
       "      <td>446</td>\n",
       "      <td>436</td>\n",
       "      <td>466</td>\n",
       "      <td>434</td>\n",
       "      <td>452</td>\n",
       "      <td>443</td>\n",
       "      <td>434</td>\n",
       "      <td>468</td>\n",
       "      <td>440</td>\n",
       "      <td>438</td>\n",
       "      <td>441</td>\n",
       "      <td>457</td>\n",
       "      <td>442</td>\n",
       "      <td>460</td>\n",
       "      <td>457</td>\n",
       "      <td>454</td>\n",
       "      <td>467</td>\n",
       "      <td>451</td>\n",
       "      <td>445</td>\n",
       "      <td>465</td>\n",
       "      <td>435</td>\n",
       "      <td>461</td>\n",
       "      <td>465</td>\n",
       "      <td>470</td>\n",
       "      <td>456</td>\n",
       "      <td>425</td>\n",
       "      <td>467</td>\n",
       "      <td>449</td>\n",
       "      <td>446</td>\n",
       "      <td>432</td>\n",
       "      <td>464</td>\n",
       "      <td>489</td>\n",
       "      <td>460</td>\n",
       "      <td>455</td>\n",
       "      <td>461</td>\n",
       "      <td>456</td>\n",
       "      <td>457</td>\n",
       "      <td>457</td>\n",
       "      <td>450</td>\n",
       "      <td>464</td>\n",
       "    </tr>\n",
       "    <tr>\n",
       "      <th>3</th>\n",
       "      <td>228</td>\n",
       "      <td>336</td>\n",
       "      <td>310</td>\n",
       "      <td>291</td>\n",
       "      <td>288</td>\n",
       "      <td>245</td>\n",
       "      <td>274</td>\n",
       "      <td>233</td>\n",
       "      <td>306</td>\n",
       "      <td>268</td>\n",
       "      <td>288</td>\n",
       "      <td>288</td>\n",
       "      <td>290</td>\n",
       "      <td>280</td>\n",
       "      <td>283</td>\n",
       "      <td>280</td>\n",
       "      <td>279</td>\n",
       "      <td>292</td>\n",
       "      <td>251</td>\n",
       "      <td>246</td>\n",
       "      <td>290</td>\n",
       "      <td>291</td>\n",
       "      <td>275</td>\n",
       "      <td>289</td>\n",
       "      <td>290</td>\n",
       "      <td>295</td>\n",
       "      <td>240</td>\n",
       "      <td>314</td>\n",
       "      <td>233</td>\n",
       "      <td>257</td>\n",
       "      <td>299</td>\n",
       "      <td>266</td>\n",
       "      <td>307</td>\n",
       "      <td>297</td>\n",
       "      <td>265</td>\n",
       "      <td>294</td>\n",
       "      <td>333</td>\n",
       "      <td>286</td>\n",
       "      <td>269</td>\n",
       "      <td>282</td>\n",
       "      <td>299</td>\n",
       "      <td>295</td>\n",
       "      <td>286</td>\n",
       "      <td>287</td>\n",
       "      <td>295</td>\n",
       "      <td>296</td>\n",
       "      <td>252</td>\n",
       "      <td>311</td>\n",
       "      <td>280</td>\n",
       "      <td>292</td>\n",
       "      <td>291</td>\n",
       "      <td>321</td>\n",
       "      <td>271</td>\n",
       "      <td>275</td>\n",
       "      <td>263</td>\n",
       "      <td>254</td>\n",
       "      <td>257</td>\n",
       "      <td>225</td>\n",
       "      <td>300</td>\n",
       "      <td>298</td>\n",
       "      <td>314</td>\n",
       "      <td>313</td>\n",
       "      <td>284</td>\n",
       "      <td>288</td>\n",
       "      <td>267</td>\n",
       "      <td>259</td>\n",
       "      <td>281</td>\n",
       "      <td>295</td>\n",
       "      <td>284</td>\n",
       "      <td>231</td>\n",
       "      <td>300</td>\n",
       "      <td>282</td>\n",
       "      <td>303</td>\n",
       "      <td>301</td>\n",
       "      <td>314</td>\n",
       "      <td>256</td>\n",
       "      <td>308</td>\n",
       "      <td>275</td>\n",
       "      <td>277</td>\n",
       "      <td>295</td>\n",
       "      <td>303</td>\n",
       "      <td>288</td>\n",
       "      <td>304</td>\n",
       "      <td>283</td>\n",
       "      <td>275</td>\n",
       "      <td>278</td>\n",
       "      <td>297</td>\n",
       "      <td>272</td>\n",
       "      <td>286</td>\n",
       "      <td>276</td>\n",
       "      <td>268</td>\n",
       "      <td>261</td>\n",
       "      <td>257</td>\n",
       "      <td>276</td>\n",
       "      <td>287</td>\n",
       "      <td>246</td>\n",
       "      <td>284</td>\n",
       "      <td>309</td>\n",
       "      <td>306</td>\n",
       "      <td>323</td>\n",
       "    </tr>\n",
       "    <tr>\n",
       "      <th>4</th>\n",
       "      <td>124</td>\n",
       "      <td>148</td>\n",
       "      <td>129</td>\n",
       "      <td>101</td>\n",
       "      <td>97</td>\n",
       "      <td>112</td>\n",
       "      <td>97</td>\n",
       "      <td>103</td>\n",
       "      <td>114</td>\n",
       "      <td>61</td>\n",
       "      <td>105</td>\n",
       "      <td>107</td>\n",
       "      <td>107</td>\n",
       "      <td>101</td>\n",
       "      <td>94</td>\n",
       "      <td>92</td>\n",
       "      <td>105</td>\n",
       "      <td>102</td>\n",
       "      <td>83</td>\n",
       "      <td>67</td>\n",
       "      <td>96</td>\n",
       "      <td>105</td>\n",
       "      <td>111</td>\n",
       "      <td>104</td>\n",
       "      <td>94</td>\n",
       "      <td>92</td>\n",
       "      <td>115</td>\n",
       "      <td>113</td>\n",
       "      <td>152</td>\n",
       "      <td>91</td>\n",
       "      <td>103</td>\n",
       "      <td>108</td>\n",
       "      <td>101</td>\n",
       "      <td>95</td>\n",
       "      <td>169</td>\n",
       "      <td>101</td>\n",
       "      <td>109</td>\n",
       "      <td>127</td>\n",
       "      <td>105</td>\n",
       "      <td>109</td>\n",
       "      <td>100</td>\n",
       "      <td>94</td>\n",
       "      <td>117</td>\n",
       "      <td>105</td>\n",
       "      <td>101</td>\n",
       "      <td>110</td>\n",
       "      <td>172</td>\n",
       "      <td>105</td>\n",
       "      <td>94</td>\n",
       "      <td>104</td>\n",
       "      <td>104</td>\n",
       "      <td>99</td>\n",
       "      <td>103</td>\n",
       "      <td>104</td>\n",
       "      <td>96</td>\n",
       "      <td>68</td>\n",
       "      <td>146</td>\n",
       "      <td>157</td>\n",
       "      <td>96</td>\n",
       "      <td>90</td>\n",
       "      <td>105</td>\n",
       "      <td>110</td>\n",
       "      <td>102</td>\n",
       "      <td>108</td>\n",
       "      <td>178</td>\n",
       "      <td>130</td>\n",
       "      <td>69</td>\n",
       "      <td>104</td>\n",
       "      <td>125</td>\n",
       "      <td>59</td>\n",
       "      <td>109</td>\n",
       "      <td>106</td>\n",
       "      <td>98</td>\n",
       "      <td>103</td>\n",
       "      <td>109</td>\n",
       "      <td>163</td>\n",
       "      <td>105</td>\n",
       "      <td>111</td>\n",
       "      <td>97</td>\n",
       "      <td>94</td>\n",
       "      <td>139</td>\n",
       "      <td>133</td>\n",
       "      <td>103</td>\n",
       "      <td>80</td>\n",
       "      <td>93</td>\n",
       "      <td>148</td>\n",
       "      <td>104</td>\n",
       "      <td>99</td>\n",
       "      <td>98</td>\n",
       "      <td>97</td>\n",
       "      <td>93</td>\n",
       "      <td>60</td>\n",
       "      <td>99</td>\n",
       "      <td>111</td>\n",
       "      <td>97</td>\n",
       "      <td>120</td>\n",
       "      <td>101</td>\n",
       "      <td>104</td>\n",
       "      <td>104</td>\n",
       "      <td>110</td>\n",
       "    </tr>\n",
       "  </tbody>\n",
       "</table>\n",
       "</div>"
      ],
      "text/plain": [
       "    0    1    2    3    4    5    6    7    8    9    10   11   12   13   14   15   16   17   18   19   20   21   22   23   24   25   26   27   28   29   30   31   32   33   34   35   36   37   38   39   40   41   42   43   44   45   46   47   48   49   50   51   52   53   54   55   56   57   58   59   60   61   62   63   64   65   66   67   68   69   70   71   72   73   74   75   76   77   78   79   80   81   82   83   84   85   86   87   88   89   90   91   92   93   94   95   96   97   98   99\n",
       "0  388  411  415  419  425  415  395  403  422  440  450  380  436  421  410  435  406  410  396  422  409  409  416  408  368  411  370  427  393  355  408  424  418  416  428  414  425  430  428  381  428  408  399  441  426  422  406  422  405  382  415  406  409  416  392  431  406  401  430  378  417  423  425  387  443  415  413  446  433  415  394  410  410  420  432  396  424  395  397  451  388  412  428  418  427  417  424  401  398  406  410  441  418  430  444  397  402  420  412  438\n",
       "1  392  413  384  420  378  420  369  401  423  384  402  379  393  386  407  380  381  373  408  396  365  406  382  411  372  360  362  378  382  350  390  391  377  376  398  384  398  392  391  381  386  375  396  396  397  393  403  334  410  369  384  402  377  417  389  428  383  376  387  389  376  389  398  385  394  378  378  374  398  383  403  413  381  418  393  390  387  402  362  405  385  402  385  411  380  372  420  404  397  389  408  435  388  396  398  396  408  374  393  381\n",
       "2  438  463  455  472  456  463  445  453  459  450  472  458  468  448  451  462  446  432  460  470  435  438  429  446  463  444  452  455  433  429  462  473  429  427  473  455  469  466  445  451  436  454  438  469  470  457  445  431  453  449  466  445  432  452  433  464  454  410  458  442  446  436  466  434  452  443  434  468  440  438  441  457  442  460  457  454  467  451  445  465  435  461  465  470  456  425  467  449  446  432  464  489  460  455  461  456  457  457  450  464\n",
       "3  228  336  310  291  288  245  274  233  306  268  288  288  290  280  283  280  279  292  251  246  290  291  275  289  290  295  240  314  233  257  299  266  307  297  265  294  333  286  269  282  299  295  286  287  295  296  252  311  280  292  291  321  271  275  263  254  257  225  300  298  314  313  284  288  267  259  281  295  284  231  300  282  303  301  314  256  308  275  277  295  303  288  304  283  275  278  297  272  286  276  268  261  257  276  287  246  284  309  306  323\n",
       "4  124  148  129  101   97  112   97  103  114   61  105  107  107  101   94   92  105  102   83   67   96  105  111  104   94   92  115  113  152   91  103  108  101   95  169  101  109  127  105  109  100   94  117  105  101  110  172  105   94  104  104   99  103  104   96   68  146  157   96   90  105  110  102  108  178  130   69  104  125   59  109  106   98  103  109  163  105  111   97   94  139  133  103   80   93  148  104   99   98   97   93   60   99  111   97  120  101  104  104  110"
      ]
     },
     "execution_count": 44,
     "metadata": {},
     "output_type": "execute_result"
    }
   ],
   "source": [
    "df_leaf.head()"
   ]
  },
  {
   "cell_type": "markdown",
   "id": "4b1e1425",
   "metadata": {
    "tags": [
     "papermill-error-cell-tag"
    ]
   },
   "source": [
    "<span id=\"papermill-error-cell\" style=\"color:red; font-family:Helvetica Neue, Helvetica, Arial, sans-serif; font-size:2em;\">Execution using papermill encountered an exception here and stopped:</span>"
   ]
  },
  {
   "cell_type": "code",
   "execution_count": 45,
   "id": "3b25d0bd",
   "metadata": {
    "execution": {
     "iopub.execute_input": "2022-05-19T17:57:03.605519Z",
     "iopub.status.busy": "2022-05-19T17:57:03.604788Z",
     "iopub.status.idle": "2022-05-19T17:57:06.819804Z",
     "shell.execute_reply": "2022-05-19T17:57:06.817897Z"
    },
    "papermill": {
     "duration": 3.380138,
     "end_time": "2022-05-19T17:57:06.821047",
     "exception": true,
     "start_time": "2022-05-19T17:57:03.440909",
     "status": "failed"
    },
    "tags": []
   },
   "outputs": [
    {
     "ename": "OSError",
     "evalue": "Cannot save file into a non-existent directory: '../data'",
     "output_type": "error",
     "traceback": [
      "\u001b[0;31m---------------------------------------------------------------------------\u001b[0m",
      "\u001b[0;31mOSError\u001b[0m                                   Traceback (most recent call last)",
      "Input \u001b[0;32mIn [45]\u001b[0m, in \u001b[0;36m<cell line: 1>\u001b[0;34m()\u001b[0m\n\u001b[0;32m----> 1\u001b[0m \u001b[43mdf_leaf\u001b[49m\u001b[38;5;241;43m.\u001b[39;49m\u001b[43mto_csv\u001b[49m\u001b[43m(\u001b[49m\u001b[38;5;124;43m'\u001b[39;49m\u001b[38;5;124;43m../data/df_tree.csv\u001b[39;49m\u001b[38;5;124;43m'\u001b[39;49m\u001b[43m,\u001b[49m\u001b[43m \u001b[49m\u001b[43mindex\u001b[49m\u001b[43m \u001b[49m\u001b[38;5;241;43m=\u001b[39;49m\u001b[43m \u001b[49m\u001b[38;5;28;43;01mFalse\u001b[39;49;00m\u001b[43m)\u001b[49m\n",
      "File \u001b[0;32m~/.pyenv/versions/3.8.0/envs/insiders_deploy/lib/python3.8/site-packages/pandas/core/generic.py:3563\u001b[0m, in \u001b[0;36mNDFrame.to_csv\u001b[0;34m(self, path_or_buf, sep, na_rep, float_format, columns, header, index, index_label, mode, encoding, compression, quoting, quotechar, line_terminator, chunksize, date_format, doublequote, escapechar, decimal, errors, storage_options)\u001b[0m\n\u001b[1;32m   3552\u001b[0m df \u001b[38;5;241m=\u001b[39m \u001b[38;5;28mself\u001b[39m \u001b[38;5;28;01mif\u001b[39;00m \u001b[38;5;28misinstance\u001b[39m(\u001b[38;5;28mself\u001b[39m, ABCDataFrame) \u001b[38;5;28;01melse\u001b[39;00m \u001b[38;5;28mself\u001b[39m\u001b[38;5;241m.\u001b[39mto_frame()\n\u001b[1;32m   3554\u001b[0m formatter \u001b[38;5;241m=\u001b[39m DataFrameFormatter(\n\u001b[1;32m   3555\u001b[0m     frame\u001b[38;5;241m=\u001b[39mdf,\n\u001b[1;32m   3556\u001b[0m     header\u001b[38;5;241m=\u001b[39mheader,\n\u001b[0;32m   (...)\u001b[0m\n\u001b[1;32m   3560\u001b[0m     decimal\u001b[38;5;241m=\u001b[39mdecimal,\n\u001b[1;32m   3561\u001b[0m )\n\u001b[0;32m-> 3563\u001b[0m \u001b[38;5;28;01mreturn\u001b[39;00m \u001b[43mDataFrameRenderer\u001b[49m\u001b[43m(\u001b[49m\u001b[43mformatter\u001b[49m\u001b[43m)\u001b[49m\u001b[38;5;241;43m.\u001b[39;49m\u001b[43mto_csv\u001b[49m\u001b[43m(\u001b[49m\n\u001b[1;32m   3564\u001b[0m \u001b[43m    \u001b[49m\u001b[43mpath_or_buf\u001b[49m\u001b[43m,\u001b[49m\n\u001b[1;32m   3565\u001b[0m \u001b[43m    \u001b[49m\u001b[43mline_terminator\u001b[49m\u001b[38;5;241;43m=\u001b[39;49m\u001b[43mline_terminator\u001b[49m\u001b[43m,\u001b[49m\n\u001b[1;32m   3566\u001b[0m \u001b[43m    \u001b[49m\u001b[43msep\u001b[49m\u001b[38;5;241;43m=\u001b[39;49m\u001b[43msep\u001b[49m\u001b[43m,\u001b[49m\n\u001b[1;32m   3567\u001b[0m \u001b[43m    \u001b[49m\u001b[43mencoding\u001b[49m\u001b[38;5;241;43m=\u001b[39;49m\u001b[43mencoding\u001b[49m\u001b[43m,\u001b[49m\n\u001b[1;32m   3568\u001b[0m \u001b[43m    \u001b[49m\u001b[43merrors\u001b[49m\u001b[38;5;241;43m=\u001b[39;49m\u001b[43merrors\u001b[49m\u001b[43m,\u001b[49m\n\u001b[1;32m   3569\u001b[0m \u001b[43m    \u001b[49m\u001b[43mcompression\u001b[49m\u001b[38;5;241;43m=\u001b[39;49m\u001b[43mcompression\u001b[49m\u001b[43m,\u001b[49m\n\u001b[1;32m   3570\u001b[0m \u001b[43m    \u001b[49m\u001b[43mquoting\u001b[49m\u001b[38;5;241;43m=\u001b[39;49m\u001b[43mquoting\u001b[49m\u001b[43m,\u001b[49m\n\u001b[1;32m   3571\u001b[0m \u001b[43m    \u001b[49m\u001b[43mcolumns\u001b[49m\u001b[38;5;241;43m=\u001b[39;49m\u001b[43mcolumns\u001b[49m\u001b[43m,\u001b[49m\n\u001b[1;32m   3572\u001b[0m \u001b[43m    \u001b[49m\u001b[43mindex_label\u001b[49m\u001b[38;5;241;43m=\u001b[39;49m\u001b[43mindex_label\u001b[49m\u001b[43m,\u001b[49m\n\u001b[1;32m   3573\u001b[0m \u001b[43m    \u001b[49m\u001b[43mmode\u001b[49m\u001b[38;5;241;43m=\u001b[39;49m\u001b[43mmode\u001b[49m\u001b[43m,\u001b[49m\n\u001b[1;32m   3574\u001b[0m \u001b[43m    \u001b[49m\u001b[43mchunksize\u001b[49m\u001b[38;5;241;43m=\u001b[39;49m\u001b[43mchunksize\u001b[49m\u001b[43m,\u001b[49m\n\u001b[1;32m   3575\u001b[0m \u001b[43m    \u001b[49m\u001b[43mquotechar\u001b[49m\u001b[38;5;241;43m=\u001b[39;49m\u001b[43mquotechar\u001b[49m\u001b[43m,\u001b[49m\n\u001b[1;32m   3576\u001b[0m \u001b[43m    \u001b[49m\u001b[43mdate_format\u001b[49m\u001b[38;5;241;43m=\u001b[39;49m\u001b[43mdate_format\u001b[49m\u001b[43m,\u001b[49m\n\u001b[1;32m   3577\u001b[0m \u001b[43m    \u001b[49m\u001b[43mdoublequote\u001b[49m\u001b[38;5;241;43m=\u001b[39;49m\u001b[43mdoublequote\u001b[49m\u001b[43m,\u001b[49m\n\u001b[1;32m   3578\u001b[0m \u001b[43m    \u001b[49m\u001b[43mescapechar\u001b[49m\u001b[38;5;241;43m=\u001b[39;49m\u001b[43mescapechar\u001b[49m\u001b[43m,\u001b[49m\n\u001b[1;32m   3579\u001b[0m \u001b[43m    \u001b[49m\u001b[43mstorage_options\u001b[49m\u001b[38;5;241;43m=\u001b[39;49m\u001b[43mstorage_options\u001b[49m\u001b[43m,\u001b[49m\n\u001b[1;32m   3580\u001b[0m \u001b[43m\u001b[49m\u001b[43m)\u001b[49m\n",
      "File \u001b[0;32m~/.pyenv/versions/3.8.0/envs/insiders_deploy/lib/python3.8/site-packages/pandas/io/formats/format.py:1180\u001b[0m, in \u001b[0;36mDataFrameRenderer.to_csv\u001b[0;34m(self, path_or_buf, encoding, sep, columns, index_label, mode, compression, quoting, quotechar, line_terminator, chunksize, date_format, doublequote, escapechar, errors, storage_options)\u001b[0m\n\u001b[1;32m   1159\u001b[0m     created_buffer \u001b[38;5;241m=\u001b[39m \u001b[38;5;28;01mFalse\u001b[39;00m\n\u001b[1;32m   1161\u001b[0m csv_formatter \u001b[38;5;241m=\u001b[39m CSVFormatter(\n\u001b[1;32m   1162\u001b[0m     path_or_buf\u001b[38;5;241m=\u001b[39mpath_or_buf,\n\u001b[1;32m   1163\u001b[0m     line_terminator\u001b[38;5;241m=\u001b[39mline_terminator,\n\u001b[0;32m   (...)\u001b[0m\n\u001b[1;32m   1178\u001b[0m     formatter\u001b[38;5;241m=\u001b[39m\u001b[38;5;28mself\u001b[39m\u001b[38;5;241m.\u001b[39mfmt,\n\u001b[1;32m   1179\u001b[0m )\n\u001b[0;32m-> 1180\u001b[0m \u001b[43mcsv_formatter\u001b[49m\u001b[38;5;241;43m.\u001b[39;49m\u001b[43msave\u001b[49m\u001b[43m(\u001b[49m\u001b[43m)\u001b[49m\n\u001b[1;32m   1182\u001b[0m \u001b[38;5;28;01mif\u001b[39;00m created_buffer:\n\u001b[1;32m   1183\u001b[0m     \u001b[38;5;28;01massert\u001b[39;00m \u001b[38;5;28misinstance\u001b[39m(path_or_buf, StringIO)\n",
      "File \u001b[0;32m~/.pyenv/versions/3.8.0/envs/insiders_deploy/lib/python3.8/site-packages/pandas/io/formats/csvs.py:241\u001b[0m, in \u001b[0;36mCSVFormatter.save\u001b[0;34m(self)\u001b[0m\n\u001b[1;32m    237\u001b[0m \u001b[38;5;124;03m\"\"\"\u001b[39;00m\n\u001b[1;32m    238\u001b[0m \u001b[38;5;124;03mCreate the writer & save.\u001b[39;00m\n\u001b[1;32m    239\u001b[0m \u001b[38;5;124;03m\"\"\"\u001b[39;00m\n\u001b[1;32m    240\u001b[0m \u001b[38;5;66;03m# apply compression and byte/text conversion\u001b[39;00m\n\u001b[0;32m--> 241\u001b[0m \u001b[38;5;28;01mwith\u001b[39;00m \u001b[43mget_handle\u001b[49m\u001b[43m(\u001b[49m\n\u001b[1;32m    242\u001b[0m \u001b[43m    \u001b[49m\u001b[38;5;28;43mself\u001b[39;49m\u001b[38;5;241;43m.\u001b[39;49m\u001b[43mfilepath_or_buffer\u001b[49m\u001b[43m,\u001b[49m\n\u001b[1;32m    243\u001b[0m \u001b[43m    \u001b[49m\u001b[38;5;28;43mself\u001b[39;49m\u001b[38;5;241;43m.\u001b[39;49m\u001b[43mmode\u001b[49m\u001b[43m,\u001b[49m\n\u001b[1;32m    244\u001b[0m \u001b[43m    \u001b[49m\u001b[43mencoding\u001b[49m\u001b[38;5;241;43m=\u001b[39;49m\u001b[38;5;28;43mself\u001b[39;49m\u001b[38;5;241;43m.\u001b[39;49m\u001b[43mencoding\u001b[49m\u001b[43m,\u001b[49m\n\u001b[1;32m    245\u001b[0m \u001b[43m    \u001b[49m\u001b[43merrors\u001b[49m\u001b[38;5;241;43m=\u001b[39;49m\u001b[38;5;28;43mself\u001b[39;49m\u001b[38;5;241;43m.\u001b[39;49m\u001b[43merrors\u001b[49m\u001b[43m,\u001b[49m\n\u001b[1;32m    246\u001b[0m \u001b[43m    \u001b[49m\u001b[43mcompression\u001b[49m\u001b[38;5;241;43m=\u001b[39;49m\u001b[38;5;28;43mself\u001b[39;49m\u001b[38;5;241;43m.\u001b[39;49m\u001b[43mcompression\u001b[49m\u001b[43m,\u001b[49m\n\u001b[1;32m    247\u001b[0m \u001b[43m    \u001b[49m\u001b[43mstorage_options\u001b[49m\u001b[38;5;241;43m=\u001b[39;49m\u001b[38;5;28;43mself\u001b[39;49m\u001b[38;5;241;43m.\u001b[39;49m\u001b[43mstorage_options\u001b[49m\u001b[43m,\u001b[49m\n\u001b[1;32m    248\u001b[0m \u001b[43m\u001b[49m\u001b[43m)\u001b[49m \u001b[38;5;28;01mas\u001b[39;00m handles:\n\u001b[1;32m    249\u001b[0m \n\u001b[1;32m    250\u001b[0m     \u001b[38;5;66;03m# Note: self.encoding is irrelevant here\u001b[39;00m\n\u001b[1;32m    251\u001b[0m     \u001b[38;5;28mself\u001b[39m\u001b[38;5;241m.\u001b[39mwriter \u001b[38;5;241m=\u001b[39m csvlib\u001b[38;5;241m.\u001b[39mwriter(\n\u001b[1;32m    252\u001b[0m         handles\u001b[38;5;241m.\u001b[39mhandle,\n\u001b[1;32m    253\u001b[0m         lineterminator\u001b[38;5;241m=\u001b[39m\u001b[38;5;28mself\u001b[39m\u001b[38;5;241m.\u001b[39mline_terminator,\n\u001b[0;32m   (...)\u001b[0m\n\u001b[1;32m    258\u001b[0m         quotechar\u001b[38;5;241m=\u001b[39m\u001b[38;5;28mself\u001b[39m\u001b[38;5;241m.\u001b[39mquotechar,\n\u001b[1;32m    259\u001b[0m     )\n\u001b[1;32m    261\u001b[0m     \u001b[38;5;28mself\u001b[39m\u001b[38;5;241m.\u001b[39m_save()\n",
      "File \u001b[0;32m~/.pyenv/versions/3.8.0/envs/insiders_deploy/lib/python3.8/site-packages/pandas/io/common.py:697\u001b[0m, in \u001b[0;36mget_handle\u001b[0;34m(path_or_buf, mode, encoding, compression, memory_map, is_text, errors, storage_options)\u001b[0m\n\u001b[1;32m    695\u001b[0m \u001b[38;5;66;03m# Only for write methods\u001b[39;00m\n\u001b[1;32m    696\u001b[0m \u001b[38;5;28;01mif\u001b[39;00m \u001b[38;5;124m\"\u001b[39m\u001b[38;5;124mr\u001b[39m\u001b[38;5;124m\"\u001b[39m \u001b[38;5;129;01mnot\u001b[39;00m \u001b[38;5;129;01min\u001b[39;00m mode \u001b[38;5;129;01mand\u001b[39;00m is_path:\n\u001b[0;32m--> 697\u001b[0m     \u001b[43mcheck_parent_directory\u001b[49m\u001b[43m(\u001b[49m\u001b[38;5;28;43mstr\u001b[39;49m\u001b[43m(\u001b[49m\u001b[43mhandle\u001b[49m\u001b[43m)\u001b[49m\u001b[43m)\u001b[49m\n\u001b[1;32m    699\u001b[0m \u001b[38;5;28;01mif\u001b[39;00m compression:\n\u001b[1;32m    700\u001b[0m     \u001b[38;5;28;01mif\u001b[39;00m compression \u001b[38;5;241m!=\u001b[39m \u001b[38;5;124m\"\u001b[39m\u001b[38;5;124mzstd\u001b[39m\u001b[38;5;124m\"\u001b[39m:\n\u001b[1;32m    701\u001b[0m         \u001b[38;5;66;03m# compression libraries do not like an explicit text-mode\u001b[39;00m\n",
      "File \u001b[0;32m~/.pyenv/versions/3.8.0/envs/insiders_deploy/lib/python3.8/site-packages/pandas/io/common.py:571\u001b[0m, in \u001b[0;36mcheck_parent_directory\u001b[0;34m(path)\u001b[0m\n\u001b[1;32m    569\u001b[0m parent \u001b[38;5;241m=\u001b[39m Path(path)\u001b[38;5;241m.\u001b[39mparent\n\u001b[1;32m    570\u001b[0m \u001b[38;5;28;01mif\u001b[39;00m \u001b[38;5;129;01mnot\u001b[39;00m parent\u001b[38;5;241m.\u001b[39mis_dir():\n\u001b[0;32m--> 571\u001b[0m     \u001b[38;5;28;01mraise\u001b[39;00m \u001b[38;5;167;01mOSError\u001b[39;00m(\u001b[38;5;124mfr\u001b[39m\u001b[38;5;124m\"\u001b[39m\u001b[38;5;124mCannot save file into a non-existent directory: \u001b[39m\u001b[38;5;124m'\u001b[39m\u001b[38;5;132;01m{\u001b[39;00mparent\u001b[38;5;132;01m}\u001b[39;00m\u001b[38;5;124m'\u001b[39m\u001b[38;5;124m\"\u001b[39m)\n",
      "\u001b[0;31mOSError\u001b[0m: Cannot save file into a non-existent directory: '../data'"
     ]
    }
   ],
   "source": [
    "df_leaf.to_csv('../data/df_tree.csv', index = False)"
   ]
  },
  {
   "cell_type": "code",
   "execution_count": null,
   "id": "fcff8b85",
   "metadata": {
    "papermill": {
     "duration": null,
     "end_time": null,
     "exception": null,
     "start_time": null,
     "status": "pending"
    },
    "tags": []
   },
   "outputs": [],
   "source": [
    "res_umap[:10]"
   ]
  },
  {
   "cell_type": "code",
   "execution_count": null,
   "id": "d2de7c44",
   "metadata": {
    "papermill": {
     "duration": null,
     "end_time": null,
     "exception": null,
     "start_time": null,
     "status": "pending"
    },
    "tags": []
   },
   "outputs": [],
   "source": [
    "res_umap[-10:]"
   ]
  },
  {
   "cell_type": "markdown",
   "id": "c1709461",
   "metadata": {
    "papermill": {
     "duration": null,
     "end_time": null,
     "exception": null,
     "start_time": null,
     "status": "pending"
    },
    "tags": []
   },
   "source": [
    "# 7.0 Model Testing"
   ]
  },
  {
   "cell_type": "code",
   "execution_count": null,
   "id": "fba5387a",
   "metadata": {
    "papermill": {
     "duration": null,
     "end_time": null,
     "exception": null,
     "start_time": null,
     "status": "pending"
    },
    "tags": []
   },
   "outputs": [],
   "source": [
    "# defining two spaces of data (embedded and rescaled) to test models\n",
    "\n",
    "# tree embedded data\n",
    "df_tree = pd.DataFrame()\n",
    "df_tree['embedding_x'] =  res_umap[:,0]\n",
    "df_tree['embedding_y'] =  res_umap[:,1]\n",
    "\n",
    "# rescaled data\n",
    "df7 = df5.copy()"
   ]
  },
  {
   "cell_type": "code",
   "execution_count": null,
   "id": "fade3076",
   "metadata": {
    "papermill": {
     "duration": null,
     "end_time": null,
     "exception": null,
     "start_time": null,
     "status": "pending"
    },
    "tags": []
   },
   "outputs": [],
   "source": [
    "del X, y, df5\n",
    "gc.collect()"
   ]
  },
  {
   "cell_type": "markdown",
   "id": "761788c6",
   "metadata": {
    "papermill": {
     "duration": null,
     "end_time": null,
     "exception": null,
     "start_time": null,
     "status": "pending"
    },
    "tags": []
   },
   "source": [
    "# 8.0 Model Training"
   ]
  },
  {
   "cell_type": "code",
   "execution_count": null,
   "id": "c426c03d",
   "metadata": {
    "papermill": {
     "duration": null,
     "end_time": null,
     "exception": null,
     "start_time": null,
     "status": "pending"
    },
    "tags": []
   },
   "outputs": [],
   "source": [
    "df7.shape"
   ]
  },
  {
   "cell_type": "code",
   "execution_count": null,
   "id": "c430b386",
   "metadata": {
    "papermill": {
     "duration": null,
     "end_time": null,
     "exception": null,
     "start_time": null,
     "status": "pending"
    },
    "tags": []
   },
   "outputs": [],
   "source": [
    "# defining model \n",
    "db_model = DBSCAN(eps = 2.1, min_samples=50)\n",
    "\n",
    "# applying model \n",
    "labels = db_model.fit_predict(df_tree)\n",
    "\n",
    "df_result = df7.reset_index(drop = True).copy()\n",
    "\n",
    "# concatenating results\n",
    "df_result = pd.concat( [df_result, df_tree], axis = 1 )\n",
    "\n",
    "# defining cluster\n",
    "df_result['cluster'] = labels.astype(str)\n",
    "\n",
    "# mapping cluster names\n",
    "names = {\"4\" : \"Insiders\",\n",
    "         \"1\" : \"Potential Loyalists\",\n",
    "         \"0\" : \"Loyal Customers\",\n",
    "         \"2\" : \"Promissing 1\",\n",
    "         \"8\" : \"Need Attention 1\",\n",
    "         \"6\" : \"Promising 2\",\n",
    "         \"7\" : \"Need Attention 2\",\n",
    "         \"5\" : \"Hibernating 1\",\n",
    "         \"10\" : \"Churn 1\",\n",
    "         \"3\" : \"Price Sensitive\",\n",
    "         \"9\" : \"Churn 2\",\n",
    "         \"11\" : \"Hibernating 2\",\n",
    "         \"-1\" : 'Noise' }\n",
    "\n",
    "df_result['cluster_name'] = df_result['cluster'].map(names)\n",
    "\n",
    "df_result.rename( columns = {'date_range': 'tenure'}, inplace = True)\n",
    "df_result.head()\n",
    "df_result.shape"
   ]
  },
  {
   "cell_type": "code",
   "execution_count": null,
   "id": "42bc94a2",
   "metadata": {
    "papermill": {
     "duration": null,
     "end_time": null,
     "exception": null,
     "start_time": null,
     "status": "pending"
    },
    "tags": []
   },
   "outputs": [],
   "source": [
    "sns.scatterplot(data = df_result, x = 'embedding_x', y = 'embedding_y', hue = 'cluster_name', palette = 'bright');"
   ]
  },
  {
   "cell_type": "markdown",
   "id": "f0763a02",
   "metadata": {
    "papermill": {
     "duration": null,
     "end_time": null,
     "exception": null,
     "start_time": null,
     "status": "pending"
    },
    "tags": []
   },
   "source": [
    "# 9.0 Cluster Analysis"
   ]
  },
  {
   "cell_type": "markdown",
   "id": "4ec627a0",
   "metadata": {
    "papermill": {
     "duration": null,
     "end_time": null,
     "exception": null,
     "start_time": null,
     "status": "pending"
    },
    "tags": []
   },
   "source": [
    "## 9.4 Business Perspective"
   ]
  },
  {
   "cell_type": "markdown",
   "id": "5d743f96",
   "metadata": {
    "papermill": {
     "duration": null,
     "end_time": null,
     "exception": null,
     "start_time": null,
     "status": "pending"
    },
    "tags": []
   },
   "source": [
    "### 9.4.1 Clusters Table"
   ]
  },
  {
   "cell_type": "code",
   "execution_count": null,
   "id": "510c6362",
   "metadata": {
    "papermill": {
     "duration": null,
     "end_time": null,
     "exception": null,
     "start_time": null,
     "status": "pending"
    },
    "tags": []
   },
   "outputs": [],
   "source": [
    "# number of customers per cluster\n",
    "n_cust = df_result.copy()\n",
    "n_cust = n_cust.groupby('cluster').count().reset_index().rename(columns = {'customer_id' : 'num_of_customers'})\n",
    "n_cust['perc_of_customer'] = n_cust['num_of_customers']/n_cust['num_of_customers'].sum()*100\n",
    "n_cust = n_cust[['cluster', 'num_of_customers', 'perc_of_customer']]"
   ]
  },
  {
   "cell_type": "code",
   "execution_count": null,
   "id": "e0dc9ae0",
   "metadata": {
    "papermill": {
     "duration": null,
     "end_time": null,
     "exception": null,
     "start_time": null,
     "status": "pending"
    },
    "tags": []
   },
   "outputs": [],
   "source": [
    "# calculating mean values for each cluster attribute\n",
    "df_res = df_result.copy()\n",
    "\n",
    "# calculating mothly frequency. Did not like the results of this\n",
    "# df_res['frequency'] = df_res['frequency']*30\n",
    "\n",
    "# add cluster to df\n",
    "result = df_res.groupby('cluster').mean().reset_index()\n",
    "result\n",
    "\n",
    "# add nº of customers\n",
    "result = result.merge( n_cust, on = 'cluster', how = 'inner')\n",
    "# Based on the RFM Analysis I gave names to clusters \n",
    "result['cluster_name'] = result['cluster'].map(names)\n",
    "result_reduced = result[['cluster_name', 'num_of_customers', 'perc_of_customer', 'recency', 'revenue', 'avg_ticket', 'num_purchases', 'tenure', 'frequency', 'num_returns', 'avg_return_revenue' ]].copy()\n",
    "\n",
    "#formatting output\n",
    "result_reduced.sort_values('revenue', ascending = False, inplace = True )\n",
    "result_reduced['perc_of_customer'] = result_reduced['perc_of_customer'].apply(lambda x: \"{:.2f}%\".format(x) )\n",
    "formatter = {\"recency\" : \"{:,.2f}\",\n",
    "\"revenue\" : \"{:,.2f}\",\n",
    "\"avg_ticket\" : \"{:,.2f}\",\n",
    "\"num_purchases\" : \"{:,.2f}\",\n",
    "\"tenure\" : \"{:,.2f}\",\n",
    "\"frequency\" : \"{:,.4f}\",\n",
    "\"num_returns\" : \"{:,.2f}\",\n",
    "\"avg_return_revenue\" : \"{:,.2f}\"\n",
    "}\n",
    "result_reduced.style.format( formatter = formatter )"
   ]
  },
  {
   "cell_type": "code",
   "execution_count": null,
   "id": "6c9443c4",
   "metadata": {
    "papermill": {
     "duration": null,
     "end_time": null,
     "exception": null,
     "start_time": null,
     "status": "pending"
    },
    "tags": []
   },
   "outputs": [],
   "source": [
    "# # calculating mean values for each cluster attribute\n",
    "# df_res = df_result.copy()\n",
    "\n",
    "# # calculating mothly frequency. Did not like the results of this\n",
    "# # df_res['frequency'] = df_res['frequency']*30\n",
    "\n",
    "# # add cluster to df\n",
    "# result = df_res.groupby('cluster').mean().reset_index()\n",
    "# result\n",
    "\n",
    "# # add nº of customers\n",
    "# result = result.merge( n_cust, on = 'cluster', how = 'inner')\n",
    "# # Based on the RFM Analysis I gave names to clusters \n",
    "# result['cluster_name'] = result['cluster'].map(names)\n",
    "# result_reduced = result[['cluster_name', 'num_of_customers', 'perc_of_customer', 'recency', 'revenue', 'avg_ticket', 'num_purchases', 'tenure', 'frequency', 'num_returns', 'avg_return_revenue' ]].copy()\n",
    "\n",
    "# #formatting output\n",
    "# result_reduced.sort_values('revenue', ascending = False, inplace = True )\n",
    "# result_reduced['perc_of_customer'] = result_reduced['perc_of_customer'].apply(lambda x: \"{:.2f}%\".format(x) )\n",
    "# formatter = {\"recency\" : \"{:,.2f}\",\n",
    "# \"revenue\" : \"{:,.2f}\",\n",
    "# \"avg_ticket\" : \"{:,.2f}\",\n",
    "# \"num_purchases\" : \"{:,.2f}\",\n",
    "# \"tenure\" : \"{:,.2f}\",\n",
    "# \"frequency\" : \"{:,.4f}\",\n",
    "# \"num_returns\" : \"{:,.2f}\",\n",
    "# \"avg_return_revenue\" : \"{:,.2f}\"\n",
    "# }\n",
    "# result_reduced.style.format( formatter = formatter )"
   ]
  },
  {
   "cell_type": "markdown",
   "id": "ae6b706f",
   "metadata": {
    "papermill": {
     "duration": null,
     "end_time": null,
     "exception": null,
     "start_time": null,
     "status": "pending"
    },
    "tags": []
   },
   "source": [
    "# 11 Model Deployment"
   ]
  },
  {
   "cell_type": "markdown",
   "id": "26b565e8",
   "metadata": {
    "papermill": {
     "duration": null,
     "end_time": null,
     "exception": null,
     "start_time": null,
     "status": "pending"
    },
    "tags": []
   },
   "source": [
    "## 11.1. Inserting results on sqlite db"
   ]
  },
  {
   "cell_type": "code",
   "execution_count": null,
   "id": "2c72c78b",
   "metadata": {
    "papermill": {
     "duration": null,
     "end_time": null,
     "exception": null,
     "start_time": null,
     "status": "pending"
    },
    "tags": []
   },
   "outputs": [],
   "source": [
    "#  connect to db, if doesn't exist create one\n",
    "# con = sqlite3.connect('../src/features/insiders.db')"
   ]
  },
  {
   "cell_type": "code",
   "execution_count": null,
   "id": "6e025be2",
   "metadata": {
    "papermill": {
     "duration": null,
     "end_time": null,
     "exception": null,
     "start_time": null,
     "status": "pending"
    },
    "tags": []
   },
   "outputs": [],
   "source": [
    "# cur = con.cursor()\n",
    "\n",
    "# cur.execute(\n",
    "#     \"\"\"\n",
    "    # CREATE TABLE insiders (\n",
    "    #     customer_id               INTEGER,\n",
    "    #     country                   TEXT,\n",
    "    #     recency                   INTEGER,\n",
    "    #     avg_days_bw_purchases     REAL,\n",
    "    #     num_purchases             INTEGER,\n",
    "    #     tenure                    INTEGER,\n",
    "    #     frequency                 REAL,\n",
    "    #     revenue                   REAL,\n",
    "    #     avg_ticket                REAL,\n",
    "    #     qty_items                 INTEGER,\n",
    "    #     avg_basket_size           REAL,\n",
    "    #     avg_unique_prods          REAL,\n",
    "    #     returns_revenue           REAL,\n",
    "    #     avg_return_revenue        REAL,\n",
    "    #     num_returns               REAL,\n",
    "    #     qty_returned              REAL,\n",
    "    #     embedding_x               REAL,\n",
    "    #     embedding_y               REAL,\n",
    "    #     cluster                   TEXT,\n",
    "    #     cluster_name              TEXT\n",
    "#     );\n",
    "#     \"\"\"\n",
    "# )\n",
    "\n",
    "# con.commit()\n",
    "\n",
    "# # con.close()\n",
    "\n"
   ]
  },
  {
   "cell_type": "code",
   "execution_count": null,
   "id": "46805f51",
   "metadata": {
    "papermill": {
     "duration": null,
     "end_time": null,
     "exception": null,
     "start_time": null,
     "status": "pending"
    },
    "tags": []
   },
   "outputs": [],
   "source": [
    "# df_result.dtypes"
   ]
  },
  {
   "cell_type": "code",
   "execution_count": null,
   "id": "c066048a",
   "metadata": {
    "papermill": {
     "duration": null,
     "end_time": null,
     "exception": null,
     "start_time": null,
     "status": "pending"
    },
    "tags": []
   },
   "outputs": [],
   "source": [
    "# # con.execute(\n",
    "# #     \"\"\"\n",
    "# #     SELECT name\n",
    "# #     FROM sqlite_schema\n",
    "# #     WHERE type ='table'\n",
    "# #     \"\"\"\n",
    "# # )\n",
    "# cur.execute(\n",
    "# \"\"\"SELECT \n",
    "#         name\n",
    "#     FROM \n",
    "#         sqlite_master\n",
    "#     WHERE \n",
    "#         type ='table' \n",
    "#         ;\"\"\"\n",
    "#         )\n",
    "# # con.commit()\n",
    "# #  AND name NOT LIKE 'sqlite_%'\n",
    "# cur.fetchone()"
   ]
  },
  {
   "cell_type": "code",
   "execution_count": null,
   "id": "3e9d47ab",
   "metadata": {
    "papermill": {
     "duration": null,
     "end_time": null,
     "exception": null,
     "start_time": null,
     "status": "pending"
    },
    "tags": []
   },
   "outputs": [],
   "source": [
    "# con.execute(\n",
    "#     \"\"\"\n",
    "#     DROP TABLE insiders\n",
    "#     \"\"\"\n",
    "# )\n",
    "# con.commit()\n",
    "\n",
    "# # con.close()\n"
   ]
  },
  {
   "cell_type": "code",
   "execution_count": null,
   "id": "51442848",
   "metadata": {
    "papermill": {
     "duration": null,
     "end_time": null,
     "exception": null,
     "start_time": null,
     "status": "pending"
    },
    "tags": []
   },
   "outputs": [],
   "source": [
    "# conn = create_engine('sqlite:////home/humberto/DS/insiders_clustering/src/features/insiders.db', echo=False)\n",
    "# df_result.to_sql('insiders', con = conn, if_exists='append', index = False)"
   ]
  },
  {
   "cell_type": "code",
   "execution_count": null,
   "id": "d106dff7",
   "metadata": {
    "papermill": {
     "duration": null,
     "end_time": null,
     "exception": null,
     "start_time": null,
     "status": "pending"
    },
    "tags": []
   },
   "outputs": [],
   "source": [
    "# df_sql = pd.read_sql('insiders', con = conn)\n",
    "# print(df_sql.iloc[0,8])\n",
    "# print(df_result.iloc[0,8])\n",
    "# df_sql.head()"
   ]
  },
  {
   "cell_type": "markdown",
   "id": "adbe8371",
   "metadata": {
    "papermill": {
     "duration": null,
     "end_time": null,
     "exception": null,
     "start_time": null,
     "status": "pending"
    },
    "tags": []
   },
   "source": [
    "## 11.2 Inserting results to mysql db on AWS"
   ]
  },
  {
   "cell_type": "code",
   "execution_count": null,
   "id": "b34b0d48",
   "metadata": {
    "papermill": {
     "duration": null,
     "end_time": null,
     "exception": null,
     "start_time": null,
     "status": "pending"
    },
    "tags": []
   },
   "outputs": [],
   "source": [
    "# adding last update time to data that will be inserted on DB\n",
    "\n",
    "now = datetime.now().strftime( \"%Y-%m-%d %H:%M:%S\" )\n",
    "\n",
    "df_result['last_update'] = now"
   ]
  },
  {
   "cell_type": "code",
   "execution_count": null,
   "id": "46b02686",
   "metadata": {
    "papermill": {
     "duration": null,
     "end_time": null,
     "exception": null,
     "start_time": null,
     "status": "pending"
    },
    "tags": []
   },
   "outputs": [],
   "source": [
    "df_result.head()"
   ]
  },
  {
   "cell_type": "code",
   "execution_count": null,
   "id": "80cfacb2",
   "metadata": {
    "papermill": {
     "duration": null,
     "end_time": null,
     "exception": null,
     "start_time": null,
     "status": "pending"
    },
    "tags": []
   },
   "outputs": [],
   "source": [
    "# reading credentials\n",
    "\n",
    "path_aws_secrets = '/home/ubuntu/project/Insiders-Loyalty-Program/src/secrets/'\n",
    "secrets_json = open( path_aws_secrets + 'secrets.json')\n",
    "\n",
    "secrets = json.load( secrets_json)\n",
    "\n",
    "dialect =   secrets[\"dialect\"]\n",
    "driver =    secrets[\"driver\"]\n",
    "host =      secrets[\"host\"]\n",
    "username =  secrets[\"username\"]\n",
    "password =  secrets[\"password\"]\n",
    "port =      secrets[\"port\"]\n",
    "database =  secrets[\"database\"]\n",
    "\n",
    "url = \"{}+{}://{}:{}@{}:{}/{}\".format(dialect, driver, username, password, host, port, database)\n",
    "\n",
    "engine = create_engine(url = url, echo = True) #, pool_pre_ping = True"
   ]
  },
  {
   "cell_type": "code",
   "execution_count": null,
   "id": "e987ae6a",
   "metadata": {
    "papermill": {
     "duration": null,
     "end_time": null,
     "exception": null,
     "start_time": null,
     "status": "pending"
    },
    "tags": []
   },
   "outputs": [],
   "source": [
    "# read_query = \"\"\"\n",
    "#     SELECT * FROM insiders i\n",
    "# \"\"\"\n",
    "# # engine.execute\n",
    "# df_sql = pd.read_sql_query(read_query, con = engine)"
   ]
  },
  {
   "cell_type": "code",
   "execution_count": null,
   "id": "4db3b87a",
   "metadata": {
    "papermill": {
     "duration": null,
     "end_time": null,
     "exception": null,
     "start_time": null,
     "status": "pending"
    },
    "tags": []
   },
   "outputs": [],
   "source": [
    "# if we had to create table manually we could use this\n",
    "# create_table = \"\"\"\n",
    "#     CREATE TABLE insiders (\n",
    "#     customer_id               INTEGER,\n",
    "#     country                   TEXT,\n",
    "#     recency                   INTEGER,\n",
    "#     avg_days_bw_purchases     REAL,\n",
    "#     num_purchases             INTEGER,\n",
    "#     tenure                    INTEGER,\n",
    "#     frequency                 REAL,\n",
    "#     revenue                   REAL,\n",
    "#     avg_ticket                REAL,\n",
    "#     qty_items                 INTEGER,\n",
    "#     avg_basket_size           REAL,\n",
    "#     avg_unique_prods          REAL,\n",
    "#     returns_revenue           REAL,\n",
    "#     avg_return_revenue        REAL,\n",
    "#     num_returns               REAL,\n",
    "#     qty_returned              REAL,\n",
    "#     embedding_x               REAL,\n",
    "#     embedding_y               REAL,\n",
    "#     cluster                   TEXT,\n",
    "#     cluster_name              TEXT\n",
    "#     )\n",
    "# \"\"\""
   ]
  },
  {
   "cell_type": "code",
   "execution_count": null,
   "id": "adfb553b",
   "metadata": {
    "papermill": {
     "duration": null,
     "end_time": null,
     "exception": null,
     "start_time": null,
     "status": "pending"
    },
    "tags": []
   },
   "outputs": [],
   "source": [
    "# inserting data\n",
    "df_result.to_sql('insiders', con = engine, if_exists='replace', index = False )"
   ]
  },
  {
   "cell_type": "code",
   "execution_count": null,
   "id": "cb9f5e16",
   "metadata": {
    "papermill": {
     "duration": null,
     "end_time": null,
     "exception": null,
     "start_time": null,
     "status": "pending"
    },
    "tags": []
   },
   "outputs": [],
   "source": [
    "# drop_table_query = \"\"\"\n",
    "#     DROP TABLE insiders\n",
    "# \"\"\"\n",
    "# engine.execute(drop_table_query)\n"
   ]
  },
  {
   "cell_type": "code",
   "execution_count": null,
   "id": "5e12857a",
   "metadata": {
    "papermill": {
     "duration": null,
     "end_time": null,
     "exception": null,
     "start_time": null,
     "status": "pending"
    },
    "tags": []
   },
   "outputs": [],
   "source": [
    "query = \"\"\"\n",
    "    SELECT *\n",
    "    FROM insiders\n",
    "\"\"\"\n",
    "\n",
    "df_sql = pd.read_sql_query(query, con = engine)"
   ]
  },
  {
   "cell_type": "code",
   "execution_count": null,
   "id": "f5a88fe2",
   "metadata": {
    "papermill": {
     "duration": null,
     "end_time": null,
     "exception": null,
     "start_time": null,
     "status": "pending"
    },
    "tags": []
   },
   "outputs": [],
   "source": [
    "# closing the connection\n",
    "# conn.invalidate()\n",
    "engine.dispose()"
   ]
  },
  {
   "cell_type": "code",
   "execution_count": null,
   "id": "3a6e0683",
   "metadata": {
    "papermill": {
     "duration": null,
     "end_time": null,
     "exception": null,
     "start_time": null,
     "status": "pending"
    },
    "tags": []
   },
   "outputs": [],
   "source": [
    "sns.scatterplot( data = df_sql, x = 'embedding_x', y = 'embedding_y', hue = 'cluster_name', palette = 'husl');"
   ]
  },
  {
   "cell_type": "code",
   "execution_count": null,
   "id": "1ea435e6",
   "metadata": {
    "papermill": {
     "duration": null,
     "end_time": null,
     "exception": null,
     "start_time": null,
     "status": "pending"
    },
    "tags": []
   },
   "outputs": [],
   "source": [
    "sns.scatterplot( data = df_result, x = 'embedding_x', y = 'embedding_y', hue = 'cluster_name', palette = 'husl');"
   ]
  },
  {
   "cell_type": "code",
   "execution_count": null,
   "id": "867e1b04",
   "metadata": {
    "papermill": {
     "duration": null,
     "end_time": null,
     "exception": null,
     "start_time": null,
     "status": "pending"
    },
    "tags": []
   },
   "outputs": [],
   "source": [
    "df_sql.cluster_name.unique()"
   ]
  },
  {
   "cell_type": "markdown",
   "id": "b5266438",
   "metadata": {
    "papermill": {
     "duration": null,
     "end_time": null,
     "exception": null,
     "start_time": null,
     "status": "pending"
    },
    "tags": []
   },
   "source": [
    "### Dashboard deployed at: [Insiders Program Clustering - Metabase](http://insiders-project-metabase-dash.herokuapp.com/public/dashboard/3300265c-e4ae-4a82-ab54-1b5de68e19d2)"
   ]
  },
  {
   "cell_type": "markdown",
   "id": "6a4f319a",
   "metadata": {
    "papermill": {
     "duration": null,
     "end_time": null,
     "exception": null,
     "start_time": null,
     "status": "pending"
    },
    "tags": []
   },
   "source": [
    "TO DO:\n",
    "- verify aws packages (OK)\n",
    "- make a visualization dashboard (OK)\n",
    "- automate reports with:\n",
    "    - crontab (OK)\n",
    "    - github actions\n",
    "- automate ec2 to turn on and off"
   ]
  }
 ],
 "metadata": {
  "interpreter": {
   "hash": "4be9c22c924916f4f0290c88182d986b0302ce23f90563ec15842ba76b709463"
  },
  "kernelspec": {
   "display_name": "Python 3.8.0 64-bit ('insiders')",
   "language": "python",
   "name": "python3"
  },
  "language_info": {
   "codemirror_mode": {
    "name": "ipython",
    "version": 3
   },
   "file_extension": ".py",
   "mimetype": "text/x-python",
   "name": "python",
   "nbconvert_exporter": "python",
   "pygments_lexer": "ipython3",
   "version": "3.8.0"
  },
  "papermill": {
   "default_parameters": {},
   "duration": 81.192246,
   "end_time": "2022-05-19T17:57:09.852424",
   "environment_variables": {},
   "exception": true,
   "input_path": "/home/ubuntu/project/Insiders-Loyalty-Program/src/notebooks/c18-deploy-v2.ipynb",
   "output_path": "/home/ubuntu/project/Insiders-Loyalty-Program/src/logs/c18-deploy-v2.ipynb-date:2022-05-19--17:55:47.ipynb",
   "parameters": {},
   "start_time": "2022-05-19T17:55:48.660178",
   "version": "2.3.4"
  }
 },
 "nbformat": 4,
 "nbformat_minor": 5
}