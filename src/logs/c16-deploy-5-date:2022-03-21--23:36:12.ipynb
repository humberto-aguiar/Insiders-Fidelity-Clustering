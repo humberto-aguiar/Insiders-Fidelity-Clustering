{
 "cells": [
  {
   "cell_type": "markdown",
   "id": "fe85194c",
   "metadata": {
    "papermill": {
     "duration": 0.087057,
     "end_time": "2022-03-21T23:36:15.439459",
     "exception": false,
     "start_time": "2022-03-21T23:36:15.352402",
     "status": "completed"
    },
    "tags": []
   },
   "source": [
    "# 0.0 Imports"
   ]
  },
  {
   "cell_type": "markdown",
   "id": "cab0f096",
   "metadata": {
    "papermill": {
     "duration": 0.087718,
     "end_time": "2022-03-21T23:36:15.619104",
     "exception": false,
     "start_time": "2022-03-21T23:36:15.531386",
     "status": "completed"
    },
    "tags": []
   },
   "source": [
    "## 0.1 Imports"
   ]
  },
  {
   "cell_type": "code",
   "execution_count": 1,
   "id": "45ed90a3",
   "metadata": {
    "execution": {
     "iopub.execute_input": "2022-03-21T23:36:15.798150Z",
     "iopub.status.busy": "2022-03-21T23:36:15.797470Z",
     "iopub.status.idle": "2022-03-21T23:36:23.547454Z",
     "shell.execute_reply": "2022-03-21T23:36:23.546774Z"
    },
    "papermill": {
     "duration": 7.843451,
     "end_time": "2022-03-21T23:36:23.549935",
     "exception": false,
     "start_time": "2022-03-21T23:36:15.706484",
     "status": "completed"
    },
    "tags": []
   },
   "outputs": [
    {
     "name": "stderr",
     "output_type": "stream",
     "text": [
      "/home/ubuntu/.pyenv/versions/3.8.0/envs/insiders_deploy/lib/python3.8/site-packages/tqdm/auto.py:22: TqdmWarning: IProgress not found. Please update jupyter and ipywidgets. See https://ipywidgets.readthedocs.io/en/stable/user_install.html\n",
      "  from .autonotebook import tqdm as notebook_tqdm\n"
     ]
    }
   ],
   "source": [
    "import pandas as pd\n",
    "import numpy as np\n",
    "import matplotlib.pyplot as plt\n",
    "import seaborn as sns\n",
    "import inflection\n",
    "import re\n",
    "import s3fs \n",
    "import json\n",
    "from datetime import datetime\n",
    "\n",
    "from sklearn.ensemble import RandomForestRegressor\n",
    "from sklearn.cluster import DBSCAN\n",
    "\n",
    "from umap import UMAP\n",
    "\n",
    "from sqlalchemy import create_engine\n",
    "\n",
    "import gc\n",
    "import psycopg2"
   ]
  },
  {
   "cell_type": "markdown",
   "id": "4104fef8",
   "metadata": {
    "papermill": {
     "duration": 0.094802,
     "end_time": "2022-03-21T23:36:23.740305",
     "exception": false,
     "start_time": "2022-03-21T23:36:23.645503",
     "status": "completed"
    },
    "tags": []
   },
   "source": [
    "## 0.2 Helper Functions\n",
    "\n"
   ]
  },
  {
   "cell_type": "code",
   "execution_count": 2,
   "id": "a1241798",
   "metadata": {
    "execution": {
     "iopub.execute_input": "2022-03-21T23:36:23.935138Z",
     "iopub.status.busy": "2022-03-21T23:36:23.934444Z",
     "iopub.status.idle": "2022-03-21T23:36:23.945106Z",
     "shell.execute_reply": "2022-03-21T23:36:23.944517Z"
    },
    "papermill": {
     "duration": 0.111293,
     "end_time": "2022-03-21T23:36:23.947145",
     "exception": false,
     "start_time": "2022-03-21T23:36:23.835852",
     "status": "completed"
    },
    "tags": []
   },
   "outputs": [],
   "source": [
    "# Defining some plot settings\n",
    "def jupyter_settings():\n",
    "    %matplotlib inline\n",
    "    #%pylab inline\n",
    "    #matplotlib notebook\n",
    "    plt.style.use( 'bmh' )\n",
    "    plt.rcParams['figure.figsize'] = [25, 12]\n",
    "    plt.rcParams['font.size'] = 24\n",
    "    # display( HTML( '<style>.container { width:100% !important; }</style>') )\n",
    "    pd.options.display.max_columns = None\n",
    "    pd.options.display.max_rows = None\n",
    "    pd.set_option( 'display.expand_frame_repr', False )\n",
    "    sns.set()\n",
    "\n",
    "jupyter_settings()"
   ]
  },
  {
   "cell_type": "markdown",
   "id": "c6945596",
   "metadata": {
    "heading_collapsed": true,
    "papermill": {
     "duration": 0.093493,
     "end_time": "2022-03-21T23:36:24.134607",
     "exception": false,
     "start_time": "2022-03-21T23:36:24.041114",
     "status": "completed"
    },
    "tags": []
   },
   "source": [
    "## 0.4 Columns Description\n",
    "\n"
   ]
  },
  {
   "cell_type": "markdown",
   "id": "2ad157b3",
   "metadata": {
    "papermill": {
     "duration": 0.094863,
     "end_time": "2022-03-21T23:36:24.327078",
     "exception": false,
     "start_time": "2022-03-21T23:36:24.232215",
     "status": "completed"
    },
    "tags": []
   },
   "source": [
    "### Attribute Description\n",
    "- InvoiceNo Invoice number (A 6-digit integral number uniquely assigned to each transaction)\n",
    "- StockCode Product (item) code\n",
    "- Description Product (item) name\n",
    "- Quantity The quantities of each product (item) per transaction\n",
    "- InvoiceDate The day when each transaction was generated\n",
    "- UnitPrice Unit price (Product price per unit)\n",
    "- CustomerID Customer number (Unique ID assigned to each customer)\n",
    "- Country Country name (The name of the country where each customer resides)"
   ]
  },
  {
   "cell_type": "markdown",
   "id": "d6250062",
   "metadata": {
    "papermill": {
     "duration": 0.088708,
     "end_time": "2022-03-21T23:36:24.505113",
     "exception": false,
     "start_time": "2022-03-21T23:36:24.416405",
     "status": "completed"
    },
    "tags": []
   },
   "source": [
    "# Adding data to postgress db"
   ]
  },
  {
   "cell_type": "code",
   "execution_count": 3,
   "id": "acde8927",
   "metadata": {
    "execution": {
     "iopub.execute_input": "2022-03-21T23:36:24.696886Z",
     "iopub.status.busy": "2022-03-21T23:36:24.696219Z",
     "iopub.status.idle": "2022-03-21T23:36:24.699761Z",
     "shell.execute_reply": "2022-03-21T23:36:24.699154Z"
    },
    "papermill": {
     "duration": 0.102404,
     "end_time": "2022-03-21T23:36:24.703011",
     "exception": false,
     "start_time": "2022-03-21T23:36:24.600607",
     "status": "completed"
    },
    "tags": []
   },
   "outputs": [],
   "source": [
    "# df1 = pd.read_csv('/home/humberto/DS/insiders_clustering/data/raw/ecommerce.csv', encoding='ISO-8859-1', sep = ',')\n"
   ]
  },
  {
   "cell_type": "code",
   "execution_count": 4,
   "id": "93c66fe8",
   "metadata": {
    "execution": {
     "iopub.execute_input": "2022-03-21T23:36:24.889275Z",
     "iopub.status.busy": "2022-03-21T23:36:24.888612Z",
     "iopub.status.idle": "2022-03-21T23:36:24.893774Z",
     "shell.execute_reply": "2022-03-21T23:36:24.893165Z"
    },
    "papermill": {
     "duration": 0.101078,
     "end_time": "2022-03-21T23:36:24.895853",
     "exception": false,
     "start_time": "2022-03-21T23:36:24.794775",
     "status": "completed"
    },
    "tags": []
   },
   "outputs": [],
   "source": [
    "# # reading credentials\n",
    "\n",
    "# # aws credentiasl\n",
    "# # path_aws_secrets = '/home/ubuntu/project/Insiders-Loyalty-Program/src/'\n",
    "# # secrets_json = open( path_aws_secrets + 'secrets-heroku.json')\n",
    "\n",
    "# # local credentiasl\n",
    "# secrets_json = open( '../secrets-heroku.json')\n",
    "\n",
    "# secrets = json.load(secrets_json)\n",
    "\n",
    "# dialect =   secrets[\"dialect\"]\n",
    "# driver =    secrets[\"driver\"]\n",
    "# host =      secrets[\"host\"]\n",
    "# username =  secrets[\"username\"]\n",
    "# password =  secrets[\"password\"]\n",
    "# port =      secrets[\"port\"]\n",
    "# database =  secrets[\"database\"]\n",
    "\n",
    "# url = \"{}+{}://{}:{}@{}:{}/{}\".format(dialect, driver, username, password, host, port, database)\n",
    "\n",
    "# url \n",
    "\n",
    "# dbschema = 'public'\n",
    "\n",
    "# # connecting to db\n",
    "# engine = create_engine(url = url, echo = True, connect_args={'options': '-csearch_path={}'.format(dbschema)} ) #, pool_pre_ping = True\n",
    "# conn = engine.connect()"
   ]
  },
  {
   "cell_type": "code",
   "execution_count": 5,
   "id": "e8772db5",
   "metadata": {
    "execution": {
     "iopub.execute_input": "2022-03-21T23:36:25.075404Z",
     "iopub.status.busy": "2022-03-21T23:36:25.074723Z",
     "iopub.status.idle": "2022-03-21T23:36:25.078026Z",
     "shell.execute_reply": "2022-03-21T23:36:25.077417Z"
    },
    "papermill": {
     "duration": 0.096932,
     "end_time": "2022-03-21T23:36:25.081300",
     "exception": false,
     "start_time": "2022-03-21T23:36:24.984368",
     "status": "completed"
    },
    "tags": []
   },
   "outputs": [],
   "source": [
    "# df1.to_sql('insiders_raw', con = engine)"
   ]
  },
  {
   "cell_type": "code",
   "execution_count": 6,
   "id": "dfa20020",
   "metadata": {
    "execution": {
     "iopub.execute_input": "2022-03-21T23:36:25.306137Z",
     "iopub.status.busy": "2022-03-21T23:36:25.305467Z",
     "iopub.status.idle": "2022-03-21T23:36:25.308683Z",
     "shell.execute_reply": "2022-03-21T23:36:25.308086Z"
    },
    "papermill": {
     "duration": 0.104783,
     "end_time": "2022-03-21T23:36:25.311932",
     "exception": false,
     "start_time": "2022-03-21T23:36:25.207149",
     "status": "completed"
    },
    "tags": []
   },
   "outputs": [],
   "source": [
    "# conn.invalidate()\n",
    "# engine.dispose()"
   ]
  },
  {
   "cell_type": "markdown",
   "id": "9c8b7cf4",
   "metadata": {
    "papermill": {
     "duration": 0.096328,
     "end_time": "2022-03-21T23:36:25.503505",
     "exception": false,
     "start_time": "2022-03-21T23:36:25.407177",
     "status": "completed"
    },
    "tags": []
   },
   "source": [
    "# 1.0 Data Description\n"
   ]
  },
  {
   "cell_type": "code",
   "execution_count": 7,
   "id": "736b7a8f",
   "metadata": {
    "execution": {
     "iopub.execute_input": "2022-03-21T23:36:25.699503Z",
     "iopub.status.busy": "2022-03-21T23:36:25.698825Z",
     "iopub.status.idle": "2022-03-21T23:36:25.702245Z",
     "shell.execute_reply": "2022-03-21T23:36:25.701652Z"
    },
    "papermill": {
     "duration": 0.106477,
     "end_time": "2022-03-21T23:36:25.705443",
     "exception": false,
     "start_time": "2022-03-21T23:36:25.598966",
     "status": "completed"
    },
    "tags": []
   },
   "outputs": [],
   "source": [
    "# df1 = pd.read_csv('../data/raw/ecommerce.csv', encoding='ISO-8859-1', sep = ',')\n",
    "# df1 = pd.read_csv('/home/humberto/DS/insiders_clustering/data/raw/ecommerce.csv', encoding='ISO-8859-1', sep = ',')\n",
    "\n",
    "# Reading data from S3 Bucket:\n",
    "# path_s3 = 'https://insiders-raw-data-bucket.s3.sa-east-1.amazonaws.com/raw/'\n",
    "# df1 = pd.read_csv( path_s3 + 'ecommerce.csv', encoding='ISO-8859-1')"
   ]
  },
  {
   "cell_type": "code",
   "execution_count": 8,
   "id": "7482caeb",
   "metadata": {
    "execution": {
     "iopub.execute_input": "2022-03-21T23:36:25.895451Z",
     "iopub.status.busy": "2022-03-21T23:36:25.894771Z",
     "iopub.status.idle": "2022-03-21T23:36:27.655528Z",
     "shell.execute_reply": "2022-03-21T23:36:27.654895Z"
    },
    "papermill": {
     "duration": 1.861964,
     "end_time": "2022-03-21T23:36:27.657811",
     "exception": false,
     "start_time": "2022-03-21T23:36:25.795847",
     "status": "completed"
    },
    "tags": []
   },
   "outputs": [
    {
     "name": "stdout",
     "output_type": "stream",
     "text": [
      "2022-03-21 23:36:26,971 INFO sqlalchemy.engine.Engine select pg_catalog.version()\n"
     ]
    },
    {
     "name": "stdout",
     "output_type": "stream",
     "text": [
      "2022-03-21 23:36:26,973 INFO sqlalchemy.engine.Engine [raw sql] {}\n"
     ]
    },
    {
     "name": "stdout",
     "output_type": "stream",
     "text": [
      "2022-03-21 23:36:27,199 INFO sqlalchemy.engine.Engine select current_schema()\n"
     ]
    },
    {
     "name": "stdout",
     "output_type": "stream",
     "text": [
      "2022-03-21 23:36:27,201 INFO sqlalchemy.engine.Engine [raw sql] {}\n"
     ]
    },
    {
     "name": "stdout",
     "output_type": "stream",
     "text": [
      "2022-03-21 23:36:27,426 INFO sqlalchemy.engine.Engine show standard_conforming_strings\n"
     ]
    },
    {
     "name": "stdout",
     "output_type": "stream",
     "text": [
      "2022-03-21 23:36:27,428 INFO sqlalchemy.engine.Engine [raw sql] {}\n"
     ]
    }
   ],
   "source": [
    "# reading data from postgresql instead of aws s3\n",
    "\n",
    "# reading credentials\n",
    "\n",
    "# aws credentiasl\n",
    "path_aws_secrets = '/home/ubuntu/project/Insiders-Loyalty-Program/src/'\n",
    "secrets_json = open( path_aws_secrets + 'secrets-heroku.json')\n",
    "\n",
    "# local credentiasl\n",
    "# secrets_json = open( '../secrets-heroku.json')\n",
    "\n",
    "secrets = json.load(secrets_json)\n",
    "\n",
    "dialect =   secrets[\"dialect\"]\n",
    "driver =    secrets[\"driver\"]\n",
    "host =      secrets[\"host\"]\n",
    "username =  secrets[\"username\"]\n",
    "password =  secrets[\"password\"]\n",
    "port =      secrets[\"port\"]\n",
    "database =  secrets[\"database\"]\n",
    "\n",
    "url = \"{}+{}://{}:{}@{}:{}/{}\".format(dialect, driver, username, password, host, port, database)\n",
    "\n",
    "url \n",
    "\n",
    "dbschema = 'public'\n",
    "\n",
    "# connecting to db\n",
    "engine = create_engine(url = url, echo = True, connect_args={'options': '-csearch_path={}'.format(dbschema)} ) #, pool_pre_ping = True\n",
    "conn = engine.connect()"
   ]
  },
  {
   "cell_type": "code",
   "execution_count": 9,
   "id": "66a314da",
   "metadata": {
    "execution": {
     "iopub.execute_input": "2022-03-21T23:36:27.846722Z",
     "iopub.status.busy": "2022-03-21T23:36:27.846049Z"
    },
    "papermill": {
     "duration": 28.656858,
     "end_time": "2022-03-21T23:36:56.407218",
     "exception": false,
     "start_time": "2022-03-21T23:36:27.750360",
     "status": "completed"
    },
    "tags": []
   },
   "outputs": [
    {
     "name": "stdout",
     "output_type": "stream",
     "text": [
      "2022-03-21 23:36:27,848 INFO sqlalchemy.engine.Engine \n",
      "    SELECT *\n",
      "    FROM insiders_raw\n",
      "\n"
     ]
    },
    {
     "name": "stdout",
     "output_type": "stream",
     "text": [
      "2022-03-21 23:36:27,851 INFO sqlalchemy.engine.Engine [raw sql] {}\n"
     ]
    }
   ],
   "source": [
    "# defining query\n",
    "query = \"\"\"\n",
    "    SELECT *\n",
    "    FROM insiders_raw\n",
    "\"\"\"\n",
    "\n",
    "df1 = pd.read_sql_query( query, con = conn )"
   ]
  },
  {
   "cell_type": "code",
   "execution_count": null,
   "id": "c8a18753",
   "metadata": {
    "papermill": {
     "duration": null,
     "end_time": null,
     "exception": null,
     "start_time": null,
     "status": "completed"
    },
    "tags": []
   },
   "outputs": [],
   "source": [
    "conn.invalidate()\n",
    "engine.dispose()"
   ]
  },
  {
   "cell_type": "code",
   "execution_count": null,
   "id": "ec7bfb49",
   "metadata": {
    "papermill": {
     "duration": null,
     "end_time": null,
     "exception": null,
     "start_time": null,
     "status": "completed"
    },
    "tags": []
   },
   "outputs": [],
   "source": [
    "# df1_s3.info()"
   ]
  },
  {
   "cell_type": "code",
   "execution_count": null,
   "id": "ef46f80d",
   "metadata": {
    "papermill": {
     "duration": null,
     "end_time": null,
     "exception": null,
     "start_time": null,
     "status": "completed"
    },
    "tags": []
   },
   "outputs": [],
   "source": [
    "if df1.shape == (541909, 9):\n",
    "    print('Dimensions ok:{}'.format(df1.shape))\n",
    "else:\n",
    "    print('Dimensions differ from expected: {}'.format(df1.shape) )"
   ]
  },
  {
   "cell_type": "markdown",
   "id": "332455f2",
   "metadata": {
    "hidden": true,
    "papermill": {
     "duration": null,
     "end_time": null,
     "exception": null,
     "start_time": null,
     "status": "completed"
    },
    "tags": []
   },
   "source": [
    "## 1.1 Rename Columns"
   ]
  },
  {
   "cell_type": "code",
   "execution_count": null,
   "id": "dd0bef6f",
   "metadata": {
    "papermill": {
     "duration": null,
     "end_time": null,
     "exception": null,
     "start_time": null,
     "status": "completed"
    },
    "tags": []
   },
   "outputs": [],
   "source": [
    "cols_old = df1.columns.tolist()\n",
    "\n",
    "cols_new = [inflection.underscore(col) for col in cols_old]\n",
    "cols_new"
   ]
  },
  {
   "cell_type": "code",
   "execution_count": null,
   "id": "3e63232f",
   "metadata": {
    "papermill": {
     "duration": null,
     "end_time": null,
     "exception": null,
     "start_time": null,
     "status": "completed"
    },
    "tags": []
   },
   "outputs": [],
   "source": [
    "df1.rename(columns = dict(zip(cols_old, cols_new)), inplace = True )"
   ]
  },
  {
   "cell_type": "markdown",
   "id": "75b895d6",
   "metadata": {
    "papermill": {
     "duration": null,
     "end_time": null,
     "exception": null,
     "start_time": null,
     "status": "completed"
    },
    "tags": []
   },
   "source": [
    "## 1.2 Data Dimensions"
   ]
  },
  {
   "cell_type": "code",
   "execution_count": null,
   "id": "1e16dc2b",
   "metadata": {
    "papermill": {
     "duration": null,
     "end_time": null,
     "exception": null,
     "start_time": null,
     "status": "completed"
    },
    "tags": []
   },
   "outputs": [],
   "source": [
    "print( 'Number of rows: {}'.format( df1.shape[0] ) )\n",
    "print( 'Number of cols: {}'.format( df1.shape[1] ) )"
   ]
  },
  {
   "cell_type": "markdown",
   "id": "7537f2b2",
   "metadata": {
    "papermill": {
     "duration": null,
     "end_time": null,
     "exception": null,
     "start_time": null,
     "status": "completed"
    },
    "tags": []
   },
   "source": [
    "## 1.3 Data Types"
   ]
  },
  {
   "cell_type": "code",
   "execution_count": null,
   "id": "b6669c04",
   "metadata": {
    "papermill": {
     "duration": null,
     "end_time": null,
     "exception": null,
     "start_time": null,
     "status": "completed"
    },
    "tags": []
   },
   "outputs": [],
   "source": [
    "df1.dtypes"
   ]
  },
  {
   "cell_type": "markdown",
   "id": "027726e2",
   "metadata": {
    "papermill": {
     "duration": null,
     "end_time": null,
     "exception": null,
     "start_time": null,
     "status": "completed"
    },
    "tags": []
   },
   "source": [
    "## 1.4 NA Check"
   ]
  },
  {
   "cell_type": "code",
   "execution_count": null,
   "id": "05da24fe",
   "metadata": {
    "papermill": {
     "duration": null,
     "end_time": null,
     "exception": null,
     "start_time": null,
     "status": "completed"
    },
    "tags": []
   },
   "outputs": [],
   "source": [
    "df1.isna().sum()/df1.shape[0]*100"
   ]
  },
  {
   "cell_type": "code",
   "execution_count": null,
   "id": "79e3ddfc",
   "metadata": {
    "papermill": {
     "duration": null,
     "end_time": null,
     "exception": null,
     "start_time": null,
     "status": "completed"
    },
    "tags": []
   },
   "outputs": [],
   "source": [
    "df1.drop(columns=['unnamed: 8'], inplace = True)\n",
    "df1.columns"
   ]
  },
  {
   "cell_type": "markdown",
   "id": "ce4654d9",
   "metadata": {
    "papermill": {
     "duration": null,
     "end_time": null,
     "exception": null,
     "start_time": null,
     "status": "completed"
    },
    "tags": []
   },
   "source": [
    "## 1.5 NA Fillout"
   ]
  },
  {
   "cell_type": "code",
   "execution_count": null,
   "id": "4f9b2308",
   "metadata": {
    "papermill": {
     "duration": null,
     "end_time": null,
     "exception": null,
     "start_time": null,
     "status": "completed"
    },
    "tags": []
   },
   "outputs": [],
   "source": [
    "df1.dropna(subset=['customer_id'], axis = 0, inplace =  True)\n",
    "df1.isna().sum()"
   ]
  },
  {
   "cell_type": "markdown",
   "id": "0e8c8095",
   "metadata": {
    "papermill": {
     "duration": null,
     "end_time": null,
     "exception": null,
     "start_time": null,
     "status": "completed"
    },
    "tags": []
   },
   "source": [
    "## 1.6 Changing Data Types\n"
   ]
  },
  {
   "cell_type": "code",
   "execution_count": null,
   "id": "fefd1126",
   "metadata": {
    "papermill": {
     "duration": null,
     "end_time": null,
     "exception": null,
     "start_time": null,
     "status": "completed"
    },
    "tags": []
   },
   "outputs": [],
   "source": [
    "df1.head()"
   ]
  },
  {
   "cell_type": "code",
   "execution_count": null,
   "id": "67c69de2",
   "metadata": {
    "papermill": {
     "duration": null,
     "end_time": null,
     "exception": null,
     "start_time": null,
     "status": "completed"
    },
    "tags": []
   },
   "outputs": [],
   "source": [
    "df1.dtypes"
   ]
  },
  {
   "cell_type": "code",
   "execution_count": null,
   "id": "e2ed734c",
   "metadata": {
    "papermill": {
     "duration": null,
     "end_time": null,
     "exception": null,
     "start_time": null,
     "status": "completed"
    },
    "tags": []
   },
   "outputs": [],
   "source": [
    "df1['invoice_date'] = pd.to_datetime( df1['invoice_date'], format = '%d-%b-%y' )\n",
    "\n",
    "df1['customer_id'] = df1['customer_id'].astype(int)\n",
    "\n",
    "df1.head()"
   ]
  },
  {
   "cell_type": "code",
   "execution_count": null,
   "id": "97aa3cbf",
   "metadata": {
    "papermill": {
     "duration": null,
     "end_time": null,
     "exception": null,
     "start_time": null,
     "status": "completed"
    },
    "tags": []
   },
   "outputs": [],
   "source": [
    "df1.dtypes"
   ]
  },
  {
   "cell_type": "markdown",
   "id": "7c2a4a62",
   "metadata": {
    "papermill": {
     "duration": null,
     "end_time": null,
     "exception": null,
     "start_time": null,
     "status": "completed"
    },
    "tags": []
   },
   "source": [
    "## 1.7 Descriptive Statistics"
   ]
  },
  {
   "cell_type": "markdown",
   "id": "31952708",
   "metadata": {
    "papermill": {
     "duration": null,
     "end_time": null,
     "exception": null,
     "start_time": null,
     "status": "completed"
    },
    "tags": []
   },
   "source": [
    "### 1.7.1 Numerical Attributes"
   ]
  },
  {
   "cell_type": "code",
   "execution_count": null,
   "id": "aaa6ac29",
   "metadata": {
    "papermill": {
     "duration": null,
     "end_time": null,
     "exception": null,
     "start_time": null,
     "status": "completed"
    },
    "tags": []
   },
   "outputs": [],
   "source": [
    "num_att = df1.select_dtypes(include= ['int','float'])\n",
    "d1 = pd.DataFrame( num_att.min() ).T\n",
    "d2 = pd.DataFrame( num_att.max() ).T\n",
    "d3 = pd.DataFrame( num_att.max() - num_att.min() ).T\n",
    "d4 = pd.DataFrame( num_att.mean() ).T\n",
    "d5 = pd.DataFrame( num_att.median() ).T\n",
    "d6 = pd.DataFrame( num_att.std() ).T\n",
    "d7 = pd.DataFrame( num_att.skew() ).T\n",
    "d8 = pd.DataFrame( num_att.kurtosis() ).T\n",
    "\n",
    "desc = pd.concat( [d1, d2, d3, d4, d5, d6, d7, d8] ).T\n",
    "desc.columns = ['min', 'max', 'range', 'mean', 'median', 'std', 'skew', 'kurtosis' ]\n",
    "desc.style.format( \"{:,.2f}\" )"
   ]
  },
  {
   "cell_type": "markdown",
   "id": "7d03b4f3",
   "metadata": {
    "heading_collapsed": true,
    "papermill": {
     "duration": null,
     "end_time": null,
     "exception": null,
     "start_time": null,
     "status": "completed"
    },
    "tags": []
   },
   "source": [
    "# 2.0 Data Filtering"
   ]
  },
  {
   "cell_type": "markdown",
   "id": "ba9514f9",
   "metadata": {
    "papermill": {
     "duration": null,
     "end_time": null,
     "exception": null,
     "start_time": null,
     "status": "completed"
    },
    "tags": []
   },
   "source": [
    "## 2.1 Data Inspection"
   ]
  },
  {
   "cell_type": "code",
   "execution_count": null,
   "id": "34e44ef2",
   "metadata": {
    "papermill": {
     "duration": null,
     "end_time": null,
     "exception": null,
     "start_time": null,
     "status": "completed"
    },
    "tags": []
   },
   "outputs": [],
   "source": [
    "df2 = df1.copy()\n",
    "\n",
    "del df1\n",
    "gc.collect()"
   ]
  },
  {
   "cell_type": "markdown",
   "id": "dd68be3b",
   "metadata": {
    "papermill": {
     "duration": null,
     "end_time": null,
     "exception": null,
     "start_time": null,
     "status": "completed"
    },
    "tags": []
   },
   "source": [
    "### Stock Code"
   ]
  },
  {
   "cell_type": "code",
   "execution_count": null,
   "id": "2479bcbd",
   "metadata": {
    "papermill": {
     "duration": null,
     "end_time": null,
     "exception": null,
     "start_time": null,
     "status": "completed"
    },
    "tags": []
   },
   "outputs": [],
   "source": [
    "# selecting rows with only non digits\n",
    "df_stock = df2.loc[df2['stock_code'].apply( lambda x: bool(re.search('^[\\D]+$', x)) )]\n",
    "df_stock.head(10)"
   ]
  },
  {
   "cell_type": "code",
   "execution_count": null,
   "id": "d2e90690",
   "metadata": {
    "papermill": {
     "duration": null,
     "end_time": null,
     "exception": null,
     "start_time": null,
     "status": "completed"
    },
    "tags": []
   },
   "outputs": [],
   "source": [
    "# values to remove\n",
    "drop_stock = df_stock['stock_code'].unique().tolist()\n",
    "\n",
    "df_stock['stock_code'].value_counts()"
   ]
  },
  {
   "cell_type": "markdown",
   "id": "f3b0dbd2",
   "metadata": {
    "papermill": {
     "duration": null,
     "end_time": null,
     "exception": null,
     "start_time": null,
     "status": "completed"
    },
    "tags": []
   },
   "source": [
    "### Country"
   ]
  },
  {
   "cell_type": "code",
   "execution_count": null,
   "id": "8ea5a11e",
   "metadata": {
    "papermill": {
     "duration": null,
     "end_time": null,
     "exception": null,
     "start_time": null,
     "status": "completed"
    },
    "tags": []
   },
   "outputs": [],
   "source": [
    "#countries to drop\n",
    "drop_country = ['Unspecified', 'European Community']"
   ]
  },
  {
   "cell_type": "markdown",
   "id": "9aed0592",
   "metadata": {
    "papermill": {
     "duration": null,
     "end_time": null,
     "exception": null,
     "start_time": null,
     "status": "completed"
    },
    "tags": []
   },
   "source": [
    "## 2.2 Data Filtering"
   ]
  },
  {
   "cell_type": "code",
   "execution_count": null,
   "id": "6c3ce2fb",
   "metadata": {
    "papermill": {
     "duration": null,
     "end_time": null,
     "exception": null,
     "start_time": null,
     "status": "completed"
    },
    "tags": []
   },
   "outputs": [],
   "source": [
    "# dropping stock code\n",
    "df2 = df2.loc[~ df2['stock_code'].isin(drop_stock)]\n",
    "\n",
    "# dropping countries\n",
    "df2 = df2.loc[~ df2['country'].isin(drop_country)]\n"
   ]
  },
  {
   "cell_type": "markdown",
   "id": "e5cdd335",
   "metadata": {
    "papermill": {
     "duration": null,
     "end_time": null,
     "exception": null,
     "start_time": null,
     "status": "completed"
    },
    "tags": []
   },
   "source": [
    "# 3.0 Feature Engineering"
   ]
  },
  {
   "cell_type": "markdown",
   "id": "cbbeea93",
   "metadata": {
    "papermill": {
     "duration": null,
     "end_time": null,
     "exception": null,
     "start_time": null,
     "status": "completed"
    },
    "tags": []
   },
   "source": [
    "Now lets calculate recency, frequency and monetary using only purchases (not considering returns as a interaction)"
   ]
  },
  {
   "cell_type": "code",
   "execution_count": null,
   "id": "a21e2918",
   "metadata": {
    "papermill": {
     "duration": null,
     "end_time": null,
     "exception": null,
     "start_time": null,
     "status": "completed"
    },
    "tags": []
   },
   "outputs": [],
   "source": [
    "# Reading Data\n",
    "df3 = df2.copy()\n",
    "\n",
    "# df3 = pd.read_csv('../data/interim/df2.csv', float_precision='round_trip')\n",
    "# df3['invoice_date'] = pd.to_datetime( df3['invoice_date'] )\n",
    "\n",
    "# separating returns from purchases\n",
    "df_returns = df3.loc[ df3['quantity'] < 0 ]\n",
    "df_purchases = df3.loc[ df3['quantity'] >= 0 ]\n",
    "\n",
    "del df2\n",
    "gc.collect()"
   ]
  },
  {
   "cell_type": "markdown",
   "id": "cb361ae0",
   "metadata": {
    "papermill": {
     "duration": null,
     "end_time": null,
     "exception": null,
     "start_time": null,
     "status": "completed"
    },
    "tags": []
   },
   "source": [
    "### Recency"
   ]
  },
  {
   "cell_type": "code",
   "execution_count": null,
   "id": "7ecb3404",
   "metadata": {
    "papermill": {
     "duration": null,
     "end_time": null,
     "exception": null,
     "start_time": null,
     "status": "completed"
    },
    "tags": []
   },
   "outputs": [],
   "source": [
    "# days since last purchase (considering first day as day after last invoice)\n",
    "df_recency = df_purchases[['customer_id', 'invoice_date']].copy()\n",
    "df_recency = df_recency.drop_duplicates(subset = 'customer_id', keep = 'last')\n",
    "\n",
    "# using final date as max date + 1\n",
    "df_recency['recency'] =  (pd.to_datetime('2017-12-08') - df_recency['invoice_date']).dt.days\n",
    "df_recency.drop(columns=['invoice_date'], inplace = True)\n"
   ]
  },
  {
   "cell_type": "markdown",
   "id": "fc34250e",
   "metadata": {
    "papermill": {
     "duration": null,
     "end_time": null,
     "exception": null,
     "start_time": null,
     "status": "completed"
    },
    "tags": []
   },
   "source": [
    "### Average Days Between Purchases"
   ]
  },
  {
   "cell_type": "code",
   "execution_count": null,
   "id": "65ec8fc5",
   "metadata": {
    "papermill": {
     "duration": null,
     "end_time": null,
     "exception": null,
     "start_time": null,
     "status": "completed"
    },
    "tags": []
   },
   "outputs": [],
   "source": [
    "df_dates = df_purchases[['customer_id', 'invoice_date']].copy()\n",
    "\n",
    "# creates a column with the dates shifted by 1 to calculate difference betwenn last purchase and previous purchase\n",
    "df_dates = df_dates.drop_duplicates()\n",
    "df_dates['previous_date'] = df_dates.groupby('customer_id')['invoice_date'].shift()\n",
    "\n",
    "# extracts days betwenn last purchase and previous purchase for each pair of dates\n",
    "df_dates['days'] = df_dates.apply(lambda x : (x['invoice_date'] - x['previous_date']).days , axis = 1 )\n",
    "\n",
    "# calculating average of days between purchases\n",
    "df_dates = df_dates[['customer_id', 'days']].groupby('customer_id').mean().reset_index().rename(columns = {'days': 'avg_days_bw_purchases'})\n",
    "\n",
    "df_dates.fillna(value = 0, inplace = True)\n",
    "# df_dates.head()"
   ]
  },
  {
   "cell_type": "code",
   "execution_count": null,
   "id": "6e9f8148",
   "metadata": {
    "papermill": {
     "duration": null,
     "end_time": null,
     "exception": null,
     "start_time": null,
     "status": "completed"
    },
    "tags": []
   },
   "outputs": [],
   "source": [
    "df_dates = df_purchases[['customer_id', 'invoice_date']].copy()\n",
    "\n",
    "# creates a column with the dates shifted by 1 to calculate difference betwenn last purchase and previous purchase\n",
    "df_dates = df_dates.drop_duplicates()\n",
    "df_dates['previous_date'] = df_dates.groupby('customer_id')['invoice_date'].shift()\n",
    "\n",
    "# # extracts days betwenn last purchase and previous purchase for each pair of dates\n",
    "df_dates['days'] = df_dates.apply(lambda x : (x['invoice_date'] - x['previous_date']).days , axis = 1 )\n",
    "\n",
    "# # calculating average of days between purchases\n",
    "df_dates = df_dates[['customer_id', 'days']].groupby('customer_id').mean().reset_index().rename(columns = {'days': 'avg_days_bw_purchases'})\n",
    "\n",
    "df_dates.fillna(value = 0, inplace = True)\n",
    "# df_dates.isna().sum()\n",
    "# df_dates[df_dates.customer_id == 12346] #.mean()\n",
    "# df_dates.head()"
   ]
  },
  {
   "cell_type": "markdown",
   "id": "4a243eb3",
   "metadata": {
    "papermill": {
     "duration": null,
     "end_time": null,
     "exception": null,
     "start_time": null,
     "status": "completed"
    },
    "tags": []
   },
   "source": [
    "### Frequency"
   ]
  },
  {
   "cell_type": "code",
   "execution_count": null,
   "id": "bf59a12e",
   "metadata": {
    "papermill": {
     "duration": null,
     "end_time": null,
     "exception": null,
     "start_time": null,
     "status": "completed"
    },
    "tags": []
   },
   "outputs": [],
   "source": [
    "# Frequency\n",
    "# nº of purchases a customer did\n",
    "df_freq = df_purchases[['invoice_no', 'customer_id']].drop_duplicates('invoice_no').groupby(['customer_id']).count().reset_index().rename(columns = {'invoice_no' : 'num_purchases'} ) #'invoice_date',  #['num_of_purchases']\n",
    "\n",
    "# difference between firts and last transaction\n",
    "# if nº purchases made = 1: date range =  today - first purchase date\n",
    "# else last purchase - first purchase\n",
    "func = lambda x: (x.max() - x.min() if (x.max() - x.min()).days != 0 else pd.to_datetime('2017-12-08') - x.min() ).days\n",
    "\n",
    "# aggregating things\n",
    "df_date_range = df_purchases[[ 'customer_id', 'invoice_date' ]].groupby('customer_id').agg( func ).reset_index().rename(columns = {'invoice_date' : 'date_range'})\n",
    "\n",
    "df_freq = df_freq.merge(df_date_range, on = 'customer_id', how = 'left')\n",
    "df_freq['frequency'] = df_freq['num_purchases']/df_freq['date_range']\n",
    "\n",
    "# df_freq.head()"
   ]
  },
  {
   "cell_type": "markdown",
   "id": "377ba35e",
   "metadata": {
    "papermill": {
     "duration": null,
     "end_time": null,
     "exception": null,
     "start_time": null,
     "status": "completed"
    },
    "tags": []
   },
   "source": [
    "### Revenue"
   ]
  },
  {
   "cell_type": "code",
   "execution_count": null,
   "id": "86e8c5b8",
   "metadata": {
    "papermill": {
     "duration": null,
     "end_time": null,
     "exception": null,
     "start_time": null,
     "status": "completed"
    },
    "tags": []
   },
   "outputs": [],
   "source": [
    "# revenue\n",
    "# copying from original dataset so that revenue represents net earnings (purchases - returns)\n",
    "df_revenue = df3[['unit_price','quantity','customer_id']].copy()\n",
    "df_revenue['quantity'] = df_revenue['quantity'].astype(float)\n",
    "df_revenue['customer_spend'] = df_revenue['unit_price']*df_revenue['quantity']\n",
    "\n",
    "# calculating revenue\n",
    "df_revenue = df_revenue[['customer_id', 'customer_spend']].groupby('customer_id').sum().reset_index().rename(columns = {'customer_spend' : 'revenue'})\n",
    "\n",
    "# defining number of purchases\n",
    "df_revenue = df_revenue.merge( df_freq[['customer_id', 'num_purchases']], on = 'customer_id', how = 'left' )\n",
    "\n",
    "# calculating avg ticket\n",
    "df_revenue['avg_ticket'] = df_revenue['revenue']/df_revenue['num_purchases']\n",
    "df_revenue.drop('num_purchases', axis = 1, inplace = True)\n",
    "\n",
    "# # deleting rows that we have data about return and not about purchase (purchase outside time frame of dataset)\n",
    "df_revenue = df_revenue[ df_revenue['revenue'] > 0.1 ].copy()\n",
    "# df_revenue.head()"
   ]
  },
  {
   "cell_type": "markdown",
   "id": "376c8910",
   "metadata": {
    "papermill": {
     "duration": null,
     "end_time": null,
     "exception": null,
     "start_time": null,
     "status": "completed"
    },
    "tags": []
   },
   "source": [
    "### Basket Size"
   ]
  },
  {
   "cell_type": "code",
   "execution_count": null,
   "id": "7a951e0f",
   "metadata": {
    "papermill": {
     "duration": null,
     "end_time": null,
     "exception": null,
     "start_time": null,
     "status": "completed"
    },
    "tags": []
   },
   "outputs": [],
   "source": [
    "# selecting cols\n",
    "df_basket = df3[['customer_id', 'invoice_no', 'quantity']].copy()\n",
    "\n",
    "# counting items per invoice\n",
    "df_basket = df_basket.groupby(['customer_id', 'invoice_no']).sum().reset_index()\n",
    "\n",
    "# calculating quantity of items purchased + avg basket size (men of quantities)\n",
    "df_basket = df_basket.groupby(['customer_id']).agg( qty_items = ('quantity', 'sum'), avg_basket_size = ('quantity', 'mean') ).reset_index()\n",
    "\n",
    "# renaming\n",
    "df_basket = df_basket.rename( columns = {'quantity' : 'avg_basket_size'})\n",
    "\n",
    "# df_basket.head()"
   ]
  },
  {
   "cell_type": "markdown",
   "id": "7678e4b6",
   "metadata": {
    "papermill": {
     "duration": null,
     "end_time": null,
     "exception": null,
     "start_time": null,
     "status": "completed"
    },
    "tags": []
   },
   "source": [
    "### Average Unique Products Purchased Quantity"
   ]
  },
  {
   "cell_type": "code",
   "execution_count": null,
   "id": "2d65a99a",
   "metadata": {
    "papermill": {
     "duration": null,
     "end_time": null,
     "exception": null,
     "start_time": null,
     "status": "completed"
    },
    "tags": []
   },
   "outputs": [],
   "source": [
    "# selecting cols\n",
    "df_unique = df_purchases[['customer_id', 'invoice_no', 'stock_code']].copy()\n",
    "\n",
    "# counting number of different products per invoice\n",
    "df_unique = df_unique.groupby(['customer_id', 'invoice_no']).nunique().reset_index()\n",
    "\n",
    "# calculating mean of items per invoice\n",
    "df_unique = df_unique.groupby(['customer_id']).mean().reset_index()\n",
    "\n",
    "# # renaming\n",
    "df_unique = df_unique.rename( columns = {'stock_code' : 'avg_unique_prods'})\n",
    "\n",
    "# df_unique.head()"
   ]
  },
  {
   "cell_type": "markdown",
   "id": "97ce2f7d",
   "metadata": {
    "papermill": {
     "duration": null,
     "end_time": null,
     "exception": null,
     "start_time": null,
     "status": "completed"
    },
    "tags": []
   },
   "source": [
    "### Returns"
   ]
  },
  {
   "cell_type": "code",
   "execution_count": null,
   "id": "d16e796a",
   "metadata": {
    "papermill": {
     "duration": null,
     "end_time": null,
     "exception": null,
     "start_time": null,
     "status": "completed"
    },
    "tags": []
   },
   "outputs": [],
   "source": [
    "# creating returns variables\n",
    "\n",
    "df_returns = df_returns[['quantity', 'invoice_date', 'unit_price', 'customer_id', 'invoice_no']]\n",
    "\n",
    "df_returns['customer_spend'] = df_returns['unit_price']*df_returns['quantity']\n",
    "\n",
    "# sum and mean of revenue\n",
    "df_returns_metrics = df_returns[['customer_id', 'customer_spend', 'quantity']].groupby('customer_id').agg( \n",
    "    returns_revenue = ('customer_spend', 'sum'),\n",
    "    avg_return_revenue = ('customer_spend', 'mean'),\n",
    "    num_returns = ('customer_spend', 'count'),\n",
    "    qty_returned = ('quantity', 'sum')  )\n",
    "\n",
    "df_returns_metrics = pd.DataFrame( df_returns_metrics.to_records() )\n",
    "\n",
    "# df_returns_metrics.head()"
   ]
  },
  {
   "cell_type": "code",
   "execution_count": null,
   "id": "a8f6f72a",
   "metadata": {
    "papermill": {
     "duration": null,
     "end_time": null,
     "exception": null,
     "start_time": null,
     "status": "completed"
    },
    "tags": []
   },
   "outputs": [],
   "source": [
    "# merging every feature together\n",
    "\n",
    "df_processed = df_purchases[['customer_id', 'country']].drop_duplicates('customer_id').copy()\n",
    "df_processed = pd.merge( df_processed, df_recency, on = 'customer_id', how = 'left' )\n",
    "df_processed = pd.merge( df_processed, df_dates, on = 'customer_id', how = 'left' )\n",
    "df_processed = pd.merge( df_processed, df_freq, on = 'customer_id', how = 'left' )\n",
    "df_processed = pd.merge( df_processed, df_revenue, on = 'customer_id', how = 'inner' )\n",
    "df_processed = pd.merge( df_processed, df_basket, on = 'customer_id', how = 'left' )\n",
    "df_processed = pd.merge( df_processed, df_unique, on = 'customer_id', how = 'left' )\n",
    "df_processed = pd.merge( df_processed, df_returns_metrics, on = 'customer_id', how = 'left' )\n",
    "\n",
    "\n",
    "# filling na as 0 for customers that never returned an item\n",
    "df_processed.fillna(value = 0, inplace = True)\n",
    "\n",
    "# df_processed.dropna( inplace = True)\n",
    "# df_processed.isna().sum()\n",
    "# df_processed.head(10)\n",
    "df_processed.shape"
   ]
  },
  {
   "cell_type": "code",
   "execution_count": null,
   "id": "aa81a2f7",
   "metadata": {
    "papermill": {
     "duration": null,
     "end_time": null,
     "exception": null,
     "start_time": null,
     "status": "completed"
    },
    "tags": []
   },
   "outputs": [],
   "source": [
    "# df_processed.to_csv('../data/processed/df3_processed.csv', index = False)"
   ]
  },
  {
   "cell_type": "markdown",
   "id": "9191acf5",
   "metadata": {
    "heading_collapsed": true,
    "papermill": {
     "duration": null,
     "end_time": null,
     "exception": null,
     "start_time": null,
     "status": "completed"
    },
    "tags": []
   },
   "source": [
    "# 4.0 Exploratory Data Analysis"
   ]
  },
  {
   "cell_type": "code",
   "execution_count": null,
   "id": "7a9909ff",
   "metadata": {
    "papermill": {
     "duration": null,
     "end_time": null,
     "exception": null,
     "start_time": null,
     "status": "completed"
    },
    "tags": []
   },
   "outputs": [],
   "source": [
    "# Reading filtered data\n",
    "# df4 = pd.read_csv('../data/processed/df3_processed.csv')\n",
    "df4 = df_processed.copy()\n",
    "\n",
    "del df3, df_processed, df_returns, df_purchases \n",
    "gc.collect()"
   ]
  },
  {
   "cell_type": "markdown",
   "id": "c0211e06",
   "metadata": {
    "heading_collapsed": true,
    "hidden": true,
    "papermill": {
     "duration": null,
     "end_time": null,
     "exception": null,
     "start_time": null,
     "status": "completed"
    },
    "tags": []
   },
   "source": [
    "## 4.1 Univariate Analysis"
   ]
  },
  {
   "cell_type": "code",
   "execution_count": null,
   "id": "835df1e9",
   "metadata": {
    "papermill": {
     "duration": null,
     "end_time": null,
     "exception": null,
     "start_time": null,
     "status": "completed"
    },
    "tags": []
   },
   "outputs": [],
   "source": [
    "### Returns\n",
    "\n",
    "df4.sort_values(['returns_revenue'], ascending = True).head()\n",
    "\n",
    "# This is propably an anomaly, error, or some data purposely inserted for unknown reasons\n",
    "# df3[df3.customer_id == 16446]\n",
    "# df3[df3.customer_id == 12346]\n",
    "\n",
    "# These customers indeed appear to have returned high quantities\n",
    "# df3[df3.customer_id == 15749]\n",
    "# df3[df3.customer_id == 16029]\n",
    "# df3[df3.customer_id == 12931]\n",
    "\n",
    "# droping weird behaviour\n",
    "cust_drop = [16446, 12346]\n",
    "df4 = df4[ ~ df4['customer_id'].isin(cust_drop)].copy()"
   ]
  },
  {
   "cell_type": "code",
   "execution_count": null,
   "id": "4fd80a87",
   "metadata": {
    "papermill": {
     "duration": null,
     "end_time": null,
     "exception": null,
     "start_time": null,
     "status": "completed"
    },
    "tags": []
   },
   "outputs": [],
   "source": [
    "df4.shape"
   ]
  },
  {
   "cell_type": "markdown",
   "id": "83f8b67f",
   "metadata": {
    "heading_collapsed": true,
    "papermill": {
     "duration": null,
     "end_time": null,
     "exception": null,
     "start_time": null,
     "status": "completed"
    },
    "tags": []
   },
   "source": [
    "# 5.0 Data Preparation"
   ]
  },
  {
   "cell_type": "markdown",
   "id": "8af047e0",
   "metadata": {
    "hidden": true,
    "papermill": {
     "duration": null,
     "end_time": null,
     "exception": null,
     "start_time": null,
     "status": "completed"
    },
    "tags": []
   },
   "source": [
    "## 5.1 Numerical Variables Preparation"
   ]
  },
  {
   "cell_type": "code",
   "execution_count": null,
   "id": "7f915142",
   "metadata": {
    "papermill": {
     "duration": null,
     "end_time": null,
     "exception": null,
     "start_time": null,
     "status": "completed"
    },
    "tags": []
   },
   "outputs": [],
   "source": [
    "# df5 = pd.read_csv('../data/processed/df4_processed.csv', float_precision = 'round_trip')\n",
    "df5 = df4.copy()\n",
    "df5.shape"
   ]
  },
  {
   "cell_type": "code",
   "execution_count": null,
   "id": "305d6d65",
   "metadata": {
    "papermill": {
     "duration": null,
     "end_time": null,
     "exception": null,
     "start_time": null,
     "status": "completed"
    },
    "tags": []
   },
   "outputs": [],
   "source": [
    "df5.info()"
   ]
  },
  {
   "cell_type": "code",
   "execution_count": null,
   "id": "8b9c33ab",
   "metadata": {
    "papermill": {
     "duration": null,
     "end_time": null,
     "exception": null,
     "start_time": null,
     "status": "completed"
    },
    "tags": []
   },
   "outputs": [],
   "source": [
    "del df4\n",
    "gc.collect()"
   ]
  },
  {
   "cell_type": "markdown",
   "id": "ca7ae0d8",
   "metadata": {
    "hidden": true,
    "papermill": {
     "duration": null,
     "end_time": null,
     "exception": null,
     "start_time": null,
     "status": "completed"
    },
    "tags": []
   },
   "source": [
    "### 5.1.1 Describing"
   ]
  },
  {
   "cell_type": "code",
   "execution_count": null,
   "id": "393d9d86",
   "metadata": {
    "papermill": {
     "duration": null,
     "end_time": null,
     "exception": null,
     "start_time": null,
     "status": "completed"
    },
    "tags": []
   },
   "outputs": [],
   "source": [
    "# df3.hist();\n",
    "num_att = df5.select_dtypes(include= ['int','float'])\n",
    "d1 = pd.DataFrame( num_att.min() ).T\n",
    "d2 = pd.DataFrame( num_att.max() ).T\n",
    "d3 = pd.DataFrame( num_att.max() - num_att.min() ).T\n",
    "d4 = pd.DataFrame( num_att.mean() ).T\n",
    "d5 = pd.DataFrame( num_att.median() ).T\n",
    "d6 = pd.DataFrame( num_att.std() ).T\n",
    "d7 = pd.DataFrame( num_att.skew() ).T\n",
    "d8 = pd.DataFrame( num_att.kurtosis() ).T\n",
    "\n",
    "desc = pd.concat( [d1, d2, d3, d4, d5, d6, d7, d8] ).T\n",
    "desc.columns = ['min', 'max', 'range', 'mean', 'median', 'std', 'skew', 'kurtosis' ]\n",
    "desc.style.format( \"{:,.2f}\" )"
   ]
  },
  {
   "cell_type": "markdown",
   "id": "31ad37a2",
   "metadata": {
    "heading_collapsed": true,
    "papermill": {
     "duration": null,
     "end_time": null,
     "exception": null,
     "start_time": null,
     "status": "completed"
    },
    "tags": []
   },
   "source": [
    "# 6.0 Feature Selection"
   ]
  },
  {
   "cell_type": "markdown",
   "id": "e4bf535e",
   "metadata": {
    "papermill": {
     "duration": null,
     "end_time": null,
     "exception": null,
     "start_time": null,
     "status": "completed"
    },
    "tags": []
   },
   "source": [
    "## 6.3 Selected Embedding Space"
   ]
  },
  {
   "cell_type": "code",
   "execution_count": null,
   "id": "fcbcd925",
   "metadata": {
    "papermill": {
     "duration": null,
     "end_time": null,
     "exception": null,
     "start_time": null,
     "status": "completed"
    },
    "tags": []
   },
   "outputs": [],
   "source": [
    "# selecting most important features. Removing ('avg_basket_size', 'avg_days_bw_purchases', 'avg_return_revenue', 'date_range)\n",
    "cols_selected = ['qty_items','avg_ticket','num_returns','returns_revenue','avg_unique_prods','qty_returned','num_purchases','recency','frequency']\n",
    "\n",
    "# defining independent and dependent variable\n",
    "X = df5[cols_selected].copy()\n",
    "y = df5['revenue']\n",
    "\n",
    "# defining random forest regresor for embedding\n",
    "rf = RandomForestRegressor(random_state = 42, min_samples_split = 20) \n",
    "rf.fit(X, y)\n",
    "\n",
    "# get leafs for each observation\n",
    "df_leaf = pd.DataFrame( rf.apply(X) )\n",
    "\n",
    "# defining umap algorithm\n",
    "n_neighbors = 50\n",
    "umap = UMAP(n_neighbors = n_neighbors, random_state = 42, metric = 'manhattan')  \n",
    "res_umap = umap.fit_transform(df_leaf)\n",
    "metric = umap.metric\n",
    "\n",
    "# storing embedding results on a dataframe\n",
    "df_tree = df5.copy()\n",
    "# df_tree = pd.DataFrame()\n",
    "df_tree['embedding_x'] =  res_umap[:,0]\n",
    "df_tree['embedding_y'] =  res_umap[:,1]\n",
    "\n",
    "# ploting results\n",
    "cmap = sns.color_palette('RdBu_r', as_cmap = True)\n",
    "plt.title('UMAP - Neighbors = {} - Distance = {}'.format(n_neighbors, metric) )\n",
    "sns.scatterplot( data = df_tree, x = 'embedding_x', y = 'embedding_y', hue = 'revenue', palette = cmap);"
   ]
  },
  {
   "cell_type": "code",
   "execution_count": null,
   "id": "4c96bbab",
   "metadata": {
    "papermill": {
     "duration": null,
     "end_time": null,
     "exception": null,
     "start_time": null,
     "status": "completed"
    },
    "tags": []
   },
   "outputs": [],
   "source": [
    "X.dtypes"
   ]
  },
  {
   "cell_type": "code",
   "execution_count": null,
   "id": "ced10b04",
   "metadata": {
    "papermill": {
     "duration": null,
     "end_time": null,
     "exception": null,
     "start_time": null,
     "status": "completed"
    },
    "tags": []
   },
   "outputs": [],
   "source": [
    "X.head(10)"
   ]
  },
  {
   "cell_type": "code",
   "execution_count": null,
   "id": "d50894c5",
   "metadata": {
    "papermill": {
     "duration": null,
     "end_time": null,
     "exception": null,
     "start_time": null,
     "status": "completed"
    },
    "tags": []
   },
   "outputs": [],
   "source": [
    "df_leaf.head()"
   ]
  },
  {
   "cell_type": "code",
   "execution_count": null,
   "id": "a83fca92",
   "metadata": {
    "papermill": {
     "duration": null,
     "end_time": null,
     "exception": null,
     "start_time": null,
     "status": "completed"
    },
    "tags": []
   },
   "outputs": [],
   "source": [
    "# df_leaf.to_csv('../data/df_tree.csv', index = False)"
   ]
  },
  {
   "cell_type": "code",
   "execution_count": null,
   "id": "18ed83c5",
   "metadata": {
    "papermill": {
     "duration": null,
     "end_time": null,
     "exception": null,
     "start_time": null,
     "status": "completed"
    },
    "tags": []
   },
   "outputs": [],
   "source": [
    "res_umap[:10]"
   ]
  },
  {
   "cell_type": "code",
   "execution_count": null,
   "id": "67a3e106",
   "metadata": {
    "papermill": {
     "duration": null,
     "end_time": null,
     "exception": null,
     "start_time": null,
     "status": "completed"
    },
    "tags": []
   },
   "outputs": [],
   "source": [
    "res_umap[-10:]"
   ]
  },
  {
   "cell_type": "markdown",
   "id": "0ca8f49f",
   "metadata": {
    "papermill": {
     "duration": null,
     "end_time": null,
     "exception": null,
     "start_time": null,
     "status": "completed"
    },
    "tags": []
   },
   "source": [
    "# 7.0 Model Testing"
   ]
  },
  {
   "cell_type": "code",
   "execution_count": null,
   "id": "4466fcb7",
   "metadata": {
    "papermill": {
     "duration": null,
     "end_time": null,
     "exception": null,
     "start_time": null,
     "status": "completed"
    },
    "tags": []
   },
   "outputs": [],
   "source": [
    "# defining two spaces of data (embedded and rescaled) to test models\n",
    "\n",
    "# tree embedded data\n",
    "df_tree = pd.DataFrame()\n",
    "df_tree['embedding_x'] =  res_umap[:,0]\n",
    "df_tree['embedding_y'] =  res_umap[:,1]\n",
    "\n",
    "# rescaled data\n",
    "df7 = df5.copy()"
   ]
  },
  {
   "cell_type": "code",
   "execution_count": null,
   "id": "92352726",
   "metadata": {
    "papermill": {
     "duration": null,
     "end_time": null,
     "exception": null,
     "start_time": null,
     "status": "completed"
    },
    "tags": []
   },
   "outputs": [],
   "source": [
    "del X, y, df5\n",
    "gc.collect()"
   ]
  },
  {
   "cell_type": "markdown",
   "id": "52bef6ea",
   "metadata": {
    "papermill": {
     "duration": null,
     "end_time": null,
     "exception": null,
     "start_time": null,
     "status": "completed"
    },
    "tags": []
   },
   "source": [
    "# 8.0 Model Training"
   ]
  },
  {
   "cell_type": "code",
   "execution_count": null,
   "id": "c2aa199e",
   "metadata": {
    "papermill": {
     "duration": null,
     "end_time": null,
     "exception": null,
     "start_time": null,
     "status": "completed"
    },
    "tags": []
   },
   "outputs": [],
   "source": [
    "df7.shape"
   ]
  },
  {
   "cell_type": "code",
   "execution_count": null,
   "id": "234925da",
   "metadata": {
    "papermill": {
     "duration": null,
     "end_time": null,
     "exception": null,
     "start_time": null,
     "status": "completed"
    },
    "tags": []
   },
   "outputs": [],
   "source": [
    "# defining model \n",
    "db_model = DBSCAN(eps = 2.1, min_samples=50)\n",
    "\n",
    "# applying model \n",
    "labels = db_model.fit_predict(df_tree)\n",
    "\n",
    "df_result = df7.reset_index(drop = True).copy()\n",
    "\n",
    "# concatenating results\n",
    "df_result = pd.concat( [df_result, df_tree], axis = 1 )\n",
    "\n",
    "# defining cluster\n",
    "df_result['cluster'] = labels.astype(str)\n",
    "\n",
    "# mapping cluster names\n",
    "names = {\"4\" : \"Insiders\",\n",
    "         \"1\" : \"Potential Loyalists\",\n",
    "         \"0\" : \"Loyal Customers\",\n",
    "         \"2\" : \"Promissing 1\",\n",
    "         \"8\" : \"Need Attention 1\",\n",
    "         \"6\" : \"Promising 2\",\n",
    "         \"7\" : \"Need Attention 2\",\n",
    "         \"5\" : \"Hibernating 1\",\n",
    "         \"10\" : \"Churn 1\",\n",
    "         \"3\" : \"Price Sensitive\",\n",
    "         \"9\" : \"Churn 2\",\n",
    "         \"11\" : \"Hibernating 2\",\n",
    "         \"-1\" : 'Noise' }\n",
    "\n",
    "df_result['cluster_name'] = df_result['cluster'].map(names)\n",
    "\n",
    "df_result.rename( columns = {'date_range': 'tenure'}, inplace = True)\n",
    "df_result.head()\n",
    "df_result.shape"
   ]
  },
  {
   "cell_type": "code",
   "execution_count": null,
   "id": "8c803b26",
   "metadata": {
    "papermill": {
     "duration": null,
     "end_time": null,
     "exception": null,
     "start_time": null,
     "status": "completed"
    },
    "tags": []
   },
   "outputs": [],
   "source": [
    "sns.scatterplot(data = df_result, x = 'embedding_x', y = 'embedding_y', hue = 'cluster_name', palette = 'bright');"
   ]
  },
  {
   "cell_type": "markdown",
   "id": "8e944ca2",
   "metadata": {
    "papermill": {
     "duration": null,
     "end_time": null,
     "exception": null,
     "start_time": null,
     "status": "completed"
    },
    "tags": []
   },
   "source": [
    "# 9.0 Cluster Analysis"
   ]
  },
  {
   "cell_type": "markdown",
   "id": "9540ac6b",
   "metadata": {
    "papermill": {
     "duration": null,
     "end_time": null,
     "exception": null,
     "start_time": null,
     "status": "completed"
    },
    "tags": []
   },
   "source": [
    "## 9.4 Business Perspective"
   ]
  },
  {
   "cell_type": "markdown",
   "id": "11cffc2f",
   "metadata": {
    "papermill": {
     "duration": null,
     "end_time": null,
     "exception": null,
     "start_time": null,
     "status": "completed"
    },
    "tags": []
   },
   "source": [
    "### 9.4.1 Clusters Table"
   ]
  },
  {
   "cell_type": "code",
   "execution_count": null,
   "id": "96b81d33",
   "metadata": {
    "papermill": {
     "duration": null,
     "end_time": null,
     "exception": null,
     "start_time": null,
     "status": "completed"
    },
    "tags": []
   },
   "outputs": [],
   "source": [
    "# number of customers per cluster\n",
    "n_cust = df_result.copy()\n",
    "n_cust = n_cust.groupby('cluster').count().reset_index().rename(columns = {'customer_id' : 'num_of_customers'})\n",
    "n_cust['perc_of_customer'] = n_cust['num_of_customers']/n_cust['num_of_customers'].sum()*100\n",
    "n_cust = n_cust[['cluster', 'num_of_customers', 'perc_of_customer']]"
   ]
  },
  {
   "cell_type": "code",
   "execution_count": null,
   "id": "1a71b1bf",
   "metadata": {
    "papermill": {
     "duration": null,
     "end_time": null,
     "exception": null,
     "start_time": null,
     "status": "completed"
    },
    "tags": []
   },
   "outputs": [],
   "source": [
    "# calculating mean values for each cluster attribute\n",
    "df_res = df_result.copy()\n",
    "\n",
    "# calculating mothly frequency. Did not like the results of this\n",
    "# df_res['frequency'] = df_res['frequency']*30\n",
    "\n",
    "# add cluster to df\n",
    "result = df_res.groupby('cluster').mean().reset_index()\n",
    "result\n",
    "\n",
    "# add nº of customers\n",
    "result = result.merge( n_cust, on = 'cluster', how = 'inner')\n",
    "# Based on the RFM Analysis I gave names to clusters \n",
    "result['cluster_name'] = result['cluster'].map(names)\n",
    "result_reduced = result[['cluster_name', 'num_of_customers', 'perc_of_customer', 'recency', 'revenue', 'avg_ticket', 'num_purchases', 'tenure', 'frequency', 'num_returns', 'avg_return_revenue' ]].copy()\n",
    "\n",
    "#formatting output\n",
    "result_reduced.sort_values('revenue', ascending = False, inplace = True )\n",
    "result_reduced['perc_of_customer'] = result_reduced['perc_of_customer'].apply(lambda x: \"{:.2f}%\".format(x) )\n",
    "formatter = {\"recency\" : \"{:,.2f}\",\n",
    "\"revenue\" : \"{:,.2f}\",\n",
    "\"avg_ticket\" : \"{:,.2f}\",\n",
    "\"num_purchases\" : \"{:,.2f}\",\n",
    "\"tenure\" : \"{:,.2f}\",\n",
    "\"frequency\" : \"{:,.4f}\",\n",
    "\"num_returns\" : \"{:,.2f}\",\n",
    "\"avg_return_revenue\" : \"{:,.2f}\"\n",
    "}\n",
    "result_reduced.style.format( formatter = formatter )"
   ]
  },
  {
   "cell_type": "code",
   "execution_count": null,
   "id": "8713bc06",
   "metadata": {
    "papermill": {
     "duration": null,
     "end_time": null,
     "exception": null,
     "start_time": null,
     "status": "completed"
    },
    "tags": []
   },
   "outputs": [],
   "source": [
    "# # calculating mean values for each cluster attribute\n",
    "# df_res = df_result.copy()\n",
    "\n",
    "# # calculating mothly frequency. Did not like the results of this\n",
    "# # df_res['frequency'] = df_res['frequency']*30\n",
    "\n",
    "# # add cluster to df\n",
    "# result = df_res.groupby('cluster').mean().reset_index()\n",
    "# result\n",
    "\n",
    "# # add nº of customers\n",
    "# result = result.merge( n_cust, on = 'cluster', how = 'inner')\n",
    "# # Based on the RFM Analysis I gave names to clusters \n",
    "# result['cluster_name'] = result['cluster'].map(names)\n",
    "# result_reduced = result[['cluster_name', 'num_of_customers', 'perc_of_customer', 'recency', 'revenue', 'avg_ticket', 'num_purchases', 'tenure', 'frequency', 'num_returns', 'avg_return_revenue' ]].copy()\n",
    "\n",
    "# #formatting output\n",
    "# result_reduced.sort_values('revenue', ascending = False, inplace = True )\n",
    "# result_reduced['perc_of_customer'] = result_reduced['perc_of_customer'].apply(lambda x: \"{:.2f}%\".format(x) )\n",
    "# formatter = {\"recency\" : \"{:,.2f}\",\n",
    "# \"revenue\" : \"{:,.2f}\",\n",
    "# \"avg_ticket\" : \"{:,.2f}\",\n",
    "# \"num_purchases\" : \"{:,.2f}\",\n",
    "# \"tenure\" : \"{:,.2f}\",\n",
    "# \"frequency\" : \"{:,.4f}\",\n",
    "# \"num_returns\" : \"{:,.2f}\",\n",
    "# \"avg_return_revenue\" : \"{:,.2f}\"\n",
    "# }\n",
    "# result_reduced.style.format( formatter = formatter )"
   ]
  },
  {
   "cell_type": "markdown",
   "id": "2c702be9",
   "metadata": {
    "papermill": {
     "duration": null,
     "end_time": null,
     "exception": null,
     "start_time": null,
     "status": "completed"
    },
    "tags": []
   },
   "source": [
    "# 11 Model Deployment"
   ]
  },
  {
   "cell_type": "markdown",
   "id": "9bc9f1d5",
   "metadata": {
    "papermill": {
     "duration": null,
     "end_time": null,
     "exception": null,
     "start_time": null,
     "status": "completed"
    },
    "tags": []
   },
   "source": [
    "## 11.1. Inserting results on sqlite db"
   ]
  },
  {
   "cell_type": "code",
   "execution_count": null,
   "id": "e2fb2928",
   "metadata": {
    "papermill": {
     "duration": null,
     "end_time": null,
     "exception": null,
     "start_time": null,
     "status": "completed"
    },
    "tags": []
   },
   "outputs": [],
   "source": [
    "#  connect to db, if doesn't exist create one\n",
    "# con = sqlite3.connect('../src/features/insiders.db')"
   ]
  },
  {
   "cell_type": "code",
   "execution_count": null,
   "id": "a9b1baa8",
   "metadata": {
    "papermill": {
     "duration": null,
     "end_time": null,
     "exception": null,
     "start_time": null,
     "status": "completed"
    },
    "tags": []
   },
   "outputs": [],
   "source": [
    "# cur = con.cursor()\n",
    "\n",
    "# cur.execute(\n",
    "#     \"\"\"\n",
    "    # CREATE TABLE insiders (\n",
    "    #     customer_id               INTEGER,\n",
    "    #     country                   TEXT,\n",
    "    #     recency                   INTEGER,\n",
    "    #     avg_days_bw_purchases     REAL,\n",
    "    #     num_purchases             INTEGER,\n",
    "    #     tenure                    INTEGER,\n",
    "    #     frequency                 REAL,\n",
    "    #     revenue                   REAL,\n",
    "    #     avg_ticket                REAL,\n",
    "    #     qty_items                 INTEGER,\n",
    "    #     avg_basket_size           REAL,\n",
    "    #     avg_unique_prods          REAL,\n",
    "    #     returns_revenue           REAL,\n",
    "    #     avg_return_revenue        REAL,\n",
    "    #     num_returns               REAL,\n",
    "    #     qty_returned              REAL,\n",
    "    #     embedding_x               REAL,\n",
    "    #     embedding_y               REAL,\n",
    "    #     cluster                   TEXT,\n",
    "    #     cluster_name              TEXT\n",
    "#     );\n",
    "#     \"\"\"\n",
    "# )\n",
    "\n",
    "# con.commit()\n",
    "\n",
    "# # con.close()\n",
    "\n"
   ]
  },
  {
   "cell_type": "code",
   "execution_count": null,
   "id": "7f0138ed",
   "metadata": {
    "papermill": {
     "duration": null,
     "end_time": null,
     "exception": null,
     "start_time": null,
     "status": "completed"
    },
    "tags": []
   },
   "outputs": [],
   "source": [
    "# df_result.dtypes"
   ]
  },
  {
   "cell_type": "code",
   "execution_count": null,
   "id": "75a4e100",
   "metadata": {
    "papermill": {
     "duration": null,
     "end_time": null,
     "exception": null,
     "start_time": null,
     "status": "completed"
    },
    "tags": []
   },
   "outputs": [],
   "source": [
    "# # con.execute(\n",
    "# #     \"\"\"\n",
    "# #     SELECT name\n",
    "# #     FROM sqlite_schema\n",
    "# #     WHERE type ='table'\n",
    "# #     \"\"\"\n",
    "# # )\n",
    "# cur.execute(\n",
    "# \"\"\"SELECT \n",
    "#         name\n",
    "#     FROM \n",
    "#         sqlite_master\n",
    "#     WHERE \n",
    "#         type ='table' \n",
    "#         ;\"\"\"\n",
    "#         )\n",
    "# # con.commit()\n",
    "# #  AND name NOT LIKE 'sqlite_%'\n",
    "# cur.fetchone()"
   ]
  },
  {
   "cell_type": "code",
   "execution_count": null,
   "id": "81acba24",
   "metadata": {
    "papermill": {
     "duration": null,
     "end_time": null,
     "exception": null,
     "start_time": null,
     "status": "completed"
    },
    "tags": []
   },
   "outputs": [],
   "source": [
    "# con.execute(\n",
    "#     \"\"\"\n",
    "#     DROP TABLE insiders\n",
    "#     \"\"\"\n",
    "# )\n",
    "# con.commit()\n",
    "\n",
    "# # con.close()\n"
   ]
  },
  {
   "cell_type": "code",
   "execution_count": null,
   "id": "53a41524",
   "metadata": {
    "papermill": {
     "duration": null,
     "end_time": null,
     "exception": null,
     "start_time": null,
     "status": "completed"
    },
    "tags": []
   },
   "outputs": [],
   "source": [
    "# conn = create_engine('sqlite:////home/humberto/DS/insiders_clustering/src/features/insiders.db', echo=False)\n",
    "# df_result.to_sql('insiders', con = conn, if_exists='append', index = False)"
   ]
  },
  {
   "cell_type": "code",
   "execution_count": null,
   "id": "378ea6e9",
   "metadata": {
    "papermill": {
     "duration": null,
     "end_time": null,
     "exception": null,
     "start_time": null,
     "status": "completed"
    },
    "tags": []
   },
   "outputs": [],
   "source": [
    "# df_sql = pd.read_sql('insiders', con = conn)\n",
    "# print(df_sql.iloc[0,8])\n",
    "# print(df_result.iloc[0,8])\n",
    "# df_sql.head()"
   ]
  },
  {
   "cell_type": "markdown",
   "id": "bccd0b18",
   "metadata": {
    "papermill": {
     "duration": null,
     "end_time": null,
     "exception": null,
     "start_time": null,
     "status": "completed"
    },
    "tags": []
   },
   "source": [
    "## 11.2 Inserting results to mysql db on AWS"
   ]
  },
  {
   "cell_type": "code",
   "execution_count": null,
   "id": "c9477e30",
   "metadata": {
    "papermill": {
     "duration": null,
     "end_time": null,
     "exception": null,
     "start_time": null,
     "status": "completed"
    },
    "tags": []
   },
   "outputs": [],
   "source": [
    "# adding last update time to data that will be inserted on DB\n",
    "\n",
    "now = datetime.now().strftime( \"%Y-%m-%d %H:%M:%S\" )\n",
    "\n",
    "df_result['last_update'] = now"
   ]
  },
  {
   "cell_type": "code",
   "execution_count": null,
   "id": "1d9d4171",
   "metadata": {
    "papermill": {
     "duration": null,
     "end_time": null,
     "exception": null,
     "start_time": null,
     "status": "completed"
    },
    "tags": []
   },
   "outputs": [],
   "source": [
    "df_result.head()"
   ]
  },
  {
   "cell_type": "code",
   "execution_count": null,
   "id": "8dc48b55",
   "metadata": {
    "papermill": {
     "duration": null,
     "end_time": null,
     "exception": null,
     "start_time": null,
     "status": "completed"
    },
    "tags": []
   },
   "outputs": [],
   "source": [
    "# # reading credentials\n",
    "\n",
    "# secrets_json = open('../secrets.json')\n",
    "# secrets = json.load(secrets_json)\n",
    "\n",
    "# dialect =   secrets[\"dialect\"]\n",
    "# driver =    secrets[\"driver\"]\n",
    "# host =      secrets[\"host\"]\n",
    "# username =  secrets[\"username\"]\n",
    "# password =  secrets[\"password\"]\n",
    "# port =      secrets[\"port\"]\n",
    "# database =  secrets[\"database\"]\n",
    "\n",
    "# url = \"{}+{}://{}:{}@{}:{}/{}\".format(dialect, driver, username, password, host, port, database)\n",
    "\n",
    "# engine = create_engine(url = url, echo = True) #, pool_pre_ping = True"
   ]
  },
  {
   "cell_type": "code",
   "execution_count": null,
   "id": "3677feaf",
   "metadata": {
    "papermill": {
     "duration": null,
     "end_time": null,
     "exception": null,
     "start_time": null,
     "status": "completed"
    },
    "tags": []
   },
   "outputs": [],
   "source": [
    "# read_query = \"\"\"\n",
    "#     SELECT * FROM insiders i\n",
    "# \"\"\"\n",
    "# # engine.execute\n",
    "# df_sql = pd.read_sql_query(read_query, con = engine)"
   ]
  },
  {
   "cell_type": "code",
   "execution_count": null,
   "id": "397065fb",
   "metadata": {
    "papermill": {
     "duration": null,
     "end_time": null,
     "exception": null,
     "start_time": null,
     "status": "completed"
    },
    "tags": []
   },
   "outputs": [],
   "source": [
    "# if we had to create table manually we could use this\n",
    "# create_table = \"\"\"\n",
    "#     CREATE TABLE insiders (\n",
    "#     customer_id               INTEGER,\n",
    "#     country                   TEXT,\n",
    "#     recency                   INTEGER,\n",
    "#     avg_days_bw_purchases     REAL,\n",
    "#     num_purchases             INTEGER,\n",
    "#     tenure                    INTEGER,\n",
    "#     frequency                 REAL,\n",
    "#     revenue                   REAL,\n",
    "#     avg_ticket                REAL,\n",
    "#     qty_items                 INTEGER,\n",
    "#     avg_basket_size           REAL,\n",
    "#     avg_unique_prods          REAL,\n",
    "#     returns_revenue           REAL,\n",
    "#     avg_return_revenue        REAL,\n",
    "#     num_returns               REAL,\n",
    "#     qty_returned              REAL,\n",
    "#     embedding_x               REAL,\n",
    "#     embedding_y               REAL,\n",
    "#     cluster                   TEXT,\n",
    "#     cluster_name              TEXT\n",
    "#     )\n",
    "# \"\"\""
   ]
  },
  {
   "cell_type": "code",
   "execution_count": null,
   "id": "974a3ce8",
   "metadata": {
    "papermill": {
     "duration": null,
     "end_time": null,
     "exception": null,
     "start_time": null,
     "status": "completed"
    },
    "tags": []
   },
   "outputs": [],
   "source": [
    "# inserting data\n",
    "# df_result.to_sql('insiders', con = engine, if_exists='replace', index = False )"
   ]
  },
  {
   "cell_type": "code",
   "execution_count": null,
   "id": "975e4774",
   "metadata": {
    "papermill": {
     "duration": null,
     "end_time": null,
     "exception": null,
     "start_time": null,
     "status": "completed"
    },
    "tags": []
   },
   "outputs": [],
   "source": [
    "# drop_table_query = \"\"\"\n",
    "#     DROP TABLE insiders\n",
    "# \"\"\"\n",
    "# engine.execute(drop_table_query)\n"
   ]
  },
  {
   "cell_type": "markdown",
   "id": "b3c6a65c",
   "metadata": {
    "papermill": {
     "duration": null,
     "end_time": null,
     "exception": null,
     "start_time": null,
     "status": "completed"
    },
    "tags": []
   },
   "source": [
    "## 11.3 Inserting results to mysql db on heroku"
   ]
  },
  {
   "cell_type": "code",
   "execution_count": null,
   "id": "bf73a8ed",
   "metadata": {
    "papermill": {
     "duration": null,
     "end_time": null,
     "exception": null,
     "start_time": null,
     "status": "completed"
    },
    "tags": []
   },
   "outputs": [],
   "source": [
    "# adding last update time to data that will be inserted on DB\n",
    "\n",
    "now = datetime.now().strftime( \"%Y-%m-%d %H:%M:%S\" )\n",
    "\n",
    "df_result['last_update'] = now\n",
    "df_result.head()"
   ]
  },
  {
   "cell_type": "code",
   "execution_count": null,
   "id": "a786c29e",
   "metadata": {
    "papermill": {
     "duration": null,
     "end_time": null,
     "exception": null,
     "start_time": null,
     "status": "completed"
    },
    "tags": []
   },
   "outputs": [],
   "source": [
    "# reading credentials\n",
    "\n",
    "# aws credentiasl\n",
    "path_aws_secrets = '/home/ubuntu/project/Insiders-Loyalty-Program/src/'\n",
    "secrets_json = open( path_aws_secrets + 'secrets-heroku.json')\n",
    "\n",
    "# local credentiasl\n",
    "# secrets_json = open( '../secrets-heroku.json')\n",
    "\n",
    "secrets = json.load(secrets_json)\n",
    "\n",
    "dialect =   secrets[\"dialect\"]\n",
    "driver =    secrets[\"driver\"]\n",
    "host =      secrets[\"host\"]\n",
    "username =  secrets[\"username\"]\n",
    "password =  secrets[\"password\"]\n",
    "port =      secrets[\"port\"]\n",
    "database =  secrets[\"database\"]\n",
    "\n",
    "url = \"{}+{}://{}:{}@{}:{}/{}\".format(dialect, driver, username, password, host, port, database)\n",
    "\n",
    "url \n",
    "\n",
    "dbschema = 'public'\n",
    "\n",
    "# connecting to db\n",
    "engine = create_engine(url = url, echo = True, connect_args={'options': '-csearch_path={}'.format(dbschema)} ) #, pool_pre_ping = True\n",
    "conn = engine.connect()"
   ]
  },
  {
   "cell_type": "code",
   "execution_count": null,
   "id": "cdb5e908",
   "metadata": {
    "papermill": {
     "duration": null,
     "end_time": null,
     "exception": null,
     "start_time": null,
     "status": "completed"
    },
    "tags": []
   },
   "outputs": [],
   "source": [
    "# import os\n",
    "# os.environ['DATABASE_URL']"
   ]
  },
  {
   "cell_type": "code",
   "execution_count": null,
   "id": "ec406856",
   "metadata": {
    "papermill": {
     "duration": null,
     "end_time": null,
     "exception": null,
     "start_time": null,
     "status": "completed"
    },
    "tags": []
   },
   "outputs": [],
   "source": [
    "df_result.to_sql('insiders_result', con = engine, if_exists='replace', index = False )\n",
    "\n",
    "# if we have precision problems we can use:\n",
    "# from sqlalchemy.dialects.postgresql import DOUBLE_PRECISION\n",
    "# dtypes = {'avg_days_bw_purchases' : DOUBLE_PRECISION}\n",
    "# df_result.to_sql('insiders_result', con = engine, if_exists='replace', index = False, dtype = dtypes )"
   ]
  },
  {
   "cell_type": "code",
   "execution_count": null,
   "id": "09c44f41",
   "metadata": {
    "papermill": {
     "duration": null,
     "end_time": null,
     "exception": null,
     "start_time": null,
     "status": "completed"
    },
    "tags": []
   },
   "outputs": [],
   "source": [
    "query = \"\"\"\n",
    "    SELECT *\n",
    "    FROM insiders_result\n",
    "\"\"\"\n",
    "\n",
    "df_sql = pd.read_sql_query(query, con = engine)"
   ]
  },
  {
   "cell_type": "code",
   "execution_count": null,
   "id": "7de5533b",
   "metadata": {
    "papermill": {
     "duration": null,
     "end_time": null,
     "exception": null,
     "start_time": null,
     "status": "completed"
    },
    "tags": []
   },
   "outputs": [],
   "source": [
    "conn.invalidate()\n",
    "engine.dispose()"
   ]
  },
  {
   "cell_type": "code",
   "execution_count": null,
   "id": "343cbdcd",
   "metadata": {
    "papermill": {
     "duration": null,
     "end_time": null,
     "exception": null,
     "start_time": null,
     "status": "completed"
    },
    "tags": []
   },
   "outputs": [],
   "source": [
    "sns.scatterplot( data = df_sql, x = 'embedding_x', y = 'embedding_y', hue = 'cluster_name', palette = 'husl');"
   ]
  },
  {
   "cell_type": "code",
   "execution_count": null,
   "id": "07803d58",
   "metadata": {
    "papermill": {
     "duration": null,
     "end_time": null,
     "exception": null,
     "start_time": null,
     "status": "completed"
    },
    "tags": []
   },
   "outputs": [],
   "source": [
    "sns.scatterplot( data = df_result, x = 'embedding_x', y = 'embedding_y', hue = 'cluster_name', palette = 'husl');"
   ]
  },
  {
   "cell_type": "code",
   "execution_count": null,
   "id": "f52fcb56",
   "metadata": {
    "papermill": {
     "duration": null,
     "end_time": null,
     "exception": null,
     "start_time": null,
     "status": "completed"
    },
    "tags": []
   },
   "outputs": [],
   "source": [
    "df_sql.cluster_name.unique()"
   ]
  },
  {
   "cell_type": "markdown",
   "id": "6bc865af",
   "metadata": {
    "papermill": {
     "duration": null,
     "end_time": null,
     "exception": null,
     "start_time": null,
     "status": "completed"
    },
    "tags": []
   },
   "source": [
    "- verify aws packages OK\n",
    "- automate reports with:\n",
    "    - crontab \n",
    "    - github\n",
    "- make a visualization dashboard\n",
    "- automate ec2 to turn on and off"
   ]
  }
 ],
 "metadata": {
  "interpreter": {
   "hash": "4be9c22c924916f4f0290c88182d986b0302ce23f90563ec15842ba76b709463"
  },
  "kernelspec": {
   "display_name": "Python 3.8.0 64-bit ('insiders')",
   "language": "python",
   "name": "python3"
  },
  "language_info": {
   "codemirror_mode": {
    "name": "ipython",
    "version": 3
   },
   "file_extension": ".py",
   "mimetype": "text/x-python",
   "name": "python",
   "nbconvert_exporter": "python",
   "pygments_lexer": "ipython3",
   "version": "3.8.0"
  },
  "papermill": {
   "default_parameters": {},
   "duration": 43.12325,
   "end_time": "2022-03-21T23:36:56.743227",
   "environment_variables": {},
   "exception": null,
   "input_path": "/home/ubuntu/project/Insiders-Loyalty-Program/src/notebooks/c16-deploy-5.ipynb",
   "output_path": "/home/ubuntu/project/Insiders-Loyalty-Program/src/logs/c16-deploy-5-date:2022-03-21--23:36:12.ipynb",
   "parameters": {},
   "start_time": "2022-03-21T23:36:13.619977",
   "version": "2.3.4"
  }
 },
 "nbformat": 4,
 "nbformat_minor": 5
}