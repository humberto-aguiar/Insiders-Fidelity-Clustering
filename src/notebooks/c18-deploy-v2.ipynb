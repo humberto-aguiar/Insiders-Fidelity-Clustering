{
 "cells": [
  {
   "cell_type": "markdown",
   "metadata": {},
   "source": [
    "# 0.0 Imports"
   ]
  },
  {
   "cell_type": "markdown",
   "metadata": {},
   "source": [
    "## 0.1 Imports"
   ]
  },
  {
   "cell_type": "code",
   "execution_count": 96,
   "metadata": {},
   "outputs": [],
   "source": [
    "import pandas as pd\n",
    "import numpy as np\n",
    "import matplotlib.pyplot as plt\n",
    "import seaborn as sns\n",
    "import inflection\n",
    "import re\n",
    "import s3fs \n",
    "import json\n",
    "from datetime import datetime\n",
    "\n",
    "from sklearn.ensemble import RandomForestRegressor\n",
    "from sklearn.cluster import DBSCAN\n",
    "\n",
    "from umap import UMAP\n",
    "\n",
    "from sqlalchemy import create_engine\n",
    "\n",
    "import gc"
   ]
  },
  {
   "cell_type": "markdown",
   "metadata": {},
   "source": [
    "## 0.2 Helper Functions\n",
    "\n"
   ]
  },
  {
   "cell_type": "code",
   "execution_count": 97,
   "metadata": {},
   "outputs": [],
   "source": [
    "# Defining some plot settings\n",
    "def jupyter_settings():\n",
    "    %matplotlib inline\n",
    "    #%pylab inline\n",
    "    #matplotlib notebook\n",
    "    plt.style.use( 'bmh' )\n",
    "    plt.rcParams['figure.figsize'] = [25, 12]\n",
    "    plt.rcParams['font.size'] = 24\n",
    "    # display( HTML( '<style>.container { width:100% !important; }</style>') )\n",
    "    pd.options.display.max_columns = None\n",
    "    pd.options.display.max_rows = None\n",
    "    pd.set_option( 'display.expand_frame_repr', False )\n",
    "    sns.set()\n",
    "\n",
    "jupyter_settings()"
   ]
  },
  {
   "cell_type": "markdown",
   "metadata": {
    "heading_collapsed": true
   },
   "source": [
    "## 0.4 Columns Description\n",
    "\n"
   ]
  },
  {
   "cell_type": "markdown",
   "metadata": {},
   "source": [
    "### Attribute Description\n",
    "- InvoiceNo Invoice number (A 6-digit integral number uniquely assigned to each transaction)\n",
    "- StockCode Product (item) code\n",
    "- Description Product (item) name\n",
    "- Quantity The quantities of each product (item) per transaction\n",
    "- InvoiceDate The day when each transaction was generated\n",
    "- UnitPrice Unit price (Product price per unit)\n",
    "- CustomerID Customer number (Unique ID assigned to each customer)\n",
    "- Country Country name (The name of the country where each customer resides)"
   ]
  },
  {
   "cell_type": "markdown",
   "metadata": {},
   "source": [
    "# 1.0 Data Description\n"
   ]
  },
  {
   "cell_type": "code",
   "execution_count": 98,
   "metadata": {},
   "outputs": [],
   "source": [
    "# df1 = pd.read_csv('../data/raw/ecommerce.csv', encoding='ISO-8859-1', sep = ',')\n",
    "# df1 = pd.read_csv('/home/humberto/DS/insiders_clustering/data/raw/ecommerce.csv', encoding='ISO-8859-1', sep = ',')\n",
    "\n",
    "# Reading data from S3 Bucket:\n",
    "path_s3 = 'https://insiders-raw-data-bucket.s3.sa-east-1.amazonaws.com/raw/'\n",
    "df1 = pd.read_csv( path_s3 + 'ecommerce.csv', encoding='ISO-8859-1')"
   ]
  },
  {
   "cell_type": "code",
   "execution_count": 99,
   "metadata": {},
   "outputs": [],
   "source": [
    "# df1_s3.info()"
   ]
  },
  {
   "cell_type": "code",
   "execution_count": 100,
   "metadata": {},
   "outputs": [
    {
     "name": "stdout",
     "output_type": "stream",
     "text": [
      "Dimensions ok:(541909, 9)\n"
     ]
    }
   ],
   "source": [
    "if df1.shape == (541909, 9):\n",
    "    print('Dimensions ok:{}'.format(df1.shape))\n",
    "else:\n",
    "    print('Dimensions differ from expected: {}'.format(df1.shape) )"
   ]
  },
  {
   "cell_type": "markdown",
   "metadata": {
    "hidden": true
   },
   "source": [
    "## 1.1 Rename Columns"
   ]
  },
  {
   "cell_type": "code",
   "execution_count": 101,
   "metadata": {},
   "outputs": [
    {
     "data": {
      "text/plain": [
       "['invoice_no',\n",
       " 'stock_code',\n",
       " 'description',\n",
       " 'quantity',\n",
       " 'invoice_date',\n",
       " 'unit_price',\n",
       " 'customer_id',\n",
       " 'country',\n",
       " 'unnamed: 8']"
      ]
     },
     "execution_count": 101,
     "metadata": {},
     "output_type": "execute_result"
    }
   ],
   "source": [
    "cols_old = df1.columns.tolist()\n",
    "\n",
    "cols_new = [inflection.underscore(col) for col in cols_old]\n",
    "cols_new"
   ]
  },
  {
   "cell_type": "code",
   "execution_count": 102,
   "metadata": {},
   "outputs": [],
   "source": [
    "df1.rename(columns = dict(zip(cols_old, cols_new)), inplace = True )"
   ]
  },
  {
   "cell_type": "markdown",
   "metadata": {},
   "source": [
    "## 1.2 Data Dimensions"
   ]
  },
  {
   "cell_type": "code",
   "execution_count": 103,
   "metadata": {},
   "outputs": [
    {
     "name": "stdout",
     "output_type": "stream",
     "text": [
      "Number of rows: 541909\n",
      "Number of cols: 9\n"
     ]
    }
   ],
   "source": [
    "print( 'Number of rows: {}'.format( df1.shape[0] ) )\n",
    "print( 'Number of cols: {}'.format( df1.shape[1] ) )"
   ]
  },
  {
   "cell_type": "markdown",
   "metadata": {},
   "source": [
    "## 1.3 Data Types"
   ]
  },
  {
   "cell_type": "code",
   "execution_count": 104,
   "metadata": {},
   "outputs": [
    {
     "data": {
      "text/plain": [
       "invoice_no       object\n",
       "stock_code       object\n",
       "description      object\n",
       "quantity          int64\n",
       "invoice_date     object\n",
       "unit_price      float64\n",
       "customer_id     float64\n",
       "country          object\n",
       "unnamed: 8      float64\n",
       "dtype: object"
      ]
     },
     "execution_count": 104,
     "metadata": {},
     "output_type": "execute_result"
    }
   ],
   "source": [
    "df1.dtypes"
   ]
  },
  {
   "cell_type": "markdown",
   "metadata": {},
   "source": [
    "## 1.4 NA Check"
   ]
  },
  {
   "cell_type": "code",
   "execution_count": 105,
   "metadata": {},
   "outputs": [
    {
     "data": {
      "text/plain": [
       "invoice_no        0.000000\n",
       "stock_code        0.000000\n",
       "description       0.268311\n",
       "quantity          0.000000\n",
       "invoice_date      0.000000\n",
       "unit_price        0.000000\n",
       "customer_id      24.926694\n",
       "country           0.000000\n",
       "unnamed: 8      100.000000\n",
       "dtype: float64"
      ]
     },
     "execution_count": 105,
     "metadata": {},
     "output_type": "execute_result"
    }
   ],
   "source": [
    "df1.isna().sum()/df1.shape[0]*100"
   ]
  },
  {
   "cell_type": "code",
   "execution_count": 106,
   "metadata": {},
   "outputs": [
    {
     "data": {
      "text/plain": [
       "Index(['invoice_no', 'stock_code', 'description', 'quantity', 'invoice_date',\n",
       "       'unit_price', 'customer_id', 'country'],\n",
       "      dtype='object')"
      ]
     },
     "execution_count": 106,
     "metadata": {},
     "output_type": "execute_result"
    }
   ],
   "source": [
    "df1.drop(columns=['unnamed: 8'], inplace = True)\n",
    "df1.columns"
   ]
  },
  {
   "cell_type": "markdown",
   "metadata": {},
   "source": [
    "## 1.5 NA Fillout"
   ]
  },
  {
   "cell_type": "code",
   "execution_count": 107,
   "metadata": {},
   "outputs": [
    {
     "data": {
      "text/plain": [
       "invoice_no      0\n",
       "stock_code      0\n",
       "description     0\n",
       "quantity        0\n",
       "invoice_date    0\n",
       "unit_price      0\n",
       "customer_id     0\n",
       "country         0\n",
       "dtype: int64"
      ]
     },
     "execution_count": 107,
     "metadata": {},
     "output_type": "execute_result"
    }
   ],
   "source": [
    "df1.dropna(subset=['customer_id'], axis = 0, inplace =  True)\n",
    "df1.isna().sum()"
   ]
  },
  {
   "cell_type": "markdown",
   "metadata": {},
   "source": [
    "## 1.6 Changing Data Types\n"
   ]
  },
  {
   "cell_type": "code",
   "execution_count": 108,
   "metadata": {},
   "outputs": [
    {
     "data": {
      "text/html": [
       "<div>\n",
       "<style scoped>\n",
       "    .dataframe tbody tr th:only-of-type {\n",
       "        vertical-align: middle;\n",
       "    }\n",
       "\n",
       "    .dataframe tbody tr th {\n",
       "        vertical-align: top;\n",
       "    }\n",
       "\n",
       "    .dataframe thead th {\n",
       "        text-align: right;\n",
       "    }\n",
       "</style>\n",
       "<table border=\"1\" class=\"dataframe\">\n",
       "  <thead>\n",
       "    <tr style=\"text-align: right;\">\n",
       "      <th></th>\n",
       "      <th>invoice_no</th>\n",
       "      <th>stock_code</th>\n",
       "      <th>description</th>\n",
       "      <th>quantity</th>\n",
       "      <th>invoice_date</th>\n",
       "      <th>unit_price</th>\n",
       "      <th>customer_id</th>\n",
       "      <th>country</th>\n",
       "    </tr>\n",
       "  </thead>\n",
       "  <tbody>\n",
       "    <tr>\n",
       "      <th>0</th>\n",
       "      <td>536365</td>\n",
       "      <td>85123A</td>\n",
       "      <td>WHITE HANGING HEART T-LIGHT HOLDER</td>\n",
       "      <td>6</td>\n",
       "      <td>29-Nov-16</td>\n",
       "      <td>2.55</td>\n",
       "      <td>17850.0</td>\n",
       "      <td>United Kingdom</td>\n",
       "    </tr>\n",
       "    <tr>\n",
       "      <th>1</th>\n",
       "      <td>536365</td>\n",
       "      <td>71053</td>\n",
       "      <td>WHITE METAL LANTERN</td>\n",
       "      <td>6</td>\n",
       "      <td>29-Nov-16</td>\n",
       "      <td>3.39</td>\n",
       "      <td>17850.0</td>\n",
       "      <td>United Kingdom</td>\n",
       "    </tr>\n",
       "    <tr>\n",
       "      <th>2</th>\n",
       "      <td>536365</td>\n",
       "      <td>84406B</td>\n",
       "      <td>CREAM CUPID HEARTS COAT HANGER</td>\n",
       "      <td>8</td>\n",
       "      <td>29-Nov-16</td>\n",
       "      <td>2.75</td>\n",
       "      <td>17850.0</td>\n",
       "      <td>United Kingdom</td>\n",
       "    </tr>\n",
       "    <tr>\n",
       "      <th>3</th>\n",
       "      <td>536365</td>\n",
       "      <td>84029G</td>\n",
       "      <td>KNITTED UNION FLAG HOT WATER BOTTLE</td>\n",
       "      <td>6</td>\n",
       "      <td>29-Nov-16</td>\n",
       "      <td>3.39</td>\n",
       "      <td>17850.0</td>\n",
       "      <td>United Kingdom</td>\n",
       "    </tr>\n",
       "    <tr>\n",
       "      <th>4</th>\n",
       "      <td>536365</td>\n",
       "      <td>84029E</td>\n",
       "      <td>RED WOOLLY HOTTIE WHITE HEART.</td>\n",
       "      <td>6</td>\n",
       "      <td>29-Nov-16</td>\n",
       "      <td>3.39</td>\n",
       "      <td>17850.0</td>\n",
       "      <td>United Kingdom</td>\n",
       "    </tr>\n",
       "  </tbody>\n",
       "</table>\n",
       "</div>"
      ],
      "text/plain": [
       "  invoice_no stock_code                          description  quantity invoice_date  unit_price  customer_id         country\n",
       "0     536365     85123A   WHITE HANGING HEART T-LIGHT HOLDER         6    29-Nov-16        2.55      17850.0  United Kingdom\n",
       "1     536365      71053                  WHITE METAL LANTERN         6    29-Nov-16        3.39      17850.0  United Kingdom\n",
       "2     536365     84406B       CREAM CUPID HEARTS COAT HANGER         8    29-Nov-16        2.75      17850.0  United Kingdom\n",
       "3     536365     84029G  KNITTED UNION FLAG HOT WATER BOTTLE         6    29-Nov-16        3.39      17850.0  United Kingdom\n",
       "4     536365     84029E       RED WOOLLY HOTTIE WHITE HEART.         6    29-Nov-16        3.39      17850.0  United Kingdom"
      ]
     },
     "execution_count": 108,
     "metadata": {},
     "output_type": "execute_result"
    }
   ],
   "source": [
    "df1.head()"
   ]
  },
  {
   "cell_type": "code",
   "execution_count": 109,
   "metadata": {},
   "outputs": [
    {
     "data": {
      "text/plain": [
       "invoice_no       object\n",
       "stock_code       object\n",
       "description      object\n",
       "quantity          int64\n",
       "invoice_date     object\n",
       "unit_price      float64\n",
       "customer_id     float64\n",
       "country          object\n",
       "dtype: object"
      ]
     },
     "execution_count": 109,
     "metadata": {},
     "output_type": "execute_result"
    }
   ],
   "source": [
    "df1.dtypes"
   ]
  },
  {
   "cell_type": "code",
   "execution_count": 110,
   "metadata": {},
   "outputs": [
    {
     "data": {
      "text/html": [
       "<div>\n",
       "<style scoped>\n",
       "    .dataframe tbody tr th:only-of-type {\n",
       "        vertical-align: middle;\n",
       "    }\n",
       "\n",
       "    .dataframe tbody tr th {\n",
       "        vertical-align: top;\n",
       "    }\n",
       "\n",
       "    .dataframe thead th {\n",
       "        text-align: right;\n",
       "    }\n",
       "</style>\n",
       "<table border=\"1\" class=\"dataframe\">\n",
       "  <thead>\n",
       "    <tr style=\"text-align: right;\">\n",
       "      <th></th>\n",
       "      <th>invoice_no</th>\n",
       "      <th>stock_code</th>\n",
       "      <th>description</th>\n",
       "      <th>quantity</th>\n",
       "      <th>invoice_date</th>\n",
       "      <th>unit_price</th>\n",
       "      <th>customer_id</th>\n",
       "      <th>country</th>\n",
       "    </tr>\n",
       "  </thead>\n",
       "  <tbody>\n",
       "    <tr>\n",
       "      <th>0</th>\n",
       "      <td>536365</td>\n",
       "      <td>85123A</td>\n",
       "      <td>WHITE HANGING HEART T-LIGHT HOLDER</td>\n",
       "      <td>6</td>\n",
       "      <td>2016-11-29</td>\n",
       "      <td>2.55</td>\n",
       "      <td>17850</td>\n",
       "      <td>United Kingdom</td>\n",
       "    </tr>\n",
       "    <tr>\n",
       "      <th>1</th>\n",
       "      <td>536365</td>\n",
       "      <td>71053</td>\n",
       "      <td>WHITE METAL LANTERN</td>\n",
       "      <td>6</td>\n",
       "      <td>2016-11-29</td>\n",
       "      <td>3.39</td>\n",
       "      <td>17850</td>\n",
       "      <td>United Kingdom</td>\n",
       "    </tr>\n",
       "    <tr>\n",
       "      <th>2</th>\n",
       "      <td>536365</td>\n",
       "      <td>84406B</td>\n",
       "      <td>CREAM CUPID HEARTS COAT HANGER</td>\n",
       "      <td>8</td>\n",
       "      <td>2016-11-29</td>\n",
       "      <td>2.75</td>\n",
       "      <td>17850</td>\n",
       "      <td>United Kingdom</td>\n",
       "    </tr>\n",
       "    <tr>\n",
       "      <th>3</th>\n",
       "      <td>536365</td>\n",
       "      <td>84029G</td>\n",
       "      <td>KNITTED UNION FLAG HOT WATER BOTTLE</td>\n",
       "      <td>6</td>\n",
       "      <td>2016-11-29</td>\n",
       "      <td>3.39</td>\n",
       "      <td>17850</td>\n",
       "      <td>United Kingdom</td>\n",
       "    </tr>\n",
       "    <tr>\n",
       "      <th>4</th>\n",
       "      <td>536365</td>\n",
       "      <td>84029E</td>\n",
       "      <td>RED WOOLLY HOTTIE WHITE HEART.</td>\n",
       "      <td>6</td>\n",
       "      <td>2016-11-29</td>\n",
       "      <td>3.39</td>\n",
       "      <td>17850</td>\n",
       "      <td>United Kingdom</td>\n",
       "    </tr>\n",
       "  </tbody>\n",
       "</table>\n",
       "</div>"
      ],
      "text/plain": [
       "  invoice_no stock_code                          description  quantity invoice_date  unit_price  customer_id         country\n",
       "0     536365     85123A   WHITE HANGING HEART T-LIGHT HOLDER         6   2016-11-29        2.55        17850  United Kingdom\n",
       "1     536365      71053                  WHITE METAL LANTERN         6   2016-11-29        3.39        17850  United Kingdom\n",
       "2     536365     84406B       CREAM CUPID HEARTS COAT HANGER         8   2016-11-29        2.75        17850  United Kingdom\n",
       "3     536365     84029G  KNITTED UNION FLAG HOT WATER BOTTLE         6   2016-11-29        3.39        17850  United Kingdom\n",
       "4     536365     84029E       RED WOOLLY HOTTIE WHITE HEART.         6   2016-11-29        3.39        17850  United Kingdom"
      ]
     },
     "execution_count": 110,
     "metadata": {},
     "output_type": "execute_result"
    }
   ],
   "source": [
    "df1['invoice_date'] = pd.to_datetime( df1['invoice_date'], format = '%d-%b-%y' )\n",
    "\n",
    "df1['customer_id'] = df1['customer_id'].astype(int)\n",
    "\n",
    "df1.head()"
   ]
  },
  {
   "cell_type": "code",
   "execution_count": 111,
   "metadata": {},
   "outputs": [
    {
     "data": {
      "text/plain": [
       "invoice_no              object\n",
       "stock_code              object\n",
       "description             object\n",
       "quantity                 int64\n",
       "invoice_date    datetime64[ns]\n",
       "unit_price             float64\n",
       "customer_id              int64\n",
       "country                 object\n",
       "dtype: object"
      ]
     },
     "execution_count": 111,
     "metadata": {},
     "output_type": "execute_result"
    }
   ],
   "source": [
    "df1.dtypes"
   ]
  },
  {
   "cell_type": "markdown",
   "metadata": {},
   "source": [
    "## 1.7 Descriptive Statistics"
   ]
  },
  {
   "cell_type": "markdown",
   "metadata": {},
   "source": [
    "### 1.7.1 Numerical Attributes"
   ]
  },
  {
   "cell_type": "code",
   "execution_count": 112,
   "metadata": {},
   "outputs": [
    {
     "data": {
      "text/html": [
       "<style type=\"text/css\">\n",
       "</style>\n",
       "<table id=\"T_d92e9\">\n",
       "  <thead>\n",
       "    <tr>\n",
       "      <th class=\"blank level0\" >&nbsp;</th>\n",
       "      <th id=\"T_d92e9_level0_col0\" class=\"col_heading level0 col0\" >min</th>\n",
       "      <th id=\"T_d92e9_level0_col1\" class=\"col_heading level0 col1\" >max</th>\n",
       "      <th id=\"T_d92e9_level0_col2\" class=\"col_heading level0 col2\" >range</th>\n",
       "      <th id=\"T_d92e9_level0_col3\" class=\"col_heading level0 col3\" >mean</th>\n",
       "      <th id=\"T_d92e9_level0_col4\" class=\"col_heading level0 col4\" >median</th>\n",
       "      <th id=\"T_d92e9_level0_col5\" class=\"col_heading level0 col5\" >std</th>\n",
       "      <th id=\"T_d92e9_level0_col6\" class=\"col_heading level0 col6\" >skew</th>\n",
       "      <th id=\"T_d92e9_level0_col7\" class=\"col_heading level0 col7\" >kurtosis</th>\n",
       "    </tr>\n",
       "  </thead>\n",
       "  <tbody>\n",
       "    <tr>\n",
       "      <th id=\"T_d92e9_level0_row0\" class=\"row_heading level0 row0\" >quantity</th>\n",
       "      <td id=\"T_d92e9_row0_col0\" class=\"data row0 col0\" >-80,995.00</td>\n",
       "      <td id=\"T_d92e9_row0_col1\" class=\"data row0 col1\" >80,995.00</td>\n",
       "      <td id=\"T_d92e9_row0_col2\" class=\"data row0 col2\" >161,990.00</td>\n",
       "      <td id=\"T_d92e9_row0_col3\" class=\"data row0 col3\" >12.06</td>\n",
       "      <td id=\"T_d92e9_row0_col4\" class=\"data row0 col4\" >5.00</td>\n",
       "      <td id=\"T_d92e9_row0_col5\" class=\"data row0 col5\" >248.69</td>\n",
       "      <td id=\"T_d92e9_row0_col6\" class=\"data row0 col6\" >0.18</td>\n",
       "      <td id=\"T_d92e9_row0_col7\" class=\"data row0 col7\" >94,317.56</td>\n",
       "    </tr>\n",
       "    <tr>\n",
       "      <th id=\"T_d92e9_level0_row1\" class=\"row_heading level0 row1\" >unit_price</th>\n",
       "      <td id=\"T_d92e9_row1_col0\" class=\"data row1 col0\" >0.00</td>\n",
       "      <td id=\"T_d92e9_row1_col1\" class=\"data row1 col1\" >38,970.00</td>\n",
       "      <td id=\"T_d92e9_row1_col2\" class=\"data row1 col2\" >38,970.00</td>\n",
       "      <td id=\"T_d92e9_row1_col3\" class=\"data row1 col3\" >3.46</td>\n",
       "      <td id=\"T_d92e9_row1_col4\" class=\"data row1 col4\" >1.95</td>\n",
       "      <td id=\"T_d92e9_row1_col5\" class=\"data row1 col5\" >69.32</td>\n",
       "      <td id=\"T_d92e9_row1_col6\" class=\"data row1 col6\" >452.22</td>\n",
       "      <td id=\"T_d92e9_row1_col7\" class=\"data row1 col7\" >246,924.54</td>\n",
       "    </tr>\n",
       "    <tr>\n",
       "      <th id=\"T_d92e9_level0_row2\" class=\"row_heading level0 row2\" >customer_id</th>\n",
       "      <td id=\"T_d92e9_row2_col0\" class=\"data row2 col0\" >12,346.00</td>\n",
       "      <td id=\"T_d92e9_row2_col1\" class=\"data row2 col1\" >18,287.00</td>\n",
       "      <td id=\"T_d92e9_row2_col2\" class=\"data row2 col2\" >5,941.00</td>\n",
       "      <td id=\"T_d92e9_row2_col3\" class=\"data row2 col3\" >15,287.69</td>\n",
       "      <td id=\"T_d92e9_row2_col4\" class=\"data row2 col4\" >15,152.00</td>\n",
       "      <td id=\"T_d92e9_row2_col5\" class=\"data row2 col5\" >1,713.60</td>\n",
       "      <td id=\"T_d92e9_row2_col6\" class=\"data row2 col6\" >0.03</td>\n",
       "      <td id=\"T_d92e9_row2_col7\" class=\"data row2 col7\" >-1.18</td>\n",
       "    </tr>\n",
       "  </tbody>\n",
       "</table>\n"
      ],
      "text/plain": [
       "<pandas.io.formats.style.Styler at 0x7f177a838ee0>"
      ]
     },
     "execution_count": 112,
     "metadata": {},
     "output_type": "execute_result"
    }
   ],
   "source": [
    "num_att = df1.select_dtypes(include= ['int','float'])\n",
    "d1 = pd.DataFrame( num_att.min() ).T\n",
    "d2 = pd.DataFrame( num_att.max() ).T\n",
    "d3 = pd.DataFrame( num_att.max() - num_att.min() ).T\n",
    "d4 = pd.DataFrame( num_att.mean() ).T\n",
    "d5 = pd.DataFrame( num_att.median() ).T\n",
    "d6 = pd.DataFrame( num_att.std() ).T\n",
    "d7 = pd.DataFrame( num_att.skew() ).T\n",
    "d8 = pd.DataFrame( num_att.kurtosis() ).T\n",
    "\n",
    "desc = pd.concat( [d1, d2, d3, d4, d5, d6, d7, d8] ).T\n",
    "desc.columns = ['min', 'max', 'range', 'mean', 'median', 'std', 'skew', 'kurtosis' ]\n",
    "desc.style.format( \"{:,.2f}\" )"
   ]
  },
  {
   "cell_type": "markdown",
   "metadata": {
    "heading_collapsed": true
   },
   "source": [
    "# 2.0 Data Filtering"
   ]
  },
  {
   "cell_type": "markdown",
   "metadata": {},
   "source": [
    "## 2.1 Data Inspection"
   ]
  },
  {
   "cell_type": "code",
   "execution_count": 113,
   "metadata": {},
   "outputs": [
    {
     "data": {
      "text/plain": [
       "11665"
      ]
     },
     "execution_count": 113,
     "metadata": {},
     "output_type": "execute_result"
    }
   ],
   "source": [
    "df2 = df1.copy()\n",
    "\n",
    "del df1\n",
    "gc.collect()"
   ]
  },
  {
   "cell_type": "markdown",
   "metadata": {},
   "source": [
    "### Stock Code"
   ]
  },
  {
   "cell_type": "code",
   "execution_count": 114,
   "metadata": {},
   "outputs": [
    {
     "data": {
      "text/html": [
       "<div>\n",
       "<style scoped>\n",
       "    .dataframe tbody tr th:only-of-type {\n",
       "        vertical-align: middle;\n",
       "    }\n",
       "\n",
       "    .dataframe tbody tr th {\n",
       "        vertical-align: top;\n",
       "    }\n",
       "\n",
       "    .dataframe thead th {\n",
       "        text-align: right;\n",
       "    }\n",
       "</style>\n",
       "<table border=\"1\" class=\"dataframe\">\n",
       "  <thead>\n",
       "    <tr style=\"text-align: right;\">\n",
       "      <th></th>\n",
       "      <th>invoice_no</th>\n",
       "      <th>stock_code</th>\n",
       "      <th>description</th>\n",
       "      <th>quantity</th>\n",
       "      <th>invoice_date</th>\n",
       "      <th>unit_price</th>\n",
       "      <th>customer_id</th>\n",
       "      <th>country</th>\n",
       "    </tr>\n",
       "  </thead>\n",
       "  <tbody>\n",
       "    <tr>\n",
       "      <th>45</th>\n",
       "      <td>536370</td>\n",
       "      <td>POST</td>\n",
       "      <td>POSTAGE</td>\n",
       "      <td>3</td>\n",
       "      <td>2016-11-29</td>\n",
       "      <td>18.00</td>\n",
       "      <td>12583</td>\n",
       "      <td>France</td>\n",
       "    </tr>\n",
       "    <tr>\n",
       "      <th>141</th>\n",
       "      <td>C536379</td>\n",
       "      <td>D</td>\n",
       "      <td>Discount</td>\n",
       "      <td>-1</td>\n",
       "      <td>2016-11-29</td>\n",
       "      <td>27.50</td>\n",
       "      <td>14527</td>\n",
       "      <td>United Kingdom</td>\n",
       "    </tr>\n",
       "    <tr>\n",
       "      <th>386</th>\n",
       "      <td>536403</td>\n",
       "      <td>POST</td>\n",
       "      <td>POSTAGE</td>\n",
       "      <td>1</td>\n",
       "      <td>2016-11-29</td>\n",
       "      <td>15.00</td>\n",
       "      <td>12791</td>\n",
       "      <td>Netherlands</td>\n",
       "    </tr>\n",
       "    <tr>\n",
       "      <th>1123</th>\n",
       "      <td>536527</td>\n",
       "      <td>POST</td>\n",
       "      <td>POSTAGE</td>\n",
       "      <td>1</td>\n",
       "      <td>2016-11-29</td>\n",
       "      <td>18.00</td>\n",
       "      <td>12662</td>\n",
       "      <td>Germany</td>\n",
       "    </tr>\n",
       "    <tr>\n",
       "      <th>2239</th>\n",
       "      <td>536569</td>\n",
       "      <td>M</td>\n",
       "      <td>Manual</td>\n",
       "      <td>1</td>\n",
       "      <td>2016-11-29</td>\n",
       "      <td>1.25</td>\n",
       "      <td>16274</td>\n",
       "      <td>United Kingdom</td>\n",
       "    </tr>\n",
       "    <tr>\n",
       "      <th>2250</th>\n",
       "      <td>536569</td>\n",
       "      <td>M</td>\n",
       "      <td>Manual</td>\n",
       "      <td>1</td>\n",
       "      <td>2016-11-29</td>\n",
       "      <td>18.95</td>\n",
       "      <td>16274</td>\n",
       "      <td>United Kingdom</td>\n",
       "    </tr>\n",
       "    <tr>\n",
       "      <th>4406</th>\n",
       "      <td>536779</td>\n",
       "      <td>BANK CHARGES</td>\n",
       "      <td>Bank Charges</td>\n",
       "      <td>1</td>\n",
       "      <td>2016-11-30</td>\n",
       "      <td>15.00</td>\n",
       "      <td>15823</td>\n",
       "      <td>United Kingdom</td>\n",
       "    </tr>\n",
       "    <tr>\n",
       "      <th>5073</th>\n",
       "      <td>536840</td>\n",
       "      <td>POST</td>\n",
       "      <td>POSTAGE</td>\n",
       "      <td>1</td>\n",
       "      <td>2016-11-30</td>\n",
       "      <td>18.00</td>\n",
       "      <td>12738</td>\n",
       "      <td>Germany</td>\n",
       "    </tr>\n",
       "    <tr>\n",
       "      <th>5258</th>\n",
       "      <td>536852</td>\n",
       "      <td>POST</td>\n",
       "      <td>POSTAGE</td>\n",
       "      <td>1</td>\n",
       "      <td>2016-12-01</td>\n",
       "      <td>18.00</td>\n",
       "      <td>12686</td>\n",
       "      <td>France</td>\n",
       "    </tr>\n",
       "    <tr>\n",
       "      <th>5325</th>\n",
       "      <td>536858</td>\n",
       "      <td>POST</td>\n",
       "      <td>POSTAGE</td>\n",
       "      <td>2</td>\n",
       "      <td>2016-12-01</td>\n",
       "      <td>40.00</td>\n",
       "      <td>13520</td>\n",
       "      <td>Switzerland</td>\n",
       "    </tr>\n",
       "  </tbody>\n",
       "</table>\n",
       "</div>"
      ],
      "text/plain": [
       "     invoice_no    stock_code   description  quantity invoice_date  unit_price  customer_id         country\n",
       "45       536370          POST       POSTAGE         3   2016-11-29       18.00        12583          France\n",
       "141     C536379             D      Discount        -1   2016-11-29       27.50        14527  United Kingdom\n",
       "386      536403          POST       POSTAGE         1   2016-11-29       15.00        12791     Netherlands\n",
       "1123     536527          POST       POSTAGE         1   2016-11-29       18.00        12662         Germany\n",
       "2239     536569             M        Manual         1   2016-11-29        1.25        16274  United Kingdom\n",
       "2250     536569             M        Manual         1   2016-11-29       18.95        16274  United Kingdom\n",
       "4406     536779  BANK CHARGES  Bank Charges         1   2016-11-30       15.00        15823  United Kingdom\n",
       "5073     536840          POST       POSTAGE         1   2016-11-30       18.00        12738         Germany\n",
       "5258     536852          POST       POSTAGE         1   2016-12-01       18.00        12686          France\n",
       "5325     536858          POST       POSTAGE         2   2016-12-01       40.00        13520     Switzerland"
      ]
     },
     "execution_count": 114,
     "metadata": {},
     "output_type": "execute_result"
    }
   ],
   "source": [
    "# selecting rows with only non digits\n",
    "df_stock = df2.loc[df2['stock_code'].apply( lambda x: bool(re.search('^[\\D]+$', x)) )]\n",
    "df_stock.head(10)"
   ]
  },
  {
   "cell_type": "code",
   "execution_count": 115,
   "metadata": {},
   "outputs": [
    {
     "data": {
      "text/plain": [
       "POST            1196\n",
       "M                465\n",
       "D                 77\n",
       "DOT               16\n",
       "CRUK              16\n",
       "BANK CHARGES      12\n",
       "PADS               4\n",
       "Name: stock_code, dtype: int64"
      ]
     },
     "execution_count": 115,
     "metadata": {},
     "output_type": "execute_result"
    }
   ],
   "source": [
    "# values to remove\n",
    "drop_stock = df_stock['stock_code'].unique().tolist()\n",
    "\n",
    "df_stock['stock_code'].value_counts()"
   ]
  },
  {
   "cell_type": "markdown",
   "metadata": {},
   "source": [
    "### Country"
   ]
  },
  {
   "cell_type": "code",
   "execution_count": 116,
   "metadata": {},
   "outputs": [],
   "source": [
    "#countries to drop\n",
    "drop_country = ['Unspecified', 'European Community']"
   ]
  },
  {
   "cell_type": "markdown",
   "metadata": {},
   "source": [
    "## 2.2 Data Filtering"
   ]
  },
  {
   "cell_type": "code",
   "execution_count": 117,
   "metadata": {},
   "outputs": [],
   "source": [
    "# dropping stock code\n",
    "df2 = df2.loc[~ df2['stock_code'].isin(drop_stock)]\n",
    "\n",
    "# dropping countries\n",
    "df2 = df2.loc[~ df2['country'].isin(drop_country)]\n"
   ]
  },
  {
   "cell_type": "markdown",
   "metadata": {},
   "source": [
    "# 3.0 Feature Engineering"
   ]
  },
  {
   "cell_type": "markdown",
   "metadata": {},
   "source": [
    "Now lets calculate recency, frequency and monetary using only purchases (not considering returns as a interaction)"
   ]
  },
  {
   "cell_type": "code",
   "execution_count": 118,
   "metadata": {},
   "outputs": [
    {
     "data": {
      "text/plain": [
       "105"
      ]
     },
     "execution_count": 118,
     "metadata": {},
     "output_type": "execute_result"
    }
   ],
   "source": [
    "# Reading Data\n",
    "df3 = df2.copy()\n",
    "\n",
    "# df3 = pd.read_csv('../data/interim/df2.csv', float_precision='round_trip')\n",
    "# df3['invoice_date'] = pd.to_datetime( df3['invoice_date'] )\n",
    "\n",
    "# separating returns from purchases\n",
    "df_returns = df3.loc[ df3['quantity'] < 0 ]\n",
    "df_purchases = df3.loc[ df3['quantity'] >= 0 ]\n",
    "\n",
    "del df2\n",
    "gc.collect()"
   ]
  },
  {
   "cell_type": "markdown",
   "metadata": {},
   "source": [
    "### Recency"
   ]
  },
  {
   "cell_type": "code",
   "execution_count": 119,
   "metadata": {},
   "outputs": [],
   "source": [
    "# days since last purchase (considering first day as day after last invoice)\n",
    "df_recency = df_purchases[['customer_id', 'invoice_date']].copy()\n",
    "df_recency = df_recency.drop_duplicates(subset = 'customer_id', keep = 'last')\n",
    "\n",
    "# using final date as max date + 1\n",
    "df_recency['recency'] =  (pd.to_datetime('2017-12-08') - df_recency['invoice_date']).dt.days\n",
    "df_recency.drop(columns=['invoice_date'], inplace = True)\n"
   ]
  },
  {
   "cell_type": "markdown",
   "metadata": {},
   "source": [
    "### Average Days Between Purchases"
   ]
  },
  {
   "cell_type": "code",
   "execution_count": 120,
   "metadata": {},
   "outputs": [],
   "source": [
    "df_dates = df_purchases[['customer_id', 'invoice_date']].copy()\n",
    "\n",
    "# creates a column with the dates shifted by 1 to calculate difference betwenn last purchase and previous purchase\n",
    "df_dates = df_dates.drop_duplicates()\n",
    "df_dates['previous_date'] = df_dates.groupby('customer_id')['invoice_date'].shift()\n",
    "\n",
    "# extracts days betwenn last purchase and previous purchase for each pair of dates\n",
    "df_dates['days'] = df_dates.apply(lambda x : (x['invoice_date'] - x['previous_date']).days , axis = 1 )\n",
    "\n",
    "# calculating average of days between purchases\n",
    "df_dates = df_dates[['customer_id', 'days']].groupby('customer_id').mean().reset_index().rename(columns = {'days': 'avg_days_bw_purchases'})\n",
    "\n",
    "df_dates.fillna(value = 0, inplace = True)\n",
    "# df_dates.head()"
   ]
  },
  {
   "cell_type": "code",
   "execution_count": 121,
   "metadata": {},
   "outputs": [],
   "source": [
    "df_dates = df_purchases[['customer_id', 'invoice_date']].copy()\n",
    "\n",
    "# creates a column with the dates shifted by 1 to calculate difference betwenn last purchase and previous purchase\n",
    "df_dates = df_dates.drop_duplicates()\n",
    "df_dates['previous_date'] = df_dates.groupby('customer_id')['invoice_date'].shift()\n",
    "\n",
    "# # extracts days betwenn last purchase and previous purchase for each pair of dates\n",
    "df_dates['days'] = df_dates.apply(lambda x : (x['invoice_date'] - x['previous_date']).days , axis = 1 )\n",
    "\n",
    "# # calculating average of days between purchases\n",
    "df_dates = df_dates[['customer_id', 'days']].groupby('customer_id').mean().reset_index().rename(columns = {'days': 'avg_days_bw_purchases'})\n",
    "\n",
    "df_dates.fillna(value = 0, inplace = True)\n",
    "# df_dates.isna().sum()\n",
    "# df_dates[df_dates.customer_id == 12346] #.mean()\n",
    "# df_dates.head()"
   ]
  },
  {
   "cell_type": "markdown",
   "metadata": {},
   "source": [
    "### Frequency"
   ]
  },
  {
   "cell_type": "code",
   "execution_count": 122,
   "metadata": {},
   "outputs": [],
   "source": [
    "# Frequency\n",
    "# nº of purchases a customer did\n",
    "df_freq = df_purchases[['invoice_no', 'customer_id']].drop_duplicates('invoice_no').groupby(['customer_id']).count().reset_index().rename(columns = {'invoice_no' : 'num_purchases'} ) #'invoice_date',  #['num_of_purchases']\n",
    "\n",
    "# difference between firts and last transaction\n",
    "# if nº purchases made = 1: date range =  today - first purchase date\n",
    "# else last purchase - first purchase\n",
    "func = lambda x: (x.max() - x.min() if (x.max() - x.min()).days != 0 else pd.to_datetime('2017-12-08') - x.min() ).days\n",
    "\n",
    "# aggregating things\n",
    "df_date_range = df_purchases[[ 'customer_id', 'invoice_date' ]].groupby('customer_id').agg( func ).reset_index().rename(columns = {'invoice_date' : 'date_range'})\n",
    "\n",
    "df_freq = df_freq.merge(df_date_range, on = 'customer_id', how = 'left')\n",
    "df_freq['frequency'] = df_freq['num_purchases']/df_freq['date_range']\n",
    "\n",
    "# df_freq.head()"
   ]
  },
  {
   "cell_type": "markdown",
   "metadata": {},
   "source": [
    "### Revenue"
   ]
  },
  {
   "cell_type": "code",
   "execution_count": 123,
   "metadata": {},
   "outputs": [],
   "source": [
    "# revenue\n",
    "# copying from original dataset so that revenue represents net earnings (purchases - returns)\n",
    "df_revenue = df3[['unit_price','quantity','customer_id']].copy()\n",
    "df_revenue['quantity'] = df_revenue['quantity'].astype(float)\n",
    "df_revenue['customer_spend'] = df_revenue['unit_price']*df_revenue['quantity']\n",
    "\n",
    "# calculating revenue\n",
    "df_revenue = df_revenue[['customer_id', 'customer_spend']].groupby('customer_id').sum().reset_index().rename(columns = {'customer_spend' : 'revenue'})\n",
    "\n",
    "# defining number of purchases\n",
    "df_revenue = df_revenue.merge( df_freq[['customer_id', 'num_purchases']], on = 'customer_id', how = 'left' )\n",
    "\n",
    "# calculating avg ticket\n",
    "df_revenue['avg_ticket'] = df_revenue['revenue']/df_revenue['num_purchases']\n",
    "df_revenue.drop('num_purchases', axis = 1, inplace = True)\n",
    "\n",
    "# # deleting rows that we have data about return and not about purchase (purchase outside time frame of dataset)\n",
    "df_revenue = df_revenue[ df_revenue['revenue'] > 0.1 ].copy()\n",
    "# df_revenue.head()"
   ]
  },
  {
   "cell_type": "markdown",
   "metadata": {},
   "source": [
    "### Basket Size"
   ]
  },
  {
   "cell_type": "code",
   "execution_count": 124,
   "metadata": {},
   "outputs": [],
   "source": [
    "# selecting cols\n",
    "df_basket = df3[['customer_id', 'invoice_no', 'quantity']].copy()\n",
    "\n",
    "# counting items per invoice\n",
    "df_basket = df_basket.groupby(['customer_id', 'invoice_no']).sum().reset_index()\n",
    "\n",
    "# calculating quantity of items purchased + avg basket size (men of quantities)\n",
    "df_basket = df_basket.groupby(['customer_id']).agg( qty_items = ('quantity', 'sum'), avg_basket_size = ('quantity', 'mean') ).reset_index()\n",
    "\n",
    "# renaming\n",
    "df_basket = df_basket.rename( columns = {'quantity' : 'avg_basket_size'})\n",
    "\n",
    "# df_basket.head()"
   ]
  },
  {
   "cell_type": "markdown",
   "metadata": {},
   "source": [
    "### Average Unique Products Purchased Quantity"
   ]
  },
  {
   "cell_type": "code",
   "execution_count": 125,
   "metadata": {},
   "outputs": [],
   "source": [
    "# selecting cols\n",
    "df_unique = df_purchases[['customer_id', 'invoice_no', 'stock_code']].copy()\n",
    "\n",
    "# counting number of different products per invoice\n",
    "df_unique = df_unique.groupby(['customer_id', 'invoice_no']).nunique().reset_index()\n",
    "\n",
    "# calculating mean of items per invoice\n",
    "df_unique = df_unique.groupby(['customer_id']).mean().reset_index()\n",
    "\n",
    "# # renaming\n",
    "df_unique = df_unique.rename( columns = {'stock_code' : 'avg_unique_prods'})\n",
    "\n",
    "# df_unique.head()"
   ]
  },
  {
   "cell_type": "markdown",
   "metadata": {},
   "source": [
    "### Returns"
   ]
  },
  {
   "cell_type": "code",
   "execution_count": 126,
   "metadata": {},
   "outputs": [],
   "source": [
    "# creating returns variables\n",
    "\n",
    "df_returns = df_returns[['quantity', 'invoice_date', 'unit_price', 'customer_id', 'invoice_no']]\n",
    "\n",
    "df_returns['customer_spend'] = df_returns['unit_price']*df_returns['quantity']\n",
    "\n",
    "# sum and mean of revenue\n",
    "df_returns_metrics = df_returns[['customer_id', 'customer_spend', 'quantity']].groupby('customer_id').agg( \n",
    "    returns_revenue = ('customer_spend', 'sum'),\n",
    "    avg_return_revenue = ('customer_spend', 'mean'),\n",
    "    num_returns = ('customer_spend', 'count'),\n",
    "    qty_returned = ('quantity', 'sum')  )\n",
    "\n",
    "df_returns_metrics = pd.DataFrame( df_returns_metrics.to_records() )\n",
    "\n",
    "# df_returns_metrics.head()"
   ]
  },
  {
   "cell_type": "code",
   "execution_count": 127,
   "metadata": {},
   "outputs": [
    {
     "data": {
      "text/plain": [
       "(4315, 16)"
      ]
     },
     "execution_count": 127,
     "metadata": {},
     "output_type": "execute_result"
    }
   ],
   "source": [
    "# merging every feature together\n",
    "\n",
    "df_processed = df_purchases[['customer_id', 'country']].drop_duplicates('customer_id').copy()\n",
    "df_processed = pd.merge( df_processed, df_recency, on = 'customer_id', how = 'left' )\n",
    "df_processed = pd.merge( df_processed, df_dates, on = 'customer_id', how = 'left' )\n",
    "df_processed = pd.merge( df_processed, df_freq, on = 'customer_id', how = 'left' )\n",
    "df_processed = pd.merge( df_processed, df_revenue, on = 'customer_id', how = 'inner' )\n",
    "df_processed = pd.merge( df_processed, df_basket, on = 'customer_id', how = 'left' )\n",
    "df_processed = pd.merge( df_processed, df_unique, on = 'customer_id', how = 'left' )\n",
    "df_processed = pd.merge( df_processed, df_returns_metrics, on = 'customer_id', how = 'left' )\n",
    "\n",
    "\n",
    "# filling na as 0 for customers that never returned an item\n",
    "df_processed.fillna(value = 0, inplace = True)\n",
    "\n",
    "# df_processed.dropna( inplace = True)\n",
    "# df_processed.isna().sum()\n",
    "# df_processed.head(10)\n",
    "df_processed.shape"
   ]
  },
  {
   "cell_type": "code",
   "execution_count": 128,
   "metadata": {},
   "outputs": [],
   "source": [
    "# df_processed.to_csv('../data/processed/df3_processed.csv', index = False)"
   ]
  },
  {
   "cell_type": "markdown",
   "metadata": {
    "heading_collapsed": true
   },
   "source": [
    "# 4.0 Exploratory Data Analysis"
   ]
  },
  {
   "cell_type": "code",
   "execution_count": 129,
   "metadata": {},
   "outputs": [
    {
     "data": {
      "text/plain": [
       "42"
      ]
     },
     "execution_count": 129,
     "metadata": {},
     "output_type": "execute_result"
    }
   ],
   "source": [
    "# Reading filtered data\n",
    "# df4 = pd.read_csv('../data/processed/df3_processed.csv')\n",
    "df4 = df_processed.copy()\n",
    "\n",
    "del df3, df_processed, df_returns, df_purchases \n",
    "gc.collect()"
   ]
  },
  {
   "cell_type": "markdown",
   "metadata": {
    "heading_collapsed": true,
    "hidden": true
   },
   "source": [
    "## 4.1 Univariate Analysis"
   ]
  },
  {
   "cell_type": "code",
   "execution_count": 130,
   "metadata": {},
   "outputs": [],
   "source": [
    "### Returns\n",
    "\n",
    "df4.sort_values(['returns_revenue'], ascending = True).head()\n",
    "\n",
    "# This is propably an anomaly, error, or some data purposely inserted for unknown reasons\n",
    "# df3[df3.customer_id == 16446]\n",
    "# df3[df3.customer_id == 12346]\n",
    "\n",
    "# These customers indeed appear to have returned high quantities\n",
    "# df3[df3.customer_id == 15749]\n",
    "# df3[df3.customer_id == 16029]\n",
    "# df3[df3.customer_id == 12931]\n",
    "\n",
    "# droping weird behaviour\n",
    "cust_drop = [16446, 12346]\n",
    "df4 = df4[ ~ df4['customer_id'].isin(cust_drop)].copy()"
   ]
  },
  {
   "cell_type": "code",
   "execution_count": 131,
   "metadata": {},
   "outputs": [
    {
     "data": {
      "text/plain": [
       "(4314, 16)"
      ]
     },
     "execution_count": 131,
     "metadata": {},
     "output_type": "execute_result"
    }
   ],
   "source": [
    "df4.shape"
   ]
  },
  {
   "cell_type": "markdown",
   "metadata": {
    "heading_collapsed": true
   },
   "source": [
    "# 5.0 Data Preparation"
   ]
  },
  {
   "cell_type": "markdown",
   "metadata": {
    "hidden": true
   },
   "source": [
    "## 5.1 Numerical Variables Preparation"
   ]
  },
  {
   "cell_type": "code",
   "execution_count": 132,
   "metadata": {},
   "outputs": [
    {
     "data": {
      "text/plain": [
       "(4314, 16)"
      ]
     },
     "execution_count": 132,
     "metadata": {},
     "output_type": "execute_result"
    }
   ],
   "source": [
    "# df5 = pd.read_csv('../data/processed/df4_processed.csv', float_precision = 'round_trip')\n",
    "df5 = df4.copy()\n",
    "df5.shape"
   ]
  },
  {
   "cell_type": "code",
   "execution_count": 133,
   "metadata": {},
   "outputs": [
    {
     "name": "stdout",
     "output_type": "stream",
     "text": [
      "<class 'pandas.core.frame.DataFrame'>\n",
      "Int64Index: 4314 entries, 0 to 4314\n",
      "Data columns (total 16 columns):\n",
      " #   Column                 Non-Null Count  Dtype  \n",
      "---  ------                 --------------  -----  \n",
      " 0   customer_id            4314 non-null   int64  \n",
      " 1   country                4314 non-null   object \n",
      " 2   recency                4314 non-null   int64  \n",
      " 3   avg_days_bw_purchases  4314 non-null   float64\n",
      " 4   num_purchases          4314 non-null   int64  \n",
      " 5   date_range             4314 non-null   int64  \n",
      " 6   frequency              4314 non-null   float64\n",
      " 7   revenue                4314 non-null   float64\n",
      " 8   avg_ticket             4314 non-null   float64\n",
      " 9   qty_items              4314 non-null   int64  \n",
      " 10  avg_basket_size        4314 non-null   float64\n",
      " 11  avg_unique_prods       4314 non-null   float64\n",
      " 12  returns_revenue        4314 non-null   float64\n",
      " 13  avg_return_revenue     4314 non-null   float64\n",
      " 14  num_returns            4314 non-null   float64\n",
      " 15  qty_returned           4314 non-null   float64\n",
      "dtypes: float64(10), int64(5), object(1)\n",
      "memory usage: 573.0+ KB\n"
     ]
    }
   ],
   "source": [
    "df5.info()"
   ]
  },
  {
   "cell_type": "code",
   "execution_count": 134,
   "metadata": {},
   "outputs": [
    {
     "data": {
      "text/plain": [
       "105"
      ]
     },
     "execution_count": 134,
     "metadata": {},
     "output_type": "execute_result"
    }
   ],
   "source": [
    "del df4\n",
    "gc.collect()"
   ]
  },
  {
   "cell_type": "markdown",
   "metadata": {
    "hidden": true
   },
   "source": [
    "### 5.1.1 Describing"
   ]
  },
  {
   "cell_type": "code",
   "execution_count": 135,
   "metadata": {},
   "outputs": [
    {
     "data": {
      "text/html": [
       "<style type=\"text/css\">\n",
       "</style>\n",
       "<table id=\"T_dc334\">\n",
       "  <thead>\n",
       "    <tr>\n",
       "      <th class=\"blank level0\" >&nbsp;</th>\n",
       "      <th id=\"T_dc334_level0_col0\" class=\"col_heading level0 col0\" >min</th>\n",
       "      <th id=\"T_dc334_level0_col1\" class=\"col_heading level0 col1\" >max</th>\n",
       "      <th id=\"T_dc334_level0_col2\" class=\"col_heading level0 col2\" >range</th>\n",
       "      <th id=\"T_dc334_level0_col3\" class=\"col_heading level0 col3\" >mean</th>\n",
       "      <th id=\"T_dc334_level0_col4\" class=\"col_heading level0 col4\" >median</th>\n",
       "      <th id=\"T_dc334_level0_col5\" class=\"col_heading level0 col5\" >std</th>\n",
       "      <th id=\"T_dc334_level0_col6\" class=\"col_heading level0 col6\" >skew</th>\n",
       "      <th id=\"T_dc334_level0_col7\" class=\"col_heading level0 col7\" >kurtosis</th>\n",
       "    </tr>\n",
       "  </thead>\n",
       "  <tbody>\n",
       "    <tr>\n",
       "      <th id=\"T_dc334_level0_row0\" class=\"row_heading level0 row0\" >customer_id</th>\n",
       "      <td id=\"T_dc334_row0_col0\" class=\"data row0 col0\" >12,347.00</td>\n",
       "      <td id=\"T_dc334_row0_col1\" class=\"data row0 col1\" >18,287.00</td>\n",
       "      <td id=\"T_dc334_row0_col2\" class=\"data row0 col2\" >5,940.00</td>\n",
       "      <td id=\"T_dc334_row0_col3\" class=\"data row0 col3\" >15,301.83</td>\n",
       "      <td id=\"T_dc334_row0_col4\" class=\"data row0 col4\" >15,300.50</td>\n",
       "      <td id=\"T_dc334_row0_col5\" class=\"data row0 col5\" >1,720.16</td>\n",
       "      <td id=\"T_dc334_row0_col6\" class=\"data row0 col6\" >0.00</td>\n",
       "      <td id=\"T_dc334_row0_col7\" class=\"data row0 col7\" >-1.20</td>\n",
       "    </tr>\n",
       "    <tr>\n",
       "      <th id=\"T_dc334_level0_row1\" class=\"row_heading level0 row1\" >recency</th>\n",
       "      <td id=\"T_dc334_row1_col0\" class=\"data row1 col0\" >1.00</td>\n",
       "      <td id=\"T_dc334_row1_col1\" class=\"data row1 col1\" >374.00</td>\n",
       "      <td id=\"T_dc334_row1_col2\" class=\"data row1 col2\" >373.00</td>\n",
       "      <td id=\"T_dc334_row1_col3\" class=\"data row1 col3\" >93.05</td>\n",
       "      <td id=\"T_dc334_row1_col4\" class=\"data row1 col4\" >51.00</td>\n",
       "      <td id=\"T_dc334_row1_col5\" class=\"data row1 col5\" >100.17</td>\n",
       "      <td id=\"T_dc334_row1_col6\" class=\"data row1 col6\" >1.25</td>\n",
       "      <td id=\"T_dc334_row1_col7\" class=\"data row1 col7\" >0.43</td>\n",
       "    </tr>\n",
       "    <tr>\n",
       "      <th id=\"T_dc334_level0_row2\" class=\"row_heading level0 row2\" >avg_days_bw_purchases</th>\n",
       "      <td id=\"T_dc334_row2_col0\" class=\"data row2 col0\" >0.00</td>\n",
       "      <td id=\"T_dc334_row2_col1\" class=\"data row2 col1\" >366.00</td>\n",
       "      <td id=\"T_dc334_row2_col2\" class=\"data row2 col2\" >366.00</td>\n",
       "      <td id=\"T_dc334_row2_col3\" class=\"data row2 col3\" >50.57</td>\n",
       "      <td id=\"T_dc334_row2_col4\" class=\"data row2 col4\" >31.09</td>\n",
       "      <td id=\"T_dc334_row2_col5\" class=\"data row2 col5\" >65.32</td>\n",
       "      <td id=\"T_dc334_row2_col6\" class=\"data row2 col6\" >1.99</td>\n",
       "      <td id=\"T_dc334_row2_col7\" class=\"data row2 col7\" >4.65</td>\n",
       "    </tr>\n",
       "    <tr>\n",
       "      <th id=\"T_dc334_level0_row3\" class=\"row_heading level0 row3\" >num_purchases</th>\n",
       "      <td id=\"T_dc334_row3_col0\" class=\"data row3 col0\" >1.00</td>\n",
       "      <td id=\"T_dc334_row3_col1\" class=\"data row3 col1\" >206.00</td>\n",
       "      <td id=\"T_dc334_row3_col2\" class=\"data row3 col2\" >205.00</td>\n",
       "      <td id=\"T_dc334_row3_col3\" class=\"data row3 col3\" >4.26</td>\n",
       "      <td id=\"T_dc334_row3_col4\" class=\"data row3 col4\" >2.00</td>\n",
       "      <td id=\"T_dc334_row3_col5\" class=\"data row3 col5\" >7.66</td>\n",
       "      <td id=\"T_dc334_row3_col6\" class=\"data row3 col6\" >11.95</td>\n",
       "      <td id=\"T_dc334_row3_col7\" class=\"data row3 col7\" >244.12</td>\n",
       "    </tr>\n",
       "    <tr>\n",
       "      <th id=\"T_dc334_level0_row4\" class=\"row_heading level0 row4\" >date_range</th>\n",
       "      <td id=\"T_dc334_row4_col0\" class=\"data row4 col0\" >1.00</td>\n",
       "      <td id=\"T_dc334_row4_col1\" class=\"data row4 col1\" >374.00</td>\n",
       "      <td id=\"T_dc334_row4_col2\" class=\"data row4 col2\" >373.00</td>\n",
       "      <td id=\"T_dc334_row4_col3\" class=\"data row4 col3\" >187.22</td>\n",
       "      <td id=\"T_dc334_row4_col4\" class=\"data row4 col4\" >191.00</td>\n",
       "      <td id=\"T_dc334_row4_col5\" class=\"data row4 col5\" >115.01</td>\n",
       "      <td id=\"T_dc334_row4_col6\" class=\"data row4 col6\" >0.01</td>\n",
       "      <td id=\"T_dc334_row4_col7\" class=\"data row4 col7\" >-1.33</td>\n",
       "    </tr>\n",
       "    <tr>\n",
       "      <th id=\"T_dc334_level0_row5\" class=\"row_heading level0 row5\" >frequency</th>\n",
       "      <td id=\"T_dc334_row5_col0\" class=\"data row5 col0\" >0.00</td>\n",
       "      <td id=\"T_dc334_row5_col1\" class=\"data row5 col1\" >34.00</td>\n",
       "      <td id=\"T_dc334_row5_col2\" class=\"data row5 col2\" >34.00</td>\n",
       "      <td id=\"T_dc334_row5_col3\" class=\"data row5 col3\" >0.05</td>\n",
       "      <td id=\"T_dc334_row5_col4\" class=\"data row5 col4\" >0.02</td>\n",
       "      <td id=\"T_dc334_row5_col5\" class=\"data row5 col5\" >0.54</td>\n",
       "      <td id=\"T_dc334_row5_col6\" class=\"data row5 col6\" >58.77</td>\n",
       "      <td id=\"T_dc334_row5_col7\" class=\"data row5 col7\" >3,681.78</td>\n",
       "    </tr>\n",
       "    <tr>\n",
       "      <th id=\"T_dc334_level0_row6\" class=\"row_heading level0 row6\" >revenue</th>\n",
       "      <td id=\"T_dc334_row6_col0\" class=\"data row6 col0\" >3.75</td>\n",
       "      <td id=\"T_dc334_row6_col1\" class=\"data row6 col1\" >278,778.02</td>\n",
       "      <td id=\"T_dc334_row6_col2\" class=\"data row6 col2\" >278,774.27</td>\n",
       "      <td id=\"T_dc334_row6_col3\" class=\"data row6 col3\" >1,922.49</td>\n",
       "      <td id=\"T_dc334_row6_col4\" class=\"data row6 col4\" >655.34</td>\n",
       "      <td id=\"T_dc334_row6_col5\" class=\"data row6 col5\" >8,326.44</td>\n",
       "      <td id=\"T_dc334_row6_col6\" class=\"data row6 col6\" >21.49</td>\n",
       "      <td id=\"T_dc334_row6_col7\" class=\"data row6 col7\" >594.95</td>\n",
       "    </tr>\n",
       "    <tr>\n",
       "      <th id=\"T_dc334_level0_row7\" class=\"row_heading level0 row7\" >avg_ticket</th>\n",
       "      <td id=\"T_dc334_row7_col0\" class=\"data row7 col0\" >3.75</td>\n",
       "      <td id=\"T_dc334_row7_col1\" class=\"data row7 col1\" >13,206.50</td>\n",
       "      <td id=\"T_dc334_row7_col2\" class=\"data row7 col2\" >13,202.75</td>\n",
       "      <td id=\"T_dc334_row7_col3\" class=\"data row7 col3\" >371.22</td>\n",
       "      <td id=\"T_dc334_row7_col4\" class=\"data row7 col4\" >283.27</td>\n",
       "      <td id=\"T_dc334_row7_col5\" class=\"data row7 col5\" >465.09</td>\n",
       "      <td id=\"T_dc334_row7_col6\" class=\"data row7 col6\" >10.65</td>\n",
       "      <td id=\"T_dc334_row7_col7\" class=\"data row7 col7\" >202.58</td>\n",
       "    </tr>\n",
       "    <tr>\n",
       "      <th id=\"T_dc334_level0_row8\" class=\"row_heading level0 row8\" >qty_items</th>\n",
       "      <td id=\"T_dc334_row8_col0\" class=\"data row8 col0\" >1.00</td>\n",
       "      <td id=\"T_dc334_row8_col1\" class=\"data row8 col1\" >197,132.00</td>\n",
       "      <td id=\"T_dc334_row8_col2\" class=\"data row8 col2\" >197,131.00</td>\n",
       "      <td id=\"T_dc334_row8_col3\" class=\"data row8 col3\" >1,133.25</td>\n",
       "      <td id=\"T_dc334_row8_col4\" class=\"data row8 col4\" >373.50</td>\n",
       "      <td id=\"T_dc334_row8_col5\" class=\"data row8 col5\" >4,701.25</td>\n",
       "      <td id=\"T_dc334_row8_col6\" class=\"data row8 col6\" >22.96</td>\n",
       "      <td id=\"T_dc334_row8_col7\" class=\"data row8 col7\" >778.32</td>\n",
       "    </tr>\n",
       "    <tr>\n",
       "      <th id=\"T_dc334_level0_row9\" class=\"row_heading level0 row9\" >avg_basket_size</th>\n",
       "      <td id=\"T_dc334_row9_col0\" class=\"data row9 col0\" >0.25</td>\n",
       "      <td id=\"T_dc334_row9_col1\" class=\"data row9 col1\" >7,824.00</td>\n",
       "      <td id=\"T_dc334_row9_col2\" class=\"data row9 col2\" >7,823.75</td>\n",
       "      <td id=\"T_dc334_row9_col3\" class=\"data row9 col3\" >200.17</td>\n",
       "      <td id=\"T_dc334_row9_col4\" class=\"data row9 col4\" >140.00</td>\n",
       "      <td id=\"T_dc334_row9_col5\" class=\"data row9 col5\" >269.91</td>\n",
       "      <td id=\"T_dc334_row9_col6\" class=\"data row9 col6\" >10.01</td>\n",
       "      <td id=\"T_dc334_row9_col7\" class=\"data row9 col7\" >193.40</td>\n",
       "    </tr>\n",
       "    <tr>\n",
       "      <th id=\"T_dc334_level0_row10\" class=\"row_heading level0 row10\" >avg_unique_prods</th>\n",
       "      <td id=\"T_dc334_row10_col0\" class=\"data row10 col0\" >1.00</td>\n",
       "      <td id=\"T_dc334_row10_col1\" class=\"data row10 col1\" >297.88</td>\n",
       "      <td id=\"T_dc334_row10_col2\" class=\"data row10 col2\" >296.88</td>\n",
       "      <td id=\"T_dc334_row10_col3\" class=\"data row10 col3\" >21.65</td>\n",
       "      <td id=\"T_dc334_row10_col4\" class=\"data row10 col4\" >17.00</td>\n",
       "      <td id=\"T_dc334_row10_col5\" class=\"data row10 col5\" >19.44</td>\n",
       "      <td id=\"T_dc334_row10_col6\" class=\"data row10 col6\" >3.30</td>\n",
       "      <td id=\"T_dc334_row10_col7\" class=\"data row10 col7\" >23.97</td>\n",
       "    </tr>\n",
       "    <tr>\n",
       "      <th id=\"T_dc334_level0_row11\" class=\"row_heading level0 row11\" >returns_revenue</th>\n",
       "      <td id=\"T_dc334_row11_col0\" class=\"data row11 col0\" >-22,998.40</td>\n",
       "      <td id=\"T_dc334_row11_col1\" class=\"data row11 col1\" >0.00</td>\n",
       "      <td id=\"T_dc334_row11_col2\" class=\"data row11 col2\" >22,998.40</td>\n",
       "      <td id=\"T_dc334_row11_col3\" class=\"data row11 col3\" >-50.24</td>\n",
       "      <td id=\"T_dc334_row11_col4\" class=\"data row11 col4\" >0.00</td>\n",
       "      <td id=\"T_dc334_row11_col5\" class=\"data row11 col5\" >499.54</td>\n",
       "      <td id=\"T_dc334_row11_col6\" class=\"data row11 col6\" >-31.50</td>\n",
       "      <td id=\"T_dc334_row11_col7\" class=\"data row11 col7\" >1,243.45</td>\n",
       "    </tr>\n",
       "    <tr>\n",
       "      <th id=\"T_dc334_level0_row12\" class=\"row_heading level0 row12\" >avg_return_revenue</th>\n",
       "      <td id=\"T_dc334_row12_col0\" class=\"data row12 col0\" >-4,599.68</td>\n",
       "      <td id=\"T_dc334_row12_col1\" class=\"data row12 col1\" >0.00</td>\n",
       "      <td id=\"T_dc334_row12_col2\" class=\"data row12 col2\" >4,599.68</td>\n",
       "      <td id=\"T_dc334_row12_col3\" class=\"data row12 col3\" >-9.75</td>\n",
       "      <td id=\"T_dc334_row12_col4\" class=\"data row12 col4\" >0.00</td>\n",
       "      <td id=\"T_dc334_row12_col5\" class=\"data row12 col5\" >85.60</td>\n",
       "      <td id=\"T_dc334_row12_col6\" class=\"data row12 col6\" >-39.64</td>\n",
       "      <td id=\"T_dc334_row12_col7\" class=\"data row12 col7\" >1,977.74</td>\n",
       "    </tr>\n",
       "    <tr>\n",
       "      <th id=\"T_dc334_level0_row13\" class=\"row_heading level0 row13\" >num_returns</th>\n",
       "      <td id=\"T_dc334_row13_col0\" class=\"data row13 col0\" >0.00</td>\n",
       "      <td id=\"T_dc334_row13_col1\" class=\"data row13 col1\" >223.00</td>\n",
       "      <td id=\"T_dc334_row13_col2\" class=\"data row13 col2\" >223.00</td>\n",
       "      <td id=\"T_dc334_row13_col3\" class=\"data row13 col3\" >1.91</td>\n",
       "      <td id=\"T_dc334_row13_col4\" class=\"data row13 col4\" >0.00</td>\n",
       "      <td id=\"T_dc334_row13_col5\" class=\"data row13 col5\" >7.06</td>\n",
       "      <td id=\"T_dc334_row13_col6\" class=\"data row13 col6\" >13.62</td>\n",
       "      <td id=\"T_dc334_row13_col7\" class=\"data row13 col7\" >303.42</td>\n",
       "    </tr>\n",
       "    <tr>\n",
       "      <th id=\"T_dc334_level0_row14\" class=\"row_heading level0 row14\" >qty_returned</th>\n",
       "      <td id=\"T_dc334_row14_col0\" class=\"data row14 col0\" >-9,360.00</td>\n",
       "      <td id=\"T_dc334_row14_col1\" class=\"data row14 col1\" >0.00</td>\n",
       "      <td id=\"T_dc334_row14_col2\" class=\"data row14 col2\" >9,360.00</td>\n",
       "      <td id=\"T_dc334_row14_col3\" class=\"data row14 col3\" >-25.14</td>\n",
       "      <td id=\"T_dc334_row14_col4\" class=\"data row14 col4\" >0.00</td>\n",
       "      <td id=\"T_dc334_row14_col5\" class=\"data row14 col5\" >273.30</td>\n",
       "      <td id=\"T_dc334_row14_col6\" class=\"data row14 col6\" >-26.04</td>\n",
       "      <td id=\"T_dc334_row14_col7\" class=\"data row14 col7\" >787.94</td>\n",
       "    </tr>\n",
       "  </tbody>\n",
       "</table>\n"
      ],
      "text/plain": [
       "<pandas.io.formats.style.Styler at 0x7f17013c4e20>"
      ]
     },
     "execution_count": 135,
     "metadata": {},
     "output_type": "execute_result"
    }
   ],
   "source": [
    "# df3.hist();\n",
    "num_att = df5.select_dtypes(include= ['int','float'])\n",
    "d1 = pd.DataFrame( num_att.min() ).T\n",
    "d2 = pd.DataFrame( num_att.max() ).T\n",
    "d3 = pd.DataFrame( num_att.max() - num_att.min() ).T\n",
    "d4 = pd.DataFrame( num_att.mean() ).T\n",
    "d5 = pd.DataFrame( num_att.median() ).T\n",
    "d6 = pd.DataFrame( num_att.std() ).T\n",
    "d7 = pd.DataFrame( num_att.skew() ).T\n",
    "d8 = pd.DataFrame( num_att.kurtosis() ).T\n",
    "\n",
    "desc = pd.concat( [d1, d2, d3, d4, d5, d6, d7, d8] ).T\n",
    "desc.columns = ['min', 'max', 'range', 'mean', 'median', 'std', 'skew', 'kurtosis' ]\n",
    "desc.style.format( \"{:,.2f}\" )"
   ]
  },
  {
   "cell_type": "markdown",
   "metadata": {
    "heading_collapsed": true
   },
   "source": [
    "# 6.0 Feature Selection"
   ]
  },
  {
   "cell_type": "markdown",
   "metadata": {},
   "source": [
    "## 6.3 Selected Embedding Space"
   ]
  },
  {
   "cell_type": "code",
   "execution_count": 136,
   "metadata": {},
   "outputs": [
    {
     "data": {
      "image/png": "[encoded data removed]",
      "text/plain": [
       "<Figure size 1800x864 with 1 Axes>"
      ]
     },
     "metadata": {},
     "output_type": "display_data"
    }
   ],
   "source": [
    "# selecting most important features. Removing ('avg_basket_size', 'avg_days_bw_purchases', 'avg_return_revenue', 'date_range)\n",
    "cols_selected = ['qty_items','avg_ticket','num_returns','returns_revenue','avg_unique_prods','qty_returned','num_purchases','recency','frequency']\n",
    "\n",
    "# defining independent and dependent variable\n",
    "X = df5[cols_selected].copy()\n",
    "y = df5['revenue']\n",
    "\n",
    "# defining random forest regresor for embedding\n",
    "rf = RandomForestRegressor(random_state = 42, min_samples_split = 20) \n",
    "rf.fit(X, y)\n",
    "\n",
    "# get leafs for each observation\n",
    "df_leaf = pd.DataFrame( rf.apply(X) )\n",
    "\n",
    "# defining umap algorithm\n",
    "n_neighbors = 50\n",
    "umap = UMAP(n_neighbors = n_neighbors, random_state = 42, metric = 'manhattan')  \n",
    "res_umap = umap.fit_transform(df_leaf)\n",
    "metric = umap.metric\n",
    "\n",
    "# storing embedding results on a dataframe\n",
    "df_tree = df5.copy()\n",
    "# df_tree = pd.DataFrame()\n",
    "df_tree['embedding_x'] =  res_umap[:,0]\n",
    "df_tree['embedding_y'] =  res_umap[:,1]\n",
    "\n",
    "# ploting results\n",
    "cmap = sns.color_palette('RdBu_r', as_cmap = True)\n",
    "plt.title('UMAP - Neighbors = {} - Distance = {}'.format(n_neighbors, metric) )\n",
    "sns.scatterplot( data = df_tree, x = 'embedding_x', y = 'embedding_y', hue = 'revenue', palette = cmap);"
   ]
  },
  {
   "cell_type": "code",
   "execution_count": 137,
   "metadata": {},
   "outputs": [
    {
     "data": {
      "text/plain": [
       "qty_items             int64\n",
       "avg_ticket          float64\n",
       "num_returns         float64\n",
       "returns_revenue     float64\n",
       "avg_unique_prods    float64\n",
       "qty_returned        float64\n",
       "num_purchases         int64\n",
       "recency               int64\n",
       "frequency           float64\n",
       "dtype: object"
      ]
     },
     "execution_count": 137,
     "metadata": {},
     "output_type": "execute_result"
    }
   ],
   "source": [
    "X.dtypes"
   ]
  },
  {
   "cell_type": "code",
   "execution_count": 138,
   "metadata": {},
   "outputs": [
    {
     "data": {
      "text/html": [
       "<div>\n",
       "<style scoped>\n",
       "    .dataframe tbody tr th:only-of-type {\n",
       "        vertical-align: middle;\n",
       "    }\n",
       "\n",
       "    .dataframe tbody tr th {\n",
       "        vertical-align: top;\n",
       "    }\n",
       "\n",
       "    .dataframe thead th {\n",
       "        text-align: right;\n",
       "    }\n",
       "</style>\n",
       "<table border=\"1\" class=\"dataframe\">\n",
       "  <thead>\n",
       "    <tr style=\"text-align: right;\">\n",
       "      <th></th>\n",
       "      <th>qty_items</th>\n",
       "      <th>avg_ticket</th>\n",
       "      <th>num_returns</th>\n",
       "      <th>returns_revenue</th>\n",
       "      <th>avg_unique_prods</th>\n",
       "      <th>qty_returned</th>\n",
       "      <th>num_purchases</th>\n",
       "      <th>recency</th>\n",
       "      <th>frequency</th>\n",
       "    </tr>\n",
       "  </thead>\n",
       "  <tbody>\n",
       "    <tr>\n",
       "      <th>0</th>\n",
       "      <td>1693</td>\n",
       "      <td>155.547941</td>\n",
       "      <td>15.0</td>\n",
       "      <td>-102.58</td>\n",
       "      <td>8.735294</td>\n",
       "      <td>-40.0</td>\n",
       "      <td>34</td>\n",
       "      <td>373</td>\n",
       "      <td>34.000000</td>\n",
       "    </tr>\n",
       "    <tr>\n",
       "      <th>1</th>\n",
       "      <td>1355</td>\n",
       "      <td>343.233333</td>\n",
       "      <td>23.0</td>\n",
       "      <td>-143.49</td>\n",
       "      <td>19.000000</td>\n",
       "      <td>-35.0</td>\n",
       "      <td>9</td>\n",
       "      <td>57</td>\n",
       "      <td>0.028391</td>\n",
       "    </tr>\n",
       "    <tr>\n",
       "      <th>2</th>\n",
       "      <td>4978</td>\n",
       "      <td>441.956000</td>\n",
       "      <td>3.0</td>\n",
       "      <td>-76.04</td>\n",
       "      <td>15.466667</td>\n",
       "      <td>-50.0</td>\n",
       "      <td>15</td>\n",
       "      <td>3</td>\n",
       "      <td>0.040431</td>\n",
       "    </tr>\n",
       "    <tr>\n",
       "      <th>3</th>\n",
       "      <td>439</td>\n",
       "      <td>189.650000</td>\n",
       "      <td>0.0</td>\n",
       "      <td>0.00</td>\n",
       "      <td>5.600000</td>\n",
       "      <td>0.0</td>\n",
       "      <td>5</td>\n",
       "      <td>96</td>\n",
       "      <td>0.017986</td>\n",
       "    </tr>\n",
       "    <tr>\n",
       "      <th>4</th>\n",
       "      <td>58</td>\n",
       "      <td>211.700000</td>\n",
       "      <td>3.0</td>\n",
       "      <td>-240.90</td>\n",
       "      <td>1.000000</td>\n",
       "      <td>-22.0</td>\n",
       "      <td>3</td>\n",
       "      <td>334</td>\n",
       "      <td>0.075000</td>\n",
       "    </tr>\n",
       "    <tr>\n",
       "      <th>5</th>\n",
       "      <td>2073</td>\n",
       "      <td>325.107857</td>\n",
       "      <td>6.0</td>\n",
       "      <td>-71.79</td>\n",
       "      <td>7.285714</td>\n",
       "      <td>-29.0</td>\n",
       "      <td>14</td>\n",
       "      <td>26</td>\n",
       "      <td>0.040230</td>\n",
       "    </tr>\n",
       "    <tr>\n",
       "      <th>6</th>\n",
       "      <td>3222</td>\n",
       "      <td>243.208571</td>\n",
       "      <td>32.0</td>\n",
       "      <td>-523.49</td>\n",
       "      <td>15.285714</td>\n",
       "      <td>-399.0</td>\n",
       "      <td>21</td>\n",
       "      <td>8</td>\n",
       "      <td>0.057377</td>\n",
       "    </tr>\n",
       "    <tr>\n",
       "      <th>7</th>\n",
       "      <td>2016</td>\n",
       "      <td>445.404167</td>\n",
       "      <td>2.0</td>\n",
       "      <td>-67.06</td>\n",
       "      <td>5.083333</td>\n",
       "      <td>-41.0</td>\n",
       "      <td>12</td>\n",
       "      <td>17</td>\n",
       "      <td>0.033613</td>\n",
       "    </tr>\n",
       "    <tr>\n",
       "      <th>8</th>\n",
       "      <td>37720</td>\n",
       "      <td>652.959780</td>\n",
       "      <td>112.0</td>\n",
       "      <td>-1348.56</td>\n",
       "      <td>25.901099</td>\n",
       "      <td>-474.0</td>\n",
       "      <td>91</td>\n",
       "      <td>1</td>\n",
       "      <td>0.243968</td>\n",
       "    </tr>\n",
       "    <tr>\n",
       "      <th>9</th>\n",
       "      <td>613</td>\n",
       "      <td>286.518571</td>\n",
       "      <td>0.0</td>\n",
       "      <td>0.00</td>\n",
       "      <td>9.428571</td>\n",
       "      <td>0.0</td>\n",
       "      <td>7</td>\n",
       "      <td>88</td>\n",
       "      <td>0.024476</td>\n",
       "    </tr>\n",
       "  </tbody>\n",
       "</table>\n",
       "</div>"
      ],
      "text/plain": [
       "   qty_items  avg_ticket  num_returns  returns_revenue  avg_unique_prods  qty_returned  num_purchases  recency  frequency\n",
       "0       1693  155.547941         15.0          -102.58          8.735294         -40.0             34      373  34.000000\n",
       "1       1355  343.233333         23.0          -143.49         19.000000         -35.0              9       57   0.028391\n",
       "2       4978  441.956000          3.0           -76.04         15.466667         -50.0             15        3   0.040431\n",
       "3        439  189.650000          0.0             0.00          5.600000           0.0              5       96   0.017986\n",
       "4         58  211.700000          3.0          -240.90          1.000000         -22.0              3      334   0.075000\n",
       "5       2073  325.107857          6.0           -71.79          7.285714         -29.0             14       26   0.040230\n",
       "6       3222  243.208571         32.0          -523.49         15.285714        -399.0             21        8   0.057377\n",
       "7       2016  445.404167          2.0           -67.06          5.083333         -41.0             12       17   0.033613\n",
       "8      37720  652.959780        112.0         -1348.56         25.901099        -474.0             91        1   0.243968\n",
       "9        613  286.518571          0.0             0.00          9.428571           0.0              7       88   0.024476"
      ]
     },
     "execution_count": 138,
     "metadata": {},
     "output_type": "execute_result"
    }
   ],
   "source": [
    "X.head(10)"
   ]
  },
  {
   "cell_type": "code",
   "execution_count": 139,
   "metadata": {},
   "outputs": [
    {
     "data": {
      "text/html": [
       "<div>\n",
       "<style scoped>\n",
       "    .dataframe tbody tr th:only-of-type {\n",
       "        vertical-align: middle;\n",
       "    }\n",
       "\n",
       "    .dataframe tbody tr th {\n",
       "        vertical-align: top;\n",
       "    }\n",
       "\n",
       "    .dataframe thead th {\n",
       "        text-align: right;\n",
       "    }\n",
       "</style>\n",
       "<table border=\"1\" class=\"dataframe\">\n",
       "  <thead>\n",
       "    <tr style=\"text-align: right;\">\n",
       "      <th></th>\n",
       "      <th>0</th>\n",
       "      <th>1</th>\n",
       "      <th>2</th>\n",
       "      <th>3</th>\n",
       "      <th>4</th>\n",
       "      <th>5</th>\n",
       "      <th>6</th>\n",
       "      <th>7</th>\n",
       "      <th>8</th>\n",
       "      <th>9</th>\n",
       "      <th>10</th>\n",
       "      <th>11</th>\n",
       "      <th>12</th>\n",
       "      <th>13</th>\n",
       "      <th>14</th>\n",
       "      <th>15</th>\n",
       "      <th>16</th>\n",
       "      <th>17</th>\n",
       "      <th>18</th>\n",
       "      <th>19</th>\n",
       "      <th>20</th>\n",
       "      <th>21</th>\n",
       "      <th>22</th>\n",
       "      <th>23</th>\n",
       "      <th>24</th>\n",
       "      <th>25</th>\n",
       "      <th>26</th>\n",
       "      <th>27</th>\n",
       "      <th>28</th>\n",
       "      <th>29</th>\n",
       "      <th>30</th>\n",
       "      <th>31</th>\n",
       "      <th>32</th>\n",
       "      <th>33</th>\n",
       "      <th>34</th>\n",
       "      <th>35</th>\n",
       "      <th>36</th>\n",
       "      <th>37</th>\n",
       "      <th>38</th>\n",
       "      <th>39</th>\n",
       "      <th>40</th>\n",
       "      <th>41</th>\n",
       "      <th>42</th>\n",
       "      <th>43</th>\n",
       "      <th>44</th>\n",
       "      <th>45</th>\n",
       "      <th>46</th>\n",
       "      <th>47</th>\n",
       "      <th>48</th>\n",
       "      <th>49</th>\n",
       "      <th>50</th>\n",
       "      <th>51</th>\n",
       "      <th>52</th>\n",
       "      <th>53</th>\n",
       "      <th>54</th>\n",
       "      <th>55</th>\n",
       "      <th>56</th>\n",
       "      <th>57</th>\n",
       "      <th>58</th>\n",
       "      <th>59</th>\n",
       "      <th>60</th>\n",
       "      <th>61</th>\n",
       "      <th>62</th>\n",
       "      <th>63</th>\n",
       "      <th>64</th>\n",
       "      <th>65</th>\n",
       "      <th>66</th>\n",
       "      <th>67</th>\n",
       "      <th>68</th>\n",
       "      <th>69</th>\n",
       "      <th>70</th>\n",
       "      <th>71</th>\n",
       "      <th>72</th>\n",
       "      <th>73</th>\n",
       "      <th>74</th>\n",
       "      <th>75</th>\n",
       "      <th>76</th>\n",
       "      <th>77</th>\n",
       "      <th>78</th>\n",
       "      <th>79</th>\n",
       "      <th>80</th>\n",
       "      <th>81</th>\n",
       "      <th>82</th>\n",
       "      <th>83</th>\n",
       "      <th>84</th>\n",
       "      <th>85</th>\n",
       "      <th>86</th>\n",
       "      <th>87</th>\n",
       "      <th>88</th>\n",
       "      <th>89</th>\n",
       "      <th>90</th>\n",
       "      <th>91</th>\n",
       "      <th>92</th>\n",
       "      <th>93</th>\n",
       "      <th>94</th>\n",
       "      <th>95</th>\n",
       "      <th>96</th>\n",
       "      <th>97</th>\n",
       "      <th>98</th>\n",
       "      <th>99</th>\n",
       "    </tr>\n",
       "  </thead>\n",
       "  <tbody>\n",
       "    <tr>\n",
       "      <th>0</th>\n",
       "      <td>388</td>\n",
       "      <td>411</td>\n",
       "      <td>415</td>\n",
       "      <td>419</td>\n",
       "      <td>425</td>\n",
       "      <td>415</td>\n",
       "      <td>395</td>\n",
       "      <td>403</td>\n",
       "      <td>422</td>\n",
       "      <td>440</td>\n",
       "      <td>450</td>\n",
       "      <td>380</td>\n",
       "      <td>436</td>\n",
       "      <td>421</td>\n",
       "      <td>410</td>\n",
       "      <td>435</td>\n",
       "      <td>406</td>\n",
       "      <td>410</td>\n",
       "      <td>396</td>\n",
       "      <td>422</td>\n",
       "      <td>409</td>\n",
       "      <td>409</td>\n",
       "      <td>416</td>\n",
       "      <td>408</td>\n",
       "      <td>368</td>\n",
       "      <td>411</td>\n",
       "      <td>370</td>\n",
       "      <td>427</td>\n",
       "      <td>393</td>\n",
       "      <td>355</td>\n",
       "      <td>408</td>\n",
       "      <td>424</td>\n",
       "      <td>418</td>\n",
       "      <td>416</td>\n",
       "      <td>428</td>\n",
       "      <td>414</td>\n",
       "      <td>425</td>\n",
       "      <td>430</td>\n",
       "      <td>428</td>\n",
       "      <td>381</td>\n",
       "      <td>428</td>\n",
       "      <td>408</td>\n",
       "      <td>399</td>\n",
       "      <td>441</td>\n",
       "      <td>426</td>\n",
       "      <td>422</td>\n",
       "      <td>406</td>\n",
       "      <td>422</td>\n",
       "      <td>405</td>\n",
       "      <td>382</td>\n",
       "      <td>415</td>\n",
       "      <td>406</td>\n",
       "      <td>409</td>\n",
       "      <td>416</td>\n",
       "      <td>392</td>\n",
       "      <td>431</td>\n",
       "      <td>406</td>\n",
       "      <td>401</td>\n",
       "      <td>430</td>\n",
       "      <td>378</td>\n",
       "      <td>417</td>\n",
       "      <td>423</td>\n",
       "      <td>425</td>\n",
       "      <td>387</td>\n",
       "      <td>443</td>\n",
       "      <td>415</td>\n",
       "      <td>413</td>\n",
       "      <td>446</td>\n",
       "      <td>433</td>\n",
       "      <td>415</td>\n",
       "      <td>394</td>\n",
       "      <td>410</td>\n",
       "      <td>410</td>\n",
       "      <td>420</td>\n",
       "      <td>432</td>\n",
       "      <td>396</td>\n",
       "      <td>424</td>\n",
       "      <td>395</td>\n",
       "      <td>397</td>\n",
       "      <td>451</td>\n",
       "      <td>388</td>\n",
       "      <td>412</td>\n",
       "      <td>428</td>\n",
       "      <td>418</td>\n",
       "      <td>427</td>\n",
       "      <td>417</td>\n",
       "      <td>424</td>\n",
       "      <td>401</td>\n",
       "      <td>398</td>\n",
       "      <td>406</td>\n",
       "      <td>410</td>\n",
       "      <td>441</td>\n",
       "      <td>418</td>\n",
       "      <td>430</td>\n",
       "      <td>444</td>\n",
       "      <td>397</td>\n",
       "      <td>402</td>\n",
       "      <td>420</td>\n",
       "      <td>412</td>\n",
       "      <td>438</td>\n",
       "    </tr>\n",
       "    <tr>\n",
       "      <th>1</th>\n",
       "      <td>392</td>\n",
       "      <td>413</td>\n",
       "      <td>384</td>\n",
       "      <td>420</td>\n",
       "      <td>378</td>\n",
       "      <td>420</td>\n",
       "      <td>369</td>\n",
       "      <td>401</td>\n",
       "      <td>423</td>\n",
       "      <td>384</td>\n",
       "      <td>402</td>\n",
       "      <td>379</td>\n",
       "      <td>393</td>\n",
       "      <td>386</td>\n",
       "      <td>407</td>\n",
       "      <td>380</td>\n",
       "      <td>381</td>\n",
       "      <td>373</td>\n",
       "      <td>408</td>\n",
       "      <td>396</td>\n",
       "      <td>365</td>\n",
       "      <td>406</td>\n",
       "      <td>382</td>\n",
       "      <td>411</td>\n",
       "      <td>372</td>\n",
       "      <td>360</td>\n",
       "      <td>362</td>\n",
       "      <td>378</td>\n",
       "      <td>382</td>\n",
       "      <td>350</td>\n",
       "      <td>390</td>\n",
       "      <td>391</td>\n",
       "      <td>377</td>\n",
       "      <td>376</td>\n",
       "      <td>398</td>\n",
       "      <td>384</td>\n",
       "      <td>398</td>\n",
       "      <td>392</td>\n",
       "      <td>391</td>\n",
       "      <td>381</td>\n",
       "      <td>386</td>\n",
       "      <td>375</td>\n",
       "      <td>396</td>\n",
       "      <td>396</td>\n",
       "      <td>397</td>\n",
       "      <td>393</td>\n",
       "      <td>403</td>\n",
       "      <td>334</td>\n",
       "      <td>410</td>\n",
       "      <td>369</td>\n",
       "      <td>384</td>\n",
       "      <td>402</td>\n",
       "      <td>377</td>\n",
       "      <td>417</td>\n",
       "      <td>389</td>\n",
       "      <td>428</td>\n",
       "      <td>383</td>\n",
       "      <td>376</td>\n",
       "      <td>387</td>\n",
       "      <td>389</td>\n",
       "      <td>376</td>\n",
       "      <td>389</td>\n",
       "      <td>398</td>\n",
       "      <td>385</td>\n",
       "      <td>394</td>\n",
       "      <td>378</td>\n",
       "      <td>378</td>\n",
       "      <td>374</td>\n",
       "      <td>398</td>\n",
       "      <td>383</td>\n",
       "      <td>403</td>\n",
       "      <td>413</td>\n",
       "      <td>381</td>\n",
       "      <td>418</td>\n",
       "      <td>393</td>\n",
       "      <td>390</td>\n",
       "      <td>387</td>\n",
       "      <td>402</td>\n",
       "      <td>362</td>\n",
       "      <td>405</td>\n",
       "      <td>385</td>\n",
       "      <td>402</td>\n",
       "      <td>385</td>\n",
       "      <td>411</td>\n",
       "      <td>380</td>\n",
       "      <td>372</td>\n",
       "      <td>420</td>\n",
       "      <td>404</td>\n",
       "      <td>397</td>\n",
       "      <td>389</td>\n",
       "      <td>408</td>\n",
       "      <td>435</td>\n",
       "      <td>388</td>\n",
       "      <td>396</td>\n",
       "      <td>398</td>\n",
       "      <td>396</td>\n",
       "      <td>408</td>\n",
       "      <td>374</td>\n",
       "      <td>393</td>\n",
       "      <td>381</td>\n",
       "    </tr>\n",
       "    <tr>\n",
       "      <th>2</th>\n",
       "      <td>438</td>\n",
       "      <td>463</td>\n",
       "      <td>455</td>\n",
       "      <td>472</td>\n",
       "      <td>456</td>\n",
       "      <td>463</td>\n",
       "      <td>445</td>\n",
       "      <td>453</td>\n",
       "      <td>459</td>\n",
       "      <td>450</td>\n",
       "      <td>472</td>\n",
       "      <td>458</td>\n",
       "      <td>468</td>\n",
       "      <td>448</td>\n",
       "      <td>451</td>\n",
       "      <td>462</td>\n",
       "      <td>446</td>\n",
       "      <td>432</td>\n",
       "      <td>460</td>\n",
       "      <td>470</td>\n",
       "      <td>435</td>\n",
       "      <td>438</td>\n",
       "      <td>429</td>\n",
       "      <td>446</td>\n",
       "      <td>463</td>\n",
       "      <td>444</td>\n",
       "      <td>452</td>\n",
       "      <td>455</td>\n",
       "      <td>433</td>\n",
       "      <td>429</td>\n",
       "      <td>462</td>\n",
       "      <td>473</td>\n",
       "      <td>429</td>\n",
       "      <td>427</td>\n",
       "      <td>473</td>\n",
       "      <td>455</td>\n",
       "      <td>469</td>\n",
       "      <td>466</td>\n",
       "      <td>445</td>\n",
       "      <td>451</td>\n",
       "      <td>436</td>\n",
       "      <td>454</td>\n",
       "      <td>438</td>\n",
       "      <td>469</td>\n",
       "      <td>470</td>\n",
       "      <td>457</td>\n",
       "      <td>445</td>\n",
       "      <td>431</td>\n",
       "      <td>453</td>\n",
       "      <td>449</td>\n",
       "      <td>466</td>\n",
       "      <td>445</td>\n",
       "      <td>432</td>\n",
       "      <td>452</td>\n",
       "      <td>433</td>\n",
       "      <td>464</td>\n",
       "      <td>454</td>\n",
       "      <td>410</td>\n",
       "      <td>458</td>\n",
       "      <td>442</td>\n",
       "      <td>446</td>\n",
       "      <td>436</td>\n",
       "      <td>466</td>\n",
       "      <td>434</td>\n",
       "      <td>452</td>\n",
       "      <td>443</td>\n",
       "      <td>434</td>\n",
       "      <td>468</td>\n",
       "      <td>440</td>\n",
       "      <td>438</td>\n",
       "      <td>441</td>\n",
       "      <td>457</td>\n",
       "      <td>442</td>\n",
       "      <td>460</td>\n",
       "      <td>457</td>\n",
       "      <td>454</td>\n",
       "      <td>467</td>\n",
       "      <td>451</td>\n",
       "      <td>445</td>\n",
       "      <td>465</td>\n",
       "      <td>435</td>\n",
       "      <td>461</td>\n",
       "      <td>465</td>\n",
       "      <td>470</td>\n",
       "      <td>456</td>\n",
       "      <td>425</td>\n",
       "      <td>467</td>\n",
       "      <td>449</td>\n",
       "      <td>446</td>\n",
       "      <td>432</td>\n",
       "      <td>464</td>\n",
       "      <td>489</td>\n",
       "      <td>460</td>\n",
       "      <td>455</td>\n",
       "      <td>461</td>\n",
       "      <td>456</td>\n",
       "      <td>457</td>\n",
       "      <td>457</td>\n",
       "      <td>450</td>\n",
       "      <td>464</td>\n",
       "    </tr>\n",
       "    <tr>\n",
       "      <th>3</th>\n",
       "      <td>228</td>\n",
       "      <td>336</td>\n",
       "      <td>310</td>\n",
       "      <td>291</td>\n",
       "      <td>288</td>\n",
       "      <td>245</td>\n",
       "      <td>274</td>\n",
       "      <td>233</td>\n",
       "      <td>306</td>\n",
       "      <td>268</td>\n",
       "      <td>288</td>\n",
       "      <td>288</td>\n",
       "      <td>290</td>\n",
       "      <td>280</td>\n",
       "      <td>283</td>\n",
       "      <td>280</td>\n",
       "      <td>279</td>\n",
       "      <td>292</td>\n",
       "      <td>251</td>\n",
       "      <td>246</td>\n",
       "      <td>290</td>\n",
       "      <td>291</td>\n",
       "      <td>275</td>\n",
       "      <td>289</td>\n",
       "      <td>290</td>\n",
       "      <td>295</td>\n",
       "      <td>240</td>\n",
       "      <td>314</td>\n",
       "      <td>233</td>\n",
       "      <td>257</td>\n",
       "      <td>299</td>\n",
       "      <td>266</td>\n",
       "      <td>307</td>\n",
       "      <td>297</td>\n",
       "      <td>265</td>\n",
       "      <td>294</td>\n",
       "      <td>333</td>\n",
       "      <td>286</td>\n",
       "      <td>269</td>\n",
       "      <td>282</td>\n",
       "      <td>299</td>\n",
       "      <td>295</td>\n",
       "      <td>286</td>\n",
       "      <td>287</td>\n",
       "      <td>295</td>\n",
       "      <td>296</td>\n",
       "      <td>252</td>\n",
       "      <td>311</td>\n",
       "      <td>280</td>\n",
       "      <td>292</td>\n",
       "      <td>291</td>\n",
       "      <td>321</td>\n",
       "      <td>271</td>\n",
       "      <td>275</td>\n",
       "      <td>263</td>\n",
       "      <td>254</td>\n",
       "      <td>257</td>\n",
       "      <td>225</td>\n",
       "      <td>300</td>\n",
       "      <td>298</td>\n",
       "      <td>314</td>\n",
       "      <td>313</td>\n",
       "      <td>284</td>\n",
       "      <td>288</td>\n",
       "      <td>267</td>\n",
       "      <td>259</td>\n",
       "      <td>281</td>\n",
       "      <td>295</td>\n",
       "      <td>284</td>\n",
       "      <td>231</td>\n",
       "      <td>300</td>\n",
       "      <td>282</td>\n",
       "      <td>303</td>\n",
       "      <td>301</td>\n",
       "      <td>314</td>\n",
       "      <td>256</td>\n",
       "      <td>308</td>\n",
       "      <td>275</td>\n",
       "      <td>277</td>\n",
       "      <td>295</td>\n",
       "      <td>303</td>\n",
       "      <td>288</td>\n",
       "      <td>304</td>\n",
       "      <td>283</td>\n",
       "      <td>275</td>\n",
       "      <td>278</td>\n",
       "      <td>297</td>\n",
       "      <td>272</td>\n",
       "      <td>286</td>\n",
       "      <td>276</td>\n",
       "      <td>268</td>\n",
       "      <td>261</td>\n",
       "      <td>257</td>\n",
       "      <td>276</td>\n",
       "      <td>287</td>\n",
       "      <td>246</td>\n",
       "      <td>284</td>\n",
       "      <td>309</td>\n",
       "      <td>306</td>\n",
       "      <td>323</td>\n",
       "    </tr>\n",
       "    <tr>\n",
       "      <th>4</th>\n",
       "      <td>124</td>\n",
       "      <td>148</td>\n",
       "      <td>129</td>\n",
       "      <td>101</td>\n",
       "      <td>97</td>\n",
       "      <td>112</td>\n",
       "      <td>97</td>\n",
       "      <td>103</td>\n",
       "      <td>114</td>\n",
       "      <td>61</td>\n",
       "      <td>105</td>\n",
       "      <td>107</td>\n",
       "      <td>107</td>\n",
       "      <td>101</td>\n",
       "      <td>94</td>\n",
       "      <td>92</td>\n",
       "      <td>105</td>\n",
       "      <td>102</td>\n",
       "      <td>83</td>\n",
       "      <td>67</td>\n",
       "      <td>96</td>\n",
       "      <td>105</td>\n",
       "      <td>111</td>\n",
       "      <td>104</td>\n",
       "      <td>94</td>\n",
       "      <td>92</td>\n",
       "      <td>115</td>\n",
       "      <td>113</td>\n",
       "      <td>152</td>\n",
       "      <td>91</td>\n",
       "      <td>103</td>\n",
       "      <td>108</td>\n",
       "      <td>101</td>\n",
       "      <td>95</td>\n",
       "      <td>169</td>\n",
       "      <td>101</td>\n",
       "      <td>109</td>\n",
       "      <td>127</td>\n",
       "      <td>105</td>\n",
       "      <td>109</td>\n",
       "      <td>100</td>\n",
       "      <td>94</td>\n",
       "      <td>117</td>\n",
       "      <td>105</td>\n",
       "      <td>101</td>\n",
       "      <td>110</td>\n",
       "      <td>172</td>\n",
       "      <td>105</td>\n",
       "      <td>94</td>\n",
       "      <td>104</td>\n",
       "      <td>104</td>\n",
       "      <td>99</td>\n",
       "      <td>103</td>\n",
       "      <td>104</td>\n",
       "      <td>96</td>\n",
       "      <td>68</td>\n",
       "      <td>146</td>\n",
       "      <td>157</td>\n",
       "      <td>96</td>\n",
       "      <td>90</td>\n",
       "      <td>105</td>\n",
       "      <td>110</td>\n",
       "      <td>102</td>\n",
       "      <td>108</td>\n",
       "      <td>178</td>\n",
       "      <td>130</td>\n",
       "      <td>69</td>\n",
       "      <td>104</td>\n",
       "      <td>125</td>\n",
       "      <td>59</td>\n",
       "      <td>109</td>\n",
       "      <td>106</td>\n",
       "      <td>98</td>\n",
       "      <td>103</td>\n",
       "      <td>109</td>\n",
       "      <td>163</td>\n",
       "      <td>105</td>\n",
       "      <td>111</td>\n",
       "      <td>97</td>\n",
       "      <td>94</td>\n",
       "      <td>139</td>\n",
       "      <td>133</td>\n",
       "      <td>103</td>\n",
       "      <td>80</td>\n",
       "      <td>93</td>\n",
       "      <td>148</td>\n",
       "      <td>104</td>\n",
       "      <td>99</td>\n",
       "      <td>98</td>\n",
       "      <td>97</td>\n",
       "      <td>93</td>\n",
       "      <td>60</td>\n",
       "      <td>99</td>\n",
       "      <td>111</td>\n",
       "      <td>97</td>\n",
       "      <td>120</td>\n",
       "      <td>101</td>\n",
       "      <td>104</td>\n",
       "      <td>104</td>\n",
       "      <td>110</td>\n",
       "    </tr>\n",
       "  </tbody>\n",
       "</table>\n",
       "</div>"
      ],
      "text/plain": [
       "    0    1    2    3    4    5    6    7    8    9    10   11   12   13   14   15   16   17   18   19   20   21   22   23   24   25   26   27   28   29   30   31   32   33   34   35   36   37   38   39   40   41   42   43   44   45   46   47   48   49   50   51   52   53   54   55   56   57   58   59   60   61   62   63   64   65   66   67   68   69   70   71   72   73   74   75   76   77   78   79   80   81   82   83   84   85   86   87   88   89   90   91   92   93   94   95   96   97   98   99\n",
       "0  388  411  415  419  425  415  395  403  422  440  450  380  436  421  410  435  406  410  396  422  409  409  416  408  368  411  370  427  393  355  408  424  418  416  428  414  425  430  428  381  428  408  399  441  426  422  406  422  405  382  415  406  409  416  392  431  406  401  430  378  417  423  425  387  443  415  413  446  433  415  394  410  410  420  432  396  424  395  397  451  388  412  428  418  427  417  424  401  398  406  410  441  418  430  444  397  402  420  412  438\n",
       "1  392  413  384  420  378  420  369  401  423  384  402  379  393  386  407  380  381  373  408  396  365  406  382  411  372  360  362  378  382  350  390  391  377  376  398  384  398  392  391  381  386  375  396  396  397  393  403  334  410  369  384  402  377  417  389  428  383  376  387  389  376  389  398  385  394  378  378  374  398  383  403  413  381  418  393  390  387  402  362  405  385  402  385  411  380  372  420  404  397  389  408  435  388  396  398  396  408  374  393  381\n",
       "2  438  463  455  472  456  463  445  453  459  450  472  458  468  448  451  462  446  432  460  470  435  438  429  446  463  444  452  455  433  429  462  473  429  427  473  455  469  466  445  451  436  454  438  469  470  457  445  431  453  449  466  445  432  452  433  464  454  410  458  442  446  436  466  434  452  443  434  468  440  438  441  457  442  460  457  454  467  451  445  465  435  461  465  470  456  425  467  449  446  432  464  489  460  455  461  456  457  457  450  464\n",
       "3  228  336  310  291  288  245  274  233  306  268  288  288  290  280  283  280  279  292  251  246  290  291  275  289  290  295  240  314  233  257  299  266  307  297  265  294  333  286  269  282  299  295  286  287  295  296  252  311  280  292  291  321  271  275  263  254  257  225  300  298  314  313  284  288  267  259  281  295  284  231  300  282  303  301  314  256  308  275  277  295  303  288  304  283  275  278  297  272  286  276  268  261  257  276  287  246  284  309  306  323\n",
       "4  124  148  129  101   97  112   97  103  114   61  105  107  107  101   94   92  105  102   83   67   96  105  111  104   94   92  115  113  152   91  103  108  101   95  169  101  109  127  105  109  100   94  117  105  101  110  172  105   94  104  104   99  103  104   96   68  146  157   96   90  105  110  102  108  178  130   69  104  125   59  109  106   98  103  109  163  105  111   97   94  139  133  103   80   93  148  104   99   98   97   93   60   99  111   97  120  101  104  104  110"
      ]
     },
     "execution_count": 139,
     "metadata": {},
     "output_type": "execute_result"
    }
   ],
   "source": [
    "df_leaf.head()"
   ]
  },
  {
   "cell_type": "code",
   "execution_count": 187,
   "metadata": {},
   "outputs": [],
   "source": [
    "df_leaf.to_csv('../data/df_tree.csv', index = False)"
   ]
  },
  {
   "cell_type": "code",
   "execution_count": 140,
   "metadata": {},
   "outputs": [
    {
     "data": {
      "text/plain": [
       "array([[-3.5439818,  9.718514 ],\n",
       "       [-4.0253124,  8.022521 ],\n",
       "       [-3.534883 , 16.845985 ],\n",
       "       [-6.975824 , -4.9420776],\n",
       "       [19.139286 , -2.6793914],\n",
       "       [-3.3285398, 14.5276165],\n",
       "       [-3.6040235, 16.173052 ],\n",
       "       [-3.3454175, 14.345102 ],\n",
       "       [ 2.8726454, 20.825611 ],\n",
       "       [-7.4710484, -3.9988532]], dtype=float32)"
      ]
     },
     "execution_count": 140,
     "metadata": {},
     "output_type": "execute_result"
    }
   ],
   "source": [
    "res_umap[:10]"
   ]
  },
  {
   "cell_type": "code",
   "execution_count": 189,
   "metadata": {},
   "outputs": [
    {
     "data": {
      "text/plain": [
       "array([[ 1.4623168 , 23.13465   ],\n",
       "       [-2.2700624 ,  5.5088096 ],\n",
       "       [11.379198  , -1.7094302 ],\n",
       "       [12.041916  , 10.837774  ],\n",
       "       [11.8464985 , -3.6665797 ],\n",
       "       [13.000165  ,  8.220985  ],\n",
       "       [11.630523  , -2.6424465 ],\n",
       "       [17.075638  , -0.10805517],\n",
       "       [12.205334  ,  6.599212  ],\n",
       "       [ 0.59354407, -8.022127  ]], dtype=float32)"
      ]
     },
     "execution_count": 189,
     "metadata": {},
     "output_type": "execute_result"
    }
   ],
   "source": [
    "res_umap[-10:]"
   ]
  },
  {
   "cell_type": "markdown",
   "metadata": {},
   "source": [
    "# 7.0 Model Testing"
   ]
  },
  {
   "cell_type": "code",
   "execution_count": 141,
   "metadata": {},
   "outputs": [],
   "source": [
    "# defining two spaces of data (embedded and rescaled) to test models\n",
    "\n",
    "# tree embedded data\n",
    "df_tree = pd.DataFrame()\n",
    "df_tree['embedding_x'] =  res_umap[:,0]\n",
    "df_tree['embedding_y'] =  res_umap[:,1]\n",
    "\n",
    "# rescaled data\n",
    "df7 = df5.copy()"
   ]
  },
  {
   "cell_type": "code",
   "execution_count": 142,
   "metadata": {},
   "outputs": [
    {
     "data": {
      "text/plain": [
       "32781"
      ]
     },
     "execution_count": 142,
     "metadata": {},
     "output_type": "execute_result"
    }
   ],
   "source": [
    "del X, y, df5\n",
    "gc.collect()"
   ]
  },
  {
   "cell_type": "markdown",
   "metadata": {},
   "source": [
    "# 8.0 Model Training"
   ]
  },
  {
   "cell_type": "code",
   "execution_count": 143,
   "metadata": {},
   "outputs": [
    {
     "data": {
      "text/plain": [
       "(4314, 16)"
      ]
     },
     "execution_count": 143,
     "metadata": {},
     "output_type": "execute_result"
    }
   ],
   "source": [
    "df7.shape"
   ]
  },
  {
   "cell_type": "code",
   "execution_count": 144,
   "metadata": {},
   "outputs": [
    {
     "data": {
      "text/plain": [
       "(4314, 20)"
      ]
     },
     "execution_count": 144,
     "metadata": {},
     "output_type": "execute_result"
    }
   ],
   "source": [
    "# defining model \n",
    "db_model = DBSCAN(eps = 2.1, min_samples=50)\n",
    "\n",
    "# applying model \n",
    "labels = db_model.fit_predict(df_tree)\n",
    "\n",
    "df_result = df7.reset_index(drop = True).copy()\n",
    "\n",
    "# concatenating results\n",
    "df_result = pd.concat( [df_result, df_tree], axis = 1 )\n",
    "\n",
    "# defining cluster\n",
    "df_result['cluster'] = labels.astype(str)\n",
    "\n",
    "# mapping cluster names\n",
    "names = {\"4\" : \"Insiders\",\n",
    "         \"1\" : \"Potential Loyalists\",\n",
    "         \"0\" : \"Loyal Customers\",\n",
    "         \"2\" : \"Promissing 1\",\n",
    "         \"8\" : \"Need Attention 1\",\n",
    "         \"6\" : \"Promising 2\",\n",
    "         \"7\" : \"Need Attention 2\",\n",
    "         \"5\" : \"Hibernating 1\",\n",
    "         \"10\" : \"Churn 1\",\n",
    "         \"3\" : \"Price Sensitive\",\n",
    "         \"9\" : \"Churn 2\",\n",
    "         \"11\" : \"Hibernating 2\",\n",
    "         \"-1\" : 'Noise' }\n",
    "\n",
    "df_result['cluster_name'] = df_result['cluster'].map(names)\n",
    "\n",
    "df_result.rename( columns = {'date_range': 'tenure'}, inplace = True)\n",
    "df_result.head()\n",
    "df_result.shape"
   ]
  },
  {
   "cell_type": "code",
   "execution_count": 145,
   "metadata": {},
   "outputs": [
    {
     "data": {
      "image/png": "[encoded data removed]",
      "text/plain": [
       "<Figure size 1800x864 with 1 Axes>"
      ]
     },
     "metadata": {},
     "output_type": "display_data"
    }
   ],
   "source": [
    "sns.scatterplot(data = df_result, x = 'embedding_x', y = 'embedding_y', hue = 'cluster_name', palette = 'bright');"
   ]
  },
  {
   "cell_type": "markdown",
   "metadata": {},
   "source": [
    "# 9.0 Cluster Analysis"
   ]
  },
  {
   "cell_type": "markdown",
   "metadata": {},
   "source": [
    "## 9.4 Business Perspective"
   ]
  },
  {
   "cell_type": "markdown",
   "metadata": {},
   "source": [
    "### 9.4.1 Clusters Table"
   ]
  },
  {
   "cell_type": "code",
   "execution_count": 146,
   "metadata": {},
   "outputs": [],
   "source": [
    "# number of customers per cluster\n",
    "n_cust = df_result.copy()\n",
    "n_cust = n_cust.groupby('cluster').count().reset_index().rename(columns = {'customer_id' : 'num_of_customers'})\n",
    "n_cust['perc_of_customer'] = n_cust['num_of_customers']/n_cust['num_of_customers'].sum()*100\n",
    "n_cust = n_cust[['cluster', 'num_of_customers', 'perc_of_customer']]"
   ]
  },
  {
   "cell_type": "code",
   "execution_count": 147,
   "metadata": {},
   "outputs": [
    {
     "data": {
      "text/html": [
       "<style type=\"text/css\">\n",
       "</style>\n",
       "<table id=\"T_e3a94\">\n",
       "  <thead>\n",
       "    <tr>\n",
       "      <th class=\"blank level0\" >&nbsp;</th>\n",
       "      <th id=\"T_e3a94_level0_col0\" class=\"col_heading level0 col0\" >cluster_name</th>\n",
       "      <th id=\"T_e3a94_level0_col1\" class=\"col_heading level0 col1\" >num_of_customers</th>\n",
       "      <th id=\"T_e3a94_level0_col2\" class=\"col_heading level0 col2\" >perc_of_customer</th>\n",
       "      <th id=\"T_e3a94_level0_col3\" class=\"col_heading level0 col3\" >recency</th>\n",
       "      <th id=\"T_e3a94_level0_col4\" class=\"col_heading level0 col4\" >revenue</th>\n",
       "      <th id=\"T_e3a94_level0_col5\" class=\"col_heading level0 col5\" >avg_ticket</th>\n",
       "      <th id=\"T_e3a94_level0_col6\" class=\"col_heading level0 col6\" >num_purchases</th>\n",
       "      <th id=\"T_e3a94_level0_col7\" class=\"col_heading level0 col7\" >tenure</th>\n",
       "      <th id=\"T_e3a94_level0_col8\" class=\"col_heading level0 col8\" >frequency</th>\n",
       "      <th id=\"T_e3a94_level0_col9\" class=\"col_heading level0 col9\" >num_returns</th>\n",
       "      <th id=\"T_e3a94_level0_col10\" class=\"col_heading level0 col10\" >avg_return_revenue</th>\n",
       "    </tr>\n",
       "  </thead>\n",
       "  <tbody>\n",
       "    <tr>\n",
       "      <th id=\"T_e3a94_level0_row0\" class=\"row_heading level0 row0\" >7</th>\n",
       "      <td id=\"T_e3a94_row0_col0\" class=\"data row0 col0\" >Insiders</td>\n",
       "      <td id=\"T_e3a94_row0_col1\" class=\"data row0 col1\" >122</td>\n",
       "      <td id=\"T_e3a94_row0_col2\" class=\"data row0 col2\" >2.83%</td>\n",
       "      <td id=\"T_e3a94_row0_col3\" class=\"data row0 col3\" >19.89</td>\n",
       "      <td id=\"T_e3a94_row0_col4\" class=\"data row0 col4\" >26,919.61</td>\n",
       "      <td id=\"T_e3a94_row0_col5\" class=\"data row0 col5\" >1,190.97</td>\n",
       "      <td id=\"T_e3a94_row0_col6\" class=\"data row0 col6\" >28.32</td>\n",
       "      <td id=\"T_e3a94_row0_col7\" class=\"data row0 col7\" >315.70</td>\n",
       "      <td id=\"T_e3a94_row0_col8\" class=\"data row0 col8\" >0.1405</td>\n",
       "      <td id=\"T_e3a94_row0_col9\" class=\"data row0 col9\" >16.39</td>\n",
       "      <td id=\"T_e3a94_row0_col10\" class=\"data row0 col10\" >-105.77</td>\n",
       "    </tr>\n",
       "    <tr>\n",
       "      <th id=\"T_e3a94_level0_row1\" class=\"row_heading level0 row1\" >2</th>\n",
       "      <td id=\"T_e3a94_row1_col0\" class=\"data row1 col0\" >Potential Loyalists</td>\n",
       "      <td id=\"T_e3a94_row1_col1\" class=\"data row1 col1\" >350</td>\n",
       "      <td id=\"T_e3a94_row1_col2\" class=\"data row1 col2\" >8.11%</td>\n",
       "      <td id=\"T_e3a94_row1_col3\" class=\"data row1 col3\" >29.42</td>\n",
       "      <td id=\"T_e3a94_row1_col4\" class=\"data row1 col4\" >4,807.84</td>\n",
       "      <td id=\"T_e3a94_row1_col5\" class=\"data row1 col5\" >663.65</td>\n",
       "      <td id=\"T_e3a94_row1_col6\" class=\"data row1 col6\" >10.77</td>\n",
       "      <td id=\"T_e3a94_row1_col7\" class=\"data row1 col7\" >283.83</td>\n",
       "      <td id=\"T_e3a94_row1_col8\" class=\"data row1 col8\" >0.0435</td>\n",
       "      <td id=\"T_e3a94_row1_col9\" class=\"data row1 col9\" >5.75</td>\n",
       "      <td id=\"T_e3a94_row1_col10\" class=\"data row1 col10\" >-15.99</td>\n",
       "    </tr>\n",
       "    <tr>\n",
       "      <th id=\"T_e3a94_level0_row2\" class=\"row_heading level0 row2\" >1</th>\n",
       "      <td id=\"T_e3a94_row2_col0\" class=\"data row2 col0\" >Loyal Customers</td>\n",
       "      <td id=\"T_e3a94_row2_col1\" class=\"data row2 col1\" >832</td>\n",
       "      <td id=\"T_e3a94_row2_col2\" class=\"data row2 col2\" >19.29%</td>\n",
       "      <td id=\"T_e3a94_row2_col3\" class=\"data row2 col3\" >44.18</td>\n",
       "      <td id=\"T_e3a94_row2_col4\" class=\"data row2 col4\" >2,081.88</td>\n",
       "      <td id=\"T_e3a94_row2_col5\" class=\"data row2 col5\" >447.67</td>\n",
       "      <td id=\"T_e3a94_row2_col6\" class=\"data row2 col6\" >5.93</td>\n",
       "      <td id=\"T_e3a94_row2_col7\" class=\"data row2 col7\" >231.45</td>\n",
       "      <td id=\"T_e3a94_row2_col8\" class=\"data row2 col8\" >0.0740</td>\n",
       "      <td id=\"T_e3a94_row2_col9\" class=\"data row2 col9\" >2.51</td>\n",
       "      <td id=\"T_e3a94_row2_col10\" class=\"data row2 col10\" >-10.81</td>\n",
       "    </tr>\n",
       "    <tr>\n",
       "      <th id=\"T_e3a94_level0_row3\" class=\"row_heading level0 row3\" >5</th>\n",
       "      <td id=\"T_e3a94_row3_col0\" class=\"data row3 col0\" >Promissing 1</td>\n",
       "      <td id=\"T_e3a94_row3_col1\" class=\"data row3 col1\" >390</td>\n",
       "      <td id=\"T_e3a94_row3_col2\" class=\"data row3 col2\" >9.04%</td>\n",
       "      <td id=\"T_e3a94_row3_col3\" class=\"data row3 col3\" >54.91</td>\n",
       "      <td id=\"T_e3a94_row3_col4\" class=\"data row3 col4\" >1,229.51</td>\n",
       "      <td id=\"T_e3a94_row3_col5\" class=\"data row3 col5\" >358.42</td>\n",
       "      <td id=\"T_e3a94_row3_col6\" class=\"data row3 col6\" >4.41</td>\n",
       "      <td id=\"T_e3a94_row3_col7\" class=\"data row3 col7\" >199.24</td>\n",
       "      <td id=\"T_e3a94_row3_col8\" class=\"data row3 col8\" >0.0387</td>\n",
       "      <td id=\"T_e3a94_row3_col9\" class=\"data row3 col9\" >1.73</td>\n",
       "      <td id=\"T_e3a94_row3_col10\" class=\"data row3 col10\" >-10.26</td>\n",
       "    </tr>\n",
       "    <tr>\n",
       "      <th id=\"T_e3a94_level0_row4\" class=\"row_heading level0 row4\" >11</th>\n",
       "      <td id=\"T_e3a94_row4_col0\" class=\"data row4 col0\" >Need Attention 1</td>\n",
       "      <td id=\"T_e3a94_row4_col1\" class=\"data row4 col1\" >577</td>\n",
       "      <td id=\"T_e3a94_row4_col2\" class=\"data row4 col2\" >13.38%</td>\n",
       "      <td id=\"T_e3a94_row4_col3\" class=\"data row4 col3\" >93.42</td>\n",
       "      <td id=\"T_e3a94_row4_col4\" class=\"data row4 col4\" >777.66</td>\n",
       "      <td id=\"T_e3a94_row4_col5\" class=\"data row4 col5\" >440.05</td>\n",
       "      <td id=\"T_e3a94_row4_col6\" class=\"data row4 col6\" >2.02</td>\n",
       "      <td id=\"T_e3a94_row4_col7\" class=\"data row4 col7\" >135.19</td>\n",
       "      <td id=\"T_e3a94_row4_col8\" class=\"data row4 col8\" >0.0444</td>\n",
       "      <td id=\"T_e3a94_row4_col9\" class=\"data row4 col9\" >0.74</td>\n",
       "      <td id=\"T_e3a94_row4_col10\" class=\"data row4 col10\" >-4.98</td>\n",
       "    </tr>\n",
       "    <tr>\n",
       "      <th id=\"T_e3a94_level0_row5\" class=\"row_heading level0 row5\" >9</th>\n",
       "      <td id=\"T_e3a94_row5_col0\" class=\"data row5 col0\" >Promising 2</td>\n",
       "      <td id=\"T_e3a94_row5_col1\" class=\"data row5 col1\" >184</td>\n",
       "      <td id=\"T_e3a94_row5_col2\" class=\"data row5 col2\" >4.27%</td>\n",
       "      <td id=\"T_e3a94_row5_col3\" class=\"data row5 col3\" >67.53</td>\n",
       "      <td id=\"T_e3a94_row5_col4\" class=\"data row5 col4\" >633.76</td>\n",
       "      <td id=\"T_e3a94_row5_col5\" class=\"data row5 col5\" >173.89</td>\n",
       "      <td id=\"T_e3a94_row5_col6\" class=\"data row5 col6\" >3.80</td>\n",
       "      <td id=\"T_e3a94_row5_col7\" class=\"data row5 col7\" >186.69</td>\n",
       "      <td id=\"T_e3a94_row5_col8\" class=\"data row5 col8\" >0.0517</td>\n",
       "      <td id=\"T_e3a94_row5_col9\" class=\"data row5 col9\" >1.99</td>\n",
       "      <td id=\"T_e3a94_row5_col10\" class=\"data row5 col10\" >-9.83</td>\n",
       "    </tr>\n",
       "    <tr>\n",
       "      <th id=\"T_e3a94_level0_row6\" class=\"row_heading level0 row6\" >10</th>\n",
       "      <td id=\"T_e3a94_row6_col0\" class=\"data row6 col0\" >Need Attention 2</td>\n",
       "      <td id=\"T_e3a94_row6_col1\" class=\"data row6 col1\" >230</td>\n",
       "      <td id=\"T_e3a94_row6_col2\" class=\"data row6 col2\" >5.33%</td>\n",
       "      <td id=\"T_e3a94_row6_col3\" class=\"data row6 col3\" >90.58</td>\n",
       "      <td id=\"T_e3a94_row6_col4\" class=\"data row6 col4\" >481.55</td>\n",
       "      <td id=\"T_e3a94_row6_col5\" class=\"data row6 col5\" >240.78</td>\n",
       "      <td id=\"T_e3a94_row6_col6\" class=\"data row6 col6\" >2.00</td>\n",
       "      <td id=\"T_e3a94_row6_col7\" class=\"data row6 col7\" >129.31</td>\n",
       "      <td id=\"T_e3a94_row6_col8\" class=\"data row6 col8\" >0.0562</td>\n",
       "      <td id=\"T_e3a94_row6_col9\" class=\"data row6 col9\" >0.52</td>\n",
       "      <td id=\"T_e3a94_row6_col10\" class=\"data row6 col10\" >-2.86</td>\n",
       "    </tr>\n",
       "    <tr>\n",
       "      <th id=\"T_e3a94_level0_row7\" class=\"row_heading level0 row7\" >8</th>\n",
       "      <td id=\"T_e3a94_row7_col0\" class=\"data row7 col0\" >Hibernating 1</td>\n",
       "      <td id=\"T_e3a94_row7_col1\" class=\"data row7 col1\" >253</td>\n",
       "      <td id=\"T_e3a94_row7_col2\" class=\"data row7 col2\" >5.86%</td>\n",
       "      <td id=\"T_e3a94_row7_col3\" class=\"data row7 col3\" >136.85</td>\n",
       "      <td id=\"T_e3a94_row7_col4\" class=\"data row7 col4\" >433.87</td>\n",
       "      <td id=\"T_e3a94_row7_col5\" class=\"data row7 col5\" >433.87</td>\n",
       "      <td id=\"T_e3a94_row7_col6\" class=\"data row7 col6\" >1.00</td>\n",
       "      <td id=\"T_e3a94_row7_col7\" class=\"data row7 col7\" >136.85</td>\n",
       "      <td id=\"T_e3a94_row7_col8\" class=\"data row7 col8\" >0.0235</td>\n",
       "      <td id=\"T_e3a94_row7_col9\" class=\"data row7 col9\" >0.32</td>\n",
       "      <td id=\"T_e3a94_row7_col10\" class=\"data row7 col10\" >-2.36</td>\n",
       "    </tr>\n",
       "    <tr>\n",
       "      <th id=\"T_e3a94_level0_row8\" class=\"row_heading level0 row8\" >3</th>\n",
       "      <td id=\"T_e3a94_row8_col0\" class=\"data row8 col0\" >Churn 1</td>\n",
       "      <td id=\"T_e3a94_row8_col1\" class=\"data row8 col1\" >294</td>\n",
       "      <td id=\"T_e3a94_row8_col2\" class=\"data row8 col2\" >6.82%</td>\n",
       "      <td id=\"T_e3a94_row8_col3\" class=\"data row8 col3\" >165.18</td>\n",
       "      <td id=\"T_e3a94_row8_col4\" class=\"data row8 col4\" >379.41</td>\n",
       "      <td id=\"T_e3a94_row8_col5\" class=\"data row8 col5\" >348.32</td>\n",
       "      <td id=\"T_e3a94_row8_col6\" class=\"data row8 col6\" >1.10</td>\n",
       "      <td id=\"T_e3a94_row8_col7\" class=\"data row8 col7\" >162.76</td>\n",
       "      <td id=\"T_e3a94_row8_col8\" class=\"data row8 col8\" >0.0195</td>\n",
       "      <td id=\"T_e3a94_row8_col9\" class=\"data row8 col9\" >0.40</td>\n",
       "      <td id=\"T_e3a94_row8_col10\" class=\"data row8 col10\" >-2.77</td>\n",
       "    </tr>\n",
       "    <tr>\n",
       "      <th id=\"T_e3a94_level0_row9\" class=\"row_heading level0 row9\" >6</th>\n",
       "      <td id=\"T_e3a94_row9_col0\" class=\"data row9 col0\" >Price Sensitive</td>\n",
       "      <td id=\"T_e3a94_row9_col1\" class=\"data row9 col1\" >306</td>\n",
       "      <td id=\"T_e3a94_row9_col2\" class=\"data row9 col2\" >7.09%</td>\n",
       "      <td id=\"T_e3a94_row9_col3\" class=\"data row9 col3\" >101.30</td>\n",
       "      <td id=\"T_e3a94_row9_col4\" class=\"data row9 col4\" >300.95</td>\n",
       "      <td id=\"T_e3a94_row9_col5\" class=\"data row9 col5\" >123.89</td>\n",
       "      <td id=\"T_e3a94_row9_col6\" class=\"data row9 col6\" >2.53</td>\n",
       "      <td id=\"T_e3a94_row9_col7\" class=\"data row9 col7\" >144.50</td>\n",
       "      <td id=\"T_e3a94_row9_col8\" class=\"data row9 col8\" >0.0670</td>\n",
       "      <td id=\"T_e3a94_row9_col9\" class=\"data row9 col9\" >0.58</td>\n",
       "      <td id=\"T_e3a94_row9_col10\" class=\"data row9 col10\" >-8.80</td>\n",
       "    </tr>\n",
       "    <tr>\n",
       "      <th id=\"T_e3a94_level0_row10\" class=\"row_heading level0 row10\" >4</th>\n",
       "      <td id=\"T_e3a94_row10_col0\" class=\"data row10 col0\" >Hibernating 2</td>\n",
       "      <td id=\"T_e3a94_row10_col1\" class=\"data row10 col1\" >71</td>\n",
       "      <td id=\"T_e3a94_row10_col2\" class=\"data row10 col2\" >1.65%</td>\n",
       "      <td id=\"T_e3a94_row10_col3\" class=\"data row10 col3\" >148.66</td>\n",
       "      <td id=\"T_e3a94_row10_col4\" class=\"data row10 col4\" >265.17</td>\n",
       "      <td id=\"T_e3a94_row10_col5\" class=\"data row10 col5\" >265.17</td>\n",
       "      <td id=\"T_e3a94_row10_col6\" class=\"data row10 col6\" >1.00</td>\n",
       "      <td id=\"T_e3a94_row10_col7\" class=\"data row10 col7\" >148.66</td>\n",
       "      <td id=\"T_e3a94_row10_col8\" class=\"data row10 col8\" >0.0194</td>\n",
       "      <td id=\"T_e3a94_row10_col9\" class=\"data row10 col9\" >0.30</td>\n",
       "      <td id=\"T_e3a94_row10_col10\" class=\"data row10 col10\" >-0.64</td>\n",
       "    </tr>\n",
       "    <tr>\n",
       "      <th id=\"T_e3a94_level0_row11\" class=\"row_heading level0 row11\" >0</th>\n",
       "      <td id=\"T_e3a94_row11_col0\" class=\"data row11 col0\" >Noise</td>\n",
       "      <td id=\"T_e3a94_row11_col1\" class=\"data row11 col1\" >32</td>\n",
       "      <td id=\"T_e3a94_row11_col2\" class=\"data row11 col2\" >0.74%</td>\n",
       "      <td id=\"T_e3a94_row11_col3\" class=\"data row11 col3\" >109.66</td>\n",
       "      <td id=\"T_e3a94_row11_col4\" class=\"data row11 col4\" >254.25</td>\n",
       "      <td id=\"T_e3a94_row11_col5\" class=\"data row11 col5\" >87.85</td>\n",
       "      <td id=\"T_e3a94_row11_col6\" class=\"data row11 col6\" >2.38</td>\n",
       "      <td id=\"T_e3a94_row11_col7\" class=\"data row11 col7\" >159.59</td>\n",
       "      <td id=\"T_e3a94_row11_col8\" class=\"data row11 col8\" >0.0227</td>\n",
       "      <td id=\"T_e3a94_row11_col9\" class=\"data row11 col9\" >0.91</td>\n",
       "      <td id=\"T_e3a94_row11_col10\" class=\"data row11 col10\" >-3.38</td>\n",
       "    </tr>\n",
       "    <tr>\n",
       "      <th id=\"T_e3a94_level0_row12\" class=\"row_heading level0 row12\" >12</th>\n",
       "      <td id=\"T_e3a94_row12_col0\" class=\"data row12 col0\" >Churn 2</td>\n",
       "      <td id=\"T_e3a94_row12_col1\" class=\"data row12 col1\" >673</td>\n",
       "      <td id=\"T_e3a94_row12_col2\" class=\"data row12 col2\" >15.60%</td>\n",
       "      <td id=\"T_e3a94_row12_col3\" class=\"data row12 col3\" >171.02</td>\n",
       "      <td id=\"T_e3a94_row12_col4\" class=\"data row12 col4\" >146.54</td>\n",
       "      <td id=\"T_e3a94_row12_col5\" class=\"data row12 col5\" >146.54</td>\n",
       "      <td id=\"T_e3a94_row12_col6\" class=\"data row12 col6\" >1.00</td>\n",
       "      <td id=\"T_e3a94_row12_col7\" class=\"data row12 col7\" >171.02</td>\n",
       "      <td id=\"T_e3a94_row12_col8\" class=\"data row12 col8\" >0.0201</td>\n",
       "      <td id=\"T_e3a94_row12_col9\" class=\"data row12 col9\" >0.17</td>\n",
       "      <td id=\"T_e3a94_row12_col10\" class=\"data row12 col10\" >-1.44</td>\n",
       "    </tr>\n",
       "  </tbody>\n",
       "</table>\n"
      ],
      "text/plain": [
       "<pandas.io.formats.style.Styler at 0x7f172a111160>"
      ]
     },
     "execution_count": 147,
     "metadata": {},
     "output_type": "execute_result"
    }
   ],
   "source": [
    "# calculating mean values for each cluster attribute\n",
    "df_res = df_result.copy()\n",
    "\n",
    "# calculating mothly frequency. Did not like the results of this\n",
    "# df_res['frequency'] = df_res['frequency']*30\n",
    "\n",
    "# add cluster to df\n",
    "result = df_res.groupby('cluster').mean().reset_index()\n",
    "result\n",
    "\n",
    "# add nº of customers\n",
    "result = result.merge( n_cust, on = 'cluster', how = 'inner')\n",
    "# Based on the RFM Analysis I gave names to clusters \n",
    "result['cluster_name'] = result['cluster'].map(names)\n",
    "result_reduced = result[['cluster_name', 'num_of_customers', 'perc_of_customer', 'recency', 'revenue', 'avg_ticket', 'num_purchases', 'tenure', 'frequency', 'num_returns', 'avg_return_revenue' ]].copy()\n",
    "\n",
    "#formatting output\n",
    "result_reduced.sort_values('revenue', ascending = False, inplace = True )\n",
    "result_reduced['perc_of_customer'] = result_reduced['perc_of_customer'].apply(lambda x: \"{:.2f}%\".format(x) )\n",
    "formatter = {\"recency\" : \"{:,.2f}\",\n",
    "\"revenue\" : \"{:,.2f}\",\n",
    "\"avg_ticket\" : \"{:,.2f}\",\n",
    "\"num_purchases\" : \"{:,.2f}\",\n",
    "\"tenure\" : \"{:,.2f}\",\n",
    "\"frequency\" : \"{:,.4f}\",\n",
    "\"num_returns\" : \"{:,.2f}\",\n",
    "\"avg_return_revenue\" : \"{:,.2f}\"\n",
    "}\n",
    "result_reduced.style.format( formatter = formatter )"
   ]
  },
  {
   "cell_type": "code",
   "execution_count": 148,
   "metadata": {},
   "outputs": [],
   "source": [
    "# # calculating mean values for each cluster attribute\n",
    "# df_res = df_result.copy()\n",
    "\n",
    "# # calculating mothly frequency. Did not like the results of this\n",
    "# # df_res['frequency'] = df_res['frequency']*30\n",
    "\n",
    "# # add cluster to df\n",
    "# result = df_res.groupby('cluster').mean().reset_index()\n",
    "# result\n",
    "\n",
    "# # add nº of customers\n",
    "# result = result.merge( n_cust, on = 'cluster', how = 'inner')\n",
    "# # Based on the RFM Analysis I gave names to clusters \n",
    "# result['cluster_name'] = result['cluster'].map(names)\n",
    "# result_reduced = result[['cluster_name', 'num_of_customers', 'perc_of_customer', 'recency', 'revenue', 'avg_ticket', 'num_purchases', 'tenure', 'frequency', 'num_returns', 'avg_return_revenue' ]].copy()\n",
    "\n",
    "# #formatting output\n",
    "# result_reduced.sort_values('revenue', ascending = False, inplace = True )\n",
    "# result_reduced['perc_of_customer'] = result_reduced['perc_of_customer'].apply(lambda x: \"{:.2f}%\".format(x) )\n",
    "# formatter = {\"recency\" : \"{:,.2f}\",\n",
    "# \"revenue\" : \"{:,.2f}\",\n",
    "# \"avg_ticket\" : \"{:,.2f}\",\n",
    "# \"num_purchases\" : \"{:,.2f}\",\n",
    "# \"tenure\" : \"{:,.2f}\",\n",
    "# \"frequency\" : \"{:,.4f}\",\n",
    "# \"num_returns\" : \"{:,.2f}\",\n",
    "# \"avg_return_revenue\" : \"{:,.2f}\"\n",
    "# }\n",
    "# result_reduced.style.format( formatter = formatter )"
   ]
  },
  {
   "cell_type": "markdown",
   "metadata": {},
   "source": [
    "# 11 Model Deployment"
   ]
  },
  {
   "cell_type": "markdown",
   "metadata": {},
   "source": [
    "## 11.1. Inserting results on sqlite db"
   ]
  },
  {
   "cell_type": "code",
   "execution_count": 149,
   "metadata": {},
   "outputs": [],
   "source": [
    "#  connect to db, if doesn't exist create one\n",
    "# con = sqlite3.connect('../src/features/insiders.db')"
   ]
  },
  {
   "cell_type": "code",
   "execution_count": 150,
   "metadata": {},
   "outputs": [],
   "source": [
    "# cur = con.cursor()\n",
    "\n",
    "# cur.execute(\n",
    "#     \"\"\"\n",
    "    # CREATE TABLE insiders (\n",
    "    #     customer_id               INTEGER,\n",
    "    #     country                   TEXT,\n",
    "    #     recency                   INTEGER,\n",
    "    #     avg_days_bw_purchases     REAL,\n",
    "    #     num_purchases             INTEGER,\n",
    "    #     tenure                    INTEGER,\n",
    "    #     frequency                 REAL,\n",
    "    #     revenue                   REAL,\n",
    "    #     avg_ticket                REAL,\n",
    "    #     qty_items                 INTEGER,\n",
    "    #     avg_basket_size           REAL,\n",
    "    #     avg_unique_prods          REAL,\n",
    "    #     returns_revenue           REAL,\n",
    "    #     avg_return_revenue        REAL,\n",
    "    #     num_returns               REAL,\n",
    "    #     qty_returned              REAL,\n",
    "    #     embedding_x               REAL,\n",
    "    #     embedding_y               REAL,\n",
    "    #     cluster                   TEXT,\n",
    "    #     cluster_name              TEXT\n",
    "#     );\n",
    "#     \"\"\"\n",
    "# )\n",
    "\n",
    "# con.commit()\n",
    "\n",
    "# # con.close()\n",
    "\n"
   ]
  },
  {
   "cell_type": "code",
   "execution_count": 151,
   "metadata": {},
   "outputs": [],
   "source": [
    "# df_result.dtypes"
   ]
  },
  {
   "cell_type": "code",
   "execution_count": 152,
   "metadata": {},
   "outputs": [],
   "source": [
    "# # con.execute(\n",
    "# #     \"\"\"\n",
    "# #     SELECT name\n",
    "# #     FROM sqlite_schema\n",
    "# #     WHERE type ='table'\n",
    "# #     \"\"\"\n",
    "# # )\n",
    "# cur.execute(\n",
    "# \"\"\"SELECT \n",
    "#         name\n",
    "#     FROM \n",
    "#         sqlite_master\n",
    "#     WHERE \n",
    "#         type ='table' \n",
    "#         ;\"\"\"\n",
    "#         )\n",
    "# # con.commit()\n",
    "# #  AND name NOT LIKE 'sqlite_%'\n",
    "# cur.fetchone()"
   ]
  },
  {
   "cell_type": "code",
   "execution_count": 153,
   "metadata": {},
   "outputs": [],
   "source": [
    "# con.execute(\n",
    "#     \"\"\"\n",
    "#     DROP TABLE insiders\n",
    "#     \"\"\"\n",
    "# )\n",
    "# con.commit()\n",
    "\n",
    "# # con.close()\n"
   ]
  },
  {
   "cell_type": "code",
   "execution_count": 154,
   "metadata": {},
   "outputs": [],
   "source": [
    "# conn = create_engine('sqlite:////home/humberto/DS/insiders_clustering/src/features/insiders.db', echo=False)\n",
    "# df_result.to_sql('insiders', con = conn, if_exists='append', index = False)"
   ]
  },
  {
   "cell_type": "code",
   "execution_count": 155,
   "metadata": {},
   "outputs": [],
   "source": [
    "# df_sql = pd.read_sql('insiders', con = conn)\n",
    "# print(df_sql.iloc[0,8])\n",
    "# print(df_result.iloc[0,8])\n",
    "# df_sql.head()"
   ]
  },
  {
   "cell_type": "markdown",
   "metadata": {},
   "source": [
    "## 11.2 Inserting results to mysql db on AWS"
   ]
  },
  {
   "cell_type": "code",
   "execution_count": 156,
   "metadata": {},
   "outputs": [],
   "source": [
    "# adding last update time to data that will be inserted on DB\n",
    "\n",
    "now = datetime.now().strftime( \"%Y-%m-%d %H:%M:%S\" )\n",
    "\n",
    "df_result['last_update'] = now"
   ]
  },
  {
   "cell_type": "code",
   "execution_count": 157,
   "metadata": {},
   "outputs": [
    {
     "data": {
      "text/html": [
       "<div>\n",
       "<style scoped>\n",
       "    .dataframe tbody tr th:only-of-type {\n",
       "        vertical-align: middle;\n",
       "    }\n",
       "\n",
       "    .dataframe tbody tr th {\n",
       "        vertical-align: top;\n",
       "    }\n",
       "\n",
       "    .dataframe thead th {\n",
       "        text-align: right;\n",
       "    }\n",
       "</style>\n",
       "<table border=\"1\" class=\"dataframe\">\n",
       "  <thead>\n",
       "    <tr style=\"text-align: right;\">\n",
       "      <th></th>\n",
       "      <th>customer_id</th>\n",
       "      <th>country</th>\n",
       "      <th>recency</th>\n",
       "      <th>avg_days_bw_purchases</th>\n",
       "      <th>num_purchases</th>\n",
       "      <th>tenure</th>\n",
       "      <th>frequency</th>\n",
       "      <th>revenue</th>\n",
       "      <th>avg_ticket</th>\n",
       "      <th>qty_items</th>\n",
       "      <th>avg_basket_size</th>\n",
       "      <th>avg_unique_prods</th>\n",
       "      <th>returns_revenue</th>\n",
       "      <th>avg_return_revenue</th>\n",
       "      <th>num_returns</th>\n",
       "      <th>qty_returned</th>\n",
       "      <th>embedding_x</th>\n",
       "      <th>embedding_y</th>\n",
       "      <th>cluster</th>\n",
       "      <th>cluster_name</th>\n",
       "      <th>last_update</th>\n",
       "    </tr>\n",
       "  </thead>\n",
       "  <tbody>\n",
       "    <tr>\n",
       "      <th>0</th>\n",
       "      <td>17850</td>\n",
       "      <td>United Kingdom</td>\n",
       "      <td>373</td>\n",
       "      <td>1.000000</td>\n",
       "      <td>34</td>\n",
       "      <td>1</td>\n",
       "      <td>34.000000</td>\n",
       "      <td>5288.63</td>\n",
       "      <td>155.547941</td>\n",
       "      <td>1693</td>\n",
       "      <td>48.371429</td>\n",
       "      <td>8.735294</td>\n",
       "      <td>-102.58</td>\n",
       "      <td>-6.838667</td>\n",
       "      <td>15.0</td>\n",
       "      <td>-40.0</td>\n",
       "      <td>-3.543982</td>\n",
       "      <td>9.718514</td>\n",
       "      <td>0</td>\n",
       "      <td>Loyal Customers</td>\n",
       "      <td>2022-03-21 11:10:03</td>\n",
       "    </tr>\n",
       "    <tr>\n",
       "      <th>1</th>\n",
       "      <td>13047</td>\n",
       "      <td>United Kingdom</td>\n",
       "      <td>57</td>\n",
       "      <td>52.833333</td>\n",
       "      <td>9</td>\n",
       "      <td>317</td>\n",
       "      <td>0.028391</td>\n",
       "      <td>3089.10</td>\n",
       "      <td>343.233333</td>\n",
       "      <td>1355</td>\n",
       "      <td>84.687500</td>\n",
       "      <td>19.000000</td>\n",
       "      <td>-143.49</td>\n",
       "      <td>-6.238696</td>\n",
       "      <td>23.0</td>\n",
       "      <td>-35.0</td>\n",
       "      <td>-4.025312</td>\n",
       "      <td>8.022521</td>\n",
       "      <td>0</td>\n",
       "      <td>Loyal Customers</td>\n",
       "      <td>2022-03-21 11:10:03</td>\n",
       "    </tr>\n",
       "    <tr>\n",
       "      <th>2</th>\n",
       "      <td>12583</td>\n",
       "      <td>France</td>\n",
       "      <td>3</td>\n",
       "      <td>26.500000</td>\n",
       "      <td>15</td>\n",
       "      <td>371</td>\n",
       "      <td>0.040431</td>\n",
       "      <td>6629.34</td>\n",
       "      <td>441.956000</td>\n",
       "      <td>4978</td>\n",
       "      <td>292.823529</td>\n",
       "      <td>15.466667</td>\n",
       "      <td>-76.04</td>\n",
       "      <td>-25.346667</td>\n",
       "      <td>3.0</td>\n",
       "      <td>-50.0</td>\n",
       "      <td>-3.534883</td>\n",
       "      <td>16.845985</td>\n",
       "      <td>1</td>\n",
       "      <td>Potential Loyalists</td>\n",
       "      <td>2022-03-21 11:10:03</td>\n",
       "    </tr>\n",
       "    <tr>\n",
       "      <th>3</th>\n",
       "      <td>13748</td>\n",
       "      <td>United Kingdom</td>\n",
       "      <td>96</td>\n",
       "      <td>92.666667</td>\n",
       "      <td>5</td>\n",
       "      <td>278</td>\n",
       "      <td>0.017986</td>\n",
       "      <td>948.25</td>\n",
       "      <td>189.650000</td>\n",
       "      <td>439</td>\n",
       "      <td>87.800000</td>\n",
       "      <td>5.600000</td>\n",
       "      <td>0.00</td>\n",
       "      <td>0.000000</td>\n",
       "      <td>0.0</td>\n",
       "      <td>0.0</td>\n",
       "      <td>-6.975824</td>\n",
       "      <td>-4.942078</td>\n",
       "      <td>2</td>\n",
       "      <td>Promissing 1</td>\n",
       "      <td>2022-03-21 11:10:03</td>\n",
       "    </tr>\n",
       "    <tr>\n",
       "      <th>4</th>\n",
       "      <td>15100</td>\n",
       "      <td>United Kingdom</td>\n",
       "      <td>334</td>\n",
       "      <td>20.000000</td>\n",
       "      <td>3</td>\n",
       "      <td>40</td>\n",
       "      <td>0.075000</td>\n",
       "      <td>635.10</td>\n",
       "      <td>211.700000</td>\n",
       "      <td>58</td>\n",
       "      <td>9.666667</td>\n",
       "      <td>1.000000</td>\n",
       "      <td>-240.90</td>\n",
       "      <td>-80.300000</td>\n",
       "      <td>3.0</td>\n",
       "      <td>-22.0</td>\n",
       "      <td>19.139286</td>\n",
       "      <td>-2.679391</td>\n",
       "      <td>3</td>\n",
       "      <td>Price Sensitive</td>\n",
       "      <td>2022-03-21 11:10:03</td>\n",
       "    </tr>\n",
       "  </tbody>\n",
       "</table>\n",
       "</div>"
      ],
      "text/plain": [
       "   customer_id         country  recency  avg_days_bw_purchases  num_purchases  tenure  frequency  revenue  avg_ticket  qty_items  avg_basket_size  avg_unique_prods  returns_revenue  avg_return_revenue  num_returns  qty_returned  embedding_x  embedding_y cluster         cluster_name          last_update\n",
       "0        17850  United Kingdom      373               1.000000             34       1  34.000000  5288.63  155.547941       1693        48.371429          8.735294          -102.58           -6.838667         15.0         -40.0    -3.543982     9.718514       0      Loyal Customers  2022-03-21 11:10:03\n",
       "1        13047  United Kingdom       57              52.833333              9     317   0.028391  3089.10  343.233333       1355        84.687500         19.000000          -143.49           -6.238696         23.0         -35.0    -4.025312     8.022521       0      Loyal Customers  2022-03-21 11:10:03\n",
       "2        12583          France        3              26.500000             15     371   0.040431  6629.34  441.956000       4978       292.823529         15.466667           -76.04          -25.346667          3.0         -50.0    -3.534883    16.845985       1  Potential Loyalists  2022-03-21 11:10:03\n",
       "3        13748  United Kingdom       96              92.666667              5     278   0.017986   948.25  189.650000        439        87.800000          5.600000             0.00            0.000000          0.0           0.0    -6.975824    -4.942078       2         Promissing 1  2022-03-21 11:10:03\n",
       "4        15100  United Kingdom      334              20.000000              3      40   0.075000   635.10  211.700000         58         9.666667          1.000000          -240.90          -80.300000          3.0         -22.0    19.139286    -2.679391       3      Price Sensitive  2022-03-21 11:10:03"
      ]
     },
     "execution_count": 157,
     "metadata": {},
     "output_type": "execute_result"
    }
   ],
   "source": [
    "df_result.head()"
   ]
  },
  {
   "cell_type": "code",
   "execution_count": 175,
   "metadata": {},
   "outputs": [],
   "source": [
    "# reading credentials\n",
    "\n",
    "path_aws_secrets = '/home/ubuntu/project/Insiders-Loyalty-Program/src/secrets/'\n",
    "secrets_json = open( path_aws_secrets + 'secrets.json')\n",
    "\n",
    "secrets = json.load( secrets_json)\n",
    "\n",
    "dialect =   secrets[\"dialect\"]\n",
    "driver =    secrets[\"driver\"]\n",
    "host =      secrets[\"host\"]\n",
    "username =  secrets[\"username\"]\n",
    "password =  secrets[\"password\"]\n",
    "port =      secrets[\"port\"]\n",
    "database =  secrets[\"database\"]\n",
    "\n",
    "url = \"{}+{}://{}:{}@{}:{}/{}\".format(dialect, driver, username, password, host, port, database)\n",
    "\n",
    "engine = create_engine(url = url, echo = True) #, pool_pre_ping = True"
   ]
  },
  {
   "cell_type": "code",
   "execution_count": 159,
   "metadata": {},
   "outputs": [],
   "source": [
    "# read_query = \"\"\"\n",
    "#     SELECT * FROM insiders i\n",
    "# \"\"\"\n",
    "# # engine.execute\n",
    "# df_sql = pd.read_sql_query(read_query, con = engine)"
   ]
  },
  {
   "cell_type": "code",
   "execution_count": 160,
   "metadata": {},
   "outputs": [],
   "source": [
    "# if we had to create table manually we could use this\n",
    "# create_table = \"\"\"\n",
    "#     CREATE TABLE insiders (\n",
    "#     customer_id               INTEGER,\n",
    "#     country                   TEXT,\n",
    "#     recency                   INTEGER,\n",
    "#     avg_days_bw_purchases     REAL,\n",
    "#     num_purchases             INTEGER,\n",
    "#     tenure                    INTEGER,\n",
    "#     frequency                 REAL,\n",
    "#     revenue                   REAL,\n",
    "#     avg_ticket                REAL,\n",
    "#     qty_items                 INTEGER,\n",
    "#     avg_basket_size           REAL,\n",
    "#     avg_unique_prods          REAL,\n",
    "#     returns_revenue           REAL,\n",
    "#     avg_return_revenue        REAL,\n",
    "#     num_returns               REAL,\n",
    "#     qty_returned              REAL,\n",
    "#     embedding_x               REAL,\n",
    "#     embedding_y               REAL,\n",
    "#     cluster                   TEXT,\n",
    "#     cluster_name              TEXT\n",
    "#     )\n",
    "# \"\"\""
   ]
  },
  {
   "cell_type": "code",
   "execution_count": 161,
   "metadata": {},
   "outputs": [],
   "source": [
    "# inserting data\n",
    "df_result.to_sql('insiders', con = engine, if_exists='replace', index = False )"
   ]
  },
  {
   "cell_type": "code",
   "execution_count": 162,
   "metadata": {},
   "outputs": [],
   "source": [
    "# drop_table_query = \"\"\"\n",
    "#     DROP TABLE insiders\n",
    "# \"\"\"\n",
    "# engine.execute(drop_table_query)\n"
   ]
  },
  {
   "cell_type": "code",
   "execution_count": 182,
   "metadata": {},
   "outputs": [
    {
     "name": "stdout",
     "output_type": "stream",
     "text": [
      "2022-03-21 11:50:36,071 INFO sqlalchemy.engine.Engine \n",
      "    SELECT *\n",
      "    FROM insiders_result\n",
      "\n",
      "2022-03-21 11:50:36,084 INFO sqlalchemy.engine.Engine [raw sql] {}\n"
     ]
    }
   ],
   "source": [
    "query = \"\"\"\n",
    "    SELECT *\n",
    "    FROM insiders\n",
    "\"\"\"\n",
    "\n",
    "df_sql = pd.read_sql_query(query, con = engine)"
   ]
  },
  {
   "cell_type": "code",
   "execution_count": 183,
   "metadata": {},
   "outputs": [],
   "source": [
    "# closing the connection\n",
    "# conn.invalidate()\n",
    "engine.dispose()"
   ]
  },
  {
   "cell_type": "code",
   "execution_count": 184,
   "metadata": {},
   "outputs": [
    {
     "data": {
      "image/png": "[encoded data removed]",
      "text/plain": [
       "<Figure size 1800x864 with 1 Axes>"
      ]
     },
     "metadata": {},
     "output_type": "display_data"
    }
   ],
   "source": [
    "sns.scatterplot( data = df_sql, x = 'embedding_x', y = 'embedding_y', hue = 'cluster_name', palette = 'husl');"
   ]
  },
  {
   "cell_type": "code",
   "execution_count": 168,
   "metadata": {},
   "outputs": [
    {
     "data": {
      "image/png": "[encoded data removed]",
      "text/plain": [
       "<Figure size 1800x864 with 1 Axes>"
      ]
     },
     "metadata": {},
     "output_type": "display_data"
    }
   ],
   "source": [
    "sns.scatterplot( data = df_result, x = 'embedding_x', y = 'embedding_y', hue = 'cluster_name', palette = 'husl');"
   ]
  },
  {
   "cell_type": "code",
   "execution_count": 169,
   "metadata": {},
   "outputs": [
    {
     "data": {
      "text/plain": [
       "array(['Loyal Customers', 'Potential Loyalists', 'Promissing 1',\n",
       "       'Price Sensitive', 'Insiders', 'Hibernating 1', 'Promising 2',\n",
       "       'Need Attention 2', 'Need Attention 1', 'Churn 2', 'Churn 1',\n",
       "       'Hibernating 2', 'Noise'], dtype=object)"
      ]
     },
     "execution_count": 169,
     "metadata": {},
     "output_type": "execute_result"
    }
   ],
   "source": [
    "df_sql.cluster_name.unique()"
   ]
  },
  {
   "cell_type": "markdown",
   "metadata": {},
   "source": [
    "### Dashboard deployed at: [Insiders Program Clustering - Metabase](http://insiders-project-metabase-dash.herokuapp.com/public/dashboard/3300265c-e4ae-4a82-ab54-1b5de68e19d2)"
   ]
  },
  {
   "cell_type": "markdown",
   "metadata": {},
   "source": [
    "TO DO:\n",
    "- verify aws packages (OK)\n",
    "- make a visualization dashboard (OK)\n",
    "- automate reports with:\n",
    "    - crontab (OK)\n",
    "    - github actions\n",
    "- automate ec2 to turn on and off"
   ]
  }
 ],
 "metadata": {
  "interpreter": {
   "hash": "4be9c22c924916f4f0290c88182d986b0302ce23f90563ec15842ba76b709463"
  },
  "kernelspec": {
   "display_name": "Python 3.8.0 64-bit ('insiders')",
   "language": "python",
   "name": "python3"
  },
  "language_info": {
   "codemirror_mode": {
    "name": "ipython",
    "version": 3
   },
   "file_extension": ".py",
   "mimetype": "text/x-python",
   "name": "python",
   "nbconvert_exporter": "python",
   "pygments_lexer": "ipython3",
   "version": "3.8.0"
  },
  "orig_nbformat": 4
 },
 "nbformat": 4,
 "nbformat_minor": 2
}
