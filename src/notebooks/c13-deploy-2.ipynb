{
 "cells": [
  {
   "cell_type": "markdown",
   "metadata": {},
   "source": [
    "TODO\n",
    "\n",
    "- gc colect OK\n",
    "- del variables OK\n",
    "- new env and requirements.txt OK\n",
    "- model in pkl\n",
    "- umap in pkl\n"
   ]
  },
  {
   "cell_type": "markdown",
   "metadata": {},
   "source": [
    "# 0.0 Imports"
   ]
  },
  {
   "cell_type": "markdown",
   "metadata": {},
   "source": [
    "## 0.1 Imports"
   ]
  },
  {
   "cell_type": "code",
   "execution_count": 23,
   "metadata": {},
   "outputs": [],
   "source": [
    "import pandas as pd\n",
    "# import numpy as np\n",
    "import matplotlib.pyplot as plt\n",
    "import seaborn as sns\n",
    "import inflection\n",
    "import re\n",
    "import s3fs \n",
    "import json\n",
    "from datetime import datetime\n",
    "\n",
    "from sklearn.ensemble import RandomForestRegressor\n",
    "from sklearn.cluster import DBSCAN\n",
    "\n",
    "from umap import UMAP\n",
    "\n",
    "from sqlalchemy import create_engine\n",
    "\n",
    "import gc"
   ]
  },
  {
   "cell_type": "markdown",
   "metadata": {},
   "source": [
    "## 0.2 Helper Functions\n",
    "\n"
   ]
  },
  {
   "cell_type": "code",
   "execution_count": 6,
   "metadata": {},
   "outputs": [],
   "source": [
    "# Defining some plot settings\n",
    "def jupyter_settings():\n",
    "    %matplotlib inline\n",
    "    #%pylab inline\n",
    "    #matplotlib notebook\n",
    "    plt.style.use( 'bmh' )\n",
    "    plt.rcParams['figure.figsize'] = [25, 12]\n",
    "    plt.rcParams['font.size'] = 24\n",
    "    # display( HTML( '<style>.container { width:100% !important; }</style>') )\n",
    "    pd.options.display.max_columns = None\n",
    "    pd.options.display.max_rows = None\n",
    "    pd.set_option( 'display.expand_frame_repr', False )\n",
    "    sns.set()\n",
    "\n",
    "jupyter_settings()\n",
    "\n",
    "# def plot_silhouette(X, cluster_labels, ax1 = None):\n",
    "#     '''\n",
    "#     Plots a Silhoutte Visualizer image with a silhouette coefficient for each sample on a per-cluster basis.\n",
    "#     '''    \n",
    "\n",
    "#     if ax1 is None:\n",
    "#         ax1 = plt.gca()\n",
    "    \n",
    "#     silhouette_avg = silhouette_score(X, cluster_labels)\n",
    "\n",
    "#     # Compute the silhouette scores for each sample\n",
    "#     sample_silhouette_values = silhouette_samples(X, cluster_labels)\n",
    "\n",
    "#     y_lower = 10\n",
    "#     min_x = 0\n",
    "\n",
    "#     clusters = np.unique(cluster_labels)\n",
    "#     n_clusters = len(clusters)        \n",
    "#     for i in clusters:\n",
    "#         # Aggregate the silhouette scores for samples belonging to\n",
    "#         # cluster i, and sort them\n",
    "#         ith_cluster_silhouette_values = sample_silhouette_values[cluster_labels == i]\n",
    "\n",
    "#         ith_cluster_silhouette_values.sort()\n",
    "\n",
    "#         min_ith = ith_cluster_silhouette_values.min()\n",
    "#         if min_ith < min_x:\n",
    "#             min_x = min_ith\n",
    "\n",
    "#         size_cluster_i = ith_cluster_silhouette_values.shape[0]\n",
    "#         y_upper = y_lower + size_cluster_i\n",
    "\n",
    "#         color = cm.nipy_spectral(float(i) / n_clusters)\n",
    "        \n",
    "#         # ploting silhouette\n",
    "#         ax1.fill_betweenx(\n",
    "#             np.arange(y_lower, y_upper),\n",
    "#             0,\n",
    "#             ith_cluster_silhouette_values,\n",
    "#             facecolor=color,\n",
    "#             edgecolor=color,\n",
    "#             alpha=0.7,\n",
    "#         )\n",
    "\n",
    "#         # Label the silhouette plots with their cluster numbers at the middle\n",
    "#         ax1.text(-0.05, y_lower + 0.5 * size_cluster_i, str(i))\n",
    "\n",
    "#         # Compute the new y_lower for next plot\n",
    "#         y_lower = y_upper + 10  # 10 for the 0 samples\n",
    "\n",
    "#     ax1.set_title(\"The silhouette plot for {} clusters.\".format(n_clusters))\n",
    "#     ax1.set_xlabel(\"The silhouette coefficient values\")\n",
    "#     ax1.set_ylabel(\"Cluster label\")\n",
    "\n",
    "#     # The vertical line for average silhouette score of all the values\n",
    "#     ax1.axvline(x=silhouette_avg, color=\"red\", linestyle=\"--\")\n",
    "\n",
    "#     ax1.set_yticks([])  # Clear the yaxis labels / ticks\n",
    "#     ax1.set_xticks(np.arange(-1, 1.1, 0.1))\n",
    "#     ax1.set_xlim([min_x - 0.05, 1])\n",
    "\n",
    "#     ax1.set_ylim([0, len(X) + (n_clusters + 1) * 10])\n",
    "\n",
    "#     print(\"For n_clusters = {} the average silhouette_score is : {:.4f}\".format(n_clusters,silhouette_avg))\n",
    "\n",
    "#     return(ax1)\n",
    "\n",
    "# pio.renderers.default = 'notebook_connected'\n",
    "# # run this to use jupyter notebook or check pio.renderers to select a renderer\n",
    "# # pio.renderers.default = 'notebook'\n",
    "\n",
    "# def permutation_test(x, n_a, p, metric = 'mean'):\n",
    "#     '''\n",
    "#     Permutates a sample \"x\" of size \"n_a\" \"p\" times and returns a list with difference of means ya - yb\n",
    "#     '''\n",
    "#     diffs = []\n",
    "#     for _ in range(p):\n",
    "        \n",
    "#         # shuffle variable\n",
    "#         np.random.shuffle(x)\n",
    "\n",
    "#         # calculate difference between metrics:\n",
    "#         if metric == 'mean':\n",
    "#             diff = np.mean( x[:n_a] ) - np.mean( x[n_a:] )\n",
    "#         elif metric == 'median':\n",
    "#             diff = np.median( x[:n_a] ) - np.median( x[n_a:] )\n",
    "#         else:\n",
    "#             raise NameError('Unknown metric. Specifiy \"mean\" or \"median\" ')\n",
    "\n",
    "#         diffs.append(diff)\n",
    "#     return diffs"
   ]
  },
  {
   "cell_type": "markdown",
   "metadata": {
    "heading_collapsed": true
   },
   "source": [
    "## 0.4 Columns Description\n",
    "\n"
   ]
  },
  {
   "cell_type": "markdown",
   "metadata": {},
   "source": [
    "### Attribute Description\n",
    "- InvoiceNo Invoice number (A 6-digit integral number uniquely assigned to each transaction)\n",
    "- StockCode Product (item) code\n",
    "- Description Product (item) name\n",
    "- Quantity The quantities of each product (item) per transaction\n",
    "- InvoiceDate The day when each transaction was generated\n",
    "- UnitPrice Unit price (Product price per unit)\n",
    "- CustomerID Customer number (Unique ID assigned to each customer)\n",
    "- Country Country name (The name of the country where each customer resides)"
   ]
  },
  {
   "cell_type": "markdown",
   "metadata": {},
   "source": [
    "# 1.0 Data Description\n"
   ]
  },
  {
   "cell_type": "code",
   "execution_count": 7,
   "metadata": {},
   "outputs": [],
   "source": [
    "# df1 = pd.read_csv('../data/raw/ecommerce.csv', encoding='ISO-8859-1', sep = ',')\n",
    "df1 = pd.read_csv('/home/humberto/DS/insiders_clustering/data/raw/ecommerce.csv', encoding='ISO-8859-1', sep = ',')\n",
    "\n",
    "# Reading data from S3 Bucket:\n",
    "# path_s3 = 'https://insiders-raw-data-bucket.s3.sa-east-1.amazonaws.com/raw/'\n",
    "\n",
    "# df1 = pd.read_csv( path_s3 + 'ecommerce.csv', encoding='ISO-8859-1')"
   ]
  },
  {
   "cell_type": "code",
   "execution_count": 8,
   "metadata": {},
   "outputs": [
    {
     "name": "stdout",
     "output_type": "stream",
     "text": [
      "Dimensions ok:(541909, 9)\n"
     ]
    }
   ],
   "source": [
    "if df1.shape == (541909, 9):\n",
    "    print('Dimensions ok:{}'.format(df1.shape))\n",
    "else:\n",
    "    print('Dimensions differ from expected: {}'.format(df1.shape) )"
   ]
  },
  {
   "cell_type": "markdown",
   "metadata": {
    "hidden": true
   },
   "source": [
    "## 1.1 Rename Columns"
   ]
  },
  {
   "cell_type": "code",
   "execution_count": 9,
   "metadata": {},
   "outputs": [
    {
     "data": {
      "text/plain": [
       "['invoice_no',\n",
       " 'stock_code',\n",
       " 'description',\n",
       " 'quantity',\n",
       " 'invoice_date',\n",
       " 'unit_price',\n",
       " 'customer_id',\n",
       " 'country',\n",
       " 'unnamed: 8']"
      ]
     },
     "execution_count": 9,
     "metadata": {},
     "output_type": "execute_result"
    }
   ],
   "source": [
    "cols_old = df1.columns.tolist()\n",
    "\n",
    "cols_new = [inflection.underscore(col) for col in cols_old]\n",
    "cols_new"
   ]
  },
  {
   "cell_type": "code",
   "execution_count": 10,
   "metadata": {},
   "outputs": [],
   "source": [
    "df1.rename(columns = dict(zip(cols_old, cols_new)), inplace = True )"
   ]
  },
  {
   "cell_type": "markdown",
   "metadata": {},
   "source": [
    "## 1.2 Data Dimensions"
   ]
  },
  {
   "cell_type": "code",
   "execution_count": 11,
   "metadata": {},
   "outputs": [
    {
     "name": "stdout",
     "output_type": "stream",
     "text": [
      "Number of rows: 541909\n",
      "Number of cols: 9\n"
     ]
    }
   ],
   "source": [
    "print( 'Number of rows: {}'.format( df1.shape[0] ) )\n",
    "print( 'Number of cols: {}'.format( df1.shape[1] ) )"
   ]
  },
  {
   "cell_type": "markdown",
   "metadata": {},
   "source": [
    "## 1.3 Data Types"
   ]
  },
  {
   "cell_type": "code",
   "execution_count": 12,
   "metadata": {},
   "outputs": [
    {
     "data": {
      "text/plain": [
       "invoice_no       object\n",
       "stock_code       object\n",
       "description      object\n",
       "quantity          int64\n",
       "invoice_date     object\n",
       "unit_price      float64\n",
       "customer_id     float64\n",
       "country          object\n",
       "unnamed: 8      float64\n",
       "dtype: object"
      ]
     },
     "execution_count": 12,
     "metadata": {},
     "output_type": "execute_result"
    }
   ],
   "source": [
    "df1.dtypes"
   ]
  },
  {
   "cell_type": "markdown",
   "metadata": {},
   "source": [
    "## 1.4 NA Check"
   ]
  },
  {
   "cell_type": "code",
   "execution_count": 13,
   "metadata": {},
   "outputs": [
    {
     "data": {
      "text/plain": [
       "invoice_no        0.000000\n",
       "stock_code        0.000000\n",
       "description       0.268311\n",
       "quantity          0.000000\n",
       "invoice_date      0.000000\n",
       "unit_price        0.000000\n",
       "customer_id      24.926694\n",
       "country           0.000000\n",
       "unnamed: 8      100.000000\n",
       "dtype: float64"
      ]
     },
     "execution_count": 13,
     "metadata": {},
     "output_type": "execute_result"
    }
   ],
   "source": [
    "df1.isna().sum()/df1.shape[0]*100"
   ]
  },
  {
   "cell_type": "code",
   "execution_count": 14,
   "metadata": {},
   "outputs": [
    {
     "data": {
      "text/plain": [
       "Index(['invoice_no', 'stock_code', 'description', 'quantity', 'invoice_date',\n",
       "       'unit_price', 'customer_id', 'country'],\n",
       "      dtype='object')"
      ]
     },
     "execution_count": 14,
     "metadata": {},
     "output_type": "execute_result"
    }
   ],
   "source": [
    "df1.drop(columns=['unnamed: 8'], inplace = True)\n",
    "df1.columns"
   ]
  },
  {
   "cell_type": "markdown",
   "metadata": {},
   "source": [
    "## 1.5 NA Fillout"
   ]
  },
  {
   "cell_type": "code",
   "execution_count": 15,
   "metadata": {},
   "outputs": [
    {
     "data": {
      "text/plain": [
       "invoice_no      0\n",
       "stock_code      0\n",
       "description     0\n",
       "quantity        0\n",
       "invoice_date    0\n",
       "unit_price      0\n",
       "customer_id     0\n",
       "country         0\n",
       "dtype: int64"
      ]
     },
     "execution_count": 15,
     "metadata": {},
     "output_type": "execute_result"
    }
   ],
   "source": [
    "df1.dropna(subset=['customer_id'], axis = 0, inplace =  True)\n",
    "df1.isna().sum()"
   ]
  },
  {
   "cell_type": "markdown",
   "metadata": {},
   "source": [
    "## 1.6 Changing Data Types\n"
   ]
  },
  {
   "cell_type": "code",
   "execution_count": 16,
   "metadata": {},
   "outputs": [
    {
     "data": {
      "text/html": [
       "<div>\n",
       "<style scoped>\n",
       "    .dataframe tbody tr th:only-of-type {\n",
       "        vertical-align: middle;\n",
       "    }\n",
       "\n",
       "    .dataframe tbody tr th {\n",
       "        vertical-align: top;\n",
       "    }\n",
       "\n",
       "    .dataframe thead th {\n",
       "        text-align: right;\n",
       "    }\n",
       "</style>\n",
       "<table border=\"1\" class=\"dataframe\">\n",
       "  <thead>\n",
       "    <tr style=\"text-align: right;\">\n",
       "      <th></th>\n",
       "      <th>invoice_no</th>\n",
       "      <th>stock_code</th>\n",
       "      <th>description</th>\n",
       "      <th>quantity</th>\n",
       "      <th>invoice_date</th>\n",
       "      <th>unit_price</th>\n",
       "      <th>customer_id</th>\n",
       "      <th>country</th>\n",
       "    </tr>\n",
       "  </thead>\n",
       "  <tbody>\n",
       "    <tr>\n",
       "      <th>0</th>\n",
       "      <td>536365</td>\n",
       "      <td>85123A</td>\n",
       "      <td>WHITE HANGING HEART T-LIGHT HOLDER</td>\n",
       "      <td>6</td>\n",
       "      <td>29-Nov-16</td>\n",
       "      <td>2.55</td>\n",
       "      <td>17850.0</td>\n",
       "      <td>United Kingdom</td>\n",
       "    </tr>\n",
       "    <tr>\n",
       "      <th>1</th>\n",
       "      <td>536365</td>\n",
       "      <td>71053</td>\n",
       "      <td>WHITE METAL LANTERN</td>\n",
       "      <td>6</td>\n",
       "      <td>29-Nov-16</td>\n",
       "      <td>3.39</td>\n",
       "      <td>17850.0</td>\n",
       "      <td>United Kingdom</td>\n",
       "    </tr>\n",
       "    <tr>\n",
       "      <th>2</th>\n",
       "      <td>536365</td>\n",
       "      <td>84406B</td>\n",
       "      <td>CREAM CUPID HEARTS COAT HANGER</td>\n",
       "      <td>8</td>\n",
       "      <td>29-Nov-16</td>\n",
       "      <td>2.75</td>\n",
       "      <td>17850.0</td>\n",
       "      <td>United Kingdom</td>\n",
       "    </tr>\n",
       "    <tr>\n",
       "      <th>3</th>\n",
       "      <td>536365</td>\n",
       "      <td>84029G</td>\n",
       "      <td>KNITTED UNION FLAG HOT WATER BOTTLE</td>\n",
       "      <td>6</td>\n",
       "      <td>29-Nov-16</td>\n",
       "      <td>3.39</td>\n",
       "      <td>17850.0</td>\n",
       "      <td>United Kingdom</td>\n",
       "    </tr>\n",
       "    <tr>\n",
       "      <th>4</th>\n",
       "      <td>536365</td>\n",
       "      <td>84029E</td>\n",
       "      <td>RED WOOLLY HOTTIE WHITE HEART.</td>\n",
       "      <td>6</td>\n",
       "      <td>29-Nov-16</td>\n",
       "      <td>3.39</td>\n",
       "      <td>17850.0</td>\n",
       "      <td>United Kingdom</td>\n",
       "    </tr>\n",
       "  </tbody>\n",
       "</table>\n",
       "</div>"
      ],
      "text/plain": [
       "  invoice_no stock_code                          description  quantity invoice_date  unit_price  customer_id         country\n",
       "0     536365     85123A   WHITE HANGING HEART T-LIGHT HOLDER         6    29-Nov-16        2.55      17850.0  United Kingdom\n",
       "1     536365      71053                  WHITE METAL LANTERN         6    29-Nov-16        3.39      17850.0  United Kingdom\n",
       "2     536365     84406B       CREAM CUPID HEARTS COAT HANGER         8    29-Nov-16        2.75      17850.0  United Kingdom\n",
       "3     536365     84029G  KNITTED UNION FLAG HOT WATER BOTTLE         6    29-Nov-16        3.39      17850.0  United Kingdom\n",
       "4     536365     84029E       RED WOOLLY HOTTIE WHITE HEART.         6    29-Nov-16        3.39      17850.0  United Kingdom"
      ]
     },
     "execution_count": 16,
     "metadata": {},
     "output_type": "execute_result"
    }
   ],
   "source": [
    "df1.head()"
   ]
  },
  {
   "cell_type": "code",
   "execution_count": 17,
   "metadata": {},
   "outputs": [
    {
     "data": {
      "text/plain": [
       "invoice_no       object\n",
       "stock_code       object\n",
       "description      object\n",
       "quantity          int64\n",
       "invoice_date     object\n",
       "unit_price      float64\n",
       "customer_id     float64\n",
       "country          object\n",
       "dtype: object"
      ]
     },
     "execution_count": 17,
     "metadata": {},
     "output_type": "execute_result"
    }
   ],
   "source": [
    "df1.dtypes"
   ]
  },
  {
   "cell_type": "code",
   "execution_count": 18,
   "metadata": {},
   "outputs": [
    {
     "data": {
      "text/html": [
       "<div>\n",
       "<style scoped>\n",
       "    .dataframe tbody tr th:only-of-type {\n",
       "        vertical-align: middle;\n",
       "    }\n",
       "\n",
       "    .dataframe tbody tr th {\n",
       "        vertical-align: top;\n",
       "    }\n",
       "\n",
       "    .dataframe thead th {\n",
       "        text-align: right;\n",
       "    }\n",
       "</style>\n",
       "<table border=\"1\" class=\"dataframe\">\n",
       "  <thead>\n",
       "    <tr style=\"text-align: right;\">\n",
       "      <th></th>\n",
       "      <th>invoice_no</th>\n",
       "      <th>stock_code</th>\n",
       "      <th>description</th>\n",
       "      <th>quantity</th>\n",
       "      <th>invoice_date</th>\n",
       "      <th>unit_price</th>\n",
       "      <th>customer_id</th>\n",
       "      <th>country</th>\n",
       "    </tr>\n",
       "  </thead>\n",
       "  <tbody>\n",
       "    <tr>\n",
       "      <th>0</th>\n",
       "      <td>536365</td>\n",
       "      <td>85123A</td>\n",
       "      <td>WHITE HANGING HEART T-LIGHT HOLDER</td>\n",
       "      <td>6</td>\n",
       "      <td>2016-11-29</td>\n",
       "      <td>2.55</td>\n",
       "      <td>17850</td>\n",
       "      <td>United Kingdom</td>\n",
       "    </tr>\n",
       "    <tr>\n",
       "      <th>1</th>\n",
       "      <td>536365</td>\n",
       "      <td>71053</td>\n",
       "      <td>WHITE METAL LANTERN</td>\n",
       "      <td>6</td>\n",
       "      <td>2016-11-29</td>\n",
       "      <td>3.39</td>\n",
       "      <td>17850</td>\n",
       "      <td>United Kingdom</td>\n",
       "    </tr>\n",
       "    <tr>\n",
       "      <th>2</th>\n",
       "      <td>536365</td>\n",
       "      <td>84406B</td>\n",
       "      <td>CREAM CUPID HEARTS COAT HANGER</td>\n",
       "      <td>8</td>\n",
       "      <td>2016-11-29</td>\n",
       "      <td>2.75</td>\n",
       "      <td>17850</td>\n",
       "      <td>United Kingdom</td>\n",
       "    </tr>\n",
       "    <tr>\n",
       "      <th>3</th>\n",
       "      <td>536365</td>\n",
       "      <td>84029G</td>\n",
       "      <td>KNITTED UNION FLAG HOT WATER BOTTLE</td>\n",
       "      <td>6</td>\n",
       "      <td>2016-11-29</td>\n",
       "      <td>3.39</td>\n",
       "      <td>17850</td>\n",
       "      <td>United Kingdom</td>\n",
       "    </tr>\n",
       "    <tr>\n",
       "      <th>4</th>\n",
       "      <td>536365</td>\n",
       "      <td>84029E</td>\n",
       "      <td>RED WOOLLY HOTTIE WHITE HEART.</td>\n",
       "      <td>6</td>\n",
       "      <td>2016-11-29</td>\n",
       "      <td>3.39</td>\n",
       "      <td>17850</td>\n",
       "      <td>United Kingdom</td>\n",
       "    </tr>\n",
       "  </tbody>\n",
       "</table>\n",
       "</div>"
      ],
      "text/plain": [
       "  invoice_no stock_code                          description  quantity invoice_date  unit_price  customer_id         country\n",
       "0     536365     85123A   WHITE HANGING HEART T-LIGHT HOLDER         6   2016-11-29        2.55        17850  United Kingdom\n",
       "1     536365      71053                  WHITE METAL LANTERN         6   2016-11-29        3.39        17850  United Kingdom\n",
       "2     536365     84406B       CREAM CUPID HEARTS COAT HANGER         8   2016-11-29        2.75        17850  United Kingdom\n",
       "3     536365     84029G  KNITTED UNION FLAG HOT WATER BOTTLE         6   2016-11-29        3.39        17850  United Kingdom\n",
       "4     536365     84029E       RED WOOLLY HOTTIE WHITE HEART.         6   2016-11-29        3.39        17850  United Kingdom"
      ]
     },
     "execution_count": 18,
     "metadata": {},
     "output_type": "execute_result"
    }
   ],
   "source": [
    "df1['invoice_date'] = pd.to_datetime( df1['invoice_date'], format = '%d-%b-%y' )\n",
    "\n",
    "df1['customer_id'] = df1['customer_id'].astype(int)\n",
    "\n",
    "df1.head()"
   ]
  },
  {
   "cell_type": "code",
   "execution_count": 19,
   "metadata": {},
   "outputs": [
    {
     "data": {
      "text/plain": [
       "invoice_no              object\n",
       "stock_code              object\n",
       "description             object\n",
       "quantity                 int64\n",
       "invoice_date    datetime64[ns]\n",
       "unit_price             float64\n",
       "customer_id              int64\n",
       "country                 object\n",
       "dtype: object"
      ]
     },
     "execution_count": 19,
     "metadata": {},
     "output_type": "execute_result"
    }
   ],
   "source": [
    "df1.dtypes"
   ]
  },
  {
   "cell_type": "markdown",
   "metadata": {},
   "source": [
    "## 1.7 Descriptive Statistics"
   ]
  },
  {
   "cell_type": "markdown",
   "metadata": {},
   "source": [
    "### 1.7.1 Numerical Attributes"
   ]
  },
  {
   "cell_type": "code",
   "execution_count": 21,
   "metadata": {},
   "outputs": [
    {
     "data": {
      "text/html": [
       "<style type=\"text/css\">\n",
       "</style>\n",
       "<table id=\"T_8e8c9\">\n",
       "  <thead>\n",
       "    <tr>\n",
       "      <th class=\"blank level0\" >&nbsp;</th>\n",
       "      <th id=\"T_8e8c9_level0_col0\" class=\"col_heading level0 col0\" >min</th>\n",
       "      <th id=\"T_8e8c9_level0_col1\" class=\"col_heading level0 col1\" >max</th>\n",
       "      <th id=\"T_8e8c9_level0_col2\" class=\"col_heading level0 col2\" >range</th>\n",
       "      <th id=\"T_8e8c9_level0_col3\" class=\"col_heading level0 col3\" >mean</th>\n",
       "      <th id=\"T_8e8c9_level0_col4\" class=\"col_heading level0 col4\" >median</th>\n",
       "      <th id=\"T_8e8c9_level0_col5\" class=\"col_heading level0 col5\" >std</th>\n",
       "      <th id=\"T_8e8c9_level0_col6\" class=\"col_heading level0 col6\" >skew</th>\n",
       "      <th id=\"T_8e8c9_level0_col7\" class=\"col_heading level0 col7\" >kurtosis</th>\n",
       "    </tr>\n",
       "  </thead>\n",
       "  <tbody>\n",
       "    <tr>\n",
       "      <th id=\"T_8e8c9_level0_row0\" class=\"row_heading level0 row0\" >quantity</th>\n",
       "      <td id=\"T_8e8c9_row0_col0\" class=\"data row0 col0\" >-80,995.00</td>\n",
       "      <td id=\"T_8e8c9_row0_col1\" class=\"data row0 col1\" >80,995.00</td>\n",
       "      <td id=\"T_8e8c9_row0_col2\" class=\"data row0 col2\" >161,990.00</td>\n",
       "      <td id=\"T_8e8c9_row0_col3\" class=\"data row0 col3\" >12.06</td>\n",
       "      <td id=\"T_8e8c9_row0_col4\" class=\"data row0 col4\" >5.00</td>\n",
       "      <td id=\"T_8e8c9_row0_col5\" class=\"data row0 col5\" >248.69</td>\n",
       "      <td id=\"T_8e8c9_row0_col6\" class=\"data row0 col6\" >0.18</td>\n",
       "      <td id=\"T_8e8c9_row0_col7\" class=\"data row0 col7\" >94,317.56</td>\n",
       "    </tr>\n",
       "    <tr>\n",
       "      <th id=\"T_8e8c9_level0_row1\" class=\"row_heading level0 row1\" >unit_price</th>\n",
       "      <td id=\"T_8e8c9_row1_col0\" class=\"data row1 col0\" >0.00</td>\n",
       "      <td id=\"T_8e8c9_row1_col1\" class=\"data row1 col1\" >38,970.00</td>\n",
       "      <td id=\"T_8e8c9_row1_col2\" class=\"data row1 col2\" >38,970.00</td>\n",
       "      <td id=\"T_8e8c9_row1_col3\" class=\"data row1 col3\" >3.46</td>\n",
       "      <td id=\"T_8e8c9_row1_col4\" class=\"data row1 col4\" >1.95</td>\n",
       "      <td id=\"T_8e8c9_row1_col5\" class=\"data row1 col5\" >69.32</td>\n",
       "      <td id=\"T_8e8c9_row1_col6\" class=\"data row1 col6\" >452.22</td>\n",
       "      <td id=\"T_8e8c9_row1_col7\" class=\"data row1 col7\" >246,924.54</td>\n",
       "    </tr>\n",
       "    <tr>\n",
       "      <th id=\"T_8e8c9_level0_row2\" class=\"row_heading level0 row2\" >customer_id</th>\n",
       "      <td id=\"T_8e8c9_row2_col0\" class=\"data row2 col0\" >12,346.00</td>\n",
       "      <td id=\"T_8e8c9_row2_col1\" class=\"data row2 col1\" >18,287.00</td>\n",
       "      <td id=\"T_8e8c9_row2_col2\" class=\"data row2 col2\" >5,941.00</td>\n",
       "      <td id=\"T_8e8c9_row2_col3\" class=\"data row2 col3\" >15,287.69</td>\n",
       "      <td id=\"T_8e8c9_row2_col4\" class=\"data row2 col4\" >15,152.00</td>\n",
       "      <td id=\"T_8e8c9_row2_col5\" class=\"data row2 col5\" >1,713.60</td>\n",
       "      <td id=\"T_8e8c9_row2_col6\" class=\"data row2 col6\" >0.03</td>\n",
       "      <td id=\"T_8e8c9_row2_col7\" class=\"data row2 col7\" >-1.18</td>\n",
       "    </tr>\n",
       "  </tbody>\n",
       "</table>\n"
      ],
      "text/plain": [
       "<pandas.io.formats.style.Styler at 0x7f5608e8a430>"
      ]
     },
     "execution_count": 21,
     "metadata": {},
     "output_type": "execute_result"
    }
   ],
   "source": [
    "num_att = df1.select_dtypes(include= ['int','float'])\n",
    "d1 = pd.DataFrame( num_att.min() ).T\n",
    "d2 = pd.DataFrame( num_att.max() ).T\n",
    "d3 = pd.DataFrame( num_att.max() - num_att.min() ).T\n",
    "d4 = pd.DataFrame( num_att.mean() ).T\n",
    "d5 = pd.DataFrame( num_att.median() ).T\n",
    "d6 = pd.DataFrame( num_att.std() ).T\n",
    "d7 = pd.DataFrame( num_att.skew() ).T\n",
    "d8 = pd.DataFrame( num_att.kurtosis() ).T\n",
    "\n",
    "desc = pd.concat( [d1, d2, d3, d4, d5, d6, d7, d8] ).T\n",
    "desc.columns = ['min', 'max', 'range', 'mean', 'median', 'std', 'skew', 'kurtosis' ]\n",
    "desc.style.format( \"{:,.2f}\" )"
   ]
  },
  {
   "cell_type": "markdown",
   "metadata": {
    "heading_collapsed": true
   },
   "source": [
    "# 2.0 Data Filtering"
   ]
  },
  {
   "cell_type": "markdown",
   "metadata": {},
   "source": [
    "## 2.1 Data Inspection"
   ]
  },
  {
   "cell_type": "code",
   "execution_count": 24,
   "metadata": {},
   "outputs": [],
   "source": [
    "df2 = df1.copy()\n",
    "\n",
    "del df1\n",
    "gc.collect()"
   ]
  },
  {
   "cell_type": "markdown",
   "metadata": {},
   "source": [
    "### Stock Code"
   ]
  },
  {
   "cell_type": "code",
   "execution_count": 29,
   "metadata": {},
   "outputs": [
    {
     "data": {
      "text/html": [
       "<div>\n",
       "<style scoped>\n",
       "    .dataframe tbody tr th:only-of-type {\n",
       "        vertical-align: middle;\n",
       "    }\n",
       "\n",
       "    .dataframe tbody tr th {\n",
       "        vertical-align: top;\n",
       "    }\n",
       "\n",
       "    .dataframe thead th {\n",
       "        text-align: right;\n",
       "    }\n",
       "</style>\n",
       "<table border=\"1\" class=\"dataframe\">\n",
       "  <thead>\n",
       "    <tr style=\"text-align: right;\">\n",
       "      <th></th>\n",
       "      <th>invoice_no</th>\n",
       "      <th>stock_code</th>\n",
       "      <th>description</th>\n",
       "      <th>quantity</th>\n",
       "      <th>invoice_date</th>\n",
       "      <th>unit_price</th>\n",
       "      <th>customer_id</th>\n",
       "      <th>country</th>\n",
       "    </tr>\n",
       "  </thead>\n",
       "  <tbody>\n",
       "    <tr>\n",
       "      <th>45</th>\n",
       "      <td>536370</td>\n",
       "      <td>POST</td>\n",
       "      <td>POSTAGE</td>\n",
       "      <td>3</td>\n",
       "      <td>2016-11-29</td>\n",
       "      <td>18.00</td>\n",
       "      <td>12583</td>\n",
       "      <td>France</td>\n",
       "    </tr>\n",
       "    <tr>\n",
       "      <th>141</th>\n",
       "      <td>C536379</td>\n",
       "      <td>D</td>\n",
       "      <td>Discount</td>\n",
       "      <td>-1</td>\n",
       "      <td>2016-11-29</td>\n",
       "      <td>27.50</td>\n",
       "      <td>14527</td>\n",
       "      <td>United Kingdom</td>\n",
       "    </tr>\n",
       "    <tr>\n",
       "      <th>386</th>\n",
       "      <td>536403</td>\n",
       "      <td>POST</td>\n",
       "      <td>POSTAGE</td>\n",
       "      <td>1</td>\n",
       "      <td>2016-11-29</td>\n",
       "      <td>15.00</td>\n",
       "      <td>12791</td>\n",
       "      <td>Netherlands</td>\n",
       "    </tr>\n",
       "    <tr>\n",
       "      <th>1123</th>\n",
       "      <td>536527</td>\n",
       "      <td>POST</td>\n",
       "      <td>POSTAGE</td>\n",
       "      <td>1</td>\n",
       "      <td>2016-11-29</td>\n",
       "      <td>18.00</td>\n",
       "      <td>12662</td>\n",
       "      <td>Germany</td>\n",
       "    </tr>\n",
       "    <tr>\n",
       "      <th>2239</th>\n",
       "      <td>536569</td>\n",
       "      <td>M</td>\n",
       "      <td>Manual</td>\n",
       "      <td>1</td>\n",
       "      <td>2016-11-29</td>\n",
       "      <td>1.25</td>\n",
       "      <td>16274</td>\n",
       "      <td>United Kingdom</td>\n",
       "    </tr>\n",
       "    <tr>\n",
       "      <th>2250</th>\n",
       "      <td>536569</td>\n",
       "      <td>M</td>\n",
       "      <td>Manual</td>\n",
       "      <td>1</td>\n",
       "      <td>2016-11-29</td>\n",
       "      <td>18.95</td>\n",
       "      <td>16274</td>\n",
       "      <td>United Kingdom</td>\n",
       "    </tr>\n",
       "    <tr>\n",
       "      <th>4406</th>\n",
       "      <td>536779</td>\n",
       "      <td>BANK CHARGES</td>\n",
       "      <td>Bank Charges</td>\n",
       "      <td>1</td>\n",
       "      <td>2016-11-30</td>\n",
       "      <td>15.00</td>\n",
       "      <td>15823</td>\n",
       "      <td>United Kingdom</td>\n",
       "    </tr>\n",
       "    <tr>\n",
       "      <th>5073</th>\n",
       "      <td>536840</td>\n",
       "      <td>POST</td>\n",
       "      <td>POSTAGE</td>\n",
       "      <td>1</td>\n",
       "      <td>2016-11-30</td>\n",
       "      <td>18.00</td>\n",
       "      <td>12738</td>\n",
       "      <td>Germany</td>\n",
       "    </tr>\n",
       "    <tr>\n",
       "      <th>5258</th>\n",
       "      <td>536852</td>\n",
       "      <td>POST</td>\n",
       "      <td>POSTAGE</td>\n",
       "      <td>1</td>\n",
       "      <td>2016-12-01</td>\n",
       "      <td>18.00</td>\n",
       "      <td>12686</td>\n",
       "      <td>France</td>\n",
       "    </tr>\n",
       "    <tr>\n",
       "      <th>5325</th>\n",
       "      <td>536858</td>\n",
       "      <td>POST</td>\n",
       "      <td>POSTAGE</td>\n",
       "      <td>2</td>\n",
       "      <td>2016-12-01</td>\n",
       "      <td>40.00</td>\n",
       "      <td>13520</td>\n",
       "      <td>Switzerland</td>\n",
       "    </tr>\n",
       "  </tbody>\n",
       "</table>\n",
       "</div>"
      ],
      "text/plain": [
       "     invoice_no    stock_code   description  quantity invoice_date  unit_price  customer_id         country\n",
       "45       536370          POST       POSTAGE         3   2016-11-29       18.00        12583          France\n",
       "141     C536379             D      Discount        -1   2016-11-29       27.50        14527  United Kingdom\n",
       "386      536403          POST       POSTAGE         1   2016-11-29       15.00        12791     Netherlands\n",
       "1123     536527          POST       POSTAGE         1   2016-11-29       18.00        12662         Germany\n",
       "2239     536569             M        Manual         1   2016-11-29        1.25        16274  United Kingdom\n",
       "2250     536569             M        Manual         1   2016-11-29       18.95        16274  United Kingdom\n",
       "4406     536779  BANK CHARGES  Bank Charges         1   2016-11-30       15.00        15823  United Kingdom\n",
       "5073     536840          POST       POSTAGE         1   2016-11-30       18.00        12738         Germany\n",
       "5258     536852          POST       POSTAGE         1   2016-12-01       18.00        12686          France\n",
       "5325     536858          POST       POSTAGE         2   2016-12-01       40.00        13520     Switzerland"
      ]
     },
     "execution_count": 29,
     "metadata": {},
     "output_type": "execute_result"
    }
   ],
   "source": [
    "# selecting rows with only non digits\n",
    "df_stock = df2.loc[df2['stock_code'].apply( lambda x: bool(re.search('^[\\D]+$', x)) )]\n",
    "df_stock.head(10)"
   ]
  },
  {
   "cell_type": "code",
   "execution_count": 30,
   "metadata": {},
   "outputs": [
    {
     "data": {
      "text/plain": [
       "POST            1196\n",
       "M                465\n",
       "D                 77\n",
       "DOT               16\n",
       "CRUK              16\n",
       "BANK CHARGES      12\n",
       "PADS               4\n",
       "Name: stock_code, dtype: int64"
      ]
     },
     "execution_count": 30,
     "metadata": {},
     "output_type": "execute_result"
    }
   ],
   "source": [
    "# values to remove\n",
    "drop_stock = df_stock['stock_code'].unique().tolist()\n",
    "\n",
    "df_stock['stock_code'].value_counts()"
   ]
  },
  {
   "cell_type": "markdown",
   "metadata": {},
   "source": [
    "### Country"
   ]
  },
  {
   "cell_type": "code",
   "execution_count": 31,
   "metadata": {},
   "outputs": [],
   "source": [
    "#countries to drop\n",
    "drop_country = ['Unspecified', 'European Community']"
   ]
  },
  {
   "cell_type": "markdown",
   "metadata": {},
   "source": [
    "## 2.2 Data Filtering"
   ]
  },
  {
   "cell_type": "code",
   "execution_count": 32,
   "metadata": {},
   "outputs": [],
   "source": [
    "# dropping stock code\n",
    "df2 = df2.loc[~ df2['stock_code'].isin(drop_stock)]\n",
    "\n",
    "# dropping countries\n",
    "df2 = df2.loc[~ df2['country'].isin(drop_country)]\n"
   ]
  },
  {
   "cell_type": "markdown",
   "metadata": {},
   "source": [
    "# 3.0 Feature Engineering"
   ]
  },
  {
   "cell_type": "markdown",
   "metadata": {},
   "source": [
    "Now lets calculate recency, frequency and monetary using only purchases (not considering returns as a interaction)"
   ]
  },
  {
   "cell_type": "code",
   "execution_count": 34,
   "metadata": {},
   "outputs": [
    {
     "data": {
      "text/plain": [
       "667"
      ]
     },
     "execution_count": 34,
     "metadata": {},
     "output_type": "execute_result"
    }
   ],
   "source": [
    "# Reading Data\n",
    "df3 = df2.copy()\n",
    "\n",
    "# df3 = pd.read_csv('../data/interim/df2.csv', float_precision='round_trip')\n",
    "# df3['invoice_date'] = pd.to_datetime( df3['invoice_date'] )\n",
    "\n",
    "# separating returns from purchases\n",
    "df_returns = df3.loc[ df3['quantity'] < 0 ]\n",
    "df_purchases = df3.loc[ df3['quantity'] >= 0 ]\n",
    "\n",
    "del df2\n",
    "gc.collect()"
   ]
  },
  {
   "cell_type": "markdown",
   "metadata": {},
   "source": [
    "### Recency"
   ]
  },
  {
   "cell_type": "code",
   "execution_count": 35,
   "metadata": {},
   "outputs": [],
   "source": [
    "# days since last purchase (considering first day as day after last invoice)\n",
    "df_recency = df_purchases[['customer_id', 'invoice_date']].copy()\n",
    "df_recency = df_recency.drop_duplicates(subset = 'customer_id', keep = 'last')\n",
    "\n",
    "# using final date as max date + 1\n",
    "df_recency['recency'] =  (pd.to_datetime('2017-12-08') - df_recency['invoice_date']).dt.days\n",
    "df_recency.drop(columns=['invoice_date'], inplace = True)\n"
   ]
  },
  {
   "cell_type": "markdown",
   "metadata": {},
   "source": [
    "### Average Days Between Purchases"
   ]
  },
  {
   "cell_type": "code",
   "execution_count": 36,
   "metadata": {},
   "outputs": [],
   "source": [
    "df_dates = df_purchases[['customer_id', 'invoice_date']].copy()\n",
    "\n",
    "# creates a column with the dates shifted by 1 to calculate difference betwenn last purchase and previous purchase\n",
    "df_dates = df_dates.drop_duplicates()\n",
    "df_dates['previous_date'] = df_dates.groupby('customer_id')['invoice_date'].shift()\n",
    "\n",
    "# extracts days betwenn last purchase and previous purchase for each pair of dates\n",
    "df_dates['days'] = df_dates.apply(lambda x : (x['invoice_date'] - x['previous_date']).days , axis = 1 )\n",
    "\n",
    "# calculating average of days between purchases\n",
    "df_dates = df_dates[['customer_id', 'days']].groupby('customer_id').mean().reset_index().rename(columns = {'days': 'avg_days_bw_purchases'})\n",
    "\n",
    "df_dates.fillna(value = 0, inplace = True)\n",
    "# df_dates.head()"
   ]
  },
  {
   "cell_type": "code",
   "execution_count": 37,
   "metadata": {},
   "outputs": [],
   "source": [
    "df_dates = df_purchases[['customer_id', 'invoice_date']].copy()\n",
    "\n",
    "# creates a column with the dates shifted by 1 to calculate difference betwenn last purchase and previous purchase\n",
    "df_dates = df_dates.drop_duplicates()\n",
    "df_dates['previous_date'] = df_dates.groupby('customer_id')['invoice_date'].shift()\n",
    "\n",
    "# # extracts days betwenn last purchase and previous purchase for each pair of dates\n",
    "df_dates['days'] = df_dates.apply(lambda x : (x['invoice_date'] - x['previous_date']).days , axis = 1 )\n",
    "\n",
    "# # calculating average of days between purchases\n",
    "df_dates = df_dates[['customer_id', 'days']].groupby('customer_id').mean().reset_index().rename(columns = {'days': 'avg_days_bw_purchases'})\n",
    "\n",
    "df_dates.fillna(value = 0, inplace = True)\n",
    "# df_dates.isna().sum()\n",
    "# df_dates[df_dates.customer_id == 12346] #.mean()\n",
    "# df_dates.head()"
   ]
  },
  {
   "cell_type": "markdown",
   "metadata": {},
   "source": [
    "### Frequency"
   ]
  },
  {
   "cell_type": "code",
   "execution_count": 38,
   "metadata": {},
   "outputs": [],
   "source": [
    "# Frequency\n",
    "# nº of purchases a customer did\n",
    "df_freq = df_purchases[['invoice_no', 'customer_id']].drop_duplicates('invoice_no').groupby(['customer_id']).count().reset_index().rename(columns = {'invoice_no' : 'num_purchases'} ) #'invoice_date',  #['num_of_purchases']\n",
    "\n",
    "# difference between firts and last transaction\n",
    "# if nº purchases made = 1: date range =  today - first purchase date\n",
    "# else last purchase - first purchase\n",
    "func = lambda x: (x.max() - x.min() if (x.max() - x.min()).days != 0 else pd.to_datetime('2017-12-08') - x.min() ).days\n",
    "\n",
    "# aggregating things\n",
    "df_date_range = df_purchases[[ 'customer_id', 'invoice_date' ]].groupby('customer_id').agg( func ).reset_index().rename(columns = {'invoice_date' : 'date_range'})\n",
    "\n",
    "df_freq = df_freq.merge(df_date_range, on = 'customer_id', how = 'left')\n",
    "df_freq['frequency'] = df_freq['num_purchases']/df_freq['date_range']\n",
    "\n",
    "# df_freq.head()"
   ]
  },
  {
   "cell_type": "markdown",
   "metadata": {},
   "source": [
    "### Revenue"
   ]
  },
  {
   "cell_type": "code",
   "execution_count": 39,
   "metadata": {},
   "outputs": [],
   "source": [
    "# revenue\n",
    "# copying from original dataset so that revenue represents net earnings (purchases - returns)\n",
    "df_revenue = df3[['unit_price','quantity','customer_id']].copy()\n",
    "df_revenue['quantity'] = df_revenue['quantity'].astype(float)\n",
    "df_revenue['customer_spend'] = df_revenue['unit_price']*df_revenue['quantity']\n",
    "\n",
    "# calculating revenue\n",
    "df_revenue = df_revenue[['customer_id', 'customer_spend']].groupby('customer_id').sum().reset_index().rename(columns = {'customer_spend' : 'revenue'})\n",
    "\n",
    "# defining number of purchases\n",
    "df_revenue = df_revenue.merge( df_freq[['customer_id', 'num_purchases']], on = 'customer_id', how = 'left' )\n",
    "\n",
    "# calculating avg ticket\n",
    "df_revenue['avg_ticket'] = df_revenue['revenue']/df_revenue['num_purchases']\n",
    "df_revenue.drop('num_purchases', axis = 1, inplace = True)\n",
    "\n",
    "# # deleting rows that we have data about return and not about purchase (purchase outside time frame of dataset)\n",
    "df_revenue = df_revenue[ df_revenue['revenue'] > 0.1 ].copy()\n",
    "# df_revenue.head()"
   ]
  },
  {
   "cell_type": "markdown",
   "metadata": {},
   "source": [
    "### Basket Size"
   ]
  },
  {
   "cell_type": "code",
   "execution_count": 40,
   "metadata": {},
   "outputs": [],
   "source": [
    "# selecting cols\n",
    "df_basket = df3[['customer_id', 'invoice_no', 'quantity']].copy()\n",
    "\n",
    "# counting items per invoice\n",
    "df_basket = df_basket.groupby(['customer_id', 'invoice_no']).sum().reset_index()\n",
    "\n",
    "# calculating quantity of items purchased + avg basket size (men of quantities)\n",
    "df_basket = df_basket.groupby(['customer_id']).agg( qty_items = ('quantity', 'sum'), avg_basket_size = ('quantity', 'mean') ).reset_index()\n",
    "\n",
    "# renaming\n",
    "df_basket = df_basket.rename( columns = {'quantity' : 'avg_basket_size'})\n",
    "\n",
    "# df_basket.head()"
   ]
  },
  {
   "cell_type": "markdown",
   "metadata": {},
   "source": [
    "### Average Unique Products Purchased Quantity"
   ]
  },
  {
   "cell_type": "code",
   "execution_count": 41,
   "metadata": {},
   "outputs": [],
   "source": [
    "# selecting cols\n",
    "df_unique = df_purchases[['customer_id', 'invoice_no', 'stock_code']].copy()\n",
    "\n",
    "# counting number of different products per invoice\n",
    "df_unique = df_unique.groupby(['customer_id', 'invoice_no']).nunique().reset_index()\n",
    "\n",
    "# calculating mean of items per invoice\n",
    "df_unique = df_unique.groupby(['customer_id']).mean().reset_index()\n",
    "\n",
    "# # renaming\n",
    "df_unique = df_unique.rename( columns = {'stock_code' : 'avg_unique_prods'})\n",
    "\n",
    "# df_unique.head()"
   ]
  },
  {
   "cell_type": "markdown",
   "metadata": {},
   "source": [
    "### Returns"
   ]
  },
  {
   "cell_type": "code",
   "execution_count": 42,
   "metadata": {},
   "outputs": [],
   "source": [
    "# creating returns variables\n",
    "\n",
    "df_returns = df_returns[['quantity', 'invoice_date', 'unit_price', 'customer_id', 'invoice_no']]\n",
    "\n",
    "df_returns['customer_spend'] = df_returns['unit_price']*df_returns['quantity']\n",
    "\n",
    "# sum and mean of revenue\n",
    "df_returns_metrics = df_returns[['customer_id', 'customer_spend', 'quantity']].groupby('customer_id').agg( \n",
    "    returns_revenue = ('customer_spend', 'sum'),\n",
    "    avg_return_revenue = ('customer_spend', 'mean'),\n",
    "    num_returns = ('customer_spend', 'count'),\n",
    "    qty_returned = ('quantity', 'sum')  )\n",
    "\n",
    "df_returns_metrics = pd.DataFrame( df_returns_metrics.to_records() )\n",
    "\n",
    "# df_returns_metrics.head()"
   ]
  },
  {
   "cell_type": "code",
   "execution_count": 43,
   "metadata": {},
   "outputs": [
    {
     "data": {
      "text/plain": [
       "(4315, 16)"
      ]
     },
     "execution_count": 43,
     "metadata": {},
     "output_type": "execute_result"
    }
   ],
   "source": [
    "# merging every feature together\n",
    "\n",
    "df_processed = df_purchases[['customer_id', 'country']].drop_duplicates('customer_id').copy()\n",
    "df_processed = pd.merge( df_processed, df_recency, on = 'customer_id', how = 'left' )\n",
    "df_processed = pd.merge( df_processed, df_dates, on = 'customer_id', how = 'left' )\n",
    "df_processed = pd.merge( df_processed, df_freq, on = 'customer_id', how = 'left' )\n",
    "df_processed = pd.merge( df_processed, df_revenue, on = 'customer_id', how = 'inner' )\n",
    "df_processed = pd.merge( df_processed, df_basket, on = 'customer_id', how = 'left' )\n",
    "df_processed = pd.merge( df_processed, df_unique, on = 'customer_id', how = 'left' )\n",
    "df_processed = pd.merge( df_processed, df_returns_metrics, on = 'customer_id', how = 'left' )\n",
    "\n",
    "\n",
    "# filling na as 0 for customers that never returned an item\n",
    "df_processed.fillna(value = 0, inplace = True)\n",
    "\n",
    "# df_processed.dropna( inplace = True)\n",
    "# df_processed.isna().sum()\n",
    "# df_processed.head(10)\n",
    "df_processed.shape"
   ]
  },
  {
   "cell_type": "code",
   "execution_count": 34,
   "metadata": {},
   "outputs": [],
   "source": [
    "# df_processed.to_csv('../data/processed/df3_processed.csv', index = False)"
   ]
  },
  {
   "cell_type": "markdown",
   "metadata": {
    "heading_collapsed": true
   },
   "source": [
    "# 4.0 Exploratory Data Analysis"
   ]
  },
  {
   "cell_type": "code",
   "execution_count": 44,
   "metadata": {},
   "outputs": [],
   "source": [
    "# Reading filtered data\n",
    "# df4 = pd.read_csv('../data/processed/df3_processed.csv')\n",
    "df4 = df_processed.copy()\n",
    "\n",
    "del df3, df_processed, df_returns, df_purchases \n",
    "gc.collect()"
   ]
  },
  {
   "cell_type": "markdown",
   "metadata": {
    "heading_collapsed": true,
    "hidden": true
   },
   "source": [
    "## 4.1 Univariate Analysis"
   ]
  },
  {
   "cell_type": "code",
   "execution_count": 54,
   "metadata": {},
   "outputs": [],
   "source": [
    "### Returns\n",
    "\n",
    "df4.sort_values(['returns_revenue'], ascending = True).head()\n",
    "\n",
    "# This is propably an anomaly, error, or some data purposely inserted for unknown reasons\n",
    "# df3[df3.customer_id == 16446]\n",
    "# df3[df3.customer_id == 12346]\n",
    "\n",
    "# These customers indeed appear to have returned high quantities\n",
    "# df3[df3.customer_id == 15749]\n",
    "# df3[df3.customer_id == 16029]\n",
    "# df3[df3.customer_id == 12931]\n",
    "\n",
    "# droping weird behaviour\n",
    "cust_drop = [16446, 12346]\n",
    "df4 = df4[ ~ df4['customer_id'].isin(cust_drop)].copy()"
   ]
  },
  {
   "cell_type": "code",
   "execution_count": 55,
   "metadata": {},
   "outputs": [
    {
     "data": {
      "text/plain": [
       "(4314, 16)"
      ]
     },
     "execution_count": 55,
     "metadata": {},
     "output_type": "execute_result"
    }
   ],
   "source": [
    "df4.shape"
   ]
  },
  {
   "cell_type": "markdown",
   "metadata": {
    "heading_collapsed": true
   },
   "source": [
    "# 5.0 Data Preparation"
   ]
  },
  {
   "cell_type": "markdown",
   "metadata": {
    "hidden": true
   },
   "source": [
    "## 5.1 Numerical Variables Preparation"
   ]
  },
  {
   "cell_type": "code",
   "execution_count": 56,
   "metadata": {},
   "outputs": [
    {
     "data": {
      "text/plain": [
       "(4314, 16)"
      ]
     },
     "execution_count": 56,
     "metadata": {},
     "output_type": "execute_result"
    }
   ],
   "source": [
    "# df5 = pd.read_csv('../data/processed/df4_processed.csv', float_precision = 'round_trip')\n",
    "df5 = df4.copy()\n",
    "df5.shape"
   ]
  },
  {
   "cell_type": "code",
   "execution_count": 57,
   "metadata": {},
   "outputs": [
    {
     "data": {
      "text/plain": [
       "2479"
      ]
     },
     "execution_count": 57,
     "metadata": {},
     "output_type": "execute_result"
    }
   ],
   "source": [
    "del df4\n",
    "gc.collect()"
   ]
  },
  {
   "cell_type": "markdown",
   "metadata": {
    "hidden": true
   },
   "source": [
    "### 5.1.1 Describing"
   ]
  },
  {
   "cell_type": "code",
   "execution_count": 58,
   "metadata": {},
   "outputs": [
    {
     "data": {
      "text/html": [
       "<style type=\"text/css\">\n",
       "</style>\n",
       "<table id=\"T_a7c6a\">\n",
       "  <thead>\n",
       "    <tr>\n",
       "      <th class=\"blank level0\" >&nbsp;</th>\n",
       "      <th id=\"T_a7c6a_level0_col0\" class=\"col_heading level0 col0\" >min</th>\n",
       "      <th id=\"T_a7c6a_level0_col1\" class=\"col_heading level0 col1\" >max</th>\n",
       "      <th id=\"T_a7c6a_level0_col2\" class=\"col_heading level0 col2\" >range</th>\n",
       "      <th id=\"T_a7c6a_level0_col3\" class=\"col_heading level0 col3\" >mean</th>\n",
       "      <th id=\"T_a7c6a_level0_col4\" class=\"col_heading level0 col4\" >median</th>\n",
       "      <th id=\"T_a7c6a_level0_col5\" class=\"col_heading level0 col5\" >std</th>\n",
       "      <th id=\"T_a7c6a_level0_col6\" class=\"col_heading level0 col6\" >skew</th>\n",
       "      <th id=\"T_a7c6a_level0_col7\" class=\"col_heading level0 col7\" >kurtosis</th>\n",
       "    </tr>\n",
       "  </thead>\n",
       "  <tbody>\n",
       "    <tr>\n",
       "      <th id=\"T_a7c6a_level0_row0\" class=\"row_heading level0 row0\" >customer_id</th>\n",
       "      <td id=\"T_a7c6a_row0_col0\" class=\"data row0 col0\" >12,347.00</td>\n",
       "      <td id=\"T_a7c6a_row0_col1\" class=\"data row0 col1\" >18,287.00</td>\n",
       "      <td id=\"T_a7c6a_row0_col2\" class=\"data row0 col2\" >5,940.00</td>\n",
       "      <td id=\"T_a7c6a_row0_col3\" class=\"data row0 col3\" >15,301.83</td>\n",
       "      <td id=\"T_a7c6a_row0_col4\" class=\"data row0 col4\" >15,300.50</td>\n",
       "      <td id=\"T_a7c6a_row0_col5\" class=\"data row0 col5\" >1,720.16</td>\n",
       "      <td id=\"T_a7c6a_row0_col6\" class=\"data row0 col6\" >0.00</td>\n",
       "      <td id=\"T_a7c6a_row0_col7\" class=\"data row0 col7\" >-1.20</td>\n",
       "    </tr>\n",
       "    <tr>\n",
       "      <th id=\"T_a7c6a_level0_row1\" class=\"row_heading level0 row1\" >recency</th>\n",
       "      <td id=\"T_a7c6a_row1_col0\" class=\"data row1 col0\" >1.00</td>\n",
       "      <td id=\"T_a7c6a_row1_col1\" class=\"data row1 col1\" >374.00</td>\n",
       "      <td id=\"T_a7c6a_row1_col2\" class=\"data row1 col2\" >373.00</td>\n",
       "      <td id=\"T_a7c6a_row1_col3\" class=\"data row1 col3\" >93.05</td>\n",
       "      <td id=\"T_a7c6a_row1_col4\" class=\"data row1 col4\" >51.00</td>\n",
       "      <td id=\"T_a7c6a_row1_col5\" class=\"data row1 col5\" >100.17</td>\n",
       "      <td id=\"T_a7c6a_row1_col6\" class=\"data row1 col6\" >1.25</td>\n",
       "      <td id=\"T_a7c6a_row1_col7\" class=\"data row1 col7\" >0.43</td>\n",
       "    </tr>\n",
       "    <tr>\n",
       "      <th id=\"T_a7c6a_level0_row2\" class=\"row_heading level0 row2\" >avg_days_bw_purchases</th>\n",
       "      <td id=\"T_a7c6a_row2_col0\" class=\"data row2 col0\" >0.00</td>\n",
       "      <td id=\"T_a7c6a_row2_col1\" class=\"data row2 col1\" >366.00</td>\n",
       "      <td id=\"T_a7c6a_row2_col2\" class=\"data row2 col2\" >366.00</td>\n",
       "      <td id=\"T_a7c6a_row2_col3\" class=\"data row2 col3\" >50.57</td>\n",
       "      <td id=\"T_a7c6a_row2_col4\" class=\"data row2 col4\" >31.09</td>\n",
       "      <td id=\"T_a7c6a_row2_col5\" class=\"data row2 col5\" >65.32</td>\n",
       "      <td id=\"T_a7c6a_row2_col6\" class=\"data row2 col6\" >1.99</td>\n",
       "      <td id=\"T_a7c6a_row2_col7\" class=\"data row2 col7\" >4.65</td>\n",
       "    </tr>\n",
       "    <tr>\n",
       "      <th id=\"T_a7c6a_level0_row3\" class=\"row_heading level0 row3\" >num_purchases</th>\n",
       "      <td id=\"T_a7c6a_row3_col0\" class=\"data row3 col0\" >1.00</td>\n",
       "      <td id=\"T_a7c6a_row3_col1\" class=\"data row3 col1\" >206.00</td>\n",
       "      <td id=\"T_a7c6a_row3_col2\" class=\"data row3 col2\" >205.00</td>\n",
       "      <td id=\"T_a7c6a_row3_col3\" class=\"data row3 col3\" >4.26</td>\n",
       "      <td id=\"T_a7c6a_row3_col4\" class=\"data row3 col4\" >2.00</td>\n",
       "      <td id=\"T_a7c6a_row3_col5\" class=\"data row3 col5\" >7.66</td>\n",
       "      <td id=\"T_a7c6a_row3_col6\" class=\"data row3 col6\" >11.95</td>\n",
       "      <td id=\"T_a7c6a_row3_col7\" class=\"data row3 col7\" >244.12</td>\n",
       "    </tr>\n",
       "    <tr>\n",
       "      <th id=\"T_a7c6a_level0_row4\" class=\"row_heading level0 row4\" >date_range</th>\n",
       "      <td id=\"T_a7c6a_row4_col0\" class=\"data row4 col0\" >1.00</td>\n",
       "      <td id=\"T_a7c6a_row4_col1\" class=\"data row4 col1\" >374.00</td>\n",
       "      <td id=\"T_a7c6a_row4_col2\" class=\"data row4 col2\" >373.00</td>\n",
       "      <td id=\"T_a7c6a_row4_col3\" class=\"data row4 col3\" >187.22</td>\n",
       "      <td id=\"T_a7c6a_row4_col4\" class=\"data row4 col4\" >191.00</td>\n",
       "      <td id=\"T_a7c6a_row4_col5\" class=\"data row4 col5\" >115.01</td>\n",
       "      <td id=\"T_a7c6a_row4_col6\" class=\"data row4 col6\" >0.01</td>\n",
       "      <td id=\"T_a7c6a_row4_col7\" class=\"data row4 col7\" >-1.33</td>\n",
       "    </tr>\n",
       "    <tr>\n",
       "      <th id=\"T_a7c6a_level0_row5\" class=\"row_heading level0 row5\" >frequency</th>\n",
       "      <td id=\"T_a7c6a_row5_col0\" class=\"data row5 col0\" >0.00</td>\n",
       "      <td id=\"T_a7c6a_row5_col1\" class=\"data row5 col1\" >34.00</td>\n",
       "      <td id=\"T_a7c6a_row5_col2\" class=\"data row5 col2\" >34.00</td>\n",
       "      <td id=\"T_a7c6a_row5_col3\" class=\"data row5 col3\" >0.05</td>\n",
       "      <td id=\"T_a7c6a_row5_col4\" class=\"data row5 col4\" >0.02</td>\n",
       "      <td id=\"T_a7c6a_row5_col5\" class=\"data row5 col5\" >0.54</td>\n",
       "      <td id=\"T_a7c6a_row5_col6\" class=\"data row5 col6\" >58.77</td>\n",
       "      <td id=\"T_a7c6a_row5_col7\" class=\"data row5 col7\" >3,681.78</td>\n",
       "    </tr>\n",
       "    <tr>\n",
       "      <th id=\"T_a7c6a_level0_row6\" class=\"row_heading level0 row6\" >revenue</th>\n",
       "      <td id=\"T_a7c6a_row6_col0\" class=\"data row6 col0\" >3.75</td>\n",
       "      <td id=\"T_a7c6a_row6_col1\" class=\"data row6 col1\" >278,778.02</td>\n",
       "      <td id=\"T_a7c6a_row6_col2\" class=\"data row6 col2\" >278,774.27</td>\n",
       "      <td id=\"T_a7c6a_row6_col3\" class=\"data row6 col3\" >1,922.49</td>\n",
       "      <td id=\"T_a7c6a_row6_col4\" class=\"data row6 col4\" >655.34</td>\n",
       "      <td id=\"T_a7c6a_row6_col5\" class=\"data row6 col5\" >8,326.44</td>\n",
       "      <td id=\"T_a7c6a_row6_col6\" class=\"data row6 col6\" >21.49</td>\n",
       "      <td id=\"T_a7c6a_row6_col7\" class=\"data row6 col7\" >594.95</td>\n",
       "    </tr>\n",
       "    <tr>\n",
       "      <th id=\"T_a7c6a_level0_row7\" class=\"row_heading level0 row7\" >avg_ticket</th>\n",
       "      <td id=\"T_a7c6a_row7_col0\" class=\"data row7 col0\" >3.75</td>\n",
       "      <td id=\"T_a7c6a_row7_col1\" class=\"data row7 col1\" >13,206.50</td>\n",
       "      <td id=\"T_a7c6a_row7_col2\" class=\"data row7 col2\" >13,202.75</td>\n",
       "      <td id=\"T_a7c6a_row7_col3\" class=\"data row7 col3\" >371.22</td>\n",
       "      <td id=\"T_a7c6a_row7_col4\" class=\"data row7 col4\" >283.27</td>\n",
       "      <td id=\"T_a7c6a_row7_col5\" class=\"data row7 col5\" >465.09</td>\n",
       "      <td id=\"T_a7c6a_row7_col6\" class=\"data row7 col6\" >10.65</td>\n",
       "      <td id=\"T_a7c6a_row7_col7\" class=\"data row7 col7\" >202.58</td>\n",
       "    </tr>\n",
       "    <tr>\n",
       "      <th id=\"T_a7c6a_level0_row8\" class=\"row_heading level0 row8\" >qty_items</th>\n",
       "      <td id=\"T_a7c6a_row8_col0\" class=\"data row8 col0\" >1.00</td>\n",
       "      <td id=\"T_a7c6a_row8_col1\" class=\"data row8 col1\" >197,132.00</td>\n",
       "      <td id=\"T_a7c6a_row8_col2\" class=\"data row8 col2\" >197,131.00</td>\n",
       "      <td id=\"T_a7c6a_row8_col3\" class=\"data row8 col3\" >1,133.25</td>\n",
       "      <td id=\"T_a7c6a_row8_col4\" class=\"data row8 col4\" >373.50</td>\n",
       "      <td id=\"T_a7c6a_row8_col5\" class=\"data row8 col5\" >4,701.25</td>\n",
       "      <td id=\"T_a7c6a_row8_col6\" class=\"data row8 col6\" >22.96</td>\n",
       "      <td id=\"T_a7c6a_row8_col7\" class=\"data row8 col7\" >778.32</td>\n",
       "    </tr>\n",
       "    <tr>\n",
       "      <th id=\"T_a7c6a_level0_row9\" class=\"row_heading level0 row9\" >avg_basket_size</th>\n",
       "      <td id=\"T_a7c6a_row9_col0\" class=\"data row9 col0\" >0.25</td>\n",
       "      <td id=\"T_a7c6a_row9_col1\" class=\"data row9 col1\" >7,824.00</td>\n",
       "      <td id=\"T_a7c6a_row9_col2\" class=\"data row9 col2\" >7,823.75</td>\n",
       "      <td id=\"T_a7c6a_row9_col3\" class=\"data row9 col3\" >200.17</td>\n",
       "      <td id=\"T_a7c6a_row9_col4\" class=\"data row9 col4\" >140.00</td>\n",
       "      <td id=\"T_a7c6a_row9_col5\" class=\"data row9 col5\" >269.91</td>\n",
       "      <td id=\"T_a7c6a_row9_col6\" class=\"data row9 col6\" >10.01</td>\n",
       "      <td id=\"T_a7c6a_row9_col7\" class=\"data row9 col7\" >193.40</td>\n",
       "    </tr>\n",
       "    <tr>\n",
       "      <th id=\"T_a7c6a_level0_row10\" class=\"row_heading level0 row10\" >avg_unique_prods</th>\n",
       "      <td id=\"T_a7c6a_row10_col0\" class=\"data row10 col0\" >1.00</td>\n",
       "      <td id=\"T_a7c6a_row10_col1\" class=\"data row10 col1\" >297.88</td>\n",
       "      <td id=\"T_a7c6a_row10_col2\" class=\"data row10 col2\" >296.88</td>\n",
       "      <td id=\"T_a7c6a_row10_col3\" class=\"data row10 col3\" >21.65</td>\n",
       "      <td id=\"T_a7c6a_row10_col4\" class=\"data row10 col4\" >17.00</td>\n",
       "      <td id=\"T_a7c6a_row10_col5\" class=\"data row10 col5\" >19.44</td>\n",
       "      <td id=\"T_a7c6a_row10_col6\" class=\"data row10 col6\" >3.30</td>\n",
       "      <td id=\"T_a7c6a_row10_col7\" class=\"data row10 col7\" >23.97</td>\n",
       "    </tr>\n",
       "    <tr>\n",
       "      <th id=\"T_a7c6a_level0_row11\" class=\"row_heading level0 row11\" >returns_revenue</th>\n",
       "      <td id=\"T_a7c6a_row11_col0\" class=\"data row11 col0\" >-22,998.40</td>\n",
       "      <td id=\"T_a7c6a_row11_col1\" class=\"data row11 col1\" >0.00</td>\n",
       "      <td id=\"T_a7c6a_row11_col2\" class=\"data row11 col2\" >22,998.40</td>\n",
       "      <td id=\"T_a7c6a_row11_col3\" class=\"data row11 col3\" >-50.24</td>\n",
       "      <td id=\"T_a7c6a_row11_col4\" class=\"data row11 col4\" >0.00</td>\n",
       "      <td id=\"T_a7c6a_row11_col5\" class=\"data row11 col5\" >499.54</td>\n",
       "      <td id=\"T_a7c6a_row11_col6\" class=\"data row11 col6\" >-31.50</td>\n",
       "      <td id=\"T_a7c6a_row11_col7\" class=\"data row11 col7\" >1,243.45</td>\n",
       "    </tr>\n",
       "    <tr>\n",
       "      <th id=\"T_a7c6a_level0_row12\" class=\"row_heading level0 row12\" >avg_return_revenue</th>\n",
       "      <td id=\"T_a7c6a_row12_col0\" class=\"data row12 col0\" >-4,599.68</td>\n",
       "      <td id=\"T_a7c6a_row12_col1\" class=\"data row12 col1\" >0.00</td>\n",
       "      <td id=\"T_a7c6a_row12_col2\" class=\"data row12 col2\" >4,599.68</td>\n",
       "      <td id=\"T_a7c6a_row12_col3\" class=\"data row12 col3\" >-9.75</td>\n",
       "      <td id=\"T_a7c6a_row12_col4\" class=\"data row12 col4\" >0.00</td>\n",
       "      <td id=\"T_a7c6a_row12_col5\" class=\"data row12 col5\" >85.60</td>\n",
       "      <td id=\"T_a7c6a_row12_col6\" class=\"data row12 col6\" >-39.64</td>\n",
       "      <td id=\"T_a7c6a_row12_col7\" class=\"data row12 col7\" >1,977.74</td>\n",
       "    </tr>\n",
       "    <tr>\n",
       "      <th id=\"T_a7c6a_level0_row13\" class=\"row_heading level0 row13\" >num_returns</th>\n",
       "      <td id=\"T_a7c6a_row13_col0\" class=\"data row13 col0\" >0.00</td>\n",
       "      <td id=\"T_a7c6a_row13_col1\" class=\"data row13 col1\" >223.00</td>\n",
       "      <td id=\"T_a7c6a_row13_col2\" class=\"data row13 col2\" >223.00</td>\n",
       "      <td id=\"T_a7c6a_row13_col3\" class=\"data row13 col3\" >1.91</td>\n",
       "      <td id=\"T_a7c6a_row13_col4\" class=\"data row13 col4\" >0.00</td>\n",
       "      <td id=\"T_a7c6a_row13_col5\" class=\"data row13 col5\" >7.06</td>\n",
       "      <td id=\"T_a7c6a_row13_col6\" class=\"data row13 col6\" >13.62</td>\n",
       "      <td id=\"T_a7c6a_row13_col7\" class=\"data row13 col7\" >303.42</td>\n",
       "    </tr>\n",
       "    <tr>\n",
       "      <th id=\"T_a7c6a_level0_row14\" class=\"row_heading level0 row14\" >qty_returned</th>\n",
       "      <td id=\"T_a7c6a_row14_col0\" class=\"data row14 col0\" >-9,360.00</td>\n",
       "      <td id=\"T_a7c6a_row14_col1\" class=\"data row14 col1\" >0.00</td>\n",
       "      <td id=\"T_a7c6a_row14_col2\" class=\"data row14 col2\" >9,360.00</td>\n",
       "      <td id=\"T_a7c6a_row14_col3\" class=\"data row14 col3\" >-25.14</td>\n",
       "      <td id=\"T_a7c6a_row14_col4\" class=\"data row14 col4\" >0.00</td>\n",
       "      <td id=\"T_a7c6a_row14_col5\" class=\"data row14 col5\" >273.30</td>\n",
       "      <td id=\"T_a7c6a_row14_col6\" class=\"data row14 col6\" >-26.04</td>\n",
       "      <td id=\"T_a7c6a_row14_col7\" class=\"data row14 col7\" >787.94</td>\n",
       "    </tr>\n",
       "  </tbody>\n",
       "</table>\n"
      ],
      "text/plain": [
       "<pandas.io.formats.style.Styler at 0x7f5605f02af0>"
      ]
     },
     "execution_count": 58,
     "metadata": {},
     "output_type": "execute_result"
    }
   ],
   "source": [
    "# df3.hist();\n",
    "num_att = df5.select_dtypes(include= ['int','float'])\n",
    "d1 = pd.DataFrame( num_att.min() ).T\n",
    "d2 = pd.DataFrame( num_att.max() ).T\n",
    "d3 = pd.DataFrame( num_att.max() - num_att.min() ).T\n",
    "d4 = pd.DataFrame( num_att.mean() ).T\n",
    "d5 = pd.DataFrame( num_att.median() ).T\n",
    "d6 = pd.DataFrame( num_att.std() ).T\n",
    "d7 = pd.DataFrame( num_att.skew() ).T\n",
    "d8 = pd.DataFrame( num_att.kurtosis() ).T\n",
    "\n",
    "desc = pd.concat( [d1, d2, d3, d4, d5, d6, d7, d8] ).T\n",
    "desc.columns = ['min', 'max', 'range', 'mean', 'median', 'std', 'skew', 'kurtosis' ]\n",
    "desc.style.format( \"{:,.2f}\" )"
   ]
  },
  {
   "cell_type": "markdown",
   "metadata": {
    "heading_collapsed": true
   },
   "source": [
    "# 6.0 Feature Selection"
   ]
  },
  {
   "cell_type": "markdown",
   "metadata": {},
   "source": [
    "## 6.3 Selected Embedding Space"
   ]
  },
  {
   "cell_type": "code",
   "execution_count": 59,
   "metadata": {},
   "outputs": [
    {
     "data": {
      "image/png": "[encoded data removed]",
      "text/plain": [
       "<Figure size 1800x864 with 1 Axes>"
      ]
     },
     "metadata": {},
     "output_type": "display_data"
    }
   ],
   "source": [
    "# selecting most important features. Removing ('avg_basket_size', 'avg_days_bw_purchases', 'avg_return_revenue', 'date_range)\n",
    "cols_selected = ['qty_items','avg_ticket','num_returns','returns_revenue','avg_unique_prods','qty_returned','num_purchases','recency','frequency']\n",
    "\n",
    "# defining independent and dependent variable\n",
    "X = df5[cols_selected].copy()\n",
    "y = df5['revenue']\n",
    "\n",
    "# defining random forest regresor for embedding\n",
    "rf = RandomForestRegressor(random_state = 42, min_samples_split = 20) \n",
    "rf.fit(X, y)\n",
    "\n",
    "# get leafs for each observation\n",
    "df_leaf = pd.DataFrame( rf.apply(X) )\n",
    "\n",
    "# defining umap algorithm\n",
    "n_neighbors = 50\n",
    "umap = UMAP(n_neighbors = n_neighbors, random_state = 42, metric = 'manhattan')  \n",
    "res_umap = umap.fit_transform(df_leaf)\n",
    "metric = umap.metric\n",
    "\n",
    "# storing embedding results on a dataframe\n",
    "df_tree = df5.copy()\n",
    "# df_tree = pd.DataFrame()\n",
    "df_tree['embedding_x'] =  res_umap[:,0]\n",
    "df_tree['embedding_y'] =  res_umap[:,1]\n",
    "\n",
    "# ploting results\n",
    "cmap = sns.color_palette('RdBu_r', as_cmap = True)\n",
    "plt.title('UMAP - Neighbors = {} - Distance = {}'.format(n_neighbors, metric) )\n",
    "sns.scatterplot( data = df_tree, x = 'embedding_x', y = 'embedding_y', hue = 'revenue', palette = cmap);"
   ]
  },
  {
   "cell_type": "markdown",
   "metadata": {},
   "source": [
    "# 7.0 Model Testing"
   ]
  },
  {
   "cell_type": "code",
   "execution_count": 69,
   "metadata": {},
   "outputs": [],
   "source": [
    "# defining two spaces of data (embedded and rescaled) to test models\n",
    "\n",
    "# tree embedded data\n",
    "df_tree = pd.DataFrame()\n",
    "df_tree['embedding_x'] =  res_umap[:,0]\n",
    "df_tree['embedding_y'] =  res_umap[:,1]\n",
    "\n",
    "# rescaled data\n",
    "df7 = df5.copy()"
   ]
  },
  {
   "cell_type": "code",
   "execution_count": 70,
   "metadata": {},
   "outputs": [
    {
     "ename": "NameError",
     "evalue": "name 'X' is not defined",
     "output_type": "error",
     "traceback": [
      "\u001b[0;31m---------------------------------------------------------------------------\u001b[0m",
      "\u001b[0;31mNameError\u001b[0m                                 Traceback (most recent call last)",
      "\u001b[1;32m/home/humberto/DS/insiders_clustering/src/notebooks/c13-deploy-2.ipynb Cell 78'\u001b[0m in \u001b[0;36m<cell line: 1>\u001b[0;34m()\u001b[0m\n\u001b[0;32m----> <a href='vscode-notebook-cell:/home/humberto/DS/insiders_clustering/src/notebooks/c13-deploy-2.ipynb#ch0000116?line=0'>1</a>\u001b[0m \u001b[39mdel\u001b[39;00m X, y, df5\n\u001b[1;32m      <a href='vscode-notebook-cell:/home/humberto/DS/insiders_clustering/src/notebooks/c13-deploy-2.ipynb#ch0000116?line=1'>2</a>\u001b[0m gc\u001b[39m.\u001b[39mcollect()\n",
      "\u001b[0;31mNameError\u001b[0m: name 'X' is not defined"
     ]
    }
   ],
   "source": [
    "del X, y, df5\n",
    "gc.collect()"
   ]
  },
  {
   "cell_type": "markdown",
   "metadata": {},
   "source": [
    "# 8.0 Model Training"
   ]
  },
  {
   "cell_type": "code",
   "execution_count": 66,
   "metadata": {},
   "outputs": [
    {
     "data": {
      "text/plain": [
       "(4314, 16)"
      ]
     },
     "execution_count": 66,
     "metadata": {},
     "output_type": "execute_result"
    }
   ],
   "source": [
    "df7.shape"
   ]
  },
  {
   "cell_type": "code",
   "execution_count": 71,
   "metadata": {},
   "outputs": [
    {
     "data": {
      "text/plain": [
       "(4314, 20)"
      ]
     },
     "execution_count": 71,
     "metadata": {},
     "output_type": "execute_result"
    }
   ],
   "source": [
    "# defining model \n",
    "db_model = DBSCAN(eps = 2.1, min_samples=50)\n",
    "\n",
    "# applying model \n",
    "labels = db_model.fit_predict(df_tree)\n",
    "\n",
    "df_result = df7.reset_index(drop = True).copy()\n",
    "\n",
    "# concatenating results\n",
    "df_result = pd.concat( [df_result, df_tree], axis = 1 )\n",
    "\n",
    "# defining cluster\n",
    "df_result['cluster'] = labels.astype(str)\n",
    "\n",
    "# mapping cluster names\n",
    "names = {\"4\" : \"Insiders\",\n",
    "         \"1\" : \"Potential Loyalists\",\n",
    "         \"0\" : \"Loyal Customers\",\n",
    "         \"2\" : \"Promissing 1\",\n",
    "         \"8\" : \"Need Attention 1\",\n",
    "         \"6\" : \"Promising 2\",\n",
    "         \"7\" : \"Need Attention 2\",\n",
    "         \"5\" : \"Hibernating 1\",\n",
    "         \"10\" : \"Churn 1\",\n",
    "         \"3\" : \"Price Sensitive\",\n",
    "         \"9\" : \"Churn 2\",\n",
    "         \"11\" : \"Hibernating 2\",\n",
    "         \"-1\" : 'Noise' }\n",
    "\n",
    "df_result['cluster_name'] = df_result['cluster'].map(names)\n",
    "\n",
    "df_result.rename( columns = {'date_range': 'tenure'}, inplace = True)\n",
    "df_result.head()\n",
    "df_result.shape"
   ]
  },
  {
   "cell_type": "code",
   "execution_count": 72,
   "metadata": {},
   "outputs": [
    {
     "data": {
      "image/png": "[encoded data removed]",
      "text/plain": [
       "<Figure size 1800x864 with 1 Axes>"
      ]
     },
     "metadata": {},
     "output_type": "display_data"
    }
   ],
   "source": [
    "sns.scatterplot(data = df_result, x = 'embedding_x', y = 'embedding_y', hue = 'cluster_name', palette = 'bright');"
   ]
  },
  {
   "cell_type": "markdown",
   "metadata": {},
   "source": [
    "# 9.0 Cluster Analysis"
   ]
  },
  {
   "cell_type": "markdown",
   "metadata": {},
   "source": [
    "## 9.4 Business Perspective"
   ]
  },
  {
   "cell_type": "markdown",
   "metadata": {},
   "source": [
    "### 9.4.1 Clusters Table"
   ]
  },
  {
   "cell_type": "code",
   "execution_count": 74,
   "metadata": {},
   "outputs": [],
   "source": [
    "# number of customers per cluster\n",
    "n_cust = df_result.copy()\n",
    "n_cust = n_cust.groupby('cluster').count().reset_index().rename(columns = {'customer_id' : 'num_of_customers'})\n",
    "n_cust['perc_of_customer'] = n_cust['num_of_customers']/n_cust['num_of_customers'].sum()*100\n",
    "n_cust = n_cust[['cluster', 'num_of_customers', 'perc_of_customer']]"
   ]
  },
  {
   "cell_type": "code",
   "execution_count": 75,
   "metadata": {},
   "outputs": [
    {
     "data": {
      "text/html": [
       "<style type=\"text/css\">\n",
       "</style>\n",
       "<table id=\"T_8e641\">\n",
       "  <thead>\n",
       "    <tr>\n",
       "      <th class=\"blank level0\" >&nbsp;</th>\n",
       "      <th id=\"T_8e641_level0_col0\" class=\"col_heading level0 col0\" >cluster_name</th>\n",
       "      <th id=\"T_8e641_level0_col1\" class=\"col_heading level0 col1\" >num_of_customers</th>\n",
       "      <th id=\"T_8e641_level0_col2\" class=\"col_heading level0 col2\" >perc_of_customer</th>\n",
       "      <th id=\"T_8e641_level0_col3\" class=\"col_heading level0 col3\" >recency</th>\n",
       "      <th id=\"T_8e641_level0_col4\" class=\"col_heading level0 col4\" >revenue</th>\n",
       "      <th id=\"T_8e641_level0_col5\" class=\"col_heading level0 col5\" >avg_ticket</th>\n",
       "      <th id=\"T_8e641_level0_col6\" class=\"col_heading level0 col6\" >num_purchases</th>\n",
       "      <th id=\"T_8e641_level0_col7\" class=\"col_heading level0 col7\" >tenure</th>\n",
       "      <th id=\"T_8e641_level0_col8\" class=\"col_heading level0 col8\" >frequency</th>\n",
       "      <th id=\"T_8e641_level0_col9\" class=\"col_heading level0 col9\" >num_returns</th>\n",
       "      <th id=\"T_8e641_level0_col10\" class=\"col_heading level0 col10\" >avg_return_revenue</th>\n",
       "    </tr>\n",
       "  </thead>\n",
       "  <tbody>\n",
       "    <tr>\n",
       "      <th id=\"T_8e641_level0_row0\" class=\"row_heading level0 row0\" >7</th>\n",
       "      <td id=\"T_8e641_row0_col0\" class=\"data row0 col0\" >Insiders</td>\n",
       "      <td id=\"T_8e641_row0_col1\" class=\"data row0 col1\" >122</td>\n",
       "      <td id=\"T_8e641_row0_col2\" class=\"data row0 col2\" >2.83%</td>\n",
       "      <td id=\"T_8e641_row0_col3\" class=\"data row0 col3\" >19.89</td>\n",
       "      <td id=\"T_8e641_row0_col4\" class=\"data row0 col4\" >26,919.61</td>\n",
       "      <td id=\"T_8e641_row0_col5\" class=\"data row0 col5\" >1,190.97</td>\n",
       "      <td id=\"T_8e641_row0_col6\" class=\"data row0 col6\" >28.32</td>\n",
       "      <td id=\"T_8e641_row0_col7\" class=\"data row0 col7\" >315.70</td>\n",
       "      <td id=\"T_8e641_row0_col8\" class=\"data row0 col8\" >0.1405</td>\n",
       "      <td id=\"T_8e641_row0_col9\" class=\"data row0 col9\" >16.39</td>\n",
       "      <td id=\"T_8e641_row0_col10\" class=\"data row0 col10\" >-105.77</td>\n",
       "    </tr>\n",
       "    <tr>\n",
       "      <th id=\"T_8e641_level0_row1\" class=\"row_heading level0 row1\" >2</th>\n",
       "      <td id=\"T_8e641_row1_col0\" class=\"data row1 col0\" >Potential Loyalists</td>\n",
       "      <td id=\"T_8e641_row1_col1\" class=\"data row1 col1\" >350</td>\n",
       "      <td id=\"T_8e641_row1_col2\" class=\"data row1 col2\" >8.11%</td>\n",
       "      <td id=\"T_8e641_row1_col3\" class=\"data row1 col3\" >29.42</td>\n",
       "      <td id=\"T_8e641_row1_col4\" class=\"data row1 col4\" >4,807.84</td>\n",
       "      <td id=\"T_8e641_row1_col5\" class=\"data row1 col5\" >663.65</td>\n",
       "      <td id=\"T_8e641_row1_col6\" class=\"data row1 col6\" >10.77</td>\n",
       "      <td id=\"T_8e641_row1_col7\" class=\"data row1 col7\" >283.83</td>\n",
       "      <td id=\"T_8e641_row1_col8\" class=\"data row1 col8\" >0.0435</td>\n",
       "      <td id=\"T_8e641_row1_col9\" class=\"data row1 col9\" >5.75</td>\n",
       "      <td id=\"T_8e641_row1_col10\" class=\"data row1 col10\" >-15.99</td>\n",
       "    </tr>\n",
       "    <tr>\n",
       "      <th id=\"T_8e641_level0_row2\" class=\"row_heading level0 row2\" >1</th>\n",
       "      <td id=\"T_8e641_row2_col0\" class=\"data row2 col0\" >Loyal Customers</td>\n",
       "      <td id=\"T_8e641_row2_col1\" class=\"data row2 col1\" >832</td>\n",
       "      <td id=\"T_8e641_row2_col2\" class=\"data row2 col2\" >19.29%</td>\n",
       "      <td id=\"T_8e641_row2_col3\" class=\"data row2 col3\" >44.18</td>\n",
       "      <td id=\"T_8e641_row2_col4\" class=\"data row2 col4\" >2,081.88</td>\n",
       "      <td id=\"T_8e641_row2_col5\" class=\"data row2 col5\" >447.67</td>\n",
       "      <td id=\"T_8e641_row2_col6\" class=\"data row2 col6\" >5.93</td>\n",
       "      <td id=\"T_8e641_row2_col7\" class=\"data row2 col7\" >231.45</td>\n",
       "      <td id=\"T_8e641_row2_col8\" class=\"data row2 col8\" >0.0740</td>\n",
       "      <td id=\"T_8e641_row2_col9\" class=\"data row2 col9\" >2.51</td>\n",
       "      <td id=\"T_8e641_row2_col10\" class=\"data row2 col10\" >-10.81</td>\n",
       "    </tr>\n",
       "    <tr>\n",
       "      <th id=\"T_8e641_level0_row3\" class=\"row_heading level0 row3\" >5</th>\n",
       "      <td id=\"T_8e641_row3_col0\" class=\"data row3 col0\" >Promissing 1</td>\n",
       "      <td id=\"T_8e641_row3_col1\" class=\"data row3 col1\" >390</td>\n",
       "      <td id=\"T_8e641_row3_col2\" class=\"data row3 col2\" >9.04%</td>\n",
       "      <td id=\"T_8e641_row3_col3\" class=\"data row3 col3\" >54.91</td>\n",
       "      <td id=\"T_8e641_row3_col4\" class=\"data row3 col4\" >1,229.51</td>\n",
       "      <td id=\"T_8e641_row3_col5\" class=\"data row3 col5\" >358.42</td>\n",
       "      <td id=\"T_8e641_row3_col6\" class=\"data row3 col6\" >4.41</td>\n",
       "      <td id=\"T_8e641_row3_col7\" class=\"data row3 col7\" >199.24</td>\n",
       "      <td id=\"T_8e641_row3_col8\" class=\"data row3 col8\" >0.0387</td>\n",
       "      <td id=\"T_8e641_row3_col9\" class=\"data row3 col9\" >1.73</td>\n",
       "      <td id=\"T_8e641_row3_col10\" class=\"data row3 col10\" >-10.26</td>\n",
       "    </tr>\n",
       "    <tr>\n",
       "      <th id=\"T_8e641_level0_row4\" class=\"row_heading level0 row4\" >11</th>\n",
       "      <td id=\"T_8e641_row4_col0\" class=\"data row4 col0\" >Need Attention 1</td>\n",
       "      <td id=\"T_8e641_row4_col1\" class=\"data row4 col1\" >577</td>\n",
       "      <td id=\"T_8e641_row4_col2\" class=\"data row4 col2\" >13.38%</td>\n",
       "      <td id=\"T_8e641_row4_col3\" class=\"data row4 col3\" >93.42</td>\n",
       "      <td id=\"T_8e641_row4_col4\" class=\"data row4 col4\" >777.66</td>\n",
       "      <td id=\"T_8e641_row4_col5\" class=\"data row4 col5\" >440.05</td>\n",
       "      <td id=\"T_8e641_row4_col6\" class=\"data row4 col6\" >2.02</td>\n",
       "      <td id=\"T_8e641_row4_col7\" class=\"data row4 col7\" >135.19</td>\n",
       "      <td id=\"T_8e641_row4_col8\" class=\"data row4 col8\" >0.0444</td>\n",
       "      <td id=\"T_8e641_row4_col9\" class=\"data row4 col9\" >0.74</td>\n",
       "      <td id=\"T_8e641_row4_col10\" class=\"data row4 col10\" >-4.98</td>\n",
       "    </tr>\n",
       "    <tr>\n",
       "      <th id=\"T_8e641_level0_row5\" class=\"row_heading level0 row5\" >9</th>\n",
       "      <td id=\"T_8e641_row5_col0\" class=\"data row5 col0\" >Promising 2</td>\n",
       "      <td id=\"T_8e641_row5_col1\" class=\"data row5 col1\" >184</td>\n",
       "      <td id=\"T_8e641_row5_col2\" class=\"data row5 col2\" >4.27%</td>\n",
       "      <td id=\"T_8e641_row5_col3\" class=\"data row5 col3\" >67.53</td>\n",
       "      <td id=\"T_8e641_row5_col4\" class=\"data row5 col4\" >633.76</td>\n",
       "      <td id=\"T_8e641_row5_col5\" class=\"data row5 col5\" >173.89</td>\n",
       "      <td id=\"T_8e641_row5_col6\" class=\"data row5 col6\" >3.80</td>\n",
       "      <td id=\"T_8e641_row5_col7\" class=\"data row5 col7\" >186.69</td>\n",
       "      <td id=\"T_8e641_row5_col8\" class=\"data row5 col8\" >0.0517</td>\n",
       "      <td id=\"T_8e641_row5_col9\" class=\"data row5 col9\" >1.99</td>\n",
       "      <td id=\"T_8e641_row5_col10\" class=\"data row5 col10\" >-9.83</td>\n",
       "    </tr>\n",
       "    <tr>\n",
       "      <th id=\"T_8e641_level0_row6\" class=\"row_heading level0 row6\" >10</th>\n",
       "      <td id=\"T_8e641_row6_col0\" class=\"data row6 col0\" >Need Attention 2</td>\n",
       "      <td id=\"T_8e641_row6_col1\" class=\"data row6 col1\" >230</td>\n",
       "      <td id=\"T_8e641_row6_col2\" class=\"data row6 col2\" >5.33%</td>\n",
       "      <td id=\"T_8e641_row6_col3\" class=\"data row6 col3\" >90.58</td>\n",
       "      <td id=\"T_8e641_row6_col4\" class=\"data row6 col4\" >481.55</td>\n",
       "      <td id=\"T_8e641_row6_col5\" class=\"data row6 col5\" >240.78</td>\n",
       "      <td id=\"T_8e641_row6_col6\" class=\"data row6 col6\" >2.00</td>\n",
       "      <td id=\"T_8e641_row6_col7\" class=\"data row6 col7\" >129.31</td>\n",
       "      <td id=\"T_8e641_row6_col8\" class=\"data row6 col8\" >0.0562</td>\n",
       "      <td id=\"T_8e641_row6_col9\" class=\"data row6 col9\" >0.52</td>\n",
       "      <td id=\"T_8e641_row6_col10\" class=\"data row6 col10\" >-2.86</td>\n",
       "    </tr>\n",
       "    <tr>\n",
       "      <th id=\"T_8e641_level0_row7\" class=\"row_heading level0 row7\" >8</th>\n",
       "      <td id=\"T_8e641_row7_col0\" class=\"data row7 col0\" >Hibernating 1</td>\n",
       "      <td id=\"T_8e641_row7_col1\" class=\"data row7 col1\" >253</td>\n",
       "      <td id=\"T_8e641_row7_col2\" class=\"data row7 col2\" >5.86%</td>\n",
       "      <td id=\"T_8e641_row7_col3\" class=\"data row7 col3\" >136.85</td>\n",
       "      <td id=\"T_8e641_row7_col4\" class=\"data row7 col4\" >433.87</td>\n",
       "      <td id=\"T_8e641_row7_col5\" class=\"data row7 col5\" >433.87</td>\n",
       "      <td id=\"T_8e641_row7_col6\" class=\"data row7 col6\" >1.00</td>\n",
       "      <td id=\"T_8e641_row7_col7\" class=\"data row7 col7\" >136.85</td>\n",
       "      <td id=\"T_8e641_row7_col8\" class=\"data row7 col8\" >0.0235</td>\n",
       "      <td id=\"T_8e641_row7_col9\" class=\"data row7 col9\" >0.32</td>\n",
       "      <td id=\"T_8e641_row7_col10\" class=\"data row7 col10\" >-2.36</td>\n",
       "    </tr>\n",
       "    <tr>\n",
       "      <th id=\"T_8e641_level0_row8\" class=\"row_heading level0 row8\" >3</th>\n",
       "      <td id=\"T_8e641_row8_col0\" class=\"data row8 col0\" >Churn 1</td>\n",
       "      <td id=\"T_8e641_row8_col1\" class=\"data row8 col1\" >294</td>\n",
       "      <td id=\"T_8e641_row8_col2\" class=\"data row8 col2\" >6.82%</td>\n",
       "      <td id=\"T_8e641_row8_col3\" class=\"data row8 col3\" >165.18</td>\n",
       "      <td id=\"T_8e641_row8_col4\" class=\"data row8 col4\" >379.41</td>\n",
       "      <td id=\"T_8e641_row8_col5\" class=\"data row8 col5\" >348.32</td>\n",
       "      <td id=\"T_8e641_row8_col6\" class=\"data row8 col6\" >1.10</td>\n",
       "      <td id=\"T_8e641_row8_col7\" class=\"data row8 col7\" >162.76</td>\n",
       "      <td id=\"T_8e641_row8_col8\" class=\"data row8 col8\" >0.0195</td>\n",
       "      <td id=\"T_8e641_row8_col9\" class=\"data row8 col9\" >0.40</td>\n",
       "      <td id=\"T_8e641_row8_col10\" class=\"data row8 col10\" >-2.77</td>\n",
       "    </tr>\n",
       "    <tr>\n",
       "      <th id=\"T_8e641_level0_row9\" class=\"row_heading level0 row9\" >6</th>\n",
       "      <td id=\"T_8e641_row9_col0\" class=\"data row9 col0\" >Price Sensitive</td>\n",
       "      <td id=\"T_8e641_row9_col1\" class=\"data row9 col1\" >306</td>\n",
       "      <td id=\"T_8e641_row9_col2\" class=\"data row9 col2\" >7.09%</td>\n",
       "      <td id=\"T_8e641_row9_col3\" class=\"data row9 col3\" >101.30</td>\n",
       "      <td id=\"T_8e641_row9_col4\" class=\"data row9 col4\" >300.95</td>\n",
       "      <td id=\"T_8e641_row9_col5\" class=\"data row9 col5\" >123.89</td>\n",
       "      <td id=\"T_8e641_row9_col6\" class=\"data row9 col6\" >2.53</td>\n",
       "      <td id=\"T_8e641_row9_col7\" class=\"data row9 col7\" >144.50</td>\n",
       "      <td id=\"T_8e641_row9_col8\" class=\"data row9 col8\" >0.0670</td>\n",
       "      <td id=\"T_8e641_row9_col9\" class=\"data row9 col9\" >0.58</td>\n",
       "      <td id=\"T_8e641_row9_col10\" class=\"data row9 col10\" >-8.80</td>\n",
       "    </tr>\n",
       "    <tr>\n",
       "      <th id=\"T_8e641_level0_row10\" class=\"row_heading level0 row10\" >4</th>\n",
       "      <td id=\"T_8e641_row10_col0\" class=\"data row10 col0\" >Hibernating 2</td>\n",
       "      <td id=\"T_8e641_row10_col1\" class=\"data row10 col1\" >71</td>\n",
       "      <td id=\"T_8e641_row10_col2\" class=\"data row10 col2\" >1.65%</td>\n",
       "      <td id=\"T_8e641_row10_col3\" class=\"data row10 col3\" >148.66</td>\n",
       "      <td id=\"T_8e641_row10_col4\" class=\"data row10 col4\" >265.17</td>\n",
       "      <td id=\"T_8e641_row10_col5\" class=\"data row10 col5\" >265.17</td>\n",
       "      <td id=\"T_8e641_row10_col6\" class=\"data row10 col6\" >1.00</td>\n",
       "      <td id=\"T_8e641_row10_col7\" class=\"data row10 col7\" >148.66</td>\n",
       "      <td id=\"T_8e641_row10_col8\" class=\"data row10 col8\" >0.0194</td>\n",
       "      <td id=\"T_8e641_row10_col9\" class=\"data row10 col9\" >0.30</td>\n",
       "      <td id=\"T_8e641_row10_col10\" class=\"data row10 col10\" >-0.64</td>\n",
       "    </tr>\n",
       "    <tr>\n",
       "      <th id=\"T_8e641_level0_row11\" class=\"row_heading level0 row11\" >0</th>\n",
       "      <td id=\"T_8e641_row11_col0\" class=\"data row11 col0\" >Noise</td>\n",
       "      <td id=\"T_8e641_row11_col1\" class=\"data row11 col1\" >32</td>\n",
       "      <td id=\"T_8e641_row11_col2\" class=\"data row11 col2\" >0.74%</td>\n",
       "      <td id=\"T_8e641_row11_col3\" class=\"data row11 col3\" >109.66</td>\n",
       "      <td id=\"T_8e641_row11_col4\" class=\"data row11 col4\" >254.25</td>\n",
       "      <td id=\"T_8e641_row11_col5\" class=\"data row11 col5\" >87.85</td>\n",
       "      <td id=\"T_8e641_row11_col6\" class=\"data row11 col6\" >2.38</td>\n",
       "      <td id=\"T_8e641_row11_col7\" class=\"data row11 col7\" >159.59</td>\n",
       "      <td id=\"T_8e641_row11_col8\" class=\"data row11 col8\" >0.0227</td>\n",
       "      <td id=\"T_8e641_row11_col9\" class=\"data row11 col9\" >0.91</td>\n",
       "      <td id=\"T_8e641_row11_col10\" class=\"data row11 col10\" >-3.38</td>\n",
       "    </tr>\n",
       "    <tr>\n",
       "      <th id=\"T_8e641_level0_row12\" class=\"row_heading level0 row12\" >12</th>\n",
       "      <td id=\"T_8e641_row12_col0\" class=\"data row12 col0\" >Churn 2</td>\n",
       "      <td id=\"T_8e641_row12_col1\" class=\"data row12 col1\" >673</td>\n",
       "      <td id=\"T_8e641_row12_col2\" class=\"data row12 col2\" >15.60%</td>\n",
       "      <td id=\"T_8e641_row12_col3\" class=\"data row12 col3\" >171.02</td>\n",
       "      <td id=\"T_8e641_row12_col4\" class=\"data row12 col4\" >146.54</td>\n",
       "      <td id=\"T_8e641_row12_col5\" class=\"data row12 col5\" >146.54</td>\n",
       "      <td id=\"T_8e641_row12_col6\" class=\"data row12 col6\" >1.00</td>\n",
       "      <td id=\"T_8e641_row12_col7\" class=\"data row12 col7\" >171.02</td>\n",
       "      <td id=\"T_8e641_row12_col8\" class=\"data row12 col8\" >0.0201</td>\n",
       "      <td id=\"T_8e641_row12_col9\" class=\"data row12 col9\" >0.17</td>\n",
       "      <td id=\"T_8e641_row12_col10\" class=\"data row12 col10\" >-1.44</td>\n",
       "    </tr>\n",
       "  </tbody>\n",
       "</table>\n"
      ],
      "text/plain": [
       "<pandas.io.formats.style.Styler at 0x7f55dbce07f0>"
      ]
     },
     "execution_count": 75,
     "metadata": {},
     "output_type": "execute_result"
    }
   ],
   "source": [
    "# calculating mean values for each cluster attribute\n",
    "df_res = df_result.copy()\n",
    "\n",
    "# calculating mothly frequency. Did not like the results of this\n",
    "# df_res['frequency'] = df_res['frequency']*30\n",
    "\n",
    "# add cluster to df\n",
    "result = df_res.groupby('cluster').mean().reset_index()\n",
    "result\n",
    "\n",
    "# add nº of customers\n",
    "result = result.merge( n_cust, on = 'cluster', how = 'inner')\n",
    "# Based on the RFM Analysis I gave names to clusters \n",
    "result['cluster_name'] = result['cluster'].map(names)\n",
    "result_reduced = result[['cluster_name', 'num_of_customers', 'perc_of_customer', 'recency', 'revenue', 'avg_ticket', 'num_purchases', 'tenure', 'frequency', 'num_returns', 'avg_return_revenue' ]].copy()\n",
    "\n",
    "#formatting output\n",
    "result_reduced.sort_values('revenue', ascending = False, inplace = True )\n",
    "result_reduced['perc_of_customer'] = result_reduced['perc_of_customer'].apply(lambda x: \"{:.2f}%\".format(x) )\n",
    "formatter = {\"recency\" : \"{:,.2f}\",\n",
    "\"revenue\" : \"{:,.2f}\",\n",
    "\"avg_ticket\" : \"{:,.2f}\",\n",
    "\"num_purchases\" : \"{:,.2f}\",\n",
    "\"tenure\" : \"{:,.2f}\",\n",
    "\"frequency\" : \"{:,.4f}\",\n",
    "\"num_returns\" : \"{:,.2f}\",\n",
    "\"avg_return_revenue\" : \"{:,.2f}\"\n",
    "}\n",
    "result_reduced.style.format( formatter = formatter )"
   ]
  },
  {
   "cell_type": "markdown",
   "metadata": {},
   "source": [
    "# 11 Model Deployment"
   ]
  },
  {
   "cell_type": "markdown",
   "metadata": {},
   "source": [
    "## 11.1. Inserting results on sqlite db"
   ]
  },
  {
   "cell_type": "code",
   "execution_count": 47,
   "metadata": {},
   "outputs": [],
   "source": [
    "#  connect to db, if doesn't exist create one\n",
    "# con = sqlite3.connect('../src/features/insiders.db')"
   ]
  },
  {
   "cell_type": "code",
   "execution_count": 48,
   "metadata": {},
   "outputs": [],
   "source": [
    "# cur = con.cursor()\n",
    "\n",
    "# cur.execute(\n",
    "#     \"\"\"\n",
    "    # CREATE TABLE insiders (\n",
    "    #     customer_id               INTEGER,\n",
    "    #     country                   TEXT,\n",
    "    #     recency                   INTEGER,\n",
    "    #     avg_days_bw_purchases     REAL,\n",
    "    #     num_purchases             INTEGER,\n",
    "    #     tenure                    INTEGER,\n",
    "    #     frequency                 REAL,\n",
    "    #     revenue                   REAL,\n",
    "    #     avg_ticket                REAL,\n",
    "    #     qty_items                 INTEGER,\n",
    "    #     avg_basket_size           REAL,\n",
    "    #     avg_unique_prods          REAL,\n",
    "    #     returns_revenue           REAL,\n",
    "    #     avg_return_revenue        REAL,\n",
    "    #     num_returns               REAL,\n",
    "    #     qty_returned              REAL,\n",
    "    #     embedding_x               REAL,\n",
    "    #     embedding_y               REAL,\n",
    "    #     cluster                   TEXT,\n",
    "    #     cluster_name              TEXT\n",
    "#     );\n",
    "#     \"\"\"\n",
    "# )\n",
    "\n",
    "# con.commit()\n",
    "\n",
    "# # con.close()\n",
    "\n"
   ]
  },
  {
   "cell_type": "code",
   "execution_count": 49,
   "metadata": {},
   "outputs": [],
   "source": [
    "# df_result.dtypes"
   ]
  },
  {
   "cell_type": "code",
   "execution_count": 50,
   "metadata": {},
   "outputs": [],
   "source": [
    "# # con.execute(\n",
    "# #     \"\"\"\n",
    "# #     SELECT name\n",
    "# #     FROM sqlite_schema\n",
    "# #     WHERE type ='table'\n",
    "# #     \"\"\"\n",
    "# # )\n",
    "# cur.execute(\n",
    "# \"\"\"SELECT \n",
    "#         name\n",
    "#     FROM \n",
    "#         sqlite_master\n",
    "#     WHERE \n",
    "#         type ='table' \n",
    "#         ;\"\"\"\n",
    "#         )\n",
    "# # con.commit()\n",
    "# #  AND name NOT LIKE 'sqlite_%'\n",
    "# cur.fetchone()"
   ]
  },
  {
   "cell_type": "code",
   "execution_count": 51,
   "metadata": {},
   "outputs": [],
   "source": [
    "# con.execute(\n",
    "#     \"\"\"\n",
    "#     DROP TABLE insiders\n",
    "#     \"\"\"\n",
    "# )\n",
    "# con.commit()\n",
    "\n",
    "# # con.close()\n"
   ]
  },
  {
   "cell_type": "code",
   "execution_count": 52,
   "metadata": {},
   "outputs": [],
   "source": [
    "# conn = create_engine('sqlite:////home/humberto/DS/insiders_clustering/src/features/insiders.db', echo=False)\n",
    "# df_result.to_sql('insiders', con = conn, if_exists='append', index = False)"
   ]
  },
  {
   "cell_type": "code",
   "execution_count": 53,
   "metadata": {},
   "outputs": [],
   "source": [
    "# df_sql = pd.read_sql('insiders', con = conn)\n",
    "# print(df_sql.iloc[0,8])\n",
    "# print(df_result.iloc[0,8])\n",
    "# df_sql.head()"
   ]
  },
  {
   "cell_type": "markdown",
   "metadata": {},
   "source": [
    "## 11.2 Inserting results to mysql db on AWS"
   ]
  },
  {
   "cell_type": "code",
   "execution_count": 76,
   "metadata": {},
   "outputs": [],
   "source": [
    "# adding last update time to data that will be inserted on DB\n",
    "\n",
    "now = datetime.now().strftime( \"%Y-%m-%d %H:%M:%S\" )\n",
    "\n",
    "df_result['last_update'] = now"
   ]
  },
  {
   "cell_type": "code",
   "execution_count": 77,
   "metadata": {},
   "outputs": [
    {
     "data": {
      "text/html": [
       "<div>\n",
       "<style scoped>\n",
       "    .dataframe tbody tr th:only-of-type {\n",
       "        vertical-align: middle;\n",
       "    }\n",
       "\n",
       "    .dataframe tbody tr th {\n",
       "        vertical-align: top;\n",
       "    }\n",
       "\n",
       "    .dataframe thead th {\n",
       "        text-align: right;\n",
       "    }\n",
       "</style>\n",
       "<table border=\"1\" class=\"dataframe\">\n",
       "  <thead>\n",
       "    <tr style=\"text-align: right;\">\n",
       "      <th></th>\n",
       "      <th>customer_id</th>\n",
       "      <th>country</th>\n",
       "      <th>recency</th>\n",
       "      <th>avg_days_bw_purchases</th>\n",
       "      <th>num_purchases</th>\n",
       "      <th>tenure</th>\n",
       "      <th>frequency</th>\n",
       "      <th>revenue</th>\n",
       "      <th>avg_ticket</th>\n",
       "      <th>qty_items</th>\n",
       "      <th>avg_basket_size</th>\n",
       "      <th>avg_unique_prods</th>\n",
       "      <th>returns_revenue</th>\n",
       "      <th>avg_return_revenue</th>\n",
       "      <th>num_returns</th>\n",
       "      <th>qty_returned</th>\n",
       "      <th>embedding_x</th>\n",
       "      <th>embedding_y</th>\n",
       "      <th>cluster</th>\n",
       "      <th>cluster_name</th>\n",
       "      <th>last_update</th>\n",
       "    </tr>\n",
       "  </thead>\n",
       "  <tbody>\n",
       "    <tr>\n",
       "      <th>0</th>\n",
       "      <td>17850</td>\n",
       "      <td>United Kingdom</td>\n",
       "      <td>373</td>\n",
       "      <td>1.000000</td>\n",
       "      <td>34</td>\n",
       "      <td>1</td>\n",
       "      <td>34.000000</td>\n",
       "      <td>5288.63</td>\n",
       "      <td>155.547941</td>\n",
       "      <td>1693</td>\n",
       "      <td>48.371429</td>\n",
       "      <td>8.735294</td>\n",
       "      <td>-102.58</td>\n",
       "      <td>-6.838667</td>\n",
       "      <td>15.0</td>\n",
       "      <td>-40.0</td>\n",
       "      <td>-3.543982</td>\n",
       "      <td>9.718514</td>\n",
       "      <td>0</td>\n",
       "      <td>Loyal Customers</td>\n",
       "      <td>2022-03-18 16:57:17</td>\n",
       "    </tr>\n",
       "    <tr>\n",
       "      <th>1</th>\n",
       "      <td>13047</td>\n",
       "      <td>United Kingdom</td>\n",
       "      <td>57</td>\n",
       "      <td>52.833333</td>\n",
       "      <td>9</td>\n",
       "      <td>317</td>\n",
       "      <td>0.028391</td>\n",
       "      <td>3089.10</td>\n",
       "      <td>343.233333</td>\n",
       "      <td>1355</td>\n",
       "      <td>84.687500</td>\n",
       "      <td>19.000000</td>\n",
       "      <td>-143.49</td>\n",
       "      <td>-6.238696</td>\n",
       "      <td>23.0</td>\n",
       "      <td>-35.0</td>\n",
       "      <td>-4.025312</td>\n",
       "      <td>8.022521</td>\n",
       "      <td>0</td>\n",
       "      <td>Loyal Customers</td>\n",
       "      <td>2022-03-18 16:57:17</td>\n",
       "    </tr>\n",
       "    <tr>\n",
       "      <th>2</th>\n",
       "      <td>12583</td>\n",
       "      <td>France</td>\n",
       "      <td>3</td>\n",
       "      <td>26.500000</td>\n",
       "      <td>15</td>\n",
       "      <td>371</td>\n",
       "      <td>0.040431</td>\n",
       "      <td>6629.34</td>\n",
       "      <td>441.956000</td>\n",
       "      <td>4978</td>\n",
       "      <td>292.823529</td>\n",
       "      <td>15.466667</td>\n",
       "      <td>-76.04</td>\n",
       "      <td>-25.346667</td>\n",
       "      <td>3.0</td>\n",
       "      <td>-50.0</td>\n",
       "      <td>-3.534883</td>\n",
       "      <td>16.845985</td>\n",
       "      <td>1</td>\n",
       "      <td>Potential Loyalists</td>\n",
       "      <td>2022-03-18 16:57:17</td>\n",
       "    </tr>\n",
       "    <tr>\n",
       "      <th>3</th>\n",
       "      <td>13748</td>\n",
       "      <td>United Kingdom</td>\n",
       "      <td>96</td>\n",
       "      <td>92.666667</td>\n",
       "      <td>5</td>\n",
       "      <td>278</td>\n",
       "      <td>0.017986</td>\n",
       "      <td>948.25</td>\n",
       "      <td>189.650000</td>\n",
       "      <td>439</td>\n",
       "      <td>87.800000</td>\n",
       "      <td>5.600000</td>\n",
       "      <td>0.00</td>\n",
       "      <td>0.000000</td>\n",
       "      <td>0.0</td>\n",
       "      <td>0.0</td>\n",
       "      <td>-6.975824</td>\n",
       "      <td>-4.942078</td>\n",
       "      <td>2</td>\n",
       "      <td>Promissing 1</td>\n",
       "      <td>2022-03-18 16:57:17</td>\n",
       "    </tr>\n",
       "    <tr>\n",
       "      <th>4</th>\n",
       "      <td>15100</td>\n",
       "      <td>United Kingdom</td>\n",
       "      <td>334</td>\n",
       "      <td>20.000000</td>\n",
       "      <td>3</td>\n",
       "      <td>40</td>\n",
       "      <td>0.075000</td>\n",
       "      <td>635.10</td>\n",
       "      <td>211.700000</td>\n",
       "      <td>58</td>\n",
       "      <td>9.666667</td>\n",
       "      <td>1.000000</td>\n",
       "      <td>-240.90</td>\n",
       "      <td>-80.300000</td>\n",
       "      <td>3.0</td>\n",
       "      <td>-22.0</td>\n",
       "      <td>19.139286</td>\n",
       "      <td>-2.679391</td>\n",
       "      <td>3</td>\n",
       "      <td>Price Sensitive</td>\n",
       "      <td>2022-03-18 16:57:17</td>\n",
       "    </tr>\n",
       "  </tbody>\n",
       "</table>\n",
       "</div>"
      ],
      "text/plain": [
       "   customer_id         country  recency  avg_days_bw_purchases  num_purchases  tenure  frequency  revenue  avg_ticket  qty_items  avg_basket_size  avg_unique_prods  returns_revenue  avg_return_revenue  num_returns  qty_returned  embedding_x  embedding_y cluster         cluster_name          last_update\n",
       "0        17850  United Kingdom      373               1.000000             34       1  34.000000  5288.63  155.547941       1693        48.371429          8.735294          -102.58           -6.838667         15.0         -40.0    -3.543982     9.718514       0      Loyal Customers  2022-03-18 16:57:17\n",
       "1        13047  United Kingdom       57              52.833333              9     317   0.028391  3089.10  343.233333       1355        84.687500         19.000000          -143.49           -6.238696         23.0         -35.0    -4.025312     8.022521       0      Loyal Customers  2022-03-18 16:57:17\n",
       "2        12583          France        3              26.500000             15     371   0.040431  6629.34  441.956000       4978       292.823529         15.466667           -76.04          -25.346667          3.0         -50.0    -3.534883    16.845985       1  Potential Loyalists  2022-03-18 16:57:17\n",
       "3        13748  United Kingdom       96              92.666667              5     278   0.017986   948.25  189.650000        439        87.800000          5.600000             0.00            0.000000          0.0           0.0    -6.975824    -4.942078       2         Promissing 1  2022-03-18 16:57:17\n",
       "4        15100  United Kingdom      334              20.000000              3      40   0.075000   635.10  211.700000         58         9.666667          1.000000          -240.90          -80.300000          3.0         -22.0    19.139286    -2.679391       3      Price Sensitive  2022-03-18 16:57:17"
      ]
     },
     "execution_count": 77,
     "metadata": {},
     "output_type": "execute_result"
    }
   ],
   "source": [
    "df_result.head()"
   ]
  },
  {
   "cell_type": "code",
   "execution_count": 171,
   "metadata": {},
   "outputs": [],
   "source": [
    "# # reading credentials\n",
    "\n",
    "# secrets_json = open('../secrets.json')\n",
    "# secrets = json.load(secrets_json)\n",
    "\n",
    "# dialect =   secrets[\"dialect\"]\n",
    "# driver =    secrets[\"driver\"]\n",
    "# host =      secrets[\"host\"]\n",
    "# username =  secrets[\"username\"]\n",
    "# password =  secrets[\"password\"]\n",
    "# port =      secrets[\"port\"]\n",
    "# database =  secrets[\"database\"]\n",
    "\n",
    "# url = \"{}+{}://{}:{}@{}:{}/{}\".format(dialect, driver, username, password, host, port, database)\n",
    "\n",
    "# engine = create_engine(url = url, echo = True) #, pool_pre_ping = True"
   ]
  },
  {
   "cell_type": "code",
   "execution_count": 163,
   "metadata": {},
   "outputs": [
    {
     "name": "stdout",
     "output_type": "stream",
     "text": [
      "2022-03-18 12:41:55,194 INFO sqlalchemy.engine.Engine \n",
      "    SELECT * FROM insiders i\n",
      "\n",
      "2022-03-18 12:41:55,198 INFO sqlalchemy.engine.Engine [raw sql] {}\n"
     ]
    }
   ],
   "source": [
    "# read_query = \"\"\"\n",
    "#     SELECT * FROM insiders i\n",
    "# \"\"\"\n",
    "# # engine.execute\n",
    "# df_sql = pd.read_sql_query(read_query, con = engine)"
   ]
  },
  {
   "cell_type": "code",
   "execution_count": 66,
   "metadata": {},
   "outputs": [],
   "source": [
    "# if we had to create table manually we could use this\n",
    "# create_table = \"\"\"\n",
    "#     CREATE TABLE insiders (\n",
    "#     customer_id               INTEGER,\n",
    "#     country                   TEXT,\n",
    "#     recency                   INTEGER,\n",
    "#     avg_days_bw_purchases     REAL,\n",
    "#     num_purchases             INTEGER,\n",
    "#     tenure                    INTEGER,\n",
    "#     frequency                 REAL,\n",
    "#     revenue                   REAL,\n",
    "#     avg_ticket                REAL,\n",
    "#     qty_items                 INTEGER,\n",
    "#     avg_basket_size           REAL,\n",
    "#     avg_unique_prods          REAL,\n",
    "#     returns_revenue           REAL,\n",
    "#     avg_return_revenue        REAL,\n",
    "#     num_returns               REAL,\n",
    "#     qty_returned              REAL,\n",
    "#     embedding_x               REAL,\n",
    "#     embedding_y               REAL,\n",
    "#     cluster                   TEXT,\n",
    "#     cluster_name              TEXT\n",
    "#     )\n",
    "# \"\"\""
   ]
  },
  {
   "cell_type": "code",
   "execution_count": 114,
   "metadata": {},
   "outputs": [
    {
     "name": "stdout",
     "output_type": "stream",
     "text": [
      "2022-03-18 12:24:02,542 INFO sqlalchemy.engine.Engine SELECT COUNT(*) FROM information_schema.tables WHERE table_schema = %(table_schema)s AND table_name = %(table_name)s\n",
      "2022-03-18 12:24:02,543 INFO sqlalchemy.engine.Engine [cached since 655.7s ago] {'table_schema': 'pa005', 'table_name': 'insiders'}\n",
      "2022-03-18 12:24:02,675 INFO sqlalchemy.engine.Engine SELECT COUNT(*) FROM information_schema.tables WHERE table_schema = %(table_schema)s AND table_name = %(table_name)s\n",
      "2022-03-18 12:24:02,677 INFO sqlalchemy.engine.Engine [cached since 655.8s ago] {'table_schema': 'pa005', 'table_name': 'insiders'}\n",
      "2022-03-18 12:24:02,780 INFO sqlalchemy.engine.Engine SHOW FULL TABLES FROM `pa005`\n",
      "2022-03-18 12:24:02,782 INFO sqlalchemy.engine.Engine [raw sql] {}\n",
      "2022-03-18 12:24:02,821 INFO sqlalchemy.engine.Engine SHOW CREATE TABLE `insiders`\n",
      "2022-03-18 12:24:02,822 INFO sqlalchemy.engine.Engine [raw sql] {}\n",
      "2022-03-18 12:24:02,898 INFO sqlalchemy.engine.Engine BEGIN (implicit)\n",
      "2022-03-18 12:24:02,899 INFO sqlalchemy.engine.Engine \n",
      "DROP TABLE insiders\n",
      "2022-03-18 12:24:02,900 INFO sqlalchemy.engine.Engine [no key 0.00111s] {}\n",
      "2022-03-18 12:24:02,950 INFO sqlalchemy.engine.Engine COMMIT\n",
      "2022-03-18 12:24:03,018 INFO sqlalchemy.engine.Engine BEGIN (implicit)\n",
      "2022-03-18 12:24:03,021 INFO sqlalchemy.engine.Engine \n",
      "CREATE TABLE insiders (\n",
      "\tcustomer_id BIGINT, \n",
      "\tcountry TEXT, \n",
      "\trecency BIGINT, \n",
      "\tavg_days_bw_purchases FLOAT(53), \n",
      "\tnum_purchases BIGINT, \n",
      "\ttenure BIGINT, \n",
      "\tfrequency FLOAT(53), \n",
      "\trevenue FLOAT(53), \n",
      "\tavg_ticket FLOAT(53), \n",
      "\tqty_items BIGINT, \n",
      "\tavg_basket_size FLOAT(53), \n",
      "\tavg_unique_prods FLOAT(53), \n",
      "\treturns_revenue FLOAT(53), \n",
      "\tavg_return_revenue FLOAT(53), \n",
      "\tnum_returns FLOAT(53), \n",
      "\tqty_returned FLOAT(53), \n",
      "\tembedding_x FLOAT(23), \n",
      "\tembedding_y FLOAT(23), \n",
      "\tcluster TEXT, \n",
      "\tcluster_name TEXT, \n",
      "\tlast_update TEXT\n",
      ")\n",
      "\n",
      "\n",
      "2022-03-18 12:24:03,023 INFO sqlalchemy.engine.Engine [no key 0.00232s] {}\n",
      "2022-03-18 12:24:03,082 INFO sqlalchemy.engine.Engine COMMIT\n",
      "2022-03-18 12:24:03,164 INFO sqlalchemy.engine.Engine BEGIN (implicit)\n",
      "2022-03-18 12:24:03,265 INFO sqlalchemy.engine.Engine INSERT INTO insiders (customer_id, country, recency, avg_days_bw_purchases, num_purchases, tenure, frequency, revenue, avg_ticket, qty_items, avg_basket_size, avg_unique_prods, returns_revenue, avg_return_revenue, num_returns, qty_returned, embedding_x, embedding_y, cluster, cluster_name, last_update) VALUES (%(customer_id)s, %(country)s, %(recency)s, %(avg_days_bw_purchases)s, %(num_purchases)s, %(tenure)s, %(frequency)s, %(revenue)s, %(avg_ticket)s, %(qty_items)s, %(avg_basket_size)s, %(avg_unique_prods)s, %(returns_revenue)s, %(avg_return_revenue)s, %(num_returns)s, %(qty_returned)s, %(embedding_x)s, %(embedding_y)s, %(cluster)s, %(cluster_name)s, %(last_update)s)\n",
      "2022-03-18 12:24:03,267 INFO sqlalchemy.engine.Engine [generated in 0.08261s] ({'customer_id': 17850, 'country': 'United Kingdom', 'recency': 373, 'avg_days_bw_purchases': 1.0, 'num_purchases': 34, 'tenure': 1, 'frequency': 34.0, 'revenue': 5288.63, 'avg_ticket': 155.5479411764706, 'qty_items': 1693, 'avg_basket_size': 48.371428571428574, 'avg_unique_prods': 8.735294117647058, 'returns_revenue': -102.58, 'avg_return_revenue': -6.838666666666667, 'num_returns': 15.0, 'qty_returned': -40.0, 'embedding_x': -3.5439817905426025, 'embedding_y': 9.718514442443848, 'cluster': '0', 'cluster_name': 'Loyal Customers', 'last_update': '2022-03-18 12:23:42'}, {'customer_id': 13047, 'country': 'United Kingdom', 'recency': 57, 'avg_days_bw_purchases': 52.833333333333336, 'num_purchases': 9, 'tenure': 317, 'frequency': 0.028391167192429023, 'revenue': 3089.1, 'avg_ticket': 343.23333333333335, 'qty_items': 1355, 'avg_basket_size': 84.6875, 'avg_unique_prods': 19.0, 'returns_revenue': -143.49, 'avg_return_revenue': -6.238695652173914, 'num_returns': 23.0, 'qty_returned': -35.0, 'embedding_x': -4.025312423706055, 'embedding_y': 8.022521018981934, 'cluster': '0', 'cluster_name': 'Loyal Customers', 'last_update': '2022-03-18 12:23:42'}, {'customer_id': 12583, 'country': 'France', 'recency': 3, 'avg_days_bw_purchases': 26.5, 'num_purchases': 15, 'tenure': 371, 'frequency': 0.04043126684636118, 'revenue': 6629.34, 'avg_ticket': 441.956, 'qty_items': 4978, 'avg_basket_size': 292.8235294117647, 'avg_unique_prods': 15.466666666666667, 'returns_revenue': -76.03999999999999, 'avg_return_revenue': -25.346666666666664, 'num_returns': 3.0, 'qty_returned': -50.0, 'embedding_x': -3.5348830223083496, 'embedding_y': 16.845985412597656, 'cluster': '1', 'cluster_name': 'Potential Loyalists', 'last_update': '2022-03-18 12:23:42'}, {'customer_id': 13748, 'country': 'United Kingdom', 'recency': 96, 'avg_days_bw_purchases': 92.66666666666667, 'num_purchases': 5, 'tenure': 278, 'frequency': 0.017985611510791366, 'revenue': 948.25, 'avg_ticket': 189.65, 'qty_items': 439, 'avg_basket_size': 87.8, 'avg_unique_prods': 5.6, 'returns_revenue': 0.0, 'avg_return_revenue': 0.0, 'num_returns': 0.0, 'qty_returned': 0.0, 'embedding_x': -6.975823879241943, 'embedding_y': -4.94207763671875, 'cluster': '2', 'cluster_name': 'Promissing 1', 'last_update': '2022-03-18 12:23:42'}, {'customer_id': 15100, 'country': 'United Kingdom', 'recency': 334, 'avg_days_bw_purchases': 20.0, 'num_purchases': 3, 'tenure': 40, 'frequency': 0.075, 'revenue': 635.1, 'avg_ticket': 211.70000000000002, 'qty_items': 58, 'avg_basket_size': 9.666666666666666, 'avg_unique_prods': 1.0, 'returns_revenue': -240.89999999999998, 'avg_return_revenue': -80.3, 'num_returns': 3.0, 'qty_returned': -22.0, 'embedding_x': 19.139286041259766, 'embedding_y': -2.679391384124756, 'cluster': '3', 'cluster_name': 'Price Sensitive', 'last_update': '2022-03-18 12:23:42'}, {'customer_id': 15291, 'country': 'United Kingdom', 'recency': 26, 'avg_days_bw_purchases': 26.76923076923077, 'num_purchases': 14, 'tenure': 348, 'frequency': 0.040229885057471264, 'revenue': 4551.51, 'avg_ticket': 325.10785714285714, 'qty_items': 2073, 'avg_basket_size': 109.10526315789474, 'avg_unique_prods': 7.285714285714286, 'returns_revenue': -71.79, 'avg_return_revenue': -11.965000000000002, 'num_returns': 6.0, 'qty_returned': -29.0, 'embedding_x': -3.3285398483276367, 'embedding_y': 14.527616500854492, 'cluster': '1', 'cluster_name': 'Potential Loyalists', 'last_update': '2022-03-18 12:23:42'}, {'customer_id': 14688, 'country': 'United Kingdom', 'recency': 8, 'avg_days_bw_purchases': 19.263157894736842, 'num_purchases': 21, 'tenure': 366, 'frequency': 0.05737704918032787, 'revenue': 5107.38, 'avg_ticket': 243.20857142857145, 'qty_items': 3222, 'avg_basket_size': 119.33333333333333, 'avg_unique_prods': 15.285714285714286, 'returns_revenue': -523.49, 'avg_return_revenue': -16.3590625, 'num_returns': 32.0, 'qty_returned': -399.0, 'embedding_x': -3.6040234565734863, 'embedding_y': 16.173051834106445, 'cluster': '1', 'cluster_name': 'Potential Loyalists', 'last_update': '2022-03-18 12:23:42'}, {'customer_id': 17809, 'country': 'United Kingdom', 'recency': 17, 'avg_days_bw_purchases': 39.666666666666664, 'num_purchases': 12, 'tenure': 357, 'frequency': 0.03361344537815126, 'revenue': 5344.85, 'avg_ticket': 445.4041666666667, 'qty_items': 2016, 'avg_basket_size': 144.0, 'avg_unique_prods': 5.083333333333333, 'returns_revenue': -67.06, 'avg_return_revenue': -33.53, 'num_returns': 2.0, 'qty_returned': -41.0, 'embedding_x': -3.3454174995422363, 'embedding_y': 14.345102310180664, 'cluster': '1', 'cluster_name': 'Potential Loyalists', 'last_update': '2022-03-18 12:23:42'}  ... displaying 10 of 4314 total bound parameter sets ...  {'customer_id': 14569, 'country': 'United Kingdom', 'recency': 2, 'avg_days_bw_purchases': 0.0, 'num_purchases': 1, 'tenure': 2, 'frequency': 0.5, 'revenue': 227.39, 'avg_ticket': 227.39, 'qty_items': 79, 'avg_basket_size': 79.0, 'avg_unique_prods': 10.0, 'returns_revenue': 0.0, 'avg_return_revenue': 0.0, 'num_returns': 0.0, 'qty_returned': 0.0, 'embedding_x': 12.205333709716797, 'embedding_y': 6.599212169647217, 'cluster': '9', 'cluster_name': 'Churn 2', 'last_update': '2022-03-18 12:23:42'}, {'customer_id': 12713, 'country': 'Germany', 'recency': 1, 'avg_days_bw_purchases': 0.0, 'num_purchases': 1, 'tenure': 1, 'frequency': 1.0, 'revenue': 794.55, 'avg_ticket': 794.55, 'qty_items': 505, 'avg_basket_size': 505.0, 'avg_unique_prods': 37.0, 'returns_revenue': 0.0, 'avg_return_revenue': 0.0, 'num_returns': 0.0, 'qty_returned': 0.0, 'embedding_x': 0.593544065952301, 'embedding_y': -8.022127151489258, 'cluster': '8', 'cluster_name': 'Need Attention 1', 'last_update': '2022-03-18 12:23:42'})\n",
      "2022-03-18 12:24:04,290 INFO sqlalchemy.engine.Engine COMMIT\n"
     ]
    },
    {
     "data": {
      "text/plain": [
       "4314"
      ]
     },
     "execution_count": 114,
     "metadata": {},
     "output_type": "execute_result"
    }
   ],
   "source": [
    "# inserting data\n",
    "# df_result.to_sql('insiders', con = engine, if_exists='replace', index = False )"
   ]
  },
  {
   "cell_type": "code",
   "execution_count": 172,
   "metadata": {},
   "outputs": [],
   "source": [
    "# drop_table_query = \"\"\"\n",
    "#     DROP TABLE insiders\n",
    "# \"\"\"\n",
    "# engine.execute(drop_table_query)\n"
   ]
  }
 ],
 "metadata": {
  "interpreter": {
   "hash": "4be9c22c924916f4f0290c88182d986b0302ce23f90563ec15842ba76b709463"
  },
  "kernelspec": {
   "display_name": "Python 3.8.0 64-bit ('insiders')",
   "language": "python",
   "name": "python3"
  },
  "language_info": {
   "codemirror_mode": {
    "name": "ipython",
    "version": 3
   },
   "file_extension": ".py",
   "mimetype": "text/x-python",
   "name": "python",
   "nbconvert_exporter": "python",
   "pygments_lexer": "ipython3",
   "version": "3.8.0"
  },
  "orig_nbformat": 4
 },
 "nbformat": 4,
 "nbformat_minor": 2
}
