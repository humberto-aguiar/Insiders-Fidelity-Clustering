{
 "cells": [
  {
   "cell_type": "markdown",
   "metadata": {},
   "source": [
    "# 0.0 Imports"
   ]
  },
  {
   "cell_type": "markdown",
   "metadata": {},
   "source": [
    "## 0.1 Imports"
   ]
  },
  {
   "cell_type": "code",
   "execution_count": 2,
   "metadata": {},
   "outputs": [],
   "source": [
    "import pandas as pd\n",
    "import numpy as np\n",
    "import matplotlib.pyplot as plt\n",
    "import seaborn as sns\n",
    "import inflection"
   ]
  },
  {
   "cell_type": "markdown",
   "metadata": {},
   "source": [
    "## 0.2 Helper Functions\n",
    "\n"
   ]
  },
  {
   "cell_type": "code",
   "execution_count": 3,
   "metadata": {},
   "outputs": [
    {
     "name": "stdout",
     "output_type": "stream",
     "text": [
      "Populating the interactive namespace from numpy and matplotlib\n"
     ]
    }
   ],
   "source": [
    "# Defining some plot settings\n",
    "def jupyter_settings():\n",
    "    %matplotlib inline\n",
    "    %pylab inline\n",
    "    plt.style.use( 'bmh' )\n",
    "    plt.rcParams['figure.figsize'] = [25, 12]\n",
    "    plt.rcParams['font.size'] = 24\n",
    "    #display( HTML( '<style>.container { width:100% !important; }</style>') )\n",
    "    pd.options.display.max_columns = None\n",
    "    pd.options.display.max_rows = None\n",
    "    pd.set_option( 'display.expand_frame_repr', False )\n",
    "    sns.set()\n",
    "\n",
    "jupyter_settings()"
   ]
  },
  {
   "cell_type": "markdown",
   "metadata": {
    "heading_collapsed": true
   },
   "source": [
    "## 0.3 Data Loading\n",
    "\n"
   ]
  },
  {
   "cell_type": "code",
   "execution_count": 3,
   "metadata": {},
   "outputs": [],
   "source": [
    "df0 = pd.read_csv('../data/raw/ecommerce.csv', encoding='ISO-8859-1', sep = ',')\n",
    "# source https://www.kaggle.com/vik2012kvs/high-value-customers-identification\n",
    "# other https://github.com/provezano/UK-High-Value-Customers-Identification/tree/main/data"
   ]
  },
  {
   "cell_type": "markdown",
   "metadata": {
    "heading_collapsed": true
   },
   "source": [
    "## 0.4 Columns Description\n",
    "\n"
   ]
  },
  {
   "cell_type": "markdown",
   "metadata": {},
   "source": [
    "### Attribute Description\n",
    "- InvoiceNo Invoice number (A 6-digit integral number uniquely assigned to each transaction)\n",
    "- StockCode Product (item) code\n",
    "- Description Product (item) name\n",
    "- Quantity The quantities of each product (item) per transaction\n",
    "- InvoiceDate The day when each transaction was generated\n",
    "- UnitPrice Unit price (Product price per unit)\n",
    "- CustomerID Customer number (Unique ID assigned to each customer)\n",
    "- Country Country name (The name of the country where each customer resides)"
   ]
  },
  {
   "cell_type": "markdown",
   "metadata": {
    "heading_collapsed": true
   },
   "source": [
    "## 0.5 Solution Method"
   ]
  },
  {
   "cell_type": "markdown",
   "metadata": {},
   "source": [
    "### IOT Input Output Visualizing\n",
    "\n",
    "The aim is to build a data solution similar to this [draft](https://docs.google.com/spreadsheets/d/1zmBQAxvlx-nWgziQZmoL7lx-F1maMAMp5qlVD2c6AyA/edit?usp=sharing)\n",
    "\n",
    "Situation: The organization will roll out a fidelity program (Insiders Program) to these customers. Customers should be segmented in a way that it is possible to find the most valuable customers. \n",
    "\n",
    "Inputs:\n",
    "- Data from customer transactions (11-2016 ~ 12-2017)\n",
    "\n",
    "Outputs:\n",
    " - Which customers are eligible to participate in the Insiders program?\n",
    " - How many customers will be part of the group?\n",
    " - What are the main characteristics of these customers?\n",
    " - What percentage of revenue contribution comes from Insiders?\n",
    " - What is the revenue expectation of this group for the coming months?\n",
    " - What are the conditions for a person to be eligible for Insiders?\n",
    " - What are the conditions for a person to be removed from Insiders?\n",
    " - Are there any guarantees that the Insiders Program customers' have indeed higher value than the rest of the customer base?\n",
    " - What actions can the marketing team take to increase revenue?\n",
    "\n",
    "### Tasks:\n",
    "- Which customers are eligible to participate in the Insiders program?\n",
    "    - High Value\n",
    "    - High Average Transaction Value\n",
    "    - High Frequency (customer is frequently buying)\n",
    "    - Low Recency (customer has bough recently)\n",
    "    - High LTV\n",
    "    - High Basket Size\n",
    "\n",
    "- How many customers will be part of the group?\n",
    "- What are the main characteristics of these customers?\n",
    "- What percentage of revenue contribution comes from Insiders?\n",
    "- What is the revenue expectation of this group for the coming months?\n",
    "- What are the conditions for a person to be eligible for Insiders?\n",
    "- What are the conditions for a person to be removed from Insiders?\n",
    "- Are there any guarantees that the Insiders Program customers' have indeed higher value than the rest of the customer base?\n",
    "- What actions can the marketing team take to increase revenue?\n",
    "\n",
    "### Business Understanding and Metrics\n",
    "- RFM Recency Frequency Monetary Analysis\n",
    "    - Formula: ((Total distinct customers at end of period) - (Total new distinct customers acquired during period)) / (Total distinct customers at start of period)\n",
    "- Average Customer Spend = Customers Annual Average Spend Per Purchase * Annual Purchase Frequency\n",
    "- Average Transaction Value = Annual Revenue/ Invoces Raised\n"
   ]
  },
  {
   "cell_type": "markdown",
   "metadata": {},
   "source": [
    "# 1.0 Data Description\n"
   ]
  },
  {
   "cell_type": "code",
   "execution_count": 32,
   "metadata": {},
   "outputs": [],
   "source": [
    "df1 = pd.read_csv('../data/raw/ecommerce.csv', encoding='ISO-8859-1', sep = ',')"
   ]
  },
  {
   "cell_type": "markdown",
   "metadata": {
    "hidden": true
   },
   "source": [
    "## 1.1 Rename Columns"
   ]
  },
  {
   "cell_type": "code",
   "execution_count": 33,
   "metadata": {},
   "outputs": [
    {
     "data": {
      "text/plain": [
       "['invoice_no',\n",
       " 'stock_code',\n",
       " 'description',\n",
       " 'quantity',\n",
       " 'invoice_date',\n",
       " 'unit_price',\n",
       " 'customer_id',\n",
       " 'country',\n",
       " 'unnamed: 8']"
      ]
     },
     "execution_count": 33,
     "metadata": {},
     "output_type": "execute_result"
    }
   ],
   "source": [
    "cols_old = df1.columns.tolist()\n",
    "\n",
    "cols_new = [inflection.underscore(col) for col in cols_old]\n",
    "cols_new"
   ]
  },
  {
   "cell_type": "code",
   "execution_count": 34,
   "metadata": {},
   "outputs": [],
   "source": [
    "df1.rename(columns = dict(zip(cols_old, cols_new)), inplace = True )"
   ]
  },
  {
   "cell_type": "markdown",
   "metadata": {},
   "source": [
    "## 1.2 Data Dimensions"
   ]
  },
  {
   "cell_type": "code",
   "execution_count": 35,
   "metadata": {},
   "outputs": [
    {
     "name": "stdout",
     "output_type": "stream",
     "text": [
      "Number of rows: 541909\n",
      "Number of cols: 9\n"
     ]
    }
   ],
   "source": [
    "print( 'Number of rows: {}'.format( df1.shape[0] ) )\n",
    "print( 'Number of cols: {}'.format( df1.shape[1] ) )"
   ]
  },
  {
   "cell_type": "markdown",
   "metadata": {},
   "source": [
    "## 1.3 Data Types"
   ]
  },
  {
   "cell_type": "code",
   "execution_count": 19,
   "metadata": {},
   "outputs": [
    {
     "data": {
      "text/plain": [
       "invoice_no       object\n",
       "stock_code       object\n",
       "description      object\n",
       "quantity          int64\n",
       "invoice_date     object\n",
       "unit_price      float64\n",
       "customer_id     float64\n",
       "country          object\n",
       "unnamed: 8      float64\n",
       "dtype: object"
      ]
     },
     "execution_count": 19,
     "metadata": {},
     "output_type": "execute_result"
    }
   ],
   "source": [
    "df1.dtypes"
   ]
  },
  {
   "cell_type": "markdown",
   "metadata": {},
   "source": [
    "## 1.4 NA Check"
   ]
  },
  {
   "cell_type": "code",
   "execution_count": 36,
   "metadata": {},
   "outputs": [
    {
     "data": {
      "text/plain": [
       "invoice_no        0.000000\n",
       "stock_code        0.000000\n",
       "description       0.268311\n",
       "quantity          0.000000\n",
       "invoice_date      0.000000\n",
       "unit_price        0.000000\n",
       "customer_id      24.926694\n",
       "country           0.000000\n",
       "unnamed: 8      100.000000\n",
       "dtype: float64"
      ]
     },
     "execution_count": 36,
     "metadata": {},
     "output_type": "execute_result"
    }
   ],
   "source": [
    "df1.isna().sum()/df1.shape[0]*100"
   ]
  },
  {
   "cell_type": "code",
   "execution_count": 37,
   "metadata": {},
   "outputs": [
    {
     "data": {
      "text/plain": [
       "Index(['invoice_no', 'stock_code', 'description', 'quantity', 'invoice_date',\n",
       "       'unit_price', 'customer_id', 'country'],\n",
       "      dtype='object')"
      ]
     },
     "execution_count": 37,
     "metadata": {},
     "output_type": "execute_result"
    }
   ],
   "source": [
    "df1.drop(columns=['unnamed: 8'], inplace = True)\n",
    "df1.columns"
   ]
  },
  {
   "cell_type": "markdown",
   "metadata": {},
   "source": [
    "## 1.5 NA Fillout"
   ]
  },
  {
   "cell_type": "code",
   "execution_count": 39,
   "metadata": {},
   "outputs": [],
   "source": [
    "df1.dropna( subset = 'customer_id', how = 'any', axis = 0, inplace = True)"
   ]
  },
  {
   "cell_type": "code",
   "execution_count": 40,
   "metadata": {},
   "outputs": [
    {
     "data": {
      "text/plain": [
       "invoice_no      0\n",
       "stock_code      0\n",
       "description     0\n",
       "quantity        0\n",
       "invoice_date    0\n",
       "unit_price      0\n",
       "customer_id     0\n",
       "country         0\n",
       "dtype: int64"
      ]
     },
     "execution_count": 40,
     "metadata": {},
     "output_type": "execute_result"
    }
   ],
   "source": [
    "df1.isna().sum()"
   ]
  },
  {
   "cell_type": "markdown",
   "metadata": {},
   "source": [
    "## 1.6 Changing Data Types\n"
   ]
  },
  {
   "cell_type": "code",
   "execution_count": 42,
   "metadata": {},
   "outputs": [
    {
     "data": {
      "text/html": [
       "<div>\n",
       "<style scoped>\n",
       "    .dataframe tbody tr th:only-of-type {\n",
       "        vertical-align: middle;\n",
       "    }\n",
       "\n",
       "    .dataframe tbody tr th {\n",
       "        vertical-align: top;\n",
       "    }\n",
       "\n",
       "    .dataframe thead th {\n",
       "        text-align: right;\n",
       "    }\n",
       "</style>\n",
       "<table border=\"1\" class=\"dataframe\">\n",
       "  <thead>\n",
       "    <tr style=\"text-align: right;\">\n",
       "      <th></th>\n",
       "      <th>invoice_no</th>\n",
       "      <th>stock_code</th>\n",
       "      <th>description</th>\n",
       "      <th>quantity</th>\n",
       "      <th>invoice_date</th>\n",
       "      <th>unit_price</th>\n",
       "      <th>customer_id</th>\n",
       "      <th>country</th>\n",
       "    </tr>\n",
       "  </thead>\n",
       "  <tbody>\n",
       "    <tr>\n",
       "      <th>0</th>\n",
       "      <td>536365</td>\n",
       "      <td>85123A</td>\n",
       "      <td>WHITE HANGING HEART T-LIGHT HOLDER</td>\n",
       "      <td>6</td>\n",
       "      <td>29-Nov-16</td>\n",
       "      <td>2.55</td>\n",
       "      <td>17850.0</td>\n",
       "      <td>United Kingdom</td>\n",
       "    </tr>\n",
       "    <tr>\n",
       "      <th>1</th>\n",
       "      <td>536365</td>\n",
       "      <td>71053</td>\n",
       "      <td>WHITE METAL LANTERN</td>\n",
       "      <td>6</td>\n",
       "      <td>29-Nov-16</td>\n",
       "      <td>3.39</td>\n",
       "      <td>17850.0</td>\n",
       "      <td>United Kingdom</td>\n",
       "    </tr>\n",
       "    <tr>\n",
       "      <th>2</th>\n",
       "      <td>536365</td>\n",
       "      <td>84406B</td>\n",
       "      <td>CREAM CUPID HEARTS COAT HANGER</td>\n",
       "      <td>8</td>\n",
       "      <td>29-Nov-16</td>\n",
       "      <td>2.75</td>\n",
       "      <td>17850.0</td>\n",
       "      <td>United Kingdom</td>\n",
       "    </tr>\n",
       "    <tr>\n",
       "      <th>3</th>\n",
       "      <td>536365</td>\n",
       "      <td>84029G</td>\n",
       "      <td>KNITTED UNION FLAG HOT WATER BOTTLE</td>\n",
       "      <td>6</td>\n",
       "      <td>29-Nov-16</td>\n",
       "      <td>3.39</td>\n",
       "      <td>17850.0</td>\n",
       "      <td>United Kingdom</td>\n",
       "    </tr>\n",
       "    <tr>\n",
       "      <th>4</th>\n",
       "      <td>536365</td>\n",
       "      <td>84029E</td>\n",
       "      <td>RED WOOLLY HOTTIE WHITE HEART.</td>\n",
       "      <td>6</td>\n",
       "      <td>29-Nov-16</td>\n",
       "      <td>3.39</td>\n",
       "      <td>17850.0</td>\n",
       "      <td>United Kingdom</td>\n",
       "    </tr>\n",
       "  </tbody>\n",
       "</table>\n",
       "</div>"
      ],
      "text/plain": [
       "  invoice_no stock_code                          description  quantity  \\\n",
       "0     536365     85123A   WHITE HANGING HEART T-LIGHT HOLDER         6   \n",
       "1     536365      71053                  WHITE METAL LANTERN         6   \n",
       "2     536365     84406B       CREAM CUPID HEARTS COAT HANGER         8   \n",
       "3     536365     84029G  KNITTED UNION FLAG HOT WATER BOTTLE         6   \n",
       "4     536365     84029E       RED WOOLLY HOTTIE WHITE HEART.         6   \n",
       "\n",
       "  invoice_date  unit_price  customer_id         country  \n",
       "0    29-Nov-16        2.55      17850.0  United Kingdom  \n",
       "1    29-Nov-16        3.39      17850.0  United Kingdom  \n",
       "2    29-Nov-16        2.75      17850.0  United Kingdom  \n",
       "3    29-Nov-16        3.39      17850.0  United Kingdom  \n",
       "4    29-Nov-16        3.39      17850.0  United Kingdom  "
      ]
     },
     "execution_count": 42,
     "metadata": {},
     "output_type": "execute_result"
    }
   ],
   "source": [
    "df1.head()"
   ]
  },
  {
   "cell_type": "code",
   "execution_count": 51,
   "metadata": {},
   "outputs": [
    {
     "data": {
      "text/plain": [
       "invoice_no      22190\n",
       "stock_code       3684\n",
       "description      3896\n",
       "quantity          436\n",
       "invoice_date      305\n",
       "unit_price        620\n",
       "customer_id      4372\n",
       "country            37\n",
       "dtype: int64"
      ]
     },
     "execution_count": 51,
     "metadata": {},
     "output_type": "execute_result"
    }
   ],
   "source": [
    "df1.nunique()"
   ]
  },
  {
   "cell_type": "code",
   "execution_count": 55,
   "metadata": {},
   "outputs": [
    {
     "data": {
      "text/html": [
       "<div>\n",
       "<style scoped>\n",
       "    .dataframe tbody tr th:only-of-type {\n",
       "        vertical-align: middle;\n",
       "    }\n",
       "\n",
       "    .dataframe tbody tr th {\n",
       "        vertical-align: top;\n",
       "    }\n",
       "\n",
       "    .dataframe thead th {\n",
       "        text-align: right;\n",
       "    }\n",
       "</style>\n",
       "<table border=\"1\" class=\"dataframe\">\n",
       "  <thead>\n",
       "    <tr style=\"text-align: right;\">\n",
       "      <th></th>\n",
       "      <th>invoice_no</th>\n",
       "      <th>stock_code</th>\n",
       "      <th>description</th>\n",
       "      <th>quantity</th>\n",
       "      <th>invoice_date</th>\n",
       "      <th>unit_price</th>\n",
       "      <th>customer_id</th>\n",
       "      <th>country</th>\n",
       "    </tr>\n",
       "  </thead>\n",
       "  <tbody>\n",
       "    <tr>\n",
       "      <th>0</th>\n",
       "      <td>536365</td>\n",
       "      <td>85123A</td>\n",
       "      <td>WHITE HANGING HEART T-LIGHT HOLDER</td>\n",
       "      <td>6</td>\n",
       "      <td>2016-11-29</td>\n",
       "      <td>2.55</td>\n",
       "      <td>17850</td>\n",
       "      <td>United Kingdom</td>\n",
       "    </tr>\n",
       "    <tr>\n",
       "      <th>1</th>\n",
       "      <td>536365</td>\n",
       "      <td>71053</td>\n",
       "      <td>WHITE METAL LANTERN</td>\n",
       "      <td>6</td>\n",
       "      <td>2016-11-29</td>\n",
       "      <td>3.39</td>\n",
       "      <td>17850</td>\n",
       "      <td>United Kingdom</td>\n",
       "    </tr>\n",
       "    <tr>\n",
       "      <th>2</th>\n",
       "      <td>536365</td>\n",
       "      <td>84406B</td>\n",
       "      <td>CREAM CUPID HEARTS COAT HANGER</td>\n",
       "      <td>8</td>\n",
       "      <td>2016-11-29</td>\n",
       "      <td>2.75</td>\n",
       "      <td>17850</td>\n",
       "      <td>United Kingdom</td>\n",
       "    </tr>\n",
       "    <tr>\n",
       "      <th>3</th>\n",
       "      <td>536365</td>\n",
       "      <td>84029G</td>\n",
       "      <td>KNITTED UNION FLAG HOT WATER BOTTLE</td>\n",
       "      <td>6</td>\n",
       "      <td>2016-11-29</td>\n",
       "      <td>3.39</td>\n",
       "      <td>17850</td>\n",
       "      <td>United Kingdom</td>\n",
       "    </tr>\n",
       "    <tr>\n",
       "      <th>4</th>\n",
       "      <td>536365</td>\n",
       "      <td>84029E</td>\n",
       "      <td>RED WOOLLY HOTTIE WHITE HEART.</td>\n",
       "      <td>6</td>\n",
       "      <td>2016-11-29</td>\n",
       "      <td>3.39</td>\n",
       "      <td>17850</td>\n",
       "      <td>United Kingdom</td>\n",
       "    </tr>\n",
       "  </tbody>\n",
       "</table>\n",
       "</div>"
      ],
      "text/plain": [
       "  invoice_no stock_code                          description  quantity  \\\n",
       "0     536365     85123A   WHITE HANGING HEART T-LIGHT HOLDER         6   \n",
       "1     536365      71053                  WHITE METAL LANTERN         6   \n",
       "2     536365     84406B       CREAM CUPID HEARTS COAT HANGER         8   \n",
       "3     536365     84029G  KNITTED UNION FLAG HOT WATER BOTTLE         6   \n",
       "4     536365     84029E       RED WOOLLY HOTTIE WHITE HEART.         6   \n",
       "\n",
       "  invoice_date  unit_price  customer_id         country  \n",
       "0   2016-11-29        2.55        17850  United Kingdom  \n",
       "1   2016-11-29        3.39        17850  United Kingdom  \n",
       "2   2016-11-29        2.75        17850  United Kingdom  \n",
       "3   2016-11-29        3.39        17850  United Kingdom  \n",
       "4   2016-11-29        3.39        17850  United Kingdom  "
      ]
     },
     "execution_count": 55,
     "metadata": {},
     "output_type": "execute_result"
    }
   ],
   "source": [
    "df1['invoice_date'] = pd.to_datetime( df1['invoice_date'], format = '%d-%b-%y' )\n",
    "\n",
    "df1['customer_id'] = df1['customer_id'].astype(int)\n",
    "\n",
    "df1.head()"
   ]
  },
  {
   "cell_type": "code",
   "execution_count": 56,
   "metadata": {},
   "outputs": [
    {
     "data": {
      "text/plain": [
       "invoice_no              object\n",
       "stock_code              object\n",
       "description             object\n",
       "quantity                 int64\n",
       "invoice_date    datetime64[ns]\n",
       "unit_price             float64\n",
       "customer_id              int64\n",
       "country                 object\n",
       "dtype: object"
      ]
     },
     "execution_count": 56,
     "metadata": {},
     "output_type": "execute_result"
    }
   ],
   "source": [
    "df1.dtypes"
   ]
  },
  {
   "cell_type": "markdown",
   "metadata": {},
   "source": [
    "## 1.7 Descriptive Statistics"
   ]
  },
  {
   "cell_type": "markdown",
   "metadata": {},
   "source": [
    "### 1.7.1 Numerical Attributes"
   ]
  },
  {
   "cell_type": "code",
   "execution_count": 57,
   "metadata": {},
   "outputs": [
    {
     "data": {
      "text/html": [
       "<style type=\"text/css\">\n",
       "</style>\n",
       "<table id=\"T_b6af7\">\n",
       "  <thead>\n",
       "    <tr>\n",
       "      <th class=\"blank level0\" >&nbsp;</th>\n",
       "      <th id=\"T_b6af7_level0_col0\" class=\"col_heading level0 col0\" >min</th>\n",
       "      <th id=\"T_b6af7_level0_col1\" class=\"col_heading level0 col1\" >max</th>\n",
       "      <th id=\"T_b6af7_level0_col2\" class=\"col_heading level0 col2\" >range</th>\n",
       "      <th id=\"T_b6af7_level0_col3\" class=\"col_heading level0 col3\" >mean</th>\n",
       "      <th id=\"T_b6af7_level0_col4\" class=\"col_heading level0 col4\" >median</th>\n",
       "      <th id=\"T_b6af7_level0_col5\" class=\"col_heading level0 col5\" >std</th>\n",
       "      <th id=\"T_b6af7_level0_col6\" class=\"col_heading level0 col6\" >skew</th>\n",
       "      <th id=\"T_b6af7_level0_col7\" class=\"col_heading level0 col7\" >kurtosis</th>\n",
       "    </tr>\n",
       "  </thead>\n",
       "  <tbody>\n",
       "    <tr>\n",
       "      <th id=\"T_b6af7_level0_row0\" class=\"row_heading level0 row0\" >quantity</th>\n",
       "      <td id=\"T_b6af7_row0_col0\" class=\"data row0 col0\" >-80,995.00</td>\n",
       "      <td id=\"T_b6af7_row0_col1\" class=\"data row0 col1\" >80,995.00</td>\n",
       "      <td id=\"T_b6af7_row0_col2\" class=\"data row0 col2\" >161,990.00</td>\n",
       "      <td id=\"T_b6af7_row0_col3\" class=\"data row0 col3\" >12.06</td>\n",
       "      <td id=\"T_b6af7_row0_col4\" class=\"data row0 col4\" >5.00</td>\n",
       "      <td id=\"T_b6af7_row0_col5\" class=\"data row0 col5\" >248.69</td>\n",
       "      <td id=\"T_b6af7_row0_col6\" class=\"data row0 col6\" >0.18</td>\n",
       "      <td id=\"T_b6af7_row0_col7\" class=\"data row0 col7\" >94,317.56</td>\n",
       "    </tr>\n",
       "    <tr>\n",
       "      <th id=\"T_b6af7_level0_row1\" class=\"row_heading level0 row1\" >unit_price</th>\n",
       "      <td id=\"T_b6af7_row1_col0\" class=\"data row1 col0\" >0.00</td>\n",
       "      <td id=\"T_b6af7_row1_col1\" class=\"data row1 col1\" >38,970.00</td>\n",
       "      <td id=\"T_b6af7_row1_col2\" class=\"data row1 col2\" >38,970.00</td>\n",
       "      <td id=\"T_b6af7_row1_col3\" class=\"data row1 col3\" >3.46</td>\n",
       "      <td id=\"T_b6af7_row1_col4\" class=\"data row1 col4\" >1.95</td>\n",
       "      <td id=\"T_b6af7_row1_col5\" class=\"data row1 col5\" >69.32</td>\n",
       "      <td id=\"T_b6af7_row1_col6\" class=\"data row1 col6\" >452.22</td>\n",
       "      <td id=\"T_b6af7_row1_col7\" class=\"data row1 col7\" >246,924.54</td>\n",
       "    </tr>\n",
       "    <tr>\n",
       "      <th id=\"T_b6af7_level0_row2\" class=\"row_heading level0 row2\" >customer_id</th>\n",
       "      <td id=\"T_b6af7_row2_col0\" class=\"data row2 col0\" >12,346.00</td>\n",
       "      <td id=\"T_b6af7_row2_col1\" class=\"data row2 col1\" >18,287.00</td>\n",
       "      <td id=\"T_b6af7_row2_col2\" class=\"data row2 col2\" >5,941.00</td>\n",
       "      <td id=\"T_b6af7_row2_col3\" class=\"data row2 col3\" >15,287.69</td>\n",
       "      <td id=\"T_b6af7_row2_col4\" class=\"data row2 col4\" >15,152.00</td>\n",
       "      <td id=\"T_b6af7_row2_col5\" class=\"data row2 col5\" >1,713.60</td>\n",
       "      <td id=\"T_b6af7_row2_col6\" class=\"data row2 col6\" >0.03</td>\n",
       "      <td id=\"T_b6af7_row2_col7\" class=\"data row2 col7\" >-1.18</td>\n",
       "    </tr>\n",
       "  </tbody>\n",
       "</table>\n"
      ],
      "text/plain": [
       "<pandas.io.formats.style.Styler at 0x7f7e892c22b0>"
      ]
     },
     "execution_count": 57,
     "metadata": {},
     "output_type": "execute_result"
    }
   ],
   "source": [
    "num_att = df1.select_dtypes(include= ['int','float'])\n",
    "d1 = pd.DataFrame( num_att.min() ).T\n",
    "d2 = pd.DataFrame( num_att.max() ).T\n",
    "d3 = pd.DataFrame( num_att.max() - num_att.min() ).T\n",
    "d4 = pd.DataFrame( num_att.mean() ).T\n",
    "d5 = pd.DataFrame( num_att.median() ).T\n",
    "d6 = pd.DataFrame( num_att.std() ).T\n",
    "d7 = pd.DataFrame( num_att.skew() ).T\n",
    "d8 = pd.DataFrame( num_att.kurtosis() ).T\n",
    "\n",
    "desc = pd.concat( [d1, d2, d3, d4, d5, d6, d7, d8] ).T\n",
    "desc.columns = ['min', 'max', 'range', 'mean', 'median', 'std', 'skew', 'kurtosis' ]\n",
    "desc.style.format( \"{:,.2f}\" )"
   ]
  },
  {
   "cell_type": "markdown",
   "metadata": {},
   "source": [
    "### 1.7.2 Categorical Attributes"
   ]
  },
  {
   "cell_type": "markdown",
   "metadata": {
    "heading_collapsed": true
   },
   "source": [
    "# 2.0 Feature Engineering"
   ]
  },
  {
   "cell_type": "markdown",
   "metadata": {},
   "source": [
    "## 2.1 Response Variable Mind Map"
   ]
  },
  {
   "cell_type": "markdown",
   "metadata": {},
   "source": [
    "## 2.2 Hypothesis List"
   ]
  },
  {
   "cell_type": "markdown",
   "metadata": {},
   "source": [
    "## 2.3 Selected Hypothesis:"
   ]
  },
  {
   "cell_type": "markdown",
   "metadata": {},
   "source": [
    "**H1:** \n",
    "\n",
    "**H2:** \n",
    "\n",
    "**H3:** \n",
    "\n",
    "**H4:** \n",
    "\n",
    "**H5:** \n",
    "\n",
    "**H6:** \n",
    "\n",
    "**H7:** \n",
    "\n",
    "**H8:** \n",
    "\n",
    "**H9:** \n",
    "\n",
    "**H10:** \n",
    "\n",
    "**H11:** "
   ]
  },
  {
   "cell_type": "markdown",
   "metadata": {},
   "source": [
    "## 2.4 Feature Engineering"
   ]
  },
  {
   "cell_type": "code",
   "execution_count": 297,
   "metadata": {},
   "outputs": [],
   "source": [
    "df2 = df1.copy()"
   ]
  },
  {
   "cell_type": "code",
   "execution_count": 337,
   "metadata": {},
   "outputs": [],
   "source": [
    "# Recency\n",
    "# days since last purchase (considering first day as day after last invoice)\n",
    "df_recency = df2[['customer_id', 'invoice_date']].copy()\n",
    "df_recency = df_recency.drop_duplicates(subset = 'customer_id', keep = 'last')\n",
    "df_recency['recency'] =  (pd.to_datetime('2017-12-08') - df2['invoice_date']).dt.days\n",
    "df_recency.drop(columns=['invoice_date'], inplace = True)\n",
    "\n",
    "# Frequency\n",
    "# nº of transactions a customer did\n",
    "df_ref= df2[['invoice_no', 'customer_id']].groupby(['customer_id']).count().reset_index().rename(columns = {'invoice_no' : 'num_transactions'} ) #'invoice_date',  #['num_of_purchases']\n",
    "\n",
    "# difference between firts and last transaction\n",
    "# if nº purchases made = 1: date range =  today - first purchase date\n",
    "# else last purchase - first purchase\n",
    "func = lambda x: (x.max() - x.min() if (x.max() - x.min()).days != 0 else pd.to_datetime('2017-12-08') - x.min() ).days\n",
    "df_date_range = df2[[ 'customer_id', 'invoice_date' ]].groupby('customer_id').agg( func ).reset_index().rename(columns = {'invoice_date' : 'date_range'})\n",
    "df_ref = df_ref.merge(df_date_range, on = 'customer_id', how = 'left')\n",
    "df_ref['frequency'] = df_ref['num_transactions']/df_ref['date_range']\n",
    "\n",
    "# Monetary\n",
    "# revenue\n",
    "df_revenue = df2[['unit_price','quantity','customer_id']].copy()\n",
    "df_revenue['customer_spend'] = df2['unit_price']*df2['quantity']\n",
    "\n",
    "# sum and mean of revenue\n",
    "df_revenue = df_revenue[['customer_id', 'customer_spend']].groupby('customer_id').agg( ['sum', 'mean'] )#.to_flat_index() #.reset_index(level=['customer_id', 'customer_spend'])\n",
    "\n",
    "df_revenue = pd.DataFrame( df_revenue.to_records() )\n",
    "cols = {\"('customer_spend', 'sum')\" : \"sum_spend\",\n",
    "       \"('customer_spend', 'mean')\" : \"mean_spend\"}\n",
    "df_revenue.rename(columns = cols, inplace = True ) \n"
   ]
  },
  {
   "cell_type": "code",
   "execution_count": 336,
   "metadata": {},
   "outputs": [],
   "source": [
    "# # Testing transformations\n",
    "# df_recency = df2[['customer_id', 'invoice_date']].copy()\n",
    "# df_recency = df_recency.drop_duplicates(subset = 'customer_id', keep = 'last')\n",
    "# df_recency['recency'] =  (pd.to_datetime('2017-12-08') - df2['invoice_date']).dt.days\n",
    "# df_recency.drop(columns=['invoice_date'], inplace = True)\n",
    "# df_recency[df_recency['customer_id'] == 12347]\n",
    "\n",
    "# nº of transactions a customer did\n",
    "# df_ref= df2[['invoice_no', 'customer_id']].groupby(['customer_id']).count().reset_index().rename(columns = {'invoice_no' : 'num_transactions'} ) #'invoice_date',  #['num_of_purchases']\n",
    "# # difference between firts and last transaction\n",
    "# # if nº purchases made = 1: date range =  today - first purchase date\n",
    "# # else last purchase - first purchase\n",
    "# func = lambda x: (x.max() - x.min() if (x.max() - x.min()).days != 0 else pd.to_datetime('2017-12-08') - x.min() ).days\n",
    "# df_date_range = df2[[ 'customer_id', 'invoice_date' ]].groupby('customer_id').agg( func ).reset_index().rename(columns = {'invoice_date' : 'date_range'})\n",
    "# df_ref = df_ref.merge(df_date_range, on = 'customer_id', how = 'left')\n",
    "# df_ref['frequency'] = df_ref['num_transactions']/df_ref['date_range']\n",
    "# df_ref.head()\n",
    "\n",
    "# df_revenue = df2[['unit_price','quantity','customer_id']].copy()\n",
    "# df_revenue['customer_spend'] = df2['unit_price']*df2['quantity']\n",
    "\n",
    "# # # sum and mean of revenue\n",
    "\n",
    "# df_revenue = df_revenue[['customer_id', 'customer_spend']].groupby('customer_id').agg( ['sum', 'mean'] )#.to_flat_index() #.reset_index(level=['customer_id', 'customer_spend'])\n",
    "\n",
    "# df_revenue = pd.DataFrame( df_revenue.to_records() )\n",
    "# cols = {\"('customer_spend', 'sum')\" : \"sum_spend\",\n",
    "#        \"('customer_spend', 'mean')\" : \"mean_spend\"}\n",
    "# df_revenue.rename(columns = cols, inplace = True ) \n",
    "\n",
    "# df_revenue[df_revenue.customer_id == 17850]\n",
    "# df_revenue.head()"
   ]
  },
  {
   "cell_type": "code",
   "execution_count": 340,
   "metadata": {},
   "outputs": [
    {
     "data": {
      "text/html": [
       "<div>\n",
       "<style scoped>\n",
       "    .dataframe tbody tr th:only-of-type {\n",
       "        vertical-align: middle;\n",
       "    }\n",
       "\n",
       "    .dataframe tbody tr th {\n",
       "        vertical-align: top;\n",
       "    }\n",
       "\n",
       "    .dataframe thead th {\n",
       "        text-align: right;\n",
       "    }\n",
       "</style>\n",
       "<table border=\"1\" class=\"dataframe\">\n",
       "  <thead>\n",
       "    <tr style=\"text-align: right;\">\n",
       "      <th></th>\n",
       "      <th>customer_id</th>\n",
       "      <th>country</th>\n",
       "      <th>recency</th>\n",
       "      <th>num_transactions</th>\n",
       "      <th>date_range</th>\n",
       "      <th>frequency</th>\n",
       "      <th>sum_spend</th>\n",
       "      <th>mean_spend</th>\n",
       "    </tr>\n",
       "  </thead>\n",
       "  <tbody>\n",
       "    <tr>\n",
       "      <th>0</th>\n",
       "      <td>17850</td>\n",
       "      <td>United Kingdom</td>\n",
       "      <td>303</td>\n",
       "      <td>312</td>\n",
       "      <td>71</td>\n",
       "      <td>4.394366</td>\n",
       "      <td>5288.63</td>\n",
       "      <td>16.950737</td>\n",
       "    </tr>\n",
       "    <tr>\n",
       "      <th>1</th>\n",
       "      <td>13047</td>\n",
       "      <td>United Kingdom</td>\n",
       "      <td>32</td>\n",
       "      <td>196</td>\n",
       "      <td>342</td>\n",
       "      <td>0.573099</td>\n",
       "      <td>3079.10</td>\n",
       "      <td>15.709694</td>\n",
       "    </tr>\n",
       "    <tr>\n",
       "      <th>2</th>\n",
       "      <td>12583</td>\n",
       "      <td>France</td>\n",
       "      <td>3</td>\n",
       "      <td>251</td>\n",
       "      <td>371</td>\n",
       "      <td>0.676550</td>\n",
       "      <td>7187.34</td>\n",
       "      <td>28.634821</td>\n",
       "    </tr>\n",
       "    <tr>\n",
       "      <th>3</th>\n",
       "      <td>13748</td>\n",
       "      <td>United Kingdom</td>\n",
       "      <td>96</td>\n",
       "      <td>28</td>\n",
       "      <td>278</td>\n",
       "      <td>0.100719</td>\n",
       "      <td>948.25</td>\n",
       "      <td>33.866071</td>\n",
       "    </tr>\n",
       "    <tr>\n",
       "      <th>4</th>\n",
       "      <td>15100</td>\n",
       "      <td>United Kingdom</td>\n",
       "      <td>331</td>\n",
       "      <td>6</td>\n",
       "      <td>43</td>\n",
       "      <td>0.139535</td>\n",
       "      <td>635.10</td>\n",
       "      <td>105.850000</td>\n",
       "    </tr>\n",
       "  </tbody>\n",
       "</table>\n",
       "</div>"
      ],
      "text/plain": [
       "   customer_id         country  recency  num_transactions  date_range  frequency  sum_spend  mean_spend\n",
       "0        17850  United Kingdom      303               312          71   4.394366    5288.63   16.950737\n",
       "1        13047  United Kingdom       32               196         342   0.573099    3079.10   15.709694\n",
       "2        12583          France        3               251         371   0.676550    7187.34   28.634821\n",
       "3        13748  United Kingdom       96                28         278   0.100719     948.25   33.866071\n",
       "4        15100  United Kingdom      331                 6          43   0.139535     635.10  105.850000"
      ]
     },
     "execution_count": 340,
     "metadata": {},
     "output_type": "execute_result"
    }
   ],
   "source": [
    "# Saving dataframe with all transformations\n",
    "df_processed = df2[['customer_id', 'country']].drop_duplicates('customer_id')\n",
    "df_processed = df_processed.merge( df_recency, how = 'left',  on = 'customer_id' )\n",
    "df_processed = df_processed.merge( df_ref,     how = 'left',  on = 'customer_id')\n",
    "df_processed = df_processed.merge( df_revenue, how = 'left',  on = 'customer_id')\n",
    "df_processed.head()\n"
   ]
  },
  {
   "cell_type": "code",
   "execution_count": 341,
   "metadata": {},
   "outputs": [],
   "source": [
    "df_processed.to_csv('../data/interim/df2_interim.csv', index = False)"
   ]
  },
  {
   "cell_type": "markdown",
   "metadata": {
    "heading_collapsed": true
   },
   "source": [
    "# 3.0 Variable Selection"
   ]
  },
  {
   "cell_type": "markdown",
   "metadata": {
    "heading_collapsed": true
   },
   "source": [
    "# 4.0 Exploratory Data Analysis"
   ]
  },
  {
   "cell_type": "markdown",
   "metadata": {
    "heading_collapsed": true,
    "hidden": true
   },
   "source": [
    "## 4.1 Univariate Analysis"
   ]
  },
  {
   "cell_type": "markdown",
   "metadata": {
    "hidden": true
   },
   "source": [
    "### 4.1.1 Response Variable"
   ]
  },
  {
   "cell_type": "markdown",
   "metadata": {
    "hidden": true
   },
   "source": [
    "### 4.1.2 Numerical Variables"
   ]
  },
  {
   "cell_type": "markdown",
   "metadata": {
    "hidden": true
   },
   "source": [
    "### 4.1.3 Categorical Variables"
   ]
  },
  {
   "cell_type": "markdown",
   "metadata": {
    "hidden": true
   },
   "source": [
    "## 4.2 Bivariate Analysis"
   ]
  },
  {
   "cell_type": "markdown",
   "metadata": {},
   "source": [
    "### **H1.**"
   ]
  },
  {
   "cell_type": "markdown",
   "metadata": {},
   "source": [
    "### **H2.**\n"
   ]
  },
  {
   "cell_type": "markdown",
   "metadata": {},
   "source": [
    "### **H3.**"
   ]
  },
  {
   "cell_type": "markdown",
   "metadata": {},
   "source": [
    "### **H4.**"
   ]
  },
  {
   "cell_type": "markdown",
   "metadata": {},
   "source": [
    "### **H5.**"
   ]
  },
  {
   "cell_type": "markdown",
   "metadata": {},
   "source": [
    "### **H6.**"
   ]
  },
  {
   "cell_type": "markdown",
   "metadata": {},
   "source": [
    "### **H7.**"
   ]
  },
  {
   "cell_type": "markdown",
   "metadata": {},
   "source": [
    "### **H8.**"
   ]
  },
  {
   "cell_type": "markdown",
   "metadata": {},
   "source": [
    "### **H9.**"
   ]
  },
  {
   "cell_type": "markdown",
   "metadata": {},
   "source": [
    "### **H10.**"
   ]
  },
  {
   "cell_type": "markdown",
   "metadata": {
    "hidden": true
   },
   "source": [
    "## 4.3 Multivariate Analysis"
   ]
  },
  {
   "cell_type": "markdown",
   "metadata": {
    "hidden": true
   },
   "source": [
    "### 4.3.1 Numerical Attributes"
   ]
  },
  {
   "cell_type": "markdown",
   "metadata": {
    "hidden": true
   },
   "source": [
    "### 4.3.2 Categorical Attributes"
   ]
  },
  {
   "cell_type": "markdown",
   "metadata": {
    "heading_collapsed": true
   },
   "source": [
    "# 5.0 Data Preparation"
   ]
  },
  {
   "cell_type": "markdown",
   "metadata": {
    "hidden": true
   },
   "source": [
    "## 5.1 Numerical Variables Preparation"
   ]
  },
  {
   "cell_type": "code",
   "execution_count": 11,
   "metadata": {},
   "outputs": [],
   "source": [
    "df3 = pd.read_csv('../data/interim/df2_interim.csv')"
   ]
  },
  {
   "cell_type": "markdown",
   "metadata": {
    "hidden": true
   },
   "source": [
    "### 5.1.1 Rescaling"
   ]
  },
  {
   "cell_type": "code",
   "execution_count": 14,
   "metadata": {},
   "outputs": [
    {
     "data": {
      "text/html": [
       "<style type=\"text/css\">\n",
       "</style>\n",
       "<table id=\"T_acfae\">\n",
       "  <thead>\n",
       "    <tr>\n",
       "      <th class=\"blank level0\" >&nbsp;</th>\n",
       "      <th id=\"T_acfae_level0_col0\" class=\"col_heading level0 col0\" >min</th>\n",
       "      <th id=\"T_acfae_level0_col1\" class=\"col_heading level0 col1\" >max</th>\n",
       "      <th id=\"T_acfae_level0_col2\" class=\"col_heading level0 col2\" >range</th>\n",
       "      <th id=\"T_acfae_level0_col3\" class=\"col_heading level0 col3\" >mean</th>\n",
       "      <th id=\"T_acfae_level0_col4\" class=\"col_heading level0 col4\" >median</th>\n",
       "      <th id=\"T_acfae_level0_col5\" class=\"col_heading level0 col5\" >std</th>\n",
       "      <th id=\"T_acfae_level0_col6\" class=\"col_heading level0 col6\" >skew</th>\n",
       "      <th id=\"T_acfae_level0_col7\" class=\"col_heading level0 col7\" >kurtosis</th>\n",
       "    </tr>\n",
       "  </thead>\n",
       "  <tbody>\n",
       "    <tr>\n",
       "      <th id=\"T_acfae_level0_row0\" class=\"row_heading level0 row0\" >customer_id</th>\n",
       "      <td id=\"T_acfae_row0_col0\" class=\"data row0 col0\" >12,346.00</td>\n",
       "      <td id=\"T_acfae_row0_col1\" class=\"data row0 col1\" >18,287.00</td>\n",
       "      <td id=\"T_acfae_row0_col2\" class=\"data row0 col2\" >5,941.00</td>\n",
       "      <td id=\"T_acfae_row0_col3\" class=\"data row0 col3\" >15,299.68</td>\n",
       "      <td id=\"T_acfae_row0_col4\" class=\"data row0 col4\" >15,300.50</td>\n",
       "      <td id=\"T_acfae_row0_col5\" class=\"data row0 col5\" >1,722.39</td>\n",
       "      <td id=\"T_acfae_row0_col6\" class=\"data row0 col6\" >0.00</td>\n",
       "      <td id=\"T_acfae_row0_col7\" class=\"data row0 col7\" >-1.20</td>\n",
       "    </tr>\n",
       "    <tr>\n",
       "      <th id=\"T_acfae_level0_row1\" class=\"row_heading level0 row1\" >recency</th>\n",
       "      <td id=\"T_acfae_row1_col0\" class=\"data row1 col0\" >1.00</td>\n",
       "      <td id=\"T_acfae_row1_col1\" class=\"data row1 col1\" >374.00</td>\n",
       "      <td id=\"T_acfae_row1_col2\" class=\"data row1 col2\" >373.00</td>\n",
       "      <td id=\"T_acfae_row1_col3\" class=\"data row1 col3\" >92.58</td>\n",
       "      <td id=\"T_acfae_row1_col4\" class=\"data row1 col4\" >51.00</td>\n",
       "      <td id=\"T_acfae_row1_col5\" class=\"data row1 col5\" >100.77</td>\n",
       "      <td id=\"T_acfae_row1_col6\" class=\"data row1 col6\" >1.25</td>\n",
       "      <td id=\"T_acfae_row1_col7\" class=\"data row1 col7\" >0.43</td>\n",
       "    </tr>\n",
       "    <tr>\n",
       "      <th id=\"T_acfae_level0_row2\" class=\"row_heading level0 row2\" >num_transactions</th>\n",
       "      <td id=\"T_acfae_row2_col0\" class=\"data row2 col0\" >1.00</td>\n",
       "      <td id=\"T_acfae_row2_col1\" class=\"data row2 col1\" >7,983.00</td>\n",
       "      <td id=\"T_acfae_row2_col2\" class=\"data row2 col2\" >7,982.00</td>\n",
       "      <td id=\"T_acfae_row2_col3\" class=\"data row2 col3\" >93.05</td>\n",
       "      <td id=\"T_acfae_row2_col4\" class=\"data row2 col4\" >42.00</td>\n",
       "      <td id=\"T_acfae_row2_col5\" class=\"data row2 col5\" >232.47</td>\n",
       "      <td id=\"T_acfae_row2_col6\" class=\"data row2 col6\" >18.15</td>\n",
       "      <td id=\"T_acfae_row2_col7\" class=\"data row2 col7\" >486.23</td>\n",
       "    </tr>\n",
       "    <tr>\n",
       "      <th id=\"T_acfae_level0_row3\" class=\"row_heading level0 row3\" >date_range</th>\n",
       "      <td id=\"T_acfae_row3_col0\" class=\"data row3 col0\" >1.00</td>\n",
       "      <td id=\"T_acfae_row3_col1\" class=\"data row3 col1\" >374.00</td>\n",
       "      <td id=\"T_acfae_row3_col2\" class=\"data row3 col2\" >373.00</td>\n",
       "      <td id=\"T_acfae_row3_col3\" class=\"data row3 col3\" >183.38</td>\n",
       "      <td id=\"T_acfae_row3_col4\" class=\"data row3 col4\" >188.00</td>\n",
       "      <td id=\"T_acfae_row3_col5\" class=\"data row3 col5\" >118.73</td>\n",
       "      <td id=\"T_acfae_row3_col6\" class=\"data row3 col6\" >0.03</td>\n",
       "      <td id=\"T_acfae_row3_col7\" class=\"data row3 col7\" >-1.36</td>\n",
       "    </tr>\n",
       "    <tr>\n",
       "      <th id=\"T_acfae_level0_row4\" class=\"row_heading level0 row4\" >frequency</th>\n",
       "      <td id=\"T_acfae_row4_col0\" class=\"data row4 col0\" >0.00</td>\n",
       "      <td id=\"T_acfae_row4_col1\" class=\"data row4 col1\" >162.00</td>\n",
       "      <td id=\"T_acfae_row4_col2\" class=\"data row4 col2\" >162.00</td>\n",
       "      <td id=\"T_acfae_row4_col3\" class=\"data row4 col3\" >1.08</td>\n",
       "      <td id=\"T_acfae_row4_col4\" class=\"data row4 col4\" >0.36</td>\n",
       "      <td id=\"T_acfae_row4_col5\" class=\"data row4 col5\" >4.73</td>\n",
       "      <td id=\"T_acfae_row4_col6\" class=\"data row4 col6\" >20.11</td>\n",
       "      <td id=\"T_acfae_row4_col7\" class=\"data row4 col7\" >522.41</td>\n",
       "    </tr>\n",
       "    <tr>\n",
       "      <th id=\"T_acfae_level0_row5\" class=\"row_heading level0 row5\" >sum_spend</th>\n",
       "      <td id=\"T_acfae_row5_col0\" class=\"data row5 col0\" >-4,287.63</td>\n",
       "      <td id=\"T_acfae_row5_col1\" class=\"data row5 col1\" >279,489.02</td>\n",
       "      <td id=\"T_acfae_row5_col2\" class=\"data row5 col2\" >283,776.65</td>\n",
       "      <td id=\"T_acfae_row5_col3\" class=\"data row5 col3\" >1,898.46</td>\n",
       "      <td id=\"T_acfae_row5_col4\" class=\"data row5 col4\" >648.08</td>\n",
       "      <td id=\"T_acfae_row5_col5\" class=\"data row5 col5\" >8,219.35</td>\n",
       "      <td id=\"T_acfae_row5_col6\" class=\"data row5 col6\" >21.71</td>\n",
       "      <td id=\"T_acfae_row5_col7\" class=\"data row5 col7\" >607.15</td>\n",
       "    </tr>\n",
       "    <tr>\n",
       "      <th id=\"T_acfae_level0_row6\" class=\"row_heading level0 row6\" >mean_spend</th>\n",
       "      <td id=\"T_acfae_row6_col0\" class=\"data row6 col0\" >-4,287.63</td>\n",
       "      <td id=\"T_acfae_row6_col1\" class=\"data row6 col1\" >3,861.00</td>\n",
       "      <td id=\"T_acfae_row6_col2\" class=\"data row6 col2\" >8,148.63</td>\n",
       "      <td id=\"T_acfae_row6_col3\" class=\"data row6 col3\" >28.84</td>\n",
       "      <td id=\"T_acfae_row6_col4\" class=\"data row6 col4\" >16.92</td>\n",
       "      <td id=\"T_acfae_row6_col5\" class=\"data row6 col5\" >127.32</td>\n",
       "      <td id=\"T_acfae_row6_col6\" class=\"data row6 col6\" >2.44</td>\n",
       "      <td id=\"T_acfae_row6_col7\" class=\"data row6 col7\" >602.36</td>\n",
       "    </tr>\n",
       "  </tbody>\n",
       "</table>\n"
      ],
      "text/plain": [
       "<pandas.io.formats.style.Styler at 0x7f683a193760>"
      ]
     },
     "execution_count": 14,
     "metadata": {},
     "output_type": "execute_result"
    }
   ],
   "source": [
    "# df3.hist();\n",
    "num_att = df3.select_dtypes(include= ['int','float'])\n",
    "d1 = pd.DataFrame( num_att.min() ).T\n",
    "d2 = pd.DataFrame( num_att.max() ).T\n",
    "d3 = pd.DataFrame( num_att.max() - num_att.min() ).T\n",
    "d4 = pd.DataFrame( num_att.mean() ).T\n",
    "d5 = pd.DataFrame( num_att.median() ).T\n",
    "d6 = pd.DataFrame( num_att.std() ).T\n",
    "d7 = pd.DataFrame( num_att.skew() ).T\n",
    "d8 = pd.DataFrame( num_att.kurtosis() ).T\n",
    "\n",
    "desc = pd.concat( [d1, d2, d3, d4, d5, d6, d7, d8] ).T\n",
    "desc.columns = ['min', 'max', 'range', 'mean', 'median', 'std', 'skew', 'kurtosis' ]\n",
    "desc.style.format( \"{:,.2f}\" )"
   ]
  },
  {
   "cell_type": "code",
   "execution_count": 15,
   "metadata": {},
   "outputs": [
    {
     "data": {
      "image/png": "[encoded data removed]",
      "text/plain": [
       "<Figure size 1800x864 with 9 Axes>"
      ]
     },
     "metadata": {},
     "output_type": "display_data"
    }
   ],
   "source": [
    "df3.hist();"
   ]
  },
  {
   "cell_type": "code",
   "execution_count": 79,
   "metadata": {},
   "outputs": [
    {
     "data": {
      "text/plain": [
       "array([ 0.53562836,  0.55354923,  0.08846406,  0.14365808, -0.10312925,\n",
       "        1.33606857,  0.29277964])"
      ]
     },
     "execution_count": 79,
     "metadata": {},
     "output_type": "execute_result"
    }
   ],
   "source": [
    "from sklearn.preprocessing import FunctionTransformer, MinMaxScaler, StandardScaler, OrdinalEncoder\n",
    "from sklearn.pipeline import make_pipeline, Pipeline\n",
    "from sklearn.compose import ColumnTransformer, make_column_transformer \n",
    "\n",
    "df3_t = df3.drop(columns = 'customer_id').copy()\n",
    "\n",
    "# df3_t = df3_t.apply(lambda x: np.log1p(x[['recency', 'num_transactions', 'frequency', 'sum_spend', 'mean_spend']]), axis =1 )\n",
    "# df3_t[['recency', 'num_transactions', 'frequency', 'sum_spend', 'mean_spend']] =df3_t[['recency', 'num_transactions', 'frequency', 'sum_spend', 'mean_spend']].apply(lambda x: np.log1p(x), axis =1 )\n",
    "# df3_t.hist();\n",
    "# ['recency', 'num_transactions', 'frequency', 'sum_spend', 'mean_spend']\n",
    "\n",
    "log_cols = ['recency', 'num_transactions', 'frequency']\n",
    "std_cols = ['sum_spend', 'mean_spend', 'date_range'] #+ log_cols\n",
    "cat_cols = ['country']\n",
    "\n",
    "log1p = FunctionTransformer(np.log1p)\n",
    "ct_log = ColumnTransformer( transformers=[ ('log', log1p, log_cols),\n",
    "('std', StandardScaler(), std_cols),\n",
    "('cat', OrdinalEncoder(), cat_cols ) ] )\n",
    "#pipe = make_pipeline( [ ct_log, MinMaxScaler() ], remainder = 'passthrough' )\n",
    "pipe = make_pipeline( ct_log  )\n",
    "\n",
    "res = pipe.fit_transform(df3_t, MinMaxScaler() )\n",
    "\n",
    "# applying log and minmax scaler to log cols\n",
    "log_pipe = Pipeline(steps = [ ('log', log1p), ('min_max', MinMaxScaler()) ] )\n",
    "ct_log = ColumnTransformer( transformers = [ ('log', log_pipe, log_cols) ] ) \n",
    "\n",
    "# applying std scaler to std cols\n",
    "std_pipe = make_pipeline( (StandardScaler() ) )\n",
    "\n",
    "# Label Encoding and std_scaler to catgorical columns\n",
    "label_pipe = make_pipeline( OrdinalEncoder(), StandardScaler() )\n",
    "\n",
    "preprocessor = ColumnTransformer( \n",
    "    transformers=[ ('log', log_pipe, log_cols), \n",
    "    ('std', std_pipe, std_cols), \n",
    "    ('label', label_pipe, cat_cols) ])\n",
    "res = preprocessor.fit_transform(df3_t)\n",
    "\n",
    "res[1]\n"
   ]
  },
  {
   "cell_type": "markdown",
   "metadata": {
    "heading_collapsed": true
   },
   "source": [
    "# 6.0 Feature Selection"
   ]
  },
  {
   "cell_type": "markdown",
   "metadata": {
    "hidden": true
   },
   "source": [
    "## 6.1 Spliting Dataframe into Train Test "
   ]
  },
  {
   "cell_type": "markdown",
   "metadata": {
    "hidden": true
   },
   "source": [
    "## 6.2 Boruta Feature Selection"
   ]
  },
  {
   "cell_type": "markdown",
   "metadata": {
    "hidden": true
   },
   "source": [
    "## 6.3 Results and Considerations"
   ]
  },
  {
   "cell_type": "markdown",
   "metadata": {},
   "source": [
    "# 7.0 Model Testing"
   ]
  },
  {
   "cell_type": "markdown",
   "metadata": {},
   "source": [
    "## Testing KMeans"
   ]
  },
  {
   "cell_type": "code",
   "execution_count": 88,
   "metadata": {},
   "outputs": [],
   "source": [
    "from sklearn.cluster import KMeans\n",
    "from sklearn import metrics as m"
   ]
  },
  {
   "cell_type": "code",
   "execution_count": 106,
   "metadata": {},
   "outputs": [],
   "source": [
    "n_clusters = 10\n",
    "silhouette = []\n",
    "\n",
    "for n in range(2, n_clusters+1):\n",
    "    # kmeans\n",
    "    pipeline = make_pipeline( KMeans(n_clusters = n, random_state = 42) )\n",
    "    labels = pipeline.fit_predict(res)\n",
    "\n",
    "    #calculating silhouette score\n",
    "    sil = m.silhouette_score(res, labels)\n",
    "    silhouette.append(sil)"
   ]
  },
  {
   "cell_type": "code",
   "execution_count": 107,
   "metadata": {},
   "outputs": [
    {
     "data": {
      "image/png": "[encoded data removed]",
      "text/plain": [
       "<Figure size 1800x864 with 1 Axes>"
      ]
     },
     "metadata": {},
     "output_type": "display_data"
    }
   ],
   "source": [
    "plt.plot(np.arange(2, n_clusters +1), silhouette, marker = 'o', linestyle = '--', color = 'black')\n",
    "plt.legend('Baseline Silhouette Score for cycle 1 KMeans')\n",
    "plt.xlabel('Nº of Clusters')\n",
    "plt.ylabel('Silhouette Score');"
   ]
  },
  {
   "cell_type": "markdown",
   "metadata": {},
   "source": [
    "## 7.2 Comparing Model's Performances"
   ]
  },
  {
   "cell_type": "markdown",
   "metadata": {},
   "source": [
    "# 9.0 Error Interpretation"
   ]
  },
  {
   "cell_type": "markdown",
   "metadata": {},
   "source": [
    "## 9.1 Total Performance - Business Perspective"
   ]
  },
  {
   "cell_type": "markdown",
   "metadata": {},
   "source": [
    "## 9.2 Machine Learning Performance"
   ]
  },
  {
   "cell_type": "markdown",
   "metadata": {},
   "source": [
    "# 10 Model Deployment"
   ]
  }
 ],
 "metadata": {
  "interpreter": {
   "hash": "4be9c22c924916f4f0290c88182d986b0302ce23f90563ec15842ba76b709463"
  },
  "kernelspec": {
   "display_name": "Python 3.8.0 64-bit ('insiders')",
   "language": "python",
   "name": "python3"
  },
  "language_info": {
   "codemirror_mode": {
    "name": "ipython",
    "version": 3
   },
   "file_extension": ".py",
   "mimetype": "text/x-python",
   "name": "python",
   "nbconvert_exporter": "python",
   "pygments_lexer": "ipython3",
   "version": "3.8.0"
  },
  "orig_nbformat": 4
 },
 "nbformat": 4,
 "nbformat_minor": 2
}
